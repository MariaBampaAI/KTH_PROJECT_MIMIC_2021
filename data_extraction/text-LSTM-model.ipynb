{
 "cells": [
  {
   "cell_type": "code",
   "execution_count": 1,
   "metadata": {},
   "outputs": [],
   "source": [
    "import pandas as pd\n",
    "import numpy as np\n",
    "\n",
    "from tensorflow import keras\n",
    "from sklearn.model_selection import train_test_split\n",
    "from sklearn.metrics import accuracy_score, confusion_matrix, classification_report, balanced_accuracy_score, roc_auc_score\n",
    "from keras_preprocessing.text import Tokenizer\n",
    "\n",
    "import matplotlib.pyplot as plt"
   ]
  },
  {
   "cell_type": "code",
   "execution_count": 2,
   "metadata": {},
   "outputs": [],
   "source": [
    "import os\n",
    "import tensorflow as tf\n",
    "import random\n",
    "# fix the random seed for tensorflow models\n",
    "os.environ['TF_DETERMINISTIC_OPS'] = '1' \n",
    "SEED = 39\n",
    "random.seed(SEED)\n",
    "np.random.seed(SEED)\n",
    "tf.random.set_seed(SEED)\n",
    "\n",
    "# set to use flexible GPU resources  \n",
    "config = tf.compat.v1.ConfigProto()\n",
    "config.gpu_options.allow_growth = True\n",
    "session = tf.compat.v1.Session(config=config)"
   ]
  },
  {
   "cell_type": "code",
   "execution_count": 3,
   "metadata": {
    "scrolled": true
   },
   "outputs": [
    {
     "name": "stdout",
     "output_type": "stream",
     "text": [
      "Num GPUs Available: 1.\n"
     ]
    }
   ],
   "source": [
    "print(f\"Num GPUs Available: {len(tf.config.list_physical_devices('GPU'))}.\")"
   ]
  },
  {
   "cell_type": "markdown",
   "metadata": {},
   "source": [
    "## Load data"
   ]
  },
  {
   "cell_type": "code",
   "execution_count": null,
   "metadata": {},
   "outputs": [],
   "source": [
    "text_data = pd.read_csv('./texts.csv')\n",
    "\n",
    "text_data.head()"
   ]
  },
  {
   "cell_type": "code",
   "execution_count": 5,
   "metadata": {},
   "outputs": [],
   "source": [
    "# X, y = text_data['text'], text_data['mortality']\n",
    "\n",
    "# X_train, X_test, y_train, y_test = train_test_split(X, y, test_size=0.2, random_state=39, stratify=y)"
   ]
  },
  {
   "cell_type": "code",
   "execution_count": 6,
   "metadata": {},
   "outputs": [],
   "source": [
    "with open('./ids.npy', 'rb') as f:\n",
    "    join_train_hadm_idx = np.load(f)\n",
    "    join_val_hadm_idx = np.load(f)\n",
    "    join_test_hadm_idx = np.load(f)"
   ]
  },
  {
   "cell_type": "code",
   "execution_count": 7,
   "metadata": {},
   "outputs": [],
   "source": [
    "train_data = text_data[text_data['hadm_id'].isin(set(join_train_hadm_idx))]\n",
    "val_data = text_data[text_data['hadm_id'].isin(set(join_val_hadm_idx))]\n",
    "test_data = text_data[text_data['hadm_id'].isin(set(join_test_hadm_idx))]\n",
    "\n",
    "X_train, y_train = train_data['text'],  train_data['mortality']\n",
    "X_val, y_val = val_data['text'],  val_data['mortality']\n",
    "X_test, y_test = test_data['text'],  test_data['mortality']"
   ]
  },
  {
   "cell_type": "code",
   "execution_count": 8,
   "metadata": {},
   "outputs": [],
   "source": [
    "NUM_WORDS = 3000\n",
    "\n",
    "# Tokenize the train text\n",
    "train_text = X_train.to_numpy()\n",
    "\n",
    "tokenizer = Tokenizer(\n",
    "    num_words=NUM_WORDS, \n",
    "    filters='!\"#$%&()*+,-./:;<=>?@[\\\\]^_`{|}~\\t\\n', \n",
    "    lower=True,\n",
    "    split=\" \",\n",
    "    char_level=False,\n",
    "    oov_token='<unk>',\n",
    "    document_count=0\n",
    ")\n",
    "\n",
    "tokenizer.fit_on_texts(train_text)\n",
    "tokenizer.word_index['<pad>'] = 0\n",
    "tokenizer.index_word[0] = '<pad>'"
   ]
  },
  {
   "cell_type": "code",
   "execution_count": 9,
   "metadata": {},
   "outputs": [],
   "source": [
    "MAX_LEN = 1000\n",
    "\n",
    "X_train_seqs = tokenizer.texts_to_sequences(train_text)\n",
    "X_train_seqs = keras.preprocessing.sequence.pad_sequences(X_train_seqs, maxlen=MAX_LEN, padding='post')\n",
    "y_train_labels = y_train.to_numpy().flatten()\n",
    "\n",
    "X_val_text = X_val.to_numpy()\n",
    "X_val_seqs = tokenizer.texts_to_sequences(X_val_text)\n",
    "X_val_seqs = keras.preprocessing.sequence.pad_sequences(X_val_seqs, maxlen=MAX_LEN, padding='post')\n",
    "y_val_labels = y_val.to_numpy().flatten()\n",
    "\n",
    "X_test_text = X_test.to_numpy()\n",
    "X_test_seqs = tokenizer.texts_to_sequences(X_test_text)\n",
    "X_test_seqs = keras.preprocessing.sequence.pad_sequences(X_test_seqs, maxlen=MAX_LEN, padding='post')\n",
    "y_test_labels = y_test.to_numpy().flatten()"
   ]
  },
  {
   "cell_type": "code",
   "execution_count": 10,
   "metadata": {
    "scrolled": true
   },
   "outputs": [
    {
     "data": {
      "text/plain": [
       "array([[ 147,  807,  976, ...,  149,    1,    2],\n",
       "       [  14, 1403,   82, ...,  108,  764,  767],\n",
       "       [   7,  151, 1162, ...,   63,  712,  332],\n",
       "       ...,\n",
       "       [ 113,   74, 1416, ...,    0,    0,    0],\n",
       "       [ 113,   74,  831, ...,    0,    0,    0],\n",
       "       [ 274,  508, 1523, ...,    0,    0,    0]], dtype=int32)"
      ]
     },
     "execution_count": 10,
     "metadata": {},
     "output_type": "execute_result"
    }
   ],
   "source": [
    "X_train_seqs"
   ]
  },
  {
   "cell_type": "code",
   "execution_count": 11,
   "metadata": {},
   "outputs": [
    {
     "data": {
      "text/plain": [
       "(1529, 1000)"
      ]
     },
     "execution_count": 11,
     "metadata": {},
     "output_type": "execute_result"
    }
   ],
   "source": [
    "X_train_seqs.shape\n",
    "\n",
    "# (30455, 606752) without preprocessing/limiting and truncating"
   ]
  },
  {
   "cell_type": "code",
   "execution_count": 12,
   "metadata": {},
   "outputs": [
    {
     "name": "stdout",
     "output_type": "stream",
     "text": [
      "0    1256\n",
      "1     273\n",
      "Name: mortality, dtype: int64\n",
      "0    177\n",
      "1     42\n",
      "Name: mortality, dtype: int64\n",
      "0    369\n",
      "1     68\n",
      "Name: mortality, dtype: int64\n"
     ]
    }
   ],
   "source": [
    "print(pd.value_counts(y_train))\n",
    "print(pd.value_counts(y_val))\n",
    "print(pd.value_counts(y_test))"
   ]
  },
  {
   "cell_type": "markdown",
   "metadata": {},
   "source": [
    "## Compensate for imbalanced data"
   ]
  },
  {
   "cell_type": "code",
   "execution_count": 13,
   "metadata": {},
   "outputs": [
    {
     "name": "stdout",
     "output_type": "stream",
     "text": [
      "Examples:\n",
      "    Total: 1529\n",
      "    Positive: 273 (17.85% of total)\n",
      "\n"
     ]
    }
   ],
   "source": [
    "neg, pos = np.bincount(y_train_labels)\n",
    "total = neg + pos\n",
    "print('Examples:\\n    Total: {}\\n    Positive: {} ({:.2f}% of total)\\n'.format(total, pos, 100 * pos / total))"
   ]
  },
  {
   "cell_type": "code",
   "execution_count": 14,
   "metadata": {},
   "outputs": [
    {
     "name": "stdout",
     "output_type": "stream",
     "text": [
      "Weight for class 0: 0.61\n",
      "Weight for class 1: 2.80\n"
     ]
    }
   ],
   "source": [
    "# Scaling by total/2 helps keep the loss to a similar magnitude.\n",
    "# The sum of the weights of all examples stays the same.\n",
    "weight_for_0 = (1 / neg) * (total / 2.0)\n",
    "weight_for_1 = (1 / pos) * (total / 2.0)\n",
    "\n",
    "class_weight = {0: weight_for_0, 1: weight_for_1}\n",
    "\n",
    "print('Weight for class 0: {:.2f}'.format(weight_for_0))\n",
    "print('Weight for class 1: {:.2f}'.format(weight_for_1))"
   ]
  },
  {
   "cell_type": "code",
   "execution_count": 15,
   "metadata": {},
   "outputs": [
    {
     "data": {
      "text/plain": [
       "array([-1.52621555])"
      ]
     },
     "execution_count": 15,
     "metadata": {},
     "output_type": "execute_result"
    }
   ],
   "source": [
    "initial_bias = np.log([pos/neg])\n",
    "initial_bias"
   ]
  },
  {
   "cell_type": "markdown",
   "metadata": {},
   "source": [
    "## LSTM model"
   ]
  },
  {
   "cell_type": "markdown",
   "metadata": {},
   "source": [
    "### simple LSTM"
   ]
  },
  {
   "cell_type": "code",
   "execution_count": 16,
   "metadata": {},
   "outputs": [],
   "source": [
    "# Method: For plotting the accuracy/loss of keras models\n",
    "def plot_graphs(history, string):\n",
    "    plt.plot(history.history[string])\n",
    "    plt.plot(history.history['val_'+string])\n",
    "    plt.xlabel(\"Epochs\")\n",
    "    plt.ylabel(string)\n",
    "    plt.legend([string, 'val_'+string])\n",
    "    plt.show()"
   ]
  },
  {
   "cell_type": "code",
   "execution_count": 17,
   "metadata": {},
   "outputs": [],
   "source": [
    "def SimpleClassifier(input_size, initial_bias):\n",
    "    # Define the model structure - only LSTM layers\n",
    "    inputs = keras.Input(input_size,)\n",
    "    x = keras.layers.Embedding(input_dim=NUM_WORDS, output_dim=64, input_length=input_size)(inputs)\n",
    "    x = keras.layers.LSTM(32, activation='tanh')(x)\n",
    "    outputs = keras.layers.Dense(1, activation='sigmoid', \n",
    "                                 bias_initializer=keras.initializers.Constant(initial_bias))(x)\n",
    "\n",
    "    classifier = keras.Model(inputs, outputs)\n",
    "    \n",
    "    optimizer = keras.optimizers.RMSprop(learning_rate=0.001)\n",
    "    classifier.compile(optimizer=optimizer, loss='binary_crossentropy', metrics=['accuracy'])\n",
    "    return classifier"
   ]
  },
  {
   "cell_type": "code",
   "execution_count": 18,
   "metadata": {},
   "outputs": [
    {
     "name": "stdout",
     "output_type": "stream",
     "text": [
      "Model: \"model\"\n",
      "_________________________________________________________________\n",
      "Layer (type)                 Output Shape              Param #   \n",
      "=================================================================\n",
      "input_1 (InputLayer)         [(None, 1000)]            0         \n",
      "_________________________________________________________________\n",
      "embedding (Embedding)        (None, 1000, 64)          192000    \n",
      "_________________________________________________________________\n",
      "lstm (LSTM)                  (None, 32)                12416     \n",
      "_________________________________________________________________\n",
      "dense (Dense)                (None, 1)                 33        \n",
      "=================================================================\n",
      "Total params: 204,449\n",
      "Trainable params: 204,449\n",
      "Non-trainable params: 0\n",
      "_________________________________________________________________\n"
     ]
    }
   ],
   "source": [
    "classifier1 = SimpleClassifier(input_size=MAX_LEN, initial_bias=initial_bias)\n",
    "\n",
    "classifier1.summary()"
   ]
  },
  {
   "cell_type": "code",
   "execution_count": 19,
   "metadata": {
    "scrolled": true
   },
   "outputs": [
    {
     "name": "stdout",
     "output_type": "stream",
     "text": [
      "Epoch 1/50\n",
      "12/12 [==============================] - 3s 102ms/step - loss: 0.8353 - accuracy: 0.7945 - val_loss: 0.8328 - val_accuracy: 0.1579\n",
      "Epoch 2/50\n",
      "12/12 [==============================] - 1s 56ms/step - loss: 0.6424 - accuracy: 0.5712 - val_loss: 0.5123 - val_accuracy: 0.8146\n",
      "Epoch 3/50\n",
      "12/12 [==============================] - 1s 55ms/step - loss: 0.5874 - accuracy: 0.7545 - val_loss: 0.4524 - val_accuracy: 0.8352\n",
      "Epoch 4/50\n",
      "12/12 [==============================] - 1s 57ms/step - loss: 0.5197 - accuracy: 0.8475 - val_loss: 0.5695 - val_accuracy: 0.7277\n",
      "Epoch 5/50\n",
      "12/12 [==============================] - 1s 56ms/step - loss: 0.4280 - accuracy: 0.8451 - val_loss: 0.5735 - val_accuracy: 0.7506\n",
      "Epoch 6/50\n",
      "12/12 [==============================] - 1s 56ms/step - loss: 0.3912 - accuracy: 0.8895 - val_loss: 0.5599 - val_accuracy: 0.7735\n",
      "Epoch 7/50\n",
      "12/12 [==============================] - 1s 56ms/step - loss: 0.3608 - accuracy: 0.8945 - val_loss: 0.8534 - val_accuracy: 0.5172\n",
      "Epoch 8/50\n",
      "12/12 [==============================] - 1s 55ms/step - loss: 0.3631 - accuracy: 0.8437 - val_loss: 0.6044 - val_accuracy: 0.7826\n",
      "Epoch 9/50\n",
      "12/12 [==============================] - 1s 55ms/step - loss: 0.2994 - accuracy: 0.9356 - val_loss: 0.4014 - val_accuracy: 0.8535\n",
      "Epoch 10/50\n",
      "12/12 [==============================] - 1s 54ms/step - loss: 0.2991 - accuracy: 0.9169 - val_loss: 0.4595 - val_accuracy: 0.8307\n",
      "Epoch 11/50\n",
      "12/12 [==============================] - 1s 55ms/step - loss: 0.2874 - accuracy: 0.9078 - val_loss: 0.4592 - val_accuracy: 0.8352\n",
      "Epoch 12/50\n",
      "12/12 [==============================] - 1s 56ms/step - loss: 0.2310 - accuracy: 0.9572 - val_loss: 0.4117 - val_accuracy: 0.8535\n",
      "Epoch 13/50\n",
      "12/12 [==============================] - 1s 55ms/step - loss: 0.2223 - accuracy: 0.9520 - val_loss: 0.5464 - val_accuracy: 0.8352\n",
      "Epoch 14/50\n",
      "12/12 [==============================] - 1s 56ms/step - loss: 0.2324 - accuracy: 0.9606 - val_loss: 0.4973 - val_accuracy: 0.8467\n",
      "Epoch 15/50\n",
      "12/12 [==============================] - 1s 56ms/step - loss: 0.2262 - accuracy: 0.9251 - val_loss: 0.4185 - val_accuracy: 0.8604\n",
      "Epoch 16/50\n",
      "12/12 [==============================] - 1s 55ms/step - loss: 0.1799 - accuracy: 0.9716 - val_loss: 0.4212 - val_accuracy: 0.8650\n",
      "Epoch 17/50\n",
      "12/12 [==============================] - 1s 56ms/step - loss: 0.1978 - accuracy: 0.9705 - val_loss: 0.5965 - val_accuracy: 0.8535\n",
      "Epoch 18/50\n",
      "12/12 [==============================] - 1s 55ms/step - loss: 0.1962 - accuracy: 0.9668 - val_loss: 0.4946 - val_accuracy: 0.8627\n",
      "Epoch 19/50\n",
      "12/12 [==============================] - 1s 57ms/step - loss: 0.1948 - accuracy: 0.9634 - val_loss: 0.4774 - val_accuracy: 0.8490\n",
      "Epoch 20/50\n",
      "12/12 [==============================] - 1s 55ms/step - loss: 0.1742 - accuracy: 0.9728 - val_loss: 0.5616 - val_accuracy: 0.8513\n",
      "Epoch 21/50\n",
      "12/12 [==============================] - 1s 56ms/step - loss: 0.1848 - accuracy: 0.9685 - val_loss: 0.5298 - val_accuracy: 0.8535\n",
      "Epoch 22/50\n",
      "12/12 [==============================] - 1s 56ms/step - loss: 0.2064 - accuracy: 0.9364 - val_loss: 0.5285 - val_accuracy: 0.8444\n",
      "Epoch 23/50\n",
      "12/12 [==============================] - 1s 56ms/step - loss: 0.1936 - accuracy: 0.9655 - val_loss: 0.5878 - val_accuracy: 0.8513\n",
      "Epoch 24/50\n",
      "12/12 [==============================] - 1s 55ms/step - loss: 0.1628 - accuracy: 0.9598 - val_loss: 0.4863 - val_accuracy: 0.8604\n",
      "Epoch 25/50\n",
      "12/12 [==============================] - 1s 56ms/step - loss: 0.2064 - accuracy: 0.9613 - val_loss: 0.5963 - val_accuracy: 0.8490\n",
      "Epoch 26/50\n",
      "12/12 [==============================] - 1s 55ms/step - loss: 0.1952 - accuracy: 0.9622 - val_loss: 0.5857 - val_accuracy: 0.8284\n"
     ]
    }
   ],
   "source": [
    "# Define the early stopping criteria\n",
    "early_stopping_accuracy = keras.callbacks.EarlyStopping(monitor='val_accuracy', patience=10, restore_best_weights=True)\n",
    "\n",
    "# Train the model\n",
    "# reset_seeds()\n",
    "classifier_history1 = classifier1.fit(X_train_seqs, \n",
    "          y_train_labels, \n",
    "          epochs=50,\n",
    "          batch_size=128,\n",
    "          shuffle=True, \n",
    "          verbose=True, \n",
    "          validation_data=(X_test_seqs, y_test_labels),\n",
    "          callbacks=[early_stopping_accuracy],\n",
    "          class_weight=class_weight)"
   ]
  },
  {
   "cell_type": "code",
   "execution_count": 20,
   "metadata": {},
   "outputs": [
    {
     "data": {
      "image/png": "[encoded data removed]",
      "text/plain": [
       "<Figure size 432x288 with 1 Axes>"
      ]
     },
     "metadata": {
      "needs_background": "light"
     },
     "output_type": "display_data"
    },
    {
     "data": {
      "image/png": "[encoded data removed]",
      "text/plain": [
       "<Figure size 432x288 with 1 Axes>"
      ]
     },
     "metadata": {
      "needs_background": "light"
     },
     "output_type": "display_data"
    }
   ],
   "source": [
    "plot_graphs(classifier_history1, \"loss\")\n",
    "plot_graphs(classifier_history1, \"accuracy\")"
   ]
  },
  {
   "cell_type": "code",
   "execution_count": 21,
   "metadata": {},
   "outputs": [
    {
     "name": "stdout",
     "output_type": "stream",
     "text": [
      "0.8649885583524027\n",
      "0.6021640363462458\n",
      "0.6479355970030287\n",
      "          Pred:pos  Pred:neg\n",
      "True:pos        15        53\n",
      "True:neg         6       363\n",
      "              precision    recall  f1-score   support\n",
      "\n",
      "           0       0.87      0.98      0.92       369\n",
      "           1       0.71      0.22      0.34        68\n",
      "\n",
      "    accuracy                           0.86       437\n",
      "   macro avg       0.79      0.60      0.63       437\n",
      "weighted avg       0.85      0.86      0.83       437\n",
      "\n"
     ]
    }
   ],
   "source": [
    "y_pred = classifier1.predict(X_test_seqs)\n",
    "y_pred_classes = np.array([1 if pred > 0.5 else 0 for pred in y_pred])\n",
    "\n",
    "# classification report\n",
    "acc = accuracy_score(y_true=y_test_labels, y_pred=y_pred_classes)\n",
    "print(acc)\n",
    "\n",
    "bal_acc = balanced_accuracy_score(y_true=y_test, y_pred=y_pred_classes)\n",
    "print(bal_acc)\n",
    "\n",
    "auc = roc_auc_score(y_true=y_test_labels, y_score=y_pred)\n",
    "print(auc)\n",
    "\n",
    "confusion_matrix_df = pd.DataFrame(\n",
    "        confusion_matrix(y_true=y_test_labels, y_pred=y_pred_classes, labels=[1, 0]),\n",
    "        index=['True:pos', 'True:neg'], \n",
    "        columns=['Pred:pos', 'Pred:neg']\n",
    "    )\n",
    "print(confusion_matrix_df)\n",
    "\n",
    "print(classification_report(y_true=y_test_labels, y_pred=y_pred_classes))"
   ]
  },
  {
   "cell_type": "markdown",
   "metadata": {},
   "source": [
    "### Adding regularization"
   ]
  },
  {
   "cell_type": "code",
   "execution_count": 22,
   "metadata": {},
   "outputs": [],
   "source": [
    "def RegularizedClassifier(input_size, initial_bias):\n",
    "    # Define the model structure - only LSTM layers\n",
    "    inputs = keras.Input(input_size,)\n",
    "    x = keras.layers.Embedding(input_dim=NUM_WORDS, output_dim=64, input_length=input_size)(inputs)\n",
    "    x = keras.layers.LSTM(32, activation='tanh', kernel_regularizer=keras.regularizers.L1L2(l1=0.01, l2=0.01))(x)\n",
    "    outputs = keras.layers.Dense(1, activation='sigmoid', \n",
    "                                 bias_initializer=keras.initializers.Constant(initial_bias))(x)\n",
    "\n",
    "    classifier = keras.Model(inputs, outputs)\n",
    "    \n",
    "    optimizer = keras.optimizers.RMSprop(learning_rate=0.001)\n",
    "    classifier.compile(optimizer=optimizer, loss='binary_crossentropy', metrics=['accuracy'])\n",
    "    return classifier"
   ]
  },
  {
   "cell_type": "code",
   "execution_count": 23,
   "metadata": {},
   "outputs": [
    {
     "name": "stdout",
     "output_type": "stream",
     "text": [
      "Model: \"model_1\"\n",
      "_________________________________________________________________\n",
      "Layer (type)                 Output Shape              Param #   \n",
      "=================================================================\n",
      "input_2 (InputLayer)         [(None, 1000)]            0         \n",
      "_________________________________________________________________\n",
      "embedding_1 (Embedding)      (None, 1000, 64)          192000    \n",
      "_________________________________________________________________\n",
      "lstm_1 (LSTM)                (None, 32)                12416     \n",
      "_________________________________________________________________\n",
      "dense_1 (Dense)              (None, 1)                 33        \n",
      "=================================================================\n",
      "Total params: 204,449\n",
      "Trainable params: 204,449\n",
      "Non-trainable params: 0\n",
      "_________________________________________________________________\n"
     ]
    }
   ],
   "source": [
    "classifier2 = RegularizedClassifier(input_size=MAX_LEN, initial_bias=initial_bias)\n",
    "\n",
    "classifier2.summary()"
   ]
  },
  {
   "cell_type": "code",
   "execution_count": 24,
   "metadata": {
    "scrolled": true
   },
   "outputs": [
    {
     "name": "stdout",
     "output_type": "stream",
     "text": [
      "Epoch 1/50\n",
      "12/12 [==============================] - 2s 80ms/step - loss: 8.4010 - accuracy: 0.8196 - val_loss: 7.1581 - val_accuracy: 0.1556\n",
      "Epoch 2/50\n",
      "12/12 [==============================] - 1s 56ms/step - loss: 6.7565 - accuracy: 0.5712 - val_loss: 5.9307 - val_accuracy: 0.8261\n",
      "Epoch 3/50\n",
      "12/12 [==============================] - 1s 56ms/step - loss: 5.7561 - accuracy: 0.6817 - val_loss: 4.9085 - val_accuracy: 0.8444\n",
      "Epoch 4/50\n",
      "12/12 [==============================] - 1s 57ms/step - loss: 4.9034 - accuracy: 0.7463 - val_loss: 4.2974 - val_accuracy: 0.6270\n",
      "Epoch 5/50\n",
      "12/12 [==============================] - 1s 56ms/step - loss: 4.1038 - accuracy: 0.7368 - val_loss: 3.6596 - val_accuracy: 0.6178\n",
      "Epoch 6/50\n",
      "12/12 [==============================] - 1s 55ms/step - loss: 3.4157 - accuracy: 0.7368 - val_loss: 2.9500 - val_accuracy: 0.7254\n",
      "Epoch 7/50\n",
      "12/12 [==============================] - 1s 57ms/step - loss: 2.7638 - accuracy: 0.8249 - val_loss: 2.8785 - val_accuracy: 0.2609\n",
      "Epoch 8/50\n",
      "12/12 [==============================] - 1s 55ms/step - loss: 2.3140 - accuracy: 0.7368 - val_loss: 2.7095 - val_accuracy: 0.2769\n",
      "Epoch 9/50\n",
      "12/12 [==============================] - 1s 56ms/step - loss: 1.9139 - accuracy: 0.7429 - val_loss: 1.5937 - val_accuracy: 0.7346\n",
      "Epoch 10/50\n",
      "12/12 [==============================] - 1s 57ms/step - loss: 1.4053 - accuracy: 0.8632 - val_loss: 1.2101 - val_accuracy: 0.8101\n",
      "Epoch 11/50\n",
      "12/12 [==============================] - 1s 56ms/step - loss: 1.1053 - accuracy: 0.8775 - val_loss: 1.1064 - val_accuracy: 0.7551\n",
      "Epoch 12/50\n",
      "12/12 [==============================] - 1s 56ms/step - loss: 0.9172 - accuracy: 0.8508 - val_loss: 1.0514 - val_accuracy: 0.6087\n",
      "Epoch 13/50\n",
      "12/12 [==============================] - 1s 56ms/step - loss: 0.8132 - accuracy: 0.8299 - val_loss: 0.7856 - val_accuracy: 0.7689\n"
     ]
    }
   ],
   "source": [
    "# Train the model\n",
    "# reset_seeds()\n",
    "classifier_history2 = classifier2.fit(X_train_seqs, \n",
    "          y_train_labels, \n",
    "          epochs=50,\n",
    "          batch_size=128,\n",
    "          shuffle=True, \n",
    "          verbose=True, \n",
    "          validation_data=(X_test_seqs, y_test_labels),\n",
    "          callbacks=[early_stopping_accuracy],\n",
    "          class_weight=class_weight)"
   ]
  },
  {
   "cell_type": "code",
   "execution_count": 25,
   "metadata": {},
   "outputs": [
    {
     "data": {
      "image/png": "[encoded data removed]",
      "text/plain": [
       "<Figure size 432x288 with 1 Axes>"
      ]
     },
     "metadata": {
      "needs_background": "light"
     },
     "output_type": "display_data"
    },
    {
     "data": {
      "image/png": "[encoded data removed]",
      "text/plain": [
       "<Figure size 432x288 with 1 Axes>"
      ]
     },
     "metadata": {
      "needs_background": "light"
     },
     "output_type": "display_data"
    }
   ],
   "source": [
    "plot_graphs(classifier_history2, \"loss\")\n",
    "plot_graphs(classifier_history2, \"accuracy\")"
   ]
  },
  {
   "cell_type": "code",
   "execution_count": 26,
   "metadata": {},
   "outputs": [
    {
     "name": "stdout",
     "output_type": "stream",
     "text": [
      "0.8443935926773455\n",
      "0.5\n",
      "0.6967758648174716\n",
      "          Pred:pos  Pred:neg\n",
      "True:pos         0        68\n",
      "True:neg         0       369\n",
      "              precision    recall  f1-score   support\n",
      "\n",
      "           0       0.84      1.00      0.92       369\n",
      "           1       0.00      0.00      0.00        68\n",
      "\n",
      "    accuracy                           0.84       437\n",
      "   macro avg       0.42      0.50      0.46       437\n",
      "weighted avg       0.71      0.84      0.77       437\n",
      "\n"
     ]
    },
    {
     "name": "stderr",
     "output_type": "stream",
     "text": [
      "/home/dsv/zhwa9764/miniconda3/envs/py37-cuda11/lib/python3.7/site-packages/sklearn/metrics/_classification.py:1248: UndefinedMetricWarning: Precision and F-score are ill-defined and being set to 0.0 in labels with no predicted samples. Use `zero_division` parameter to control this behavior.\n",
      "  _warn_prf(average, modifier, msg_start, len(result))\n",
      "/home/dsv/zhwa9764/miniconda3/envs/py37-cuda11/lib/python3.7/site-packages/sklearn/metrics/_classification.py:1248: UndefinedMetricWarning: Precision and F-score are ill-defined and being set to 0.0 in labels with no predicted samples. Use `zero_division` parameter to control this behavior.\n",
      "  _warn_prf(average, modifier, msg_start, len(result))\n",
      "/home/dsv/zhwa9764/miniconda3/envs/py37-cuda11/lib/python3.7/site-packages/sklearn/metrics/_classification.py:1248: UndefinedMetricWarning: Precision and F-score are ill-defined and being set to 0.0 in labels with no predicted samples. Use `zero_division` parameter to control this behavior.\n",
      "  _warn_prf(average, modifier, msg_start, len(result))\n"
     ]
    }
   ],
   "source": [
    "y_pred2 = classifier2.predict(X_test_seqs)\n",
    "y_pred_classes2 = np.array([1 if pred > 0.5 else 0 for pred in y_pred2])\n",
    "\n",
    "# classification report\n",
    "acc2 = accuracy_score(y_true=y_test_labels, y_pred=y_pred_classes2)\n",
    "print(acc2)\n",
    "\n",
    "bal_acc2 = balanced_accuracy_score(y_true=y_test, y_pred=y_pred_classes2)\n",
    "print(bal_acc2)\n",
    "\n",
    "auc2 = roc_auc_score(y_true=y_test_labels, y_score=y_pred2)\n",
    "print(auc2)\n",
    "\n",
    "confusion_matrix_df2 = pd.DataFrame(\n",
    "        confusion_matrix(y_true=y_test_labels, y_pred=y_pred_classes2, labels=[1, 0]),\n",
    "        index=['True:pos', 'True:neg'], \n",
    "        columns=['Pred:pos', 'Pred:neg']\n",
    "    )\n",
    "print(confusion_matrix_df2)\n",
    "\n",
    "print(classification_report(y_true=y_test_labels, y_pred=y_pred_classes2))"
   ]
  },
  {
   "cell_type": "markdown",
   "metadata": {},
   "source": [
    "### Add drop out layers"
   ]
  },
  {
   "cell_type": "code",
   "execution_count": 27,
   "metadata": {},
   "outputs": [],
   "source": [
    "def DropoutClassifier(input_size, initial_bias):\n",
    "    # Define the model structure - only LSTM layers\n",
    "    inputs = keras.Input(input_size,)\n",
    "    x = keras.layers.Embedding(input_dim=NUM_WORDS, output_dim=64, input_length=input_size)(inputs)\n",
    "    x = keras.layers.LSTM(32, activation='tanh', kernel_regularizer=keras.regularizers.L1L2(l1=0.01, l2=0.01))(x)\n",
    "    x = keras.layers.Dropout(0.6)(x)\n",
    "    outputs = keras.layers.Dense(1, activation='sigmoid', \n",
    "                                 bias_initializer=keras.initializers.Constant(initial_bias))(x)\n",
    "\n",
    "    classifier = keras.Model(inputs, outputs)\n",
    "    \n",
    "    optimizer = keras.optimizers.RMSprop(learning_rate=0.001)\n",
    "    classifier.compile(optimizer=optimizer, loss='binary_crossentropy', metrics=['accuracy'])\n",
    "    return classifier"
   ]
  },
  {
   "cell_type": "code",
   "execution_count": 28,
   "metadata": {},
   "outputs": [
    {
     "name": "stdout",
     "output_type": "stream",
     "text": [
      "Model: \"model_2\"\n",
      "_________________________________________________________________\n",
      "Layer (type)                 Output Shape              Param #   \n",
      "=================================================================\n",
      "input_3 (InputLayer)         [(None, 1000)]            0         \n",
      "_________________________________________________________________\n",
      "embedding_2 (Embedding)      (None, 1000, 64)          192000    \n",
      "_________________________________________________________________\n",
      "lstm_2 (LSTM)                (None, 32)                12416     \n",
      "_________________________________________________________________\n",
      "dropout (Dropout)            (None, 32)                0         \n",
      "_________________________________________________________________\n",
      "dense_2 (Dense)              (None, 1)                 33        \n",
      "=================================================================\n",
      "Total params: 204,449\n",
      "Trainable params: 204,449\n",
      "Non-trainable params: 0\n",
      "_________________________________________________________________\n"
     ]
    }
   ],
   "source": [
    "classifier3 = DropoutClassifier(input_size=MAX_LEN, initial_bias=initial_bias)\n",
    "\n",
    "classifier3.summary()"
   ]
  },
  {
   "cell_type": "code",
   "execution_count": 29,
   "metadata": {
    "scrolled": true
   },
   "outputs": [
    {
     "name": "stdout",
     "output_type": "stream",
     "text": [
      "Epoch 1/50\n",
      "12/12 [==============================] - 2s 83ms/step - loss: 8.3866 - accuracy: 0.8248 - val_loss: 7.0534 - val_accuracy: 0.3913\n",
      "Epoch 2/50\n",
      "12/12 [==============================] - 1s 56ms/step - loss: 6.7668 - accuracy: 0.6478 - val_loss: 5.9006 - val_accuracy: 0.8421\n",
      "Epoch 3/50\n",
      "12/12 [==============================] - 1s 57ms/step - loss: 5.7733 - accuracy: 0.6766 - val_loss: 4.9090 - val_accuracy: 0.8444\n",
      "Epoch 4/50\n",
      "12/12 [==============================] - 1s 56ms/step - loss: 4.9356 - accuracy: 0.7471 - val_loss: 4.2925 - val_accuracy: 0.6453\n",
      "Epoch 5/50\n",
      "12/12 [==============================] - 1s 56ms/step - loss: 4.1301 - accuracy: 0.7346 - val_loss: 3.6337 - val_accuracy: 0.6064\n",
      "Epoch 6/50\n",
      "12/12 [==============================] - 1s 56ms/step - loss: 3.4554 - accuracy: 0.7340 - val_loss: 2.9175 - val_accuracy: 0.7666\n",
      "Epoch 7/50\n",
      "12/12 [==============================] - 1s 55ms/step - loss: 2.8327 - accuracy: 0.7705 - val_loss: 2.3582 - val_accuracy: 0.8055\n",
      "Epoch 8/50\n",
      "12/12 [==============================] - 1s 56ms/step - loss: 2.3050 - accuracy: 0.8200 - val_loss: 2.6909 - val_accuracy: 0.1602\n",
      "Epoch 9/50\n",
      "12/12 [==============================] - 1s 56ms/step - loss: 1.9535 - accuracy: 0.6876 - val_loss: 1.5520 - val_accuracy: 0.7757\n",
      "Epoch 10/50\n",
      "12/12 [==============================] - 1s 56ms/step - loss: 1.5283 - accuracy: 0.8073 - val_loss: 1.1989 - val_accuracy: 0.8307\n",
      "Epoch 11/50\n",
      "12/12 [==============================] - 1s 56ms/step - loss: 1.2250 - accuracy: 0.8435 - val_loss: 0.9403 - val_accuracy: 0.8467\n",
      "Epoch 12/50\n",
      "12/12 [==============================] - 1s 56ms/step - loss: 1.0178 - accuracy: 0.8460 - val_loss: 0.7768 - val_accuracy: 0.8467\n",
      "Epoch 13/50\n",
      "12/12 [==============================] - 1s 56ms/step - loss: 0.8216 - accuracy: 0.8857 - val_loss: 0.7938 - val_accuracy: 0.7551\n",
      "Epoch 14/50\n",
      "12/12 [==============================] - 1s 55ms/step - loss: 0.6605 - accuracy: 0.8406 - val_loss: 0.6434 - val_accuracy: 0.8352\n",
      "Epoch 15/50\n",
      "12/12 [==============================] - 1s 55ms/step - loss: 0.6281 - accuracy: 0.8578 - val_loss: 0.5937 - val_accuracy: 0.8467\n",
      "Epoch 16/50\n",
      "12/12 [==============================] - 1s 56ms/step - loss: 0.5774 - accuracy: 0.8918 - val_loss: 0.6009 - val_accuracy: 0.8330\n",
      "Epoch 17/50\n",
      "12/12 [==============================] - 1s 56ms/step - loss: 0.5747 - accuracy: 0.8810 - val_loss: 0.5655 - val_accuracy: 0.8650\n",
      "Epoch 18/50\n",
      "12/12 [==============================] - 1s 56ms/step - loss: 0.6161 - accuracy: 0.8975 - val_loss: 0.5848 - val_accuracy: 0.8352\n",
      "Epoch 19/50\n",
      "12/12 [==============================] - 1s 56ms/step - loss: 0.5344 - accuracy: 0.8963 - val_loss: 0.5745 - val_accuracy: 0.8421\n",
      "Epoch 20/50\n",
      "12/12 [==============================] - 1s 56ms/step - loss: 0.5299 - accuracy: 0.9248 - val_loss: 0.7816 - val_accuracy: 0.5904\n",
      "Epoch 21/50\n",
      "12/12 [==============================] - 1s 57ms/step - loss: 0.4927 - accuracy: 0.8821 - val_loss: 0.5513 - val_accuracy: 0.8535\n",
      "Epoch 22/50\n",
      "12/12 [==============================] - 1s 55ms/step - loss: 0.5177 - accuracy: 0.9307 - val_loss: 0.5996 - val_accuracy: 0.8307\n",
      "Epoch 23/50\n",
      "12/12 [==============================] - 1s 55ms/step - loss: 0.4607 - accuracy: 0.9237 - val_loss: 0.8822 - val_accuracy: 0.6110\n",
      "Epoch 24/50\n",
      "12/12 [==============================] - 1s 56ms/step - loss: 0.5075 - accuracy: 0.8959 - val_loss: 0.6093 - val_accuracy: 0.8284\n",
      "Epoch 25/50\n",
      "12/12 [==============================] - 1s 55ms/step - loss: 0.4793 - accuracy: 0.8924 - val_loss: 0.5971 - val_accuracy: 0.8352\n",
      "Epoch 26/50\n",
      "12/12 [==============================] - 1s 56ms/step - loss: 0.4102 - accuracy: 0.9394 - val_loss: 0.5234 - val_accuracy: 0.8535\n",
      "Epoch 27/50\n",
      "12/12 [==============================] - 1s 55ms/step - loss: 0.4444 - accuracy: 0.9505 - val_loss: 0.5919 - val_accuracy: 0.8444\n",
      "Epoch 28/50\n",
      "12/12 [==============================] - 1s 55ms/step - loss: 0.3867 - accuracy: 0.9642 - val_loss: 0.7086 - val_accuracy: 0.8307\n",
      "Epoch 29/50\n",
      "12/12 [==============================] - 1s 57ms/step - loss: 0.4253 - accuracy: 0.9480 - val_loss: 0.5774 - val_accuracy: 0.8490\n",
      "Epoch 30/50\n",
      "12/12 [==============================] - 1s 56ms/step - loss: 0.3821 - accuracy: 0.9609 - val_loss: 0.5773 - val_accuracy: 0.8490\n",
      "Epoch 31/50\n",
      "12/12 [==============================] - 1s 56ms/step - loss: 0.4147 - accuracy: 0.9590 - val_loss: 0.5180 - val_accuracy: 0.8535\n",
      "Epoch 32/50\n",
      "12/12 [==============================] - 1s 56ms/step - loss: 0.3536 - accuracy: 0.9703 - val_loss: 0.5699 - val_accuracy: 0.8513\n",
      "Epoch 33/50\n",
      "12/12 [==============================] - 1s 55ms/step - loss: 0.4353 - accuracy: 0.9425 - val_loss: 1.3160 - val_accuracy: 0.5423\n",
      "Epoch 34/50\n",
      "12/12 [==============================] - 1s 56ms/step - loss: 0.5300 - accuracy: 0.7721 - val_loss: 0.6320 - val_accuracy: 0.7918\n",
      "Epoch 35/50\n",
      "12/12 [==============================] - 1s 56ms/step - loss: 0.3771 - accuracy: 0.9173 - val_loss: 0.6055 - val_accuracy: 0.8444\n",
      "Epoch 36/50\n",
      "12/12 [==============================] - 1s 57ms/step - loss: 0.4405 - accuracy: 0.9254 - val_loss: 0.7151 - val_accuracy: 0.8490\n",
      "Epoch 37/50\n",
      "12/12 [==============================] - 1s 56ms/step - loss: 0.5446 - accuracy: 0.9503 - val_loss: 0.6202 - val_accuracy: 0.8490\n",
      "Epoch 38/50\n",
      "12/12 [==============================] - 1s 56ms/step - loss: 0.4355 - accuracy: 0.9401 - val_loss: 0.5929 - val_accuracy: 0.8581\n",
      "Epoch 39/50\n",
      "12/12 [==============================] - 1s 57ms/step - loss: 0.3709 - accuracy: 0.9539 - val_loss: 0.5641 - val_accuracy: 0.8581\n",
      "Epoch 40/50\n",
      "12/12 [==============================] - 1s 56ms/step - loss: 0.3600 - accuracy: 0.9439 - val_loss: 0.6165 - val_accuracy: 0.7689\n",
      "Epoch 41/50\n",
      "12/12 [==============================] - 1s 56ms/step - loss: 0.3506 - accuracy: 0.9251 - val_loss: 0.5489 - val_accuracy: 0.8535\n"
     ]
    }
   ],
   "source": [
    "early_stopping_loss = keras.callbacks.EarlyStopping(monitor='val_loss', patience=10, mode=\"min\", restore_best_weights=True) # patient = 5 or 10 doesn't guarantee find an optimal\n",
    "\n",
    "\n",
    "# Train the model\n",
    "# reset_seeds()\n",
    "classifier_history3 = classifier3.fit(X_train_seqs, \n",
    "          y_train_labels, \n",
    "          epochs=50,\n",
    "          batch_size=128,\n",
    "          shuffle=True, \n",
    "          verbose=True, \n",
    "          validation_data=(X_test_seqs, y_test_labels),\n",
    "          callbacks=[early_stopping_loss],\n",
    "          class_weight=class_weight)"
   ]
  },
  {
   "cell_type": "code",
   "execution_count": 30,
   "metadata": {},
   "outputs": [
    {
     "data": {
      "image/png": "[encoded data removed]",
      "text/plain": [
       "<Figure size 432x288 with 1 Axes>"
      ]
     },
     "metadata": {
      "needs_background": "light"
     },
     "output_type": "display_data"
    },
    {
     "data": {
      "image/png": "[encoded data removed]",
      "text/plain": [
       "<Figure size 432x288 with 1 Axes>"
      ]
     },
     "metadata": {
      "needs_background": "light"
     },
     "output_type": "display_data"
    }
   ],
   "source": [
    "plot_graphs(classifier_history3, \"loss\")\n",
    "plot_graphs(classifier_history3, \"accuracy\")"
   ]
  },
  {
   "cell_type": "code",
   "execution_count": 31,
   "metadata": {},
   "outputs": [
    {
     "name": "stdout",
     "output_type": "stream",
     "text": [
      "0.8535469107551488\n",
      "0.6313765343535789\n",
      "0.7050255061374143\n",
      "          Pred:pos  Pred:neg\n",
      "True:pos        21        47\n",
      "True:neg        17       352\n",
      "              precision    recall  f1-score   support\n",
      "\n",
      "           0       0.88      0.95      0.92       369\n",
      "           1       0.55      0.31      0.40        68\n",
      "\n",
      "    accuracy                           0.85       437\n",
      "   macro avg       0.72      0.63      0.66       437\n",
      "weighted avg       0.83      0.85      0.84       437\n",
      "\n"
     ]
    }
   ],
   "source": [
    "y_pred3 = classifier3.predict(X_test_seqs)\n",
    "y_pred_classes3 = np.array([1 if pred > 0.5 else 0 for pred in y_pred3])\n",
    "\n",
    "# classification report\n",
    "acc3 = accuracy_score(y_true=y_test_labels, y_pred=y_pred_classes3)\n",
    "print(acc3)\n",
    "\n",
    "bal_acc3 = balanced_accuracy_score(y_true=y_test, y_pred=y_pred_classes3)\n",
    "print(bal_acc3)\n",
    "\n",
    "auc3 = roc_auc_score(y_true=y_test_labels, y_score=y_pred3)\n",
    "print(auc3)\n",
    "\n",
    "confusion_matrix_df3 = pd.DataFrame(\n",
    "        confusion_matrix(y_true=y_test_labels, y_pred=y_pred_classes3, labels=[1, 0]),\n",
    "        index=['True:pos', 'True:neg'], \n",
    "        columns=['Pred:pos', 'Pred:neg']\n",
    "    )\n",
    "print(confusion_matrix_df3)\n",
    "\n",
    "print(classification_report(y_true=y_test_labels, y_pred=y_pred_classes3))"
   ]
  },
  {
   "cell_type": "markdown",
   "metadata": {},
   "source": [
    "### Add batch normalization\n"
   ]
  },
  {
   "cell_type": "code",
   "execution_count": 32,
   "metadata": {},
   "outputs": [],
   "source": [
    "def BatchNormalizedClassifier(input_size, initial_bias):\n",
    "    # Define the model structure - only LSTM layers\n",
    "    inputs = keras.Input(input_size,)\n",
    "    x = keras.layers.Embedding(input_dim=NUM_WORDS, output_dim=64, input_length=input_size)(inputs)\n",
    "    x = keras.layers.LSTM(32, activation='tanh', kernel_regularizer=keras.regularizers.L1L2(l1=0.01, l2=0.01))(x)\n",
    "    x = keras.layers.Dropout(0.6)(x)\n",
    "    x = keras.layers.BatchNormalization()(x)\n",
    "    outputs = keras.layers.Dense(1, activation='sigmoid', \n",
    "                                 bias_initializer=keras.initializers.Constant(initial_bias))(x)\n",
    "\n",
    "    classifier = keras.Model(inputs, outputs)\n",
    "    \n",
    "    optimizer = keras.optimizers.RMSprop(learning_rate=0.001)\n",
    "    classifier.compile(optimizer=optimizer, loss='binary_crossentropy', metrics=['accuracy'])\n",
    "    return classifier"
   ]
  },
  {
   "cell_type": "code",
   "execution_count": 33,
   "metadata": {},
   "outputs": [
    {
     "name": "stdout",
     "output_type": "stream",
     "text": [
      "Model: \"model_3\"\n",
      "_________________________________________________________________\n",
      "Layer (type)                 Output Shape              Param #   \n",
      "=================================================================\n",
      "input_4 (InputLayer)         [(None, 1000)]            0         \n",
      "_________________________________________________________________\n",
      "embedding_3 (Embedding)      (None, 1000, 64)          192000    \n",
      "_________________________________________________________________\n",
      "lstm_3 (LSTM)                (None, 32)                12416     \n",
      "_________________________________________________________________\n",
      "dropout_1 (Dropout)          (None, 32)                0         \n",
      "_________________________________________________________________\n",
      "batch_normalization (BatchNo (None, 32)                128       \n",
      "_________________________________________________________________\n",
      "dense_3 (Dense)              (None, 1)                 33        \n",
      "=================================================================\n",
      "Total params: 204,577\n",
      "Trainable params: 204,513\n",
      "Non-trainable params: 64\n",
      "_________________________________________________________________\n"
     ]
    }
   ],
   "source": [
    "classifier4 = BatchNormalizedClassifier(input_size=MAX_LEN, initial_bias=initial_bias)\n",
    "\n",
    "classifier4.summary()"
   ]
  },
  {
   "cell_type": "code",
   "execution_count": 34,
   "metadata": {
    "scrolled": true
   },
   "outputs": [
    {
     "name": "stdout",
     "output_type": "stream",
     "text": [
      "Epoch 1/50\n",
      "12/12 [==============================] - 2s 82ms/step - loss: 8.4780 - accuracy: 0.8013 - val_loss: 6.9725 - val_accuracy: 0.8444\n",
      "Epoch 2/50\n",
      "12/12 [==============================] - 1s 57ms/step - loss: 6.9758 - accuracy: 0.8423 - val_loss: 6.0012 - val_accuracy: 0.8444\n",
      "Epoch 3/50\n",
      "12/12 [==============================] - 1s 55ms/step - loss: 5.9169 - accuracy: 0.8649 - val_loss: 5.1886 - val_accuracy: 0.8444\n",
      "Epoch 4/50\n",
      "12/12 [==============================] - 1s 56ms/step - loss: 5.0136 - accuracy: 0.8610 - val_loss: 4.4756 - val_accuracy: 0.8444\n",
      "Epoch 5/50\n",
      "12/12 [==============================] - 1s 57ms/step - loss: 4.2047 - accuracy: 0.8558 - val_loss: 3.8261 - val_accuracy: 0.8444\n",
      "Epoch 6/50\n",
      "12/12 [==============================] - 1s 56ms/step - loss: 3.5613 - accuracy: 0.8332 - val_loss: 3.2394 - val_accuracy: 0.8444\n",
      "Epoch 7/50\n",
      "12/12 [==============================] - 1s 56ms/step - loss: 2.9948 - accuracy: 0.8611 - val_loss: 2.7365 - val_accuracy: 0.8444\n",
      "Epoch 8/50\n",
      "12/12 [==============================] - 1s 56ms/step - loss: 2.4961 - accuracy: 0.8369 - val_loss: 2.2863 - val_accuracy: 0.8444\n",
      "Epoch 9/50\n",
      "12/12 [==============================] - 1s 56ms/step - loss: 2.0757 - accuracy: 0.8649 - val_loss: 1.9293 - val_accuracy: 0.8444\n",
      "Epoch 10/50\n",
      "12/12 [==============================] - 1s 55ms/step - loss: 1.7165 - accuracy: 0.8586 - val_loss: 1.6095 - val_accuracy: 0.8444\n",
      "Epoch 11/50\n",
      "12/12 [==============================] - 1s 56ms/step - loss: 1.3640 - accuracy: 0.8578 - val_loss: 1.3367 - val_accuracy: 0.8444\n",
      "Epoch 12/50\n",
      "12/12 [==============================] - 1s 56ms/step - loss: 1.1069 - accuracy: 0.9071 - val_loss: 1.1471 - val_accuracy: 0.8444\n",
      "Epoch 13/50\n",
      "12/12 [==============================] - 1s 56ms/step - loss: 0.9350 - accuracy: 0.8875 - val_loss: 1.0031 - val_accuracy: 0.8444\n",
      "Epoch 14/50\n",
      "12/12 [==============================] - 1s 57ms/step - loss: 0.7971 - accuracy: 0.9049 - val_loss: 0.9245 - val_accuracy: 0.8444\n",
      "Epoch 15/50\n",
      "12/12 [==============================] - 1s 56ms/step - loss: 0.7617 - accuracy: 0.8971 - val_loss: 0.8852 - val_accuracy: 0.8467\n",
      "Epoch 16/50\n",
      "12/12 [==============================] - 1s 56ms/step - loss: 0.7836 - accuracy: 0.9172 - val_loss: 0.8455 - val_accuracy: 0.8421\n",
      "Epoch 17/50\n",
      "12/12 [==============================] - 1s 56ms/step - loss: 0.6065 - accuracy: 0.9487 - val_loss: 0.8030 - val_accuracy: 0.8421\n",
      "Epoch 18/50\n",
      "12/12 [==============================] - 1s 57ms/step - loss: 0.6171 - accuracy: 0.9151 - val_loss: 0.7825 - val_accuracy: 0.8467\n",
      "Epoch 19/50\n",
      "12/12 [==============================] - 1s 56ms/step - loss: 0.5528 - accuracy: 0.9347 - val_loss: 0.7485 - val_accuracy: 0.8444\n",
      "Epoch 20/50\n",
      "12/12 [==============================] - 1s 56ms/step - loss: 0.5245 - accuracy: 0.9168 - val_loss: 0.7244 - val_accuracy: 0.8444\n",
      "Epoch 21/50\n",
      "12/12 [==============================] - 1s 56ms/step - loss: 0.5137 - accuracy: 0.9294 - val_loss: 0.6976 - val_accuracy: 0.8421\n",
      "Epoch 22/50\n",
      "12/12 [==============================] - 1s 56ms/step - loss: 0.4935 - accuracy: 0.9250 - val_loss: 0.6829 - val_accuracy: 0.8444\n",
      "Epoch 23/50\n",
      "12/12 [==============================] - 1s 56ms/step - loss: 0.4961 - accuracy: 0.8961 - val_loss: 0.6717 - val_accuracy: 0.8421\n",
      "Epoch 24/50\n",
      "12/12 [==============================] - 1s 57ms/step - loss: 0.4389 - accuracy: 0.8828 - val_loss: 0.6910 - val_accuracy: 0.8307\n",
      "Epoch 25/50\n",
      "12/12 [==============================] - 1s 57ms/step - loss: 0.4574 - accuracy: 0.9255 - val_loss: 0.6961 - val_accuracy: 0.8215\n",
      "Epoch 26/50\n",
      "12/12 [==============================] - 1s 56ms/step - loss: 0.4306 - accuracy: 0.9075 - val_loss: 0.6276 - val_accuracy: 0.8398\n",
      "Epoch 27/50\n",
      "12/12 [==============================] - 1s 55ms/step - loss: 0.4336 - accuracy: 0.9015 - val_loss: 0.6355 - val_accuracy: 0.8490\n",
      "Epoch 28/50\n",
      "12/12 [==============================] - 1s 56ms/step - loss: 0.3840 - accuracy: 0.9195 - val_loss: 0.6358 - val_accuracy: 0.8330\n",
      "Epoch 29/50\n",
      "12/12 [==============================] - 1s 56ms/step - loss: 0.3861 - accuracy: 0.9413 - val_loss: 0.6263 - val_accuracy: 0.8398\n",
      "Epoch 30/50\n",
      "12/12 [==============================] - 1s 56ms/step - loss: 0.3763 - accuracy: 0.9338 - val_loss: 0.6290 - val_accuracy: 0.8421\n",
      "Epoch 31/50\n",
      "12/12 [==============================] - 1s 56ms/step - loss: 0.3913 - accuracy: 0.9274 - val_loss: 0.6242 - val_accuracy: 0.8330\n",
      "Epoch 32/50\n",
      "12/12 [==============================] - 1s 56ms/step - loss: 0.3376 - accuracy: 0.9511 - val_loss: 0.6163 - val_accuracy: 0.8330\n",
      "Epoch 33/50\n",
      "12/12 [==============================] - 1s 55ms/step - loss: 0.3376 - accuracy: 0.9501 - val_loss: 0.6291 - val_accuracy: 0.8284\n",
      "Epoch 34/50\n",
      "12/12 [==============================] - 1s 56ms/step - loss: 0.3462 - accuracy: 0.9381 - val_loss: 0.6216 - val_accuracy: 0.8307\n",
      "Epoch 35/50\n",
      "12/12 [==============================] - 1s 58ms/step - loss: 0.3640 - accuracy: 0.9364 - val_loss: 0.6193 - val_accuracy: 0.8261\n",
      "Epoch 36/50\n",
      "12/12 [==============================] - 1s 56ms/step - loss: 0.3375 - accuracy: 0.9555 - val_loss: 0.6569 - val_accuracy: 0.8078\n",
      "Epoch 37/50\n",
      "12/12 [==============================] - 1s 56ms/step - loss: 0.3487 - accuracy: 0.9373 - val_loss: 0.7303 - val_accuracy: 0.7803\n",
      "Epoch 38/50\n",
      "12/12 [==============================] - 1s 56ms/step - loss: 0.3601 - accuracy: 0.8947 - val_loss: 0.6207 - val_accuracy: 0.8192\n",
      "Epoch 39/50\n",
      "12/12 [==============================] - 1s 55ms/step - loss: 0.3524 - accuracy: 0.9263 - val_loss: 0.6244 - val_accuracy: 0.8192\n",
      "Epoch 40/50\n",
      "12/12 [==============================] - 1s 55ms/step - loss: 0.3216 - accuracy: 0.8642 - val_loss: 0.6448 - val_accuracy: 0.8192\n",
      "Epoch 41/50\n",
      "12/12 [==============================] - 1s 56ms/step - loss: 0.3024 - accuracy: 0.9260 - val_loss: 0.5900 - val_accuracy: 0.8307\n",
      "Epoch 42/50\n",
      "12/12 [==============================] - 1s 55ms/step - loss: 0.3093 - accuracy: 0.9281 - val_loss: 0.6633 - val_accuracy: 0.8124\n",
      "Epoch 43/50\n",
      "12/12 [==============================] - 1s 56ms/step - loss: 0.3167 - accuracy: 0.9323 - val_loss: 0.7008 - val_accuracy: 0.8009\n",
      "Epoch 44/50\n",
      "12/12 [==============================] - 1s 56ms/step - loss: 0.5107 - accuracy: 0.8731 - val_loss: 14.1289 - val_accuracy: 0.5652\n",
      "Epoch 45/50\n",
      "12/12 [==============================] - 1s 55ms/step - loss: 1.1985 - accuracy: 0.6779 - val_loss: 1.5901 - val_accuracy: 0.8330\n",
      "Epoch 46/50\n",
      "12/12 [==============================] - 1s 57ms/step - loss: 0.9844 - accuracy: 0.8491 - val_loss: 0.7111 - val_accuracy: 0.8467\n",
      "Epoch 47/50\n",
      "12/12 [==============================] - 1s 56ms/step - loss: 0.3839 - accuracy: 0.9402 - val_loss: 0.6185 - val_accuracy: 0.8467\n",
      "Epoch 48/50\n",
      "12/12 [==============================] - 1s 57ms/step - loss: 0.3094 - accuracy: 0.9350 - val_loss: 0.5811 - val_accuracy: 0.8352\n",
      "Epoch 49/50\n",
      "12/12 [==============================] - 1s 54ms/step - loss: 0.2857 - accuracy: 0.9578 - val_loss: 0.5670 - val_accuracy: 0.8375\n",
      "Epoch 50/50\n",
      "12/12 [==============================] - 1s 55ms/step - loss: 0.2795 - accuracy: 0.9611 - val_loss: 0.5761 - val_accuracy: 0.8398\n"
     ]
    }
   ],
   "source": [
    "# Train the model\n",
    "# reset_seeds()\n",
    "classifier_history4 = classifier4.fit(X_train_seqs, \n",
    "          y_train_labels, \n",
    "          epochs=50,\n",
    "          batch_size=128,\n",
    "          shuffle=True, \n",
    "          verbose=True, \n",
    "          validation_data=(X_test_seqs, y_test_labels),\n",
    "          callbacks=[early_stopping_loss],\n",
    "          class_weight=class_weight)"
   ]
  },
  {
   "cell_type": "code",
   "execution_count": 35,
   "metadata": {},
   "outputs": [
    {
     "data": {
      "image/png": "[encoded data removed]",
      "text/plain": [
       "<Figure size 432x288 with 1 Axes>"
      ]
     },
     "metadata": {
      "needs_background": "light"
     },
     "output_type": "display_data"
    },
    {
     "data": {
      "image/png": "[encoded data removed]",
      "text/plain": [
       "<Figure size 432x288 with 1 Axes>"
      ]
     },
     "metadata": {
      "needs_background": "light"
     },
     "output_type": "display_data"
    }
   ],
   "source": [
    "plot_graphs(classifier_history4, \"loss\")\n",
    "plot_graphs(classifier_history4, \"accuracy\")"
   ]
  },
  {
   "cell_type": "code",
   "execution_count": 36,
   "metadata": {},
   "outputs": [
    {
     "name": "stdout",
     "output_type": "stream",
     "text": [
      "0.8398169336384439\n",
      "0.5332775386577395\n",
      "0.5197672564960943\n",
      "          Pred:pos  Pred:neg\n",
      "True:pos         6        62\n",
      "True:neg         8       361\n",
      "              precision    recall  f1-score   support\n",
      "\n",
      "           0       0.85      0.98      0.91       369\n",
      "           1       0.43      0.09      0.15        68\n",
      "\n",
      "    accuracy                           0.84       437\n",
      "   macro avg       0.64      0.53      0.53       437\n",
      "weighted avg       0.79      0.84      0.79       437\n",
      "\n"
     ]
    }
   ],
   "source": [
    "y_pred4 = classifier4.predict(X_test_seqs)\n",
    "y_pred_classes4 = np.array([1 if pred > 0.5 else 0 for pred in y_pred4])\n",
    "\n",
    "# classification report\n",
    "acc4 = accuracy_score(y_true=y_test_labels, y_pred=y_pred_classes4)\n",
    "print(acc4)\n",
    "\n",
    "bal_acc4 = balanced_accuracy_score(y_true=y_test_labels, y_pred=y_pred_classes4)\n",
    "print(bal_acc4)\n",
    "\n",
    "auc4 = roc_auc_score(y_true=y_test_labels, y_score=y_pred4)\n",
    "print(auc4)\n",
    "\n",
    "confusion_matrix_df4 = pd.DataFrame(\n",
    "        confusion_matrix(y_true=y_test_labels, y_pred=y_pred_classes4, labels=[1, 0]),\n",
    "        index=['True:pos', 'True:neg'], \n",
    "        columns=['Pred:pos', 'Pred:neg']\n",
    "    )\n",
    "print(confusion_matrix_df4)\n",
    "\n",
    "print(classification_report(y_true=y_test_labels, y_pred=y_pred_classes4))"
   ]
  },
  {
   "cell_type": "markdown",
   "metadata": {},
   "source": [
    "### stack two LSTM layers"
   ]
  },
  {
   "cell_type": "code",
   "execution_count": 37,
   "metadata": {},
   "outputs": [],
   "source": [
    "# Stack two or more LSTM layers\n",
    "def StackedClassifier(input_size):\n",
    "    # Define the model structure - only LSTM layers\n",
    "    inputs = keras.Input(input_size,)\n",
    "    x = keras.layers.Embedding(input_dim=NUM_WORDS, output_dim=64, input_length=input_size)(inputs)\n",
    "    x = keras.layers.LSTM(32, activation='tanh', return_sequences=True)(x)\n",
    "    x = keras.layers.Dropout(0.6)(x)\n",
    "#     x = keras.layers.BatchNormalization()(x)\n",
    "    x = keras.layers.LSTM(16, activation='tanh', return_sequences=False)(x)\n",
    "    x = keras.layers.Dropout(0.6)(x)\n",
    "#     x = keras.layers.BatchNormalization()(x)\n",
    "    x = keras.layers.Dense(16, activation='relu')(x)\n",
    "    outputs = keras.layers.Dense(1, activation='sigmoid')(x)\n",
    "\n",
    "    classifier = keras.Model(inputs, outputs)\n",
    "\n",
    "    optimizer = keras.optimizers.RMSprop(learning_rate=0.001)\n",
    "    classifier.compile(optimizer=optimizer, loss='binary_crossentropy', metrics=['accuracy'])\n",
    "\n",
    "    return classifier"
   ]
  },
  {
   "cell_type": "code",
   "execution_count": 38,
   "metadata": {},
   "outputs": [
    {
     "name": "stdout",
     "output_type": "stream",
     "text": [
      "Model: \"model_4\"\n",
      "_________________________________________________________________\n",
      "Layer (type)                 Output Shape              Param #   \n",
      "=================================================================\n",
      "input_5 (InputLayer)         [(None, 1000)]            0         \n",
      "_________________________________________________________________\n",
      "embedding_4 (Embedding)      (None, 1000, 64)          192000    \n",
      "_________________________________________________________________\n",
      "lstm_4 (LSTM)                (None, 1000, 32)          12416     \n",
      "_________________________________________________________________\n",
      "dropout_2 (Dropout)          (None, 1000, 32)          0         \n",
      "_________________________________________________________________\n",
      "lstm_5 (LSTM)                (None, 16)                3136      \n",
      "_________________________________________________________________\n",
      "dropout_3 (Dropout)          (None, 16)                0         \n",
      "_________________________________________________________________\n",
      "dense_4 (Dense)              (None, 16)                272       \n",
      "_________________________________________________________________\n",
      "dense_5 (Dense)              (None, 1)                 17        \n",
      "=================================================================\n",
      "Total params: 207,841\n",
      "Trainable params: 207,841\n",
      "Non-trainable params: 0\n",
      "_________________________________________________________________\n"
     ]
    }
   ],
   "source": [
    "classifier5 = StackedClassifier(input_size=MAX_LEN)\n",
    "\n",
    "classifier5.summary()"
   ]
  },
  {
   "cell_type": "code",
   "execution_count": 39,
   "metadata": {
    "scrolled": true
   },
   "outputs": [
    {
     "name": "stdout",
     "output_type": "stream",
     "text": [
      "Epoch 1/50\n",
      "12/12 [==============================] - 4s 127ms/step - loss: 0.6476 - accuracy: 0.7459 - val_loss: 0.4334 - val_accuracy: 0.8444\n",
      "Epoch 2/50\n",
      "12/12 [==============================] - 1s 88ms/step - loss: 0.4625 - accuracy: 0.8329 - val_loss: 0.4075 - val_accuracy: 0.8444\n",
      "Epoch 3/50\n",
      "12/12 [==============================] - 1s 88ms/step - loss: 0.4285 - accuracy: 0.8222 - val_loss: 0.3874 - val_accuracy: 0.8444\n",
      "Epoch 4/50\n",
      "12/12 [==============================] - 1s 88ms/step - loss: 0.3672 - accuracy: 0.8268 - val_loss: 0.3871 - val_accuracy: 0.8444\n",
      "Epoch 5/50\n",
      "12/12 [==============================] - 1s 89ms/step - loss: 0.3249 - accuracy: 0.8435 - val_loss: 0.3869 - val_accuracy: 0.8535\n",
      "Epoch 6/50\n",
      "12/12 [==============================] - 1s 88ms/step - loss: 0.3140 - accuracy: 0.8606 - val_loss: 0.4000 - val_accuracy: 0.8673\n",
      "Epoch 7/50\n",
      "12/12 [==============================] - 1s 89ms/step - loss: 0.2947 - accuracy: 0.9082 - val_loss: 0.4617 - val_accuracy: 0.8513\n",
      "Epoch 8/50\n",
      "12/12 [==============================] - 1s 86ms/step - loss: 0.2694 - accuracy: 0.9267 - val_loss: 0.4096 - val_accuracy: 0.8604\n",
      "Epoch 9/50\n",
      "12/12 [==============================] - 1s 88ms/step - loss: 0.2958 - accuracy: 0.9409 - val_loss: 0.4157 - val_accuracy: 0.8650\n",
      "Epoch 10/50\n",
      "12/12 [==============================] - 1s 88ms/step - loss: 0.2481 - accuracy: 0.9581 - val_loss: 0.4143 - val_accuracy: 0.8535\n",
      "Epoch 11/50\n",
      "12/12 [==============================] - 1s 88ms/step - loss: 0.2498 - accuracy: 0.9586 - val_loss: 0.4397 - val_accuracy: 0.8535\n",
      "Epoch 12/50\n",
      "12/12 [==============================] - 1s 88ms/step - loss: 0.2246 - accuracy: 0.9570 - val_loss: 0.4602 - val_accuracy: 0.8604\n",
      "Epoch 13/50\n",
      "12/12 [==============================] - 1s 89ms/step - loss: 0.1981 - accuracy: 0.9564 - val_loss: 0.4386 - val_accuracy: 0.8535\n",
      "Epoch 14/50\n",
      "12/12 [==============================] - 1s 88ms/step - loss: 0.1791 - accuracy: 0.9669 - val_loss: 0.4825 - val_accuracy: 0.8490\n",
      "Epoch 15/50\n",
      "12/12 [==============================] - 1s 89ms/step - loss: 0.2036 - accuracy: 0.9344 - val_loss: 0.4888 - val_accuracy: 0.8581\n",
      "Epoch 16/50\n",
      "12/12 [==============================] - 1s 89ms/step - loss: 0.1449 - accuracy: 0.9741 - val_loss: 0.5438 - val_accuracy: 0.8581\n"
     ]
    }
   ],
   "source": [
    "# Train the model\n",
    "# reset_seeds()\n",
    "classifier_history5 = classifier5.fit(X_train_seqs, \n",
    "          y_train_labels, \n",
    "          epochs=50,\n",
    "          batch_size=128,\n",
    "          shuffle=True, \n",
    "          verbose=True, \n",
    "          validation_data=(X_test_seqs, y_test_labels),\n",
    "          callbacks=[early_stopping_accuracy])\n"
   ]
  },
  {
   "cell_type": "code",
   "execution_count": 40,
   "metadata": {},
   "outputs": [
    {
     "data": {
      "image/png": "[encoded data removed]",
      "text/plain": [
       "<Figure size 432x288 with 1 Axes>"
      ]
     },
     "metadata": {
      "needs_background": "light"
     },
     "output_type": "display_data"
    },
    {
     "data": {
      "image/png": "[encoded data removed]",
      "text/plain": [
       "<Figure size 432x288 with 1 Axes>"
      ]
     },
     "metadata": {
      "needs_background": "light"
     },
     "output_type": "display_data"
    }
   ],
   "source": [
    "plot_graphs(classifier_history5, \"loss\")\n",
    "plot_graphs(classifier_history5, \"accuracy\")"
   ]
  },
  {
   "cell_type": "code",
   "execution_count": 41,
   "metadata": {},
   "outputs": [
    {
     "name": "stdout",
     "output_type": "stream",
     "text": [
      "0.8672768878718535\n",
      "0.5915231946437112\n",
      "0.7334409373505499\n",
      "          Pred:pos  Pred:neg\n",
      "True:pos        13        55\n",
      "True:neg         3       366\n",
      "              precision    recall  f1-score   support\n",
      "\n",
      "           0       0.87      0.99      0.93       369\n",
      "           1       0.81      0.19      0.31        68\n",
      "\n",
      "    accuracy                           0.87       437\n",
      "   macro avg       0.84      0.59      0.62       437\n",
      "weighted avg       0.86      0.87      0.83       437\n",
      "\n"
     ]
    }
   ],
   "source": [
    "y_pred5 = classifier5.predict(X_test_seqs)\n",
    "y_pred_classes5 = np.array([1 if pred > 0.5 else 0 for pred in y_pred5])\n",
    "\n",
    "acc5 = accuracy_score(y_true=y_test_labels, y_pred=y_pred_classes5)\n",
    "print(acc5)\n",
    "\n",
    "bal_acc5 = balanced_accuracy_score(y_true=y_test_labels, y_pred=y_pred_classes5)\n",
    "print(bal_acc5)\n",
    "\n",
    "auc5 = roc_auc_score(y_true=y_test_labels, y_score=y_pred5)\n",
    "print(auc5)\n",
    "\n",
    "confusion_matrix_df5 = pd.DataFrame(\n",
    "        confusion_matrix(y_true=y_test_labels, y_pred=y_pred_classes5, labels=[1, 0]),\n",
    "        index=['True:pos', 'True:neg'], \n",
    "        columns=['Pred:pos', 'Pred:neg']\n",
    "    )\n",
    "print(confusion_matrix_df5)\n",
    "\n",
    "print(classification_report(y_true=y_test_labels, y_pred=y_pred_classes5))"
   ]
  },
  {
   "cell_type": "markdown",
   "metadata": {},
   "source": [
    "### Grid search (TODO)\n"
   ]
  },
  {
   "cell_type": "code",
   "execution_count": 44,
   "metadata": {},
   "outputs": [],
   "source": [
    "from tensorflow.keras.wrappers.scikit_learn import KerasClassifier\n",
    "from sklearn.pipeline import Pipeline\n",
    "from sklearn.model_selection import GridSearchCV"
   ]
  },
  {
   "cell_type": "code",
   "execution_count": 61,
   "metadata": {},
   "outputs": [],
   "source": [
    "# Stack two or more LSTM layers\n",
    "def GridsearchClassifier(dropout, l1, l2, input_size=1000):\n",
    "    # Define the model structure - only LSTM layers\n",
    "    inputs = keras.Input(input_size,)\n",
    "    x = keras.layers.Embedding(input_dim=NUM_WORDS, output_dim=64, input_length=input_size)(inputs)\n",
    "    x = keras.layers.LSTM(32, activation='tanh', return_sequences=True, kernel_regularizer=keras.regularizers.L1L2(l1=l1, l2=l2))(x)\n",
    "    x = keras.layers.Dropout(dropout)(x)\n",
    "#     x = keras.layers.BatchNormalization()(x)\n",
    "    x = keras.layers.LSTM(16, activation='tanh', return_sequences=False)(x)\n",
    "    x = keras.layers.Dropout(dropout)(x)\n",
    "#     x = keras.layers.BatchNormalization()(x)\n",
    "    x = keras.layers.Dense(16, activation='relu')(x)\n",
    "    outputs = keras.layers.Dense(1, activation='sigmoid')(x)\n",
    "\n",
    "    classifier = keras.Model(inputs, outputs)\n",
    "\n",
    "    optimizer = keras.optimizers.RMSprop(learning_rate=0.001)\n",
    "    classifier.compile(optimizer=optimizer, loss='binary_crossentropy', metrics=['accuracy'])\n",
    "\n",
    "    return classifier"
   ]
  },
  {
   "cell_type": "code",
   "execution_count": 62,
   "metadata": {},
   "outputs": [],
   "source": [
    "keras_estimator = KerasClassifier(build_fn=GridsearchClassifier, verbose=1)\n",
    "estimator = Pipeline([(\"kc\", keras_estimator)])\n",
    "\n",
    "# define the grid search parameters\n",
    "param_grid = {\n",
    "#     'kc__dense_nparams': [32],\n",
    "    'kc__batch_size':[2, 16, 32, 64, 512],\n",
    "    'kc__l1':[0.01, 0.02, 0.03],\n",
    "    'kc__l2':[0.01,0.02, 0.02],\n",
    "    'kc__dropout': [0.5, 0.4, 0.3, 0.2, 0.1, 0],\n",
    "    #'kc__dropout': [0.5],\n",
    "}"
   ]
  },
  {
   "cell_type": "code",
   "execution_count": 54,
   "metadata": {},
   "outputs": [],
   "source": [
    "X_gs_concate = np.concatenate((X_train_seqs, X_val_seqs), axis=0)\n",
    "y_gs_concate = np.concatenate((y_train_labels, y_val_labels), axis=0)"
   ]
  },
  {
   "cell_type": "code",
   "execution_count": 52,
   "metadata": {
    "scrolled": true
   },
   "outputs": [
    {
     "name": "stdout",
     "output_type": "stream",
     "text": [
      "[-1 -1 -1 -1 -1 -1 -1 -1 -1 -1 -1 -1 -1 -1 -1 -1 -1 -1 -1 -1 -1 -1 -1 -1\n",
      " -1 -1 -1 -1 -1 -1 -1 -1 -1 -1 -1 -1 -1 -1 -1 -1 -1 -1 -1 -1 -1 -1 -1 -1\n",
      " -1 -1 -1 -1 -1 -1 -1 -1 -1 -1 -1 -1 -1 -1 -1 -1 -1 -1 -1 -1 -1 -1 -1 -1\n",
      " -1 -1 -1 -1 -1 -1 -1 -1 -1 -1 -1 -1 -1 -1 -1 -1 -1 -1 -1 -1 -1 -1 -1 -1\n",
      " -1 -1 -1 -1 -1 -1 -1 -1 -1 -1 -1 -1 -1 -1 -1 -1 -1 -1 -1 -1 -1 -1 -1 -1\n",
      " -1 -1 -1 -1 -1 -1 -1 -1 -1 -1 -1 -1 -1 -1 -1 -1 -1 -1 -1 -1 -1 -1 -1 -1\n",
      " -1 -1 -1 -1 -1 -1 -1 -1 -1 -1 -1 -1 -1 -1 -1 -1 -1 -1 -1 -1 -1 -1 -1 -1\n",
      " -1 -1 -1 -1 -1 -1 -1 -1 -1 -1 -1 -1 -1 -1 -1 -1 -1 -1 -1 -1 -1 -1 -1 -1\n",
      " -1 -1 -1 -1 -1 -1 -1 -1 -1 -1 -1 -1 -1 -1 -1 -1 -1 -1 -1 -1 -1 -1 -1 -1\n",
      " -1 -1 -1 -1 -1 -1 -1 -1 -1 -1 -1 -1 -1 -1 -1 -1 -1 -1 -1 -1 -1 -1 -1 -1\n",
      " -1 -1 -1 -1 -1 -1 -1 -1 -1 -1 -1 -1 -1 -1 -1 -1 -1 -1 -1 -1 -1 -1 -1 -1\n",
      " -1 -1 -1 -1 -1 -1 -1 -1 -1 -1 -1 -1 -1 -1 -1 -1 -1 -1 -1 -1 -1 -1 -1 -1\n",
      " -1 -1 -1 -1 -1 -1 -1 -1 -1 -1 -1 -1 -1 -1 -1 -1 -1 -1 -1 -1 -1 -1 -1 -1\n",
      " -1 -1 -1 -1 -1 -1 -1 -1 -1 -1 -1 -1 -1 -1 -1 -1 -1 -1 -1 -1 -1 -1 -1 -1\n",
      " -1 -1 -1 -1 -1 -1 -1 -1 -1 -1 -1 -1 -1 -1 -1 -1 -1 -1 -1 -1 -1 -1 -1 -1\n",
      " -1 -1 -1 -1 -1 -1 -1 -1 -1 -1 -1 -1 -1 -1 -1 -1 -1 -1 -1 -1 -1 -1 -1 -1\n",
      " -1 -1 -1 -1 -1 -1 -1 -1 -1 -1 -1 -1 -1 -1 -1 -1 -1 -1 -1 -1 -1 -1 -1 -1\n",
      " -1 -1 -1 -1 -1 -1 -1 -1 -1 -1 -1 -1 -1 -1 -1 -1 -1 -1 -1 -1 -1 -1 -1 -1\n",
      " -1 -1 -1 -1 -1  0  0  0  0  0  0  0  0  0  0  0  0  0  0  0  0  0  0  0\n",
      "  0  0  0  0  0  0  0  0  0  0  0  0  0  0  0  0  0  0  0  0  0  0  0  0\n",
      "  0  0  0  0  0  0  0  0  0  0  0  0  0  0  0  0  0  0  0  0  0  0  0  0\n",
      "  0  0  0  0  0  0  0  0  0  0  0  0  0  0  0  0  0  0  0  0  0  0  0  0\n",
      "  0  0  0  0  0  0  0  0  0  0  0  0  0  0  0  0  0  0  0  0  0  0  0  0\n",
      "  0  0  0  0  0  0  0  0  0  0  0  0  0  0  0  0  0  0  0  0  0  0  0  0\n",
      "  0  0  0  0  0  0  0  0  0  0  0  0  0  0  0  0  0  0  0  0  0  0  0  0\n",
      "  0  0  0  0  0  0  0  0  0  0  0  0  0  0  0  0  0  0  0  0  0  0  0  0\n",
      "  0  0  0  0  0  0  0  0  0  0  0  0  0  0  0  0  0  0  0  0  0  0  0  0\n",
      "  0  0  0  0  0  0  0  0]\n"
     ]
    }
   ],
   "source": [
    "# The indices which have the value -1 will be kept in train\n",
    "train_indices = np.full((X_test_seqs.shape[0],), -1, dtype=int)\n",
    "# The indices which have zero or positive values, will be kept in val\n",
    "val_indices = np.full((X_val_seqs.shape[0],), 0, dtype=int)\n",
    "\n",
    "val_fold = np.append(train_indices, val_indices)\n",
    "print(val_fold)"
   ]
  },
  {
   "cell_type": "code",
   "execution_count": 65,
   "metadata": {},
   "outputs": [],
   "source": [
    "from sklearn.model_selection import PredefinedSplit\n",
    "ps = PredefinedSplit(val_fold)\n",
    "\n",
    "scoring = {'AUC': 'roc_auc'}\n",
    "\n",
    "grid = GridSearchCV(estimator=estimator,  \n",
    "                    n_jobs=-1, \n",
    "                    verbose=1,\n",
    "                    return_train_score=True,\n",
    "                    scoring=scoring,\n",
    "                    cv=ps,  #StratifiedKFold(n_splits=kfold_splits, shuffle=True)\n",
    "                    param_grid=param_grid,\n",
    "                    refit = 'AUC')"
   ]
  },
  {
   "cell_type": "code",
   "execution_count": 69,
   "metadata": {},
   "outputs": [
    {
     "name": "stdout",
     "output_type": "stream",
     "text": [
      "Fitting 1 folds for each of 270 candidates, totalling 270 fits\n",
      "874/874 [==============================] - 43s 47ms/step - loss: 2.1852 - accuracy: 0.7971\n",
      "Best: nan using {'kc__batch_size': 2, 'kc__dropout': 0.5, 'kc__l1': 0.01, 'kc__l2': 0.01}\n"
     ]
    }
   ],
   "source": [
    "grid_result = grid.fit(X_gs_concate, y_gs_concate) #callbacks=[tbCallBack]\n",
    "\n",
    "# summarize results\n",
    "print(\"Best: %f using %s\" % (grid_result.best_score_, grid_result.best_params_))\n",
    "# means = grid_result.cv_results_['mean_test_score']\n",
    "# stds = grid_result.cv_results_['std_test_score']\n",
    "# params = grid_result.cv_results_['params']\n",
    "# for mean, stdev, param in zip(means, stds, params):\n",
    "#     print(\"%f (%f) with: %r\" % (mean, stdev, param))"
   ]
  }
 ],
 "metadata": {
  "kernelspec": {
   "display_name": "Python 3",
   "language": "python",
   "name": "python3"
  },
  "language_info": {
   "codemirror_mode": {
    "name": "ipython",
    "version": 3
   },
   "file_extension": ".py",
   "mimetype": "text/x-python",
   "name": "python",
   "nbconvert_exporter": "python",
   "pygments_lexer": "ipython3",
   "version": "3.7.10"
  }
 },
 "nbformat": 4,
 "nbformat_minor": 4
}
