{
 "cells": [
  {
   "cell_type": "code",
   "execution_count": 9,
   "metadata": {},
   "outputs": [],
   "source": [
    "import pandas as pd\n",
    "import numpy as np\n",
    "\n",
    "import keras\n",
    "from sklearn.model_selection import train_test_split\n",
    "from keras_preprocessing.text import Tokenizer\n"
   ]
  },
  {
   "cell_type": "markdown",
   "metadata": {},
   "source": [
    "## Load data"
   ]
  },
  {
   "cell_type": "code",
   "execution_count": 3,
   "metadata": {},
   "outputs": [
    {
     "data": {
      "text/html": [
       "<div>\n",
       "<style scoped>\n",
       "    .dataframe tbody tr th:only-of-type {\n",
       "        vertical-align: middle;\n",
       "    }\n",
       "\n",
       "    .dataframe tbody tr th {\n",
       "        vertical-align: top;\n",
       "    }\n",
       "\n",
       "    .dataframe thead th {\n",
       "        text-align: right;\n",
       "    }\n",
       "</style>\n",
       "<table border=\"1\" class=\"dataframe\">\n",
       "  <thead>\n",
       "    <tr style=\"text-align: right;\">\n",
       "      <th></th>\n",
       "      <th>Unnamed: 0</th>\n",
       "      <th>text</th>\n",
       "      <th>subject_id</th>\n",
       "      <th>hadm_id</th>\n",
       "      <th>mortality</th>\n",
       "    </tr>\n",
       "  </thead>\n",
       "  <tbody>\n",
       "    <tr>\n",
       "      <th>0</th>\n",
       "      <td>0</td>\n",
       "      <td>sinus bradycardia av conduction delay qt inter...</td>\n",
       "      <td>67393</td>\n",
       "      <td>146953.0</td>\n",
       "      <td>0</td>\n",
       "    </tr>\n",
       "    <tr>\n",
       "      <th>1</th>\n",
       "      <td>1</td>\n",
       "      <td>baseline artifact sinus rhythm right bundle br...</td>\n",
       "      <td>9142</td>\n",
       "      <td>198248.0</td>\n",
       "      <td>1</td>\n",
       "    </tr>\n",
       "    <tr>\n",
       "      <th>2</th>\n",
       "      <td>2</td>\n",
       "      <td>atrial fibrillation possible flutter ventricul...</td>\n",
       "      <td>73608</td>\n",
       "      <td>162231.0</td>\n",
       "      <td>0</td>\n",
       "    </tr>\n",
       "    <tr>\n",
       "      <th>3</th>\n",
       "      <td>3</td>\n",
       "      <td>mobitz ii second degree av block nonconducted ...</td>\n",
       "      <td>29016</td>\n",
       "      <td>153345.0</td>\n",
       "      <td>0</td>\n",
       "    </tr>\n",
       "    <tr>\n",
       "      <th>4</th>\n",
       "      <td>4</td>\n",
       "      <td>sinus rhythm normal tracing previous tracing a...</td>\n",
       "      <td>12834</td>\n",
       "      <td>107726.0</td>\n",
       "      <td>0</td>\n",
       "    </tr>\n",
       "  </tbody>\n",
       "</table>\n",
       "</div>"
      ],
      "text/plain": [
       "   Unnamed: 0                                               text  subject_id  \\\n",
       "0           0  sinus bradycardia av conduction delay qt inter...       67393   \n",
       "1           1  baseline artifact sinus rhythm right bundle br...        9142   \n",
       "2           2  atrial fibrillation possible flutter ventricul...       73608   \n",
       "3           3  mobitz ii second degree av block nonconducted ...       29016   \n",
       "4           4  sinus rhythm normal tracing previous tracing a...       12834   \n",
       "\n",
       "    hadm_id  mortality  \n",
       "0  146953.0          0  \n",
       "1  198248.0          1  \n",
       "2  162231.0          0  \n",
       "3  153345.0          0  \n",
       "4  107726.0          0  "
      ]
     },
     "execution_count": 3,
     "metadata": {},
     "output_type": "execute_result"
    }
   ],
   "source": [
    "text_data = pd.read_csv('./texts.csv')\n",
    "\n",
    "text_data.head()"
   ]
  },
  {
   "cell_type": "code",
   "execution_count": 28,
   "metadata": {},
   "outputs": [],
   "source": [
    "X, y = text_data['text'], text_data['mortality']\n",
    "\n",
    "X_train, X_test, y_train, y_test = train_test_split(X, y, test_size=0.2, random_state=39, stratify=y)"
   ]
  },
  {
   "cell_type": "code",
   "execution_count": 29,
   "metadata": {},
   "outputs": [
    {
     "data": {
      "text/plain": [
       "(26592,)"
      ]
     },
     "execution_count": 29,
     "metadata": {},
     "output_type": "execute_result"
    }
   ],
   "source": [
    "X_train.shape"
   ]
  },
  {
   "cell_type": "code",
   "execution_count": 30,
   "metadata": {},
   "outputs": [],
   "source": [
    "# Tokenize the train text\n",
    "train_text = X_train.to_numpy()\n",
    "\n",
    "tokenizer = Tokenizer(\n",
    "    num_words=3000, \n",
    "    filters='!\"#$%&()*+,-./:;<=>?@[\\\\]^_`{|}~\\t\\n', \n",
    "    lower=True,\n",
    "    split=\" \",\n",
    "    char_level=False,\n",
    "    oov_token='<unk>',\n",
    "    document_count=0\n",
    ")\n",
    "\n",
    "tokenizer.fit_on_texts(train_text)\n",
    "tokenizer.word_index['<pad>'] = 0\n",
    "tokenizer.index_word[0] = '<pad>'"
   ]
  },
  {
   "cell_type": "code",
   "execution_count": 49,
   "metadata": {},
   "outputs": [],
   "source": [
    "train_seqs = tokenizer.texts_to_sequences(train_text)\n",
    "train_seqs = keras.preprocessing.sequence.pad_sequences(train_seqs, maxlen=300, padding='post')\n",
    "\n",
    "train_labels = y_train.to_numpy().flatten()\n",
    "\n",
    "valid_text = X_test.to_numpy()\n",
    "valid_seqs = tokenizer.texts_to_sequences(valid_text)\n",
    "valid_seqs = keras.preprocessing.sequence.pad_sequences(valid_seqs, maxlen=300, padding='post')\n",
    "\n",
    "valid_labels = y_test.to_numpy().flatten()"
   ]
  },
  {
   "cell_type": "code",
   "execution_count": 50,
   "metadata": {},
   "outputs": [
    {
     "data": {
      "text/plain": [
       "array([[   1,  687,    1, ...,  102,   90, 1270],\n",
       "       [  37,  404,   28, ...,  275,  732,  580],\n",
       "       [  29,   26,  131, ...,  237,   48,  175],\n",
       "       ...,\n",
       "       [  22,  660,    5, ..., 1072, 1286,    1],\n",
       "       [ 393,   33,  558, ...,   33,  866,    7],\n",
       "       [ 108,   33,  341, ...,  427, 1341,  510]], dtype=int32)"
      ]
     },
     "execution_count": 50,
     "metadata": {},
     "output_type": "execute_result"
    }
   ],
   "source": [
    "train_seqs"
   ]
  },
  {
   "cell_type": "code",
   "execution_count": 51,
   "metadata": {},
   "outputs": [
    {
     "data": {
      "text/plain": [
       "(26592, 300)"
      ]
     },
     "execution_count": 51,
     "metadata": {},
     "output_type": "execute_result"
    }
   ],
   "source": [
    "train_seqs.shape\n",
    "\n",
    "# (30455, 606752) without preprocessing/limiting and truncating"
   ]
  },
  {
   "cell_type": "markdown",
   "metadata": {},
   "source": [
    "## LSTM model"
   ]
  },
  {
   "cell_type": "code",
   "execution_count": 38,
   "metadata": {},
   "outputs": [
    {
     "data": {
      "text/plain": [
       "array(['', '[UNK]', 'left', 'reason', 'clip', 'right', 'chest', 'pt',\n",
       "       'name', 'hospital', 'pm', 'radiology', 'examination', 'report',\n",
       "       'number', 'final', 'ct', 'old', 'medical', 'tracing'], dtype='<U17')"
      ]
     },
     "execution_count": 38,
     "metadata": {},
     "output_type": "execute_result"
    }
   ],
   "source": [
    "# # Create the text encoder\n",
    "# VOCAB_SIZE = 1000\n",
    "# encoder = keras.layers.experimental.preprocessing.TextVectorization(max_tokens=VOCAB_SIZE)\n",
    "# encoder.adapt(train_text)\n",
    "\n",
    "# vocab = np.array(encoder.get_vocabulary())\n",
    "# vocab[:20]"
   ]
  },
  {
   "cell_type": "code",
   "execution_count": 53,
   "metadata": {},
   "outputs": [],
   "source": [
    "def Classifier(input_size):\n",
    "    # Define the model structure - only LSTM layers\n",
    "    inputs = keras.Input(input_size,)\n",
    "    x = keras.layers.Embedding(input_dim=3000, output_dim=64, input_length=input_size)(inputs)\n",
    "    x = keras.layers.LSTM(64, activation='tanh', return_sequences=True)(x)\n",
    "    x = keras.layers.BatchNormalization()(x)\n",
    "    x = keras.layers.LSTM(16, activation='tanh', return_sequences=False)(x)\n",
    "    x = keras.layers.BatchNormalization()(x)\n",
    "    outputs = keras.layers.Dense(1, activation='sigmoid')(x)\n",
    "\n",
    "    classifier = keras.Model(inputs, outputs)\n",
    "    \n",
    "    return classifier"
   ]
  },
  {
   "cell_type": "code",
   "execution_count": 55,
   "metadata": {},
   "outputs": [
    {
     "name": "stdout",
     "output_type": "stream",
     "text": [
      "Model: \"model_2\"\n",
      "_________________________________________________________________\n",
      "Layer (type)                 Output Shape              Param #   \n",
      "=================================================================\n",
      "input_3 (InputLayer)         [(None, 1000)]            0         \n",
      "_________________________________________________________________\n",
      "embedding_4 (Embedding)      (None, 1000, 64)          192000    \n",
      "_________________________________________________________________\n",
      "lstm_5 (LSTM)                (None, 1000, 64)          33024     \n",
      "_________________________________________________________________\n",
      "batch_normalization_4 (Batch (None, 1000, 64)          256       \n",
      "_________________________________________________________________\n",
      "lstm_6 (LSTM)                (None, 16)                5184      \n",
      "_________________________________________________________________\n",
      "batch_normalization_5 (Batch (None, 16)                64        \n",
      "_________________________________________________________________\n",
      "dense_2 (Dense)              (None, 1)                 17        \n",
      "=================================================================\n",
      "Total params: 230,545\n",
      "Trainable params: 230,385\n",
      "Non-trainable params: 160\n",
      "_________________________________________________________________\n"
     ]
    }
   ],
   "source": [
    "classifier = Classifier(input_size=1000)\n",
    "\n",
    "optimizer = keras.optimizers.Adam(lr=0.0001)\n",
    "classifier.compile(optimizer=optimizer, loss='binary_crossentropy', metrics=['accuracy'])\n",
    "\n",
    "classifier.summary()"
   ]
  },
  {
   "cell_type": "code",
   "execution_count": 57,
   "metadata": {},
   "outputs": [
    {
     "name": "stdout",
     "output_type": "stream",
     "text": [
      "Model: \"model_3\"\n",
      "_________________________________________________________________\n",
      "Layer (type)                 Output Shape              Param #   \n",
      "=================================================================\n",
      "input_4 (InputLayer)         [(None, 300)]             0         \n",
      "_________________________________________________________________\n",
      "embedding_5 (Embedding)      (None, 300, 64)           192000    \n",
      "_________________________________________________________________\n",
      "lstm_7 (LSTM)                (None, 300, 64)           33024     \n",
      "_________________________________________________________________\n",
      "batch_normalization_6 (Batch (None, 300, 64)           256       \n",
      "_________________________________________________________________\n",
      "lstm_8 (LSTM)                (None, 16)                5184      \n",
      "_________________________________________________________________\n",
      "batch_normalization_7 (Batch (None, 16)                64        \n",
      "_________________________________________________________________\n",
      "dense_3 (Dense)              (None, 1)                 17        \n",
      "=================================================================\n",
      "Total params: 230,545\n",
      "Trainable params: 230,385\n",
      "Non-trainable params: 160\n",
      "_________________________________________________________________\n"
     ]
    }
   ],
   "source": [
    "classifier = Classifier(input_size=300)\n",
    "\n",
    "optimizer = keras.optimizers.Adam(lr=0.0001)\n",
    "classifier.compile(optimizer=optimizer, loss='binary_crossentropy', metrics=['accuracy'])\n",
    "\n",
    "classifier.summary()"
   ]
  },
  {
   "cell_type": "code",
   "execution_count": 58,
   "metadata": {},
   "outputs": [
    {
     "name": "stdout",
     "output_type": "stream",
     "text": [
      "Epoch 1/50\n",
      "831/831 [==============================] - 87s 101ms/step - loss: 0.6980 - accuracy: 0.5915 - val_loss: 0.5277 - val_accuracy: 0.8343\n",
      "Epoch 2/50\n",
      "831/831 [==============================] - 82s 99ms/step - loss: 0.5056 - accuracy: 0.8322 - val_loss: 0.4247 - val_accuracy: 0.8555\n",
      "Epoch 3/50\n",
      "831/831 [==============================] - 82s 99ms/step - loss: 0.3906 - accuracy: 0.8714 - val_loss: 0.3824 - val_accuracy: 0.8637\n",
      "Epoch 4/50\n",
      "831/831 [==============================] - 84s 101ms/step - loss: 0.3147 - accuracy: 0.8866 - val_loss: 0.4368 - val_accuracy: 0.8649\n",
      "Epoch 5/50\n",
      "831/831 [==============================] - 83s 100ms/step - loss: 0.2534 - accuracy: 0.9075 - val_loss: 0.3467 - val_accuracy: 0.8693\n",
      "Epoch 6/50\n",
      "831/831 [==============================] - 83s 99ms/step - loss: 0.2045 - accuracy: 0.9307 - val_loss: 0.4325 - val_accuracy: 0.8218\n",
      "Epoch 7/50\n",
      "831/831 [==============================] - 82s 99ms/step - loss: 0.1738 - accuracy: 0.9408 - val_loss: 0.5453 - val_accuracy: 0.7837\n",
      "Epoch 8/50\n",
      "831/831 [==============================] - 82s 99ms/step - loss: 0.1483 - accuracy: 0.9522 - val_loss: 0.5465 - val_accuracy: 0.7888\n",
      "Epoch 9/50\n",
      "831/831 [==============================] - 82s 99ms/step - loss: 0.1252 - accuracy: 0.9602 - val_loss: 0.5042 - val_accuracy: 0.8167\n",
      "Epoch 10/50\n",
      "831/831 [==============================] - 82s 99ms/step - loss: 0.1079 - accuracy: 0.9673 - val_loss: 0.4623 - val_accuracy: 0.8511\n",
      "Epoch 11/50\n",
      "831/831 [==============================] - 82s 99ms/step - loss: 0.0899 - accuracy: 0.9734 - val_loss: 0.7578 - val_accuracy: 0.7670\n",
      "Epoch 12/50\n",
      "831/831 [==============================] - 83s 99ms/step - loss: 0.0809 - accuracy: 0.9773 - val_loss: 0.5140 - val_accuracy: 0.8725\n",
      "Epoch 13/50\n",
      "831/831 [==============================] - 82s 99ms/step - loss: 0.0659 - accuracy: 0.9818 - val_loss: 0.5578 - val_accuracy: 0.8673\n",
      "Epoch 14/50\n",
      "831/831 [==============================] - 83s 99ms/step - loss: 0.0618 - accuracy: 0.9836 - val_loss: 0.5949 - val_accuracy: 0.8692\n",
      "Epoch 15/50\n",
      "831/831 [==============================] - 85s 102ms/step - loss: 0.0530 - accuracy: 0.9855 - val_loss: 0.5920 - val_accuracy: 0.8642\n",
      "Epoch 16/50\n",
      "831/831 [==============================] - 83s 99ms/step - loss: 0.0500 - accuracy: 0.9872 - val_loss: 0.6320 - val_accuracy: 0.8692\n",
      "Epoch 17/50\n",
      "831/831 [==============================] - 84s 102ms/step - loss: 0.0454 - accuracy: 0.9876 - val_loss: 0.7444 - val_accuracy: 0.8338\n",
      "Epoch 18/50\n",
      "831/831 [==============================] - 85s 102ms/step - loss: 0.0405 - accuracy: 0.9895 - val_loss: 0.7945 - val_accuracy: 0.8243\n",
      "Epoch 19/50\n",
      "831/831 [==============================] - 84s 101ms/step - loss: 0.0348 - accuracy: 0.9908 - val_loss: 0.9612 - val_accuracy: 0.7843\n",
      "Epoch 20/50\n",
      "831/831 [==============================] - 87s 104ms/step - loss: 0.0412 - accuracy: 0.9887 - val_loss: 0.7515 - val_accuracy: 0.8300\n",
      "Epoch 21/50\n",
      "831/831 [==============================] - 91s 110ms/step - loss: 0.0330 - accuracy: 0.9913 - val_loss: 0.7369 - val_accuracy: 0.8481\n",
      "Epoch 22/50\n",
      "831/831 [==============================] - 85s 102ms/step - loss: 0.0311 - accuracy: 0.9921 - val_loss: 0.7315 - val_accuracy: 0.8622\n",
      "Epoch 23/50\n",
      "831/831 [==============================] - 83s 100ms/step - loss: 0.0313 - accuracy: 0.9918 - val_loss: 0.8330 - val_accuracy: 0.8331\n",
      "Epoch 24/50\n",
      "831/831 [==============================] - 83s 100ms/step - loss: 0.0298 - accuracy: 0.9918 - val_loss: 0.7714 - val_accuracy: 0.8436\n",
      "Epoch 25/50\n",
      "831/831 [==============================] - 85s 102ms/step - loss: 0.0299 - accuracy: 0.9923 - val_loss: 0.7851 - val_accuracy: 0.8514\n",
      "Epoch 26/50\n",
      "831/831 [==============================] - 86s 103ms/step - loss: 0.0284 - accuracy: 0.9929 - val_loss: 0.9017 - val_accuracy: 0.8243\n",
      "Epoch 27/50\n",
      "831/831 [==============================] - 85s 103ms/step - loss: 0.0275 - accuracy: 0.9930 - val_loss: 0.9070 - val_accuracy: 0.8258\n"
     ]
    },
    {
     "ename": "NameError",
     "evalue": "name 'plot_graphs' is not defined",
     "output_type": "error",
     "traceback": [
      "\u001b[0;31m---------------------------------------------------------------------------\u001b[0m",
      "\u001b[0;31mNameError\u001b[0m                                 Traceback (most recent call last)",
      "\u001b[0;32m<ipython-input-58-07ebaf1103c9>\u001b[0m in \u001b[0;36m<module>\u001b[0;34m\u001b[0m\n\u001b[1;32m     13\u001b[0m           callbacks=[early_stopping_accuracy])\n\u001b[1;32m     14\u001b[0m \u001b[0;34m\u001b[0m\u001b[0m\n\u001b[0;32m---> 15\u001b[0;31m \u001b[0mplot_graphs\u001b[0m\u001b[0;34m(\u001b[0m\u001b[0mclassifier_history\u001b[0m\u001b[0;34m,\u001b[0m \u001b[0;34m\"loss\"\u001b[0m\u001b[0;34m)\u001b[0m\u001b[0;34m\u001b[0m\u001b[0;34m\u001b[0m\u001b[0m\n\u001b[0m\u001b[1;32m     16\u001b[0m \u001b[0mplot_graphs\u001b[0m\u001b[0;34m(\u001b[0m\u001b[0mclassifier_history\u001b[0m\u001b[0;34m,\u001b[0m \u001b[0;34m\"accuracy\"\u001b[0m\u001b[0;34m)\u001b[0m\u001b[0;34m\u001b[0m\u001b[0;34m\u001b[0m\u001b[0m\n",
      "\u001b[0;31mNameError\u001b[0m: name 'plot_graphs' is not defined"
     ]
    }
   ],
   "source": [
    "# Define the early stopping criteria\n",
    "early_stopping_accuracy = keras.callbacks.EarlyStopping(monitor='val_accuracy', patience=15, restore_best_weights=True) # patient = 5 or 10 doesn't guarantee find an optimal\n",
    "\n",
    "# Train the model\n",
    "# reset_seeds()\n",
    "classifier_history = classifier.fit(train_seqs, \n",
    "          y_train, \n",
    "          epochs=50,\n",
    "          batch_size=32,\n",
    "          shuffle=True, \n",
    "          verbose=True, \n",
    "          validation_data=(valid_seqs, y_test),\n",
    "          callbacks=[early_stopping_accuracy])"
   ]
  },
  {
   "cell_type": "code",
   "execution_count": 61,
   "metadata": {},
   "outputs": [],
   "source": [
    "import matplotlib.pyplot as plt\n",
    "\n",
    "# Method: For plotting the accuracy/loss of keras models\n",
    "def plot_graphs(history, string):\n",
    "    plt.plot(history.history[string])\n",
    "    plt.plot(history.history['val_'+string])\n",
    "    plt.xlabel(\"Epochs\")\n",
    "    plt.ylabel(string)\n",
    "    plt.legend([string, 'val_'+string])\n",
    "    plt.show()"
   ]
  },
  {
   "cell_type": "code",
   "execution_count": 62,
   "metadata": {},
   "outputs": [
    {
     "data": {
      "image/png": "[encoded data removed]",
      "text/plain": [
       "<Figure size 432x288 with 1 Axes>"
      ]
     },
     "metadata": {
      "needs_background": "light"
     },
     "output_type": "display_data"
    },
    {
     "data": {
      "image/png": "[encoded data removed]",
      "text/plain": [
       "<Figure size 432x288 with 1 Axes>"
      ]
     },
     "metadata": {
      "needs_background": "light"
     },
     "output_type": "display_data"
    }
   ],
   "source": [
    "plot_graphs(classifier_history, \"loss\")\n",
    "plot_graphs(classifier_history, \"accuracy\")"
   ]
  },
  {
   "cell_type": "code",
   "execution_count": 67,
   "metadata": {},
   "outputs": [
    {
     "data": {
      "text/html": [
       "<div>\n",
       "<style scoped>\n",
       "    .dataframe tbody tr th:only-of-type {\n",
       "        vertical-align: middle;\n",
       "    }\n",
       "\n",
       "    .dataframe tbody tr th {\n",
       "        vertical-align: top;\n",
       "    }\n",
       "\n",
       "    .dataframe thead th {\n",
       "        text-align: right;\n",
       "    }\n",
       "</style>\n",
       "<table border=\"1\" class=\"dataframe\">\n",
       "  <thead>\n",
       "    <tr style=\"text-align: right;\">\n",
       "      <th></th>\n",
       "      <th>Pred:pos</th>\n",
       "      <th>Pred:neg</th>\n",
       "    </tr>\n",
       "  </thead>\n",
       "  <tbody>\n",
       "    <tr>\n",
       "      <th>True:pos</th>\n",
       "      <td>214</td>\n",
       "      <td>707</td>\n",
       "    </tr>\n",
       "    <tr>\n",
       "      <th>True:neg</th>\n",
       "      <td>141</td>\n",
       "      <td>5587</td>\n",
       "    </tr>\n",
       "  </tbody>\n",
       "</table>\n",
       "</div>"
      ],
      "text/plain": [
       "          Pred:pos  Pred:neg\n",
       "True:pos       214       707\n",
       "True:neg       141      5587"
      ]
     },
     "execution_count": 67,
     "metadata": {},
     "output_type": "execute_result"
    }
   ],
   "source": [
    "from sklearn.metrics import accuracy_score, confusion_matrix\n",
    "y_pred = classifier.predict(valid_seqs)\n",
    "y_pred_classes = np.array([1 if pred > 0.5 else 0 for pred in y_pred])\n",
    "\n",
    "# classification report\n",
    "acc = accuracy_score(y_true=y_test, y_pred=y_pred_classes)\n",
    "\n",
    "confusion_matrix_df = pd.DataFrame(\n",
    "        confusion_matrix(y_true=y_test, y_pred=y_pred_classes, labels=[1, 0]),\n",
    "        index=['True:pos', 'True:neg'], \n",
    "        columns=['Pred:pos', 'Pred:neg']\n",
    "    )\n",
    "confusion_matrix_df"
   ]
  },
  {
   "cell_type": "code",
   "execution_count": 68,
   "metadata": {},
   "outputs": [
    {
     "data": {
      "text/plain": [
       "0.8724620243645661"
      ]
     },
     "execution_count": 68,
     "metadata": {},
     "output_type": "execute_result"
    }
   ],
   "source": [
    "acc"
   ]
  },
  {
   "cell_type": "code",
   "execution_count": 70,
   "metadata": {},
   "outputs": [
    {
     "name": "stdout",
     "output_type": "stream",
     "text": [
      "              precision    recall  f1-score   support\n",
      "\n",
      "           0       0.89      0.98      0.93      5728\n",
      "           1       0.60      0.23      0.34       921\n",
      "\n",
      "    accuracy                           0.87      6649\n",
      "   macro avg       0.75      0.60      0.63      6649\n",
      "weighted avg       0.85      0.87      0.85      6649\n",
      "\n"
     ]
    }
   ],
   "source": [
    "from sklearn.metrics import classification_report\n",
    "\n",
    "print(classification_report(y_true=y_test, y_pred=y_pred_classes))"
   ]
  }
 ],
 "metadata": {
  "kernelspec": {
   "display_name": "Python 3",
   "language": "python",
   "name": "python3"
  },
  "language_info": {
   "codemirror_mode": {
    "name": "ipython",
    "version": 3
   },
   "file_extension": ".py",
   "mimetype": "text/x-python",
   "name": "python",
   "nbconvert_exporter": "python",
   "pygments_lexer": "ipython3",
   "version": "3.7.10"
  }
 },
 "nbformat": 4,
 "nbformat_minor": 4
}
