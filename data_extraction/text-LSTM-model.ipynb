{
 "cells": [
  {
   "cell_type": "code",
   "execution_count": 1,
   "metadata": {},
   "outputs": [],
   "source": [
    "import pandas as pd\n",
    "import numpy as np\n",
    "\n",
    "from tensorflow import keras\n",
    "from sklearn.model_selection import train_test_split\n",
    "from sklearn.metrics import accuracy_score, confusion_matrix, classification_report\n",
    "from keras_preprocessing.text import Tokenizer\n",
    "\n",
    "import matplotlib.pyplot as plt"
   ]
  },
  {
   "cell_type": "code",
   "execution_count": 3,
   "metadata": {},
   "outputs": [],
   "source": [
    "import os\n",
    "import tensorflow as tf\n",
    "import random\n",
    "# fix the random seed for tensorflow models\n",
    "os.environ['TF_DETERMINISTIC_OPS'] = '1' \n",
    "SEED = 39\n",
    "random.seed(SEED)\n",
    "np.random.seed(SEED)\n",
    "tf.random.set_seed(SEED)\n",
    "\n",
    "# set to use flexible GPU resources  \n",
    "config = tf.compat.v1.ConfigProto()\n",
    "config.gpu_options.allow_growth = True\n",
    "session = tf.compat.v1.Session(config=config)"
   ]
  },
  {
   "cell_type": "code",
   "execution_count": 4,
   "metadata": {},
   "outputs": [
    {
     "name": "stdout",
     "output_type": "stream",
     "text": [
      "Num GPUs Available: 1.\n"
     ]
    }
   ],
   "source": [
    "print(f\"Num GPUs Available: {len(tf.config.list_physical_devices('GPU'))}.\")"
   ]
  },
  {
   "cell_type": "markdown",
   "metadata": {},
   "source": [
    "## Load data"
   ]
  },
  {
   "cell_type": "code",
   "execution_count": 5,
   "metadata": {},
   "outputs": [
    {
     "data": {
      "text/html": [
       "<div>\n",
       "<style scoped>\n",
       "    .dataframe tbody tr th:only-of-type {\n",
       "        vertical-align: middle;\n",
       "    }\n",
       "\n",
       "    .dataframe tbody tr th {\n",
       "        vertical-align: top;\n",
       "    }\n",
       "\n",
       "    .dataframe thead th {\n",
       "        text-align: right;\n",
       "    }\n",
       "</style>\n",
       "<table border=\"1\" class=\"dataframe\">\n",
       "  <thead>\n",
       "    <tr style=\"text-align: right;\">\n",
       "      <th></th>\n",
       "      <th>Unnamed: 0</th>\n",
       "      <th>text</th>\n",
       "      <th>subject_id</th>\n",
       "      <th>hadm_id</th>\n",
       "      <th>mortality</th>\n",
       "    </tr>\n",
       "  </thead>\n",
       "  <tbody>\n",
       "    <tr>\n",
       "      <th>0</th>\n",
       "      <td>0</td>\n",
       "      <td>sinus bradycardia av conduction delay qt inter...</td>\n",
       "      <td>67393</td>\n",
       "      <td>146953.0</td>\n",
       "      <td>0</td>\n",
       "    </tr>\n",
       "    <tr>\n",
       "      <th>1</th>\n",
       "      <td>1</td>\n",
       "      <td>baseline artifact sinus rhythm right bundle br...</td>\n",
       "      <td>9142</td>\n",
       "      <td>198248.0</td>\n",
       "      <td>1</td>\n",
       "    </tr>\n",
       "    <tr>\n",
       "      <th>2</th>\n",
       "      <td>2</td>\n",
       "      <td>atrial fibrillation possible flutter ventricul...</td>\n",
       "      <td>73608</td>\n",
       "      <td>162231.0</td>\n",
       "      <td>0</td>\n",
       "    </tr>\n",
       "    <tr>\n",
       "      <th>3</th>\n",
       "      <td>3</td>\n",
       "      <td>mobitz ii second degree av block nonconducted ...</td>\n",
       "      <td>29016</td>\n",
       "      <td>153345.0</td>\n",
       "      <td>0</td>\n",
       "    </tr>\n",
       "    <tr>\n",
       "      <th>4</th>\n",
       "      <td>4</td>\n",
       "      <td>sinus rhythm normal tracing previous tracing a...</td>\n",
       "      <td>12834</td>\n",
       "      <td>107726.0</td>\n",
       "      <td>0</td>\n",
       "    </tr>\n",
       "  </tbody>\n",
       "</table>\n",
       "</div>"
      ],
      "text/plain": [
       "   Unnamed: 0                                               text  subject_id  \\\n",
       "0           0  sinus bradycardia av conduction delay qt inter...       67393   \n",
       "1           1  baseline artifact sinus rhythm right bundle br...        9142   \n",
       "2           2  atrial fibrillation possible flutter ventricul...       73608   \n",
       "3           3  mobitz ii second degree av block nonconducted ...       29016   \n",
       "4           4  sinus rhythm normal tracing previous tracing a...       12834   \n",
       "\n",
       "    hadm_id  mortality  \n",
       "0  146953.0          0  \n",
       "1  198248.0          1  \n",
       "2  162231.0          0  \n",
       "3  153345.0          0  \n",
       "4  107726.0          0  "
      ]
     },
     "execution_count": 5,
     "metadata": {},
     "output_type": "execute_result"
    }
   ],
   "source": [
    "text_data = pd.read_csv('./texts.csv')\n",
    "\n",
    "text_data.head()"
   ]
  },
  {
   "cell_type": "code",
   "execution_count": 6,
   "metadata": {},
   "outputs": [],
   "source": [
    "X, y = text_data['text'], text_data['mortality']\n",
    "\n",
    "X_train, X_test, y_train, y_test = train_test_split(X, y, test_size=0.2, random_state=39, stratify=y)"
   ]
  },
  {
   "cell_type": "code",
   "execution_count": 24,
   "metadata": {},
   "outputs": [
    {
     "data": {
      "text/plain": [
       "(26592,)"
      ]
     },
     "execution_count": 24,
     "metadata": {},
     "output_type": "execute_result"
    }
   ],
   "source": [
    "X_train.shape"
   ]
  },
  {
   "cell_type": "code",
   "execution_count": 25,
   "metadata": {},
   "outputs": [],
   "source": [
    "NUM_WORDS = 3000\n",
    "\n",
    "# Tokenize the train text\n",
    "train_text = X_train.to_numpy()\n",
    "\n",
    "tokenizer = Tokenizer(\n",
    "    num_words=NUM_WORDS, \n",
    "    filters='!\"#$%&()*+,-./:;<=>?@[\\\\]^_`{|}~\\t\\n', \n",
    "    lower=True,\n",
    "    split=\" \",\n",
    "    char_level=False,\n",
    "    oov_token='<unk>',\n",
    "    document_count=0\n",
    ")\n",
    "\n",
    "tokenizer.fit_on_texts(train_text)\n",
    "tokenizer.word_index['<pad>'] = 0\n",
    "tokenizer.index_word[0] = '<pad>'"
   ]
  },
  {
   "cell_type": "code",
   "execution_count": 26,
   "metadata": {},
   "outputs": [],
   "source": [
    "MAX_LEN = 1000\n",
    "\n",
    "train_seqs = tokenizer.texts_to_sequences(train_text)\n",
    "train_seqs = keras.preprocessing.sequence.pad_sequences(train_seqs, maxlen=MAX_LEN, padding='post')\n",
    "\n",
    "train_labels = y_train.to_numpy().flatten()\n",
    "\n",
    "valid_text = X_test.to_numpy()\n",
    "valid_seqs = tokenizer.texts_to_sequences(valid_text)\n",
    "valid_seqs = keras.preprocessing.sequence.pad_sequences(valid_seqs, maxlen=MAX_LEN, padding='post')\n",
    "\n",
    "valid_labels = y_test.to_numpy().flatten()"
   ]
  },
  {
   "cell_type": "code",
   "execution_count": 27,
   "metadata": {},
   "outputs": [
    {
     "data": {
      "text/plain": [
       "array([[ 879, 2144,  458, ..., 2290,  649,    1],\n",
       "       [ 639,   98,   40, ...,  502,    1,    1],\n",
       "       [ 103,   71,  104, ...,    0,    0,    0],\n",
       "       ...,\n",
       "       [1482,  560,  650, ..., 1798,    1,  153],\n",
       "       [ 524,  106,  781, ...,  740,   99,  795],\n",
       "       [ 103,   71,  293, ...,    0,    0,    0]], dtype=int32)"
      ]
     },
     "execution_count": 27,
     "metadata": {},
     "output_type": "execute_result"
    }
   ],
   "source": [
    "train_seqs"
   ]
  },
  {
   "cell_type": "code",
   "execution_count": 28,
   "metadata": {},
   "outputs": [
    {
     "data": {
      "text/plain": [
       "(26592, 1000)"
      ]
     },
     "execution_count": 28,
     "metadata": {},
     "output_type": "execute_result"
    }
   ],
   "source": [
    "train_seqs.shape\n",
    "\n",
    "# (30455, 606752) without preprocessing/limiting and truncating"
   ]
  },
  {
   "cell_type": "markdown",
   "metadata": {},
   "source": [
    "## LSTM model"
   ]
  },
  {
   "cell_type": "code",
   "execution_count": 29,
   "metadata": {},
   "outputs": [],
   "source": [
    "# Method: For plotting the accuracy/loss of keras models\n",
    "def plot_graphs(history, string):\n",
    "    plt.plot(history.history[string])\n",
    "    plt.plot(history.history['val_'+string])\n",
    "    plt.xlabel(\"Epochs\")\n",
    "    plt.ylabel(string)\n",
    "    plt.legend([string, 'val_'+string])\n",
    "    plt.show()"
   ]
  },
  {
   "cell_type": "code",
   "execution_count": 30,
   "metadata": {},
   "outputs": [],
   "source": [
    "def SimpleClassifier(input_size):\n",
    "    # Define the model structure - only LSTM layers\n",
    "    inputs = keras.Input(input_size,)\n",
    "    x = keras.layers.Embedding(input_dim=NUM_WORDS, output_dim=64, input_length=input_size)(inputs)\n",
    "    x = keras.layers.LSTM(64, activation='tanh')(x)\n",
    "    outputs = keras.layers.Dense(1, activation='sigmoid')(x)\n",
    "\n",
    "    classifier = keras.Model(inputs, outputs)\n",
    "    \n",
    "    return classifier"
   ]
  },
  {
   "cell_type": "code",
   "execution_count": 31,
   "metadata": {},
   "outputs": [
    {
     "name": "stdout",
     "output_type": "stream",
     "text": [
      "Model: \"model_2\"\n",
      "_________________________________________________________________\n",
      "Layer (type)                 Output Shape              Param #   \n",
      "=================================================================\n",
      "input_3 (InputLayer)         [(None, 1000)]            0         \n",
      "_________________________________________________________________\n",
      "embedding_2 (Embedding)      (None, 1000, 64)          192000    \n",
      "_________________________________________________________________\n",
      "lstm_3 (LSTM)                (None, 64)                33024     \n",
      "_________________________________________________________________\n",
      "batch_normalization_3 (Batch (None, 64)                256       \n",
      "_________________________________________________________________\n",
      "dense_3 (Dense)              (None, 1)                 65        \n",
      "=================================================================\n",
      "Total params: 225,345\n",
      "Trainable params: 225,217\n",
      "Non-trainable params: 128\n",
      "_________________________________________________________________\n"
     ]
    }
   ],
   "source": [
    "classifier1 = SimpleClassifier(input_size=MAX_LEN)\n",
    "\n",
    "optimizer1 = keras.optimizers.Adam(lr=0.0001)\n",
    "classifier1.compile(optimizer=optimizer1, loss='binary_crossentropy', metrics=['accuracy'])\n",
    "\n",
    "classifier1.summary()"
   ]
  },
  {
   "cell_type": "code",
   "execution_count": 32,
   "metadata": {},
   "outputs": [
    {
     "name": "stdout",
     "output_type": "stream",
     "text": [
      "Epoch 1/50\n",
      "208/208 [==============================] - 15s 65ms/step - loss: 0.6689 - accuracy: 0.6080 - val_loss: 0.6110 - val_accuracy: 0.8615\n",
      "Epoch 2/50\n",
      "208/208 [==============================] - 13s 63ms/step - loss: 0.5670 - accuracy: 0.7633 - val_loss: 0.4732 - val_accuracy: 0.8634\n",
      "Epoch 3/50\n",
      "208/208 [==============================] - 13s 63ms/step - loss: 0.4754 - accuracy: 0.8565 - val_loss: 0.4392 - val_accuracy: 0.8767\n",
      "Epoch 4/50\n",
      "208/208 [==============================] - 13s 63ms/step - loss: 0.4010 - accuracy: 0.8787 - val_loss: 0.4029 - val_accuracy: 0.8625\n",
      "Epoch 5/50\n",
      "208/208 [==============================] - 13s 63ms/step - loss: 0.3446 - accuracy: 0.8934 - val_loss: 0.4095 - val_accuracy: 0.8499\n",
      "Epoch 6/50\n",
      "208/208 [==============================] - 13s 63ms/step - loss: 0.3052 - accuracy: 0.9024 - val_loss: 0.3301 - val_accuracy: 0.8816\n",
      "Epoch 7/50\n",
      "208/208 [==============================] - 13s 63ms/step - loss: 0.2885 - accuracy: 0.9031 - val_loss: 0.3406 - val_accuracy: 0.8705\n",
      "Epoch 8/50\n",
      "208/208 [==============================] - 13s 63ms/step - loss: 0.2655 - accuracy: 0.9106 - val_loss: 0.4226 - val_accuracy: 0.8676\n",
      "Epoch 9/50\n",
      "208/208 [==============================] - 13s 63ms/step - loss: 0.2794 - accuracy: 0.8999 - val_loss: 0.3427 - val_accuracy: 0.8786\n",
      "Epoch 10/50\n",
      "208/208 [==============================] - 13s 63ms/step - loss: 0.2493 - accuracy: 0.9146 - val_loss: 0.3358 - val_accuracy: 0.8764\n",
      "Epoch 11/50\n",
      "208/208 [==============================] - 13s 63ms/step - loss: 0.2372 - accuracy: 0.9167 - val_loss: 0.3374 - val_accuracy: 0.8788\n",
      "Epoch 12/50\n",
      "208/208 [==============================] - 13s 63ms/step - loss: 0.2238 - accuracy: 0.9209 - val_loss: 0.3289 - val_accuracy: 0.8851\n",
      "Epoch 13/50\n",
      "208/208 [==============================] - 13s 63ms/step - loss: 0.2080 - accuracy: 0.9279 - val_loss: 0.4797 - val_accuracy: 0.8848\n",
      "Epoch 14/50\n",
      "208/208 [==============================] - 13s 63ms/step - loss: 0.2022 - accuracy: 0.9310 - val_loss: 0.2996 - val_accuracy: 0.8946\n",
      "Epoch 15/50\n",
      "208/208 [==============================] - 13s 63ms/step - loss: 0.1779 - accuracy: 0.9382 - val_loss: 0.2974 - val_accuracy: 0.8904\n",
      "Epoch 16/50\n",
      "208/208 [==============================] - 13s 63ms/step - loss: 0.1674 - accuracy: 0.9397 - val_loss: 0.4418 - val_accuracy: 0.8222\n",
      "Epoch 17/50\n",
      "208/208 [==============================] - 13s 63ms/step - loss: 0.1665 - accuracy: 0.9420 - val_loss: 0.4081 - val_accuracy: 0.8589\n",
      "Epoch 18/50\n",
      "208/208 [==============================] - 13s 63ms/step - loss: 0.1531 - accuracy: 0.9469 - val_loss: 0.3092 - val_accuracy: 0.8940\n",
      "Epoch 19/50\n",
      "208/208 [==============================] - 13s 63ms/step - loss: 0.1506 - accuracy: 0.9495 - val_loss: 0.3055 - val_accuracy: 0.8989\n",
      "Epoch 20/50\n",
      "208/208 [==============================] - 13s 63ms/step - loss: 0.1340 - accuracy: 0.9514 - val_loss: 0.3213 - val_accuracy: 0.9034\n",
      "Epoch 21/50\n",
      "208/208 [==============================] - 13s 63ms/step - loss: 0.1318 - accuracy: 0.9557 - val_loss: 0.3138 - val_accuracy: 0.8902\n",
      "Epoch 22/50\n",
      "208/208 [==============================] - 13s 63ms/step - loss: 0.1200 - accuracy: 0.9601 - val_loss: 0.3178 - val_accuracy: 0.8899\n",
      "Epoch 23/50\n",
      "208/208 [==============================] - 13s 63ms/step - loss: 0.1268 - accuracy: 0.9589 - val_loss: 0.3956 - val_accuracy: 0.8988\n",
      "Epoch 24/50\n",
      "208/208 [==============================] - 13s 63ms/step - loss: 0.1173 - accuracy: 0.9613 - val_loss: 0.3748 - val_accuracy: 0.8988\n",
      "Epoch 25/50\n",
      "208/208 [==============================] - 13s 63ms/step - loss: 0.1132 - accuracy: 0.9623 - val_loss: 0.3427 - val_accuracy: 0.8971\n",
      "Epoch 26/50\n",
      "208/208 [==============================] - 13s 63ms/step - loss: 0.1042 - accuracy: 0.9663 - val_loss: 0.3499 - val_accuracy: 0.8943\n",
      "Epoch 27/50\n",
      "208/208 [==============================] - 13s 63ms/step - loss: 0.1044 - accuracy: 0.9674 - val_loss: 0.3774 - val_accuracy: 0.8916\n",
      "Epoch 28/50\n",
      "208/208 [==============================] - 13s 63ms/step - loss: 0.0957 - accuracy: 0.9712 - val_loss: 0.3966 - val_accuracy: 0.8761\n",
      "Epoch 29/50\n",
      "208/208 [==============================] - 13s 63ms/step - loss: 0.1022 - accuracy: 0.9678 - val_loss: 0.3920 - val_accuracy: 0.8878\n",
      "Epoch 30/50\n",
      "208/208 [==============================] - 13s 63ms/step - loss: 0.0912 - accuracy: 0.9709 - val_loss: 0.3886 - val_accuracy: 0.8837\n"
     ]
    }
   ],
   "source": [
    "# Define the early stopping criteria\n",
    "early_stopping_accuracy1 = keras.callbacks.EarlyStopping(monitor='val_accuracy', patience=10, restore_best_weights=True)\n",
    "\n",
    "# Train the model\n",
    "# reset_seeds()\n",
    "classifier_history1 = classifier1.fit(train_seqs, \n",
    "          y_train, \n",
    "          epochs=50,\n",
    "          batch_size=128,\n",
    "          shuffle=True, \n",
    "          verbose=True, \n",
    "          validation_data=(valid_seqs, y_test),\n",
    "          callbacks=[early_stopping_accuracy1])"
   ]
  },
  {
   "cell_type": "code",
   "execution_count": 33,
   "metadata": {},
   "outputs": [
    {
     "data": {
      "image/png": "[encoded data removed]",
      "text/plain": [
       "<Figure size 432x288 with 1 Axes>"
      ]
     },
     "metadata": {
      "needs_background": "light"
     },
     "output_type": "display_data"
    },
    {
     "data": {
      "image/png": "[encoded data removed]",
      "text/plain": [
       "<Figure size 432x288 with 1 Axes>"
      ]
     },
     "metadata": {
      "needs_background": "light"
     },
     "output_type": "display_data"
    }
   ],
   "source": [
    "plot_graphs(classifier_history1, \"loss\")\n",
    "plot_graphs(classifier_history1, \"accuracy\")"
   ]
  },
  {
   "cell_type": "code",
   "execution_count": 34,
   "metadata": {},
   "outputs": [
    {
     "name": "stdout",
     "output_type": "stream",
     "text": [
      "0.9034441269363814\n",
      "          Pred:pos  Pred:neg\n",
      "True:pos       366       555\n",
      "True:neg        87      5641\n",
      "              precision    recall  f1-score   support\n",
      "\n",
      "           0       0.91      0.98      0.95      5728\n",
      "           1       0.81      0.40      0.53       921\n",
      "\n",
      "    accuracy                           0.90      6649\n",
      "   macro avg       0.86      0.69      0.74      6649\n",
      "weighted avg       0.90      0.90      0.89      6649\n",
      "\n"
     ]
    }
   ],
   "source": [
    "y_pred = classifier1.predict(valid_seqs)\n",
    "y_pred_classes = np.array([1 if pred > 0.5 else 0 for pred in y_pred])\n",
    "\n",
    "# classification report\n",
    "acc = accuracy_score(y_true=y_test, y_pred=y_pred_classes)\n",
    "print(acc)\n",
    "\n",
    "confusion_matrix_df = pd.DataFrame(\n",
    "        confusion_matrix(y_true=y_test, y_pred=y_pred_classes, labels=[1, 0]),\n",
    "        index=['True:pos', 'True:neg'], \n",
    "        columns=['Pred:pos', 'Pred:neg']\n",
    "    )\n",
    "print(confusion_matrix_df)\n",
    "\n",
    "print(classification_report(y_true=y_test, y_pred=y_pred_classes))"
   ]
  },
  {
   "cell_type": "code",
   "execution_count": null,
   "metadata": {},
   "outputs": [],
   "source": []
  },
  {
   "cell_type": "code",
   "execution_count": 35,
   "metadata": {},
   "outputs": [],
   "source": [
    "# Stack two or more LSTM layers\n",
    "def Classifier(input_size):\n",
    "    # Define the model structure - only LSTM layers\n",
    "    inputs = keras.Input(input_size,)\n",
    "    x = keras.layers.Embedding(input_dim=NUM_WORDS, output_dim=64, input_length=input_size)(inputs)\n",
    "    x = keras.layers.LSTM(64, activation='tanh', dropout=0.2, return_sequences=True)(x)\n",
    "    x = keras.layers.BatchNormalization()(x)\n",
    "    x = keras.layers.LSTM(16, activation='tanh', dropout=0.2, return_sequences=False)(x)\n",
    "    x = keras.layers.BatchNormalization()(x)\n",
    "    x = keras.layers.Dense(64, activation='relu')(x)\n",
    "    outputs = keras.layers.Dense(1, activation='sigmoid')(x)\n",
    "\n",
    "    classifier = keras.Model(inputs, outputs)\n",
    "    \n",
    "    return classifier"
   ]
  },
  {
   "cell_type": "code",
   "execution_count": 36,
   "metadata": {},
   "outputs": [
    {
     "name": "stdout",
     "output_type": "stream",
     "text": [
      "Model: \"model_3\"\n",
      "_________________________________________________________________\n",
      "Layer (type)                 Output Shape              Param #   \n",
      "=================================================================\n",
      "input_4 (InputLayer)         [(None, 1000)]            0         \n",
      "_________________________________________________________________\n",
      "embedding_3 (Embedding)      (None, 1000, 64)          192000    \n",
      "_________________________________________________________________\n",
      "lstm_4 (LSTM)                (None, 1000, 64)          33024     \n",
      "_________________________________________________________________\n",
      "batch_normalization_4 (Batch (None, 1000, 64)          256       \n",
      "_________________________________________________________________\n",
      "lstm_5 (LSTM)                (None, 16)                5184      \n",
      "_________________________________________________________________\n",
      "batch_normalization_5 (Batch (None, 16)                64        \n",
      "_________________________________________________________________\n",
      "dense_4 (Dense)              (None, 64)                1088      \n",
      "_________________________________________________________________\n",
      "dense_5 (Dense)              (None, 1)                 65        \n",
      "=================================================================\n",
      "Total params: 231,681\n",
      "Trainable params: 231,521\n",
      "Non-trainable params: 160\n",
      "_________________________________________________________________\n"
     ]
    }
   ],
   "source": [
    "classifier2 = Classifier(input_size=MAX_LEN)\n",
    "\n",
    "optimizer2 = keras.optimizers.Adam(lr=0.0001)\n",
    "classifier2.compile(optimizer=optimizer2, loss='binary_crossentropy', metrics=['accuracy'])\n",
    "\n",
    "classifier2.summary()"
   ]
  },
  {
   "cell_type": "code",
   "execution_count": 37,
   "metadata": {},
   "outputs": [
    {
     "name": "stdout",
     "output_type": "stream",
     "text": [
      "Epoch 1/50\n",
      "208/208 [==============================] - 22s 97ms/step - loss: 0.6536 - accuracy: 0.6249 - val_loss: 0.5876 - val_accuracy: 0.8615\n",
      "Epoch 2/50\n",
      "208/208 [==============================] - 20s 94ms/step - loss: 0.3889 - accuracy: 0.8635 - val_loss: 0.4172 - val_accuracy: 0.8633\n",
      "Epoch 3/50\n",
      "208/208 [==============================] - 20s 94ms/step - loss: 0.3538 - accuracy: 0.8722 - val_loss: 0.3618 - val_accuracy: 0.8701\n",
      "Epoch 4/50\n",
      "208/208 [==============================] - 20s 94ms/step - loss: 0.3283 - accuracy: 0.8811 - val_loss: 0.7972 - val_accuracy: 0.4235\n",
      "Epoch 5/50\n",
      "208/208 [==============================] - 20s 94ms/step - loss: 0.3023 - accuracy: 0.8885 - val_loss: 0.4298 - val_accuracy: 0.7791\n",
      "Epoch 6/50\n",
      "208/208 [==============================] - 21s 99ms/step - loss: 0.2854 - accuracy: 0.8974 - val_loss: 0.3942 - val_accuracy: 0.8079\n",
      "Epoch 7/50\n",
      "208/208 [==============================] - 21s 102ms/step - loss: 0.2651 - accuracy: 0.9059 - val_loss: 0.3211 - val_accuracy: 0.8627\n",
      "Epoch 8/50\n",
      "208/208 [==============================] - 20s 94ms/step - loss: 0.2560 - accuracy: 0.9073 - val_loss: 0.2931 - val_accuracy: 0.9042\n",
      "Epoch 9/50\n",
      "208/208 [==============================] - 19s 93ms/step - loss: 0.2479 - accuracy: 0.9134 - val_loss: 0.3089 - val_accuracy: 0.8848\n",
      "Epoch 10/50\n",
      "208/208 [==============================] - 20s 94ms/step - loss: 0.2472 - accuracy: 0.9126 - val_loss: 0.5213 - val_accuracy: 0.8693\n",
      "Epoch 11/50\n",
      "208/208 [==============================] - 20s 94ms/step - loss: 0.2509 - accuracy: 0.9110 - val_loss: 0.3249 - val_accuracy: 0.8696\n",
      "Epoch 12/50\n",
      "208/208 [==============================] - 20s 94ms/step - loss: 0.2245 - accuracy: 0.9218 - val_loss: 0.3423 - val_accuracy: 0.8520\n",
      "Epoch 13/50\n",
      "208/208 [==============================] - 20s 94ms/step - loss: 0.2130 - accuracy: 0.9291 - val_loss: 0.3376 - val_accuracy: 0.8571\n",
      "Epoch 14/50\n",
      "208/208 [==============================] - 20s 94ms/step - loss: 0.1999 - accuracy: 0.9333 - val_loss: 0.3097 - val_accuracy: 0.9060\n",
      "Epoch 15/50\n",
      "208/208 [==============================] - 20s 94ms/step - loss: 0.1867 - accuracy: 0.9365 - val_loss: 0.3947 - val_accuracy: 0.8140\n",
      "Epoch 16/50\n",
      "208/208 [==============================] - 20s 94ms/step - loss: 0.1837 - accuracy: 0.9379 - val_loss: 0.2943 - val_accuracy: 0.8979\n",
      "Epoch 17/50\n",
      "208/208 [==============================] - 20s 94ms/step - loss: 0.1687 - accuracy: 0.9407 - val_loss: 0.2931 - val_accuracy: 0.8774\n",
      "Epoch 18/50\n",
      "208/208 [==============================] - 20s 94ms/step - loss: 0.1588 - accuracy: 0.9432 - val_loss: 0.2855 - val_accuracy: 0.9003\n",
      "Epoch 19/50\n",
      "208/208 [==============================] - 20s 94ms/step - loss: 0.1527 - accuracy: 0.9476 - val_loss: 0.2882 - val_accuracy: 0.9006\n",
      "Epoch 20/50\n",
      "208/208 [==============================] - 20s 94ms/step - loss: 0.1472 - accuracy: 0.9485 - val_loss: 0.3046 - val_accuracy: 0.8707\n",
      "Epoch 21/50\n",
      "208/208 [==============================] - 20s 94ms/step - loss: 0.1446 - accuracy: 0.9491 - val_loss: 0.3018 - val_accuracy: 0.9027\n",
      "Epoch 22/50\n",
      "208/208 [==============================] - 20s 94ms/step - loss: 0.1365 - accuracy: 0.9526 - val_loss: 0.3012 - val_accuracy: 0.8907\n",
      "Epoch 23/50\n",
      "208/208 [==============================] - 20s 94ms/step - loss: 0.1287 - accuracy: 0.9563 - val_loss: 0.3149 - val_accuracy: 0.8923\n",
      "Epoch 24/50\n",
      "208/208 [==============================] - 20s 94ms/step - loss: 0.1283 - accuracy: 0.9563 - val_loss: 0.3349 - val_accuracy: 0.9013\n"
     ]
    }
   ],
   "source": [
    "# Define the early stopping criteria\n",
    "early_stopping_accuracy2 = keras.callbacks.EarlyStopping(monitor='val_accuracy', patience=10, restore_best_weights=True) # patient = 5 or 10 doesn't guarantee find an optimal\n",
    "\n",
    "# Train the model\n",
    "# reset_seeds()\n",
    "classifier_history2 = classifier2.fit(train_seqs, \n",
    "          y_train, \n",
    "          epochs=50,\n",
    "          batch_size=128,\n",
    "          shuffle=True, \n",
    "          verbose=True, \n",
    "          validation_data=(valid_seqs, y_test),\n",
    "          callbacks=[early_stopping_accuracy2])\n"
   ]
  },
  {
   "cell_type": "code",
   "execution_count": 38,
   "metadata": {},
   "outputs": [
    {
     "data": {
      "image/png": "[encoded data removed]",
      "text/plain": [
       "<Figure size 432x288 with 1 Axes>"
      ]
     },
     "metadata": {
      "needs_background": "light"
     },
     "output_type": "display_data"
    },
    {
     "data": {
      "image/png": "[encoded data removed]",
      "text/plain": [
       "<Figure size 432x288 with 1 Axes>"
      ]
     },
     "metadata": {
      "needs_background": "light"
     },
     "output_type": "display_data"
    }
   ],
   "source": [
    "plot_graphs(classifier_history2, \"loss\")\n",
    "plot_graphs(classifier_history2, \"accuracy\")"
   ]
  },
  {
   "cell_type": "code",
   "execution_count": 39,
   "metadata": {},
   "outputs": [
    {
     "name": "stdout",
     "output_type": "stream",
     "text": [
      "0.906000902391337\n",
      "          Pred:pos  Pred:neg\n",
      "True:pos       366       555\n",
      "True:neg        87      5641\n",
      "              precision    recall  f1-score   support\n",
      "\n",
      "           0       0.91      0.98      0.95      5728\n",
      "           1       0.81      0.42      0.55       921\n",
      "\n",
      "    accuracy                           0.91      6649\n",
      "   macro avg       0.86      0.70      0.75      6649\n",
      "weighted avg       0.90      0.91      0.89      6649\n",
      "\n"
     ]
    }
   ],
   "source": [
    "y_pred2 = classifier2.predict(valid_seqs)\n",
    "y_pred_classes2 = np.array([1 if pred > 0.5 else 0 for pred in y_pred2])\n",
    "\n",
    "# classification report\n",
    "acc2 = accuracy_score(y_true=y_test, y_pred=y_pred_classes2)\n",
    "print(acc2)\n",
    "\n",
    "confusion_matrix_df2 = pd.DataFrame(\n",
    "        confusion_matrix(y_true=y_test, y_pred=y_pred_classes2, labels=[1, 0]),\n",
    "        index=['True:pos', 'True:neg'], \n",
    "        columns=['Pred:pos', 'Pred:neg']\n",
    "    )\n",
    "print(confusion_matrix_df)\n",
    "\n",
    "print(classification_report(y_true=y_test, y_pred=y_pred_classes2))"
   ]
  },
  {
   "cell_type": "code",
   "execution_count": 40,
   "metadata": {},
   "outputs": [
    {
     "name": "stdout",
     "output_type": "stream",
     "text": [
      "0.702154284115517\n"
     ]
    }
   ],
   "source": [
    "from sklearn.metrics import balanced_accuracy_score\n",
    "acc2 = balanced_accuracy_score(y_true=y_test, y_pred=y_pred_classes2)\n",
    "print(acc2)\n"
   ]
  }
 ],
 "metadata": {
  "kernelspec": {
   "display_name": "Python 3",
   "language": "python",
   "name": "python3"
  },
  "language_info": {
   "codemirror_mode": {
    "name": "ipython",
    "version": 3
   },
   "file_extension": ".py",
   "mimetype": "text/x-python",
   "name": "python",
   "nbconvert_exporter": "python",
   "pygments_lexer": "ipython3",
   "version": "3.7.10"
  }
 },
 "nbformat": 4,
 "nbformat_minor": 4
}
