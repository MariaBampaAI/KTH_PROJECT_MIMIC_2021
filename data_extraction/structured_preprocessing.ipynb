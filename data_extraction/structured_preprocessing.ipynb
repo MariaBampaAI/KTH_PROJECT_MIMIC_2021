{
 "metadata": {
  "language_info": {
   "codemirror_mode": {
    "name": "ipython",
    "version": 3
   },
   "file_extension": ".py",
   "mimetype": "text/x-python",
   "name": "python",
   "nbconvert_exporter": "python",
   "pygments_lexer": "ipython3",
   "version": "3.7.4"
  },
  "orig_nbformat": 2,
  "kernelspec": {
   "name": "python374jvsc74a57bd04a3821e50dfd29f54393a38062d93a54d0c9d954cd67861638d013f261604981",
   "display_name": "Python 3.7.4 64-bit"
  },
  "metadata": {
   "interpreter": {
    "hash": "4a3821e50dfd29f54393a38062d93a54d0c9d954cd67861638d013f261604981"
   }
  }
 },
 "nbformat": 4,
 "nbformat_minor": 2,
 "cells": [
  {
   "cell_type": "code",
   "execution_count": null,
   "metadata": {},
   "outputs": [],
   "source": [
    "import pandas as pd\n",
    "import numpy as np "
   ]
  },
  {
   "source": [
    "# Preprocessing\n",
    "\n",
    "1. static:\n",
    "    - age in age groups\n",
    "    - sex as binary\n",
    "    - prescription as dosage values. 24 hours of each hospital admission. Normalized using mix max norm. Impute using 0. \n",
    "    - diagnoses as binary. 24 hours of each hospital admission.\n",
    "    \n",
    "2. temporal:\n",
    "    - vital signs: 24 hours of each hospital admission. At each hour the avg is used to represent the signal. \n",
    "\n",
    "    \n",
    "    Then normalized using mix-max norm. To handle missing values, we simply use “0” to impute"
   ],
   "cell_type": "markdown",
   "metadata": {}
  },
  {
   "cell_type": "code",
   "execution_count": null,
   "metadata": {},
   "outputs": [],
   "source": [
    "diagnoses = pd.read_csv(\"diagnoses.csv\")\n",
    "#drugs  = pd.read_csv(\"C:\\\\Users\\\\Maria\\\\Desktop\\\\data\\\\drugs.csv\")\n",
    "patients = pd.read_csv(\"patients_vitals.csv\")"
   ]
  },
  {
   "cell_type": "code",
   "execution_count": null,
   "metadata": {},
   "outputs": [],
   "source": [
    "patients.drop(\"Unnamed: 0\", axis=1, inplace=True)\n",
    "#drugs.drop(\"Unnamed: 0\", axis=1, inplace=True)\n",
    "diagnoses.drop(\"Unnamed: 0\", axis=1, inplace=True)"
   ]
  },
  {
   "cell_type": "code",
   "execution_count": null,
   "metadata": {},
   "outputs": [],
   "source": [
    "patients.drop([\"DOB\", \"icu_length_of_stay\"], axis=1, inplace=True)\n",
    "diagnoses.drop([\"icd9_title\"], axis=1, inplace=True)\n"
   ]
  },
  {
   "cell_type": "code",
   "execution_count": null,
   "metadata": {},
   "outputs": [],
   "source": [
    "patients.head()"
   ]
  },
  {
   "cell_type": "code",
   "execution_count": null,
   "metadata": {},
   "outputs": [],
   "source": [
    "adm_details = patients[[\"subject_id\", \"hadm_id\", \"gender\", \"age\", \"mortality\"]]"
   ]
  },
  {
   "cell_type": "code",
   "execution_count": null,
   "metadata": {},
   "outputs": [],
   "source": [
    "vitals = patients[[\"subject_id\", \"hadm_id\", \"admittime\", \"charttime\",  \"HeartRate\", \"SysBP\", \"DiasBP\", \"MeanBP\", \"RespRate\", \"TempC\", \"SpO2\", \"Glucose\", \"mortality\"]]"
   ]
  },
  {
   "cell_type": "code",
   "execution_count": null,
   "metadata": {},
   "outputs": [],
   "source": [
    "del patients"
   ]
  },
  {
   "source": [
    "## Preprocess admissions"
   ],
   "cell_type": "markdown",
   "metadata": {}
  },
  {
   "cell_type": "code",
   "execution_count": null,
   "metadata": {},
   "outputs": [],
   "source": [
    "df_adm = adm_details.copy()"
   ]
  },
  {
   "cell_type": "code",
   "execution_count": null,
   "metadata": {},
   "outputs": [],
   "source": [
    "del adm_details"
   ]
  },
  {
   "cell_type": "code",
   "execution_count": null,
   "metadata": {},
   "outputs": [],
   "source": [
    "print('Total admissions:', len(df_adm))"
   ]
  },
  {
   "cell_type": "code",
   "execution_count": null,
   "metadata": {},
   "outputs": [],
   "source": [
    "### bin age group "
   ]
  },
  {
   "cell_type": "code",
   "execution_count": null,
   "metadata": {},
   "outputs": [],
   "source": [
    "def bin_age(age):\n",
    "    if age < 25:\n",
    "        return '18-25'\n",
    "    elif age < 45:\n",
    "        return '25-45'\n",
    "    elif age < 65:\n",
    "        return '45-65'\n",
    "    elif age < 89:\n",
    "        return '65-89'\n",
    "    else:\n",
    "        return '89+'"
   ]
  },
  {
   "cell_type": "code",
   "execution_count": null,
   "metadata": {},
   "outputs": [],
   "source": [
    "df_adm['age'] = df_adm['age'].apply(bin_age)"
   ]
  },
  {
   "cell_type": "code",
   "execution_count": null,
   "metadata": {},
   "outputs": [],
   "source": [
    "df_adm.head()"
   ]
  },
  {
   "cell_type": "code",
   "execution_count": null,
   "metadata": {},
   "outputs": [],
   "source": [
    "df_adm = df_adm.sort_values(['hadm_id']).reset_index(drop=True)"
   ]
  },
  {
   "cell_type": "code",
   "execution_count": null,
   "metadata": {},
   "outputs": [],
   "source": [
    "df_adm.head()"
   ]
  },
  {
   "cell_type": "code",
   "execution_count": null,
   "metadata": {},
   "outputs": [],
   "source": [
    "gender = df_adm.groupby([df_adm.hadm_id,  df_adm.subject_id, 'gender'])['gender'].first().unstack()\n",
    "age = df_adm.groupby([df_adm.hadm_id, df_adm.subject_id, 'age'])['age'].first().unstack()\n",
    "demographics = pd.concat([gender, age], axis=1)\n",
    "demographics = demographics.replace({np.NaN: 0, 'F': 1, \"M\": 1, '18-25': 1, '25-45': 1, '45-65': 1, '65-89': 1, '89+': 1})\n",
    "demographics"
   ]
  },
  {
   "cell_type": "code",
   "execution_count": null,
   "metadata": {},
   "outputs": [],
   "source": []
  },
  {
   "cell_type": "code",
   "execution_count": null,
   "metadata": {},
   "outputs": [],
   "source": []
  },
  {
   "cell_type": "code",
   "execution_count": null,
   "metadata": {},
   "outputs": [],
   "source": []
  },
  {
   "source": [
    "## Preprocessing ICD-10"
   ],
   "cell_type": "markdown",
   "metadata": {}
  },
  {
   "cell_type": "code",
   "execution_count": null,
   "metadata": {},
   "outputs": [],
   "source": [
    "diagnoses"
   ]
  },
  {
   "cell_type": "code",
   "execution_count": null,
   "metadata": {},
   "outputs": [],
   "source": [
    "\n",
    "def convert_icd_group(icd):\n",
    "    icd = str(icd)\n",
    "    if icd.startswith('V'):\n",
    "        return 19\n",
    "    if icd.startswith('E'):\n",
    "        return 20\n",
    "    icd = int(icd[:3])\n",
    "    if icd <= 139:\n",
    "        return 1\n",
    "    elif icd <= 239:\n",
    "        return 2\n",
    "    elif icd <= 279:\n",
    "        return 3\n",
    "    elif icd <= 289:\n",
    "        return 4\n",
    "    elif icd <= 319:\n",
    "        return 5\n",
    "    elif icd <= 389:\n",
    "        return 6\n",
    "    elif icd <= 459:\n",
    "        return 7\n",
    "    elif icd <= 519:\n",
    "        return 8\n",
    "    elif icd <= 579:\n",
    "        return 9\n",
    "    elif icd < 629:\n",
    "        return 10\n",
    "    elif icd <= 679:\n",
    "        return 11\n",
    "    elif icd <= 709:\n",
    "        return 12\n",
    "    elif icd <= 739:\n",
    "        return 13\n",
    "    elif icd <= 759:\n",
    "        return 14\n",
    "    elif icd <= 779:\n",
    "        return np.nan\n",
    "    elif icd <= 789:\n",
    "        return 15\n",
    "    elif icd <= 796:\n",
    "        return 16\n",
    "    elif icd <= 799:\n",
    "        return 17\n",
    "    else:\n",
    "        return 18"
   ]
  },
  {
   "cell_type": "code",
   "execution_count": null,
   "metadata": {},
   "outputs": [],
   "source": [
    "df_icd = diagnoses.copy()"
   ]
  },
  {
   "cell_type": "code",
   "execution_count": null,
   "metadata": {},
   "outputs": [],
   "source": [
    "del diagnoses"
   ]
  },
  {
   "cell_type": "code",
   "execution_count": null,
   "metadata": {},
   "outputs": [],
   "source": [
    "df_icd"
   ]
  },
  {
   "cell_type": "code",
   "execution_count": null,
   "metadata": {},
   "outputs": [],
   "source": [
    "df_icd.columns = map(str.lower, df_icd.columns)\n",
    "df_icd['icd9_code'] = df_icd['icd9_code'].apply(convert_icd_group)\n",
    "df_icd = df_icd.dropna().drop_duplicates().sort_values(['hadm_id', 'icd9_code'])\n",
    "for x in range(20):\n",
    "    x += 1\n",
    "    df_icd[f'{x}'] = (df_icd['icd9_code'] == x).astype(int)\n",
    "df_icd = df_icd.groupby(['hadm_id', 'subject_id']).sum()\n",
    "df_icd = df_icd[df_icd.columns[1:]].reset_index()\n",
    "df_icd = df_icd[df_icd.hadm_id.isin(df_adm.hadm_id)]"
   ]
  },
  {
   "cell_type": "code",
   "execution_count": null,
   "metadata": {},
   "outputs": [],
   "source": [
    "df_icd.head()"
   ]
  },
  {
   "source": [
    "## Preprocess vitals"
   ],
   "cell_type": "markdown",
   "metadata": {}
  },
  {
   "cell_type": "code",
   "execution_count": null,
   "metadata": {},
   "outputs": [],
   "source": [
    "adm_ids = df_adm.hadm_id.tolist()"
   ]
  },
  {
   "cell_type": "code",
   "execution_count": null,
   "metadata": {},
   "outputs": [],
   "source": [
    "df_vitals = vitals.copy()"
   ]
  },
  {
   "cell_type": "code",
   "execution_count": null,
   "metadata": {},
   "outputs": [],
   "source": [
    "df_vitals['admittime'] = pd.to_datetime(df_vitals['admittime'])"
   ]
  },
  {
   "cell_type": "code",
   "execution_count": null,
   "metadata": {},
   "outputs": [],
   "source": [
    "df_vitals['charttime'] = pd.to_datetime(df_vitals['charttime'])"
   ]
  },
  {
   "cell_type": "code",
   "execution_count": null,
   "metadata": {},
   "outputs": [],
   "source": [
    "#getting vitals 24 hours \n",
    "df_vitals['hr'] = (df_vitals.charttime - df_vitals.admittime) / np.timedelta64(1, 'h')\n",
    "df_vitals = df_vitals[(df_vitals.hr <= 23) & (df_vitals.hr >= 0)]\n",
    "df_vitals = df_vitals.set_index('hadm_id').groupby('hadm_id').resample('H', on='charttime').mean().reset_index()"
   ]
  },
  {
   "cell_type": "code",
   "execution_count": null,
   "metadata": {},
   "outputs": [],
   "source": [
    "## transform vitals to tabular format"
   ]
  },
  {
   "cell_type": "code",
   "execution_count": null,
   "metadata": {},
   "outputs": [],
   "source": [
    "\n",
    "df_vitals.hadm_id.value_counts()\n",
    "df_vitals_sc = df_vitals[[\"hadm_id\", \"subject_id\", \"mortality\", \"HeartRate\", \"SysBP\", \"DiasBP\", \"MeanBP\", \"RespRate\", \"TempC\", \"SpO2\", \"Glucose\"]]"
   ]
  },
  {
   "cell_type": "code",
   "execution_count": null,
   "metadata": {},
   "outputs": [],
   "source": []
  },
  {
   "cell_type": "code",
   "execution_count": null,
   "metadata": {},
   "outputs": [],
   "source": [
    "from sklearn.preprocessing import MinMaxScaler\n",
    "df_vitals.hadm_id.value_counts()\n",
    "df_vitals_sc = df_vitals[[\"hadm_id\", \"subject_id\", \"mortality\", \"HeartRate\", \"SysBP\", \"DiasBP\", \"MeanBP\", \"RespRate\", \"TempC\", \"SpO2\", \"Glucose\"]]\n",
    "\n",
    "## impute using 0\n",
    "df_vitals_sc = df_vitals_sc.replace(np.NaN, 0)\n",
    "\n",
    "df_vitals_scaled = df_vitals_sc.copy()\n",
    "## For the patients that have more than 24 hour intervals, we keep the first 24.\n",
    "df_vitals_scaled['counts'] = df_vitals_scaled.groupby(['hadm_id'])['Glucose'].transform('count')\n",
    "vitals_slice = df_vitals_scaled[df_vitals_scaled.counts >=24]\n",
    "\n",
    "vitals_slice.hadm_id.value_counts()\n",
    "\n"
   ]
  },
  {
   "cell_type": "code",
   "execution_count": null,
   "metadata": {},
   "outputs": [],
   "source": [
    "vitals_slice.mortality.value_counts()"
   ]
  },
  {
   "cell_type": "code",
   "execution_count": null,
   "metadata": {},
   "outputs": [],
   "source": [
    "## for all tables take the same ids"
   ]
  },
  {
   "cell_type": "code",
   "execution_count": null,
   "metadata": {},
   "outputs": [],
   "source": [
    "vitals_slice.subject_id.unique()"
   ]
  },
  {
   "cell_type": "code",
   "execution_count": null,
   "metadata": {},
   "outputs": [],
   "source": [
    "vitals_slice[vitals_slice.hadm_id==None]"
   ]
  },
  {
   "cell_type": "code",
   "execution_count": null,
   "metadata": {},
   "outputs": [],
   "source": [
    "vitals_slice[[\"subject_id\", \"hadm_id\"]]"
   ]
  },
  {
   "cell_type": "code",
   "execution_count": null,
   "metadata": {},
   "outputs": [],
   "source": [
    "demographics = demographics.reset_index()\n",
    "demos = demographics[demographics.hadm_id.isin(list(vitals_slice.hadm_id.unique()))]"
   ]
  },
  {
   "cell_type": "code",
   "execution_count": null,
   "metadata": {},
   "outputs": [],
   "source": [
    "demos"
   ]
  },
  {
   "cell_type": "code",
   "execution_count": null,
   "metadata": {},
   "outputs": [],
   "source": [
    "df_icd = df_icd.reset_index()\n",
    "icd = df_icd[df_icd.hadm_id.isin(list(vitals_slice.hadm_id.unique()))]"
   ]
  },
  {
   "cell_type": "code",
   "execution_count": null,
   "metadata": {},
   "outputs": [],
   "source": [
    "icd.drop([\"index\"], axis=1, inplace=True)"
   ]
  },
  {
   "cell_type": "code",
   "execution_count": null,
   "metadata": {},
   "outputs": [],
   "source": [
    "icd_demos = pd.merge(icd, demos, how=\"inner\", on=[\"hadm_id\", \"subject_id\"])"
   ]
  },
  {
   "cell_type": "code",
   "execution_count": null,
   "metadata": {},
   "outputs": [],
   "source": [
    "icd_demos_vitals = pd.merge(vitals_slice, icd_demos, how=\"inner\", on=[\"hadm_id\", \"subject_id\"])"
   ]
  },
  {
   "cell_type": "code",
   "execution_count": null,
   "metadata": {},
   "outputs": [],
   "source": [
    "icd_demos_vitals.mortality.value_counts()"
   ]
  },
  {
   "cell_type": "code",
   "execution_count": null,
   "metadata": {},
   "outputs": [],
   "source": [
    "icd_demos_vitals[[\"hadm_id\", \"subject_id\"]].head(60)"
   ]
  },
  {
   "cell_type": "code",
   "execution_count": null,
   "metadata": {},
   "outputs": [],
   "source": [
    "len(icd_demos_vitals.subject_id.unique())"
   ]
  },
  {
   "cell_type": "code",
   "execution_count": null,
   "metadata": {},
   "outputs": [],
   "source": [
    "len(icd_demos_vitals.hadm_id.unique())"
   ]
  },
  {
   "cell_type": "code",
   "execution_count": null,
   "metadata": {},
   "outputs": [],
   "source": [
    "icd_demos_vitals.to_csv(\"icd_demos_vitals.csv\")"
   ]
  },
  {
   "cell_type": "code",
   "execution_count": null,
   "metadata": {},
   "outputs": [],
   "source": []
  }
 ]
}