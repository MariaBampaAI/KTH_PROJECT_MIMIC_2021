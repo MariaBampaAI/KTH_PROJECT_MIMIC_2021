{
 "metadata": {
  "language_info": {
   "codemirror_mode": {
    "name": "ipython",
    "version": 3
   },
   "file_extension": ".py",
   "mimetype": "text/x-python",
   "name": "python",
   "nbconvert_exporter": "python",
   "pygments_lexer": "ipython3",
   "version": "3.7.4"
  },
  "orig_nbformat": 2,
  "kernelspec": {
   "name": "pythonjvsc74a57bd01a45dd30e5671798ab819062d9e14f178a6c5e29c997e4a72a4b1344e290a839",
   "display_name": "Python 3.7.4 64-bit ('.venv': venv)"
  },
  "metadata": {
   "interpreter": {
    "hash": "1a45dd30e5671798ab819062d9e14f178a6c5e29c997e4a72a4b1344e290a839"
   }
  }
 },
 "nbformat": 4,
 "nbformat_minor": 2,
 "cells": [
  {
   "cell_type": "code",
   "execution_count": 1,
   "metadata": {},
   "outputs": [],
   "source": [
    "import sqlite3\n",
    "import pandas as pd "
   ]
  },
  {
   "cell_type": "code",
   "execution_count": 2,
   "metadata": {},
   "outputs": [
    {
     "output_type": "stream",
     "name": "stdout",
     "text": [
      "0\n",
      "TEST:    SUBJECT_ID  HADM_ID            ADMITTIME            DISCHTIME  \\\n",
      "0          22   165315  2196-04-09 12:26:00  2196-04-10 15:54:00   \n",
      "1          23   152223  2153-09-03 07:15:00  2153-09-08 19:10:00   \n",
      "2          23   124321  2157-10-18 19:34:00  2157-10-25 14:00:00   \n",
      "3          24   161859  2139-06-06 16:14:00  2139-06-09 12:48:00   \n",
      "4          25   129635  2160-11-02 02:06:00  2160-11-05 14:55:00   \n",
      "\n",
      "  ADMISSION_TYPE                                          DIAGNOSIS  \n",
      "0      EMERGENCY                            BENZODIAZEPINE OVERDOSE  \n",
      "1       ELECTIVE  CORONARY ARTERY DISEASE\\CORONARY ARTERY BYPASS...  \n",
      "2      EMERGENCY                                         BRAIN MASS  \n",
      "3      EMERGENCY                     INTERIOR MYOCARDIAL INFARCTION  \n",
      "4      EMERGENCY                            ACUTE CORONARY SYNDROME  \n"
     ]
    }
   ],
   "source": [
    "##############################################################################\n",
    "####################### CONNECT TO MIMIC #####################################\n",
    "connection = sqlite3.connect(\"C:\\\\Users\\\\Maria\\\\Desktop\\\\Projects Data Scripts\\\\MIMIC\\\\data\\\\mimic3.db\")\n",
    "\n",
    "#We can verify we successfully created our connection object by running:\n",
    "print(connection.total_changes)\n",
    "# Be sure to close the connection\n",
    "#con.close()\n",
    "\n",
    "# Create our test query\n",
    "test_query = \"\"\"\n",
    "SELECT subject_id, hadm_id, admittime, dischtime, admission_type, diagnosis\n",
    "FROM admissions\n",
    "\"\"\"\n",
    "\n",
    "# Run the query and assign the results to a variable\n",
    "test = pd.read_sql_query(test_query,connection)\n",
    "\n",
    "print(\"TEST:\", test.head())\n",
    "##############################################################################\n",
    "##################### QUERYING, MORTALITY COHORT #############################\n",
    "\n",
    "\n",
    "###positive cohort\n",
    "\n",
    "query = \"\"\"\n",
    "\n",
    "WITH icu_patients AS\n",
    "(\n",
    "SELECT icu.subject_id, icu.hadm_id, icu.icustay_id, pat.DOB, pat.gender, adm.admittime \n",
    ", (JulianDay(OUTTIME) - JulianDay(INTIME)) as icu_length_of_stay\n",
    ", (JulianDay(icu.INTIME) - JulianDay(pat.DOB))/ 364.242 as age\n",
    ", adm.hospital_expire_flag as mortality \n",
    "\n",
    "\n",
    "FROM icustays icu\n",
    "INNER JOIN patients pat\n",
    "  ON icu.subject_id = pat.subject_id\n",
    "INNER JOIN admissions adm\n",
    "    ON adm.subject_id = icu.subject_id\n",
    "    AND adm.hadm_id = icu.hadm_id\n",
    ")\n",
    "\n",
    "SELECT * \n",
    "FROM icu_patients icu_cohort\n",
    "WHERE icu_cohort.mortality == 1 AND icu_cohort.age >= 18 AND icu_cohort.icu_length_of_stay>=1\n",
    "\n",
    "\"\"\"\n",
    "\n",
    "\n",
    "positive_cohort = pd.read_sql_query(query, connection)"
   ]
  },
  {
   "cell_type": "code",
   "execution_count": 10,
   "metadata": {},
   "outputs": [],
   "source": [
    "\n",
    "positive_cohort = positive_cohort.copy() #keeping the original icu patients\n",
    "positive_cohort.drop_duplicates()\n",
    "\n",
    "#the dataset contains dupicate values, so i will drop them \n",
    "positive_cohort = positive_cohort.drop_duplicates(keep='first')"
   ]
  },
  {
   "cell_type": "code",
   "execution_count": 11,
   "metadata": {},
   "outputs": [
    {
     "output_type": "execute_result",
     "data": {
      "text/plain": [
       "      subject_id  hadm_id  icustay_id                  DOB gender  \\\n",
       "0             31   128652      254478  2036-05-17 00:00:00      M   \n",
       "1             56   181711      275642  1804-01-02 00:00:00      F   \n",
       "2             61   189535      217135  2063-10-21 00:00:00      M   \n",
       "3             91   121205      256972  2095-09-26 00:00:00      F   \n",
       "4            101   175533      233111  2114-07-22 00:00:00      M   \n",
       "...          ...      ...         ...                  ...    ...   \n",
       "5356       98669   108710      224242  2072-07-04 00:00:00      F   \n",
       "5357       98753   185764      207506  2094-05-01 00:00:00      F   \n",
       "5358       98753   185764      233107  2094-05-01 00:00:00      F   \n",
       "5359       98768   127022      213468  2027-07-26 00:00:00      F   \n",
       "5360       98797   105447      244147  2044-12-27 00:00:00      M   \n",
       "\n",
       "                admittime  icu_length_of_stay         age  mortality  \n",
       "0     2108-08-22 23:27:00            7.937940   72.465499          1  \n",
       "1     2104-01-02 02:01:00            1.849190  300.824960          1  \n",
       "2     2119-01-04 18:12:00            2.009144   55.401808          1  \n",
       "3     2177-04-23 00:08:00            3.475000   81.836145          1  \n",
       "4     2196-09-26 18:36:00            9.891852   82.411628          1  \n",
       "...                   ...                 ...         ...        ...  \n",
       "5356  2147-04-07 15:09:00            6.837303   74.962888          1  \n",
       "5357  2172-02-11 21:26:00            4.246400   78.021019          1  \n",
       "5358  2172-02-11 21:26:00            2.740428   78.035799          1  \n",
       "5359  2112-09-15 09:45:00            2.151123   85.375677          1  \n",
       "5360  2132-12-24 20:06:00            1.238171   88.234852          1  \n",
       "\n",
       "[5361 rows x 9 columns]"
      ],
      "text/html": "<div>\n<style scoped>\n    .dataframe tbody tr th:only-of-type {\n        vertical-align: middle;\n    }\n\n    .dataframe tbody tr th {\n        vertical-align: top;\n    }\n\n    .dataframe thead th {\n        text-align: right;\n    }\n</style>\n<table border=\"1\" class=\"dataframe\">\n  <thead>\n    <tr style=\"text-align: right;\">\n      <th></th>\n      <th>subject_id</th>\n      <th>hadm_id</th>\n      <th>icustay_id</th>\n      <th>DOB</th>\n      <th>gender</th>\n      <th>admittime</th>\n      <th>icu_length_of_stay</th>\n      <th>age</th>\n      <th>mortality</th>\n    </tr>\n  </thead>\n  <tbody>\n    <tr>\n      <th>0</th>\n      <td>31</td>\n      <td>128652</td>\n      <td>254478</td>\n      <td>2036-05-17 00:00:00</td>\n      <td>M</td>\n      <td>2108-08-22 23:27:00</td>\n      <td>7.937940</td>\n      <td>72.465499</td>\n      <td>1</td>\n    </tr>\n    <tr>\n      <th>1</th>\n      <td>56</td>\n      <td>181711</td>\n      <td>275642</td>\n      <td>1804-01-02 00:00:00</td>\n      <td>F</td>\n      <td>2104-01-02 02:01:00</td>\n      <td>1.849190</td>\n      <td>300.824960</td>\n      <td>1</td>\n    </tr>\n    <tr>\n      <th>2</th>\n      <td>61</td>\n      <td>189535</td>\n      <td>217135</td>\n      <td>2063-10-21 00:00:00</td>\n      <td>M</td>\n      <td>2119-01-04 18:12:00</td>\n      <td>2.009144</td>\n      <td>55.401808</td>\n      <td>1</td>\n    </tr>\n    <tr>\n      <th>3</th>\n      <td>91</td>\n      <td>121205</td>\n      <td>256972</td>\n      <td>2095-09-26 00:00:00</td>\n      <td>F</td>\n      <td>2177-04-23 00:08:00</td>\n      <td>3.475000</td>\n      <td>81.836145</td>\n      <td>1</td>\n    </tr>\n    <tr>\n      <th>4</th>\n      <td>101</td>\n      <td>175533</td>\n      <td>233111</td>\n      <td>2114-07-22 00:00:00</td>\n      <td>M</td>\n      <td>2196-09-26 18:36:00</td>\n      <td>9.891852</td>\n      <td>82.411628</td>\n      <td>1</td>\n    </tr>\n    <tr>\n      <th>...</th>\n      <td>...</td>\n      <td>...</td>\n      <td>...</td>\n      <td>...</td>\n      <td>...</td>\n      <td>...</td>\n      <td>...</td>\n      <td>...</td>\n      <td>...</td>\n    </tr>\n    <tr>\n      <th>5356</th>\n      <td>98669</td>\n      <td>108710</td>\n      <td>224242</td>\n      <td>2072-07-04 00:00:00</td>\n      <td>F</td>\n      <td>2147-04-07 15:09:00</td>\n      <td>6.837303</td>\n      <td>74.962888</td>\n      <td>1</td>\n    </tr>\n    <tr>\n      <th>5357</th>\n      <td>98753</td>\n      <td>185764</td>\n      <td>207506</td>\n      <td>2094-05-01 00:00:00</td>\n      <td>F</td>\n      <td>2172-02-11 21:26:00</td>\n      <td>4.246400</td>\n      <td>78.021019</td>\n      <td>1</td>\n    </tr>\n    <tr>\n      <th>5358</th>\n      <td>98753</td>\n      <td>185764</td>\n      <td>233107</td>\n      <td>2094-05-01 00:00:00</td>\n      <td>F</td>\n      <td>2172-02-11 21:26:00</td>\n      <td>2.740428</td>\n      <td>78.035799</td>\n      <td>1</td>\n    </tr>\n    <tr>\n      <th>5359</th>\n      <td>98768</td>\n      <td>127022</td>\n      <td>213468</td>\n      <td>2027-07-26 00:00:00</td>\n      <td>F</td>\n      <td>2112-09-15 09:45:00</td>\n      <td>2.151123</td>\n      <td>85.375677</td>\n      <td>1</td>\n    </tr>\n    <tr>\n      <th>5360</th>\n      <td>98797</td>\n      <td>105447</td>\n      <td>244147</td>\n      <td>2044-12-27 00:00:00</td>\n      <td>M</td>\n      <td>2132-12-24 20:06:00</td>\n      <td>1.238171</td>\n      <td>88.234852</td>\n      <td>1</td>\n    </tr>\n  </tbody>\n</table>\n<p>5361 rows × 9 columns</p>\n</div>"
     },
     "metadata": {},
     "execution_count": 11
    }
   ],
   "source": [
    "positive_cohort"
   ]
  },
  {
   "cell_type": "code",
   "execution_count": 12,
   "metadata": {},
   "outputs": [
    {
     "output_type": "execute_result",
     "data": {
      "text/plain": [
       "175448    5\n",
       "154357    5\n",
       "131118    5\n",
       "153926    4\n",
       "192825    4\n",
       "         ..\n",
       "121734    1\n",
       "193415    1\n",
       "127805    1\n",
       "105354    1\n",
       "114201    1\n",
       "Name: hadm_id, Length: 4774, dtype: int64"
      ]
     },
     "metadata": {},
     "execution_count": 12
    }
   ],
   "source": [
    "positive_cohort.hadm_id.value_counts()"
   ]
  },
  {
   "cell_type": "code",
   "execution_count": 13,
   "metadata": {},
   "outputs": [
    {
     "output_type": "execute_result",
     "data": {
      "text/plain": [
       "      subject_id  hadm_id  icustay_id                  DOB gender  \\\n",
       "3059       27427   175448      203143  2075-01-01 00:00:00      M   \n",
       "3060       27427   175448      207593  2075-01-01 00:00:00      M   \n",
       "3061       27427   175448      245197  2075-01-01 00:00:00      M   \n",
       "3062       27427   175448      282192  2075-01-01 00:00:00      M   \n",
       "3063       27427   175448      295239  2075-01-01 00:00:00      M   \n",
       "\n",
       "                admittime  icu_length_of_stay        age  mortality  \n",
       "3059  2150-11-03 22:05:00           50.860046  76.199964          1  \n",
       "3060  2150-11-03 22:05:00            2.495810  76.153348          1  \n",
       "3061  2150-11-03 22:05:00           22.853750  76.048125          1  \n",
       "3062  2150-11-03 22:05:00            3.115451  76.119077          1  \n",
       "3063  2150-11-03 22:05:00            1.814514  76.143537          1  "
      ],
      "text/html": "<div>\n<style scoped>\n    .dataframe tbody tr th:only-of-type {\n        vertical-align: middle;\n    }\n\n    .dataframe tbody tr th {\n        vertical-align: top;\n    }\n\n    .dataframe thead th {\n        text-align: right;\n    }\n</style>\n<table border=\"1\" class=\"dataframe\">\n  <thead>\n    <tr style=\"text-align: right;\">\n      <th></th>\n      <th>subject_id</th>\n      <th>hadm_id</th>\n      <th>icustay_id</th>\n      <th>DOB</th>\n      <th>gender</th>\n      <th>admittime</th>\n      <th>icu_length_of_stay</th>\n      <th>age</th>\n      <th>mortality</th>\n    </tr>\n  </thead>\n  <tbody>\n    <tr>\n      <th>3059</th>\n      <td>27427</td>\n      <td>175448</td>\n      <td>203143</td>\n      <td>2075-01-01 00:00:00</td>\n      <td>M</td>\n      <td>2150-11-03 22:05:00</td>\n      <td>50.860046</td>\n      <td>76.199964</td>\n      <td>1</td>\n    </tr>\n    <tr>\n      <th>3060</th>\n      <td>27427</td>\n      <td>175448</td>\n      <td>207593</td>\n      <td>2075-01-01 00:00:00</td>\n      <td>M</td>\n      <td>2150-11-03 22:05:00</td>\n      <td>2.495810</td>\n      <td>76.153348</td>\n      <td>1</td>\n    </tr>\n    <tr>\n      <th>3061</th>\n      <td>27427</td>\n      <td>175448</td>\n      <td>245197</td>\n      <td>2075-01-01 00:00:00</td>\n      <td>M</td>\n      <td>2150-11-03 22:05:00</td>\n      <td>22.853750</td>\n      <td>76.048125</td>\n      <td>1</td>\n    </tr>\n    <tr>\n      <th>3062</th>\n      <td>27427</td>\n      <td>175448</td>\n      <td>282192</td>\n      <td>2075-01-01 00:00:00</td>\n      <td>M</td>\n      <td>2150-11-03 22:05:00</td>\n      <td>3.115451</td>\n      <td>76.119077</td>\n      <td>1</td>\n    </tr>\n    <tr>\n      <th>3063</th>\n      <td>27427</td>\n      <td>175448</td>\n      <td>295239</td>\n      <td>2075-01-01 00:00:00</td>\n      <td>M</td>\n      <td>2150-11-03 22:05:00</td>\n      <td>1.814514</td>\n      <td>76.143537</td>\n      <td>1</td>\n    </tr>\n  </tbody>\n</table>\n</div>"
     },
     "metadata": {},
     "execution_count": 13
    }
   ],
   "source": [
    "positive_cohort[positive_cohort[\"hadm_id\"] == 175448]\n"
   ]
  },
  {
   "cell_type": "code",
   "execution_count": 14,
   "metadata": {},
   "outputs": [
    {
     "output_type": "execute_result",
     "data": {
      "text/plain": [
       "      subject_id  hadm_id  icustay_id                  DOB gender  \\\n",
       "0             31   128652      254478  2036-05-17 00:00:00      M   \n",
       "1             56   181711      275642  1804-01-02 00:00:00      F   \n",
       "2             61   189535      217135  2063-10-21 00:00:00      M   \n",
       "3             91   121205      256972  2095-09-26 00:00:00      F   \n",
       "4            101   175533      233111  2114-07-22 00:00:00      M   \n",
       "...          ...      ...         ...                  ...    ...   \n",
       "5356       98669   108710      224242  2072-07-04 00:00:00      F   \n",
       "5357       98753   185764      207506  2094-05-01 00:00:00      F   \n",
       "5358       98753   185764      233107  2094-05-01 00:00:00      F   \n",
       "5359       98768   127022      213468  2027-07-26 00:00:00      F   \n",
       "5360       98797   105447      244147  2044-12-27 00:00:00      M   \n",
       "\n",
       "                admittime  icu_length_of_stay         age  mortality  \n",
       "0     2108-08-22 23:27:00            7.937940   72.465499          1  \n",
       "1     2104-01-02 02:01:00            1.849190  300.824960          1  \n",
       "2     2119-01-04 18:12:00            2.009144   55.401808          1  \n",
       "3     2177-04-23 00:08:00            3.475000   81.836145          1  \n",
       "4     2196-09-26 18:36:00            9.891852   82.411628          1  \n",
       "...                   ...                 ...         ...        ...  \n",
       "5356  2147-04-07 15:09:00            6.837303   74.962888          1  \n",
       "5357  2172-02-11 21:26:00            4.246400   78.021019          1  \n",
       "5358  2172-02-11 21:26:00            2.740428   78.035799          1  \n",
       "5359  2112-09-15 09:45:00            2.151123   85.375677          1  \n",
       "5360  2132-12-24 20:06:00            1.238171   88.234852          1  \n",
       "\n",
       "[5361 rows x 9 columns]"
      ],
      "text/html": "<div>\n<style scoped>\n    .dataframe tbody tr th:only-of-type {\n        vertical-align: middle;\n    }\n\n    .dataframe tbody tr th {\n        vertical-align: top;\n    }\n\n    .dataframe thead th {\n        text-align: right;\n    }\n</style>\n<table border=\"1\" class=\"dataframe\">\n  <thead>\n    <tr style=\"text-align: right;\">\n      <th></th>\n      <th>subject_id</th>\n      <th>hadm_id</th>\n      <th>icustay_id</th>\n      <th>DOB</th>\n      <th>gender</th>\n      <th>admittime</th>\n      <th>icu_length_of_stay</th>\n      <th>age</th>\n      <th>mortality</th>\n    </tr>\n  </thead>\n  <tbody>\n    <tr>\n      <th>0</th>\n      <td>31</td>\n      <td>128652</td>\n      <td>254478</td>\n      <td>2036-05-17 00:00:00</td>\n      <td>M</td>\n      <td>2108-08-22 23:27:00</td>\n      <td>7.937940</td>\n      <td>72.465499</td>\n      <td>1</td>\n    </tr>\n    <tr>\n      <th>1</th>\n      <td>56</td>\n      <td>181711</td>\n      <td>275642</td>\n      <td>1804-01-02 00:00:00</td>\n      <td>F</td>\n      <td>2104-01-02 02:01:00</td>\n      <td>1.849190</td>\n      <td>300.824960</td>\n      <td>1</td>\n    </tr>\n    <tr>\n      <th>2</th>\n      <td>61</td>\n      <td>189535</td>\n      <td>217135</td>\n      <td>2063-10-21 00:00:00</td>\n      <td>M</td>\n      <td>2119-01-04 18:12:00</td>\n      <td>2.009144</td>\n      <td>55.401808</td>\n      <td>1</td>\n    </tr>\n    <tr>\n      <th>3</th>\n      <td>91</td>\n      <td>121205</td>\n      <td>256972</td>\n      <td>2095-09-26 00:00:00</td>\n      <td>F</td>\n      <td>2177-04-23 00:08:00</td>\n      <td>3.475000</td>\n      <td>81.836145</td>\n      <td>1</td>\n    </tr>\n    <tr>\n      <th>4</th>\n      <td>101</td>\n      <td>175533</td>\n      <td>233111</td>\n      <td>2114-07-22 00:00:00</td>\n      <td>M</td>\n      <td>2196-09-26 18:36:00</td>\n      <td>9.891852</td>\n      <td>82.411628</td>\n      <td>1</td>\n    </tr>\n    <tr>\n      <th>...</th>\n      <td>...</td>\n      <td>...</td>\n      <td>...</td>\n      <td>...</td>\n      <td>...</td>\n      <td>...</td>\n      <td>...</td>\n      <td>...</td>\n      <td>...</td>\n    </tr>\n    <tr>\n      <th>5356</th>\n      <td>98669</td>\n      <td>108710</td>\n      <td>224242</td>\n      <td>2072-07-04 00:00:00</td>\n      <td>F</td>\n      <td>2147-04-07 15:09:00</td>\n      <td>6.837303</td>\n      <td>74.962888</td>\n      <td>1</td>\n    </tr>\n    <tr>\n      <th>5357</th>\n      <td>98753</td>\n      <td>185764</td>\n      <td>207506</td>\n      <td>2094-05-01 00:00:00</td>\n      <td>F</td>\n      <td>2172-02-11 21:26:00</td>\n      <td>4.246400</td>\n      <td>78.021019</td>\n      <td>1</td>\n    </tr>\n    <tr>\n      <th>5358</th>\n      <td>98753</td>\n      <td>185764</td>\n      <td>233107</td>\n      <td>2094-05-01 00:00:00</td>\n      <td>F</td>\n      <td>2172-02-11 21:26:00</td>\n      <td>2.740428</td>\n      <td>78.035799</td>\n      <td>1</td>\n    </tr>\n    <tr>\n      <th>5359</th>\n      <td>98768</td>\n      <td>127022</td>\n      <td>213468</td>\n      <td>2027-07-26 00:00:00</td>\n      <td>F</td>\n      <td>2112-09-15 09:45:00</td>\n      <td>2.151123</td>\n      <td>85.375677</td>\n      <td>1</td>\n    </tr>\n    <tr>\n      <th>5360</th>\n      <td>98797</td>\n      <td>105447</td>\n      <td>244147</td>\n      <td>2044-12-27 00:00:00</td>\n      <td>M</td>\n      <td>2132-12-24 20:06:00</td>\n      <td>1.238171</td>\n      <td>88.234852</td>\n      <td>1</td>\n    </tr>\n  </tbody>\n</table>\n<p>5361 rows × 9 columns</p>\n</div>"
     },
     "metadata": {},
     "execution_count": 14
    }
   ],
   "source": [
    "positive_cohort"
   ]
  },
  {
   "source": [
    "## Negative Cohort"
   ],
   "cell_type": "markdown",
   "metadata": {}
  },
  {
   "cell_type": "code",
   "execution_count": 17,
   "metadata": {},
   "outputs": [],
   "source": [
    "\n",
    "###negative cohort\n",
    "\n",
    "query = \"\"\"\n",
    "\n",
    "WITH icu_patients AS\n",
    "(\n",
    "SELECT icu.subject_id, icu.hadm_id, icu.icustay_id, pat.DOB, pat.gender, adm.admittime \n",
    ", (JulianDay(OUTTIME) - JulianDay(INTIME)) as icu_length_of_stay\n",
    ", (JulianDay(icu.INTIME) - JulianDay(pat.DOB))/ 364.242 as age\n",
    ", adm.hospital_expire_flag \n",
    "\n",
    "\n",
    "FROM icustays icu\n",
    "INNER JOIN patients pat\n",
    "  ON icu.subject_id = pat.subject_id\n",
    "INNER JOIN admissions adm\n",
    "    ON adm.subject_id = icu.subject_id\n",
    "    AND adm.hadm_id = icu.hadm_id\n",
    ")\n",
    "\n",
    "SELECT icu_cohort.subject_id, icu_cohort.hadm_id, icu_cohort.icustay_id, icu_cohort.DOB, icu_cohort.gender, icu_cohort.admittime,  icu_cohort.icu_length_of_stay, icu_cohort.age, icu_cohort.hospital_expire_flag as mortality\n",
    "FROM icu_patients icu_cohort\n",
    "WHERE icu_cohort.subject_id NOT IN(\n",
    "    SELECT icu_cohort.subject_id\n",
    "    FROM icu_patients icu_cohort\n",
    "    WHERE icu_cohort.hospital_expire_flag == 1 AND icu_cohort.age >= 18 AND icu_cohort.icu_length_of_stay>=1\n",
    ")\n",
    "AND icu_cohort.age >= 18 AND icu_cohort.icu_length_of_stay>=1\n",
    "ORDER BY icu_cohort.subject_id\n",
    "\"\"\"\n",
    "\n",
    "\n",
    "negative_cohort = pd.read_sql_query(query, connection)"
   ]
  },
  {
   "cell_type": "code",
   "execution_count": null,
   "metadata": {},
   "outputs": [],
   "source": []
  },
  {
   "cell_type": "code",
   "execution_count": 18,
   "metadata": {},
   "outputs": [
    {
     "output_type": "execute_result",
     "data": {
      "text/plain": [
       "       subject_id  hadm_id  icustay_id                  DOB gender  \\\n",
       "0               3   145834      211552  2025-04-11 00:00:00      M   \n",
       "1               4   185777      294638  2143-05-12 00:00:00      F   \n",
       "2               6   107064      228232  2109-06-21 00:00:00      F   \n",
       "3              11   194540      229441  2128-02-22 00:00:00      F   \n",
       "4              13   143045      263738  2127-02-27 00:00:00      F   \n",
       "...           ...      ...         ...                  ...    ...   \n",
       "37807       99985   176670      279638  2127-04-08 00:00:00      M   \n",
       "37808       99991   151118      226241  2137-04-07 00:00:00      M   \n",
       "37809       99992   197084      242052  2078-10-17 00:00:00      F   \n",
       "37810       99995   137810      229633  2058-05-29 00:00:00      F   \n",
       "37811       99999   113369      246512  2054-01-06 00:00:00      F   \n",
       "\n",
       "                 admittime  icu_length_of_stay        age  mortality  \n",
       "0      2101-10-20 19:08:00            6.064560  76.736891          0  \n",
       "1      2191-03-16 00:28:00            1.678472  47.976402          0  \n",
       "2      2175-05-30 07:15:00            3.672917  66.123337          0  \n",
       "3      2178-04-16 06:18:00            1.584410  50.285974          0  \n",
       "4      2167-01-08 18:43:00            3.666042  39.975568          0  \n",
       "...                    ...                 ...        ...        ...  \n",
       "37807  2181-01-27 02:47:00           11.299838  53.962013          0  \n",
       "37808  2184-12-24 08:30:00            3.142616  47.860296          0  \n",
       "37809  2144-07-25 18:03:00            1.974456  65.952727          0  \n",
       "37810  2147-02-08 08:00:00            2.161481  88.942459          0  \n",
       "37811  2117-12-30 07:15:00            1.124201  64.159254          0  \n",
       "\n",
       "[37812 rows x 9 columns]"
      ],
      "text/html": "<div>\n<style scoped>\n    .dataframe tbody tr th:only-of-type {\n        vertical-align: middle;\n    }\n\n    .dataframe tbody tr th {\n        vertical-align: top;\n    }\n\n    .dataframe thead th {\n        text-align: right;\n    }\n</style>\n<table border=\"1\" class=\"dataframe\">\n  <thead>\n    <tr style=\"text-align: right;\">\n      <th></th>\n      <th>subject_id</th>\n      <th>hadm_id</th>\n      <th>icustay_id</th>\n      <th>DOB</th>\n      <th>gender</th>\n      <th>admittime</th>\n      <th>icu_length_of_stay</th>\n      <th>age</th>\n      <th>mortality</th>\n    </tr>\n  </thead>\n  <tbody>\n    <tr>\n      <th>0</th>\n      <td>3</td>\n      <td>145834</td>\n      <td>211552</td>\n      <td>2025-04-11 00:00:00</td>\n      <td>M</td>\n      <td>2101-10-20 19:08:00</td>\n      <td>6.064560</td>\n      <td>76.736891</td>\n      <td>0</td>\n    </tr>\n    <tr>\n      <th>1</th>\n      <td>4</td>\n      <td>185777</td>\n      <td>294638</td>\n      <td>2143-05-12 00:00:00</td>\n      <td>F</td>\n      <td>2191-03-16 00:28:00</td>\n      <td>1.678472</td>\n      <td>47.976402</td>\n      <td>0</td>\n    </tr>\n    <tr>\n      <th>2</th>\n      <td>6</td>\n      <td>107064</td>\n      <td>228232</td>\n      <td>2109-06-21 00:00:00</td>\n      <td>F</td>\n      <td>2175-05-30 07:15:00</td>\n      <td>3.672917</td>\n      <td>66.123337</td>\n      <td>0</td>\n    </tr>\n    <tr>\n      <th>3</th>\n      <td>11</td>\n      <td>194540</td>\n      <td>229441</td>\n      <td>2128-02-22 00:00:00</td>\n      <td>F</td>\n      <td>2178-04-16 06:18:00</td>\n      <td>1.584410</td>\n      <td>50.285974</td>\n      <td>0</td>\n    </tr>\n    <tr>\n      <th>4</th>\n      <td>13</td>\n      <td>143045</td>\n      <td>263738</td>\n      <td>2127-02-27 00:00:00</td>\n      <td>F</td>\n      <td>2167-01-08 18:43:00</td>\n      <td>3.666042</td>\n      <td>39.975568</td>\n      <td>0</td>\n    </tr>\n    <tr>\n      <th>...</th>\n      <td>...</td>\n      <td>...</td>\n      <td>...</td>\n      <td>...</td>\n      <td>...</td>\n      <td>...</td>\n      <td>...</td>\n      <td>...</td>\n      <td>...</td>\n    </tr>\n    <tr>\n      <th>37807</th>\n      <td>99985</td>\n      <td>176670</td>\n      <td>279638</td>\n      <td>2127-04-08 00:00:00</td>\n      <td>M</td>\n      <td>2181-01-27 02:47:00</td>\n      <td>11.299838</td>\n      <td>53.962013</td>\n      <td>0</td>\n    </tr>\n    <tr>\n      <th>37808</th>\n      <td>99991</td>\n      <td>151118</td>\n      <td>226241</td>\n      <td>2137-04-07 00:00:00</td>\n      <td>M</td>\n      <td>2184-12-24 08:30:00</td>\n      <td>3.142616</td>\n      <td>47.860296</td>\n      <td>0</td>\n    </tr>\n    <tr>\n      <th>37809</th>\n      <td>99992</td>\n      <td>197084</td>\n      <td>242052</td>\n      <td>2078-10-17 00:00:00</td>\n      <td>F</td>\n      <td>2144-07-25 18:03:00</td>\n      <td>1.974456</td>\n      <td>65.952727</td>\n      <td>0</td>\n    </tr>\n    <tr>\n      <th>37810</th>\n      <td>99995</td>\n      <td>137810</td>\n      <td>229633</td>\n      <td>2058-05-29 00:00:00</td>\n      <td>F</td>\n      <td>2147-02-08 08:00:00</td>\n      <td>2.161481</td>\n      <td>88.942459</td>\n      <td>0</td>\n    </tr>\n    <tr>\n      <th>37811</th>\n      <td>99999</td>\n      <td>113369</td>\n      <td>246512</td>\n      <td>2054-01-06 00:00:00</td>\n      <td>F</td>\n      <td>2117-12-30 07:15:00</td>\n      <td>1.124201</td>\n      <td>64.159254</td>\n      <td>0</td>\n    </tr>\n  </tbody>\n</table>\n<p>37812 rows × 9 columns</p>\n</div>"
     },
     "metadata": {},
     "execution_count": 18
    }
   ],
   "source": [
    "negative_cohort"
   ]
  },
  {
   "source": [
    "### Preprocessing Negagive (to mortality) ICU patients (Keep the oldest date for admission)"
   ],
   "cell_type": "markdown",
   "metadata": {}
  },
  {
   "cell_type": "code",
   "execution_count": 46,
   "metadata": {},
   "outputs": [],
   "source": [
    "# exclude patients < 18 years old\n",
    "patients = negative_cohort.copy() #keeping the original icu patients\n",
    "patients.drop_duplicates()\n",
    "\n",
    "#patients = patients[patients[\"exclusion_age\"]==0] #keep patients older than 18\n",
    "\n",
    "#the dataset contains dupicate values, so i will drop them \n",
    "patients = patients.drop_duplicates(keep='first')\n"
   ]
  },
  {
   "cell_type": "code",
   "execution_count": 47,
   "metadata": {},
   "outputs": [
    {
     "output_type": "execute_result",
     "data": {
      "text/plain": [
       "       subject_id  hadm_id  icustay_id                  DOB gender  \\\n",
       "12594       18108   163281      240938  2074-04-05 00:00:00      F   \n",
       "12595       18108   163281      200137  2074-04-05 00:00:00      F   \n",
       "12596       18108   163281      295394  2074-04-05 00:00:00      F   \n",
       "12597       18108   163281      240543  2074-04-05 00:00:00      F   \n",
       "12598       18108   163281      277556  2074-04-05 00:00:00      F   \n",
       "12599       18108   163281      277859  2074-04-05 00:00:00      F   \n",
       "12600       18108   163281      260163  2074-04-05 00:00:00      F   \n",
       "\n",
       "                 admittime  icu_length_of_stay        age  mortality  \n",
       "12594  2122-02-24 14:23:00            8.816134  48.039858          0  \n",
       "12595  2122-02-24 14:23:00            3.345822  48.084474          0  \n",
       "12596  2122-02-24 14:23:00            1.495498  48.100370          0  \n",
       "12597  2122-02-24 14:23:00            2.681991  48.124844          0  \n",
       "12598  2122-02-24 14:23:00            5.083623  48.138267          0  \n",
       "12599  2122-02-24 14:23:00            6.145567  48.161997          0  \n",
       "12600  2122-02-24 14:23:00           13.260023  48.183711          0  "
      ],
      "text/html": "<div>\n<style scoped>\n    .dataframe tbody tr th:only-of-type {\n        vertical-align: middle;\n    }\n\n    .dataframe tbody tr th {\n        vertical-align: top;\n    }\n\n    .dataframe thead th {\n        text-align: right;\n    }\n</style>\n<table border=\"1\" class=\"dataframe\">\n  <thead>\n    <tr style=\"text-align: right;\">\n      <th></th>\n      <th>subject_id</th>\n      <th>hadm_id</th>\n      <th>icustay_id</th>\n      <th>DOB</th>\n      <th>gender</th>\n      <th>admittime</th>\n      <th>icu_length_of_stay</th>\n      <th>age</th>\n      <th>mortality</th>\n    </tr>\n  </thead>\n  <tbody>\n    <tr>\n      <th>12594</th>\n      <td>18108</td>\n      <td>163281</td>\n      <td>240938</td>\n      <td>2074-04-05 00:00:00</td>\n      <td>F</td>\n      <td>2122-02-24 14:23:00</td>\n      <td>8.816134</td>\n      <td>48.039858</td>\n      <td>0</td>\n    </tr>\n    <tr>\n      <th>12595</th>\n      <td>18108</td>\n      <td>163281</td>\n      <td>200137</td>\n      <td>2074-04-05 00:00:00</td>\n      <td>F</td>\n      <td>2122-02-24 14:23:00</td>\n      <td>3.345822</td>\n      <td>48.084474</td>\n      <td>0</td>\n    </tr>\n    <tr>\n      <th>12596</th>\n      <td>18108</td>\n      <td>163281</td>\n      <td>295394</td>\n      <td>2074-04-05 00:00:00</td>\n      <td>F</td>\n      <td>2122-02-24 14:23:00</td>\n      <td>1.495498</td>\n      <td>48.100370</td>\n      <td>0</td>\n    </tr>\n    <tr>\n      <th>12597</th>\n      <td>18108</td>\n      <td>163281</td>\n      <td>240543</td>\n      <td>2074-04-05 00:00:00</td>\n      <td>F</td>\n      <td>2122-02-24 14:23:00</td>\n      <td>2.681991</td>\n      <td>48.124844</td>\n      <td>0</td>\n    </tr>\n    <tr>\n      <th>12598</th>\n      <td>18108</td>\n      <td>163281</td>\n      <td>277556</td>\n      <td>2074-04-05 00:00:00</td>\n      <td>F</td>\n      <td>2122-02-24 14:23:00</td>\n      <td>5.083623</td>\n      <td>48.138267</td>\n      <td>0</td>\n    </tr>\n    <tr>\n      <th>12599</th>\n      <td>18108</td>\n      <td>163281</td>\n      <td>277859</td>\n      <td>2074-04-05 00:00:00</td>\n      <td>F</td>\n      <td>2122-02-24 14:23:00</td>\n      <td>6.145567</td>\n      <td>48.161997</td>\n      <td>0</td>\n    </tr>\n    <tr>\n      <th>12600</th>\n      <td>18108</td>\n      <td>163281</td>\n      <td>260163</td>\n      <td>2074-04-05 00:00:00</td>\n      <td>F</td>\n      <td>2122-02-24 14:23:00</td>\n      <td>13.260023</td>\n      <td>48.183711</td>\n      <td>0</td>\n    </tr>\n  </tbody>\n</table>\n</div>"
     },
     "metadata": {},
     "execution_count": 47
    }
   ],
   "source": [
    "patients[patients[\"subject_id\"] == 18108]"
   ]
  },
  {
   "cell_type": "code",
   "execution_count": 48,
   "metadata": {},
   "outputs": [
    {
     "output_type": "execute_result",
     "data": {
      "text/plain": [
       "<bound method Series.sort_values of 13033    36\n",
       "11861    32\n",
       "11318    21\n",
       "19213    21\n",
       "7809     20\n",
       "         ..\n",
       "40728     1\n",
       "69407     1\n",
       "89180     1\n",
       "67741     1\n",
       "2047      1\n",
       "Name: subject_id, Length: 28790, dtype: int64>"
      ]
     },
     "metadata": {},
     "execution_count": 48
    }
   ],
   "source": [
    "patients.subject_id.value_counts().sort_values"
   ]
  },
  {
   "cell_type": "code",
   "execution_count": 49,
   "metadata": {},
   "outputs": [
    {
     "output_type": "execute_result",
     "data": {
      "text/plain": [
       "      subject_id  hadm_id  icustay_id                  DOB gender  \\\n",
       "8301       11861   142176      250513  2105-05-05 00:00:00      F   \n",
       "8302       11861   108945      205880  2105-05-05 00:00:00      F   \n",
       "8303       11861   172888      249009  2105-05-05 00:00:00      F   \n",
       "8304       11861   110532      270433  2105-05-05 00:00:00      F   \n",
       "8305       11861   102760      217247  2105-05-05 00:00:00      F   \n",
       "8306       11861   131344      237405  2105-05-05 00:00:00      F   \n",
       "8307       11861   123134      223323  2105-05-05 00:00:00      F   \n",
       "8308       11861   141109      238230  2105-05-05 00:00:00      F   \n",
       "8309       11861   173048      263259  2105-05-05 00:00:00      F   \n",
       "8310       11861   188478      229368  2105-05-05 00:00:00      F   \n",
       "8311       11861   121776      245310  2105-05-05 00:00:00      F   \n",
       "8312       11861   177702      215787  2105-05-05 00:00:00      F   \n",
       "8313       11861   120052      258069  2105-05-05 00:00:00      F   \n",
       "8314       11861   155206      239977  2105-05-05 00:00:00      F   \n",
       "8315       11861   189636      235170  2105-05-05 00:00:00      F   \n",
       "8316       11861   131216      267412  2105-05-05 00:00:00      F   \n",
       "8317       11861   106650      219377  2105-05-05 00:00:00      F   \n",
       "8318       11861   157671      269456  2105-05-05 00:00:00      F   \n",
       "8319       11861   170341      225706  2105-05-05 00:00:00      F   \n",
       "8320       11861   142227      243774  2105-05-05 00:00:00      F   \n",
       "8321       11861   121704      288136  2105-05-05 00:00:00      F   \n",
       "8322       11861   142285      246882  2105-05-05 00:00:00      F   \n",
       "8323       11861   144257      298894  2105-05-05 00:00:00      F   \n",
       "8324       11861   185487      257204  2105-05-05 00:00:00      F   \n",
       "8325       11861   167225      219648  2105-05-05 00:00:00      F   \n",
       "8326       11861   154098      200764  2105-05-05 00:00:00      F   \n",
       "8327       11861   128437      240212  2105-05-05 00:00:00      F   \n",
       "8328       11861   157119      281945  2105-05-05 00:00:00      F   \n",
       "8329       11861   108008      280693  2105-05-05 00:00:00      F   \n",
       "8330       11861   135677      299372  2105-05-05 00:00:00      F   \n",
       "8331       11861   123535      220375  2105-05-05 00:00:00      F   \n",
       "8332       11861   172200      242657  2105-05-05 00:00:00      F   \n",
       "\n",
       "                admittime  icu_length_of_stay        age  mortality  \n",
       "8301  2125-07-10 04:01:00            1.486354  20.237007          0  \n",
       "8302  2125-08-07 17:36:00            1.864549  20.315434          0  \n",
       "8303  2125-09-09 14:16:00            1.095775  20.405653          0  \n",
       "8304  2125-09-22 15:11:00            2.033472  20.441448          0  \n",
       "8305  2125-10-05 16:29:00            2.127894  20.477286          0  \n",
       "8306  2125-10-11 15:13:00            2.643449  20.493616          0  \n",
       "8307  2126-02-27 20:39:00            1.855035  20.875851          0  \n",
       "8308  2126-03-28 06:19:00            1.333299  20.953827          0  \n",
       "8309  2126-04-09 16:55:00            3.150532  20.987986          0  \n",
       "8310  2126-06-15 20:50:00            3.141852  21.172378          0  \n",
       "8311  2126-07-19 15:32:00            1.908148  21.265116          0  \n",
       "8312  2126-09-17 19:53:00            1.786678  21.430339          0  \n",
       "8313  2126-11-12 02:09:00            1.586979  21.582054          0  \n",
       "8314  2127-04-08 16:11:00            1.160231  21.987238          0  \n",
       "8315  2127-08-15 13:24:00            1.149421  22.341080          0  \n",
       "8316  2127-12-22 12:50:00            3.143785  22.695174          0  \n",
       "8317  2128-02-04 16:31:00            2.909074  22.816397          0  \n",
       "8318  2128-05-03 18:40:00            1.889329  23.060984          0  \n",
       "8319  2128-07-04 11:05:00            3.531586  23.230333          0  \n",
       "8320  2128-08-22 13:44:00            2.219086  23.365162          0  \n",
       "8321  2128-10-01 13:28:00            1.436806  23.474948          0  \n",
       "8322  2129-05-08 19:03:00            1.971400  24.076834          0  \n",
       "8323  2130-03-25 14:36:00            2.146111  24.957608          0  \n",
       "8324  2130-11-08 06:33:00            1.430347  25.582646          0  \n",
       "8325  2131-01-04 16:34:00            3.137350  25.740280          0  \n",
       "8326  2131-07-27 23:15:00            5.905139  26.301111          0  \n",
       "8327  2131-11-05 18:12:00            3.073472  26.577822          0  \n",
       "8328  2132-05-26 13:26:00            2.348542  27.134599          0  \n",
       "8329  2132-06-13 01:56:00            1.677778  27.182702          0  \n",
       "8330  2132-07-28 20:58:00            2.770012  27.308423          0  \n",
       "8331  2133-02-02 14:16:00            1.121979  27.826541          0  \n",
       "8332  2133-06-11 20:44:00            1.757002  28.181443          0  "
      ],
      "text/html": "<div>\n<style scoped>\n    .dataframe tbody tr th:only-of-type {\n        vertical-align: middle;\n    }\n\n    .dataframe tbody tr th {\n        vertical-align: top;\n    }\n\n    .dataframe thead th {\n        text-align: right;\n    }\n</style>\n<table border=\"1\" class=\"dataframe\">\n  <thead>\n    <tr style=\"text-align: right;\">\n      <th></th>\n      <th>subject_id</th>\n      <th>hadm_id</th>\n      <th>icustay_id</th>\n      <th>DOB</th>\n      <th>gender</th>\n      <th>admittime</th>\n      <th>icu_length_of_stay</th>\n      <th>age</th>\n      <th>mortality</th>\n    </tr>\n  </thead>\n  <tbody>\n    <tr>\n      <th>8301</th>\n      <td>11861</td>\n      <td>142176</td>\n      <td>250513</td>\n      <td>2105-05-05 00:00:00</td>\n      <td>F</td>\n      <td>2125-07-10 04:01:00</td>\n      <td>1.486354</td>\n      <td>20.237007</td>\n      <td>0</td>\n    </tr>\n    <tr>\n      <th>8302</th>\n      <td>11861</td>\n      <td>108945</td>\n      <td>205880</td>\n      <td>2105-05-05 00:00:00</td>\n      <td>F</td>\n      <td>2125-08-07 17:36:00</td>\n      <td>1.864549</td>\n      <td>20.315434</td>\n      <td>0</td>\n    </tr>\n    <tr>\n      <th>8303</th>\n      <td>11861</td>\n      <td>172888</td>\n      <td>249009</td>\n      <td>2105-05-05 00:00:00</td>\n      <td>F</td>\n      <td>2125-09-09 14:16:00</td>\n      <td>1.095775</td>\n      <td>20.405653</td>\n      <td>0</td>\n    </tr>\n    <tr>\n      <th>8304</th>\n      <td>11861</td>\n      <td>110532</td>\n      <td>270433</td>\n      <td>2105-05-05 00:00:00</td>\n      <td>F</td>\n      <td>2125-09-22 15:11:00</td>\n      <td>2.033472</td>\n      <td>20.441448</td>\n      <td>0</td>\n    </tr>\n    <tr>\n      <th>8305</th>\n      <td>11861</td>\n      <td>102760</td>\n      <td>217247</td>\n      <td>2105-05-05 00:00:00</td>\n      <td>F</td>\n      <td>2125-10-05 16:29:00</td>\n      <td>2.127894</td>\n      <td>20.477286</td>\n      <td>0</td>\n    </tr>\n    <tr>\n      <th>8306</th>\n      <td>11861</td>\n      <td>131344</td>\n      <td>237405</td>\n      <td>2105-05-05 00:00:00</td>\n      <td>F</td>\n      <td>2125-10-11 15:13:00</td>\n      <td>2.643449</td>\n      <td>20.493616</td>\n      <td>0</td>\n    </tr>\n    <tr>\n      <th>8307</th>\n      <td>11861</td>\n      <td>123134</td>\n      <td>223323</td>\n      <td>2105-05-05 00:00:00</td>\n      <td>F</td>\n      <td>2126-02-27 20:39:00</td>\n      <td>1.855035</td>\n      <td>20.875851</td>\n      <td>0</td>\n    </tr>\n    <tr>\n      <th>8308</th>\n      <td>11861</td>\n      <td>141109</td>\n      <td>238230</td>\n      <td>2105-05-05 00:00:00</td>\n      <td>F</td>\n      <td>2126-03-28 06:19:00</td>\n      <td>1.333299</td>\n      <td>20.953827</td>\n      <td>0</td>\n    </tr>\n    <tr>\n      <th>8309</th>\n      <td>11861</td>\n      <td>173048</td>\n      <td>263259</td>\n      <td>2105-05-05 00:00:00</td>\n      <td>F</td>\n      <td>2126-04-09 16:55:00</td>\n      <td>3.150532</td>\n      <td>20.987986</td>\n      <td>0</td>\n    </tr>\n    <tr>\n      <th>8310</th>\n      <td>11861</td>\n      <td>188478</td>\n      <td>229368</td>\n      <td>2105-05-05 00:00:00</td>\n      <td>F</td>\n      <td>2126-06-15 20:50:00</td>\n      <td>3.141852</td>\n      <td>21.172378</td>\n      <td>0</td>\n    </tr>\n    <tr>\n      <th>8311</th>\n      <td>11861</td>\n      <td>121776</td>\n      <td>245310</td>\n      <td>2105-05-05 00:00:00</td>\n      <td>F</td>\n      <td>2126-07-19 15:32:00</td>\n      <td>1.908148</td>\n      <td>21.265116</td>\n      <td>0</td>\n    </tr>\n    <tr>\n      <th>8312</th>\n      <td>11861</td>\n      <td>177702</td>\n      <td>215787</td>\n      <td>2105-05-05 00:00:00</td>\n      <td>F</td>\n      <td>2126-09-17 19:53:00</td>\n      <td>1.786678</td>\n      <td>21.430339</td>\n      <td>0</td>\n    </tr>\n    <tr>\n      <th>8313</th>\n      <td>11861</td>\n      <td>120052</td>\n      <td>258069</td>\n      <td>2105-05-05 00:00:00</td>\n      <td>F</td>\n      <td>2126-11-12 02:09:00</td>\n      <td>1.586979</td>\n      <td>21.582054</td>\n      <td>0</td>\n    </tr>\n    <tr>\n      <th>8314</th>\n      <td>11861</td>\n      <td>155206</td>\n      <td>239977</td>\n      <td>2105-05-05 00:00:00</td>\n      <td>F</td>\n      <td>2127-04-08 16:11:00</td>\n      <td>1.160231</td>\n      <td>21.987238</td>\n      <td>0</td>\n    </tr>\n    <tr>\n      <th>8315</th>\n      <td>11861</td>\n      <td>189636</td>\n      <td>235170</td>\n      <td>2105-05-05 00:00:00</td>\n      <td>F</td>\n      <td>2127-08-15 13:24:00</td>\n      <td>1.149421</td>\n      <td>22.341080</td>\n      <td>0</td>\n    </tr>\n    <tr>\n      <th>8316</th>\n      <td>11861</td>\n      <td>131216</td>\n      <td>267412</td>\n      <td>2105-05-05 00:00:00</td>\n      <td>F</td>\n      <td>2127-12-22 12:50:00</td>\n      <td>3.143785</td>\n      <td>22.695174</td>\n      <td>0</td>\n    </tr>\n    <tr>\n      <th>8317</th>\n      <td>11861</td>\n      <td>106650</td>\n      <td>219377</td>\n      <td>2105-05-05 00:00:00</td>\n      <td>F</td>\n      <td>2128-02-04 16:31:00</td>\n      <td>2.909074</td>\n      <td>22.816397</td>\n      <td>0</td>\n    </tr>\n    <tr>\n      <th>8318</th>\n      <td>11861</td>\n      <td>157671</td>\n      <td>269456</td>\n      <td>2105-05-05 00:00:00</td>\n      <td>F</td>\n      <td>2128-05-03 18:40:00</td>\n      <td>1.889329</td>\n      <td>23.060984</td>\n      <td>0</td>\n    </tr>\n    <tr>\n      <th>8319</th>\n      <td>11861</td>\n      <td>170341</td>\n      <td>225706</td>\n      <td>2105-05-05 00:00:00</td>\n      <td>F</td>\n      <td>2128-07-04 11:05:00</td>\n      <td>3.531586</td>\n      <td>23.230333</td>\n      <td>0</td>\n    </tr>\n    <tr>\n      <th>8320</th>\n      <td>11861</td>\n      <td>142227</td>\n      <td>243774</td>\n      <td>2105-05-05 00:00:00</td>\n      <td>F</td>\n      <td>2128-08-22 13:44:00</td>\n      <td>2.219086</td>\n      <td>23.365162</td>\n      <td>0</td>\n    </tr>\n    <tr>\n      <th>8321</th>\n      <td>11861</td>\n      <td>121704</td>\n      <td>288136</td>\n      <td>2105-05-05 00:00:00</td>\n      <td>F</td>\n      <td>2128-10-01 13:28:00</td>\n      <td>1.436806</td>\n      <td>23.474948</td>\n      <td>0</td>\n    </tr>\n    <tr>\n      <th>8322</th>\n      <td>11861</td>\n      <td>142285</td>\n      <td>246882</td>\n      <td>2105-05-05 00:00:00</td>\n      <td>F</td>\n      <td>2129-05-08 19:03:00</td>\n      <td>1.971400</td>\n      <td>24.076834</td>\n      <td>0</td>\n    </tr>\n    <tr>\n      <th>8323</th>\n      <td>11861</td>\n      <td>144257</td>\n      <td>298894</td>\n      <td>2105-05-05 00:00:00</td>\n      <td>F</td>\n      <td>2130-03-25 14:36:00</td>\n      <td>2.146111</td>\n      <td>24.957608</td>\n      <td>0</td>\n    </tr>\n    <tr>\n      <th>8324</th>\n      <td>11861</td>\n      <td>185487</td>\n      <td>257204</td>\n      <td>2105-05-05 00:00:00</td>\n      <td>F</td>\n      <td>2130-11-08 06:33:00</td>\n      <td>1.430347</td>\n      <td>25.582646</td>\n      <td>0</td>\n    </tr>\n    <tr>\n      <th>8325</th>\n      <td>11861</td>\n      <td>167225</td>\n      <td>219648</td>\n      <td>2105-05-05 00:00:00</td>\n      <td>F</td>\n      <td>2131-01-04 16:34:00</td>\n      <td>3.137350</td>\n      <td>25.740280</td>\n      <td>0</td>\n    </tr>\n    <tr>\n      <th>8326</th>\n      <td>11861</td>\n      <td>154098</td>\n      <td>200764</td>\n      <td>2105-05-05 00:00:00</td>\n      <td>F</td>\n      <td>2131-07-27 23:15:00</td>\n      <td>5.905139</td>\n      <td>26.301111</td>\n      <td>0</td>\n    </tr>\n    <tr>\n      <th>8327</th>\n      <td>11861</td>\n      <td>128437</td>\n      <td>240212</td>\n      <td>2105-05-05 00:00:00</td>\n      <td>F</td>\n      <td>2131-11-05 18:12:00</td>\n      <td>3.073472</td>\n      <td>26.577822</td>\n      <td>0</td>\n    </tr>\n    <tr>\n      <th>8328</th>\n      <td>11861</td>\n      <td>157119</td>\n      <td>281945</td>\n      <td>2105-05-05 00:00:00</td>\n      <td>F</td>\n      <td>2132-05-26 13:26:00</td>\n      <td>2.348542</td>\n      <td>27.134599</td>\n      <td>0</td>\n    </tr>\n    <tr>\n      <th>8329</th>\n      <td>11861</td>\n      <td>108008</td>\n      <td>280693</td>\n      <td>2105-05-05 00:00:00</td>\n      <td>F</td>\n      <td>2132-06-13 01:56:00</td>\n      <td>1.677778</td>\n      <td>27.182702</td>\n      <td>0</td>\n    </tr>\n    <tr>\n      <th>8330</th>\n      <td>11861</td>\n      <td>135677</td>\n      <td>299372</td>\n      <td>2105-05-05 00:00:00</td>\n      <td>F</td>\n      <td>2132-07-28 20:58:00</td>\n      <td>2.770012</td>\n      <td>27.308423</td>\n      <td>0</td>\n    </tr>\n    <tr>\n      <th>8331</th>\n      <td>11861</td>\n      <td>123535</td>\n      <td>220375</td>\n      <td>2105-05-05 00:00:00</td>\n      <td>F</td>\n      <td>2133-02-02 14:16:00</td>\n      <td>1.121979</td>\n      <td>27.826541</td>\n      <td>0</td>\n    </tr>\n    <tr>\n      <th>8332</th>\n      <td>11861</td>\n      <td>172200</td>\n      <td>242657</td>\n      <td>2105-05-05 00:00:00</td>\n      <td>F</td>\n      <td>2133-06-11 20:44:00</td>\n      <td>1.757002</td>\n      <td>28.181443</td>\n      <td>0</td>\n    </tr>\n  </tbody>\n</table>\n</div>"
     },
     "metadata": {},
     "execution_count": 49
    }
   ],
   "source": [
    "#check if we actually dropped duplicates\n",
    "patients[patients[\"subject_id\"]==11861]"
   ]
  },
  {
   "cell_type": "code",
   "execution_count": 50,
   "metadata": {},
   "outputs": [],
   "source": [
    "#i extracted patients with multiple hadm_id, so we need to keep only the first hadm_id for each patient. and for each hadm_id all icu_Stays_id (i need them for labs and stuff)\n",
    "\n",
    "\n",
    "#count how  many visits in the icu each patient has \n",
    "counts = patients.groupby(patients.subject_id).nunique()[\"hadm_id\"]\n",
    "\n",
    "# index of patients with more than one hadm_id\n",
    "# select multi visit patients from patients\n",
    "idx_pat_multi_hadmid = counts[counts.values>1].index\n",
    "multi_hadmid_patients = patients[patients.subject_id.isin(list(idx_pat_multi_hadmid))]"
   ]
  },
  {
   "cell_type": "code",
   "execution_count": 51,
   "metadata": {},
   "outputs": [],
   "source": [
    "#extract the one with one unique hadm_id for later concat of negative cohort\n",
    "uni_hadmid_patients = patients[~patients.subject_id.isin(list(idx_pat_multi_hadmid))]"
   ]
  },
  {
   "cell_type": "code",
   "execution_count": 52,
   "metadata": {},
   "outputs": [
    {
     "output_type": "execute_result",
     "data": {
      "text/plain": [
       "   subject_id  hadm_id  icustay_id                  DOB gender  \\\n",
       "0           3   145834      211552  2025-04-11 00:00:00      M   \n",
       "1           4   185777      294638  2143-05-12 00:00:00      F   \n",
       "2           6   107064      228232  2109-06-21 00:00:00      F   \n",
       "3          11   194540      229441  2128-02-22 00:00:00      F   \n",
       "4          13   143045      263738  2127-02-27 00:00:00      F   \n",
       "\n",
       "             admittime  icu_length_of_stay        age  mortality  \n",
       "0  2101-10-20 19:08:00            6.064560  76.736891          0  \n",
       "1  2191-03-16 00:28:00            1.678472  47.976402          0  \n",
       "2  2175-05-30 07:15:00            3.672917  66.123337          0  \n",
       "3  2178-04-16 06:18:00            1.584410  50.285974          0  \n",
       "4  2167-01-08 18:43:00            3.666042  39.975568          0  "
      ],
      "text/html": "<div>\n<style scoped>\n    .dataframe tbody tr th:only-of-type {\n        vertical-align: middle;\n    }\n\n    .dataframe tbody tr th {\n        vertical-align: top;\n    }\n\n    .dataframe thead th {\n        text-align: right;\n    }\n</style>\n<table border=\"1\" class=\"dataframe\">\n  <thead>\n    <tr style=\"text-align: right;\">\n      <th></th>\n      <th>subject_id</th>\n      <th>hadm_id</th>\n      <th>icustay_id</th>\n      <th>DOB</th>\n      <th>gender</th>\n      <th>admittime</th>\n      <th>icu_length_of_stay</th>\n      <th>age</th>\n      <th>mortality</th>\n    </tr>\n  </thead>\n  <tbody>\n    <tr>\n      <th>0</th>\n      <td>3</td>\n      <td>145834</td>\n      <td>211552</td>\n      <td>2025-04-11 00:00:00</td>\n      <td>M</td>\n      <td>2101-10-20 19:08:00</td>\n      <td>6.064560</td>\n      <td>76.736891</td>\n      <td>0</td>\n    </tr>\n    <tr>\n      <th>1</th>\n      <td>4</td>\n      <td>185777</td>\n      <td>294638</td>\n      <td>2143-05-12 00:00:00</td>\n      <td>F</td>\n      <td>2191-03-16 00:28:00</td>\n      <td>1.678472</td>\n      <td>47.976402</td>\n      <td>0</td>\n    </tr>\n    <tr>\n      <th>2</th>\n      <td>6</td>\n      <td>107064</td>\n      <td>228232</td>\n      <td>2109-06-21 00:00:00</td>\n      <td>F</td>\n      <td>2175-05-30 07:15:00</td>\n      <td>3.672917</td>\n      <td>66.123337</td>\n      <td>0</td>\n    </tr>\n    <tr>\n      <th>3</th>\n      <td>11</td>\n      <td>194540</td>\n      <td>229441</td>\n      <td>2128-02-22 00:00:00</td>\n      <td>F</td>\n      <td>2178-04-16 06:18:00</td>\n      <td>1.584410</td>\n      <td>50.285974</td>\n      <td>0</td>\n    </tr>\n    <tr>\n      <th>4</th>\n      <td>13</td>\n      <td>143045</td>\n      <td>263738</td>\n      <td>2127-02-27 00:00:00</td>\n      <td>F</td>\n      <td>2167-01-08 18:43:00</td>\n      <td>3.666042</td>\n      <td>39.975568</td>\n      <td>0</td>\n    </tr>\n  </tbody>\n</table>\n</div>"
     },
     "metadata": {},
     "execution_count": 52
    }
   ],
   "source": [
    "uni_hadmid_patients.head()"
   ]
  },
  {
   "cell_type": "code",
   "execution_count": 53,
   "metadata": {},
   "outputs": [
    {
     "output_type": "execute_result",
     "data": {
      "text/plain": [
       "    subject_id  hadm_id  icustay_id                  DOB gender  \\\n",
       "10          23   152223      227807  2082-07-17 00:00:00      M   \n",
       "11          23   124321      234044  2082-07-17 00:00:00      M   \n",
       "20          36   182104      280987  2061-08-17 00:00:00      M   \n",
       "21          36   122659      211200  2061-08-17 00:00:00      M   \n",
       "22          36   165660      241249  2061-08-17 00:00:00      M   \n",
       "\n",
       "              admittime  icu_length_of_stay        age  mortality  \n",
       "10  2153-09-03 07:15:00            1.264074  71.327310          0  \n",
       "11  2157-10-18 19:34:00            1.186227  75.470392          0  \n",
       "20  2131-04-30 07:15:00            1.109595  69.902529          0  \n",
       "21  2131-05-12 19:49:00            6.859549  69.936941          0  \n",
       "22  2134-05-10 11:30:00            4.348299  72.933068          0  "
      ],
      "text/html": "<div>\n<style scoped>\n    .dataframe tbody tr th:only-of-type {\n        vertical-align: middle;\n    }\n\n    .dataframe tbody tr th {\n        vertical-align: top;\n    }\n\n    .dataframe thead th {\n        text-align: right;\n    }\n</style>\n<table border=\"1\" class=\"dataframe\">\n  <thead>\n    <tr style=\"text-align: right;\">\n      <th></th>\n      <th>subject_id</th>\n      <th>hadm_id</th>\n      <th>icustay_id</th>\n      <th>DOB</th>\n      <th>gender</th>\n      <th>admittime</th>\n      <th>icu_length_of_stay</th>\n      <th>age</th>\n      <th>mortality</th>\n    </tr>\n  </thead>\n  <tbody>\n    <tr>\n      <th>10</th>\n      <td>23</td>\n      <td>152223</td>\n      <td>227807</td>\n      <td>2082-07-17 00:00:00</td>\n      <td>M</td>\n      <td>2153-09-03 07:15:00</td>\n      <td>1.264074</td>\n      <td>71.327310</td>\n      <td>0</td>\n    </tr>\n    <tr>\n      <th>11</th>\n      <td>23</td>\n      <td>124321</td>\n      <td>234044</td>\n      <td>2082-07-17 00:00:00</td>\n      <td>M</td>\n      <td>2157-10-18 19:34:00</td>\n      <td>1.186227</td>\n      <td>75.470392</td>\n      <td>0</td>\n    </tr>\n    <tr>\n      <th>20</th>\n      <td>36</td>\n      <td>182104</td>\n      <td>280987</td>\n      <td>2061-08-17 00:00:00</td>\n      <td>M</td>\n      <td>2131-04-30 07:15:00</td>\n      <td>1.109595</td>\n      <td>69.902529</td>\n      <td>0</td>\n    </tr>\n    <tr>\n      <th>21</th>\n      <td>36</td>\n      <td>122659</td>\n      <td>211200</td>\n      <td>2061-08-17 00:00:00</td>\n      <td>M</td>\n      <td>2131-05-12 19:49:00</td>\n      <td>6.859549</td>\n      <td>69.936941</td>\n      <td>0</td>\n    </tr>\n    <tr>\n      <th>22</th>\n      <td>36</td>\n      <td>165660</td>\n      <td>241249</td>\n      <td>2061-08-17 00:00:00</td>\n      <td>M</td>\n      <td>2134-05-10 11:30:00</td>\n      <td>4.348299</td>\n      <td>72.933068</td>\n      <td>0</td>\n    </tr>\n  </tbody>\n</table>\n</div>"
     },
     "metadata": {},
     "execution_count": 53
    }
   ],
   "source": [
    "multi_hadmid_patients.head()"
   ]
  },
  {
   "cell_type": "code",
   "execution_count": 54,
   "metadata": {},
   "outputs": [
    {
     "output_type": "execute_result",
     "data": {
      "text/plain": [
       "      subject_id  hadm_id  icustay_id                  DOB gender  \\\n",
       "8301       11861   142176      250513  2105-05-05 00:00:00      F   \n",
       "8302       11861   108945      205880  2105-05-05 00:00:00      F   \n",
       "8303       11861   172888      249009  2105-05-05 00:00:00      F   \n",
       "8304       11861   110532      270433  2105-05-05 00:00:00      F   \n",
       "8305       11861   102760      217247  2105-05-05 00:00:00      F   \n",
       "8306       11861   131344      237405  2105-05-05 00:00:00      F   \n",
       "8307       11861   123134      223323  2105-05-05 00:00:00      F   \n",
       "8308       11861   141109      238230  2105-05-05 00:00:00      F   \n",
       "8309       11861   173048      263259  2105-05-05 00:00:00      F   \n",
       "8310       11861   188478      229368  2105-05-05 00:00:00      F   \n",
       "8311       11861   121776      245310  2105-05-05 00:00:00      F   \n",
       "8312       11861   177702      215787  2105-05-05 00:00:00      F   \n",
       "8313       11861   120052      258069  2105-05-05 00:00:00      F   \n",
       "8314       11861   155206      239977  2105-05-05 00:00:00      F   \n",
       "8315       11861   189636      235170  2105-05-05 00:00:00      F   \n",
       "8316       11861   131216      267412  2105-05-05 00:00:00      F   \n",
       "8317       11861   106650      219377  2105-05-05 00:00:00      F   \n",
       "8318       11861   157671      269456  2105-05-05 00:00:00      F   \n",
       "8319       11861   170341      225706  2105-05-05 00:00:00      F   \n",
       "8320       11861   142227      243774  2105-05-05 00:00:00      F   \n",
       "8321       11861   121704      288136  2105-05-05 00:00:00      F   \n",
       "8322       11861   142285      246882  2105-05-05 00:00:00      F   \n",
       "8323       11861   144257      298894  2105-05-05 00:00:00      F   \n",
       "8324       11861   185487      257204  2105-05-05 00:00:00      F   \n",
       "8325       11861   167225      219648  2105-05-05 00:00:00      F   \n",
       "8326       11861   154098      200764  2105-05-05 00:00:00      F   \n",
       "8327       11861   128437      240212  2105-05-05 00:00:00      F   \n",
       "8328       11861   157119      281945  2105-05-05 00:00:00      F   \n",
       "8329       11861   108008      280693  2105-05-05 00:00:00      F   \n",
       "8330       11861   135677      299372  2105-05-05 00:00:00      F   \n",
       "8331       11861   123535      220375  2105-05-05 00:00:00      F   \n",
       "8332       11861   172200      242657  2105-05-05 00:00:00      F   \n",
       "\n",
       "                admittime  icu_length_of_stay        age  mortality  \n",
       "8301  2125-07-10 04:01:00            1.486354  20.237007          0  \n",
       "8302  2125-08-07 17:36:00            1.864549  20.315434          0  \n",
       "8303  2125-09-09 14:16:00            1.095775  20.405653          0  \n",
       "8304  2125-09-22 15:11:00            2.033472  20.441448          0  \n",
       "8305  2125-10-05 16:29:00            2.127894  20.477286          0  \n",
       "8306  2125-10-11 15:13:00            2.643449  20.493616          0  \n",
       "8307  2126-02-27 20:39:00            1.855035  20.875851          0  \n",
       "8308  2126-03-28 06:19:00            1.333299  20.953827          0  \n",
       "8309  2126-04-09 16:55:00            3.150532  20.987986          0  \n",
       "8310  2126-06-15 20:50:00            3.141852  21.172378          0  \n",
       "8311  2126-07-19 15:32:00            1.908148  21.265116          0  \n",
       "8312  2126-09-17 19:53:00            1.786678  21.430339          0  \n",
       "8313  2126-11-12 02:09:00            1.586979  21.582054          0  \n",
       "8314  2127-04-08 16:11:00            1.160231  21.987238          0  \n",
       "8315  2127-08-15 13:24:00            1.149421  22.341080          0  \n",
       "8316  2127-12-22 12:50:00            3.143785  22.695174          0  \n",
       "8317  2128-02-04 16:31:00            2.909074  22.816397          0  \n",
       "8318  2128-05-03 18:40:00            1.889329  23.060984          0  \n",
       "8319  2128-07-04 11:05:00            3.531586  23.230333          0  \n",
       "8320  2128-08-22 13:44:00            2.219086  23.365162          0  \n",
       "8321  2128-10-01 13:28:00            1.436806  23.474948          0  \n",
       "8322  2129-05-08 19:03:00            1.971400  24.076834          0  \n",
       "8323  2130-03-25 14:36:00            2.146111  24.957608          0  \n",
       "8324  2130-11-08 06:33:00            1.430347  25.582646          0  \n",
       "8325  2131-01-04 16:34:00            3.137350  25.740280          0  \n",
       "8326  2131-07-27 23:15:00            5.905139  26.301111          0  \n",
       "8327  2131-11-05 18:12:00            3.073472  26.577822          0  \n",
       "8328  2132-05-26 13:26:00            2.348542  27.134599          0  \n",
       "8329  2132-06-13 01:56:00            1.677778  27.182702          0  \n",
       "8330  2132-07-28 20:58:00            2.770012  27.308423          0  \n",
       "8331  2133-02-02 14:16:00            1.121979  27.826541          0  \n",
       "8332  2133-06-11 20:44:00            1.757002  28.181443          0  "
      ],
      "text/html": "<div>\n<style scoped>\n    .dataframe tbody tr th:only-of-type {\n        vertical-align: middle;\n    }\n\n    .dataframe tbody tr th {\n        vertical-align: top;\n    }\n\n    .dataframe thead th {\n        text-align: right;\n    }\n</style>\n<table border=\"1\" class=\"dataframe\">\n  <thead>\n    <tr style=\"text-align: right;\">\n      <th></th>\n      <th>subject_id</th>\n      <th>hadm_id</th>\n      <th>icustay_id</th>\n      <th>DOB</th>\n      <th>gender</th>\n      <th>admittime</th>\n      <th>icu_length_of_stay</th>\n      <th>age</th>\n      <th>mortality</th>\n    </tr>\n  </thead>\n  <tbody>\n    <tr>\n      <th>8301</th>\n      <td>11861</td>\n      <td>142176</td>\n      <td>250513</td>\n      <td>2105-05-05 00:00:00</td>\n      <td>F</td>\n      <td>2125-07-10 04:01:00</td>\n      <td>1.486354</td>\n      <td>20.237007</td>\n      <td>0</td>\n    </tr>\n    <tr>\n      <th>8302</th>\n      <td>11861</td>\n      <td>108945</td>\n      <td>205880</td>\n      <td>2105-05-05 00:00:00</td>\n      <td>F</td>\n      <td>2125-08-07 17:36:00</td>\n      <td>1.864549</td>\n      <td>20.315434</td>\n      <td>0</td>\n    </tr>\n    <tr>\n      <th>8303</th>\n      <td>11861</td>\n      <td>172888</td>\n      <td>249009</td>\n      <td>2105-05-05 00:00:00</td>\n      <td>F</td>\n      <td>2125-09-09 14:16:00</td>\n      <td>1.095775</td>\n      <td>20.405653</td>\n      <td>0</td>\n    </tr>\n    <tr>\n      <th>8304</th>\n      <td>11861</td>\n      <td>110532</td>\n      <td>270433</td>\n      <td>2105-05-05 00:00:00</td>\n      <td>F</td>\n      <td>2125-09-22 15:11:00</td>\n      <td>2.033472</td>\n      <td>20.441448</td>\n      <td>0</td>\n    </tr>\n    <tr>\n      <th>8305</th>\n      <td>11861</td>\n      <td>102760</td>\n      <td>217247</td>\n      <td>2105-05-05 00:00:00</td>\n      <td>F</td>\n      <td>2125-10-05 16:29:00</td>\n      <td>2.127894</td>\n      <td>20.477286</td>\n      <td>0</td>\n    </tr>\n    <tr>\n      <th>8306</th>\n      <td>11861</td>\n      <td>131344</td>\n      <td>237405</td>\n      <td>2105-05-05 00:00:00</td>\n      <td>F</td>\n      <td>2125-10-11 15:13:00</td>\n      <td>2.643449</td>\n      <td>20.493616</td>\n      <td>0</td>\n    </tr>\n    <tr>\n      <th>8307</th>\n      <td>11861</td>\n      <td>123134</td>\n      <td>223323</td>\n      <td>2105-05-05 00:00:00</td>\n      <td>F</td>\n      <td>2126-02-27 20:39:00</td>\n      <td>1.855035</td>\n      <td>20.875851</td>\n      <td>0</td>\n    </tr>\n    <tr>\n      <th>8308</th>\n      <td>11861</td>\n      <td>141109</td>\n      <td>238230</td>\n      <td>2105-05-05 00:00:00</td>\n      <td>F</td>\n      <td>2126-03-28 06:19:00</td>\n      <td>1.333299</td>\n      <td>20.953827</td>\n      <td>0</td>\n    </tr>\n    <tr>\n      <th>8309</th>\n      <td>11861</td>\n      <td>173048</td>\n      <td>263259</td>\n      <td>2105-05-05 00:00:00</td>\n      <td>F</td>\n      <td>2126-04-09 16:55:00</td>\n      <td>3.150532</td>\n      <td>20.987986</td>\n      <td>0</td>\n    </tr>\n    <tr>\n      <th>8310</th>\n      <td>11861</td>\n      <td>188478</td>\n      <td>229368</td>\n      <td>2105-05-05 00:00:00</td>\n      <td>F</td>\n      <td>2126-06-15 20:50:00</td>\n      <td>3.141852</td>\n      <td>21.172378</td>\n      <td>0</td>\n    </tr>\n    <tr>\n      <th>8311</th>\n      <td>11861</td>\n      <td>121776</td>\n      <td>245310</td>\n      <td>2105-05-05 00:00:00</td>\n      <td>F</td>\n      <td>2126-07-19 15:32:00</td>\n      <td>1.908148</td>\n      <td>21.265116</td>\n      <td>0</td>\n    </tr>\n    <tr>\n      <th>8312</th>\n      <td>11861</td>\n      <td>177702</td>\n      <td>215787</td>\n      <td>2105-05-05 00:00:00</td>\n      <td>F</td>\n      <td>2126-09-17 19:53:00</td>\n      <td>1.786678</td>\n      <td>21.430339</td>\n      <td>0</td>\n    </tr>\n    <tr>\n      <th>8313</th>\n      <td>11861</td>\n      <td>120052</td>\n      <td>258069</td>\n      <td>2105-05-05 00:00:00</td>\n      <td>F</td>\n      <td>2126-11-12 02:09:00</td>\n      <td>1.586979</td>\n      <td>21.582054</td>\n      <td>0</td>\n    </tr>\n    <tr>\n      <th>8314</th>\n      <td>11861</td>\n      <td>155206</td>\n      <td>239977</td>\n      <td>2105-05-05 00:00:00</td>\n      <td>F</td>\n      <td>2127-04-08 16:11:00</td>\n      <td>1.160231</td>\n      <td>21.987238</td>\n      <td>0</td>\n    </tr>\n    <tr>\n      <th>8315</th>\n      <td>11861</td>\n      <td>189636</td>\n      <td>235170</td>\n      <td>2105-05-05 00:00:00</td>\n      <td>F</td>\n      <td>2127-08-15 13:24:00</td>\n      <td>1.149421</td>\n      <td>22.341080</td>\n      <td>0</td>\n    </tr>\n    <tr>\n      <th>8316</th>\n      <td>11861</td>\n      <td>131216</td>\n      <td>267412</td>\n      <td>2105-05-05 00:00:00</td>\n      <td>F</td>\n      <td>2127-12-22 12:50:00</td>\n      <td>3.143785</td>\n      <td>22.695174</td>\n      <td>0</td>\n    </tr>\n    <tr>\n      <th>8317</th>\n      <td>11861</td>\n      <td>106650</td>\n      <td>219377</td>\n      <td>2105-05-05 00:00:00</td>\n      <td>F</td>\n      <td>2128-02-04 16:31:00</td>\n      <td>2.909074</td>\n      <td>22.816397</td>\n      <td>0</td>\n    </tr>\n    <tr>\n      <th>8318</th>\n      <td>11861</td>\n      <td>157671</td>\n      <td>269456</td>\n      <td>2105-05-05 00:00:00</td>\n      <td>F</td>\n      <td>2128-05-03 18:40:00</td>\n      <td>1.889329</td>\n      <td>23.060984</td>\n      <td>0</td>\n    </tr>\n    <tr>\n      <th>8319</th>\n      <td>11861</td>\n      <td>170341</td>\n      <td>225706</td>\n      <td>2105-05-05 00:00:00</td>\n      <td>F</td>\n      <td>2128-07-04 11:05:00</td>\n      <td>3.531586</td>\n      <td>23.230333</td>\n      <td>0</td>\n    </tr>\n    <tr>\n      <th>8320</th>\n      <td>11861</td>\n      <td>142227</td>\n      <td>243774</td>\n      <td>2105-05-05 00:00:00</td>\n      <td>F</td>\n      <td>2128-08-22 13:44:00</td>\n      <td>2.219086</td>\n      <td>23.365162</td>\n      <td>0</td>\n    </tr>\n    <tr>\n      <th>8321</th>\n      <td>11861</td>\n      <td>121704</td>\n      <td>288136</td>\n      <td>2105-05-05 00:00:00</td>\n      <td>F</td>\n      <td>2128-10-01 13:28:00</td>\n      <td>1.436806</td>\n      <td>23.474948</td>\n      <td>0</td>\n    </tr>\n    <tr>\n      <th>8322</th>\n      <td>11861</td>\n      <td>142285</td>\n      <td>246882</td>\n      <td>2105-05-05 00:00:00</td>\n      <td>F</td>\n      <td>2129-05-08 19:03:00</td>\n      <td>1.971400</td>\n      <td>24.076834</td>\n      <td>0</td>\n    </tr>\n    <tr>\n      <th>8323</th>\n      <td>11861</td>\n      <td>144257</td>\n      <td>298894</td>\n      <td>2105-05-05 00:00:00</td>\n      <td>F</td>\n      <td>2130-03-25 14:36:00</td>\n      <td>2.146111</td>\n      <td>24.957608</td>\n      <td>0</td>\n    </tr>\n    <tr>\n      <th>8324</th>\n      <td>11861</td>\n      <td>185487</td>\n      <td>257204</td>\n      <td>2105-05-05 00:00:00</td>\n      <td>F</td>\n      <td>2130-11-08 06:33:00</td>\n      <td>1.430347</td>\n      <td>25.582646</td>\n      <td>0</td>\n    </tr>\n    <tr>\n      <th>8325</th>\n      <td>11861</td>\n      <td>167225</td>\n      <td>219648</td>\n      <td>2105-05-05 00:00:00</td>\n      <td>F</td>\n      <td>2131-01-04 16:34:00</td>\n      <td>3.137350</td>\n      <td>25.740280</td>\n      <td>0</td>\n    </tr>\n    <tr>\n      <th>8326</th>\n      <td>11861</td>\n      <td>154098</td>\n      <td>200764</td>\n      <td>2105-05-05 00:00:00</td>\n      <td>F</td>\n      <td>2131-07-27 23:15:00</td>\n      <td>5.905139</td>\n      <td>26.301111</td>\n      <td>0</td>\n    </tr>\n    <tr>\n      <th>8327</th>\n      <td>11861</td>\n      <td>128437</td>\n      <td>240212</td>\n      <td>2105-05-05 00:00:00</td>\n      <td>F</td>\n      <td>2131-11-05 18:12:00</td>\n      <td>3.073472</td>\n      <td>26.577822</td>\n      <td>0</td>\n    </tr>\n    <tr>\n      <th>8328</th>\n      <td>11861</td>\n      <td>157119</td>\n      <td>281945</td>\n      <td>2105-05-05 00:00:00</td>\n      <td>F</td>\n      <td>2132-05-26 13:26:00</td>\n      <td>2.348542</td>\n      <td>27.134599</td>\n      <td>0</td>\n    </tr>\n    <tr>\n      <th>8329</th>\n      <td>11861</td>\n      <td>108008</td>\n      <td>280693</td>\n      <td>2105-05-05 00:00:00</td>\n      <td>F</td>\n      <td>2132-06-13 01:56:00</td>\n      <td>1.677778</td>\n      <td>27.182702</td>\n      <td>0</td>\n    </tr>\n    <tr>\n      <th>8330</th>\n      <td>11861</td>\n      <td>135677</td>\n      <td>299372</td>\n      <td>2105-05-05 00:00:00</td>\n      <td>F</td>\n      <td>2132-07-28 20:58:00</td>\n      <td>2.770012</td>\n      <td>27.308423</td>\n      <td>0</td>\n    </tr>\n    <tr>\n      <th>8331</th>\n      <td>11861</td>\n      <td>123535</td>\n      <td>220375</td>\n      <td>2105-05-05 00:00:00</td>\n      <td>F</td>\n      <td>2133-02-02 14:16:00</td>\n      <td>1.121979</td>\n      <td>27.826541</td>\n      <td>0</td>\n    </tr>\n    <tr>\n      <th>8332</th>\n      <td>11861</td>\n      <td>172200</td>\n      <td>242657</td>\n      <td>2105-05-05 00:00:00</td>\n      <td>F</td>\n      <td>2133-06-11 20:44:00</td>\n      <td>1.757002</td>\n      <td>28.181443</td>\n      <td>0</td>\n    </tr>\n  </tbody>\n</table>\n</div>"
     },
     "metadata": {},
     "execution_count": 54
    }
   ],
   "source": [
    "#just checking\n",
    "multi_hadmid_patients[multi_hadmid_patients['subject_id'] == 11861]"
   ]
  },
  {
   "cell_type": "code",
   "execution_count": 55,
   "metadata": {},
   "outputs": [
    {
     "output_type": "stream",
     "name": "stderr",
     "text": [
      "c:\\Users\\Maria\\Desktop\\Projects Data Scripts\\KTH_PROJECT_MIMIC_2021\\.venv\\lib\\site-packages\\pandas\\core\\generic.py:5494: SettingWithCopyWarning: \nA value is trying to be set on a copy of a slice from a DataFrame.\nTry using .loc[row_indexer,col_indexer] = value instead\n\nSee the caveats in the documentation: https://pandas.pydata.org/pandas-docs/stable/user_guide/indexing.html#returning-a-view-versus-a-copy\n  self[name] = value\n"
     ]
    }
   ],
   "source": [
    "#convert to datetime\n",
    "multi_hadmid_patients.admittime = pd.to_datetime(multi_hadmid_patients.admittime)"
   ]
  },
  {
   "cell_type": "code",
   "execution_count": 56,
   "metadata": {},
   "outputs": [
    {
     "output_type": "execute_result",
     "data": {
      "text/plain": [
       "       subject_id  hadm_id  icustay_id                  DOB gender  \\\n",
       "10             23   152223      227807  2082-07-17 00:00:00      M   \n",
       "11             23   124321      234044  2082-07-17 00:00:00      M   \n",
       "20             36   182104      280987  2061-08-17 00:00:00      M   \n",
       "21             36   122659      211200  2061-08-17 00:00:00      M   \n",
       "22             36   165660      241249  2061-08-17 00:00:00      M   \n",
       "...           ...      ...         ...                  ...    ...   \n",
       "37783       99883   150755      276467  2058-02-04 00:00:00      M   \n",
       "37784       99883   198523      293088  2058-02-04 00:00:00      M   \n",
       "37803       99982   151454      221194  2091-10-02 00:00:00      M   \n",
       "37804       99982   112748      275958  2091-10-02 00:00:00      M   \n",
       "37805       99982   183791      239827  2091-10-02 00:00:00      M   \n",
       "\n",
       "                admittime  icu_length_of_stay        age  mortality  \n",
       "10    2153-09-03 07:15:00            1.264074  71.327310          0  \n",
       "11    2157-10-18 19:34:00            1.186227  75.470392          0  \n",
       "20    2131-04-30 07:15:00            1.109595  69.902529          0  \n",
       "21    2131-05-12 19:49:00            6.859549  69.936941          0  \n",
       "22    2134-05-10 11:30:00            4.348299  72.933068          0  \n",
       "...                   ...                 ...        ...        ...  \n",
       "37783 2131-12-24 17:41:00            2.030938  74.087387          0  \n",
       "37784 2132-09-15 00:36:00            1.275567  74.819541          0  \n",
       "37803 2156-11-28 11:56:00            7.949259  65.337051          0  \n",
       "37804 2157-01-05 17:27:00            4.942708  65.444599          0  \n",
       "37805 2157-02-16 17:31:00            6.170104  65.557324          0  \n",
       "\n",
       "[12169 rows x 9 columns]"
      ],
      "text/html": "<div>\n<style scoped>\n    .dataframe tbody tr th:only-of-type {\n        vertical-align: middle;\n    }\n\n    .dataframe tbody tr th {\n        vertical-align: top;\n    }\n\n    .dataframe thead th {\n        text-align: right;\n    }\n</style>\n<table border=\"1\" class=\"dataframe\">\n  <thead>\n    <tr style=\"text-align: right;\">\n      <th></th>\n      <th>subject_id</th>\n      <th>hadm_id</th>\n      <th>icustay_id</th>\n      <th>DOB</th>\n      <th>gender</th>\n      <th>admittime</th>\n      <th>icu_length_of_stay</th>\n      <th>age</th>\n      <th>mortality</th>\n    </tr>\n  </thead>\n  <tbody>\n    <tr>\n      <th>10</th>\n      <td>23</td>\n      <td>152223</td>\n      <td>227807</td>\n      <td>2082-07-17 00:00:00</td>\n      <td>M</td>\n      <td>2153-09-03 07:15:00</td>\n      <td>1.264074</td>\n      <td>71.327310</td>\n      <td>0</td>\n    </tr>\n    <tr>\n      <th>11</th>\n      <td>23</td>\n      <td>124321</td>\n      <td>234044</td>\n      <td>2082-07-17 00:00:00</td>\n      <td>M</td>\n      <td>2157-10-18 19:34:00</td>\n      <td>1.186227</td>\n      <td>75.470392</td>\n      <td>0</td>\n    </tr>\n    <tr>\n      <th>20</th>\n      <td>36</td>\n      <td>182104</td>\n      <td>280987</td>\n      <td>2061-08-17 00:00:00</td>\n      <td>M</td>\n      <td>2131-04-30 07:15:00</td>\n      <td>1.109595</td>\n      <td>69.902529</td>\n      <td>0</td>\n    </tr>\n    <tr>\n      <th>21</th>\n      <td>36</td>\n      <td>122659</td>\n      <td>211200</td>\n      <td>2061-08-17 00:00:00</td>\n      <td>M</td>\n      <td>2131-05-12 19:49:00</td>\n      <td>6.859549</td>\n      <td>69.936941</td>\n      <td>0</td>\n    </tr>\n    <tr>\n      <th>22</th>\n      <td>36</td>\n      <td>165660</td>\n      <td>241249</td>\n      <td>2061-08-17 00:00:00</td>\n      <td>M</td>\n      <td>2134-05-10 11:30:00</td>\n      <td>4.348299</td>\n      <td>72.933068</td>\n      <td>0</td>\n    </tr>\n    <tr>\n      <th>...</th>\n      <td>...</td>\n      <td>...</td>\n      <td>...</td>\n      <td>...</td>\n      <td>...</td>\n      <td>...</td>\n      <td>...</td>\n      <td>...</td>\n      <td>...</td>\n    </tr>\n    <tr>\n      <th>37783</th>\n      <td>99883</td>\n      <td>150755</td>\n      <td>276467</td>\n      <td>2058-02-04 00:00:00</td>\n      <td>M</td>\n      <td>2131-12-24 17:41:00</td>\n      <td>2.030938</td>\n      <td>74.087387</td>\n      <td>0</td>\n    </tr>\n    <tr>\n      <th>37784</th>\n      <td>99883</td>\n      <td>198523</td>\n      <td>293088</td>\n      <td>2058-02-04 00:00:00</td>\n      <td>M</td>\n      <td>2132-09-15 00:36:00</td>\n      <td>1.275567</td>\n      <td>74.819541</td>\n      <td>0</td>\n    </tr>\n    <tr>\n      <th>37803</th>\n      <td>99982</td>\n      <td>151454</td>\n      <td>221194</td>\n      <td>2091-10-02 00:00:00</td>\n      <td>M</td>\n      <td>2156-11-28 11:56:00</td>\n      <td>7.949259</td>\n      <td>65.337051</td>\n      <td>0</td>\n    </tr>\n    <tr>\n      <th>37804</th>\n      <td>99982</td>\n      <td>112748</td>\n      <td>275958</td>\n      <td>2091-10-02 00:00:00</td>\n      <td>M</td>\n      <td>2157-01-05 17:27:00</td>\n      <td>4.942708</td>\n      <td>65.444599</td>\n      <td>0</td>\n    </tr>\n    <tr>\n      <th>37805</th>\n      <td>99982</td>\n      <td>183791</td>\n      <td>239827</td>\n      <td>2091-10-02 00:00:00</td>\n      <td>M</td>\n      <td>2157-02-16 17:31:00</td>\n      <td>6.170104</td>\n      <td>65.557324</td>\n      <td>0</td>\n    </tr>\n  </tbody>\n</table>\n<p>12169 rows × 9 columns</p>\n</div>"
     },
     "metadata": {},
     "execution_count": 56
    }
   ],
   "source": [
    "multi_hadmid_patients"
   ]
  },
  {
   "cell_type": "code",
   "execution_count": 57,
   "metadata": {},
   "outputs": [],
   "source": [
    "#for the people that have multiple hadm_id, get the idx of the hadm_id with the min date\n",
    "indices = multi_hadmid_patients.groupby(\"subject_id\")['admittime'].idxmin()"
   ]
  },
  {
   "cell_type": "code",
   "execution_count": 58,
   "metadata": {},
   "outputs": [
    {
     "output_type": "execute_result",
     "data": {
      "text/plain": [
       "subject_id\n",
       "23          10\n",
       "36          20\n",
       "68          40\n",
       "85          51\n",
       "94          54\n",
       "         ...  \n",
       "99660    37736\n",
       "99712    37746\n",
       "99781    37757\n",
       "99883    37783\n",
       "99982    37803\n",
       "Name: admittime, Length: 4393, dtype: int64"
      ]
     },
     "metadata": {},
     "execution_count": 58
    }
   ],
   "source": [
    "indices"
   ]
  },
  {
   "cell_type": "code",
   "execution_count": 59,
   "metadata": {},
   "outputs": [],
   "source": [
    "#get the df where the indices are in indices\n",
    "sub_cohort_multi = multi_hadmid_patients.loc[indices]"
   ]
  },
  {
   "cell_type": "code",
   "execution_count": 60,
   "metadata": {},
   "outputs": [
    {
     "output_type": "execute_result",
     "data": {
      "text/plain": [
       "      subject_id  hadm_id  icustay_id                  DOB gender  \\\n",
       "8301       11861   142176      250513  2105-05-05 00:00:00      F   \n",
       "\n",
       "               admittime  icu_length_of_stay        age  mortality  \n",
       "8301 2125-07-10 04:01:00            1.486354  20.237007          0  "
      ],
      "text/html": "<div>\n<style scoped>\n    .dataframe tbody tr th:only-of-type {\n        vertical-align: middle;\n    }\n\n    .dataframe tbody tr th {\n        vertical-align: top;\n    }\n\n    .dataframe thead th {\n        text-align: right;\n    }\n</style>\n<table border=\"1\" class=\"dataframe\">\n  <thead>\n    <tr style=\"text-align: right;\">\n      <th></th>\n      <th>subject_id</th>\n      <th>hadm_id</th>\n      <th>icustay_id</th>\n      <th>DOB</th>\n      <th>gender</th>\n      <th>admittime</th>\n      <th>icu_length_of_stay</th>\n      <th>age</th>\n      <th>mortality</th>\n    </tr>\n  </thead>\n  <tbody>\n    <tr>\n      <th>8301</th>\n      <td>11861</td>\n      <td>142176</td>\n      <td>250513</td>\n      <td>2105-05-05 00:00:00</td>\n      <td>F</td>\n      <td>2125-07-10 04:01:00</td>\n      <td>1.486354</td>\n      <td>20.237007</td>\n      <td>0</td>\n    </tr>\n  </tbody>\n</table>\n</div>"
     },
     "metadata": {},
     "execution_count": 60
    }
   ],
   "source": [
    "#checking\n",
    "sub_cohort_multi[sub_cohort_multi[\"subject_id\"] == 11861]"
   ]
  },
  {
   "cell_type": "code",
   "execution_count": 61,
   "metadata": {},
   "outputs": [
    {
     "output_type": "execute_result",
     "data": {
      "text/plain": [
       "       subject_id  hadm_id  icustay_id                  DOB gender  \\\n",
       "10             23   152223      227807  2082-07-17 00:00:00      M   \n",
       "20             36   182104      280987  2061-08-17 00:00:00      M   \n",
       "40             68   170467      294232  2132-02-29 00:00:00      F   \n",
       "51             85   116630      209562  2090-09-18 00:00:00      M   \n",
       "54             94   183686      229012  2101-09-20 00:00:00      M   \n",
       "...           ...      ...         ...                  ...    ...   \n",
       "37736       99660   168541      259405  2067-02-23 00:00:00      F   \n",
       "37746       99712   194361      285471  2106-11-20 00:00:00      F   \n",
       "37757       99781   167791      239830  2061-06-30 00:00:00      M   \n",
       "37783       99883   150755      276467  2058-02-04 00:00:00      M   \n",
       "37803       99982   151454      221194  2091-10-02 00:00:00      M   \n",
       "\n",
       "                admittime  icu_length_of_stay        age  mortality  \n",
       "10    2153-09-03 07:15:00            1.264074  71.327310          0  \n",
       "20    2131-04-30 07:15:00            1.109595  69.902529          0  \n",
       "40    2173-12-15 16:16:00            3.536806  41.912036          0  \n",
       "51    2162-03-02 14:04:00            2.235324  71.651661          0  \n",
       "54    2176-02-25 16:49:00            1.098542  74.639117          0  \n",
       "...                   ...                 ...        ...        ...  \n",
       "37736 2142-04-25 12:04:00            1.203715  75.374350          0  \n",
       "37746 2159-03-30 07:15:00            1.245995  52.502051          0  \n",
       "37757 2133-07-23 17:11:00            5.074236  72.261618          0  \n",
       "37783 2131-12-24 17:41:00            2.030938  74.087387          0  \n",
       "37803 2156-11-28 11:56:00            7.949259  65.337051          0  \n",
       "\n",
       "[4393 rows x 9 columns]"
      ],
      "text/html": "<div>\n<style scoped>\n    .dataframe tbody tr th:only-of-type {\n        vertical-align: middle;\n    }\n\n    .dataframe tbody tr th {\n        vertical-align: top;\n    }\n\n    .dataframe thead th {\n        text-align: right;\n    }\n</style>\n<table border=\"1\" class=\"dataframe\">\n  <thead>\n    <tr style=\"text-align: right;\">\n      <th></th>\n      <th>subject_id</th>\n      <th>hadm_id</th>\n      <th>icustay_id</th>\n      <th>DOB</th>\n      <th>gender</th>\n      <th>admittime</th>\n      <th>icu_length_of_stay</th>\n      <th>age</th>\n      <th>mortality</th>\n    </tr>\n  </thead>\n  <tbody>\n    <tr>\n      <th>10</th>\n      <td>23</td>\n      <td>152223</td>\n      <td>227807</td>\n      <td>2082-07-17 00:00:00</td>\n      <td>M</td>\n      <td>2153-09-03 07:15:00</td>\n      <td>1.264074</td>\n      <td>71.327310</td>\n      <td>0</td>\n    </tr>\n    <tr>\n      <th>20</th>\n      <td>36</td>\n      <td>182104</td>\n      <td>280987</td>\n      <td>2061-08-17 00:00:00</td>\n      <td>M</td>\n      <td>2131-04-30 07:15:00</td>\n      <td>1.109595</td>\n      <td>69.902529</td>\n      <td>0</td>\n    </tr>\n    <tr>\n      <th>40</th>\n      <td>68</td>\n      <td>170467</td>\n      <td>294232</td>\n      <td>2132-02-29 00:00:00</td>\n      <td>F</td>\n      <td>2173-12-15 16:16:00</td>\n      <td>3.536806</td>\n      <td>41.912036</td>\n      <td>0</td>\n    </tr>\n    <tr>\n      <th>51</th>\n      <td>85</td>\n      <td>116630</td>\n      <td>209562</td>\n      <td>2090-09-18 00:00:00</td>\n      <td>M</td>\n      <td>2162-03-02 14:04:00</td>\n      <td>2.235324</td>\n      <td>71.651661</td>\n      <td>0</td>\n    </tr>\n    <tr>\n      <th>54</th>\n      <td>94</td>\n      <td>183686</td>\n      <td>229012</td>\n      <td>2101-09-20 00:00:00</td>\n      <td>M</td>\n      <td>2176-02-25 16:49:00</td>\n      <td>1.098542</td>\n      <td>74.639117</td>\n      <td>0</td>\n    </tr>\n    <tr>\n      <th>...</th>\n      <td>...</td>\n      <td>...</td>\n      <td>...</td>\n      <td>...</td>\n      <td>...</td>\n      <td>...</td>\n      <td>...</td>\n      <td>...</td>\n      <td>...</td>\n    </tr>\n    <tr>\n      <th>37736</th>\n      <td>99660</td>\n      <td>168541</td>\n      <td>259405</td>\n      <td>2067-02-23 00:00:00</td>\n      <td>F</td>\n      <td>2142-04-25 12:04:00</td>\n      <td>1.203715</td>\n      <td>75.374350</td>\n      <td>0</td>\n    </tr>\n    <tr>\n      <th>37746</th>\n      <td>99712</td>\n      <td>194361</td>\n      <td>285471</td>\n      <td>2106-11-20 00:00:00</td>\n      <td>F</td>\n      <td>2159-03-30 07:15:00</td>\n      <td>1.245995</td>\n      <td>52.502051</td>\n      <td>0</td>\n    </tr>\n    <tr>\n      <th>37757</th>\n      <td>99781</td>\n      <td>167791</td>\n      <td>239830</td>\n      <td>2061-06-30 00:00:00</td>\n      <td>M</td>\n      <td>2133-07-23 17:11:00</td>\n      <td>5.074236</td>\n      <td>72.261618</td>\n      <td>0</td>\n    </tr>\n    <tr>\n      <th>37783</th>\n      <td>99883</td>\n      <td>150755</td>\n      <td>276467</td>\n      <td>2058-02-04 00:00:00</td>\n      <td>M</td>\n      <td>2131-12-24 17:41:00</td>\n      <td>2.030938</td>\n      <td>74.087387</td>\n      <td>0</td>\n    </tr>\n    <tr>\n      <th>37803</th>\n      <td>99982</td>\n      <td>151454</td>\n      <td>221194</td>\n      <td>2091-10-02 00:00:00</td>\n      <td>M</td>\n      <td>2156-11-28 11:56:00</td>\n      <td>7.949259</td>\n      <td>65.337051</td>\n      <td>0</td>\n    </tr>\n  </tbody>\n</table>\n<p>4393 rows × 9 columns</p>\n</div>"
     },
     "metadata": {},
     "execution_count": 61
    }
   ],
   "source": [
    "sub_cohort_multi"
   ]
  },
  {
   "cell_type": "code",
   "execution_count": 62,
   "metadata": {},
   "outputs": [],
   "source": [
    "#concating the negative cohort\n",
    "\n",
    "\n",
    "negative_cohort = pd.concat([sub_cohort_multi, uni_hadmid_patients])"
   ]
  },
  {
   "cell_type": "code",
   "execution_count": 63,
   "metadata": {},
   "outputs": [
    {
     "output_type": "execute_result",
     "data": {
      "text/plain": [
       "    subject_id  hadm_id  icustay_id                  DOB gender  \\\n",
       "10          23   152223      227807  2082-07-17 00:00:00      M   \n",
       "20          36   182104      280987  2061-08-17 00:00:00      M   \n",
       "40          68   170467      294232  2132-02-29 00:00:00      F   \n",
       "51          85   116630      209562  2090-09-18 00:00:00      M   \n",
       "54          94   183686      229012  2101-09-20 00:00:00      M   \n",
       "\n",
       "              admittime  icu_length_of_stay        age  mortality  \n",
       "10  2153-09-03 07:15:00            1.264074  71.327310          0  \n",
       "20  2131-04-30 07:15:00            1.109595  69.902529          0  \n",
       "40  2173-12-15 16:16:00            3.536806  41.912036          0  \n",
       "51  2162-03-02 14:04:00            2.235324  71.651661          0  \n",
       "54  2176-02-25 16:49:00            1.098542  74.639117          0  "
      ],
      "text/html": "<div>\n<style scoped>\n    .dataframe tbody tr th:only-of-type {\n        vertical-align: middle;\n    }\n\n    .dataframe tbody tr th {\n        vertical-align: top;\n    }\n\n    .dataframe thead th {\n        text-align: right;\n    }\n</style>\n<table border=\"1\" class=\"dataframe\">\n  <thead>\n    <tr style=\"text-align: right;\">\n      <th></th>\n      <th>subject_id</th>\n      <th>hadm_id</th>\n      <th>icustay_id</th>\n      <th>DOB</th>\n      <th>gender</th>\n      <th>admittime</th>\n      <th>icu_length_of_stay</th>\n      <th>age</th>\n      <th>mortality</th>\n    </tr>\n  </thead>\n  <tbody>\n    <tr>\n      <th>10</th>\n      <td>23</td>\n      <td>152223</td>\n      <td>227807</td>\n      <td>2082-07-17 00:00:00</td>\n      <td>M</td>\n      <td>2153-09-03 07:15:00</td>\n      <td>1.264074</td>\n      <td>71.327310</td>\n      <td>0</td>\n    </tr>\n    <tr>\n      <th>20</th>\n      <td>36</td>\n      <td>182104</td>\n      <td>280987</td>\n      <td>2061-08-17 00:00:00</td>\n      <td>M</td>\n      <td>2131-04-30 07:15:00</td>\n      <td>1.109595</td>\n      <td>69.902529</td>\n      <td>0</td>\n    </tr>\n    <tr>\n      <th>40</th>\n      <td>68</td>\n      <td>170467</td>\n      <td>294232</td>\n      <td>2132-02-29 00:00:00</td>\n      <td>F</td>\n      <td>2173-12-15 16:16:00</td>\n      <td>3.536806</td>\n      <td>41.912036</td>\n      <td>0</td>\n    </tr>\n    <tr>\n      <th>51</th>\n      <td>85</td>\n      <td>116630</td>\n      <td>209562</td>\n      <td>2090-09-18 00:00:00</td>\n      <td>M</td>\n      <td>2162-03-02 14:04:00</td>\n      <td>2.235324</td>\n      <td>71.651661</td>\n      <td>0</td>\n    </tr>\n    <tr>\n      <th>54</th>\n      <td>94</td>\n      <td>183686</td>\n      <td>229012</td>\n      <td>2101-09-20 00:00:00</td>\n      <td>M</td>\n      <td>2176-02-25 16:49:00</td>\n      <td>1.098542</td>\n      <td>74.639117</td>\n      <td>0</td>\n    </tr>\n  </tbody>\n</table>\n</div>"
     },
     "metadata": {},
     "execution_count": 63
    }
   ],
   "source": [
    "negative_cohort.head()"
   ]
  },
  {
   "cell_type": "code",
   "execution_count": 64,
   "metadata": {},
   "outputs": [
    {
     "output_type": "execute_result",
     "data": {
      "text/plain": [
       "       subject_id  hadm_id  icustay_id                  DOB gender  \\\n",
       "12594       18108   163281      240938  2074-04-05 00:00:00      F   \n",
       "12595       18108   163281      200137  2074-04-05 00:00:00      F   \n",
       "12596       18108   163281      295394  2074-04-05 00:00:00      F   \n",
       "12597       18108   163281      240543  2074-04-05 00:00:00      F   \n",
       "12598       18108   163281      277556  2074-04-05 00:00:00      F   \n",
       "12599       18108   163281      277859  2074-04-05 00:00:00      F   \n",
       "12600       18108   163281      260163  2074-04-05 00:00:00      F   \n",
       "\n",
       "                 admittime  icu_length_of_stay        age  mortality  \n",
       "12594  2122-02-24 14:23:00            8.816134  48.039858          0  \n",
       "12595  2122-02-24 14:23:00            3.345822  48.084474          0  \n",
       "12596  2122-02-24 14:23:00            1.495498  48.100370          0  \n",
       "12597  2122-02-24 14:23:00            2.681991  48.124844          0  \n",
       "12598  2122-02-24 14:23:00            5.083623  48.138267          0  \n",
       "12599  2122-02-24 14:23:00            6.145567  48.161997          0  \n",
       "12600  2122-02-24 14:23:00           13.260023  48.183711          0  "
      ],
      "text/html": "<div>\n<style scoped>\n    .dataframe tbody tr th:only-of-type {\n        vertical-align: middle;\n    }\n\n    .dataframe tbody tr th {\n        vertical-align: top;\n    }\n\n    .dataframe thead th {\n        text-align: right;\n    }\n</style>\n<table border=\"1\" class=\"dataframe\">\n  <thead>\n    <tr style=\"text-align: right;\">\n      <th></th>\n      <th>subject_id</th>\n      <th>hadm_id</th>\n      <th>icustay_id</th>\n      <th>DOB</th>\n      <th>gender</th>\n      <th>admittime</th>\n      <th>icu_length_of_stay</th>\n      <th>age</th>\n      <th>mortality</th>\n    </tr>\n  </thead>\n  <tbody>\n    <tr>\n      <th>12594</th>\n      <td>18108</td>\n      <td>163281</td>\n      <td>240938</td>\n      <td>2074-04-05 00:00:00</td>\n      <td>F</td>\n      <td>2122-02-24 14:23:00</td>\n      <td>8.816134</td>\n      <td>48.039858</td>\n      <td>0</td>\n    </tr>\n    <tr>\n      <th>12595</th>\n      <td>18108</td>\n      <td>163281</td>\n      <td>200137</td>\n      <td>2074-04-05 00:00:00</td>\n      <td>F</td>\n      <td>2122-02-24 14:23:00</td>\n      <td>3.345822</td>\n      <td>48.084474</td>\n      <td>0</td>\n    </tr>\n    <tr>\n      <th>12596</th>\n      <td>18108</td>\n      <td>163281</td>\n      <td>295394</td>\n      <td>2074-04-05 00:00:00</td>\n      <td>F</td>\n      <td>2122-02-24 14:23:00</td>\n      <td>1.495498</td>\n      <td>48.100370</td>\n      <td>0</td>\n    </tr>\n    <tr>\n      <th>12597</th>\n      <td>18108</td>\n      <td>163281</td>\n      <td>240543</td>\n      <td>2074-04-05 00:00:00</td>\n      <td>F</td>\n      <td>2122-02-24 14:23:00</td>\n      <td>2.681991</td>\n      <td>48.124844</td>\n      <td>0</td>\n    </tr>\n    <tr>\n      <th>12598</th>\n      <td>18108</td>\n      <td>163281</td>\n      <td>277556</td>\n      <td>2074-04-05 00:00:00</td>\n      <td>F</td>\n      <td>2122-02-24 14:23:00</td>\n      <td>5.083623</td>\n      <td>48.138267</td>\n      <td>0</td>\n    </tr>\n    <tr>\n      <th>12599</th>\n      <td>18108</td>\n      <td>163281</td>\n      <td>277859</td>\n      <td>2074-04-05 00:00:00</td>\n      <td>F</td>\n      <td>2122-02-24 14:23:00</td>\n      <td>6.145567</td>\n      <td>48.161997</td>\n      <td>0</td>\n    </tr>\n    <tr>\n      <th>12600</th>\n      <td>18108</td>\n      <td>163281</td>\n      <td>260163</td>\n      <td>2074-04-05 00:00:00</td>\n      <td>F</td>\n      <td>2122-02-24 14:23:00</td>\n      <td>13.260023</td>\n      <td>48.183711</td>\n      <td>0</td>\n    </tr>\n  </tbody>\n</table>\n</div>"
     },
     "metadata": {},
     "execution_count": 64
    }
   ],
   "source": [
    "negative_cohort[negative_cohort['hadm_id'] == 163281]"
   ]
  },
  {
   "source": [
    "### Concat final cohort with negative and positive"
   ],
   "cell_type": "markdown",
   "metadata": {}
  },
  {
   "cell_type": "code",
   "execution_count": 65,
   "metadata": {},
   "outputs": [
    {
     "output_type": "execute_result",
     "data": {
      "text/plain": [
       "       subject_id  hadm_id  icustay_id                  DOB gender  \\\n",
       "10             23   152223      227807  2082-07-17 00:00:00      M   \n",
       "20             36   182104      280987  2061-08-17 00:00:00      M   \n",
       "40             68   170467      294232  2132-02-29 00:00:00      F   \n",
       "51             85   116630      209562  2090-09-18 00:00:00      M   \n",
       "54             94   183686      229012  2101-09-20 00:00:00      M   \n",
       "...           ...      ...         ...                  ...    ...   \n",
       "37807       99985   176670      279638  2127-04-08 00:00:00      M   \n",
       "37808       99991   151118      226241  2137-04-07 00:00:00      M   \n",
       "37809       99992   197084      242052  2078-10-17 00:00:00      F   \n",
       "37810       99995   137810      229633  2058-05-29 00:00:00      F   \n",
       "37811       99999   113369      246512  2054-01-06 00:00:00      F   \n",
       "\n",
       "                 admittime  icu_length_of_stay        age  mortality  \n",
       "10     2153-09-03 07:15:00            1.264074  71.327310          0  \n",
       "20     2131-04-30 07:15:00            1.109595  69.902529          0  \n",
       "40     2173-12-15 16:16:00            3.536806  41.912036          0  \n",
       "51     2162-03-02 14:04:00            2.235324  71.651661          0  \n",
       "54     2176-02-25 16:49:00            1.098542  74.639117          0  \n",
       "...                    ...                 ...        ...        ...  \n",
       "37807  2181-01-27 02:47:00           11.299838  53.962013          0  \n",
       "37808  2184-12-24 08:30:00            3.142616  47.860296          0  \n",
       "37809  2144-07-25 18:03:00            1.974456  65.952727          0  \n",
       "37810  2147-02-08 08:00:00            2.161481  88.942459          0  \n",
       "37811  2117-12-30 07:15:00            1.124201  64.159254          0  \n",
       "\n",
       "[30036 rows x 9 columns]"
      ],
      "text/html": "<div>\n<style scoped>\n    .dataframe tbody tr th:only-of-type {\n        vertical-align: middle;\n    }\n\n    .dataframe tbody tr th {\n        vertical-align: top;\n    }\n\n    .dataframe thead th {\n        text-align: right;\n    }\n</style>\n<table border=\"1\" class=\"dataframe\">\n  <thead>\n    <tr style=\"text-align: right;\">\n      <th></th>\n      <th>subject_id</th>\n      <th>hadm_id</th>\n      <th>icustay_id</th>\n      <th>DOB</th>\n      <th>gender</th>\n      <th>admittime</th>\n      <th>icu_length_of_stay</th>\n      <th>age</th>\n      <th>mortality</th>\n    </tr>\n  </thead>\n  <tbody>\n    <tr>\n      <th>10</th>\n      <td>23</td>\n      <td>152223</td>\n      <td>227807</td>\n      <td>2082-07-17 00:00:00</td>\n      <td>M</td>\n      <td>2153-09-03 07:15:00</td>\n      <td>1.264074</td>\n      <td>71.327310</td>\n      <td>0</td>\n    </tr>\n    <tr>\n      <th>20</th>\n      <td>36</td>\n      <td>182104</td>\n      <td>280987</td>\n      <td>2061-08-17 00:00:00</td>\n      <td>M</td>\n      <td>2131-04-30 07:15:00</td>\n      <td>1.109595</td>\n      <td>69.902529</td>\n      <td>0</td>\n    </tr>\n    <tr>\n      <th>40</th>\n      <td>68</td>\n      <td>170467</td>\n      <td>294232</td>\n      <td>2132-02-29 00:00:00</td>\n      <td>F</td>\n      <td>2173-12-15 16:16:00</td>\n      <td>3.536806</td>\n      <td>41.912036</td>\n      <td>0</td>\n    </tr>\n    <tr>\n      <th>51</th>\n      <td>85</td>\n      <td>116630</td>\n      <td>209562</td>\n      <td>2090-09-18 00:00:00</td>\n      <td>M</td>\n      <td>2162-03-02 14:04:00</td>\n      <td>2.235324</td>\n      <td>71.651661</td>\n      <td>0</td>\n    </tr>\n    <tr>\n      <th>54</th>\n      <td>94</td>\n      <td>183686</td>\n      <td>229012</td>\n      <td>2101-09-20 00:00:00</td>\n      <td>M</td>\n      <td>2176-02-25 16:49:00</td>\n      <td>1.098542</td>\n      <td>74.639117</td>\n      <td>0</td>\n    </tr>\n    <tr>\n      <th>...</th>\n      <td>...</td>\n      <td>...</td>\n      <td>...</td>\n      <td>...</td>\n      <td>...</td>\n      <td>...</td>\n      <td>...</td>\n      <td>...</td>\n      <td>...</td>\n    </tr>\n    <tr>\n      <th>37807</th>\n      <td>99985</td>\n      <td>176670</td>\n      <td>279638</td>\n      <td>2127-04-08 00:00:00</td>\n      <td>M</td>\n      <td>2181-01-27 02:47:00</td>\n      <td>11.299838</td>\n      <td>53.962013</td>\n      <td>0</td>\n    </tr>\n    <tr>\n      <th>37808</th>\n      <td>99991</td>\n      <td>151118</td>\n      <td>226241</td>\n      <td>2137-04-07 00:00:00</td>\n      <td>M</td>\n      <td>2184-12-24 08:30:00</td>\n      <td>3.142616</td>\n      <td>47.860296</td>\n      <td>0</td>\n    </tr>\n    <tr>\n      <th>37809</th>\n      <td>99992</td>\n      <td>197084</td>\n      <td>242052</td>\n      <td>2078-10-17 00:00:00</td>\n      <td>F</td>\n      <td>2144-07-25 18:03:00</td>\n      <td>1.974456</td>\n      <td>65.952727</td>\n      <td>0</td>\n    </tr>\n    <tr>\n      <th>37810</th>\n      <td>99995</td>\n      <td>137810</td>\n      <td>229633</td>\n      <td>2058-05-29 00:00:00</td>\n      <td>F</td>\n      <td>2147-02-08 08:00:00</td>\n      <td>2.161481</td>\n      <td>88.942459</td>\n      <td>0</td>\n    </tr>\n    <tr>\n      <th>37811</th>\n      <td>99999</td>\n      <td>113369</td>\n      <td>246512</td>\n      <td>2054-01-06 00:00:00</td>\n      <td>F</td>\n      <td>2117-12-30 07:15:00</td>\n      <td>1.124201</td>\n      <td>64.159254</td>\n      <td>0</td>\n    </tr>\n  </tbody>\n</table>\n<p>30036 rows × 9 columns</p>\n</div>"
     },
     "metadata": {},
     "execution_count": 65
    }
   ],
   "source": [
    "negative_cohort"
   ]
  },
  {
   "cell_type": "code",
   "execution_count": 66,
   "metadata": {},
   "outputs": [
    {
     "output_type": "execute_result",
     "data": {
      "text/plain": [
       "163281    7\n",
       "123178    6\n",
       "155295    4\n",
       "125400    4\n",
       "195641    4\n",
       "         ..\n",
       "137032    1\n",
       "151363    1\n",
       "149314    1\n",
       "175935    1\n",
       "141307    1\n",
       "Name: hadm_id, Length: 28790, dtype: int64"
      ]
     },
     "metadata": {},
     "execution_count": 66
    }
   ],
   "source": [
    "negative_cohort.hadm_id.value_counts()"
   ]
  },
  {
   "cell_type": "code",
   "execution_count": 67,
   "metadata": {},
   "outputs": [
    {
     "output_type": "execute_result",
     "data": {
      "text/plain": [
       "      subject_id  hadm_id  icustay_id                  DOB gender  \\\n",
       "0             31   128652      254478  2036-05-17 00:00:00      M   \n",
       "1             56   181711      275642  1804-01-02 00:00:00      F   \n",
       "2             61   189535      217135  2063-10-21 00:00:00      M   \n",
       "3             91   121205      256972  2095-09-26 00:00:00      F   \n",
       "4            101   175533      233111  2114-07-22 00:00:00      M   \n",
       "...          ...      ...         ...                  ...    ...   \n",
       "5356       98669   108710      224242  2072-07-04 00:00:00      F   \n",
       "5357       98753   185764      207506  2094-05-01 00:00:00      F   \n",
       "5358       98753   185764      233107  2094-05-01 00:00:00      F   \n",
       "5359       98768   127022      213468  2027-07-26 00:00:00      F   \n",
       "5360       98797   105447      244147  2044-12-27 00:00:00      M   \n",
       "\n",
       "                admittime  icu_length_of_stay         age  mortality  \n",
       "0     2108-08-22 23:27:00            7.937940   72.465499          1  \n",
       "1     2104-01-02 02:01:00            1.849190  300.824960          1  \n",
       "2     2119-01-04 18:12:00            2.009144   55.401808          1  \n",
       "3     2177-04-23 00:08:00            3.475000   81.836145          1  \n",
       "4     2196-09-26 18:36:00            9.891852   82.411628          1  \n",
       "...                   ...                 ...         ...        ...  \n",
       "5356  2147-04-07 15:09:00            6.837303   74.962888          1  \n",
       "5357  2172-02-11 21:26:00            4.246400   78.021019          1  \n",
       "5358  2172-02-11 21:26:00            2.740428   78.035799          1  \n",
       "5359  2112-09-15 09:45:00            2.151123   85.375677          1  \n",
       "5360  2132-12-24 20:06:00            1.238171   88.234852          1  \n",
       "\n",
       "[5361 rows x 9 columns]"
      ],
      "text/html": "<div>\n<style scoped>\n    .dataframe tbody tr th:only-of-type {\n        vertical-align: middle;\n    }\n\n    .dataframe tbody tr th {\n        vertical-align: top;\n    }\n\n    .dataframe thead th {\n        text-align: right;\n    }\n</style>\n<table border=\"1\" class=\"dataframe\">\n  <thead>\n    <tr style=\"text-align: right;\">\n      <th></th>\n      <th>subject_id</th>\n      <th>hadm_id</th>\n      <th>icustay_id</th>\n      <th>DOB</th>\n      <th>gender</th>\n      <th>admittime</th>\n      <th>icu_length_of_stay</th>\n      <th>age</th>\n      <th>mortality</th>\n    </tr>\n  </thead>\n  <tbody>\n    <tr>\n      <th>0</th>\n      <td>31</td>\n      <td>128652</td>\n      <td>254478</td>\n      <td>2036-05-17 00:00:00</td>\n      <td>M</td>\n      <td>2108-08-22 23:27:00</td>\n      <td>7.937940</td>\n      <td>72.465499</td>\n      <td>1</td>\n    </tr>\n    <tr>\n      <th>1</th>\n      <td>56</td>\n      <td>181711</td>\n      <td>275642</td>\n      <td>1804-01-02 00:00:00</td>\n      <td>F</td>\n      <td>2104-01-02 02:01:00</td>\n      <td>1.849190</td>\n      <td>300.824960</td>\n      <td>1</td>\n    </tr>\n    <tr>\n      <th>2</th>\n      <td>61</td>\n      <td>189535</td>\n      <td>217135</td>\n      <td>2063-10-21 00:00:00</td>\n      <td>M</td>\n      <td>2119-01-04 18:12:00</td>\n      <td>2.009144</td>\n      <td>55.401808</td>\n      <td>1</td>\n    </tr>\n    <tr>\n      <th>3</th>\n      <td>91</td>\n      <td>121205</td>\n      <td>256972</td>\n      <td>2095-09-26 00:00:00</td>\n      <td>F</td>\n      <td>2177-04-23 00:08:00</td>\n      <td>3.475000</td>\n      <td>81.836145</td>\n      <td>1</td>\n    </tr>\n    <tr>\n      <th>4</th>\n      <td>101</td>\n      <td>175533</td>\n      <td>233111</td>\n      <td>2114-07-22 00:00:00</td>\n      <td>M</td>\n      <td>2196-09-26 18:36:00</td>\n      <td>9.891852</td>\n      <td>82.411628</td>\n      <td>1</td>\n    </tr>\n    <tr>\n      <th>...</th>\n      <td>...</td>\n      <td>...</td>\n      <td>...</td>\n      <td>...</td>\n      <td>...</td>\n      <td>...</td>\n      <td>...</td>\n      <td>...</td>\n      <td>...</td>\n    </tr>\n    <tr>\n      <th>5356</th>\n      <td>98669</td>\n      <td>108710</td>\n      <td>224242</td>\n      <td>2072-07-04 00:00:00</td>\n      <td>F</td>\n      <td>2147-04-07 15:09:00</td>\n      <td>6.837303</td>\n      <td>74.962888</td>\n      <td>1</td>\n    </tr>\n    <tr>\n      <th>5357</th>\n      <td>98753</td>\n      <td>185764</td>\n      <td>207506</td>\n      <td>2094-05-01 00:00:00</td>\n      <td>F</td>\n      <td>2172-02-11 21:26:00</td>\n      <td>4.246400</td>\n      <td>78.021019</td>\n      <td>1</td>\n    </tr>\n    <tr>\n      <th>5358</th>\n      <td>98753</td>\n      <td>185764</td>\n      <td>233107</td>\n      <td>2094-05-01 00:00:00</td>\n      <td>F</td>\n      <td>2172-02-11 21:26:00</td>\n      <td>2.740428</td>\n      <td>78.035799</td>\n      <td>1</td>\n    </tr>\n    <tr>\n      <th>5359</th>\n      <td>98768</td>\n      <td>127022</td>\n      <td>213468</td>\n      <td>2027-07-26 00:00:00</td>\n      <td>F</td>\n      <td>2112-09-15 09:45:00</td>\n      <td>2.151123</td>\n      <td>85.375677</td>\n      <td>1</td>\n    </tr>\n    <tr>\n      <th>5360</th>\n      <td>98797</td>\n      <td>105447</td>\n      <td>244147</td>\n      <td>2044-12-27 00:00:00</td>\n      <td>M</td>\n      <td>2132-12-24 20:06:00</td>\n      <td>1.238171</td>\n      <td>88.234852</td>\n      <td>1</td>\n    </tr>\n  </tbody>\n</table>\n<p>5361 rows × 9 columns</p>\n</div>"
     },
     "metadata": {},
     "execution_count": 67
    }
   ],
   "source": [
    "positive_cohort"
   ]
  },
  {
   "cell_type": "code",
   "execution_count": 68,
   "metadata": {},
   "outputs": [],
   "source": [
    "patient_cohort = pd.concat([negative_cohort, positive_cohort])"
   ]
  },
  {
   "cell_type": "code",
   "execution_count": 69,
   "metadata": {},
   "outputs": [
    {
     "output_type": "execute_result",
     "data": {
      "text/plain": [
       "      subject_id  hadm_id  icustay_id                  DOB gender  \\\n",
       "3059       27427   175448      203143  2075-01-01 00:00:00      M   \n",
       "3060       27427   175448      207593  2075-01-01 00:00:00      M   \n",
       "3061       27427   175448      245197  2075-01-01 00:00:00      M   \n",
       "3062       27427   175448      282192  2075-01-01 00:00:00      M   \n",
       "3063       27427   175448      295239  2075-01-01 00:00:00      M   \n",
       "\n",
       "                admittime  icu_length_of_stay        age  mortality  \n",
       "3059  2150-11-03 22:05:00           50.860046  76.199964          1  \n",
       "3060  2150-11-03 22:05:00            2.495810  76.153348          1  \n",
       "3061  2150-11-03 22:05:00           22.853750  76.048125          1  \n",
       "3062  2150-11-03 22:05:00            3.115451  76.119077          1  \n",
       "3063  2150-11-03 22:05:00            1.814514  76.143537          1  "
      ],
      "text/html": "<div>\n<style scoped>\n    .dataframe tbody tr th:only-of-type {\n        vertical-align: middle;\n    }\n\n    .dataframe tbody tr th {\n        vertical-align: top;\n    }\n\n    .dataframe thead th {\n        text-align: right;\n    }\n</style>\n<table border=\"1\" class=\"dataframe\">\n  <thead>\n    <tr style=\"text-align: right;\">\n      <th></th>\n      <th>subject_id</th>\n      <th>hadm_id</th>\n      <th>icustay_id</th>\n      <th>DOB</th>\n      <th>gender</th>\n      <th>admittime</th>\n      <th>icu_length_of_stay</th>\n      <th>age</th>\n      <th>mortality</th>\n    </tr>\n  </thead>\n  <tbody>\n    <tr>\n      <th>3059</th>\n      <td>27427</td>\n      <td>175448</td>\n      <td>203143</td>\n      <td>2075-01-01 00:00:00</td>\n      <td>M</td>\n      <td>2150-11-03 22:05:00</td>\n      <td>50.860046</td>\n      <td>76.199964</td>\n      <td>1</td>\n    </tr>\n    <tr>\n      <th>3060</th>\n      <td>27427</td>\n      <td>175448</td>\n      <td>207593</td>\n      <td>2075-01-01 00:00:00</td>\n      <td>M</td>\n      <td>2150-11-03 22:05:00</td>\n      <td>2.495810</td>\n      <td>76.153348</td>\n      <td>1</td>\n    </tr>\n    <tr>\n      <th>3061</th>\n      <td>27427</td>\n      <td>175448</td>\n      <td>245197</td>\n      <td>2075-01-01 00:00:00</td>\n      <td>M</td>\n      <td>2150-11-03 22:05:00</td>\n      <td>22.853750</td>\n      <td>76.048125</td>\n      <td>1</td>\n    </tr>\n    <tr>\n      <th>3062</th>\n      <td>27427</td>\n      <td>175448</td>\n      <td>282192</td>\n      <td>2075-01-01 00:00:00</td>\n      <td>M</td>\n      <td>2150-11-03 22:05:00</td>\n      <td>3.115451</td>\n      <td>76.119077</td>\n      <td>1</td>\n    </tr>\n    <tr>\n      <th>3063</th>\n      <td>27427</td>\n      <td>175448</td>\n      <td>295239</td>\n      <td>2075-01-01 00:00:00</td>\n      <td>M</td>\n      <td>2150-11-03 22:05:00</td>\n      <td>1.814514</td>\n      <td>76.143537</td>\n      <td>1</td>\n    </tr>\n  </tbody>\n</table>\n</div>"
     },
     "metadata": {},
     "execution_count": 69
    }
   ],
   "source": [
    "patient_cohort[patient_cohort[\"subject_id\"] == 27427]"
   ]
  },
  {
   "cell_type": "code",
   "execution_count": 70,
   "metadata": {},
   "outputs": [
    {
     "output_type": "execute_result",
     "data": {
      "text/plain": [
       "      subject_id  hadm_id  icustay_id                  DOB gender  \\\n",
       "7911       11318   178137      241703  2052-02-14 00:00:00      F   \n",
       "\n",
       "                admittime  icu_length_of_stay        age  mortality  \n",
       "7911  2119-09-21 13:38:00             3.15625  67.786166          0  "
      ],
      "text/html": "<div>\n<style scoped>\n    .dataframe tbody tr th:only-of-type {\n        vertical-align: middle;\n    }\n\n    .dataframe tbody tr th {\n        vertical-align: top;\n    }\n\n    .dataframe thead th {\n        text-align: right;\n    }\n</style>\n<table border=\"1\" class=\"dataframe\">\n  <thead>\n    <tr style=\"text-align: right;\">\n      <th></th>\n      <th>subject_id</th>\n      <th>hadm_id</th>\n      <th>icustay_id</th>\n      <th>DOB</th>\n      <th>gender</th>\n      <th>admittime</th>\n      <th>icu_length_of_stay</th>\n      <th>age</th>\n      <th>mortality</th>\n    </tr>\n  </thead>\n  <tbody>\n    <tr>\n      <th>7911</th>\n      <td>11318</td>\n      <td>178137</td>\n      <td>241703</td>\n      <td>2052-02-14 00:00:00</td>\n      <td>F</td>\n      <td>2119-09-21 13:38:00</td>\n      <td>3.15625</td>\n      <td>67.786166</td>\n      <td>0</td>\n    </tr>\n  </tbody>\n</table>\n</div>"
     },
     "metadata": {},
     "execution_count": 70
    }
   ],
   "source": [
    "patient_cohort[patient_cohort[\"hadm_id\"] == 178137]"
   ]
  },
  {
   "cell_type": "code",
   "execution_count": 71,
   "metadata": {},
   "outputs": [
    {
     "output_type": "execute_result",
     "data": {
      "text/plain": [
       "      subject_id  hadm_id  icustay_id                  DOB gender  \\\n",
       "10            23   152223      227807  2082-07-17 00:00:00      M   \n",
       "20            36   182104      280987  2061-08-17 00:00:00      M   \n",
       "40            68   170467      294232  2132-02-29 00:00:00      F   \n",
       "51            85   116630      209562  2090-09-18 00:00:00      M   \n",
       "54            94   183686      229012  2101-09-20 00:00:00      M   \n",
       "...          ...      ...         ...                  ...    ...   \n",
       "5356       98669   108710      224242  2072-07-04 00:00:00      F   \n",
       "5357       98753   185764      207506  2094-05-01 00:00:00      F   \n",
       "5358       98753   185764      233107  2094-05-01 00:00:00      F   \n",
       "5359       98768   127022      213468  2027-07-26 00:00:00      F   \n",
       "5360       98797   105447      244147  2044-12-27 00:00:00      M   \n",
       "\n",
       "                admittime  icu_length_of_stay        age  mortality  \n",
       "10    2153-09-03 07:15:00            1.264074  71.327310          0  \n",
       "20    2131-04-30 07:15:00            1.109595  69.902529          0  \n",
       "40    2173-12-15 16:16:00            3.536806  41.912036          0  \n",
       "51    2162-03-02 14:04:00            2.235324  71.651661          0  \n",
       "54    2176-02-25 16:49:00            1.098542  74.639117          0  \n",
       "...                   ...                 ...        ...        ...  \n",
       "5356  2147-04-07 15:09:00            6.837303  74.962888          1  \n",
       "5357  2172-02-11 21:26:00            4.246400  78.021019          1  \n",
       "5358  2172-02-11 21:26:00            2.740428  78.035799          1  \n",
       "5359  2112-09-15 09:45:00            2.151123  85.375677          1  \n",
       "5360  2132-12-24 20:06:00            1.238171  88.234852          1  \n",
       "\n",
       "[35397 rows x 9 columns]"
      ],
      "text/html": "<div>\n<style scoped>\n    .dataframe tbody tr th:only-of-type {\n        vertical-align: middle;\n    }\n\n    .dataframe tbody tr th {\n        vertical-align: top;\n    }\n\n    .dataframe thead th {\n        text-align: right;\n    }\n</style>\n<table border=\"1\" class=\"dataframe\">\n  <thead>\n    <tr style=\"text-align: right;\">\n      <th></th>\n      <th>subject_id</th>\n      <th>hadm_id</th>\n      <th>icustay_id</th>\n      <th>DOB</th>\n      <th>gender</th>\n      <th>admittime</th>\n      <th>icu_length_of_stay</th>\n      <th>age</th>\n      <th>mortality</th>\n    </tr>\n  </thead>\n  <tbody>\n    <tr>\n      <th>10</th>\n      <td>23</td>\n      <td>152223</td>\n      <td>227807</td>\n      <td>2082-07-17 00:00:00</td>\n      <td>M</td>\n      <td>2153-09-03 07:15:00</td>\n      <td>1.264074</td>\n      <td>71.327310</td>\n      <td>0</td>\n    </tr>\n    <tr>\n      <th>20</th>\n      <td>36</td>\n      <td>182104</td>\n      <td>280987</td>\n      <td>2061-08-17 00:00:00</td>\n      <td>M</td>\n      <td>2131-04-30 07:15:00</td>\n      <td>1.109595</td>\n      <td>69.902529</td>\n      <td>0</td>\n    </tr>\n    <tr>\n      <th>40</th>\n      <td>68</td>\n      <td>170467</td>\n      <td>294232</td>\n      <td>2132-02-29 00:00:00</td>\n      <td>F</td>\n      <td>2173-12-15 16:16:00</td>\n      <td>3.536806</td>\n      <td>41.912036</td>\n      <td>0</td>\n    </tr>\n    <tr>\n      <th>51</th>\n      <td>85</td>\n      <td>116630</td>\n      <td>209562</td>\n      <td>2090-09-18 00:00:00</td>\n      <td>M</td>\n      <td>2162-03-02 14:04:00</td>\n      <td>2.235324</td>\n      <td>71.651661</td>\n      <td>0</td>\n    </tr>\n    <tr>\n      <th>54</th>\n      <td>94</td>\n      <td>183686</td>\n      <td>229012</td>\n      <td>2101-09-20 00:00:00</td>\n      <td>M</td>\n      <td>2176-02-25 16:49:00</td>\n      <td>1.098542</td>\n      <td>74.639117</td>\n      <td>0</td>\n    </tr>\n    <tr>\n      <th>...</th>\n      <td>...</td>\n      <td>...</td>\n      <td>...</td>\n      <td>...</td>\n      <td>...</td>\n      <td>...</td>\n      <td>...</td>\n      <td>...</td>\n      <td>...</td>\n    </tr>\n    <tr>\n      <th>5356</th>\n      <td>98669</td>\n      <td>108710</td>\n      <td>224242</td>\n      <td>2072-07-04 00:00:00</td>\n      <td>F</td>\n      <td>2147-04-07 15:09:00</td>\n      <td>6.837303</td>\n      <td>74.962888</td>\n      <td>1</td>\n    </tr>\n    <tr>\n      <th>5357</th>\n      <td>98753</td>\n      <td>185764</td>\n      <td>207506</td>\n      <td>2094-05-01 00:00:00</td>\n      <td>F</td>\n      <td>2172-02-11 21:26:00</td>\n      <td>4.246400</td>\n      <td>78.021019</td>\n      <td>1</td>\n    </tr>\n    <tr>\n      <th>5358</th>\n      <td>98753</td>\n      <td>185764</td>\n      <td>233107</td>\n      <td>2094-05-01 00:00:00</td>\n      <td>F</td>\n      <td>2172-02-11 21:26:00</td>\n      <td>2.740428</td>\n      <td>78.035799</td>\n      <td>1</td>\n    </tr>\n    <tr>\n      <th>5359</th>\n      <td>98768</td>\n      <td>127022</td>\n      <td>213468</td>\n      <td>2027-07-26 00:00:00</td>\n      <td>F</td>\n      <td>2112-09-15 09:45:00</td>\n      <td>2.151123</td>\n      <td>85.375677</td>\n      <td>1</td>\n    </tr>\n    <tr>\n      <th>5360</th>\n      <td>98797</td>\n      <td>105447</td>\n      <td>244147</td>\n      <td>2044-12-27 00:00:00</td>\n      <td>M</td>\n      <td>2132-12-24 20:06:00</td>\n      <td>1.238171</td>\n      <td>88.234852</td>\n      <td>1</td>\n    </tr>\n  </tbody>\n</table>\n<p>35397 rows × 9 columns</p>\n</div>"
     },
     "metadata": {},
     "execution_count": 71
    }
   ],
   "source": [
    "patient_cohort"
   ]
  },
  {
   "cell_type": "code",
   "execution_count": null,
   "metadata": {},
   "outputs": [],
   "source": []
  },
  {
   "cell_type": "code",
   "execution_count": null,
   "metadata": {},
   "outputs": [],
   "source": []
  },
  {
   "source": [
    "## Extracting vitals"
   ],
   "cell_type": "markdown",
   "metadata": {}
  },
  {
   "cell_type": "code",
   "execution_count": 86,
   "metadata": {},
   "outputs": [],
   "source": [
    "query = \"\"\"\n",
    "WITH ce as\n",
    "(\n",
    "    select ce.icustay_id, ce.charttime\n",
    "        , (case when itemid in (211,220045) and valuenum > 0 and valuenum < 300 then valuenum else null end) as HeartRate\n",
    "        , (case when itemid in (51,442,455,6701,220179,220050) and valuenum > 0 and valuenum < 400 then valuenum else null end) as SysBP\n",
    "        , (case when itemid in (8368,8440,8441,8555,220180,220051) and valuenum > 0 and valuenum < 300 then valuenum else null end) as DiasBP\n",
    "        , (case when itemid in (456,52,6702,443,220052,220181,225312) and valuenum > 0 and valuenum < 300 then valuenum else null end) as MeanBP\n",
    "        , (case when itemid in (615,618,220210,224690) and valuenum > 0 and valuenum < 70 then valuenum else null end) as RespRate\n",
    "        , (case when itemid in (223761,678) and valuenum > 70 and valuenum < 120 then (valuenum-32)/1.8 -- converted to degC in valuenum call\n",
    "               when itemid in (223762,676) and valuenum > 10 and valuenum < 50  then valuenum else null end) as TempC\n",
    "        , (case when itemid in (646,220277) and valuenum > 0 and valuenum <= 100 then valuenum else null end) as SpO2\n",
    "        , (case when itemid in (807,811,1529,3745,3744,225664,220621,226537) and valuenum > 0 then valuenum else null end) as Glucose\n",
    "    from chartevents ce\n",
    "    \n",
    "    WHERE ce.itemid in\n",
    "    (\n",
    "    -- HEART RATE\n",
    "    211, --\"Heart Rate\"\n",
    "    220045, --\"Heart Rate\"\n",
    "\n",
    "    -- Systolic/diastolic\n",
    "\n",
    "    51, --\tArterial BP [Systolic]\n",
    "    442, --\tManual BP [Systolic]\n",
    "    455, --\tNBP [Systolic]\n",
    "    6701, --\tArterial BP #2 [Systolic]\n",
    "    220179, --\tNon Invasive Blood Pressure systolic\n",
    "    220050, --\tArterial Blood Pressure systolic\n",
    "\n",
    "    8368, --\tArterial BP [Diastolic]\n",
    "    8440, --\tManual BP [Diastolic]\n",
    "    8441, --\tNBP [Diastolic]\n",
    "    8555, --\tArterial BP #2 [Diastolic]\n",
    "    220180, --\tNon Invasive Blood Pressure diastolic\n",
    "    220051, --\tArterial Blood Pressure diastolic\n",
    "\n",
    "\n",
    "    -- MEAN ARTERIAL PRESSURE\n",
    "    456, --\"NBP Mean\"\n",
    "    52, --\"Arterial BP Mean\"\n",
    "    6702, --\tArterial BP Mean #2\n",
    "    443, --\tManual BP Mean(calc)\n",
    "    220052, --\"Arterial Blood Pressure mean\"\n",
    "    220181, --\"Non Invasive Blood Pressure mean\"\n",
    "    225312, --\"ART BP mean\"\n",
    "\n",
    "    -- RESPIRATORY RATE\n",
    "    618,--\tRespiratory Rate\n",
    "    615,--\tResp Rate (Total)\n",
    "    220210,--\tRespiratory Rate\n",
    "    224690, --\tRespiratory Rate (Total)\n",
    "\n",
    "\n",
    "    -- SPO2, peripheral\n",
    "    646, 220277,\n",
    "\n",
    "    -- TEMPERATURE\n",
    "    223762, -- \"Temperature Celsius\"\n",
    "    676,\t-- \"Temperature C\"\n",
    "    223761, -- \"Temperature Fahrenheit\"\n",
    "    678 --\t\"Temperature F\"\n",
    "\n",
    "    )\n",
    "    )\n",
    "select\n",
    "    icustays.hadm_id\n",
    "  , ce.charttime\n",
    "  , avg(HeartRate) as HeartRate\n",
    "  , avg(SysBP) as SysBP\n",
    "  , avg(DiasBP) as DiasBP\n",
    "  , avg(MeanBP) as MeanBP\n",
    "  , avg(RespRate) as RespRate\n",
    "  , avg(TempC) as TempC\n",
    "  , avg(SpO2) as SpO2\n",
    "  , avg(Glucose) as Glucose\n",
    "from icustays\n",
    "left join ce\n",
    "on ce.icustay_id = icustays.icustay_id\n",
    "group by icustays.hadm_id, ce.charttime\n",
    "order by icustays.hadm_id, ce.charttime;\n",
    "\"\"\""
   ]
  },
  {
   "cell_type": "code",
   "execution_count": 87,
   "metadata": {},
   "outputs": [],
   "source": [
    "vital  = pd.read_sql_query(query, connection)"
   ]
  },
  {
   "cell_type": "code",
   "execution_count": 88,
   "metadata": {},
   "outputs": [
    {
     "output_type": "execute_result",
     "data": {
      "text/plain": [
       "         HADM_ID            charttime  HeartRate  SysBP  DiasBP  MeanBP  \\\n",
       "0         100001  2117-09-11 12:57:00      122.0    NaN     NaN     NaN   \n",
       "1         100001  2117-09-11 13:00:00      118.0    NaN     NaN     NaN   \n",
       "2         100001  2117-09-11 13:01:00        NaN  192.0   100.0   122.0   \n",
       "3         100001  2117-09-11 13:48:00        NaN    NaN     NaN     NaN   \n",
       "4         100001  2117-09-11 13:50:00      118.0    NaN     NaN     NaN   \n",
       "...          ...                  ...        ...    ...     ...     ...   \n",
       "8641278   199999  2136-04-10 08:00:00       69.0    NaN     NaN     NaN   \n",
       "8641279   199999  2136-04-10 09:00:00       79.0    NaN     NaN     NaN   \n",
       "8641280   199999  2136-04-10 09:10:00        NaN  128.0    81.0    89.0   \n",
       "8641281   199999  2136-04-10 10:00:00       72.0    NaN     NaN     NaN   \n",
       "8641282   199999  2136-04-10 11:00:00       72.0  144.0   123.0   128.0   \n",
       "\n",
       "         RespRate      TempC  SpO2 Glucose  \n",
       "0            14.0        NaN   NaN    None  \n",
       "1            22.0        NaN   NaN    None  \n",
       "2             NaN        NaN   NaN    None  \n",
       "3             NaN  36.666667   NaN    None  \n",
       "4            22.0        NaN   NaN    None  \n",
       "...           ...        ...   ...     ...  \n",
       "8641278      24.0  36.722222  96.0    None  \n",
       "8641279      24.0        NaN  93.0    None  \n",
       "8641280       NaN        NaN   NaN    None  \n",
       "8641281      26.0        NaN  97.0    None  \n",
       "8641282      24.0        NaN  96.0    None  \n",
       "\n",
       "[8641283 rows x 10 columns]"
      ],
      "text/html": "<div>\n<style scoped>\n    .dataframe tbody tr th:only-of-type {\n        vertical-align: middle;\n    }\n\n    .dataframe tbody tr th {\n        vertical-align: top;\n    }\n\n    .dataframe thead th {\n        text-align: right;\n    }\n</style>\n<table border=\"1\" class=\"dataframe\">\n  <thead>\n    <tr style=\"text-align: right;\">\n      <th></th>\n      <th>HADM_ID</th>\n      <th>charttime</th>\n      <th>HeartRate</th>\n      <th>SysBP</th>\n      <th>DiasBP</th>\n      <th>MeanBP</th>\n      <th>RespRate</th>\n      <th>TempC</th>\n      <th>SpO2</th>\n      <th>Glucose</th>\n    </tr>\n  </thead>\n  <tbody>\n    <tr>\n      <th>0</th>\n      <td>100001</td>\n      <td>2117-09-11 12:57:00</td>\n      <td>122.0</td>\n      <td>NaN</td>\n      <td>NaN</td>\n      <td>NaN</td>\n      <td>14.0</td>\n      <td>NaN</td>\n      <td>NaN</td>\n      <td>None</td>\n    </tr>\n    <tr>\n      <th>1</th>\n      <td>100001</td>\n      <td>2117-09-11 13:00:00</td>\n      <td>118.0</td>\n      <td>NaN</td>\n      <td>NaN</td>\n      <td>NaN</td>\n      <td>22.0</td>\n      <td>NaN</td>\n      <td>NaN</td>\n      <td>None</td>\n    </tr>\n    <tr>\n      <th>2</th>\n      <td>100001</td>\n      <td>2117-09-11 13:01:00</td>\n      <td>NaN</td>\n      <td>192.0</td>\n      <td>100.0</td>\n      <td>122.0</td>\n      <td>NaN</td>\n      <td>NaN</td>\n      <td>NaN</td>\n      <td>None</td>\n    </tr>\n    <tr>\n      <th>3</th>\n      <td>100001</td>\n      <td>2117-09-11 13:48:00</td>\n      <td>NaN</td>\n      <td>NaN</td>\n      <td>NaN</td>\n      <td>NaN</td>\n      <td>NaN</td>\n      <td>36.666667</td>\n      <td>NaN</td>\n      <td>None</td>\n    </tr>\n    <tr>\n      <th>4</th>\n      <td>100001</td>\n      <td>2117-09-11 13:50:00</td>\n      <td>118.0</td>\n      <td>NaN</td>\n      <td>NaN</td>\n      <td>NaN</td>\n      <td>22.0</td>\n      <td>NaN</td>\n      <td>NaN</td>\n      <td>None</td>\n    </tr>\n    <tr>\n      <th>...</th>\n      <td>...</td>\n      <td>...</td>\n      <td>...</td>\n      <td>...</td>\n      <td>...</td>\n      <td>...</td>\n      <td>...</td>\n      <td>...</td>\n      <td>...</td>\n      <td>...</td>\n    </tr>\n    <tr>\n      <th>8641278</th>\n      <td>199999</td>\n      <td>2136-04-10 08:00:00</td>\n      <td>69.0</td>\n      <td>NaN</td>\n      <td>NaN</td>\n      <td>NaN</td>\n      <td>24.0</td>\n      <td>36.722222</td>\n      <td>96.0</td>\n      <td>None</td>\n    </tr>\n    <tr>\n      <th>8641279</th>\n      <td>199999</td>\n      <td>2136-04-10 09:00:00</td>\n      <td>79.0</td>\n      <td>NaN</td>\n      <td>NaN</td>\n      <td>NaN</td>\n      <td>24.0</td>\n      <td>NaN</td>\n      <td>93.0</td>\n      <td>None</td>\n    </tr>\n    <tr>\n      <th>8641280</th>\n      <td>199999</td>\n      <td>2136-04-10 09:10:00</td>\n      <td>NaN</td>\n      <td>128.0</td>\n      <td>81.0</td>\n      <td>89.0</td>\n      <td>NaN</td>\n      <td>NaN</td>\n      <td>NaN</td>\n      <td>None</td>\n    </tr>\n    <tr>\n      <th>8641281</th>\n      <td>199999</td>\n      <td>2136-04-10 10:00:00</td>\n      <td>72.0</td>\n      <td>NaN</td>\n      <td>NaN</td>\n      <td>NaN</td>\n      <td>26.0</td>\n      <td>NaN</td>\n      <td>97.0</td>\n      <td>None</td>\n    </tr>\n    <tr>\n      <th>8641282</th>\n      <td>199999</td>\n      <td>2136-04-10 11:00:00</td>\n      <td>72.0</td>\n      <td>144.0</td>\n      <td>123.0</td>\n      <td>128.0</td>\n      <td>24.0</td>\n      <td>NaN</td>\n      <td>96.0</td>\n      <td>None</td>\n    </tr>\n  </tbody>\n</table>\n<p>8641283 rows × 10 columns</p>\n</div>"
     },
     "metadata": {},
     "execution_count": 88
    }
   ],
   "source": [
    "vital"
   ]
  },
  {
   "source": [
    "## Prescriptions"
   ],
   "cell_type": "markdown",
   "metadata": {}
  },
  {
   "cell_type": "code",
   "execution_count": 72,
   "metadata": {},
   "outputs": [],
   "source": [
    "query = \"\"\"\n",
    "WITH filter_prescriptions AS\n",
    "(\n",
    "SELECT d.subject_id, adm.hadm_id, adm.admittime, d.icustay_id, d.drug as drug_name, CAST(d.NDC AS varchar) as NDC, d.startdate as drug_startdate, d.enddate as drug_enddate, d.prod_strength as drug_strength, d.dose_val_rx as drug_dosage, d.dose_unit_rx as drug_unit\n",
    "FROM prescriptions d\n",
    "INNER JOIN admissions adm\n",
    "    ON adm.subject_id = d.subject_id\n",
    "    AND adm.hadm_id = d.hadm_id\n",
    "\n",
    "ORDER  BY d.SUBJECT_ID ASC\n",
    ")\n",
    "SELECT *\n",
    "FROM filter_prescriptions \n",
    "\"\"\"\n",
    "\n",
    "drugs = pd.read_sql_query(query, connection)"
   ]
  },
  {
   "cell_type": "code",
   "execution_count": 73,
   "metadata": {},
   "outputs": [
    {
     "output_type": "execute_result",
     "data": {
      "text/plain": [
       "         subject_id  hadm_id            admittime  icustay_id  \\\n",
       "0                 2   163353  2138-07-17 19:04:00    243653.0   \n",
       "1                 2   163353  2138-07-17 19:04:00    243653.0   \n",
       "2                 2   163353  2138-07-17 19:04:00    243653.0   \n",
       "3                 2   163353  2138-07-17 19:04:00    243653.0   \n",
       "4                 4   185777  2191-03-16 00:28:00    294638.0   \n",
       "...             ...      ...                  ...         ...   \n",
       "4156445       99999   113369  2117-12-30 07:15:00         NaN   \n",
       "4156446       99999   113369  2117-12-30 07:15:00         NaN   \n",
       "4156447       99999   113369  2117-12-30 07:15:00         NaN   \n",
       "4156448       99999   113369  2117-12-30 07:15:00         NaN   \n",
       "4156449       99999   113369  2117-12-30 07:15:00         NaN   \n",
       "\n",
       "                        drug_name            NDC       drug_startdate  \\\n",
       "0               NEO*IV*Gentamicin  63323017302.0  2138-07-18 00:00:00   \n",
       "1        Syringe (Neonatal) *D5W*            0.0  2138-07-18 00:00:00   \n",
       "2               Ampicillin Sodium  63323038810.0  2138-07-18 00:00:00   \n",
       "3                 Send 500mg Vial            0.0  2138-07-18 00:00:00   \n",
       "4            Iso-Osmotic Dextrose            0.0  2191-03-16 00:00:00   \n",
       "...                           ...            ...                  ...   \n",
       "4156445        Methylprednisolone  66993084225.0  2118-01-04 00:00:00   \n",
       "4156446        Methylprednisolone  66993084225.0  2118-01-05 00:00:00   \n",
       "4156447        Methylprednisolone  66993084225.0  2118-01-06 00:00:00   \n",
       "4156448        Methylprednisolone  66993084225.0  2118-01-07 00:00:00   \n",
       "4156449        Methylprednisolone  66993084225.0  2118-01-08 00:00:00   \n",
       "\n",
       "                drug_enddate    drug_strength drug_dosage drug_unit  \n",
       "0        2138-07-20 00:00:00      10mg/mL-2mL        15.5        mg  \n",
       "1        2138-07-20 00:00:00        1 Syringe         2.4        ml  \n",
       "2        2138-07-21 00:00:00       500mg Vial         500        mg  \n",
       "3        2138-07-21 00:00:00  Send 500mg Vial           1      VIAL  \n",
       "4        2191-03-16 00:00:00        200ml Bag         200        ml  \n",
       "...                      ...              ...         ...       ...  \n",
       "4156445  2118-01-04 00:00:00       8mg Tablet          16        mg  \n",
       "4156446  2118-01-04 00:00:00       8mg Tablet           8        mg  \n",
       "4156447  2118-01-04 00:00:00       8mg Tablet           8        mg  \n",
       "4156448  2118-01-04 00:00:00       8mg Tablet           8        mg  \n",
       "4156449  2118-01-04 00:00:00       8mg Tablet           8        mg  \n",
       "\n",
       "[4156450 rows x 11 columns]"
      ],
      "text/html": "<div>\n<style scoped>\n    .dataframe tbody tr th:only-of-type {\n        vertical-align: middle;\n    }\n\n    .dataframe tbody tr th {\n        vertical-align: top;\n    }\n\n    .dataframe thead th {\n        text-align: right;\n    }\n</style>\n<table border=\"1\" class=\"dataframe\">\n  <thead>\n    <tr style=\"text-align: right;\">\n      <th></th>\n      <th>subject_id</th>\n      <th>hadm_id</th>\n      <th>admittime</th>\n      <th>icustay_id</th>\n      <th>drug_name</th>\n      <th>NDC</th>\n      <th>drug_startdate</th>\n      <th>drug_enddate</th>\n      <th>drug_strength</th>\n      <th>drug_dosage</th>\n      <th>drug_unit</th>\n    </tr>\n  </thead>\n  <tbody>\n    <tr>\n      <th>0</th>\n      <td>2</td>\n      <td>163353</td>\n      <td>2138-07-17 19:04:00</td>\n      <td>243653.0</td>\n      <td>NEO*IV*Gentamicin</td>\n      <td>63323017302.0</td>\n      <td>2138-07-18 00:00:00</td>\n      <td>2138-07-20 00:00:00</td>\n      <td>10mg/mL-2mL</td>\n      <td>15.5</td>\n      <td>mg</td>\n    </tr>\n    <tr>\n      <th>1</th>\n      <td>2</td>\n      <td>163353</td>\n      <td>2138-07-17 19:04:00</td>\n      <td>243653.0</td>\n      <td>Syringe (Neonatal) *D5W*</td>\n      <td>0.0</td>\n      <td>2138-07-18 00:00:00</td>\n      <td>2138-07-20 00:00:00</td>\n      <td>1 Syringe</td>\n      <td>2.4</td>\n      <td>ml</td>\n    </tr>\n    <tr>\n      <th>2</th>\n      <td>2</td>\n      <td>163353</td>\n      <td>2138-07-17 19:04:00</td>\n      <td>243653.0</td>\n      <td>Ampicillin Sodium</td>\n      <td>63323038810.0</td>\n      <td>2138-07-18 00:00:00</td>\n      <td>2138-07-21 00:00:00</td>\n      <td>500mg Vial</td>\n      <td>500</td>\n      <td>mg</td>\n    </tr>\n    <tr>\n      <th>3</th>\n      <td>2</td>\n      <td>163353</td>\n      <td>2138-07-17 19:04:00</td>\n      <td>243653.0</td>\n      <td>Send 500mg Vial</td>\n      <td>0.0</td>\n      <td>2138-07-18 00:00:00</td>\n      <td>2138-07-21 00:00:00</td>\n      <td>Send 500mg Vial</td>\n      <td>1</td>\n      <td>VIAL</td>\n    </tr>\n    <tr>\n      <th>4</th>\n      <td>4</td>\n      <td>185777</td>\n      <td>2191-03-16 00:28:00</td>\n      <td>294638.0</td>\n      <td>Iso-Osmotic Dextrose</td>\n      <td>0.0</td>\n      <td>2191-03-16 00:00:00</td>\n      <td>2191-03-16 00:00:00</td>\n      <td>200ml Bag</td>\n      <td>200</td>\n      <td>ml</td>\n    </tr>\n    <tr>\n      <th>...</th>\n      <td>...</td>\n      <td>...</td>\n      <td>...</td>\n      <td>...</td>\n      <td>...</td>\n      <td>...</td>\n      <td>...</td>\n      <td>...</td>\n      <td>...</td>\n      <td>...</td>\n      <td>...</td>\n    </tr>\n    <tr>\n      <th>4156445</th>\n      <td>99999</td>\n      <td>113369</td>\n      <td>2117-12-30 07:15:00</td>\n      <td>NaN</td>\n      <td>Methylprednisolone</td>\n      <td>66993084225.0</td>\n      <td>2118-01-04 00:00:00</td>\n      <td>2118-01-04 00:00:00</td>\n      <td>8mg Tablet</td>\n      <td>16</td>\n      <td>mg</td>\n    </tr>\n    <tr>\n      <th>4156446</th>\n      <td>99999</td>\n      <td>113369</td>\n      <td>2117-12-30 07:15:00</td>\n      <td>NaN</td>\n      <td>Methylprednisolone</td>\n      <td>66993084225.0</td>\n      <td>2118-01-05 00:00:00</td>\n      <td>2118-01-04 00:00:00</td>\n      <td>8mg Tablet</td>\n      <td>8</td>\n      <td>mg</td>\n    </tr>\n    <tr>\n      <th>4156447</th>\n      <td>99999</td>\n      <td>113369</td>\n      <td>2117-12-30 07:15:00</td>\n      <td>NaN</td>\n      <td>Methylprednisolone</td>\n      <td>66993084225.0</td>\n      <td>2118-01-06 00:00:00</td>\n      <td>2118-01-04 00:00:00</td>\n      <td>8mg Tablet</td>\n      <td>8</td>\n      <td>mg</td>\n    </tr>\n    <tr>\n      <th>4156448</th>\n      <td>99999</td>\n      <td>113369</td>\n      <td>2117-12-30 07:15:00</td>\n      <td>NaN</td>\n      <td>Methylprednisolone</td>\n      <td>66993084225.0</td>\n      <td>2118-01-07 00:00:00</td>\n      <td>2118-01-04 00:00:00</td>\n      <td>8mg Tablet</td>\n      <td>8</td>\n      <td>mg</td>\n    </tr>\n    <tr>\n      <th>4156449</th>\n      <td>99999</td>\n      <td>113369</td>\n      <td>2117-12-30 07:15:00</td>\n      <td>NaN</td>\n      <td>Methylprednisolone</td>\n      <td>66993084225.0</td>\n      <td>2118-01-08 00:00:00</td>\n      <td>2118-01-04 00:00:00</td>\n      <td>8mg Tablet</td>\n      <td>8</td>\n      <td>mg</td>\n    </tr>\n  </tbody>\n</table>\n<p>4156450 rows × 11 columns</p>\n</div>"
     },
     "metadata": {},
     "execution_count": 73
    }
   ],
   "source": [
    "drugs"
   ]
  },
  {
   "cell_type": "code",
   "execution_count": 5,
   "metadata": {},
   "outputs": [],
   "source": [
    "#del drugs\n"
   ]
  },
  {
   "source": [
    "## Diagnoses"
   ],
   "cell_type": "markdown",
   "metadata": {}
  },
  {
   "cell_type": "code",
   "execution_count": 74,
   "metadata": {},
   "outputs": [],
   "source": [
    "query = \"\"\"\n",
    "WITH filter_diagnoses AS \n",
    "(\n",
    "    SELECT icd.subject_id, icd.hadm_id, admissions.admittime, icd.icd9_code, d_icd.short_title as icd9_title\n",
    "    FROM diagnoses_icd icd\n",
    "    INNER JOIN icustays, admissions\n",
    "        ON icd.subject_id = icustays.subject_id\n",
    "        AND icustays.hadm_id = admissions.hadm_id\n",
    "    INNER JOIN d_icd_diagnoses d_icd\n",
    "        ON icd.icd9_code = d_icd.icd9_code\n",
    ")\n",
    "SELECT *\n",
    "FROM filter_diagnoses\n",
    "ORDER BY subject_id\n",
    "\"\"\"\n",
    "\n",
    "diagnoses = pd.read_sql_query(query, connection)"
   ]
  },
  {
   "cell_type": "code",
   "execution_count": 75,
   "metadata": {},
   "outputs": [
    {
     "output_type": "execute_result",
     "data": {
      "text/plain": [
       "         subject_id  hadm_id            admittime icd9_code  \\\n",
       "0                 2   163353  2138-07-17 19:04:00     V3001   \n",
       "1                 2   163353  2138-07-17 19:04:00      V053   \n",
       "2                 2   163353  2138-07-17 19:04:00      V290   \n",
       "3                 3   145834  2101-10-20 19:08:00      0389   \n",
       "4                 3   145834  2101-10-20 19:08:00     78559   \n",
       "...             ...      ...                  ...       ...   \n",
       "1431230       99999   113369  2117-12-30 07:15:00     75612   \n",
       "1431231       99999   113369  2117-12-30 07:15:00      7861   \n",
       "1431232       99999   113369  2117-12-30 07:15:00      4019   \n",
       "1431233       99999   113369  2117-12-30 07:15:00     25000   \n",
       "1431234       99999   113369  2117-12-30 07:15:00      4139   \n",
       "\n",
       "                       icd9_title  \n",
       "0          Single lb in-hosp w cs  \n",
       "1        Need prphyl vc vrl hepat  \n",
       "2          NB obsrv suspct infect  \n",
       "3                  Septicemia NOS  \n",
       "4            Shock w/o trauma NEC  \n",
       "...                           ...  \n",
       "1431230         Spondylolisthesis  \n",
       "1431231                   Stridor  \n",
       "1431232          Hypertension NOS  \n",
       "1431233  DMII wo cmp nt st uncntr  \n",
       "1431234   Angina pectoris NEC/NOS  \n",
       "\n",
       "[1431235 rows x 5 columns]"
      ],
      "text/html": "<div>\n<style scoped>\n    .dataframe tbody tr th:only-of-type {\n        vertical-align: middle;\n    }\n\n    .dataframe tbody tr th {\n        vertical-align: top;\n    }\n\n    .dataframe thead th {\n        text-align: right;\n    }\n</style>\n<table border=\"1\" class=\"dataframe\">\n  <thead>\n    <tr style=\"text-align: right;\">\n      <th></th>\n      <th>subject_id</th>\n      <th>hadm_id</th>\n      <th>admittime</th>\n      <th>icd9_code</th>\n      <th>icd9_title</th>\n    </tr>\n  </thead>\n  <tbody>\n    <tr>\n      <th>0</th>\n      <td>2</td>\n      <td>163353</td>\n      <td>2138-07-17 19:04:00</td>\n      <td>V3001</td>\n      <td>Single lb in-hosp w cs</td>\n    </tr>\n    <tr>\n      <th>1</th>\n      <td>2</td>\n      <td>163353</td>\n      <td>2138-07-17 19:04:00</td>\n      <td>V053</td>\n      <td>Need prphyl vc vrl hepat</td>\n    </tr>\n    <tr>\n      <th>2</th>\n      <td>2</td>\n      <td>163353</td>\n      <td>2138-07-17 19:04:00</td>\n      <td>V290</td>\n      <td>NB obsrv suspct infect</td>\n    </tr>\n    <tr>\n      <th>3</th>\n      <td>3</td>\n      <td>145834</td>\n      <td>2101-10-20 19:08:00</td>\n      <td>0389</td>\n      <td>Septicemia NOS</td>\n    </tr>\n    <tr>\n      <th>4</th>\n      <td>3</td>\n      <td>145834</td>\n      <td>2101-10-20 19:08:00</td>\n      <td>78559</td>\n      <td>Shock w/o trauma NEC</td>\n    </tr>\n    <tr>\n      <th>...</th>\n      <td>...</td>\n      <td>...</td>\n      <td>...</td>\n      <td>...</td>\n      <td>...</td>\n    </tr>\n    <tr>\n      <th>1431230</th>\n      <td>99999</td>\n      <td>113369</td>\n      <td>2117-12-30 07:15:00</td>\n      <td>75612</td>\n      <td>Spondylolisthesis</td>\n    </tr>\n    <tr>\n      <th>1431231</th>\n      <td>99999</td>\n      <td>113369</td>\n      <td>2117-12-30 07:15:00</td>\n      <td>7861</td>\n      <td>Stridor</td>\n    </tr>\n    <tr>\n      <th>1431232</th>\n      <td>99999</td>\n      <td>113369</td>\n      <td>2117-12-30 07:15:00</td>\n      <td>4019</td>\n      <td>Hypertension NOS</td>\n    </tr>\n    <tr>\n      <th>1431233</th>\n      <td>99999</td>\n      <td>113369</td>\n      <td>2117-12-30 07:15:00</td>\n      <td>25000</td>\n      <td>DMII wo cmp nt st uncntr</td>\n    </tr>\n    <tr>\n      <th>1431234</th>\n      <td>99999</td>\n      <td>113369</td>\n      <td>2117-12-30 07:15:00</td>\n      <td>4139</td>\n      <td>Angina pectoris NEC/NOS</td>\n    </tr>\n  </tbody>\n</table>\n<p>1431235 rows × 5 columns</p>\n</div>"
     },
     "metadata": {},
     "execution_count": 75
    }
   ],
   "source": [
    "diagnoses"
   ]
  },
  {
   "source": [
    "## Vital cohort"
   ],
   "cell_type": "markdown",
   "metadata": {}
  },
  {
   "cell_type": "code",
   "execution_count": 89,
   "metadata": {},
   "outputs": [],
   "source": [
    "vital_cohort = vital[vital.HADM_ID.isin(list(patient_cohort.hadm_id))]"
   ]
  },
  {
   "cell_type": "code",
   "execution_count": 90,
   "metadata": {},
   "outputs": [],
   "source": [
    "p = patient_cohort.copy()\n",
    "v = vital_cohort.copy()\n"
   ]
  },
  {
   "cell_type": "code",
   "execution_count": 91,
   "metadata": {},
   "outputs": [],
   "source": [
    "v.rename(columns={\"HADM_ID\": \"hadm_id\"}, inplace=True)"
   ]
  },
  {
   "cell_type": "code",
   "execution_count": 92,
   "metadata": {},
   "outputs": [
    {
     "output_type": "execute_result",
     "data": {
      "text/plain": [
       "         hadm_id            charttime  HeartRate  SysBP  DiasBP  MeanBP  \\\n",
       "0         100001  2117-09-11 12:57:00      122.0    NaN     NaN     NaN   \n",
       "1         100001  2117-09-11 13:00:00      118.0    NaN     NaN     NaN   \n",
       "2         100001  2117-09-11 13:01:00        NaN  192.0   100.0   122.0   \n",
       "3         100001  2117-09-11 13:48:00        NaN    NaN     NaN     NaN   \n",
       "4         100001  2117-09-11 13:50:00      118.0    NaN     NaN     NaN   \n",
       "...          ...                  ...        ...    ...     ...     ...   \n",
       "8641278   199999  2136-04-10 08:00:00       69.0    NaN     NaN     NaN   \n",
       "8641279   199999  2136-04-10 09:00:00       79.0    NaN     NaN     NaN   \n",
       "8641280   199999  2136-04-10 09:10:00        NaN  128.0    81.0    89.0   \n",
       "8641281   199999  2136-04-10 10:00:00       72.0    NaN     NaN     NaN   \n",
       "8641282   199999  2136-04-10 11:00:00       72.0  144.0   123.0   128.0   \n",
       "\n",
       "         RespRate      TempC  SpO2 Glucose  \n",
       "0            14.0        NaN   NaN    None  \n",
       "1            22.0        NaN   NaN    None  \n",
       "2             NaN        NaN   NaN    None  \n",
       "3             NaN  36.666667   NaN    None  \n",
       "4            22.0        NaN   NaN    None  \n",
       "...           ...        ...   ...     ...  \n",
       "8641278      24.0  36.722222  96.0    None  \n",
       "8641279      24.0        NaN  93.0    None  \n",
       "8641280       NaN        NaN   NaN    None  \n",
       "8641281      26.0        NaN  97.0    None  \n",
       "8641282      24.0        NaN  96.0    None  \n",
       "\n",
       "[5333334 rows x 10 columns]"
      ],
      "text/html": "<div>\n<style scoped>\n    .dataframe tbody tr th:only-of-type {\n        vertical-align: middle;\n    }\n\n    .dataframe tbody tr th {\n        vertical-align: top;\n    }\n\n    .dataframe thead th {\n        text-align: right;\n    }\n</style>\n<table border=\"1\" class=\"dataframe\">\n  <thead>\n    <tr style=\"text-align: right;\">\n      <th></th>\n      <th>hadm_id</th>\n      <th>charttime</th>\n      <th>HeartRate</th>\n      <th>SysBP</th>\n      <th>DiasBP</th>\n      <th>MeanBP</th>\n      <th>RespRate</th>\n      <th>TempC</th>\n      <th>SpO2</th>\n      <th>Glucose</th>\n    </tr>\n  </thead>\n  <tbody>\n    <tr>\n      <th>0</th>\n      <td>100001</td>\n      <td>2117-09-11 12:57:00</td>\n      <td>122.0</td>\n      <td>NaN</td>\n      <td>NaN</td>\n      <td>NaN</td>\n      <td>14.0</td>\n      <td>NaN</td>\n      <td>NaN</td>\n      <td>None</td>\n    </tr>\n    <tr>\n      <th>1</th>\n      <td>100001</td>\n      <td>2117-09-11 13:00:00</td>\n      <td>118.0</td>\n      <td>NaN</td>\n      <td>NaN</td>\n      <td>NaN</td>\n      <td>22.0</td>\n      <td>NaN</td>\n      <td>NaN</td>\n      <td>None</td>\n    </tr>\n    <tr>\n      <th>2</th>\n      <td>100001</td>\n      <td>2117-09-11 13:01:00</td>\n      <td>NaN</td>\n      <td>192.0</td>\n      <td>100.0</td>\n      <td>122.0</td>\n      <td>NaN</td>\n      <td>NaN</td>\n      <td>NaN</td>\n      <td>None</td>\n    </tr>\n    <tr>\n      <th>3</th>\n      <td>100001</td>\n      <td>2117-09-11 13:48:00</td>\n      <td>NaN</td>\n      <td>NaN</td>\n      <td>NaN</td>\n      <td>NaN</td>\n      <td>NaN</td>\n      <td>36.666667</td>\n      <td>NaN</td>\n      <td>None</td>\n    </tr>\n    <tr>\n      <th>4</th>\n      <td>100001</td>\n      <td>2117-09-11 13:50:00</td>\n      <td>118.0</td>\n      <td>NaN</td>\n      <td>NaN</td>\n      <td>NaN</td>\n      <td>22.0</td>\n      <td>NaN</td>\n      <td>NaN</td>\n      <td>None</td>\n    </tr>\n    <tr>\n      <th>...</th>\n      <td>...</td>\n      <td>...</td>\n      <td>...</td>\n      <td>...</td>\n      <td>...</td>\n      <td>...</td>\n      <td>...</td>\n      <td>...</td>\n      <td>...</td>\n      <td>...</td>\n    </tr>\n    <tr>\n      <th>8641278</th>\n      <td>199999</td>\n      <td>2136-04-10 08:00:00</td>\n      <td>69.0</td>\n      <td>NaN</td>\n      <td>NaN</td>\n      <td>NaN</td>\n      <td>24.0</td>\n      <td>36.722222</td>\n      <td>96.0</td>\n      <td>None</td>\n    </tr>\n    <tr>\n      <th>8641279</th>\n      <td>199999</td>\n      <td>2136-04-10 09:00:00</td>\n      <td>79.0</td>\n      <td>NaN</td>\n      <td>NaN</td>\n      <td>NaN</td>\n      <td>24.0</td>\n      <td>NaN</td>\n      <td>93.0</td>\n      <td>None</td>\n    </tr>\n    <tr>\n      <th>8641280</th>\n      <td>199999</td>\n      <td>2136-04-10 09:10:00</td>\n      <td>NaN</td>\n      <td>128.0</td>\n      <td>81.0</td>\n      <td>89.0</td>\n      <td>NaN</td>\n      <td>NaN</td>\n      <td>NaN</td>\n      <td>None</td>\n    </tr>\n    <tr>\n      <th>8641281</th>\n      <td>199999</td>\n      <td>2136-04-10 10:00:00</td>\n      <td>72.0</td>\n      <td>NaN</td>\n      <td>NaN</td>\n      <td>NaN</td>\n      <td>26.0</td>\n      <td>NaN</td>\n      <td>97.0</td>\n      <td>None</td>\n    </tr>\n    <tr>\n      <th>8641282</th>\n      <td>199999</td>\n      <td>2136-04-10 11:00:00</td>\n      <td>72.0</td>\n      <td>144.0</td>\n      <td>123.0</td>\n      <td>128.0</td>\n      <td>24.0</td>\n      <td>NaN</td>\n      <td>96.0</td>\n      <td>None</td>\n    </tr>\n  </tbody>\n</table>\n<p>5333334 rows × 10 columns</p>\n</div>"
     },
     "metadata": {},
     "execution_count": 92
    }
   ],
   "source": [
    "v"
   ]
  },
  {
   "cell_type": "code",
   "execution_count": 93,
   "metadata": {},
   "outputs": [
    {
     "output_type": "execute_result",
     "data": {
      "text/plain": [
       "      subject_id  hadm_id  icustay_id                  DOB gender  \\\n",
       "10            23   152223      227807  2082-07-17 00:00:00      M   \n",
       "20            36   182104      280987  2061-08-17 00:00:00      M   \n",
       "40            68   170467      294232  2132-02-29 00:00:00      F   \n",
       "51            85   116630      209562  2090-09-18 00:00:00      M   \n",
       "54            94   183686      229012  2101-09-20 00:00:00      M   \n",
       "...          ...      ...         ...                  ...    ...   \n",
       "5356       98669   108710      224242  2072-07-04 00:00:00      F   \n",
       "5357       98753   185764      207506  2094-05-01 00:00:00      F   \n",
       "5358       98753   185764      233107  2094-05-01 00:00:00      F   \n",
       "5359       98768   127022      213468  2027-07-26 00:00:00      F   \n",
       "5360       98797   105447      244147  2044-12-27 00:00:00      M   \n",
       "\n",
       "                admittime  icu_length_of_stay        age  mortality  \n",
       "10    2153-09-03 07:15:00            1.264074  71.327310          0  \n",
       "20    2131-04-30 07:15:00            1.109595  69.902529          0  \n",
       "40    2173-12-15 16:16:00            3.536806  41.912036          0  \n",
       "51    2162-03-02 14:04:00            2.235324  71.651661          0  \n",
       "54    2176-02-25 16:49:00            1.098542  74.639117          0  \n",
       "...                   ...                 ...        ...        ...  \n",
       "5356  2147-04-07 15:09:00            6.837303  74.962888          1  \n",
       "5357  2172-02-11 21:26:00            4.246400  78.021019          1  \n",
       "5358  2172-02-11 21:26:00            2.740428  78.035799          1  \n",
       "5359  2112-09-15 09:45:00            2.151123  85.375677          1  \n",
       "5360  2132-12-24 20:06:00            1.238171  88.234852          1  \n",
       "\n",
       "[35397 rows x 9 columns]"
      ],
      "text/html": "<div>\n<style scoped>\n    .dataframe tbody tr th:only-of-type {\n        vertical-align: middle;\n    }\n\n    .dataframe tbody tr th {\n        vertical-align: top;\n    }\n\n    .dataframe thead th {\n        text-align: right;\n    }\n</style>\n<table border=\"1\" class=\"dataframe\">\n  <thead>\n    <tr style=\"text-align: right;\">\n      <th></th>\n      <th>subject_id</th>\n      <th>hadm_id</th>\n      <th>icustay_id</th>\n      <th>DOB</th>\n      <th>gender</th>\n      <th>admittime</th>\n      <th>icu_length_of_stay</th>\n      <th>age</th>\n      <th>mortality</th>\n    </tr>\n  </thead>\n  <tbody>\n    <tr>\n      <th>10</th>\n      <td>23</td>\n      <td>152223</td>\n      <td>227807</td>\n      <td>2082-07-17 00:00:00</td>\n      <td>M</td>\n      <td>2153-09-03 07:15:00</td>\n      <td>1.264074</td>\n      <td>71.327310</td>\n      <td>0</td>\n    </tr>\n    <tr>\n      <th>20</th>\n      <td>36</td>\n      <td>182104</td>\n      <td>280987</td>\n      <td>2061-08-17 00:00:00</td>\n      <td>M</td>\n      <td>2131-04-30 07:15:00</td>\n      <td>1.109595</td>\n      <td>69.902529</td>\n      <td>0</td>\n    </tr>\n    <tr>\n      <th>40</th>\n      <td>68</td>\n      <td>170467</td>\n      <td>294232</td>\n      <td>2132-02-29 00:00:00</td>\n      <td>F</td>\n      <td>2173-12-15 16:16:00</td>\n      <td>3.536806</td>\n      <td>41.912036</td>\n      <td>0</td>\n    </tr>\n    <tr>\n      <th>51</th>\n      <td>85</td>\n      <td>116630</td>\n      <td>209562</td>\n      <td>2090-09-18 00:00:00</td>\n      <td>M</td>\n      <td>2162-03-02 14:04:00</td>\n      <td>2.235324</td>\n      <td>71.651661</td>\n      <td>0</td>\n    </tr>\n    <tr>\n      <th>54</th>\n      <td>94</td>\n      <td>183686</td>\n      <td>229012</td>\n      <td>2101-09-20 00:00:00</td>\n      <td>M</td>\n      <td>2176-02-25 16:49:00</td>\n      <td>1.098542</td>\n      <td>74.639117</td>\n      <td>0</td>\n    </tr>\n    <tr>\n      <th>...</th>\n      <td>...</td>\n      <td>...</td>\n      <td>...</td>\n      <td>...</td>\n      <td>...</td>\n      <td>...</td>\n      <td>...</td>\n      <td>...</td>\n      <td>...</td>\n    </tr>\n    <tr>\n      <th>5356</th>\n      <td>98669</td>\n      <td>108710</td>\n      <td>224242</td>\n      <td>2072-07-04 00:00:00</td>\n      <td>F</td>\n      <td>2147-04-07 15:09:00</td>\n      <td>6.837303</td>\n      <td>74.962888</td>\n      <td>1</td>\n    </tr>\n    <tr>\n      <th>5357</th>\n      <td>98753</td>\n      <td>185764</td>\n      <td>207506</td>\n      <td>2094-05-01 00:00:00</td>\n      <td>F</td>\n      <td>2172-02-11 21:26:00</td>\n      <td>4.246400</td>\n      <td>78.021019</td>\n      <td>1</td>\n    </tr>\n    <tr>\n      <th>5358</th>\n      <td>98753</td>\n      <td>185764</td>\n      <td>233107</td>\n      <td>2094-05-01 00:00:00</td>\n      <td>F</td>\n      <td>2172-02-11 21:26:00</td>\n      <td>2.740428</td>\n      <td>78.035799</td>\n      <td>1</td>\n    </tr>\n    <tr>\n      <th>5359</th>\n      <td>98768</td>\n      <td>127022</td>\n      <td>213468</td>\n      <td>2027-07-26 00:00:00</td>\n      <td>F</td>\n      <td>2112-09-15 09:45:00</td>\n      <td>2.151123</td>\n      <td>85.375677</td>\n      <td>1</td>\n    </tr>\n    <tr>\n      <th>5360</th>\n      <td>98797</td>\n      <td>105447</td>\n      <td>244147</td>\n      <td>2044-12-27 00:00:00</td>\n      <td>M</td>\n      <td>2132-12-24 20:06:00</td>\n      <td>1.238171</td>\n      <td>88.234852</td>\n      <td>1</td>\n    </tr>\n  </tbody>\n</table>\n<p>35397 rows × 9 columns</p>\n</div>"
     },
     "metadata": {},
     "execution_count": 93
    }
   ],
   "source": [
    "p"
   ]
  },
  {
   "cell_type": "code",
   "execution_count": 94,
   "metadata": {},
   "outputs": [],
   "source": [
    "f = p.merge(v, how='left', on='hadm_id')\n"
   ]
  },
  {
   "cell_type": "code",
   "execution_count": 95,
   "metadata": {},
   "outputs": [
    {
     "output_type": "execute_result",
     "data": {
      "text/plain": [
       "         subject_id  hadm_id  icustay_id                  DOB gender  \\\n",
       "0                23   152223      227807  2082-07-17 00:00:00      M   \n",
       "1                23   152223      227807  2082-07-17 00:00:00      M   \n",
       "2                23   152223      227807  2082-07-17 00:00:00      M   \n",
       "3                23   152223      227807  2082-07-17 00:00:00      M   \n",
       "4                23   152223      227807  2082-07-17 00:00:00      M   \n",
       "...             ...      ...         ...                  ...    ...   \n",
       "6163291       98797   105447      244147  2044-12-27 00:00:00      M   \n",
       "6163292       98797   105447      244147  2044-12-27 00:00:00      M   \n",
       "6163293       98797   105447      244147  2044-12-27 00:00:00      M   \n",
       "6163294       98797   105447      244147  2044-12-27 00:00:00      M   \n",
       "6163295       98797   105447      244147  2044-12-27 00:00:00      M   \n",
       "\n",
       "                   admittime  icu_length_of_stay        age  mortality  \\\n",
       "0        2153-09-03 07:15:00            1.264074  71.327310          0   \n",
       "1        2153-09-03 07:15:00            1.264074  71.327310          0   \n",
       "2        2153-09-03 07:15:00            1.264074  71.327310          0   \n",
       "3        2153-09-03 07:15:00            1.264074  71.327310          0   \n",
       "4        2153-09-03 07:15:00            1.264074  71.327310          0   \n",
       "...                      ...                 ...        ...        ...   \n",
       "6163291  2132-12-24 20:06:00            1.238171  88.234852          1   \n",
       "6163292  2132-12-24 20:06:00            1.238171  88.234852          1   \n",
       "6163293  2132-12-24 20:06:00            1.238171  88.234852          1   \n",
       "6163294  2132-12-24 20:06:00            1.238171  88.234852          1   \n",
       "6163295  2132-12-24 20:06:00            1.238171  88.234852          1   \n",
       "\n",
       "                   charttime  HeartRate  SysBP  DiasBP  MeanBP  RespRate  \\\n",
       "0        2153-09-03 12:20:00        NaN    NaN     NaN     NaN      12.0   \n",
       "1        2153-09-03 12:30:00       90.0  106.0    62.0    77.0       7.0   \n",
       "2        2153-09-03 12:45:00       90.0  109.0    63.0    79.0       NaN   \n",
       "3        2153-09-03 13:00:00       90.0   92.0    57.0    69.0      13.0   \n",
       "4        2153-09-03 13:15:00       90.0   98.0    55.0    70.0      12.0   \n",
       "...                      ...        ...    ...     ...     ...       ...   \n",
       "6163291  2132-12-25 22:00:00        NaN    NaN     NaN     NaN       NaN   \n",
       "6163292  2132-12-25 22:01:00        NaN    NaN     NaN     NaN       NaN   \n",
       "6163293  2132-12-25 22:03:00       48.0    NaN     NaN     NaN       NaN   \n",
       "6163294  2132-12-25 23:00:00      107.0    NaN     NaN     NaN      34.0   \n",
       "6163295  2132-12-25 23:22:00        NaN   85.0    47.0    57.0       NaN   \n",
       "\n",
       "         TempC   SpO2 Glucose  \n",
       "0          NaN    NaN    None  \n",
       "1         35.0  100.0    None  \n",
       "2          NaN  100.0    None  \n",
       "3          NaN  100.0    None  \n",
       "4          NaN  100.0    None  \n",
       "...        ...    ...     ...  \n",
       "6163291    NaN   61.0    None  \n",
       "6163292    NaN    NaN    None  \n",
       "6163293    NaN    NaN    None  \n",
       "6163294    NaN   79.0    None  \n",
       "6163295    NaN    NaN    None  \n",
       "\n",
       "[6163296 rows x 18 columns]"
      ],
      "text/html": "<div>\n<style scoped>\n    .dataframe tbody tr th:only-of-type {\n        vertical-align: middle;\n    }\n\n    .dataframe tbody tr th {\n        vertical-align: top;\n    }\n\n    .dataframe thead th {\n        text-align: right;\n    }\n</style>\n<table border=\"1\" class=\"dataframe\">\n  <thead>\n    <tr style=\"text-align: right;\">\n      <th></th>\n      <th>subject_id</th>\n      <th>hadm_id</th>\n      <th>icustay_id</th>\n      <th>DOB</th>\n      <th>gender</th>\n      <th>admittime</th>\n      <th>icu_length_of_stay</th>\n      <th>age</th>\n      <th>mortality</th>\n      <th>charttime</th>\n      <th>HeartRate</th>\n      <th>SysBP</th>\n      <th>DiasBP</th>\n      <th>MeanBP</th>\n      <th>RespRate</th>\n      <th>TempC</th>\n      <th>SpO2</th>\n      <th>Glucose</th>\n    </tr>\n  </thead>\n  <tbody>\n    <tr>\n      <th>0</th>\n      <td>23</td>\n      <td>152223</td>\n      <td>227807</td>\n      <td>2082-07-17 00:00:00</td>\n      <td>M</td>\n      <td>2153-09-03 07:15:00</td>\n      <td>1.264074</td>\n      <td>71.327310</td>\n      <td>0</td>\n      <td>2153-09-03 12:20:00</td>\n      <td>NaN</td>\n      <td>NaN</td>\n      <td>NaN</td>\n      <td>NaN</td>\n      <td>12.0</td>\n      <td>NaN</td>\n      <td>NaN</td>\n      <td>None</td>\n    </tr>\n    <tr>\n      <th>1</th>\n      <td>23</td>\n      <td>152223</td>\n      <td>227807</td>\n      <td>2082-07-17 00:00:00</td>\n      <td>M</td>\n      <td>2153-09-03 07:15:00</td>\n      <td>1.264074</td>\n      <td>71.327310</td>\n      <td>0</td>\n      <td>2153-09-03 12:30:00</td>\n      <td>90.0</td>\n      <td>106.0</td>\n      <td>62.0</td>\n      <td>77.0</td>\n      <td>7.0</td>\n      <td>35.0</td>\n      <td>100.0</td>\n      <td>None</td>\n    </tr>\n    <tr>\n      <th>2</th>\n      <td>23</td>\n      <td>152223</td>\n      <td>227807</td>\n      <td>2082-07-17 00:00:00</td>\n      <td>M</td>\n      <td>2153-09-03 07:15:00</td>\n      <td>1.264074</td>\n      <td>71.327310</td>\n      <td>0</td>\n      <td>2153-09-03 12:45:00</td>\n      <td>90.0</td>\n      <td>109.0</td>\n      <td>63.0</td>\n      <td>79.0</td>\n      <td>NaN</td>\n      <td>NaN</td>\n      <td>100.0</td>\n      <td>None</td>\n    </tr>\n    <tr>\n      <th>3</th>\n      <td>23</td>\n      <td>152223</td>\n      <td>227807</td>\n      <td>2082-07-17 00:00:00</td>\n      <td>M</td>\n      <td>2153-09-03 07:15:00</td>\n      <td>1.264074</td>\n      <td>71.327310</td>\n      <td>0</td>\n      <td>2153-09-03 13:00:00</td>\n      <td>90.0</td>\n      <td>92.0</td>\n      <td>57.0</td>\n      <td>69.0</td>\n      <td>13.0</td>\n      <td>NaN</td>\n      <td>100.0</td>\n      <td>None</td>\n    </tr>\n    <tr>\n      <th>4</th>\n      <td>23</td>\n      <td>152223</td>\n      <td>227807</td>\n      <td>2082-07-17 00:00:00</td>\n      <td>M</td>\n      <td>2153-09-03 07:15:00</td>\n      <td>1.264074</td>\n      <td>71.327310</td>\n      <td>0</td>\n      <td>2153-09-03 13:15:00</td>\n      <td>90.0</td>\n      <td>98.0</td>\n      <td>55.0</td>\n      <td>70.0</td>\n      <td>12.0</td>\n      <td>NaN</td>\n      <td>100.0</td>\n      <td>None</td>\n    </tr>\n    <tr>\n      <th>...</th>\n      <td>...</td>\n      <td>...</td>\n      <td>...</td>\n      <td>...</td>\n      <td>...</td>\n      <td>...</td>\n      <td>...</td>\n      <td>...</td>\n      <td>...</td>\n      <td>...</td>\n      <td>...</td>\n      <td>...</td>\n      <td>...</td>\n      <td>...</td>\n      <td>...</td>\n      <td>...</td>\n      <td>...</td>\n      <td>...</td>\n    </tr>\n    <tr>\n      <th>6163291</th>\n      <td>98797</td>\n      <td>105447</td>\n      <td>244147</td>\n      <td>2044-12-27 00:00:00</td>\n      <td>M</td>\n      <td>2132-12-24 20:06:00</td>\n      <td>1.238171</td>\n      <td>88.234852</td>\n      <td>1</td>\n      <td>2132-12-25 22:00:00</td>\n      <td>NaN</td>\n      <td>NaN</td>\n      <td>NaN</td>\n      <td>NaN</td>\n      <td>NaN</td>\n      <td>NaN</td>\n      <td>61.0</td>\n      <td>None</td>\n    </tr>\n    <tr>\n      <th>6163292</th>\n      <td>98797</td>\n      <td>105447</td>\n      <td>244147</td>\n      <td>2044-12-27 00:00:00</td>\n      <td>M</td>\n      <td>2132-12-24 20:06:00</td>\n      <td>1.238171</td>\n      <td>88.234852</td>\n      <td>1</td>\n      <td>2132-12-25 22:01:00</td>\n      <td>NaN</td>\n      <td>NaN</td>\n      <td>NaN</td>\n      <td>NaN</td>\n      <td>NaN</td>\n      <td>NaN</td>\n      <td>NaN</td>\n      <td>None</td>\n    </tr>\n    <tr>\n      <th>6163293</th>\n      <td>98797</td>\n      <td>105447</td>\n      <td>244147</td>\n      <td>2044-12-27 00:00:00</td>\n      <td>M</td>\n      <td>2132-12-24 20:06:00</td>\n      <td>1.238171</td>\n      <td>88.234852</td>\n      <td>1</td>\n      <td>2132-12-25 22:03:00</td>\n      <td>48.0</td>\n      <td>NaN</td>\n      <td>NaN</td>\n      <td>NaN</td>\n      <td>NaN</td>\n      <td>NaN</td>\n      <td>NaN</td>\n      <td>None</td>\n    </tr>\n    <tr>\n      <th>6163294</th>\n      <td>98797</td>\n      <td>105447</td>\n      <td>244147</td>\n      <td>2044-12-27 00:00:00</td>\n      <td>M</td>\n      <td>2132-12-24 20:06:00</td>\n      <td>1.238171</td>\n      <td>88.234852</td>\n      <td>1</td>\n      <td>2132-12-25 23:00:00</td>\n      <td>107.0</td>\n      <td>NaN</td>\n      <td>NaN</td>\n      <td>NaN</td>\n      <td>34.0</td>\n      <td>NaN</td>\n      <td>79.0</td>\n      <td>None</td>\n    </tr>\n    <tr>\n      <th>6163295</th>\n      <td>98797</td>\n      <td>105447</td>\n      <td>244147</td>\n      <td>2044-12-27 00:00:00</td>\n      <td>M</td>\n      <td>2132-12-24 20:06:00</td>\n      <td>1.238171</td>\n      <td>88.234852</td>\n      <td>1</td>\n      <td>2132-12-25 23:22:00</td>\n      <td>NaN</td>\n      <td>85.0</td>\n      <td>47.0</td>\n      <td>57.0</td>\n      <td>NaN</td>\n      <td>NaN</td>\n      <td>NaN</td>\n      <td>None</td>\n    </tr>\n  </tbody>\n</table>\n<p>6163296 rows × 18 columns</p>\n</div>"
     },
     "metadata": {},
     "execution_count": 95
    }
   ],
   "source": [
    "f"
   ]
  },
  {
   "cell_type": "code",
   "execution_count": 96,
   "metadata": {},
   "outputs": [],
   "source": [
    "f.to_csv(\"C:\\\\Users\\\\Maria\\\\Desktop\\\\data\\\\patients_vitals.csv\")"
   ]
  },
  {
   "cell_type": "code",
   "execution_count": 77,
   "metadata": {},
   "outputs": [],
   "source": [
    "data = pd.read_csv(\"C:\\\\Users\\\\Maria\\\\Desktop\\\\data\\\\patients_vitals.csv\")"
   ]
  },
  {
   "cell_type": "code",
   "execution_count": 78,
   "metadata": {},
   "outputs": [
    {
     "output_type": "execute_result",
     "data": {
      "text/plain": [
       "         Unnamed: 0  subject_id  hadm_id  icustay_id                  DOB  \\\n",
       "0                 0          23   152223      227807  2082-07-17 00:00:00   \n",
       "1                 1          23   152223      227807  2082-07-17 00:00:00   \n",
       "2                 2          23   152223      227807  2082-07-17 00:00:00   \n",
       "3                 3          23   152223      227807  2082-07-17 00:00:00   \n",
       "4                 4          23   152223      227807  2082-07-17 00:00:00   \n",
       "...             ...         ...      ...         ...                  ...   \n",
       "6163291     6163291       98797   105447      244147  2044-12-27 00:00:00   \n",
       "6163292     6163292       98797   105447      244147  2044-12-27 00:00:00   \n",
       "6163293     6163293       98797   105447      244147  2044-12-27 00:00:00   \n",
       "6163294     6163294       98797   105447      244147  2044-12-27 00:00:00   \n",
       "6163295     6163295       98797   105447      244147  2044-12-27 00:00:00   \n",
       "\n",
       "        gender               intime  icu_length_of_stay        age  mortality  \\\n",
       "0            M  2153-09-03 09:38:55            1.264074  71.327310          0   \n",
       "1            M  2153-09-03 09:38:55            1.264074  71.327310          0   \n",
       "2            M  2153-09-03 09:38:55            1.264074  71.327310          0   \n",
       "3            M  2153-09-03 09:38:55            1.264074  71.327310          0   \n",
       "4            M  2153-09-03 09:38:55            1.264074  71.327310          0   \n",
       "...        ...                  ...                 ...        ...        ...   \n",
       "6163291      M  2132-12-24 20:08:16            1.238171  88.234852          1   \n",
       "6163292      M  2132-12-24 20:08:16            1.238171  88.234852          1   \n",
       "6163293      M  2132-12-24 20:08:16            1.238171  88.234852          1   \n",
       "6163294      M  2132-12-24 20:08:16            1.238171  88.234852          1   \n",
       "6163295      M  2132-12-24 20:08:16            1.238171  88.234852          1   \n",
       "\n",
       "                   charttime  HeartRate  SysBP  DiasBP  MeanBP  RespRate  \\\n",
       "0        2153-09-03 12:20:00        NaN    NaN     NaN     NaN      12.0   \n",
       "1        2153-09-03 12:30:00       90.0  106.0    62.0    77.0       7.0   \n",
       "2        2153-09-03 12:45:00       90.0  109.0    63.0    79.0       NaN   \n",
       "3        2153-09-03 13:00:00       90.0   92.0    57.0    69.0      13.0   \n",
       "4        2153-09-03 13:15:00       90.0   98.0    55.0    70.0      12.0   \n",
       "...                      ...        ...    ...     ...     ...       ...   \n",
       "6163291  2132-12-25 22:00:00        NaN    NaN     NaN     NaN       NaN   \n",
       "6163292  2132-12-25 22:01:00        NaN    NaN     NaN     NaN       NaN   \n",
       "6163293  2132-12-25 22:03:00       48.0    NaN     NaN     NaN       NaN   \n",
       "6163294  2132-12-25 23:00:00      107.0    NaN     NaN     NaN      34.0   \n",
       "6163295  2132-12-25 23:22:00        NaN   85.0    47.0    57.0       NaN   \n",
       "\n",
       "         TempC   SpO2  Glucose  \n",
       "0          NaN    NaN      NaN  \n",
       "1         35.0  100.0      NaN  \n",
       "2          NaN  100.0      NaN  \n",
       "3          NaN  100.0      NaN  \n",
       "4          NaN  100.0      NaN  \n",
       "...        ...    ...      ...  \n",
       "6163291    NaN   61.0      NaN  \n",
       "6163292    NaN    NaN      NaN  \n",
       "6163293    NaN    NaN      NaN  \n",
       "6163294    NaN   79.0      NaN  \n",
       "6163295    NaN    NaN      NaN  \n",
       "\n",
       "[6163296 rows x 19 columns]"
      ],
      "text/html": "<div>\n<style scoped>\n    .dataframe tbody tr th:only-of-type {\n        vertical-align: middle;\n    }\n\n    .dataframe tbody tr th {\n        vertical-align: top;\n    }\n\n    .dataframe thead th {\n        text-align: right;\n    }\n</style>\n<table border=\"1\" class=\"dataframe\">\n  <thead>\n    <tr style=\"text-align: right;\">\n      <th></th>\n      <th>Unnamed: 0</th>\n      <th>subject_id</th>\n      <th>hadm_id</th>\n      <th>icustay_id</th>\n      <th>DOB</th>\n      <th>gender</th>\n      <th>intime</th>\n      <th>icu_length_of_stay</th>\n      <th>age</th>\n      <th>mortality</th>\n      <th>charttime</th>\n      <th>HeartRate</th>\n      <th>SysBP</th>\n      <th>DiasBP</th>\n      <th>MeanBP</th>\n      <th>RespRate</th>\n      <th>TempC</th>\n      <th>SpO2</th>\n      <th>Glucose</th>\n    </tr>\n  </thead>\n  <tbody>\n    <tr>\n      <th>0</th>\n      <td>0</td>\n      <td>23</td>\n      <td>152223</td>\n      <td>227807</td>\n      <td>2082-07-17 00:00:00</td>\n      <td>M</td>\n      <td>2153-09-03 09:38:55</td>\n      <td>1.264074</td>\n      <td>71.327310</td>\n      <td>0</td>\n      <td>2153-09-03 12:20:00</td>\n      <td>NaN</td>\n      <td>NaN</td>\n      <td>NaN</td>\n      <td>NaN</td>\n      <td>12.0</td>\n      <td>NaN</td>\n      <td>NaN</td>\n      <td>NaN</td>\n    </tr>\n    <tr>\n      <th>1</th>\n      <td>1</td>\n      <td>23</td>\n      <td>152223</td>\n      <td>227807</td>\n      <td>2082-07-17 00:00:00</td>\n      <td>M</td>\n      <td>2153-09-03 09:38:55</td>\n      <td>1.264074</td>\n      <td>71.327310</td>\n      <td>0</td>\n      <td>2153-09-03 12:30:00</td>\n      <td>90.0</td>\n      <td>106.0</td>\n      <td>62.0</td>\n      <td>77.0</td>\n      <td>7.0</td>\n      <td>35.0</td>\n      <td>100.0</td>\n      <td>NaN</td>\n    </tr>\n    <tr>\n      <th>2</th>\n      <td>2</td>\n      <td>23</td>\n      <td>152223</td>\n      <td>227807</td>\n      <td>2082-07-17 00:00:00</td>\n      <td>M</td>\n      <td>2153-09-03 09:38:55</td>\n      <td>1.264074</td>\n      <td>71.327310</td>\n      <td>0</td>\n      <td>2153-09-03 12:45:00</td>\n      <td>90.0</td>\n      <td>109.0</td>\n      <td>63.0</td>\n      <td>79.0</td>\n      <td>NaN</td>\n      <td>NaN</td>\n      <td>100.0</td>\n      <td>NaN</td>\n    </tr>\n    <tr>\n      <th>3</th>\n      <td>3</td>\n      <td>23</td>\n      <td>152223</td>\n      <td>227807</td>\n      <td>2082-07-17 00:00:00</td>\n      <td>M</td>\n      <td>2153-09-03 09:38:55</td>\n      <td>1.264074</td>\n      <td>71.327310</td>\n      <td>0</td>\n      <td>2153-09-03 13:00:00</td>\n      <td>90.0</td>\n      <td>92.0</td>\n      <td>57.0</td>\n      <td>69.0</td>\n      <td>13.0</td>\n      <td>NaN</td>\n      <td>100.0</td>\n      <td>NaN</td>\n    </tr>\n    <tr>\n      <th>4</th>\n      <td>4</td>\n      <td>23</td>\n      <td>152223</td>\n      <td>227807</td>\n      <td>2082-07-17 00:00:00</td>\n      <td>M</td>\n      <td>2153-09-03 09:38:55</td>\n      <td>1.264074</td>\n      <td>71.327310</td>\n      <td>0</td>\n      <td>2153-09-03 13:15:00</td>\n      <td>90.0</td>\n      <td>98.0</td>\n      <td>55.0</td>\n      <td>70.0</td>\n      <td>12.0</td>\n      <td>NaN</td>\n      <td>100.0</td>\n      <td>NaN</td>\n    </tr>\n    <tr>\n      <th>...</th>\n      <td>...</td>\n      <td>...</td>\n      <td>...</td>\n      <td>...</td>\n      <td>...</td>\n      <td>...</td>\n      <td>...</td>\n      <td>...</td>\n      <td>...</td>\n      <td>...</td>\n      <td>...</td>\n      <td>...</td>\n      <td>...</td>\n      <td>...</td>\n      <td>...</td>\n      <td>...</td>\n      <td>...</td>\n      <td>...</td>\n      <td>...</td>\n    </tr>\n    <tr>\n      <th>6163291</th>\n      <td>6163291</td>\n      <td>98797</td>\n      <td>105447</td>\n      <td>244147</td>\n      <td>2044-12-27 00:00:00</td>\n      <td>M</td>\n      <td>2132-12-24 20:08:16</td>\n      <td>1.238171</td>\n      <td>88.234852</td>\n      <td>1</td>\n      <td>2132-12-25 22:00:00</td>\n      <td>NaN</td>\n      <td>NaN</td>\n      <td>NaN</td>\n      <td>NaN</td>\n      <td>NaN</td>\n      <td>NaN</td>\n      <td>61.0</td>\n      <td>NaN</td>\n    </tr>\n    <tr>\n      <th>6163292</th>\n      <td>6163292</td>\n      <td>98797</td>\n      <td>105447</td>\n      <td>244147</td>\n      <td>2044-12-27 00:00:00</td>\n      <td>M</td>\n      <td>2132-12-24 20:08:16</td>\n      <td>1.238171</td>\n      <td>88.234852</td>\n      <td>1</td>\n      <td>2132-12-25 22:01:00</td>\n      <td>NaN</td>\n      <td>NaN</td>\n      <td>NaN</td>\n      <td>NaN</td>\n      <td>NaN</td>\n      <td>NaN</td>\n      <td>NaN</td>\n      <td>NaN</td>\n    </tr>\n    <tr>\n      <th>6163293</th>\n      <td>6163293</td>\n      <td>98797</td>\n      <td>105447</td>\n      <td>244147</td>\n      <td>2044-12-27 00:00:00</td>\n      <td>M</td>\n      <td>2132-12-24 20:08:16</td>\n      <td>1.238171</td>\n      <td>88.234852</td>\n      <td>1</td>\n      <td>2132-12-25 22:03:00</td>\n      <td>48.0</td>\n      <td>NaN</td>\n      <td>NaN</td>\n      <td>NaN</td>\n      <td>NaN</td>\n      <td>NaN</td>\n      <td>NaN</td>\n      <td>NaN</td>\n    </tr>\n    <tr>\n      <th>6163294</th>\n      <td>6163294</td>\n      <td>98797</td>\n      <td>105447</td>\n      <td>244147</td>\n      <td>2044-12-27 00:00:00</td>\n      <td>M</td>\n      <td>2132-12-24 20:08:16</td>\n      <td>1.238171</td>\n      <td>88.234852</td>\n      <td>1</td>\n      <td>2132-12-25 23:00:00</td>\n      <td>107.0</td>\n      <td>NaN</td>\n      <td>NaN</td>\n      <td>NaN</td>\n      <td>34.0</td>\n      <td>NaN</td>\n      <td>79.0</td>\n      <td>NaN</td>\n    </tr>\n    <tr>\n      <th>6163295</th>\n      <td>6163295</td>\n      <td>98797</td>\n      <td>105447</td>\n      <td>244147</td>\n      <td>2044-12-27 00:00:00</td>\n      <td>M</td>\n      <td>2132-12-24 20:08:16</td>\n      <td>1.238171</td>\n      <td>88.234852</td>\n      <td>1</td>\n      <td>2132-12-25 23:22:00</td>\n      <td>NaN</td>\n      <td>85.0</td>\n      <td>47.0</td>\n      <td>57.0</td>\n      <td>NaN</td>\n      <td>NaN</td>\n      <td>NaN</td>\n      <td>NaN</td>\n    </tr>\n  </tbody>\n</table>\n<p>6163296 rows × 19 columns</p>\n</div>"
     },
     "metadata": {},
     "execution_count": 78
    }
   ],
   "source": [
    "data "
   ]
  },
  {
   "cell_type": "code",
   "execution_count": null,
   "metadata": {},
   "outputs": [],
   "source": []
  },
  {
   "cell_type": "code",
   "execution_count": 79,
   "metadata": {},
   "outputs": [
    {
     "output_type": "execute_result",
     "data": {
      "text/plain": [
       "         subject_id  hadm_id            admittime  icustay_id  \\\n",
       "0                 2   163353  2138-07-17 19:04:00    243653.0   \n",
       "1                 2   163353  2138-07-17 19:04:00    243653.0   \n",
       "2                 2   163353  2138-07-17 19:04:00    243653.0   \n",
       "3                 2   163353  2138-07-17 19:04:00    243653.0   \n",
       "4                 4   185777  2191-03-16 00:28:00    294638.0   \n",
       "...             ...      ...                  ...         ...   \n",
       "4156445       99999   113369  2117-12-30 07:15:00         NaN   \n",
       "4156446       99999   113369  2117-12-30 07:15:00         NaN   \n",
       "4156447       99999   113369  2117-12-30 07:15:00         NaN   \n",
       "4156448       99999   113369  2117-12-30 07:15:00         NaN   \n",
       "4156449       99999   113369  2117-12-30 07:15:00         NaN   \n",
       "\n",
       "                        drug_name            NDC       drug_startdate  \\\n",
       "0               NEO*IV*Gentamicin  63323017302.0  2138-07-18 00:00:00   \n",
       "1        Syringe (Neonatal) *D5W*            0.0  2138-07-18 00:00:00   \n",
       "2               Ampicillin Sodium  63323038810.0  2138-07-18 00:00:00   \n",
       "3                 Send 500mg Vial            0.0  2138-07-18 00:00:00   \n",
       "4            Iso-Osmotic Dextrose            0.0  2191-03-16 00:00:00   \n",
       "...                           ...            ...                  ...   \n",
       "4156445        Methylprednisolone  66993084225.0  2118-01-04 00:00:00   \n",
       "4156446        Methylprednisolone  66993084225.0  2118-01-05 00:00:00   \n",
       "4156447        Methylprednisolone  66993084225.0  2118-01-06 00:00:00   \n",
       "4156448        Methylprednisolone  66993084225.0  2118-01-07 00:00:00   \n",
       "4156449        Methylprednisolone  66993084225.0  2118-01-08 00:00:00   \n",
       "\n",
       "                drug_enddate    drug_strength drug_dosage drug_unit  \n",
       "0        2138-07-20 00:00:00      10mg/mL-2mL        15.5        mg  \n",
       "1        2138-07-20 00:00:00        1 Syringe         2.4        ml  \n",
       "2        2138-07-21 00:00:00       500mg Vial         500        mg  \n",
       "3        2138-07-21 00:00:00  Send 500mg Vial           1      VIAL  \n",
       "4        2191-03-16 00:00:00        200ml Bag         200        ml  \n",
       "...                      ...              ...         ...       ...  \n",
       "4156445  2118-01-04 00:00:00       8mg Tablet          16        mg  \n",
       "4156446  2118-01-04 00:00:00       8mg Tablet           8        mg  \n",
       "4156447  2118-01-04 00:00:00       8mg Tablet           8        mg  \n",
       "4156448  2118-01-04 00:00:00       8mg Tablet           8        mg  \n",
       "4156449  2118-01-04 00:00:00       8mg Tablet           8        mg  \n",
       "\n",
       "[4156450 rows x 11 columns]"
      ],
      "text/html": "<div>\n<style scoped>\n    .dataframe tbody tr th:only-of-type {\n        vertical-align: middle;\n    }\n\n    .dataframe tbody tr th {\n        vertical-align: top;\n    }\n\n    .dataframe thead th {\n        text-align: right;\n    }\n</style>\n<table border=\"1\" class=\"dataframe\">\n  <thead>\n    <tr style=\"text-align: right;\">\n      <th></th>\n      <th>subject_id</th>\n      <th>hadm_id</th>\n      <th>admittime</th>\n      <th>icustay_id</th>\n      <th>drug_name</th>\n      <th>NDC</th>\n      <th>drug_startdate</th>\n      <th>drug_enddate</th>\n      <th>drug_strength</th>\n      <th>drug_dosage</th>\n      <th>drug_unit</th>\n    </tr>\n  </thead>\n  <tbody>\n    <tr>\n      <th>0</th>\n      <td>2</td>\n      <td>163353</td>\n      <td>2138-07-17 19:04:00</td>\n      <td>243653.0</td>\n      <td>NEO*IV*Gentamicin</td>\n      <td>63323017302.0</td>\n      <td>2138-07-18 00:00:00</td>\n      <td>2138-07-20 00:00:00</td>\n      <td>10mg/mL-2mL</td>\n      <td>15.5</td>\n      <td>mg</td>\n    </tr>\n    <tr>\n      <th>1</th>\n      <td>2</td>\n      <td>163353</td>\n      <td>2138-07-17 19:04:00</td>\n      <td>243653.0</td>\n      <td>Syringe (Neonatal) *D5W*</td>\n      <td>0.0</td>\n      <td>2138-07-18 00:00:00</td>\n      <td>2138-07-20 00:00:00</td>\n      <td>1 Syringe</td>\n      <td>2.4</td>\n      <td>ml</td>\n    </tr>\n    <tr>\n      <th>2</th>\n      <td>2</td>\n      <td>163353</td>\n      <td>2138-07-17 19:04:00</td>\n      <td>243653.0</td>\n      <td>Ampicillin Sodium</td>\n      <td>63323038810.0</td>\n      <td>2138-07-18 00:00:00</td>\n      <td>2138-07-21 00:00:00</td>\n      <td>500mg Vial</td>\n      <td>500</td>\n      <td>mg</td>\n    </tr>\n    <tr>\n      <th>3</th>\n      <td>2</td>\n      <td>163353</td>\n      <td>2138-07-17 19:04:00</td>\n      <td>243653.0</td>\n      <td>Send 500mg Vial</td>\n      <td>0.0</td>\n      <td>2138-07-18 00:00:00</td>\n      <td>2138-07-21 00:00:00</td>\n      <td>Send 500mg Vial</td>\n      <td>1</td>\n      <td>VIAL</td>\n    </tr>\n    <tr>\n      <th>4</th>\n      <td>4</td>\n      <td>185777</td>\n      <td>2191-03-16 00:28:00</td>\n      <td>294638.0</td>\n      <td>Iso-Osmotic Dextrose</td>\n      <td>0.0</td>\n      <td>2191-03-16 00:00:00</td>\n      <td>2191-03-16 00:00:00</td>\n      <td>200ml Bag</td>\n      <td>200</td>\n      <td>ml</td>\n    </tr>\n    <tr>\n      <th>...</th>\n      <td>...</td>\n      <td>...</td>\n      <td>...</td>\n      <td>...</td>\n      <td>...</td>\n      <td>...</td>\n      <td>...</td>\n      <td>...</td>\n      <td>...</td>\n      <td>...</td>\n      <td>...</td>\n    </tr>\n    <tr>\n      <th>4156445</th>\n      <td>99999</td>\n      <td>113369</td>\n      <td>2117-12-30 07:15:00</td>\n      <td>NaN</td>\n      <td>Methylprednisolone</td>\n      <td>66993084225.0</td>\n      <td>2118-01-04 00:00:00</td>\n      <td>2118-01-04 00:00:00</td>\n      <td>8mg Tablet</td>\n      <td>16</td>\n      <td>mg</td>\n    </tr>\n    <tr>\n      <th>4156446</th>\n      <td>99999</td>\n      <td>113369</td>\n      <td>2117-12-30 07:15:00</td>\n      <td>NaN</td>\n      <td>Methylprednisolone</td>\n      <td>66993084225.0</td>\n      <td>2118-01-05 00:00:00</td>\n      <td>2118-01-04 00:00:00</td>\n      <td>8mg Tablet</td>\n      <td>8</td>\n      <td>mg</td>\n    </tr>\n    <tr>\n      <th>4156447</th>\n      <td>99999</td>\n      <td>113369</td>\n      <td>2117-12-30 07:15:00</td>\n      <td>NaN</td>\n      <td>Methylprednisolone</td>\n      <td>66993084225.0</td>\n      <td>2118-01-06 00:00:00</td>\n      <td>2118-01-04 00:00:00</td>\n      <td>8mg Tablet</td>\n      <td>8</td>\n      <td>mg</td>\n    </tr>\n    <tr>\n      <th>4156448</th>\n      <td>99999</td>\n      <td>113369</td>\n      <td>2117-12-30 07:15:00</td>\n      <td>NaN</td>\n      <td>Methylprednisolone</td>\n      <td>66993084225.0</td>\n      <td>2118-01-07 00:00:00</td>\n      <td>2118-01-04 00:00:00</td>\n      <td>8mg Tablet</td>\n      <td>8</td>\n      <td>mg</td>\n    </tr>\n    <tr>\n      <th>4156449</th>\n      <td>99999</td>\n      <td>113369</td>\n      <td>2117-12-30 07:15:00</td>\n      <td>NaN</td>\n      <td>Methylprednisolone</td>\n      <td>66993084225.0</td>\n      <td>2118-01-08 00:00:00</td>\n      <td>2118-01-04 00:00:00</td>\n      <td>8mg Tablet</td>\n      <td>8</td>\n      <td>mg</td>\n    </tr>\n  </tbody>\n</table>\n<p>4156450 rows × 11 columns</p>\n</div>"
     },
     "metadata": {},
     "execution_count": 79
    }
   ],
   "source": [
    "drugs"
   ]
  },
  {
   "cell_type": "code",
   "execution_count": 80,
   "metadata": {},
   "outputs": [],
   "source": [
    "drugs_cohort = drugs[drugs.subject_id.isin(list(data.subject_id))]"
   ]
  },
  {
   "cell_type": "code",
   "execution_count": 81,
   "metadata": {},
   "outputs": [
    {
     "output_type": "execute_result",
     "data": {
      "text/plain": [
       "4              4\n",
       "36             4\n",
       "37             4\n",
       "38             4\n",
       "39             4\n",
       "           ...  \n",
       "4156411    99999\n",
       "4156412    99999\n",
       "4156413    99999\n",
       "4156398    99999\n",
       "4156449    99999\n",
       "Name: subject_id, Length: 3885634, dtype: int64"
      ]
     },
     "metadata": {},
     "execution_count": 81
    }
   ],
   "source": [
    "drugs_cohort.subject_id.sort_values()"
   ]
  },
  {
   "cell_type": "code",
   "execution_count": 82,
   "metadata": {},
   "outputs": [],
   "source": [
    "diagnoses_cohort = diagnoses[diagnoses.subject_id.isin((data.subject_id))]"
   ]
  },
  {
   "cell_type": "code",
   "execution_count": 83,
   "metadata": {},
   "outputs": [
    {
     "output_type": "execute_result",
     "data": {
      "text/plain": [
       "0              2\n",
       "1              2\n",
       "2              2\n",
       "3              3\n",
       "4              3\n",
       "           ...  \n",
       "1431233    99999\n",
       "1431230    99999\n",
       "1431231    99999\n",
       "1431232    99999\n",
       "1431234    99999\n",
       "Name: subject_id, Length: 1431235, dtype: int64"
      ]
     },
     "metadata": {},
     "execution_count": 83
    }
   ],
   "source": [
    "diagnoses.subject_id.sort_values()"
   ]
  },
  {
   "cell_type": "code",
   "execution_count": 84,
   "metadata": {},
   "outputs": [],
   "source": [
    "drugs_cohort.to_csv(\"C:\\\\Users\\\\Maria\\\\Desktop\\\\data\\\\drugs.csv\")"
   ]
  },
  {
   "cell_type": "code",
   "execution_count": 85,
   "metadata": {},
   "outputs": [],
   "source": [
    "diagnoses_cohort.to_csv(\"C:\\\\Users\\\\Maria\\\\Desktop\\\\data\\\\diagnoses.csv\")"
   ]
  },
  {
   "cell_type": "code",
   "execution_count": null,
   "metadata": {},
   "outputs": [],
   "source": []
  }
 ]
}