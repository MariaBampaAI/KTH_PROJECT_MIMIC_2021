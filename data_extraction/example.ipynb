{
 "metadata": {
  "language_info": {
   "codemirror_mode": {
    "name": "ipython",
    "version": 3
   },
   "file_extension": ".py",
   "mimetype": "text/x-python",
   "name": "python",
   "nbconvert_exporter": "python",
   "pygments_lexer": "ipython3",
   "version": "3.7.4"
  },
  "orig_nbformat": 2,
  "kernelspec": {
   "name": "python374jvsc74a57bd04a3821e50dfd29f54393a38062d93a54d0c9d954cd67861638d013f261604981",
   "display_name": "Python 3.7.4 64-bit"
  },
  "metadata": {
   "interpreter": {
    "hash": "4a3821e50dfd29f54393a38062d93a54d0c9d954cd67861638d013f261604981"
   }
  }
 },
 "nbformat": 4,
 "nbformat_minor": 2,
 "cells": [
  {
   "cell_type": "code",
   "execution_count": null,
   "metadata": {},
   "outputs": [],
   "source": [
    "import sqlite3\n",
    "import pandas as pd "
   ]
  },
  {
   "cell_type": "code",
   "execution_count": null,
   "metadata": {},
   "outputs": [],
   "source": [
    "##############################################################################\n",
    "####################### CONNECT TO MIMIC #####################################\n",
    "connection = sqlite3.connect(\"C:\\\\Users\\\\Maria\\\\Desktop\\\\Projects Data Scripts\\\\MIMIC\\\\data\\\\mimic3.db\")\n",
    "\n",
    "#We can verify we successfully created our connection object by running:\n",
    "print(connection.total_changes)\n",
    "# Be sure to close the connection\n",
    "#con.close()\n",
    "\n",
    "# Create our test query\n",
    "test_query = \"\"\"\n",
    "SELECT subject_id, hadm_id, admittime, dischtime, admission_type, diagnosis\n",
    "FROM admissions\n",
    "\"\"\"\n",
    "\n",
    "# Run the query and assign the results to a variable\n",
    "test = pd.read_sql_query(test_query,connection)\n",
    "\n",
    "print(\"TEST:\", test.head())\n",
    "##############################################################################\n",
    "##################### QUERYING, MORTALITY COHORT #############################\n",
    "\n",
    "\n",
    "###positive cohort\n",
    "\n",
    "query = \"\"\"\n",
    "\n",
    "WITH icu_patients AS\n",
    "(\n",
    "SELECT icu.subject_id, icu.hadm_id, icu.icustay_id, pat.DOB, pat.gender, icu.intime \n",
    ", (JulianDay(OUTTIME) - JulianDay(INTIME)) as icu_length_of_stay\n",
    ", (JulianDay(icu.INTIME) - JulianDay(pat.DOB))/ 364.242 as age\n",
    ", adm.hospital_expire_flag as mortality \n",
    "\n",
    "\n",
    "FROM icustays icu\n",
    "INNER JOIN patients pat\n",
    "  ON icu.subject_id = pat.subject_id\n",
    "INNER JOIN admissions adm\n",
    "    ON adm.subject_id = icu.subject_id\n",
    "    AND adm.hadm_id = icu.hadm_id\n",
    ")\n",
    "\n",
    "SELECT * \n",
    "FROM icu_patients icu_cohort\n",
    "WHERE icu_cohort.mortality == 1 AND icu_cohort.age >= 18 AND icu_cohort.icu_length_of_stay>=1\n",
    "\n",
    "\"\"\"\n",
    "\n",
    "\n",
    "positive_cohort = pd.read_sql_query(query, connection)"
   ]
  },
  {
   "cell_type": "code",
   "execution_count": null,
   "metadata": {},
   "outputs": [],
   "source": [
    "\n",
    "positive_cohort = positive_cohort.copy() #keeping the original icu patients\n",
    "positive_cohort.drop_duplicates()\n",
    "\n",
    "#the dataset contains dupicate values, so i will drop them \n",
    "positive_cohort = positive_cohort.drop_duplicates(keep='first')"
   ]
  },
  {
   "cell_type": "code",
   "execution_count": null,
   "metadata": {},
   "outputs": [],
   "source": [
    "positive_cohort"
   ]
  },
  {
   "cell_type": "code",
   "execution_count": null,
   "metadata": {},
   "outputs": [],
   "source": [
    "positive_cohort[positive_cohort[\"subject_id\"] == 27427]\n"
   ]
  },
  {
   "source": [
    "## Megative Cohort"
   ],
   "cell_type": "markdown",
   "metadata": {}
  },
  {
   "cell_type": "code",
   "execution_count": null,
   "metadata": {},
   "outputs": [],
   "source": [
    "\n",
    "###negative cohort\n",
    "\n",
    "query = \"\"\"\n",
    "\n",
    "WITH icu_patients AS\n",
    "(\n",
    "SELECT icu.subject_id, icu.hadm_id, icu.icustay_id, pat.DOB, pat.gender, icu.intime \n",
    ", (JulianDay(OUTTIME) - JulianDay(INTIME)) as icu_length_of_stay\n",
    ", (JulianDay(icu.INTIME) - JulianDay(pat.DOB))/ 364.242 as age\n",
    ", adm.hospital_expire_flag \n",
    "\n",
    "\n",
    "FROM icustays icu\n",
    "INNER JOIN patients pat\n",
    "  ON icu.subject_id = pat.subject_id\n",
    "INNER JOIN admissions adm\n",
    "    ON adm.subject_id = icu.subject_id\n",
    "    AND adm.hadm_id = icu.hadm_id\n",
    ")\n",
    "\n",
    "SELECT icu_cohort.subject_id, icu_cohort.hadm_id, icu_cohort.icustay_id, icu_cohort.DOB, icu_cohort.gender, icu_cohort.intime,  icu_cohort.icu_length_of_stay, icu_cohort.age, icu_cohort.hospital_expire_flag as mortality\n",
    "FROM icu_patients icu_cohort\n",
    "WHERE icu_cohort.subject_id NOT IN(\n",
    "    SELECT icu_cohort.subject_id\n",
    "    FROM icu_patients icu_cohort\n",
    "    WHERE icu_cohort.hospital_expire_flag == 1 AND icu_cohort.age >= 18 AND icu_cohort.icu_length_of_stay>=1\n",
    ")\n",
    "AND icu_cohort.age >= 18 AND icu_cohort.icu_length_of_stay>=1\n",
    "ORDER BY icu_cohort.subject_id\n",
    "\"\"\"\n",
    "\n",
    "\n",
    "negative_cohort = pd.read_sql_query(query, connection)"
   ]
  },
  {
   "cell_type": "code",
   "execution_count": null,
   "metadata": {},
   "outputs": [],
   "source": []
  },
  {
   "cell_type": "code",
   "execution_count": null,
   "metadata": {},
   "outputs": [],
   "source": [
    "negative_cohort"
   ]
  },
  {
   "source": [
    "### Preprocessing Negagive (to mortality) ICU patients (Keep the oldest date for admission)"
   ],
   "cell_type": "markdown",
   "metadata": {}
  },
  {
   "cell_type": "code",
   "execution_count": null,
   "metadata": {},
   "outputs": [],
   "source": [
    "# exclude patients < 18 years old\n",
    "patients = negative_cohort.copy() #keeping the original icu patients\n",
    "patients.drop_duplicates()\n",
    "\n",
    "#patients = patients[patients[\"exclusion_age\"]==0] #keep patients older than 18\n",
    "\n",
    "#the dataset contains dupicate values, so i will drop them \n",
    "patients = patients.drop_duplicates(keep='first')\n"
   ]
  },
  {
   "cell_type": "code",
   "execution_count": null,
   "metadata": {},
   "outputs": [],
   "source": [
    "patients[patients[\"subject_id\"] == 18108]"
   ]
  },
  {
   "cell_type": "code",
   "execution_count": null,
   "metadata": {},
   "outputs": [],
   "source": [
    "patients.subject_id.value_counts().sort_values"
   ]
  },
  {
   "cell_type": "code",
   "execution_count": null,
   "metadata": {},
   "outputs": [],
   "source": [
    "#check if we actually dropped duplicates\n",
    "patients[patients[\"subject_id\"]==11861]"
   ]
  },
  {
   "cell_type": "code",
   "execution_count": null,
   "metadata": {},
   "outputs": [],
   "source": [
    "#i extracted patients with multiple hadm_id, so we need to keep only the first hadm_id for each patient. and for each hadm_id all icu_Stays_id (i need them for labs and stuff)\n",
    "\n",
    "\n",
    "#count how  many visits in the icu each patient has \n",
    "counts = patients.groupby(patients.subject_id).nunique()[\"hadm_id\"]\n",
    "\n",
    "# index of patients with more than one hadm_id\n",
    "# select multi visit patients from patients\n",
    "idx_pat_multi_hadmid = counts[counts.values>1].index\n",
    "multi_hadmid_patients = patients[patients.subject_id.isin(list(idx_pat_multi_hadmid))]"
   ]
  },
  {
   "cell_type": "code",
   "execution_count": null,
   "metadata": {},
   "outputs": [],
   "source": [
    "#extract the one with one unique hadm_id for later concat of negative cohort\n",
    "uni_hadmid_patients = patients[~patients.subject_id.isin(list(idx_pat_multi_hadmid))]"
   ]
  },
  {
   "cell_type": "code",
   "execution_count": null,
   "metadata": {},
   "outputs": [],
   "source": [
    "uni_hadmid_patients.head()"
   ]
  },
  {
   "cell_type": "code",
   "execution_count": null,
   "metadata": {},
   "outputs": [],
   "source": [
    "multi_hadmid_patients.head()"
   ]
  },
  {
   "cell_type": "code",
   "execution_count": null,
   "metadata": {},
   "outputs": [],
   "source": [
    "#just checking\n",
    "multi_hadmid_patients[multi_hadmid_patients['subject_id'] == 11861]"
   ]
  },
  {
   "cell_type": "code",
   "execution_count": null,
   "metadata": {},
   "outputs": [],
   "source": [
    "#convert to datetime\n",
    "multi_hadmid_patients.intime = pd.to_datetime(multi_hadmid_patients.intime)"
   ]
  },
  {
   "cell_type": "code",
   "execution_count": null,
   "metadata": {},
   "outputs": [],
   "source": [
    "#for the people that have multiple hadm_id, get the idx of the hadm_id with the min date\n",
    "indices = multi_hadmid_patients.groupby(\"subject_id\")['intime'].idxmin()"
   ]
  },
  {
   "cell_type": "code",
   "execution_count": null,
   "metadata": {},
   "outputs": [],
   "source": [
    "indices"
   ]
  },
  {
   "cell_type": "code",
   "execution_count": null,
   "metadata": {},
   "outputs": [],
   "source": [
    "#get the df where the indices are in indices\n",
    "sub_cohort_multi = multi_hadmid_patients.loc[indices]"
   ]
  },
  {
   "cell_type": "code",
   "execution_count": null,
   "metadata": {},
   "outputs": [],
   "source": [
    "#checking\n",
    "sub_cohort_multi[sub_cohort_multi[\"subject_id\"] == 11861]"
   ]
  },
  {
   "cell_type": "code",
   "execution_count": null,
   "metadata": {},
   "outputs": [],
   "source": [
    "sub_cohort_multi"
   ]
  },
  {
   "cell_type": "code",
   "execution_count": null,
   "metadata": {},
   "outputs": [],
   "source": [
    "#concating the negative cohort\n",
    "\n",
    "\n",
    "negative_cohort = pd.concat([sub_cohort_multi, uni_hadmid_patients])"
   ]
  },
  {
   "cell_type": "code",
   "execution_count": null,
   "metadata": {},
   "outputs": [],
   "source": [
    "negative_cohort.head()"
   ]
  },
  {
   "cell_type": "code",
   "execution_count": null,
   "metadata": {},
   "outputs": [],
   "source": [
    "negative_cohort[negative_cohort[\"subject_id\"] == 18108]"
   ]
  },
  {
   "source": [
    "### Concat final cohort with negative and positive"
   ],
   "cell_type": "markdown",
   "metadata": {}
  },
  {
   "cell_type": "code",
   "execution_count": null,
   "metadata": {},
   "outputs": [],
   "source": [
    "negative_cohort"
   ]
  },
  {
   "cell_type": "code",
   "execution_count": null,
   "metadata": {},
   "outputs": [],
   "source": [
    "positive_cohort"
   ]
  },
  {
   "cell_type": "code",
   "execution_count": null,
   "metadata": {},
   "outputs": [],
   "source": [
    "patient_cohort = pd.concat([negative_cohort, positive_cohort])"
   ]
  },
  {
   "cell_type": "code",
   "execution_count": null,
   "metadata": {},
   "outputs": [],
   "source": [
    "patient_cohort[patient_cohort[\"subject_id\"] == 27427]"
   ]
  },
  {
   "cell_type": "code",
   "execution_count": null,
   "metadata": {},
   "outputs": [],
   "source": [
    "patient_cohort[patient_cohort[\"subject_id\"] == 81846]"
   ]
  },
  {
   "cell_type": "code",
   "execution_count": null,
   "metadata": {},
   "outputs": [],
   "source": []
  },
  {
   "cell_type": "code",
   "execution_count": null,
   "metadata": {},
   "outputs": [],
   "source": []
  }
 ]
}