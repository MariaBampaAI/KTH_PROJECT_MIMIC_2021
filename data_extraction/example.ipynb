{
 "metadata": {
  "language_info": {
   "codemirror_mode": {
    "name": "ipython",
    "version": 3
   },
   "file_extension": ".py",
   "mimetype": "text/x-python",
   "name": "python",
   "nbconvert_exporter": "python",
   "pygments_lexer": "ipython3",
   "version": "3.7.4"
  },
  "orig_nbformat": 2,
  "kernelspec": {
   "name": "python374jvsc74a57bd04a3821e50dfd29f54393a38062d93a54d0c9d954cd67861638d013f261604981",
   "display_name": "Python 3.7.4 64-bit"
  },
  "metadata": {
   "interpreter": {
    "hash": "4a3821e50dfd29f54393a38062d93a54d0c9d954cd67861638d013f261604981"
   }
  }
 },
 "nbformat": 4,
 "nbformat_minor": 2,
 "cells": [
  {
   "cell_type": "code",
   "execution_count": null,
   "metadata": {},
   "outputs": [],
   "source": [
    "import sqlite3\n",
    "import pandas as pd \n",
    "\n"
   ]
  },
  {
   "cell_type": "code",
   "execution_count": null,
   "metadata": {},
   "outputs": [],
   "source": [
    "##############################################################################\n",
    "####################### CONNECT TO MIMIC #####################################\n",
    "connection = sqlite3.connect(\"C:\\\\Users\\\\Maria\\\\Desktop\\\\Projects Data Scripts\\\\MIMIC\\\\data\\\\mimic3.db\")\n",
    "\n",
    "#We can verify we successfully created our connection object by running:\n",
    "print(connection.total_changes)\n",
    "# Be sure to close the connection\n",
    "#con.close()\n",
    "\n",
    "# Create our test query\n",
    "test_query = \"\"\"\n",
    "SELECT subject_id, hadm_id, admittime, dischtime, admission_type, diagnosis\n",
    "FROM admissions\n",
    "\"\"\"\n",
    "\n",
    "# Run the query and assign the results to a variable\n",
    "test = pd.read_sql_query(test_query,connection)\n",
    "\n",
    "print(\"TEST:\", test.head())\n",
    "##############################################################################\n",
    "##################### QUERYING, MORTALITY COHORT #############################\n",
    "\n",
    "query = \"\"\"\n",
    "\n",
    "WITH icu_patients AS\n",
    "(\n",
    "SELECT icu.subject_id, icu.hadm_id, icu.icustay_id, pat.DOB, pat.gender, icu.intime \n",
    ", (JulianDay(OUTTIME) - JulianDay(INTIME)) as icu_length_of_stay\n",
    ", (JulianDay(icu.INTIME) - JulianDay(pat.DOB))/ 364.242 as age\n",
    ", adm.hospital_expire_flag , icu.outtime \n",
    ", RANK() OVER (PARTITION BY icu.subject_id ORDER BY icu.intime) AS icustay_id_order \n",
    "\n",
    "\n",
    "FROM icustays icu\n",
    "INNER JOIN patients pat\n",
    "  ON icu.subject_id = pat.subject_id\n",
    "INNER JOIN admissions adm\n",
    "    ON adm.subject_id = icu.subject_id\n",
    "    AND adm.hadm_id = icu.hadm_id\n",
    ")\n",
    "\n",
    "\n",
    "SELECT\n",
    "    fa.subject_id, fa.hadm_id, fa.icustay_id, fa.icustay_id_order, fa.intime as icu_intime, fa.outtime as icu_outtime, fa.DOB, fa.GENDER, fa.age as patient_age, fa.hospital_expire_flag as mortality, fa.icu_length_of_stay\n",
    "  , CASE \n",
    "        WHEN fa.icu_length_of_stay < 2 then 1\n",
    "    ELSE 0 END\n",
    "        as exclusion_los\n",
    "  , CASE\n",
    "        WHEN fa.age < 18 then 1\n",
    "    ELSE 0 END\n",
    "        as exclusion_age\n",
    "FROM icu_patients fa\n",
    "\n",
    "\"\"\"\n",
    "\n",
    "icu = pd.read_sql_query(query, connection)"
   ]
  },
  {
   "cell_type": "code",
   "execution_count": null,
   "metadata": {},
   "outputs": [],
   "source": [
    "icu"
   ]
  },
  {
   "source": [
    "### Preprocessing ICU patients"
   ],
   "cell_type": "markdown",
   "metadata": {}
  },
  {
   "cell_type": "code",
   "execution_count": null,
   "metadata": {},
   "outputs": [],
   "source": [
    "# exclude patients < 18 years old\n",
    "patients = icu.copy() #keeping the original icu patients\n",
    "patients.drop_duplicates()\n",
    "\n",
    "patients = patients[patients[\"exclusion_age\"]==0] #keep patients older than 18\n",
    "\n",
    "#the dataset contains dupicate values, so i will drop them \n",
    "patients = patients.drop_duplicates(keep='first')\n"
   ]
  },
  {
   "cell_type": "code",
   "execution_count": null,
   "metadata": {},
   "outputs": [],
   "source": [
    "patients"
   ]
  },
  {
   "cell_type": "code",
   "execution_count": null,
   "metadata": {},
   "outputs": [],
   "source": [
    "#count how  many visits in the icu each patient has \n",
    "counts = patients.groupby(\"subject_id\").count()[\"icustay_id_order\"]"
   ]
  },
  {
   "cell_type": "code",
   "execution_count": null,
   "metadata": {},
   "outputs": [],
   "source": [
    "counts.sort_values()"
   ]
  },
  {
   "cell_type": "code",
   "execution_count": null,
   "metadata": {},
   "outputs": [],
   "source": [
    "#check if we actually dropped duplicates\n",
    "patients[patients[\"subject_id\"]==109]"
   ]
  },
  {
   "cell_type": "code",
   "execution_count": null,
   "metadata": {},
   "outputs": [],
   "source": [
    "# index of patients with one visit\n",
    "# select multi visit patients from patients\n",
    "idx_pat_univisit = counts[counts.values<=1].index\n",
    "uni_visit_patients = patients[patients.subject_id.isin(list(idx_pat_univisit))]"
   ]
  },
  {
   "cell_type": "code",
   "execution_count": null,
   "metadata": {},
   "outputs": [],
   "source": [
    "uni_visit_patients.mortality.value_counts()"
   ]
  },
  {
   "cell_type": "code",
   "execution_count": null,
   "metadata": {},
   "outputs": [],
   "source": []
  }
 ]
}