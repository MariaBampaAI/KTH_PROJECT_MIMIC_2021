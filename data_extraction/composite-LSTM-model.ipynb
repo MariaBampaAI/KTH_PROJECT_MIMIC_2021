{
 "cells": [
  {
   "cell_type": "code",
   "execution_count": 2,
   "id": "af87af61",
   "metadata": {},
   "outputs": [],
   "source": [
    "import pandas as pd\n",
    "import numpy as np\n",
    "\n",
    "from tensorflow import keras\n",
    "from sklearn.model_selection import train_test_split\n",
    "from sklearn.preprocessing import MinMaxScaler\n",
    "from sklearn.metrics import accuracy_score, confusion_matrix, classification_report, roc_auc_score\n",
    "\n",
    "from keras_preprocessing.text import Tokenizer\n",
    "\n",
    "import matplotlib.pyplot as plt"
   ]
  },
  {
   "cell_type": "code",
   "execution_count": 3,
   "id": "de5b7ba7",
   "metadata": {},
   "outputs": [],
   "source": [
    "import lstm_preprocess"
   ]
  },
  {
   "cell_type": "code",
   "execution_count": 4,
   "id": "917e20ca",
   "metadata": {},
   "outputs": [],
   "source": [
    "import os\n",
    "import tensorflow as tf\n",
    "import random\n",
    "# fix the random seed for tensorflow models\n",
    "os.environ['TF_DETERMINISTIC_OPS'] = '1' \n",
    "SEED = 39\n",
    "random.seed(SEED)\n",
    "np.random.seed(SEED)\n",
    "tf.random.set_seed(SEED)\n",
    "\n",
    "# set to use flexible GPU resources  \n",
    "config = tf.compat.v1.ConfigProto()\n",
    "config.gpu_options.allow_growth = True\n",
    "session = tf.compat.v1.Session(config=config)"
   ]
  },
  {
   "cell_type": "code",
   "execution_count": 5,
   "id": "c60bc8d7",
   "metadata": {
    "scrolled": true
   },
   "outputs": [
    {
     "name": "stdout",
     "output_type": "stream",
     "text": [
      "Num GPUs Available: 1.\n"
     ]
    }
   ],
   "source": [
    "print(f\"Num GPUs Available: {len(tf.config.list_physical_devices('GPU'))}.\")"
   ]
  },
  {
   "cell_type": "markdown",
   "id": "8213d6d1",
   "metadata": {},
   "source": [
    "## Read the data"
   ]
  },
  {
   "cell_type": "code",
   "execution_count": 6,
   "id": "ac61ea77",
   "metadata": {},
   "outputs": [],
   "source": [
    "data = pd.read_csv(\"./icd_demos_vitals.csv\")\n",
    "\n",
    "data.drop(\"Unnamed: 0\", axis=1, inplace=True)"
   ]
  },
  {
   "cell_type": "code",
   "execution_count": 7,
   "id": "58ed49fd",
   "metadata": {},
   "outputs": [
    {
     "data": {
      "text/html": [
       "<div>\n",
       "<style scoped>\n",
       "    .dataframe tbody tr th:only-of-type {\n",
       "        vertical-align: middle;\n",
       "    }\n",
       "\n",
       "    .dataframe tbody tr th {\n",
       "        vertical-align: top;\n",
       "    }\n",
       "\n",
       "    .dataframe thead th {\n",
       "        text-align: right;\n",
       "    }\n",
       "</style>\n",
       "<table border=\"1\" class=\"dataframe\">\n",
       "  <thead>\n",
       "    <tr style=\"text-align: right;\">\n",
       "      <th></th>\n",
       "      <th>mortality</th>\n",
       "      <th>heartrate</th>\n",
       "      <th>sysbp</th>\n",
       "      <th>diasbp</th>\n",
       "      <th>meanbp</th>\n",
       "      <th>resprate</th>\n",
       "      <th>tempc</th>\n",
       "      <th>spo2</th>\n",
       "      <th>glucose</th>\n",
       "      <th>hadm_id</th>\n",
       "      <th>...</th>\n",
       "      <th>18</th>\n",
       "      <th>19</th>\n",
       "      <th>20</th>\n",
       "      <th>F</th>\n",
       "      <th>M</th>\n",
       "      <th>18-25</th>\n",
       "      <th>25-45</th>\n",
       "      <th>45-65</th>\n",
       "      <th>65-89</th>\n",
       "      <th>89+</th>\n",
       "    </tr>\n",
       "  </thead>\n",
       "  <tbody>\n",
       "    <tr>\n",
       "      <th>0</th>\n",
       "      <td>1.0</td>\n",
       "      <td>0.271698</td>\n",
       "      <td>0.331190</td>\n",
       "      <td>0.248120</td>\n",
       "      <td>0.251678</td>\n",
       "      <td>0.144928</td>\n",
       "      <td>0.000000</td>\n",
       "      <td>0.93</td>\n",
       "      <td>0.0</td>\n",
       "      <td>100061.0</td>\n",
       "      <td>...</td>\n",
       "      <td>0.0</td>\n",
       "      <td>3.0</td>\n",
       "      <td>0.0</td>\n",
       "      <td>1.0</td>\n",
       "      <td>0.0</td>\n",
       "      <td>0.0</td>\n",
       "      <td>0.0</td>\n",
       "      <td>1.0</td>\n",
       "      <td>0.0</td>\n",
       "      <td>0.0</td>\n",
       "    </tr>\n",
       "    <tr>\n",
       "      <th>1</th>\n",
       "      <td>1.0</td>\n",
       "      <td>0.283019</td>\n",
       "      <td>0.299035</td>\n",
       "      <td>0.240602</td>\n",
       "      <td>0.241611</td>\n",
       "      <td>0.130435</td>\n",
       "      <td>0.000000</td>\n",
       "      <td>0.91</td>\n",
       "      <td>0.0</td>\n",
       "      <td>100061.0</td>\n",
       "      <td>...</td>\n",
       "      <td>0.0</td>\n",
       "      <td>3.0</td>\n",
       "      <td>0.0</td>\n",
       "      <td>1.0</td>\n",
       "      <td>0.0</td>\n",
       "      <td>0.0</td>\n",
       "      <td>0.0</td>\n",
       "      <td>1.0</td>\n",
       "      <td>0.0</td>\n",
       "      <td>0.0</td>\n",
       "    </tr>\n",
       "    <tr>\n",
       "      <th>2</th>\n",
       "      <td>1.0</td>\n",
       "      <td>0.275472</td>\n",
       "      <td>0.347267</td>\n",
       "      <td>0.229323</td>\n",
       "      <td>0.238255</td>\n",
       "      <td>0.144928</td>\n",
       "      <td>0.000000</td>\n",
       "      <td>0.94</td>\n",
       "      <td>0.0</td>\n",
       "      <td>100061.0</td>\n",
       "      <td>...</td>\n",
       "      <td>0.0</td>\n",
       "      <td>3.0</td>\n",
       "      <td>0.0</td>\n",
       "      <td>1.0</td>\n",
       "      <td>0.0</td>\n",
       "      <td>0.0</td>\n",
       "      <td>0.0</td>\n",
       "      <td>1.0</td>\n",
       "      <td>0.0</td>\n",
       "      <td>0.0</td>\n",
       "    </tr>\n",
       "    <tr>\n",
       "      <th>3</th>\n",
       "      <td>1.0</td>\n",
       "      <td>0.283019</td>\n",
       "      <td>0.344051</td>\n",
       "      <td>0.221805</td>\n",
       "      <td>0.238255</td>\n",
       "      <td>0.260870</td>\n",
       "      <td>0.000000</td>\n",
       "      <td>0.95</td>\n",
       "      <td>0.0</td>\n",
       "      <td>100061.0</td>\n",
       "      <td>...</td>\n",
       "      <td>0.0</td>\n",
       "      <td>3.0</td>\n",
       "      <td>0.0</td>\n",
       "      <td>1.0</td>\n",
       "      <td>0.0</td>\n",
       "      <td>0.0</td>\n",
       "      <td>0.0</td>\n",
       "      <td>1.0</td>\n",
       "      <td>0.0</td>\n",
       "      <td>0.0</td>\n",
       "    </tr>\n",
       "    <tr>\n",
       "      <th>4</th>\n",
       "      <td>1.0</td>\n",
       "      <td>0.298113</td>\n",
       "      <td>0.379421</td>\n",
       "      <td>0.323308</td>\n",
       "      <td>0.305369</td>\n",
       "      <td>0.231884</td>\n",
       "      <td>0.000000</td>\n",
       "      <td>0.95</td>\n",
       "      <td>0.0</td>\n",
       "      <td>100061.0</td>\n",
       "      <td>...</td>\n",
       "      <td>0.0</td>\n",
       "      <td>3.0</td>\n",
       "      <td>0.0</td>\n",
       "      <td>1.0</td>\n",
       "      <td>0.0</td>\n",
       "      <td>0.0</td>\n",
       "      <td>0.0</td>\n",
       "      <td>1.0</td>\n",
       "      <td>0.0</td>\n",
       "      <td>0.0</td>\n",
       "    </tr>\n",
       "    <tr>\n",
       "      <th>...</th>\n",
       "      <td>...</td>\n",
       "      <td>...</td>\n",
       "      <td>...</td>\n",
       "      <td>...</td>\n",
       "      <td>...</td>\n",
       "      <td>...</td>\n",
       "      <td>...</td>\n",
       "      <td>...</td>\n",
       "      <td>...</td>\n",
       "      <td>...</td>\n",
       "      <td>...</td>\n",
       "      <td>...</td>\n",
       "      <td>...</td>\n",
       "      <td>...</td>\n",
       "      <td>...</td>\n",
       "      <td>...</td>\n",
       "      <td>...</td>\n",
       "      <td>...</td>\n",
       "      <td>...</td>\n",
       "      <td>...</td>\n",
       "      <td>...</td>\n",
       "    </tr>\n",
       "    <tr>\n",
       "      <th>53131</th>\n",
       "      <td>0.0</td>\n",
       "      <td>0.305660</td>\n",
       "      <td>0.331190</td>\n",
       "      <td>0.203008</td>\n",
       "      <td>0.224832</td>\n",
       "      <td>0.246377</td>\n",
       "      <td>0.872200</td>\n",
       "      <td>0.94</td>\n",
       "      <td>0.0</td>\n",
       "      <td>199984.0</td>\n",
       "      <td>...</td>\n",
       "      <td>0.0</td>\n",
       "      <td>1.0</td>\n",
       "      <td>0.0</td>\n",
       "      <td>1.0</td>\n",
       "      <td>0.0</td>\n",
       "      <td>0.0</td>\n",
       "      <td>0.0</td>\n",
       "      <td>0.0</td>\n",
       "      <td>0.0</td>\n",
       "      <td>1.0</td>\n",
       "    </tr>\n",
       "    <tr>\n",
       "      <th>53132</th>\n",
       "      <td>0.0</td>\n",
       "      <td>0.298113</td>\n",
       "      <td>0.356913</td>\n",
       "      <td>0.195489</td>\n",
       "      <td>0.218121</td>\n",
       "      <td>0.275362</td>\n",
       "      <td>0.000000</td>\n",
       "      <td>0.00</td>\n",
       "      <td>0.0</td>\n",
       "      <td>199984.0</td>\n",
       "      <td>...</td>\n",
       "      <td>0.0</td>\n",
       "      <td>1.0</td>\n",
       "      <td>0.0</td>\n",
       "      <td>1.0</td>\n",
       "      <td>0.0</td>\n",
       "      <td>0.0</td>\n",
       "      <td>0.0</td>\n",
       "      <td>0.0</td>\n",
       "      <td>0.0</td>\n",
       "      <td>1.0</td>\n",
       "    </tr>\n",
       "    <tr>\n",
       "      <th>53133</th>\n",
       "      <td>0.0</td>\n",
       "      <td>0.279245</td>\n",
       "      <td>0.382637</td>\n",
       "      <td>0.233083</td>\n",
       "      <td>0.251678</td>\n",
       "      <td>0.333333</td>\n",
       "      <td>0.000000</td>\n",
       "      <td>0.00</td>\n",
       "      <td>0.0</td>\n",
       "      <td>199984.0</td>\n",
       "      <td>...</td>\n",
       "      <td>0.0</td>\n",
       "      <td>1.0</td>\n",
       "      <td>0.0</td>\n",
       "      <td>1.0</td>\n",
       "      <td>0.0</td>\n",
       "      <td>0.0</td>\n",
       "      <td>0.0</td>\n",
       "      <td>0.0</td>\n",
       "      <td>0.0</td>\n",
       "      <td>1.0</td>\n",
       "    </tr>\n",
       "    <tr>\n",
       "      <th>53134</th>\n",
       "      <td>0.0</td>\n",
       "      <td>0.305660</td>\n",
       "      <td>0.389068</td>\n",
       "      <td>0.236842</td>\n",
       "      <td>0.261745</td>\n",
       "      <td>0.231884</td>\n",
       "      <td>0.000000</td>\n",
       "      <td>0.00</td>\n",
       "      <td>0.0</td>\n",
       "      <td>199984.0</td>\n",
       "      <td>...</td>\n",
       "      <td>0.0</td>\n",
       "      <td>1.0</td>\n",
       "      <td>0.0</td>\n",
       "      <td>1.0</td>\n",
       "      <td>0.0</td>\n",
       "      <td>0.0</td>\n",
       "      <td>0.0</td>\n",
       "      <td>0.0</td>\n",
       "      <td>0.0</td>\n",
       "      <td>1.0</td>\n",
       "    </tr>\n",
       "    <tr>\n",
       "      <th>53135</th>\n",
       "      <td>0.0</td>\n",
       "      <td>0.309434</td>\n",
       "      <td>0.337621</td>\n",
       "      <td>0.281955</td>\n",
       "      <td>0.275168</td>\n",
       "      <td>0.260870</td>\n",
       "      <td>0.874835</td>\n",
       "      <td>0.96</td>\n",
       "      <td>0.0</td>\n",
       "      <td>199984.0</td>\n",
       "      <td>...</td>\n",
       "      <td>0.0</td>\n",
       "      <td>1.0</td>\n",
       "      <td>0.0</td>\n",
       "      <td>1.0</td>\n",
       "      <td>0.0</td>\n",
       "      <td>0.0</td>\n",
       "      <td>0.0</td>\n",
       "      <td>0.0</td>\n",
       "      <td>0.0</td>\n",
       "      <td>1.0</td>\n",
       "    </tr>\n",
       "  </tbody>\n",
       "</table>\n",
       "<p>53136 rows × 39 columns</p>\n",
       "</div>"
      ],
      "text/plain": [
       "       mortality  heartrate     sysbp    diasbp    meanbp  resprate     tempc  \\\n",
       "0            1.0   0.271698  0.331190  0.248120  0.251678  0.144928  0.000000   \n",
       "1            1.0   0.283019  0.299035  0.240602  0.241611  0.130435  0.000000   \n",
       "2            1.0   0.275472  0.347267  0.229323  0.238255  0.144928  0.000000   \n",
       "3            1.0   0.283019  0.344051  0.221805  0.238255  0.260870  0.000000   \n",
       "4            1.0   0.298113  0.379421  0.323308  0.305369  0.231884  0.000000   \n",
       "...          ...        ...       ...       ...       ...       ...       ...   \n",
       "53131        0.0   0.305660  0.331190  0.203008  0.224832  0.246377  0.872200   \n",
       "53132        0.0   0.298113  0.356913  0.195489  0.218121  0.275362  0.000000   \n",
       "53133        0.0   0.279245  0.382637  0.233083  0.251678  0.333333  0.000000   \n",
       "53134        0.0   0.305660  0.389068  0.236842  0.261745  0.231884  0.000000   \n",
       "53135        0.0   0.309434  0.337621  0.281955  0.275168  0.260870  0.874835   \n",
       "\n",
       "       spo2  glucose   hadm_id  ...   18   19   20    F    M  18-25  25-45  \\\n",
       "0      0.93      0.0  100061.0  ...  0.0  3.0  0.0  1.0  0.0    0.0    0.0   \n",
       "1      0.91      0.0  100061.0  ...  0.0  3.0  0.0  1.0  0.0    0.0    0.0   \n",
       "2      0.94      0.0  100061.0  ...  0.0  3.0  0.0  1.0  0.0    0.0    0.0   \n",
       "3      0.95      0.0  100061.0  ...  0.0  3.0  0.0  1.0  0.0    0.0    0.0   \n",
       "4      0.95      0.0  100061.0  ...  0.0  3.0  0.0  1.0  0.0    0.0    0.0   \n",
       "...     ...      ...       ...  ...  ...  ...  ...  ...  ...    ...    ...   \n",
       "53131  0.94      0.0  199984.0  ...  0.0  1.0  0.0  1.0  0.0    0.0    0.0   \n",
       "53132  0.00      0.0  199984.0  ...  0.0  1.0  0.0  1.0  0.0    0.0    0.0   \n",
       "53133  0.00      0.0  199984.0  ...  0.0  1.0  0.0  1.0  0.0    0.0    0.0   \n",
       "53134  0.00      0.0  199984.0  ...  0.0  1.0  0.0  1.0  0.0    0.0    0.0   \n",
       "53135  0.96      0.0  199984.0  ...  0.0  1.0  0.0  1.0  0.0    0.0    0.0   \n",
       "\n",
       "       45-65  65-89  89+  \n",
       "0        1.0    0.0  0.0  \n",
       "1        1.0    0.0  0.0  \n",
       "2        1.0    0.0  0.0  \n",
       "3        1.0    0.0  0.0  \n",
       "4        1.0    0.0  0.0  \n",
       "...      ...    ...  ...  \n",
       "53131    0.0    0.0  1.0  \n",
       "53132    0.0    0.0  1.0  \n",
       "53133    0.0    0.0  1.0  \n",
       "53134    0.0    0.0  1.0  \n",
       "53135    0.0    0.0  1.0  \n",
       "\n",
       "[53136 rows x 39 columns]"
      ]
     },
     "execution_count": 7,
     "metadata": {},
     "output_type": "execute_result"
    }
   ],
   "source": [
    "#either keep the patients with 24 hours of admission, or change 23 to sth smaller to include patients with less time steps\n",
    "df = lstm_preprocess.pad(data, 23, 24, 0)\n",
    "\n",
    "df"
   ]
  },
  {
   "cell_type": "code",
   "execution_count": 8,
   "id": "3dd6265b",
   "metadata": {
    "scrolled": true
   },
   "outputs": [
    {
     "data": {
      "text/plain": [
       "['heartrate',\n",
       " 'sysbp',\n",
       " 'diasbp',\n",
       " 'meanbp',\n",
       " 'resprate',\n",
       " 'tempc',\n",
       " 'spo2',\n",
       " 'glucose',\n",
       " '1',\n",
       " '2',\n",
       " '3',\n",
       " '4',\n",
       " '5',\n",
       " '6',\n",
       " '7',\n",
       " '8',\n",
       " '9',\n",
       " '10',\n",
       " '11',\n",
       " '12',\n",
       " '13',\n",
       " '14',\n",
       " '15',\n",
       " '16',\n",
       " '17',\n",
       " '18',\n",
       " '19',\n",
       " '20',\n",
       " 'F',\n",
       " 'M',\n",
       " '18-25',\n",
       " '25-45',\n",
       " '45-65',\n",
       " '65-89',\n",
       " '89+']"
      ]
     },
     "execution_count": 8,
     "metadata": {},
     "output_type": "execute_result"
    }
   ],
   "source": [
    "#remove unnecessary columns\n",
    "COLUMNS = lstm_preprocess.delete_columns(df)\n",
    "\n",
    "COLUMNS"
   ]
  },
  {
   "cell_type": "code",
   "execution_count": 23,
   "id": "7456312a",
   "metadata": {
    "scrolled": true
   },
   "outputs": [
    {
     "data": {
      "text/plain": [
       "array([100061., 100087., 100104., ..., 199976., 199981., 199984.])"
      ]
     },
     "execution_count": 23,
     "metadata": {},
     "output_type": "execute_result"
    }
   ],
   "source": [
    "hadm_idx = df['hadm_id'].values.reshape(-1, 24, 1)[:, 0, 0]\n",
    "hadm_idx"
   ]
  },
  {
   "cell_type": "code",
   "execution_count": 9,
   "id": "f5822043",
   "metadata": {},
   "outputs": [],
   "source": [
    "#reshape the matrix to the appropriate format\n",
    "MATRIX = df[COLUMNS+['mortality']].values\n",
    "MATRIX = MATRIX.reshape(int(MATRIX.shape[0]/24),24,MATRIX.shape[1])"
   ]
  },
  {
   "cell_type": "code",
   "execution_count": 10,
   "id": "2eb729ba",
   "metadata": {},
   "outputs": [
    {
     "name": "stdout",
     "output_type": "stream",
     "text": [
      "(2214, 24)\n",
      "(2214, 24, 35)\n",
      "(35,)\n",
      "(35,)\n",
      "(2214, 24, 35)\n",
      "(2214, 24, 35)\n",
      "(2214, 24, 1)\n"
     ]
    },
    {
     "name": "stderr",
     "output_type": "stream",
     "text": [
      "/data0/home/dsv/zhwa9764/Projects/KTH_PROJECT_MIMIC_2021/data_extraction/lstm_preprocess.py:78: RuntimeWarning: invalid value encountered in true_divide\n",
      "  x_matrix = x_matrix / stds\n"
     ]
    }
   ],
   "source": [
    "bool_matrix = (~MATRIX.any(axis=2))\n",
    "MATRIX[bool_matrix] = np.nan\n",
    "MATRIX = lstm_preprocess.ZScoreNormalize(MATRIX)\n",
    "\n",
    "## restore 3D shape to boolmatrix for consistency\n",
    "bool_matrix = np.isnan(MATRIX)\n",
    "MATRIX[bool_matrix] = 0 \n",
    "   \n",
    "#permutation = np.random.permutation(MATRIX.shape[0])\n",
    "#MATRIX = MATRIX[permutation]\n",
    "#bool_matrix = bool_matrix[permutation]\n",
    "\n",
    "# X_MATRIX = MATRIX[:,:,0:-1]\n",
    "X_MATRIX = MATRIX[:,:,0:8] # only use the first 8 temporal features, ignoring demographic data for now\n",
    "Y_MATRIX = MATRIX[:,:,-1]\n",
    "sc = MinMaxScaler()\n",
    "#x_bool_matrix = bool_matrix[:,:,0:-1]\n",
    "#y_bool_matrix = bool_matrix[:,:,-1]"
   ]
  },
  {
   "cell_type": "code",
   "execution_count": 11,
   "id": "cda1548a",
   "metadata": {},
   "outputs": [
    {
     "data": {
      "text/plain": [
       "0.0    1819\n",
       "1.0     395\n",
       "dtype: int64"
      ]
     },
     "execution_count": 11,
     "metadata": {},
     "output_type": "execute_result"
    }
   ],
   "source": [
    "pd.value_counts(Y_MATRIX[:, 0])"
   ]
  },
  {
   "cell_type": "code",
   "execution_count": 12,
   "id": "91b60380",
   "metadata": {},
   "outputs": [],
   "source": [
    "#train, validation, test split\n",
    "tt_split = 0.7 \n",
    "val_percentage = 0.8\n",
    "\n",
    "train_tail_idx = int(tt_split*X_MATRIX.shape[0])\n",
    "val_tail_idx = int(val_percentage*X_MATRIX.shape[0])"
   ]
  },
  {
   "cell_type": "code",
   "execution_count": 24,
   "id": "30a18f95",
   "metadata": {
    "scrolled": true
   },
   "outputs": [],
   "source": [
    "# extract the admission idx for train/validation/test, used to extract text patient data for prediction \n",
    "train_hadm_idx = hadm_idx[:train_tail_idx]\n",
    "val_hadm_idx = hadm_idx[train_tail_idx:val_tail_idx]\n",
    "test_hadm_idx = hadm_idx[val_tail_idx::]"
   ]
  },
  {
   "cell_type": "code",
   "execution_count": 26,
   "id": "ce6e05fc",
   "metadata": {},
   "outputs": [
    {
     "data": {
      "text/plain": [
       "'\\nx_test_boolmat = x_bool_matrix[int(val_percentage*x_bool_matrix.shape[0])::]\\ny_test_boolmat = y_bool_matrix[int(val_percentage*y_bool_matrix.shape[0])::]\\ny_test_boolmat = y_test_boolmat.reshape(y_test_boolmat.shape[0],y_test_boolmat.shape[1],1)\\n\\nX_TEST[x_test_boolmat] = 0\\nY_TEST[y_test_boolmat] = 0\\n'"
      ]
     },
     "execution_count": 26,
     "metadata": {},
     "output_type": "execute_result"
    }
   ],
   "source": [
    "X_TRAIN = X_MATRIX[0:train_tail_idx, :, :]\n",
    "Y_TRAIN = Y_MATRIX[0:train_tail_idx, 0]\n",
    "# Y_TRAIN = Y_TRAIN.reshape(Y_TRAIN.shape[0], Y_TRAIN.shape[1], 1)\n",
    "\n",
    "X_VAL = X_MATRIX[train_tail_idx:val_tail_idx]\n",
    "Y_VAL = Y_MATRIX[train_tail_idx:val_tail_idx, 0]\n",
    "# Y_VAL = Y_VAL.reshape(Y_VAL.shape[0], Y_VAL.shape[1], 1)\n",
    "\"\"\"\n",
    "x_val_boolmat = x_bool_matrix[int(tt_split*x_bool_matrix.shape[0]):int(val_percentage*x_bool_matrix.shape[0])]\n",
    "y_val_boolmat = y_bool_matrix[int(tt_split*y_bool_matrix.shape[0]):int(val_percentage*y_bool_matrix.shape[0])]\n",
    "y_val_boolmat = y_val_boolmat.reshape(y_val_boolmat.shape[0],y_val_boolmat.shape[1],1)\n",
    "\"\"\"\n",
    "X_TEST = X_MATRIX[val_tail_idx::]\n",
    "Y_TEST = Y_MATRIX[val_tail_idx::, 0]\n",
    "# Y_TEST = Y_TEST.reshape(Y_TEST.shape[0], Y_TEST.shape[1], 1)\n",
    "\"\"\"\n",
    "x_test_boolmat = x_bool_matrix[int(val_percentage*x_bool_matrix.shape[0])::]\n",
    "y_test_boolmat = y_bool_matrix[int(val_percentage*y_bool_matrix.shape[0])::]\n",
    "y_test_boolmat = y_test_boolmat.reshape(y_test_boolmat.shape[0],y_test_boolmat.shape[1],1)\n",
    "\n",
    "X_TEST[x_test_boolmat] = 0\n",
    "Y_TEST[y_test_boolmat] = 0\n",
    "\"\"\""
   ]
  },
  {
   "cell_type": "code",
   "execution_count": 40,
   "id": "2f1f6b06",
   "metadata": {},
   "outputs": [
    {
     "data": {
      "text/plain": [
       "8"
      ]
     },
     "execution_count": 40,
     "metadata": {},
     "output_type": "execute_result"
    }
   ],
   "source": [
    "no_feature_cols = X_TRAIN.shape[2]\n",
    "no_feature_cols"
   ]
  },
  {
   "cell_type": "markdown",
   "id": "4c023c9e",
   "metadata": {},
   "source": [
    "## Load text data"
   ]
  },
  {
   "cell_type": "code",
   "execution_count": 27,
   "id": "8bf1fb3a",
   "metadata": {},
   "outputs": [
    {
     "data": {
      "text/html": [
       "<div>\n",
       "<style scoped>\n",
       "    .dataframe tbody tr th:only-of-type {\n",
       "        vertical-align: middle;\n",
       "    }\n",
       "\n",
       "    .dataframe tbody tr th {\n",
       "        vertical-align: top;\n",
       "    }\n",
       "\n",
       "    .dataframe thead th {\n",
       "        text-align: right;\n",
       "    }\n",
       "</style>\n",
       "<table border=\"1\" class=\"dataframe\">\n",
       "  <thead>\n",
       "    <tr style=\"text-align: right;\">\n",
       "      <th></th>\n",
       "      <th>Unnamed: 0</th>\n",
       "      <th>text</th>\n",
       "      <th>subject_id</th>\n",
       "      <th>hadm_id</th>\n",
       "      <th>mortality</th>\n",
       "    </tr>\n",
       "  </thead>\n",
       "  <tbody>\n",
       "    <tr>\n",
       "      <th>0</th>\n",
       "      <td>0</td>\n",
       "      <td>sinus bradycardia av conduction delay qt inter...</td>\n",
       "      <td>67393</td>\n",
       "      <td>146953.0</td>\n",
       "      <td>0</td>\n",
       "    </tr>\n",
       "    <tr>\n",
       "      <th>1</th>\n",
       "      <td>1</td>\n",
       "      <td>baseline artifact sinus rhythm right bundle br...</td>\n",
       "      <td>9142</td>\n",
       "      <td>198248.0</td>\n",
       "      <td>1</td>\n",
       "    </tr>\n",
       "    <tr>\n",
       "      <th>2</th>\n",
       "      <td>2</td>\n",
       "      <td>atrial fibrillation possible flutter ventricul...</td>\n",
       "      <td>73608</td>\n",
       "      <td>162231.0</td>\n",
       "      <td>0</td>\n",
       "    </tr>\n",
       "    <tr>\n",
       "      <th>3</th>\n",
       "      <td>3</td>\n",
       "      <td>mobitz ii second degree av block nonconducted ...</td>\n",
       "      <td>29016</td>\n",
       "      <td>153345.0</td>\n",
       "      <td>0</td>\n",
       "    </tr>\n",
       "    <tr>\n",
       "      <th>4</th>\n",
       "      <td>4</td>\n",
       "      <td>sinus rhythm normal tracing previous tracing a...</td>\n",
       "      <td>12834</td>\n",
       "      <td>107726.0</td>\n",
       "      <td>0</td>\n",
       "    </tr>\n",
       "  </tbody>\n",
       "</table>\n",
       "</div>"
      ],
      "text/plain": [
       "   Unnamed: 0                                               text  subject_id  \\\n",
       "0           0  sinus bradycardia av conduction delay qt inter...       67393   \n",
       "1           1  baseline artifact sinus rhythm right bundle br...        9142   \n",
       "2           2  atrial fibrillation possible flutter ventricul...       73608   \n",
       "3           3  mobitz ii second degree av block nonconducted ...       29016   \n",
       "4           4  sinus rhythm normal tracing previous tracing a...       12834   \n",
       "\n",
       "    hadm_id  mortality  \n",
       "0  146953.0          0  \n",
       "1  198248.0          1  \n",
       "2  162231.0          0  \n",
       "3  153345.0          0  \n",
       "4  107726.0          0  "
      ]
     },
     "execution_count": 27,
     "metadata": {},
     "output_type": "execute_result"
    }
   ],
   "source": [
    "text_data = pd.read_csv('./texts.csv')\n",
    "\n",
    "text_data.head()"
   ]
  },
  {
   "cell_type": "code",
   "execution_count": null,
   "id": "d3a47169",
   "metadata": {},
   "outputs": [],
   "source": [
    "# X, y = text_data['text'], text_data['mortality']\n",
    "\n",
    "# X_train, X_test, y_train, y_test = train_test_split(X, y, test_size=0.2, random_state=39, stratify=y)"
   ]
  },
  {
   "cell_type": "code",
   "execution_count": 28,
   "id": "cdcbb739",
   "metadata": {},
   "outputs": [],
   "source": [
    "train_data = text_data[text_data['hadm_id'].isin(set(train_hadm_idx))]\n",
    "val_data = text_data[text_data['hadm_id'].isin(set(val_hadm_idx))]\n",
    "test_data = text_data[text_data['hadm_id'].isin(set(test_hadm_idx))]\n",
    "\n",
    "X_train, y_train = train_data['text'],  train_data['mortality']\n",
    "X_val, y_val = val_data['text'],  val_data['mortality']\n",
    "X_test, y_test = test_data['text'],  test_data['mortality']"
   ]
  },
  {
   "cell_type": "code",
   "execution_count": 29,
   "id": "61af9406",
   "metadata": {},
   "outputs": [],
   "source": [
    "# find the joint hadm ids for train/test/val\n",
    "join_train_hadm_idx = np.unique(train_data['hadm_id'])\n",
    "join_val_hadm_idx = np.unique(val_data['hadm_id'])\n",
    "join_test_hadm_idx = np.unique(test_data['hadm_id'])"
   ]
  },
  {
   "cell_type": "code",
   "execution_count": 30,
   "id": "f2f691a6",
   "metadata": {},
   "outputs": [],
   "source": [
    "# modify the time series data to have same hadm id as text data\n",
    "X_TRAIN = X_TRAIN[np.in1d(train_hadm_idx, join_train_hadm_idx)]\n",
    "Y_TRAIN = Y_TRAIN[np.in1d(train_hadm_idx, join_train_hadm_idx)]\n",
    "\n",
    "X_VAL = X_VAL[np.in1d(val_hadm_idx, join_val_hadm_idx)]\n",
    "Y_VAL = Y_VAL[np.in1d(val_hadm_idx, join_val_hadm_idx)]\n",
    "\n",
    "X_TEST = X_TEST[np.in1d(test_hadm_idx, join_test_hadm_idx)]\n",
    "Y_TEST = Y_TEST[np.in1d(test_hadm_idx, join_test_hadm_idx)]\n"
   ]
  },
  {
   "cell_type": "code",
   "execution_count": 31,
   "id": "cdd07b71",
   "metadata": {},
   "outputs": [
    {
     "data": {
      "text/plain": [
       "(1529,)"
      ]
     },
     "execution_count": 31,
     "metadata": {},
     "output_type": "execute_result"
    }
   ],
   "source": [
    "X_train.shape"
   ]
  },
  {
   "cell_type": "code",
   "execution_count": 32,
   "id": "fe43112c",
   "metadata": {},
   "outputs": [
    {
     "data": {
      "text/plain": [
       "(1529, 24, 8)"
      ]
     },
     "execution_count": 32,
     "metadata": {},
     "output_type": "execute_result"
    }
   ],
   "source": [
    "X_TRAIN.shape"
   ]
  },
  {
   "cell_type": "code",
   "execution_count": 33,
   "id": "0fe64692",
   "metadata": {},
   "outputs": [],
   "source": [
    "NUM_WORDS = 3000\n",
    "\n",
    "# Tokenize the train text\n",
    "train_text = X_train.to_numpy()\n",
    "\n",
    "tokenizer = Tokenizer(\n",
    "    num_words=NUM_WORDS, \n",
    "    filters='!\"#$%&()*+,-./:;<=>?@[\\\\]^_`{|}~\\t\\n', \n",
    "    lower=True,\n",
    "    split=\" \",\n",
    "    char_level=False,\n",
    "    oov_token='<unk>',\n",
    "    document_count=0\n",
    ")\n",
    "\n",
    "tokenizer.fit_on_texts(train_text)\n",
    "tokenizer.word_index['<pad>'] = 0\n",
    "tokenizer.index_word[0] = '<pad>'"
   ]
  },
  {
   "cell_type": "code",
   "execution_count": 34,
   "id": "7b637230",
   "metadata": {},
   "outputs": [],
   "source": [
    "MAX_LEN = 1000\n",
    "\n",
    "train_seqs = tokenizer.texts_to_sequences(train_text)\n",
    "train_seqs = keras.preprocessing.sequence.pad_sequences(train_seqs, maxlen=MAX_LEN, padding='post')\n",
    "\n",
    "train_labels = y_train.to_numpy().flatten()\n",
    "\n",
    "valid_text = X_val.to_numpy()\n",
    "valid_seqs = tokenizer.texts_to_sequences(valid_text)\n",
    "valid_seqs = keras.preprocessing.sequence.pad_sequences(valid_seqs, maxlen=MAX_LEN, padding='post')\n",
    "\n",
    "valid_labels = y_val.to_numpy().flatten()"
   ]
  },
  {
   "cell_type": "code",
   "execution_count": 35,
   "id": "fe1ffa16",
   "metadata": {},
   "outputs": [
    {
     "data": {
      "text/plain": [
       "array([[ 147,  807,  976, ...,  149,    1,    2],\n",
       "       [  14, 1403,   82, ...,  108,  764,  767],\n",
       "       [   7,  151, 1162, ...,   63,  712,  332],\n",
       "       ...,\n",
       "       [ 113,   74, 1416, ...,    0,    0,    0],\n",
       "       [ 113,   74,  831, ...,    0,    0,    0],\n",
       "       [ 274,  508, 1523, ...,    0,    0,    0]], dtype=int32)"
      ]
     },
     "execution_count": 35,
     "metadata": {},
     "output_type": "execute_result"
    }
   ],
   "source": [
    "train_seqs"
   ]
  },
  {
   "cell_type": "code",
   "execution_count": 36,
   "id": "9361b2da",
   "metadata": {},
   "outputs": [
    {
     "data": {
      "text/plain": [
       "(1529, 1000)"
      ]
     },
     "execution_count": 36,
     "metadata": {},
     "output_type": "execute_result"
    }
   ],
   "source": [
    "train_seqs.shape\n",
    "\n",
    "# (30455, 606752) without preprocessing/limiting and truncating"
   ]
  },
  {
   "cell_type": "markdown",
   "id": "619b088e",
   "metadata": {},
   "source": [
    "## Use the composite model"
   ]
  },
  {
   "cell_type": "code",
   "execution_count": 37,
   "id": "95574175",
   "metadata": {},
   "outputs": [],
   "source": [
    "def CompositeModel(n_timesteps, n_features, text_input_size): # n_features2=1 for text data\n",
    "    # classifier 1 (for time series):\n",
    "    inputs1 = keras.Input(shape=(n_timesteps, n_features))\n",
    "    output1 = keras.layers.LSTM(64, activation='tanh')(inputs1)\n",
    "\n",
    "    classifier1 = keras.Model(inputs1, output1, name=\"classifier1\")\n",
    "\n",
    "    # classifier 2 (for text data)\n",
    "    inputs2 = keras.Input(text_input_size,)\n",
    "    x = keras.layers.Embedding(input_dim=NUM_WORDS, output_dim=64, input_length=text_input_size)(inputs2)\n",
    "    output2 = keras.layers.LSTM(64, activation='tanh')(x)\n",
    "\n",
    "    classifier2 = keras.models.Model(inputs2, output2, name=\"classifier2\")\n",
    "\n",
    "    # final prediction\n",
    "    combined = keras.layers.concatenate([classifier1.output, classifier2.output])\n",
    "    # combined outputs\n",
    "    x = keras.layers.Dense(2, activation=\"relu\")(combined)\n",
    "    outputs3 = keras.layers.Dense(1, activation=\"sigmoid\")(x)\n",
    "\n",
    "    composite_model = keras.models.Model([classifier1.input, classifier2.input], outputs3)\n",
    "    \n",
    "    return composite_model"
   ]
  },
  {
   "cell_type": "code",
   "execution_count": 41,
   "id": "ca85ce93",
   "metadata": {},
   "outputs": [
    {
     "name": "stdout",
     "output_type": "stream",
     "text": [
      "Model: \"model\"\n",
      "__________________________________________________________________________________________________\n",
      "Layer (type)                    Output Shape         Param #     Connected to                     \n",
      "==================================================================================================\n",
      "input_2 (InputLayer)            [(None, 1000)]       0                                            \n",
      "__________________________________________________________________________________________________\n",
      "input_1 (InputLayer)            [(None, 24, 8)]      0                                            \n",
      "__________________________________________________________________________________________________\n",
      "embedding (Embedding)           (None, 1000, 64)     192000      input_2[0][0]                    \n",
      "__________________________________________________________________________________________________\n",
      "lstm (LSTM)                     (None, 64)           18688       input_1[0][0]                    \n",
      "__________________________________________________________________________________________________\n",
      "lstm_1 (LSTM)                   (None, 64)           33024       embedding[0][0]                  \n",
      "__________________________________________________________________________________________________\n",
      "concatenate (Concatenate)       (None, 128)          0           lstm[0][0]                       \n",
      "                                                                 lstm_1[0][0]                     \n",
      "__________________________________________________________________________________________________\n",
      "dense (Dense)                   (None, 2)            258         concatenate[0][0]                \n",
      "__________________________________________________________________________________________________\n",
      "dense_1 (Dense)                 (None, 1)            3           dense[0][0]                      \n",
      "==================================================================================================\n",
      "Total params: 243,973\n",
      "Trainable params: 243,973\n",
      "Non-trainable params: 0\n",
      "__________________________________________________________________________________________________\n"
     ]
    }
   ],
   "source": [
    "composite_model = CompositeModel(n_timesteps=24, n_features=no_feature_cols, text_input_size=MAX_LEN)\n",
    "\n",
    "optimizer = keras.optimizers.Adam(lr=0.0001)\n",
    "composite_model.compile(optimizer=optimizer, loss='binary_crossentropy', metrics=['accuracy'])\n",
    "\n",
    "composite_model.summary()"
   ]
  },
  {
   "cell_type": "code",
   "execution_count": 48,
   "id": "16098a16",
   "metadata": {},
   "outputs": [
    {
     "name": "stdout",
     "output_type": "stream",
     "text": [
      "('Failed to import pydot. You must `pip install pydot` and install graphviz (https://graphviz.gitlab.io/download/), ', 'for `pydotprint` to work.')\n"
     ]
    }
   ],
   "source": [
    "#TODO: plot the model structure\n",
    "keras.utils.plot_model(composite_model, show_shapes=True)\n"
   ]
  },
  {
   "cell_type": "code",
   "execution_count": 49,
   "id": "14928533",
   "metadata": {},
   "outputs": [
    {
     "data": {
      "text/plain": [
       "(1529, 24, 8)"
      ]
     },
     "execution_count": 49,
     "metadata": {},
     "output_type": "execute_result"
    }
   ],
   "source": [
    "X_TRAIN.shape"
   ]
  },
  {
   "cell_type": "code",
   "execution_count": 50,
   "id": "c51f919e",
   "metadata": {},
   "outputs": [
    {
     "data": {
      "text/plain": [
       "(1529, 1000)"
      ]
     },
     "execution_count": 50,
     "metadata": {},
     "output_type": "execute_result"
    }
   ],
   "source": [
    "train_seqs.shape"
   ]
  },
  {
   "cell_type": "code",
   "execution_count": 52,
   "id": "9810a92e",
   "metadata": {
    "scrolled": true
   },
   "outputs": [
    {
     "name": "stdout",
     "output_type": "stream",
     "text": [
      "Epoch 1/50\n",
      "12/12 [==============================] - 4s 103ms/step - loss: 0.6757 - accuracy: 0.7637 - val_loss: 0.6656 - val_accuracy: 0.7717\n",
      "Epoch 2/50\n",
      "12/12 [==============================] - 1s 62ms/step - loss: 0.6637 - accuracy: 0.8098 - val_loss: 0.6528 - val_accuracy: 0.8037\n",
      "Epoch 3/50\n",
      "12/12 [==============================] - 1s 63ms/step - loss: 0.6500 - accuracy: 0.8117 - val_loss: 0.6377 - val_accuracy: 0.8082\n",
      "Epoch 4/50\n",
      "12/12 [==============================] - 1s 62ms/step - loss: 0.6361 - accuracy: 0.8221 - val_loss: 0.6182 - val_accuracy: 0.8037\n",
      "Epoch 5/50\n",
      "12/12 [==============================] - 1s 64ms/step - loss: 0.6169 - accuracy: 0.8263 - val_loss: 0.5914 - val_accuracy: 0.8082\n",
      "Epoch 6/50\n",
      "12/12 [==============================] - 1s 63ms/step - loss: 0.5905 - accuracy: 0.8148 - val_loss: 0.5428 - val_accuracy: 0.8082\n",
      "Epoch 7/50\n",
      "12/12 [==============================] - 1s 62ms/step - loss: 0.5265 - accuracy: 0.8278 - val_loss: 0.4690 - val_accuracy: 0.8082\n",
      "Epoch 8/50\n",
      "12/12 [==============================] - 1s 64ms/step - loss: 0.4617 - accuracy: 0.8216 - val_loss: 0.4798 - val_accuracy: 0.8082\n",
      "Epoch 9/50\n",
      "12/12 [==============================] - 1s 65ms/step - loss: 0.4354 - accuracy: 0.8311 - val_loss: 0.4600 - val_accuracy: 0.8082\n",
      "Epoch 10/50\n",
      "12/12 [==============================] - 1s 62ms/step - loss: 0.4480 - accuracy: 0.8211 - val_loss: 0.4630 - val_accuracy: 0.8082\n",
      "Epoch 11/50\n",
      "12/12 [==============================] - 1s 63ms/step - loss: 0.4523 - accuracy: 0.8149 - val_loss: 0.4520 - val_accuracy: 0.8082\n",
      "Epoch 12/50\n",
      "12/12 [==============================] - 1s 62ms/step - loss: 0.4362 - accuracy: 0.8230 - val_loss: 0.4454 - val_accuracy: 0.8082\n",
      "Epoch 13/50\n",
      "12/12 [==============================] - 1s 65ms/step - loss: 0.4157 - accuracy: 0.8283 - val_loss: 0.4370 - val_accuracy: 0.8082\n"
     ]
    }
   ],
   "source": [
    "# Define the early stopping criteria\n",
    "early_stopping_accuracy = keras.callbacks.EarlyStopping(monitor='val_accuracy', patience=10, restore_best_weights=True) # patient = 5 or 10 doesn't guarantee find an optimal\n",
    "\n",
    "# Train the model\n",
    "# reset_seeds()\n",
    "classifier_history2 = composite_model.fit([X_TRAIN, train_seqs], \n",
    "          y_train, \n",
    "          epochs=50,\n",
    "          batch_size=128,\n",
    "          shuffle=True, \n",
    "          verbose=True, \n",
    "          validation_data=([X_VAL, valid_seqs], y_val),\n",
    "          callbacks=[early_stopping_accuracy])"
   ]
  },
  {
   "cell_type": "code",
   "execution_count": 55,
   "id": "5807a0b1",
   "metadata": {},
   "outputs": [
    {
     "name": "stdout",
     "output_type": "stream",
     "text": [
      "0.7990867579908676\n",
      "          Pred:pos  Pred:neg\n",
      "True:pos         0        42\n",
      "True:neg         2       175\n",
      "              precision    recall  f1-score   support\n",
      "\n",
      "         0.0       0.81      0.99      0.89       177\n",
      "         1.0       0.00      0.00      0.00        42\n",
      "\n",
      "    accuracy                           0.80       219\n",
      "   macro avg       0.40      0.49      0.44       219\n",
      "weighted avg       0.65      0.80      0.72       219\n",
      "\n"
     ]
    }
   ],
   "source": [
    "y_pred = composite_model.predict([X_VAL, valid_seqs])\n",
    "y_pred_classes = np.array([1 if pred > 0.5 else 0 for pred in y_pred])\n",
    "\n",
    "# classification report\n",
    "acc = accuracy_score(y_true=Y_VAL, y_pred=y_pred_classes)\n",
    "print(acc)\n",
    "\n",
    "confusion_matrix_df = pd.DataFrame(\n",
    "        confusion_matrix(y_true=Y_VAL, y_pred=y_pred_classes, labels=[1, 0]),\n",
    "        index=['True:pos', 'True:neg'], \n",
    "        columns=['Pred:pos', 'Pred:neg']\n",
    "    )\n",
    "print(confusion_matrix_df)\n",
    "\n",
    "print(classification_report(y_true=Y_VAL, y_pred=y_pred_classes))"
   ]
  }
 ],
 "metadata": {
  "kernelspec": {
   "display_name": "Python 3",
   "language": "python",
   "name": "python3"
  },
  "language_info": {
   "codemirror_mode": {
    "name": "ipython",
    "version": 3
   },
   "file_extension": ".py",
   "mimetype": "text/x-python",
   "name": "python",
   "nbconvert_exporter": "python",
   "pygments_lexer": "ipython3",
   "version": "3.7.10"
  }
 },
 "nbformat": 4,
 "nbformat_minor": 5
}
