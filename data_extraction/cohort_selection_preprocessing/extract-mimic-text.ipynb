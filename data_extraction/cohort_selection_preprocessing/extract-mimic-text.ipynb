{
 "cells": [
  {
   "cell_type": "code",
   "execution_count": 1,
   "metadata": {},
   "outputs": [],
   "source": [
    "import pandas as pd\n",
    "import pandas.io.sql as sqlio\n",
    "import psycopg2\n",
    "import getpass\n",
    "import csv\n",
    "\n",
    "import matplotlib.pyplot as plt\n"
   ]
  },
  {
   "cell_type": "markdown",
   "metadata": {},
   "source": [
    "## 1. Extract mortality"
   ]
  },
  {
   "cell_type": "markdown",
   "metadata": {},
   "source": [
    "#### Alternative 1: sqlite3"
   ]
  },
  {
   "cell_type": "code",
   "execution_count": null,
   "metadata": {},
   "outputs": [],
   "source": [
    "# import sqlite3\n",
    "\n",
    "# ##############################################################################\n",
    "# ####################### CONNECT TO MIMIC #####################################\n",
    "# connection = sqlite3.connect(\"C:\\\\Users\\\\Maria\\\\Desktop\\\\Projects Data Scripts\\\\MIMIC\\\\data\\\\mimic3.db\")\n",
    "\n",
    "# #We can verify we successfully created our connection object by running:\n",
    "# print(connection.total_changes)\n",
    "# # Be sure to close the connection\n",
    "# #con.close()\n",
    "\n",
    "# # Create our test query\n",
    "# test_query = \"\"\"\n",
    "# SELECT subject_id, hadm_id, admittime, dischtime, admission_type, diagnosis\n",
    "# FROM admissions\n",
    "# \"\"\"\n",
    "\n",
    "# # Run the query and assign the results to a variable\n",
    "# test = pd.read_sql_query(test_query,connection)\n",
    "\n",
    "# print(\"TEST:\", test.head())\n",
    "# ##############################################################################\n",
    "# ##################### QUERYING, MORTALITY COHORT #############################\n",
    "\n",
    "# query = \"\"\"\n",
    "\n",
    "# WITH icu_patients AS\n",
    "# (\n",
    "# SELECT icu.subject_id, icu.hadm_id, icu.icustay_id, pat.DOB, pat.gender, icu.intime \n",
    "# , (JulianDay(OUTTIME) - JulianDay(INTIME)) as icu_length_of_stay\n",
    "# , (JulianDay(icu.INTIME) - JulianDay(pat.DOB))/ 364.242 as age\n",
    "# , adm.hospital_expire_flag , icu.outtime \n",
    "# , RANK() OVER (PARTITION BY icu.subject_id ORDER BY icu.intime) AS icustay_id_order \n",
    "\n",
    "\n",
    "# FROM icustays icu\n",
    "# INNER JOIN patients pat\n",
    "#   ON icu.subject_id = pat.subject_id\n",
    "# INNER JOIN admissions adm\n",
    "#     ON adm.subject_id = icu.subject_id\n",
    "#     AND adm.hadm_id = icu.hadm_id\n",
    "# )\n",
    "\n",
    "\n",
    "# SELECT\n",
    "#     fa.subject_id, fa.hadm_id, fa.icustay_id, fa.icustay_id_order, fa.intime as icu_intime, fa.outtime as icu_outtime, fa.DOB, fa.GENDER, fa.age as patient_age, fa.hospital_expire_flag as mortality, fa.icu_length_of_stay\n",
    "#   , CASE \n",
    "#         WHEN fa.icu_length_of_stay < 2 then 1\n",
    "#     ELSE 0 END\n",
    "#         as exclusion_los\n",
    "#   , CASE\n",
    "#         WHEN fa.age < 18 then 1\n",
    "#     ELSE 0 END\n",
    "#         as exclusion_age\n",
    "# FROM icu_patients fa\n",
    "\n",
    "# \"\"\"\n",
    "\n",
    "# icu = pd.read_sql_query(query, connection)"
   ]
  },
  {
   "cell_type": "code",
   "execution_count": null,
   "metadata": {},
   "outputs": [],
   "source": [
    "# mortality_cohort = icu.copy()"
   ]
  },
  {
   "cell_type": "markdown",
   "metadata": {},
   "source": [
    "#### Alternative 2: PostgreSQL"
   ]
  },
  {
   "cell_type": "code",
   "execution_count": 2,
   "metadata": {},
   "outputs": [
    {
     "name": "stdout",
     "output_type": "stream",
     "text": [
      "Enter postgres password········\n"
     ]
    }
   ],
   "source": [
    "# Set up postgres connection\n",
    "conn = psycopg2.connect(\n",
    "    database='mimic', \n",
    "    user='zhwa9764', \n",
    "    password=getpass.getpass(\"Enter postgres password\"), \n",
    "    host='127.0.0.1', \n",
    "    port='5432',\n",
    "    options=f'-c search_path=mimiciii')"
   ]
  },
  {
   "cell_type": "code",
   "execution_count": 3,
   "metadata": {},
   "outputs": [],
   "source": [
    "##################### QUERYING, MORTALITY COHORT #############################\n",
    "query = \"\"\"\n",
    "WITH icu_patients AS\n",
    "(\n",
    "SELECT icu.subject_id, icu.hadm_id, icu.icustay_id, pat.DOB, pat.gender, icu.intime \n",
    ", DATE_PART('day', OUTTIME - INTIME) as icu_length_of_stay\n",
    ", DATE_PART('day', icu.INTIME - pat.DOB) / 364.242 as age\n",
    ", adm.hospital_expire_flag , icu.outtime \n",
    ", RANK() OVER (PARTITION BY icu.subject_id ORDER BY icu.intime) AS icustay_id_order \n",
    "FROM icustays icu\n",
    "INNER JOIN patients pat\n",
    "  ON icu.subject_id = pat.subject_id\n",
    "INNER JOIN admissions adm\n",
    "    ON adm.subject_id = icu.subject_id\n",
    "    AND adm.hadm_id = icu.hadm_id\n",
    ")\n",
    "SELECT\n",
    "    fa.subject_id, fa.hadm_id, fa.icustay_id, fa.icustay_id_order, fa.intime as icu_intime, fa.outtime as icu_outtime, fa.DOB, fa.GENDER, fa.age as patient_age, fa.hospital_expire_flag as mortality, fa.icu_length_of_stay\n",
    "  , CASE \n",
    "        WHEN fa.icu_length_of_stay < 2 then 1\n",
    "    ELSE 0 END\n",
    "        as exclusion_los\n",
    "  , CASE\n",
    "        WHEN fa.age < 18 then 1\n",
    "    ELSE 0 END\n",
    "        as exclusion_age\n",
    "FROM icu_patients fa\n",
    "\"\"\"\n",
    "\n",
    "mortality_cohort = pd.read_sql(query, conn)"
   ]
  },
  {
   "cell_type": "markdown",
   "metadata": {},
   "source": [
    "### Data preprocessing"
   ]
  },
  {
   "cell_type": "code",
   "execution_count": 4,
   "metadata": {},
   "outputs": [
    {
     "data": {
      "text/plain": [
       "(61532, 13)"
      ]
     },
     "execution_count": 4,
     "metadata": {},
     "output_type": "execute_result"
    }
   ],
   "source": [
    "mortality_cohort.shape"
   ]
  },
  {
   "cell_type": "code",
   "execution_count": null,
   "metadata": {},
   "outputs": [],
   "source": [
    "mortality_cohort.head()"
   ]
  },
  {
   "cell_type": "code",
   "execution_count": null,
   "metadata": {},
   "outputs": [],
   "source": [
    "pd.value_counts(mortality_cohort['hadm_id']) # same addmission ids occured more than once: (one admission id could be link to mutiple icu stays)"
   ]
  },
  {
   "cell_type": "markdown",
   "metadata": {},
   "source": [
    "### Extract only the adults, and stay length larger than 1 day"
   ]
  },
  {
   "cell_type": "code",
   "execution_count": 7,
   "metadata": {},
   "outputs": [],
   "source": [
    "adults = mortality_cohort[mortality_cohort['exclusion_age'] == 0]\n",
    "\n",
    "adults = adults.loc[adults['icu_length_of_stay'] >= 1]"
   ]
  },
  {
   "cell_type": "code",
   "execution_count": 8,
   "metadata": {},
   "outputs": [
    {
     "data": {
      "text/plain": [
       "(45256, 13)"
      ]
     },
     "execution_count": 8,
     "metadata": {},
     "output_type": "execute_result"
    }
   ],
   "source": [
    "adults.shape"
   ]
  },
  {
   "cell_type": "code",
   "execution_count": null,
   "metadata": {},
   "outputs": [],
   "source": [
    "adults.head()"
   ]
  },
  {
   "cell_type": "code",
   "execution_count": 10,
   "metadata": {},
   "outputs": [
    {
     "data": {
      "text/plain": [
       "0    39895\n",
       "1     5361\n",
       "Name: mortality, dtype: int64"
      ]
     },
     "execution_count": 10,
     "metadata": {},
     "output_type": "execute_result"
    }
   ],
   "source": [
    "pd.value_counts(adults['mortality'])"
   ]
  },
  {
   "cell_type": "code",
   "execution_count": 11,
   "metadata": {},
   "outputs": [
    {
     "data": {
      "text/plain": [
       "0"
      ]
     },
     "execution_count": 11,
     "metadata": {},
     "output_type": "execute_result"
    }
   ],
   "source": [
    "# check if there is any duplicate in the table\n",
    "sum(adults.duplicated())"
   ]
  },
  {
   "cell_type": "markdown",
   "metadata": {},
   "source": [
    "### Filter to get positive and negative mortality patients separately"
   ]
  },
  {
   "cell_type": "code",
   "execution_count": null,
   "metadata": {
    "scrolled": true
   },
   "outputs": [],
   "source": [
    "# select the max of icustay order (last admission stay) with the positive mortality \n",
    "# pos_filter = adults[adults['mortality']==1].groupby(['subject_id'])['icustay_id_order'].idxmax() \n",
    "patient_mortality = (adults.groupby(['subject_id'])['mortality'].max() == 1).reset_index()\n",
    "pos_patient_set = set(patient_mortality[patient_mortality['mortality']==True]['subject_id'])\n",
    "\n",
    "pos_filter = adults[adults['subject_id'].isin(pos_patient_set)].groupby(['subject_id'])['icustay_id_order'].idxmax() \n",
    "pos_adults = adults.loc[pos_filter]\n",
    "\n",
    "pos_adults.head()"
   ]
  },
  {
   "cell_type": "code",
   "execution_count": 13,
   "metadata": {},
   "outputs": [
    {
     "data": {
      "text/plain": [
       "(4774, 13)"
      ]
     },
     "execution_count": 13,
     "metadata": {},
     "output_type": "execute_result"
    }
   ],
   "source": [
    "pos_adults.shape"
   ]
  },
  {
   "cell_type": "code",
   "execution_count": 14,
   "metadata": {},
   "outputs": [],
   "source": [
    "pos_adm_set = set(pos_adults['hadm_id'])"
   ]
  },
  {
   "cell_type": "code",
   "execution_count": null,
   "metadata": {},
   "outputs": [],
   "source": [
    "# select the mix of icustay order (first admission stay) with the negative mortality \n",
    "# neg_filter = adults[adults['mortality']==0].groupby(['subject_id'])['icustay_id_order'].idxmin() \n",
    "\n",
    "neg_patient_set = set(patient_mortality[patient_mortality['mortality']==False]['subject_id'])\n",
    "\n",
    "neg_filter = adults[adults['subject_id'].isin(neg_patient_set)].groupby(['subject_id'])['icustay_id_order'].idxmin() \n",
    "neg_adults = adults.loc[neg_filter]\n",
    "\n",
    "neg_adults.head()"
   ]
  },
  {
   "cell_type": "code",
   "execution_count": 16,
   "metadata": {},
   "outputs": [
    {
     "data": {
      "text/plain": [
       "(28790, 13)"
      ]
     },
     "execution_count": 16,
     "metadata": {},
     "output_type": "execute_result"
    }
   ],
   "source": [
    "neg_adults.shape"
   ]
  },
  {
   "cell_type": "code",
   "execution_count": null,
   "metadata": {},
   "outputs": [],
   "source": [
    "pd.value_counts(neg_adults['hadm_id'])"
   ]
  },
  {
   "cell_type": "code",
   "execution_count": 18,
   "metadata": {},
   "outputs": [],
   "source": [
    "neg_adm_set = set(neg_adults['hadm_id'])"
   ]
  },
  {
   "cell_type": "markdown",
   "metadata": {},
   "source": [
    "#### Check if there is any patient appearing in both negative or positive sets"
   ]
  },
  {
   "cell_type": "code",
   "execution_count": 19,
   "metadata": {},
   "outputs": [],
   "source": [
    "set1 = set(pos_adults['subject_id'].reset_index(drop=True))\n",
    "set2 = set(neg_adults['subject_id'].reset_index(drop=True))"
   ]
  },
  {
   "cell_type": "code",
   "execution_count": 20,
   "metadata": {},
   "outputs": [
    {
     "data": {
      "text/plain": [
       "0"
      ]
     },
     "execution_count": 20,
     "metadata": {},
     "output_type": "execute_result"
    }
   ],
   "source": [
    "len(list(set1 & set2))"
   ]
  },
  {
   "cell_type": "markdown",
   "metadata": {},
   "source": [
    "## 2. Get clinical texts"
   ]
  },
  {
   "cell_type": "code",
   "execution_count": null,
   "metadata": {},
   "outputs": [],
   "source": [
    "texts = pd.read_sql(\n",
    "    \"\"\"\n",
    "    SELECT hadm_id, subject_id, chartdate, category, description, text\n",
    "    FROM noteevents;\n",
    "    \"\"\", conn)\n",
    "\n",
    "texts.head()"
   ]
  },
  {
   "cell_type": "code",
   "execution_count": 23,
   "metadata": {},
   "outputs": [
    {
     "data": {
      "text/plain": [
       "(2083180, 6)"
      ]
     },
     "execution_count": 23,
     "metadata": {},
     "output_type": "execute_result"
    }
   ],
   "source": [
    "texts.shape"
   ]
  },
  {
   "cell_type": "code",
   "execution_count": 24,
   "metadata": {},
   "outputs": [
    {
     "data": {
      "text/plain": [
       "Nursing/other        822497\n",
       "Radiology            522279\n",
       "Nursing              223556\n",
       "ECG                  209051\n",
       "Physician            141624\n",
       "Discharge summary     59652\n",
       "Echo                  45794\n",
       "Respiratory           31739\n",
       "Nutrition              9418\n",
       "General                8301\n",
       "Rehab Services         5431\n",
       "Social Work            2670\n",
       "Case Management         967\n",
       "Pharmacy                103\n",
       "Consult                  98\n",
       "Name: category, dtype: int64"
      ]
     },
     "execution_count": 24,
     "metadata": {},
     "output_type": "execute_result"
    }
   ],
   "source": [
    "pd.value_counts(texts['category'])"
   ]
  },
  {
   "cell_type": "code",
   "execution_count": null,
   "metadata": {},
   "outputs": [],
   "source": [
    "category_set = {'Nursing/other', 'Radiology', 'Nursing', 'ECG', 'Physician '}\n",
    "\n",
    "filtered_texts = texts[texts['category'].isin(category_set)]\n",
    "filtered_texts.head()"
   ]
  },
  {
   "cell_type": "code",
   "execution_count": 60,
   "metadata": {},
   "outputs": [
    {
     "data": {
      "text/plain": [
       "(array([4.2615e+04, 2.3260e+03, 6.1300e+02, 2.4000e+02, 1.1700e+02,\n",
       "        5.7000e+01, 3.6000e+01, 1.8000e+01, 7.0000e+00, 7.0000e+00]),\n",
       " array([1.0000e+00, 1.2040e+02, 2.3980e+02, 3.5920e+02, 4.7860e+02,\n",
       "        5.9800e+02, 7.1740e+02, 8.3680e+02, 9.5620e+02, 1.0756e+03,\n",
       "        1.1950e+03]),\n",
       " <BarContainer object of 10 artists>)"
      ]
     },
     "execution_count": 60,
     "metadata": {},
     "output_type": "execute_result"
    },
    {
     "data": {
      "image/png": "[encoded data removed]",
      "text/plain": [
       "<Figure size 432x288 with 1 Axes>"
      ]
     },
     "metadata": {
      "needs_background": "light"
     },
     "output_type": "display_data"
    }
   ],
   "source": [
    "plt.hist(filtered_texts.groupby('subject_id')['category'].count())"
   ]
  },
  {
   "cell_type": "code",
   "execution_count": 27,
   "metadata": {},
   "outputs": [
    {
     "data": {
      "text/plain": [
       "Nursing/other    822497\n",
       "Radiology        522279\n",
       "Nursing          223556\n",
       "ECG              209051\n",
       "Physician        141624\n",
       "Name: category, dtype: int64"
      ]
     },
     "execution_count": 27,
     "metadata": {},
     "output_type": "execute_result"
    }
   ],
   "source": [
    "pd.value_counts(filtered_texts['category'])"
   ]
  },
  {
   "cell_type": "code",
   "execution_count": null,
   "metadata": {},
   "outputs": [],
   "source": [
    "filtered_texts.loc[1671084, :]"
   ]
  },
  {
   "cell_type": "code",
   "execution_count": 105,
   "metadata": {},
   "outputs": [],
   "source": [
    "texts_by_adm_sbj = filtered_texts.groupby(['subject_id', 'hadm_id']).apply(lambda x: x['text'])\n",
    "texts_by_adm_sbj = texts_by_adm_sbj.reset_index(level=[2], drop=True)"
   ]
  },
  {
   "cell_type": "code",
   "execution_count": null,
   "metadata": {},
   "outputs": [],
   "source": [
    "joined_texts = texts_by_adm_sbj.reset_index().groupby(['subject_id', 'hadm_id'])['text'].apply(lambda x: ','.join(x)).reset_index()\n",
    "\n",
    "joined_texts.head()"
   ]
  },
  {
   "cell_type": "code",
   "execution_count": 127,
   "metadata": {},
   "outputs": [
    {
     "data": {
      "text/plain": [
       "(58006, 3)"
      ]
     },
     "execution_count": 127,
     "metadata": {},
     "output_type": "execute_result"
    }
   ],
   "source": [
    "joined_texts.shape"
   ]
  },
  {
   "cell_type": "code",
   "execution_count": 128,
   "metadata": {},
   "outputs": [
    {
     "name": "stderr",
     "output_type": "stream",
     "text": [
      "/usr/local/lib/python3.7/site-packages/ipykernel_launcher.py:2: SettingWithCopyWarning: \n",
      "A value is trying to be set on a copy of a slice from a DataFrame.\n",
      "Try using .loc[row_indexer,col_indexer] = value instead\n",
      "\n",
      "See the caveats in the documentation: https://pandas.pydata.org/pandas-docs/stable/user_guide/indexing.html#returning-a-view-versus-a-copy\n",
      "  \n",
      "/usr/local/lib/python3.7/site-packages/ipykernel_launcher.py:5: SettingWithCopyWarning: \n",
      "A value is trying to be set on a copy of a slice from a DataFrame.\n",
      "Try using .loc[row_indexer,col_indexer] = value instead\n",
      "\n",
      "See the caveats in the documentation: https://pandas.pydata.org/pandas-docs/stable/user_guide/indexing.html#returning-a-view-versus-a-copy\n",
      "  \"\"\"\n"
     ]
    }
   ],
   "source": [
    "pos_texts = joined_texts[joined_texts['hadm_id'].isin(pos_adm_set)]\n",
    "pos_texts['mortality'] = [1 for i in range(pos_texts.shape[0])]\n",
    "\n",
    "neg_texts = joined_texts[joined_texts['hadm_id'].isin(neg_adm_set)]\n",
    "neg_texts['mortality'] = [0 for i in range(neg_texts.shape[0])]\n"
   ]
  },
  {
   "cell_type": "code",
   "execution_count": 129,
   "metadata": {},
   "outputs": [
    {
     "data": {
      "text/plain": [
       "(4602, 4)"
      ]
     },
     "execution_count": 129,
     "metadata": {},
     "output_type": "execute_result"
    }
   ],
   "source": [
    "pos_texts.shape"
   ]
  },
  {
   "cell_type": "code",
   "execution_count": 130,
   "metadata": {},
   "outputs": [
    {
     "data": {
      "text/plain": [
       "(28639, 4)"
      ]
     },
     "execution_count": 130,
     "metadata": {},
     "output_type": "execute_result"
    }
   ],
   "source": [
    "neg_texts.shape"
   ]
  },
  {
   "cell_type": "code",
   "execution_count": null,
   "metadata": {},
   "outputs": [],
   "source": [
    "concat_texts = pd.concat([pos_texts, neg_texts])\n",
    "concat_texts = concat_texts.sample(frac=1, random_state=39).reset_index(drop=True)\n",
    "concat_texts"
   ]
  },
  {
   "cell_type": "markdown",
   "metadata": {},
   "source": [
    "## 3. Text preprocessing"
   ]
  },
  {
   "cell_type": "code",
   "execution_count": null,
   "metadata": {},
   "outputs": [],
   "source": [
    "import re\n",
    "\n",
    "# import nltk\n",
    "# nltk.download('stopwords')\n",
    "from nltk.corpus import stopwords\n",
    "stop = stopwords.words('english')"
   ]
  },
  {
   "cell_type": "code",
   "execution_count": 61,
   "metadata": {},
   "outputs": [],
   "source": [
    "X = concat_texts['text']"
   ]
  },
  {
   "cell_type": "code",
   "execution_count": null,
   "metadata": {},
   "outputs": [],
   "source": [
    "# Lowercase all the texts\n",
    "X_lower = X.apply(lambda row: row.lower())\n",
    "X_lower.head()"
   ]
  },
  {
   "cell_type": "code",
   "execution_count": null,
   "metadata": {
    "scrolled": true
   },
   "outputs": [],
   "source": [
    "# Remove all the number digits \n",
    "X_remove_number = X_lower.apply(lambda row: re.sub(r\"\\d+\", \"\", row))\n",
    "X_remove_number.head()"
   ]
  },
  {
   "cell_type": "code",
   "execution_count": null,
   "metadata": {
    "scrolled": true
   },
   "outputs": [],
   "source": [
    "# Remove all punctuations\n",
    "X_remove_punct = X_remove_number.apply(lambda row: re.sub(r\"\\n|_+\", \" \", row))\n",
    "X_remove_punct = X_remove_punct.apply(lambda row: re.sub(r\"[^\\w\\s]\", \"\", row))\n",
    "X_remove_punct.head()"
   ]
  },
  {
   "cell_type": "code",
   "execution_count": null,
   "metadata": {
    "scrolled": true
   },
   "outputs": [],
   "source": [
    "# Remove all stopwords\n",
    "X_remove_stop = X_remove_punct.apply(lambda row: \" \".join([word for word in row.split() if word not in stop]))\n",
    "X_remove_stop.head()"
   ]
  },
  {
   "cell_type": "code",
   "execution_count": 160,
   "metadata": {},
   "outputs": [],
   "source": [
    "X_remove_stop = X_remove_stop.reset_index()"
   ]
  },
  {
   "cell_type": "code",
   "execution_count": null,
   "metadata": {},
   "outputs": [],
   "source": [
    "X_remove_stop"
   ]
  },
  {
   "cell_type": "code",
   "execution_count": 162,
   "metadata": {},
   "outputs": [],
   "source": [
    "X_remove_stop['length'] = X_remove_stop['text'].apply(lambda row: len(row.split()))"
   ]
  },
  {
   "cell_type": "code",
   "execution_count": 169,
   "metadata": {},
   "outputs": [
    {
     "data": {
      "text/plain": [
       "count     33241.000000\n",
       "mean       4674.802022\n",
       "std       11332.851955\n",
       "min           6.000000\n",
       "25%         796.000000\n",
       "50%        1686.000000\n",
       "75%        4271.000000\n",
       "max      345083.000000\n",
       "Name: length, dtype: float64"
      ]
     },
     "execution_count": 169,
     "metadata": {},
     "output_type": "execute_result"
    }
   ],
   "source": [
    "X_remove_stop['length'].describe()"
   ]
  },
  {
   "cell_type": "code",
   "execution_count": null,
   "metadata": {},
   "outputs": [],
   "source": [
    "final_texts = X_remove_stop.join(concat_texts[['subject_id', 'hadm_id', 'mortality']])\n",
    "final_texts.head()"
   ]
  },
  {
   "cell_type": "code",
   "execution_count": 165,
   "metadata": {},
   "outputs": [],
   "source": [
    "final_texts = final_text.drop(['index', 'length'], axis=1)"
   ]
  },
  {
   "cell_type": "code",
   "execution_count": null,
   "metadata": {},
   "outputs": [],
   "source": [
    "final_texts"
   ]
  },
  {
   "cell_type": "code",
   "execution_count": 167,
   "metadata": {},
   "outputs": [],
   "source": [
    "final_texts.to_csv('./texts.csv')"
   ]
  }
 ],
 "metadata": {
  "kernelspec": {
   "name": "pythonjvsc74a57bd01a45dd30e5671798ab819062d9e14f178a6c5e29c997e4a72a4b1344e290a839",
   "display_name": "Python 3.8.8 64-bit ('.venv': venv)"
  },
  "language_info": {
   "codemirror_mode": {
    "name": "ipython",
    "version": 3
   },
   "file_extension": ".py",
   "mimetype": "text/x-python",
   "name": "python",
   "nbconvert_exporter": "python",
   "pygments_lexer": "ipython3",
   "version": "3.8.8"
  },
  "metadata": {
   "interpreter": {
    "hash": "1a45dd30e5671798ab819062d9e14f178a6c5e29c997e4a72a4b1344e290a839"
   }
  }
 },
 "nbformat": 4,
 "nbformat_minor": 4
}