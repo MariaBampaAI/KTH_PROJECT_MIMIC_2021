{
 "metadata": {
  "language_info": {
   "codemirror_mode": {
    "name": "ipython",
    "version": 3
   },
   "file_extension": ".py",
   "mimetype": "text/x-python",
   "name": "python",
   "nbconvert_exporter": "python",
   "pygments_lexer": "ipython3",
   "version": "3.7.4"
  },
  "orig_nbformat": 2,
  "kernelspec": {
   "name": "pythonjvsc74a57bd01a45dd30e5671798ab819062d9e14f178a6c5e29c997e4a72a4b1344e290a839",
   "display_name": "Python 3.7.4 64-bit ('.venv': venv)"
  },
  "metadata": {
   "interpreter": {
    "hash": "1a45dd30e5671798ab819062d9e14f178a6c5e29c997e4a72a4b1344e290a839"
   }
  }
 },
 "nbformat": 4,
 "nbformat_minor": 2,
 "cells": [
  {
   "cell_type": "code",
   "execution_count": null,
   "metadata": {},
   "outputs": [],
   "source": [
    "import sqlite3\n",
    "import pandas as pd "
   ]
  },
  {
   "cell_type": "code",
   "execution_count": null,
   "metadata": {},
   "outputs": [],
   "source": [
    "##############################################################################\n",
    "####################### CONNECT TO MIMIC #####################################\n",
    "connection = sqlite3.connect(\"path to mimic\")\n",
    "\n",
    "#We can verify we successfully created our connection object by running:\n",
    "print(connection.total_changes)\n",
    "# Be sure to close the connection\n",
    "#con.close()\n",
    "\n",
    "# Create our test query\n",
    "test_query = \"\"\"\n",
    "SELECT subject_id, hadm_id, admittime, dischtime, admission_type, diagnosis\n",
    "FROM admissions\n",
    "\"\"\"\n",
    "\n",
    "# Run the query and assign the results to a variable\n",
    "test = pd.read_sql_query(test_query,connection)\n",
    "\n",
    "print(\"TEST:\", test.head())\n",
    "##############################################################################\n",
    "##################### QUERYING, MORTALITY COHORT #############################\n",
    "\n",
    "\n",
    "###positive cohort\n",
    "\n",
    "query = \"\"\"\n",
    "\n",
    "WITH icu_patients AS\n",
    "(\n",
    "SELECT icu.subject_id, icu.hadm_id, icu.icustay_id, pat.DOB, pat.gender, adm.admittime \n",
    ", (JulianDay(OUTTIME) - JulianDay(INTIME)) as icu_length_of_stay\n",
    ", (JulianDay(icu.INTIME) - JulianDay(pat.DOB))/ 364.242 as age\n",
    ", adm.hospital_expire_flag as mortality \n",
    "\n",
    "\n",
    "FROM icustays icu\n",
    "INNER JOIN patients pat\n",
    "  ON icu.subject_id = pat.subject_id\n",
    "INNER JOIN admissions adm\n",
    "    ON adm.subject_id = icu.subject_id\n",
    "    AND adm.hadm_id = icu.hadm_id\n",
    ")\n",
    "\n",
    "SELECT * \n",
    "FROM icu_patients icu_cohort\n",
    "WHERE icu_cohort.mortality == 1 AND icu_cohort.age >= 18 AND icu_cohort.icu_length_of_stay>=1\n",
    "\n",
    "\"\"\"\n",
    "\n",
    "\n",
    "positive_cohort = pd.read_sql_query(query, connection)"
   ]
  },
  {
   "cell_type": "code",
   "execution_count": null,
   "metadata": {},
   "outputs": [],
   "source": [
    "\n",
    "positive_cohort = positive_cohort.copy() #keeping the original icu patients\n",
    "positive_cohort.drop_duplicates()\n",
    "\n",
    "#the dataset contains dupicate values, so i will drop them \n",
    "positive_cohort = positive_cohort.drop_duplicates(keep='first')"
   ]
  },
  {
   "cell_type": "code",
   "execution_count": null,
   "metadata": {},
   "outputs": [],
   "source": [
    "positive_cohort"
   ]
  },
  {
   "cell_type": "code",
   "execution_count": null,
   "metadata": {},
   "outputs": [],
   "source": [
    "positive_cohort.hadm_id.value_counts()"
   ]
  },
  {
   "cell_type": "code",
   "execution_count": null,
   "metadata": {},
   "outputs": [],
   "source": [
    "positive_cohort[positive_cohort[\"hadm_id\"] == 175448]\n"
   ]
  },
  {
   "cell_type": "code",
   "execution_count": null,
   "metadata": {},
   "outputs": [],
   "source": [
    "positive_cohort"
   ]
  },
  {
   "source": [
    "## Negative Cohort"
   ],
   "cell_type": "markdown",
   "metadata": {}
  },
  {
   "cell_type": "code",
   "execution_count": null,
   "metadata": {},
   "outputs": [],
   "source": [
    "\n",
    "###negative cohort\n",
    "\n",
    "query = \"\"\"\n",
    "\n",
    "WITH icu_patients AS\n",
    "(\n",
    "SELECT icu.subject_id, icu.hadm_id, icu.icustay_id, pat.DOB, pat.gender, adm.admittime \n",
    ", (JulianDay(OUTTIME) - JulianDay(INTIME)) as icu_length_of_stay\n",
    ", (JulianDay(icu.INTIME) - JulianDay(pat.DOB))/ 364.242 as age\n",
    ", adm.hospital_expire_flag \n",
    "\n",
    "\n",
    "FROM icustays icu\n",
    "INNER JOIN patients pat\n",
    "  ON icu.subject_id = pat.subject_id\n",
    "INNER JOIN admissions adm\n",
    "    ON adm.subject_id = icu.subject_id\n",
    "    AND adm.hadm_id = icu.hadm_id\n",
    ")\n",
    "\n",
    "SELECT icu_cohort.subject_id, icu_cohort.hadm_id, icu_cohort.icustay_id, icu_cohort.DOB, icu_cohort.gender, icu_cohort.admittime,  icu_cohort.icu_length_of_stay, icu_cohort.age, icu_cohort.hospital_expire_flag as mortality\n",
    "FROM icu_patients icu_cohort\n",
    "WHERE icu_cohort.subject_id NOT IN(\n",
    "    SELECT icu_cohort.subject_id\n",
    "    FROM icu_patients icu_cohort\n",
    "    WHERE icu_cohort.hospital_expire_flag == 1 AND icu_cohort.age >= 18 AND icu_cohort.icu_length_of_stay>=1\n",
    ")\n",
    "AND icu_cohort.age >= 18 AND icu_cohort.icu_length_of_stay>=1\n",
    "ORDER BY icu_cohort.subject_id\n",
    "\"\"\"\n",
    "\n",
    "\n",
    "negative_cohort = pd.read_sql_query(query, connection)"
   ]
  },
  {
   "cell_type": "code",
   "execution_count": null,
   "metadata": {},
   "outputs": [],
   "source": []
  },
  {
   "cell_type": "code",
   "execution_count": null,
   "metadata": {},
   "outputs": [],
   "source": [
    "negative_cohort"
   ]
  },
  {
   "source": [
    "### Preprocessing Negagive (to mortality) ICU patients (Keep the oldest date for admission)"
   ],
   "cell_type": "markdown",
   "metadata": {}
  },
  {
   "cell_type": "code",
   "execution_count": null,
   "metadata": {},
   "outputs": [],
   "source": [
    "# exclude patients < 18 years old\n",
    "patients = negative_cohort.copy() #keeping the original icu patients\n",
    "patients.drop_duplicates()\n",
    "\n",
    "#patients = patients[patients[\"exclusion_age\"]==0] #keep patients older than 18\n",
    "\n",
    "#the dataset contains dupicate values, so i will drop them \n",
    "patients = patients.drop_duplicates(keep='first')\n"
   ]
  },
  {
   "cell_type": "code",
   "execution_count": null,
   "metadata": {},
   "outputs": [],
   "source": [
    "patients[patients[\"subject_id\"] == 18108]"
   ]
  },
  {
   "cell_type": "code",
   "execution_count": null,
   "metadata": {},
   "outputs": [],
   "source": [
    "patients.subject_id.value_counts().sort_values"
   ]
  },
  {
   "cell_type": "code",
   "execution_count": null,
   "metadata": {},
   "outputs": [],
   "source": [
    "#check if we actually dropped duplicates\n",
    "patients[patients[\"subject_id\"]==11861]"
   ]
  },
  {
   "cell_type": "code",
   "execution_count": null,
   "metadata": {},
   "outputs": [],
   "source": [
    "#i extracted patients with multiple hadm_id, so we need to keep only the first hadm_id for each patient. and for each hadm_id all icu_Stays_id (i need them for labs and stuff)\n",
    "\n",
    "\n",
    "#count how  many visits in the icu each patient has \n",
    "counts = patients.groupby(patients.subject_id).nunique()[\"hadm_id\"]\n",
    "\n",
    "# index of patients with more than one hadm_id\n",
    "# select multi visit patients from patients\n",
    "idx_pat_multi_hadmid = counts[counts.values>1].index\n",
    "multi_hadmid_patients = patients[patients.subject_id.isin(list(idx_pat_multi_hadmid))]"
   ]
  },
  {
   "cell_type": "code",
   "execution_count": null,
   "metadata": {},
   "outputs": [],
   "source": [
    "#extract the one with one unique hadm_id for later concat of negative cohort\n",
    "uni_hadmid_patients = patients[~patients.subject_id.isin(list(idx_pat_multi_hadmid))]"
   ]
  },
  {
   "cell_type": "code",
   "execution_count": null,
   "metadata": {},
   "outputs": [],
   "source": [
    "uni_hadmid_patients.head()"
   ]
  },
  {
   "cell_type": "code",
   "execution_count": null,
   "metadata": {},
   "outputs": [],
   "source": [
    "multi_hadmid_patients.head()"
   ]
  },
  {
   "cell_type": "code",
   "execution_count": null,
   "metadata": {},
   "outputs": [],
   "source": [
    "#just checking\n",
    "multi_hadmid_patients[multi_hadmid_patients['subject_id'] == 11861]"
   ]
  },
  {
   "cell_type": "code",
   "execution_count": null,
   "metadata": {},
   "outputs": [],
   "source": [
    "#convert to datetime\n",
    "multi_hadmid_patients.admittime = pd.to_datetime(multi_hadmid_patients.admittime)"
   ]
  },
  {
   "cell_type": "code",
   "execution_count": null,
   "metadata": {},
   "outputs": [],
   "source": [
    "multi_hadmid_patients"
   ]
  },
  {
   "cell_type": "code",
   "execution_count": null,
   "metadata": {},
   "outputs": [],
   "source": [
    "#for the people that have multiple hadm_id, get the idx of the hadm_id with the min date\n",
    "indices = multi_hadmid_patients.groupby(\"subject_id\")['admittime'].idxmin()"
   ]
  },
  {
   "cell_type": "code",
   "execution_count": null,
   "metadata": {},
   "outputs": [],
   "source": [
    "indices"
   ]
  },
  {
   "cell_type": "code",
   "execution_count": null,
   "metadata": {},
   "outputs": [],
   "source": [
    "#get the df where the indices are in indices\n",
    "sub_cohort_multi = multi_hadmid_patients.loc[indices]"
   ]
  },
  {
   "cell_type": "code",
   "execution_count": null,
   "metadata": {},
   "outputs": [],
   "source": [
    "#checking\n",
    "sub_cohort_multi[sub_cohort_multi[\"subject_id\"] == 11861]"
   ]
  },
  {
   "cell_type": "code",
   "execution_count": null,
   "metadata": {},
   "outputs": [],
   "source": [
    "sub_cohort_multi"
   ]
  },
  {
   "cell_type": "code",
   "execution_count": null,
   "metadata": {},
   "outputs": [],
   "source": [
    "#concating the negative cohort\n",
    "\n",
    "\n",
    "negative_cohort = pd.concat([sub_cohort_multi, uni_hadmid_patients])"
   ]
  },
  {
   "cell_type": "code",
   "execution_count": null,
   "metadata": {},
   "outputs": [],
   "source": [
    "negative_cohort.head()"
   ]
  },
  {
   "cell_type": "code",
   "execution_count": null,
   "metadata": {},
   "outputs": [],
   "source": [
    "negative_cohort[negative_cohort['hadm_id'] == 163281]"
   ]
  },
  {
   "source": [
    "### Concat final cohort with negative and positive"
   ],
   "cell_type": "markdown",
   "metadata": {}
  },
  {
   "cell_type": "code",
   "execution_count": null,
   "metadata": {},
   "outputs": [],
   "source": [
    "negative_cohort"
   ]
  },
  {
   "cell_type": "code",
   "execution_count": null,
   "metadata": {},
   "outputs": [],
   "source": [
    "negative_cohort.hadm_id.value_counts()"
   ]
  },
  {
   "cell_type": "code",
   "execution_count": null,
   "metadata": {},
   "outputs": [],
   "source": [
    "positive_cohort"
   ]
  },
  {
   "cell_type": "code",
   "execution_count": null,
   "metadata": {},
   "outputs": [],
   "source": [
    "patient_cohort = pd.concat([negative_cohort, positive_cohort])"
   ]
  },
  {
   "cell_type": "code",
   "execution_count": null,
   "metadata": {},
   "outputs": [],
   "source": [
    "patient_cohort[patient_cohort[\"subject_id\"] == 27427]"
   ]
  },
  {
   "cell_type": "code",
   "execution_count": null,
   "metadata": {},
   "outputs": [],
   "source": [
    "patient_cohort[patient_cohort[\"hadm_id\"] == 178137]"
   ]
  },
  {
   "cell_type": "code",
   "execution_count": null,
   "metadata": {},
   "outputs": [],
   "source": [
    "patient_cohort"
   ]
  },
  {
   "cell_type": "code",
   "execution_count": null,
   "metadata": {},
   "outputs": [],
   "source": []
  },
  {
   "cell_type": "code",
   "execution_count": null,
   "metadata": {},
   "outputs": [],
   "source": []
  },
  {
   "source": [
    "## Extracting vitals"
   ],
   "cell_type": "markdown",
   "metadata": {}
  },
  {
   "cell_type": "code",
   "execution_count": null,
   "metadata": {},
   "outputs": [],
   "source": [
    "query = \"\"\"\n",
    "WITH ce as\n",
    "(\n",
    "    select ce.icustay_id, ce.charttime\n",
    "        , (case when itemid in (211,220045) and valuenum > 0 and valuenum < 300 then valuenum else null end) as HeartRate\n",
    "        , (case when itemid in (51,442,455,6701,220179,220050) and valuenum > 0 and valuenum < 400 then valuenum else null end) as SysBP\n",
    "        , (case when itemid in (8368,8440,8441,8555,220180,220051) and valuenum > 0 and valuenum < 300 then valuenum else null end) as DiasBP\n",
    "        , (case when itemid in (456,52,6702,443,220052,220181,225312) and valuenum > 0 and valuenum < 300 then valuenum else null end) as MeanBP\n",
    "        , (case when itemid in (615,618,220210,224690) and valuenum > 0 and valuenum < 70 then valuenum else null end) as RespRate\n",
    "        , (case when itemid in (223761,678) and valuenum > 70 and valuenum < 120 then (valuenum-32)/1.8 -- converted to degC in valuenum call\n",
    "               when itemid in (223762,676) and valuenum > 10 and valuenum < 50  then valuenum else null end) as TempC\n",
    "        , (case when itemid in (646,220277) and valuenum > 0 and valuenum <= 100 then valuenum else null end) as SpO2\n",
    "        , (case when itemid in (807,811,1529,3745,3744,225664,220621,226537) and valuenum > 0 then valuenum else null end) as Glucose\n",
    "    from chartevents ce\n",
    "    \n",
    "    WHERE ce.itemid in\n",
    "    (\n",
    "    -- HEART RATE\n",
    "    211, --\"Heart Rate\"\n",
    "    220045, --\"Heart Rate\"\n",
    "\n",
    "    -- Systolic/diastolic\n",
    "\n",
    "    51, --\tArterial BP [Systolic]\n",
    "    442, --\tManual BP [Systolic]\n",
    "    455, --\tNBP [Systolic]\n",
    "    6701, --\tArterial BP #2 [Systolic]\n",
    "    220179, --\tNon Invasive Blood Pressure systolic\n",
    "    220050, --\tArterial Blood Pressure systolic\n",
    "\n",
    "    8368, --\tArterial BP [Diastolic]\n",
    "    8440, --\tManual BP [Diastolic]\n",
    "    8441, --\tNBP [Diastolic]\n",
    "    8555, --\tArterial BP #2 [Diastolic]\n",
    "    220180, --\tNon Invasive Blood Pressure diastolic\n",
    "    220051, --\tArterial Blood Pressure diastolic\n",
    "\n",
    "\n",
    "    -- MEAN ARTERIAL PRESSURE\n",
    "    456, --\"NBP Mean\"\n",
    "    52, --\"Arterial BP Mean\"\n",
    "    6702, --\tArterial BP Mean #2\n",
    "    443, --\tManual BP Mean(calc)\n",
    "    220052, --\"Arterial Blood Pressure mean\"\n",
    "    220181, --\"Non Invasive Blood Pressure mean\"\n",
    "    225312, --\"ART BP mean\"\n",
    "\n",
    "    -- RESPIRATORY RATE\n",
    "    618,--\tRespiratory Rate\n",
    "    615,--\tResp Rate (Total)\n",
    "    220210,--\tRespiratory Rate\n",
    "    224690, --\tRespiratory Rate (Total)\n",
    "\n",
    "\n",
    "    -- SPO2, peripheral\n",
    "    646, 220277,\n",
    "\n",
    "    -- TEMPERATURE\n",
    "    223762, -- \"Temperature Celsius\"\n",
    "    676,\t-- \"Temperature C\"\n",
    "    223761, -- \"Temperature Fahrenheit\"\n",
    "    678 --\t\"Temperature F\"\n",
    "\n",
    "    )\n",
    "    )\n",
    "select\n",
    "    icustays.hadm_id\n",
    "  , ce.charttime\n",
    "  , avg(HeartRate) as HeartRate\n",
    "  , avg(SysBP) as SysBP\n",
    "  , avg(DiasBP) as DiasBP\n",
    "  , avg(MeanBP) as MeanBP\n",
    "  , avg(RespRate) as RespRate\n",
    "  , avg(TempC) as TempC\n",
    "  , avg(SpO2) as SpO2\n",
    "  , avg(Glucose) as Glucose\n",
    "from icustays\n",
    "left join ce\n",
    "on ce.icustay_id = icustays.icustay_id\n",
    "group by icustays.hadm_id, ce.charttime\n",
    "order by icustays.hadm_id, ce.charttime;\n",
    "\"\"\""
   ]
  },
  {
   "cell_type": "code",
   "execution_count": null,
   "metadata": {},
   "outputs": [],
   "source": [
    "vital  = pd.read_sql_query(query, connection)"
   ]
  },
  {
   "cell_type": "code",
   "execution_count": null,
   "metadata": {},
   "outputs": [],
   "source": [
    "vital"
   ]
  },
  {
   "source": [
    "## Prescriptions"
   ],
   "cell_type": "markdown",
   "metadata": {}
  },
  {
   "cell_type": "code",
   "execution_count": null,
   "metadata": {},
   "outputs": [],
   "source": [
    "query = \"\"\"\n",
    "WITH filter_prescriptions AS\n",
    "(\n",
    "SELECT d.subject_id, adm.hadm_id, adm.admittime, d.icustay_id, d.drug as drug_name, CAST(d.NDC AS varchar) as NDC, d.startdate as drug_startdate, d.enddate as drug_enddate, d.prod_strength as drug_strength, d.dose_val_rx as drug_dosage, d.dose_unit_rx as drug_unit\n",
    "FROM prescriptions d\n",
    "INNER JOIN admissions adm\n",
    "    ON adm.subject_id = d.subject_id\n",
    "    AND adm.hadm_id = d.hadm_id\n",
    "\n",
    "ORDER  BY d.SUBJECT_ID ASC\n",
    ")\n",
    "SELECT *\n",
    "FROM filter_prescriptions \n",
    "\"\"\"\n",
    "\n",
    "drugs = pd.read_sql_query(query, connection)"
   ]
  },
  {
   "cell_type": "code",
   "execution_count": null,
   "metadata": {},
   "outputs": [],
   "source": [
    "drugs"
   ]
  },
  {
   "cell_type": "code",
   "execution_count": null,
   "metadata": {},
   "outputs": [],
   "source": [
    "#del drugs\n"
   ]
  },
  {
   "source": [
    "## Diagnoses"
   ],
   "cell_type": "markdown",
   "metadata": {}
  },
  {
   "cell_type": "code",
   "execution_count": null,
   "metadata": {},
   "outputs": [],
   "source": [
    "query = \"\"\"\n",
    "WITH filter_diagnoses AS \n",
    "(\n",
    "    SELECT icd.subject_id, icd.hadm_id, admissions.admittime, icd.icd9_code, d_icd.short_title as icd9_title\n",
    "    FROM diagnoses_icd icd\n",
    "    INNER JOIN icustays, admissions\n",
    "        ON icd.subject_id = icustays.subject_id\n",
    "        AND icustays.hadm_id = admissions.hadm_id\n",
    "    INNER JOIN d_icd_diagnoses d_icd\n",
    "        ON icd.icd9_code = d_icd.icd9_code\n",
    ")\n",
    "SELECT *\n",
    "FROM filter_diagnoses\n",
    "ORDER BY subject_id\n",
    "\"\"\"\n",
    "\n",
    "diagnoses = pd.read_sql_query(query, connection)"
   ]
  },
  {
   "cell_type": "code",
   "execution_count": null,
   "metadata": {},
   "outputs": [],
   "source": [
    "diagnoses"
   ]
  },
  {
   "source": [
    "## Vital cohort"
   ],
   "cell_type": "markdown",
   "metadata": {}
  },
  {
   "cell_type": "code",
   "execution_count": null,
   "metadata": {},
   "outputs": [],
   "source": [
    "vital_cohort = vital[vital.HADM_ID.isin(list(patient_cohort.hadm_id))]"
   ]
  },
  {
   "cell_type": "code",
   "execution_count": null,
   "metadata": {},
   "outputs": [],
   "source": [
    "p = patient_cohort.copy()\n",
    "v = vital_cohort.copy()\n"
   ]
  },
  {
   "cell_type": "code",
   "execution_count": null,
   "metadata": {},
   "outputs": [],
   "source": [
    "v.rename(columns={\"HADM_ID\": \"hadm_id\"}, inplace=True)"
   ]
  },
  {
   "cell_type": "code",
   "execution_count": null,
   "metadata": {},
   "outputs": [],
   "source": [
    "v"
   ]
  },
  {
   "cell_type": "code",
   "execution_count": null,
   "metadata": {},
   "outputs": [],
   "source": [
    "p"
   ]
  },
  {
   "cell_type": "code",
   "execution_count": null,
   "metadata": {},
   "outputs": [],
   "source": [
    "f = p.merge(v, how='left', on='hadm_id')\n"
   ]
  },
  {
   "cell_type": "code",
   "execution_count": null,
   "metadata": {},
   "outputs": [],
   "source": [
    "f"
   ]
  },
  {
   "cell_type": "code",
   "execution_count": null,
   "metadata": {},
   "outputs": [],
   "source": [
    "f.to_csv(\"C:\\\\Users\\\\Maria\\\\Desktop\\\\data\\\\patients_vitals.csv\")"
   ]
  },
  {
   "cell_type": "code",
   "execution_count": null,
   "metadata": {},
   "outputs": [],
   "source": [
    "data = pd.read_csv(\"C:\\\\Users\\\\Maria\\\\Desktop\\\\data\\\\patients_vitals.csv\")"
   ]
  },
  {
   "cell_type": "code",
   "execution_count": null,
   "metadata": {},
   "outputs": [],
   "source": [
    "data "
   ]
  },
  {
   "cell_type": "code",
   "execution_count": null,
   "metadata": {},
   "outputs": [],
   "source": []
  },
  {
   "cell_type": "code",
   "execution_count": null,
   "metadata": {},
   "outputs": [],
   "source": [
    "drugs"
   ]
  },
  {
   "cell_type": "code",
   "execution_count": null,
   "metadata": {},
   "outputs": [],
   "source": [
    "drugs_cohort = drugs[drugs.subject_id.isin(list(data.subject_id))]"
   ]
  },
  {
   "cell_type": "code",
   "execution_count": null,
   "metadata": {},
   "outputs": [],
   "source": [
    "drugs_cohort.subject_id.sort_values()"
   ]
  },
  {
   "cell_type": "code",
   "execution_count": null,
   "metadata": {},
   "outputs": [],
   "source": [
    "diagnoses_cohort = diagnoses[diagnoses.subject_id.isin((data.subject_id))]"
   ]
  },
  {
   "cell_type": "code",
   "execution_count": null,
   "metadata": {},
   "outputs": [],
   "source": [
    "diagnoses.subject_id.sort_values()"
   ]
  },
  {
   "cell_type": "code",
   "execution_count": null,
   "metadata": {},
   "outputs": [],
   "source": [
    "drugs_cohort.to_csv(\"drugs.csv\")"
   ]
  },
  {
   "cell_type": "code",
   "execution_count": null,
   "metadata": {},
   "outputs": [],
   "source": [
    "diagnoses_cohort.to_csv(\"diagnoses.csv\")"
   ]
  },
  {
   "cell_type": "code",
   "execution_count": null,
   "metadata": {},
   "outputs": [],
   "source": []
  }
 ]
}