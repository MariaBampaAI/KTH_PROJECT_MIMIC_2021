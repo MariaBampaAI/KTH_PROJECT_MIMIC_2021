{
 "metadata": {
  "language_info": {
   "codemirror_mode": {
    "name": "ipython",
    "version": 3
   },
   "file_extension": ".py",
   "mimetype": "text/x-python",
   "name": "python",
   "nbconvert_exporter": "python",
   "pygments_lexer": "ipython3",
   "version": "3.8.3-final"
  },
  "orig_nbformat": 2,
  "kernelspec": {
   "name": "python3",
   "display_name": "Python 3",
   "language": "python"
  }
 },
 "nbformat": 4,
 "nbformat_minor": 2,
 "cells": [
  {
   "cell_type": "code",
   "execution_count": null,
   "metadata": {},
   "outputs": [],
   "source": [
    "import os\n",
    "import sys\n",
    "from glob import glob\n",
    "import pandas as pd\n",
    "#from flask import Flask\n",
    "#from flask_sqlalchemy import SQLAlchemy\n",
    "from sqlalchemy import create_engine"
   ]
  },
  {
   "cell_type": "code",
   "execution_count": null,
   "metadata": {},
   "outputs": [],
   "source": [
    "DATABASE_NAME = \"mimic3.db\"\n",
    "THRESHOLD_SIZE = 5 * 10 ** 7\n",
    "CHUNKSIZE = 10 ** 6\n",
    "CONNECTION_STRING = \"sqlite:///{}\".format(DATABASE_NAME)\n",
    "print(CONNECTION_STRING)\n"
   ]
  },
  {
   "cell_type": "code",
   "execution_count": null,
   "metadata": {
    "tags": [
     "outputPrepend"
    ]
   },
   "outputs": [],
   "source": [
    "engine = create_engine(CONNECTION_STRING, echo=False)\n",
    "if os.path.exists(DATABASE_NAME):\n",
    "    msg = \"File {} already exists.\".format(DATABASE_NAME)\n",
    "    print(msg)\n",
    "    sys.exit()\n",
    "\n",
    "for f in glob(\"*.csv.gz\"):\n",
    "    print(\"Starting processing {}\".format(f))\n",
    "    \n",
    "    if os.path.getsize(f) < THRESHOLD_SIZE:\n",
    "        df = pd.read_csv(f, index_col=\"ROW_ID\")\n",
    "        print(df)\n",
    "        df.to_sql(f.strip(\".csv.gz\").lower(), CONNECTION_STRING)\n",
    "        print(df)\n",
    "    else:\n",
    "        # If the file is too large, let's do the work in chunks\n",
    "        for chunk in pd.read_csv(f, index_col=\"ROW_ID\", chunksize=CHUNKSIZE):\n",
    "            chunk.to_sql(\n",
    "                f.strip(\".csv.gz\").lower(), CONNECTION_STRING, if_exists=\"append\"\n",
    "                )\n",
    "    print(\"Finished processing {}\".format(f))\n",
    "\n",
    "print(\"Should be all done!\")"
   ]
  },
  {
   "cell_type": "code",
   "execution_count": null,
   "metadata": {},
   "outputs": [],
   "source": []
  },
  {
   "cell_type": "code",
   "execution_count": null,
   "metadata": {},
   "outputs": [],
   "source": []
  }
 ]
}