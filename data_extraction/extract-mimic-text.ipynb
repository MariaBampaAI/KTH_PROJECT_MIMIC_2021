{
 "cells": [
  {
   "cell_type": "code",
   "execution_count": 1,
   "metadata": {},
   "outputs": [
    {
     "output_type": "error",
     "ename": "ModuleNotFoundError",
     "evalue": "No module named 'psycopg2'",
     "traceback": [
      "\u001b[1;31m---------------------------------------------------------------------------\u001b[0m",
      "\u001b[1;31mModuleNotFoundError\u001b[0m                       Traceback (most recent call last)",
      "\u001b[1;32m<ipython-input-1-24162a9f7200>\u001b[0m in \u001b[0;36m<module>\u001b[1;34m\u001b[0m\n\u001b[0;32m      1\u001b[0m \u001b[1;32mimport\u001b[0m \u001b[0mpandas\u001b[0m \u001b[1;32mas\u001b[0m \u001b[0mpd\u001b[0m\u001b[1;33m\u001b[0m\u001b[1;33m\u001b[0m\u001b[0m\n\u001b[0;32m      2\u001b[0m \u001b[1;32mimport\u001b[0m \u001b[0mpandas\u001b[0m\u001b[1;33m.\u001b[0m\u001b[0mio\u001b[0m\u001b[1;33m.\u001b[0m\u001b[0msql\u001b[0m \u001b[1;32mas\u001b[0m \u001b[0msqlio\u001b[0m\u001b[1;33m\u001b[0m\u001b[1;33m\u001b[0m\u001b[0m\n\u001b[1;32m----> 3\u001b[1;33m \u001b[1;32mimport\u001b[0m \u001b[0mpsycopg2\u001b[0m\u001b[1;33m\u001b[0m\u001b[1;33m\u001b[0m\u001b[0m\n\u001b[0m\u001b[0;32m      4\u001b[0m \u001b[1;32mimport\u001b[0m \u001b[0mgetpass\u001b[0m\u001b[1;33m\u001b[0m\u001b[1;33m\u001b[0m\u001b[0m\n\u001b[0;32m      5\u001b[0m \u001b[1;32mimport\u001b[0m \u001b[0mcsv\u001b[0m\u001b[1;33m\u001b[0m\u001b[1;33m\u001b[0m\u001b[0m\n",
      "\u001b[1;31mModuleNotFoundError\u001b[0m: No module named 'psycopg2'"
     ]
    }
   ],
   "source": [
    "import pandas as pd\n",
    "import pandas.io.sql as sqlio\n",
    "import psycopg2\n",
    "import getpass\n",
    "import csv"
   ]
  },
  {
   "cell_type": "markdown",
   "metadata": {},
   "source": [
    "## 1. Extract mortality"
   ]
  },
  {
   "cell_type": "markdown",
   "metadata": {},
   "source": [
    "#### Alternative 1: sqlite3"
   ]
  },
  {
   "cell_type": "code",
   "execution_count": null,
   "metadata": {},
   "outputs": [],
   "source": [
    "import sqlite3\n",
    "\n",
    "##############################################################################\n",
    "####################### CONNECT TO MIMIC #####################################\n",
    "connection = sqlite3.connect(\"C:\\\\Users\\\\Maria\\\\Desktop\\\\Projects Data Scripts\\\\MIMIC\\\\data\\\\mimic3.db\")\n",
    "\n",
    "#We can verify we successfully created our connection object by running:\n",
    "print(connection.total_changes)\n",
    "# Be sure to close the connection\n",
    "#con.close()\n",
    "\n",
    "# Create our test query\n",
    "test_query = \"\"\"\n",
    "SELECT subject_id, hadm_id, admittime, dischtime, admission_type, diagnosis\n",
    "FROM admissions\n",
    "\"\"\"\n",
    "\n",
    "# Run the query and assign the results to a variable\n",
    "test = pd.read_sql_query(test_query,connection)\n",
    "\n",
    "print(\"TEST:\", test.head())\n",
    "##############################################################################\n",
    "##################### QUERYING, MORTALITY COHORT #############################\n",
    "\n",
    "query = \"\"\"\n",
    "\n",
    "WITH icu_patients AS\n",
    "(\n",
    "SELECT icu.subject_id, icu.hadm_id, icu.icustay_id, pat.DOB, pat.gender, icu.intime \n",
    ", (JulianDay(OUTTIME) - JulianDay(INTIME)) as icu_length_of_stay\n",
    ", (JulianDay(icu.INTIME) - JulianDay(pat.DOB))/ 364.242 as age\n",
    ", adm.hospital_expire_flag , icu.outtime \n",
    ", RANK() OVER (PARTITION BY icu.subject_id ORDER BY icu.intime) AS icustay_id_order \n",
    "\n",
    "\n",
    "FROM icustays icu\n",
    "INNER JOIN patients pat\n",
    "  ON icu.subject_id = pat.subject_id\n",
    "INNER JOIN admissions adm\n",
    "    ON adm.subject_id = icu.subject_id\n",
    "    AND adm.hadm_id = icu.hadm_id\n",
    ")\n",
    "\n",
    "\n",
    "SELECT\n",
    "    fa.subject_id, fa.hadm_id, fa.icustay_id, fa.icustay_id_order, fa.intime as icu_intime, fa.outtime as icu_outtime, fa.DOB, fa.GENDER, fa.age as patient_age, fa.hospital_expire_flag as mortality, fa.icu_length_of_stay\n",
    "  , CASE \n",
    "        WHEN fa.icu_length_of_stay < 2 then 1\n",
    "    ELSE 0 END\n",
    "        as exclusion_los\n",
    "  , CASE\n",
    "        WHEN fa.age < 18 then 1\n",
    "    ELSE 0 END\n",
    "        as exclusion_age\n",
    "FROM icu_patients fa\n",
    "\n",
    "\"\"\"\n",
    "\n",
    "icu = pd.read_sql_query(query, connection)"
   ]
  },
  {
   "cell_type": "code",
   "execution_count": null,
   "metadata": {},
   "outputs": [],
   "source": [
    "mortality_cohort = icu.copy()"
   ]
  },
  {
   "cell_type": "markdown",
   "metadata": {},
   "source": [
    "#### Alternative 2: PostgreSQL"
   ]
  },
  {
   "cell_type": "code",
   "execution_count": 2,
   "metadata": {},
   "outputs": [
    {
     "name": "stdout",
     "output_type": "stream",
     "text": [
      "Enter postgres password········\n"
     ]
    }
   ],
   "source": [
    "# Set up postgres connection\n",
    "conn = psycopg2.connect(\n",
    "    database='mimic', \n",
    "    user='zhwa9764', \n",
    "    password=getpass.getpass(\"Enter postgres password\"), \n",
    "    host='127.0.0.1', \n",
    "    port='5432',\n",
    "    options=f'-c search_path=mimiciii')"
   ]
  },
  {
   "cell_type": "code",
   "execution_count": 3,
   "metadata": {},
   "outputs": [],
   "source": [
    "##################### QUERYING, MORTALITY COHORT #############################\n",
    "query = \"\"\"\n",
    "WITH icu_patients AS\n",
    "(\n",
    "SELECT icu.subject_id, icu.hadm_id, icu.icustay_id, pat.DOB, pat.gender, icu.intime \n",
    ", DATE_PART('day', OUTTIME - INTIME) as icu_length_of_stay\n",
    ", DATE_PART('day', icu.INTIME - pat.DOB) / 364.242 as age\n",
    ", adm.hospital_expire_flag , icu.outtime \n",
    ", RANK() OVER (PARTITION BY icu.subject_id ORDER BY icu.intime) AS icustay_id_order \n",
    "FROM icustays icu\n",
    "INNER JOIN patients pat\n",
    "  ON icu.subject_id = pat.subject_id\n",
    "INNER JOIN admissions adm\n",
    "    ON adm.subject_id = icu.subject_id\n",
    "    AND adm.hadm_id = icu.hadm_id\n",
    ")\n",
    "SELECT\n",
    "    fa.subject_id, fa.hadm_id, fa.icustay_id, fa.icustay_id_order, fa.intime as icu_intime, fa.outtime as icu_outtime, fa.DOB, fa.GENDER, fa.age as patient_age, fa.hospital_expire_flag as mortality, fa.icu_length_of_stay\n",
    "  , CASE \n",
    "        WHEN fa.icu_length_of_stay < 2 then 1\n",
    "    ELSE 0 END\n",
    "        as exclusion_los\n",
    "  , CASE\n",
    "        WHEN fa.age < 18 then 1\n",
    "    ELSE 0 END\n",
    "        as exclusion_age\n",
    "FROM icu_patients fa\n",
    "\"\"\"\n",
    "\n",
    "mortality_cohort = pd.read_sql(query, conn)"
   ]
  },
  {
   "cell_type": "markdown",
   "metadata": {},
   "source": [
    "### Data preprocessing"
   ]
  },
  {
   "cell_type": "code",
   "execution_count": 4,
   "metadata": {},
   "outputs": [
    {
     "data": {
      "text/plain": [
       "(61532, 13)"
      ]
     },
     "execution_count": 4,
     "metadata": {},
     "output_type": "execute_result"
    }
   ],
   "source": [
    "mortality_cohort.shape"
   ]
  },
  {
   "cell_type": "code",
   "execution_count": 5,
   "metadata": {},
   "outputs": [
    {
     "data": {
      "text/html": [
       "<div>\n",
       "<style scoped>\n",
       "    .dataframe tbody tr th:only-of-type {\n",
       "        vertical-align: middle;\n",
       "    }\n",
       "\n",
       "    .dataframe tbody tr th {\n",
       "        vertical-align: top;\n",
       "    }\n",
       "\n",
       "    .dataframe thead th {\n",
       "        text-align: right;\n",
       "    }\n",
       "</style>\n",
       "<table border=\"1\" class=\"dataframe\">\n",
       "  <thead>\n",
       "    <tr style=\"text-align: right;\">\n",
       "      <th></th>\n",
       "      <th>subject_id</th>\n",
       "      <th>hadm_id</th>\n",
       "      <th>icustay_id</th>\n",
       "      <th>icustay_id_order</th>\n",
       "      <th>icu_intime</th>\n",
       "      <th>icu_outtime</th>\n",
       "      <th>dob</th>\n",
       "      <th>gender</th>\n",
       "      <th>patient_age</th>\n",
       "      <th>mortality</th>\n",
       "      <th>icu_length_of_stay</th>\n",
       "      <th>exclusion_los</th>\n",
       "      <th>exclusion_age</th>\n",
       "    </tr>\n",
       "  </thead>\n",
       "  <tbody>\n",
       "    <tr>\n",
       "      <th>0</th>\n",
       "      <td>2</td>\n",
       "      <td>163353</td>\n",
       "      <td>243653</td>\n",
       "      <td>1</td>\n",
       "      <td>2138-07-17 21:20:07</td>\n",
       "      <td>2138-07-17 23:32:21</td>\n",
       "      <td>2138-07-17</td>\n",
       "      <td>M</td>\n",
       "      <td>0.000000</td>\n",
       "      <td>0</td>\n",
       "      <td>0.0</td>\n",
       "      <td>1</td>\n",
       "      <td>1</td>\n",
       "    </tr>\n",
       "    <tr>\n",
       "      <th>1</th>\n",
       "      <td>3</td>\n",
       "      <td>145834</td>\n",
       "      <td>211552</td>\n",
       "      <td>1</td>\n",
       "      <td>2101-10-20 19:10:11</td>\n",
       "      <td>2101-10-26 20:43:09</td>\n",
       "      <td>2025-04-11</td>\n",
       "      <td>M</td>\n",
       "      <td>76.734698</td>\n",
       "      <td>0</td>\n",
       "      <td>6.0</td>\n",
       "      <td>0</td>\n",
       "      <td>0</td>\n",
       "    </tr>\n",
       "    <tr>\n",
       "      <th>2</th>\n",
       "      <td>4</td>\n",
       "      <td>185777</td>\n",
       "      <td>294638</td>\n",
       "      <td>1</td>\n",
       "      <td>2191-03-16 00:29:31</td>\n",
       "      <td>2191-03-17 16:46:31</td>\n",
       "      <td>2143-05-12</td>\n",
       "      <td>F</td>\n",
       "      <td>47.976345</td>\n",
       "      <td>0</td>\n",
       "      <td>1.0</td>\n",
       "      <td>1</td>\n",
       "      <td>0</td>\n",
       "    </tr>\n",
       "    <tr>\n",
       "      <th>3</th>\n",
       "      <td>5</td>\n",
       "      <td>178980</td>\n",
       "      <td>214757</td>\n",
       "      <td>1</td>\n",
       "      <td>2103-02-02 06:04:24</td>\n",
       "      <td>2103-02-02 08:06:00</td>\n",
       "      <td>2103-02-02</td>\n",
       "      <td>M</td>\n",
       "      <td>0.000000</td>\n",
       "      <td>0</td>\n",
       "      <td>0.0</td>\n",
       "      <td>1</td>\n",
       "      <td>1</td>\n",
       "    </tr>\n",
       "    <tr>\n",
       "      <th>4</th>\n",
       "      <td>6</td>\n",
       "      <td>107064</td>\n",
       "      <td>228232</td>\n",
       "      <td>1</td>\n",
       "      <td>2175-05-30 21:30:54</td>\n",
       "      <td>2175-06-03 13:39:54</td>\n",
       "      <td>2109-06-21</td>\n",
       "      <td>F</td>\n",
       "      <td>66.120876</td>\n",
       "      <td>0</td>\n",
       "      <td>3.0</td>\n",
       "      <td>0</td>\n",
       "      <td>0</td>\n",
       "    </tr>\n",
       "  </tbody>\n",
       "</table>\n",
       "</div>"
      ],
      "text/plain": [
       "   subject_id  hadm_id  icustay_id  icustay_id_order          icu_intime  \\\n",
       "0           2   163353      243653                 1 2138-07-17 21:20:07   \n",
       "1           3   145834      211552                 1 2101-10-20 19:10:11   \n",
       "2           4   185777      294638                 1 2191-03-16 00:29:31   \n",
       "3           5   178980      214757                 1 2103-02-02 06:04:24   \n",
       "4           6   107064      228232                 1 2175-05-30 21:30:54   \n",
       "\n",
       "          icu_outtime        dob gender  patient_age  mortality  \\\n",
       "0 2138-07-17 23:32:21 2138-07-17      M     0.000000          0   \n",
       "1 2101-10-26 20:43:09 2025-04-11      M    76.734698          0   \n",
       "2 2191-03-17 16:46:31 2143-05-12      F    47.976345          0   \n",
       "3 2103-02-02 08:06:00 2103-02-02      M     0.000000          0   \n",
       "4 2175-06-03 13:39:54 2109-06-21      F    66.120876          0   \n",
       "\n",
       "   icu_length_of_stay  exclusion_los  exclusion_age  \n",
       "0                 0.0              1              1  \n",
       "1                 6.0              0              0  \n",
       "2                 1.0              1              0  \n",
       "3                 0.0              1              1  \n",
       "4                 3.0              0              0  "
      ]
     },
     "execution_count": 5,
     "metadata": {},
     "output_type": "execute_result"
    }
   ],
   "source": [
    "mortality_cohort.head()"
   ]
  },
  {
   "cell_type": "code",
   "execution_count": 6,
   "metadata": {},
   "outputs": [
    {
     "data": {
      "text/plain": [
       "163281    7\n",
       "186706    7\n",
       "175448    6\n",
       "123178    6\n",
       "109520    6\n",
       "         ..\n",
       "127444    1\n",
       "117203    1\n",
       "119248    1\n",
       "176572    1\n",
       "131072    1\n",
       "Name: hadm_id, Length: 57786, dtype: int64"
      ]
     },
     "execution_count": 6,
     "metadata": {},
     "output_type": "execute_result"
    }
   ],
   "source": [
    "pd.value_counts(mortality_cohort['hadm_id']) # same addmission ids occured more than once: (one admission id could be link to mutiple icu stays)"
   ]
  },
  {
   "cell_type": "markdown",
   "metadata": {},
   "source": [
    "### Extract only the adults, and stay length larger than 1 day"
   ]
  },
  {
   "cell_type": "code",
   "execution_count": 7,
   "metadata": {},
   "outputs": [],
   "source": [
    "adults = mortality_cohort[mortality_cohort['exclusion_age'] == 0]\n",
    "\n",
    "adults = adults.loc[adults['icu_length_of_stay'] >= 1]"
   ]
  },
  {
   "cell_type": "code",
   "execution_count": 8,
   "metadata": {},
   "outputs": [
    {
     "data": {
      "text/plain": [
       "(45256, 13)"
      ]
     },
     "execution_count": 8,
     "metadata": {},
     "output_type": "execute_result"
    }
   ],
   "source": [
    "adults.shape"
   ]
  },
  {
   "cell_type": "code",
   "execution_count": 9,
   "metadata": {},
   "outputs": [
    {
     "data": {
      "text/html": [
       "<div>\n",
       "<style scoped>\n",
       "    .dataframe tbody tr th:only-of-type {\n",
       "        vertical-align: middle;\n",
       "    }\n",
       "\n",
       "    .dataframe tbody tr th {\n",
       "        vertical-align: top;\n",
       "    }\n",
       "\n",
       "    .dataframe thead th {\n",
       "        text-align: right;\n",
       "    }\n",
       "</style>\n",
       "<table border=\"1\" class=\"dataframe\">\n",
       "  <thead>\n",
       "    <tr style=\"text-align: right;\">\n",
       "      <th></th>\n",
       "      <th>subject_id</th>\n",
       "      <th>hadm_id</th>\n",
       "      <th>icustay_id</th>\n",
       "      <th>icustay_id_order</th>\n",
       "      <th>icu_intime</th>\n",
       "      <th>icu_outtime</th>\n",
       "      <th>dob</th>\n",
       "      <th>gender</th>\n",
       "      <th>patient_age</th>\n",
       "      <th>mortality</th>\n",
       "      <th>icu_length_of_stay</th>\n",
       "      <th>exclusion_los</th>\n",
       "      <th>exclusion_age</th>\n",
       "    </tr>\n",
       "  </thead>\n",
       "  <tbody>\n",
       "    <tr>\n",
       "      <th>1</th>\n",
       "      <td>3</td>\n",
       "      <td>145834</td>\n",
       "      <td>211552</td>\n",
       "      <td>1</td>\n",
       "      <td>2101-10-20 19:10:11</td>\n",
       "      <td>2101-10-26 20:43:09</td>\n",
       "      <td>2025-04-11</td>\n",
       "      <td>M</td>\n",
       "      <td>76.734698</td>\n",
       "      <td>0</td>\n",
       "      <td>6.0</td>\n",
       "      <td>0</td>\n",
       "      <td>0</td>\n",
       "    </tr>\n",
       "    <tr>\n",
       "      <th>2</th>\n",
       "      <td>4</td>\n",
       "      <td>185777</td>\n",
       "      <td>294638</td>\n",
       "      <td>1</td>\n",
       "      <td>2191-03-16 00:29:31</td>\n",
       "      <td>2191-03-17 16:46:31</td>\n",
       "      <td>2143-05-12</td>\n",
       "      <td>F</td>\n",
       "      <td>47.976345</td>\n",
       "      <td>0</td>\n",
       "      <td>1.0</td>\n",
       "      <td>1</td>\n",
       "      <td>0</td>\n",
       "    </tr>\n",
       "    <tr>\n",
       "      <th>4</th>\n",
       "      <td>6</td>\n",
       "      <td>107064</td>\n",
       "      <td>228232</td>\n",
       "      <td>1</td>\n",
       "      <td>2175-05-30 21:30:54</td>\n",
       "      <td>2175-06-03 13:39:54</td>\n",
       "      <td>2109-06-21</td>\n",
       "      <td>F</td>\n",
       "      <td>66.120876</td>\n",
       "      <td>0</td>\n",
       "      <td>3.0</td>\n",
       "      <td>0</td>\n",
       "      <td>0</td>\n",
       "    </tr>\n",
       "    <tr>\n",
       "      <th>8</th>\n",
       "      <td>9</td>\n",
       "      <td>150750</td>\n",
       "      <td>220597</td>\n",
       "      <td>1</td>\n",
       "      <td>2149-11-09 13:07:02</td>\n",
       "      <td>2149-11-14 20:52:14</td>\n",
       "      <td>2108-01-26</td>\n",
       "      <td>M</td>\n",
       "      <td>41.903460</td>\n",
       "      <td>1</td>\n",
       "      <td>5.0</td>\n",
       "      <td>0</td>\n",
       "      <td>0</td>\n",
       "    </tr>\n",
       "    <tr>\n",
       "      <th>10</th>\n",
       "      <td>11</td>\n",
       "      <td>194540</td>\n",
       "      <td>229441</td>\n",
       "      <td>1</td>\n",
       "      <td>2178-04-16 06:19:32</td>\n",
       "      <td>2178-04-17 20:21:05</td>\n",
       "      <td>2128-02-22</td>\n",
       "      <td>F</td>\n",
       "      <td>50.285250</td>\n",
       "      <td>0</td>\n",
       "      <td>1.0</td>\n",
       "      <td>1</td>\n",
       "      <td>0</td>\n",
       "    </tr>\n",
       "  </tbody>\n",
       "</table>\n",
       "</div>"
      ],
      "text/plain": [
       "    subject_id  hadm_id  icustay_id  icustay_id_order          icu_intime  \\\n",
       "1            3   145834      211552                 1 2101-10-20 19:10:11   \n",
       "2            4   185777      294638                 1 2191-03-16 00:29:31   \n",
       "4            6   107064      228232                 1 2175-05-30 21:30:54   \n",
       "8            9   150750      220597                 1 2149-11-09 13:07:02   \n",
       "10          11   194540      229441                 1 2178-04-16 06:19:32   \n",
       "\n",
       "           icu_outtime        dob gender  patient_age  mortality  \\\n",
       "1  2101-10-26 20:43:09 2025-04-11      M    76.734698          0   \n",
       "2  2191-03-17 16:46:31 2143-05-12      F    47.976345          0   \n",
       "4  2175-06-03 13:39:54 2109-06-21      F    66.120876          0   \n",
       "8  2149-11-14 20:52:14 2108-01-26      M    41.903460          1   \n",
       "10 2178-04-17 20:21:05 2128-02-22      F    50.285250          0   \n",
       "\n",
       "    icu_length_of_stay  exclusion_los  exclusion_age  \n",
       "1                  6.0              0              0  \n",
       "2                  1.0              1              0  \n",
       "4                  3.0              0              0  \n",
       "8                  5.0              0              0  \n",
       "10                 1.0              1              0  "
      ]
     },
     "execution_count": 9,
     "metadata": {},
     "output_type": "execute_result"
    }
   ],
   "source": [
    "adults.head()"
   ]
  },
  {
   "cell_type": "code",
   "execution_count": 10,
   "metadata": {},
   "outputs": [
    {
     "data": {
      "text/plain": [
       "0    39895\n",
       "1     5361\n",
       "Name: mortality, dtype: int64"
      ]
     },
     "execution_count": 10,
     "metadata": {},
     "output_type": "execute_result"
    }
   ],
   "source": [
    "pd.value_counts(adults['mortality'])"
   ]
  },
  {
   "cell_type": "code",
   "execution_count": 11,
   "metadata": {},
   "outputs": [
    {
     "data": {
      "text/plain": [
       "0"
      ]
     },
     "execution_count": 11,
     "metadata": {},
     "output_type": "execute_result"
    }
   ],
   "source": [
    "# check if there is any duplicate in the table\n",
    "sum(adults.duplicated())"
   ]
  },
  {
   "cell_type": "markdown",
   "metadata": {},
   "source": [
    "### Filter to get positive and negative mortality patients separately"
   ]
  },
  {
   "cell_type": "code",
   "execution_count": 12,
   "metadata": {
    "scrolled": true
   },
   "outputs": [
    {
     "data": {
      "text/html": [
       "<div>\n",
       "<style scoped>\n",
       "    .dataframe tbody tr th:only-of-type {\n",
       "        vertical-align: middle;\n",
       "    }\n",
       "\n",
       "    .dataframe tbody tr th {\n",
       "        vertical-align: top;\n",
       "    }\n",
       "\n",
       "    .dataframe thead th {\n",
       "        text-align: right;\n",
       "    }\n",
       "</style>\n",
       "<table border=\"1\" class=\"dataframe\">\n",
       "  <thead>\n",
       "    <tr style=\"text-align: right;\">\n",
       "      <th></th>\n",
       "      <th>subject_id</th>\n",
       "      <th>hadm_id</th>\n",
       "      <th>icustay_id</th>\n",
       "      <th>icustay_id_order</th>\n",
       "      <th>icu_intime</th>\n",
       "      <th>icu_outtime</th>\n",
       "      <th>dob</th>\n",
       "      <th>gender</th>\n",
       "      <th>patient_age</th>\n",
       "      <th>mortality</th>\n",
       "      <th>icu_length_of_stay</th>\n",
       "      <th>exclusion_los</th>\n",
       "      <th>exclusion_age</th>\n",
       "    </tr>\n",
       "  </thead>\n",
       "  <tbody>\n",
       "    <tr>\n",
       "      <th>8</th>\n",
       "      <td>9</td>\n",
       "      <td>150750</td>\n",
       "      <td>220597</td>\n",
       "      <td>1</td>\n",
       "      <td>2149-11-09 13:07:02</td>\n",
       "      <td>2149-11-14 20:52:14</td>\n",
       "      <td>2108-01-26</td>\n",
       "      <td>M</td>\n",
       "      <td>41.903460</td>\n",
       "      <td>1</td>\n",
       "      <td>5.0</td>\n",
       "      <td>0</td>\n",
       "      <td>0</td>\n",
       "    </tr>\n",
       "    <tr>\n",
       "      <th>11</th>\n",
       "      <td>12</td>\n",
       "      <td>112213</td>\n",
       "      <td>232669</td>\n",
       "      <td>1</td>\n",
       "      <td>2104-08-08 02:08:17</td>\n",
       "      <td>2104-08-15 17:22:25</td>\n",
       "      <td>2032-03-24</td>\n",
       "      <td>M</td>\n",
       "      <td>72.572630</td>\n",
       "      <td>1</td>\n",
       "      <td>7.0</td>\n",
       "      <td>0</td>\n",
       "      <td>0</td>\n",
       "    </tr>\n",
       "    <tr>\n",
       "      <th>20</th>\n",
       "      <td>21</td>\n",
       "      <td>111970</td>\n",
       "      <td>216859</td>\n",
       "      <td>2</td>\n",
       "      <td>2135-01-30 20:53:34</td>\n",
       "      <td>2135-02-08 05:38:46</td>\n",
       "      <td>2047-04-04</td>\n",
       "      <td>M</td>\n",
       "      <td>88.065078</td>\n",
       "      <td>1</td>\n",
       "      <td>8.0</td>\n",
       "      <td>0</td>\n",
       "      <td>0</td>\n",
       "    </tr>\n",
       "    <tr>\n",
       "      <th>30</th>\n",
       "      <td>31</td>\n",
       "      <td>128652</td>\n",
       "      <td>254478</td>\n",
       "      <td>1</td>\n",
       "      <td>2108-08-22 23:28:42</td>\n",
       "      <td>2108-08-30 21:59:20</td>\n",
       "      <td>2036-05-17</td>\n",
       "      <td>M</td>\n",
       "      <td>72.462813</td>\n",
       "      <td>1</td>\n",
       "      <td>7.0</td>\n",
       "      <td>0</td>\n",
       "      <td>0</td>\n",
       "    </tr>\n",
       "    <tr>\n",
       "      <th>56</th>\n",
       "      <td>56</td>\n",
       "      <td>181711</td>\n",
       "      <td>275642</td>\n",
       "      <td>1</td>\n",
       "      <td>2104-01-02 02:02:39</td>\n",
       "      <td>2104-01-03 22:25:29</td>\n",
       "      <td>1804-01-02</td>\n",
       "      <td>F</td>\n",
       "      <td>300.824726</td>\n",
       "      <td>1</td>\n",
       "      <td>1.0</td>\n",
       "      <td>1</td>\n",
       "      <td>0</td>\n",
       "    </tr>\n",
       "  </tbody>\n",
       "</table>\n",
       "</div>"
      ],
      "text/plain": [
       "    subject_id  hadm_id  icustay_id  icustay_id_order          icu_intime  \\\n",
       "8            9   150750      220597                 1 2149-11-09 13:07:02   \n",
       "11          12   112213      232669                 1 2104-08-08 02:08:17   \n",
       "20          21   111970      216859                 2 2135-01-30 20:53:34   \n",
       "30          31   128652      254478                 1 2108-08-22 23:28:42   \n",
       "56          56   181711      275642                 1 2104-01-02 02:02:39   \n",
       "\n",
       "           icu_outtime        dob gender  patient_age  mortality  \\\n",
       "8  2149-11-14 20:52:14 2108-01-26      M    41.903460          1   \n",
       "11 2104-08-15 17:22:25 2032-03-24      M    72.572630          1   \n",
       "20 2135-02-08 05:38:46 2047-04-04      M    88.065078          1   \n",
       "30 2108-08-30 21:59:20 2036-05-17      M    72.462813          1   \n",
       "56 2104-01-03 22:25:29 1804-01-02      F   300.824726          1   \n",
       "\n",
       "    icu_length_of_stay  exclusion_los  exclusion_age  \n",
       "8                  5.0              0              0  \n",
       "11                 7.0              0              0  \n",
       "20                 8.0              0              0  \n",
       "30                 7.0              0              0  \n",
       "56                 1.0              1              0  "
      ]
     },
     "execution_count": 12,
     "metadata": {},
     "output_type": "execute_result"
    }
   ],
   "source": [
    "# select the max of icustay order (last admission stay) with the positive mortality \n",
    "# pos_filter = adults[adults['mortality']==1].groupby(['subject_id'])['icustay_id_order'].idxmax() \n",
    "patient_mortality = (adults.groupby(['subject_id'])['mortality'].max() == 1).reset_index()\n",
    "pos_patient_set = set(patient_mortality[patient_mortality['mortality']==True]['subject_id'])\n",
    "\n",
    "pos_filter = adults[adults['subject_id'].isin(pos_patient_set)].groupby(['subject_id'])['icustay_id_order'].idxmax() \n",
    "pos_adults = adults.loc[pos_filter]\n",
    "\n",
    "pos_adults.head()"
   ]
  },
  {
   "cell_type": "code",
   "execution_count": 13,
   "metadata": {},
   "outputs": [
    {
     "data": {
      "text/plain": [
       "(4774, 13)"
      ]
     },
     "execution_count": 13,
     "metadata": {},
     "output_type": "execute_result"
    }
   ],
   "source": [
    "pos_adults.shape"
   ]
  },
  {
   "cell_type": "code",
   "execution_count": 14,
   "metadata": {},
   "outputs": [],
   "source": [
    "pos_adm_set = set(pos_adults['hadm_id'])"
   ]
  },
  {
   "cell_type": "code",
   "execution_count": 15,
   "metadata": {},
   "outputs": [
    {
     "data": {
      "text/html": [
       "<div>\n",
       "<style scoped>\n",
       "    .dataframe tbody tr th:only-of-type {\n",
       "        vertical-align: middle;\n",
       "    }\n",
       "\n",
       "    .dataframe tbody tr th {\n",
       "        vertical-align: top;\n",
       "    }\n",
       "\n",
       "    .dataframe thead th {\n",
       "        text-align: right;\n",
       "    }\n",
       "</style>\n",
       "<table border=\"1\" class=\"dataframe\">\n",
       "  <thead>\n",
       "    <tr style=\"text-align: right;\">\n",
       "      <th></th>\n",
       "      <th>subject_id</th>\n",
       "      <th>hadm_id</th>\n",
       "      <th>icustay_id</th>\n",
       "      <th>icustay_id_order</th>\n",
       "      <th>icu_intime</th>\n",
       "      <th>icu_outtime</th>\n",
       "      <th>dob</th>\n",
       "      <th>gender</th>\n",
       "      <th>patient_age</th>\n",
       "      <th>mortality</th>\n",
       "      <th>icu_length_of_stay</th>\n",
       "      <th>exclusion_los</th>\n",
       "      <th>exclusion_age</th>\n",
       "    </tr>\n",
       "  </thead>\n",
       "  <tbody>\n",
       "    <tr>\n",
       "      <th>1</th>\n",
       "      <td>3</td>\n",
       "      <td>145834</td>\n",
       "      <td>211552</td>\n",
       "      <td>1</td>\n",
       "      <td>2101-10-20 19:10:11</td>\n",
       "      <td>2101-10-26 20:43:09</td>\n",
       "      <td>2025-04-11</td>\n",
       "      <td>M</td>\n",
       "      <td>76.734698</td>\n",
       "      <td>0</td>\n",
       "      <td>6.0</td>\n",
       "      <td>0</td>\n",
       "      <td>0</td>\n",
       "    </tr>\n",
       "    <tr>\n",
       "      <th>2</th>\n",
       "      <td>4</td>\n",
       "      <td>185777</td>\n",
       "      <td>294638</td>\n",
       "      <td>1</td>\n",
       "      <td>2191-03-16 00:29:31</td>\n",
       "      <td>2191-03-17 16:46:31</td>\n",
       "      <td>2143-05-12</td>\n",
       "      <td>F</td>\n",
       "      <td>47.976345</td>\n",
       "      <td>0</td>\n",
       "      <td>1.0</td>\n",
       "      <td>1</td>\n",
       "      <td>0</td>\n",
       "    </tr>\n",
       "    <tr>\n",
       "      <th>4</th>\n",
       "      <td>6</td>\n",
       "      <td>107064</td>\n",
       "      <td>228232</td>\n",
       "      <td>1</td>\n",
       "      <td>2175-05-30 21:30:54</td>\n",
       "      <td>2175-06-03 13:39:54</td>\n",
       "      <td>2109-06-21</td>\n",
       "      <td>F</td>\n",
       "      <td>66.120876</td>\n",
       "      <td>0</td>\n",
       "      <td>3.0</td>\n",
       "      <td>0</td>\n",
       "      <td>0</td>\n",
       "    </tr>\n",
       "    <tr>\n",
       "      <th>10</th>\n",
       "      <td>11</td>\n",
       "      <td>194540</td>\n",
       "      <td>229441</td>\n",
       "      <td>1</td>\n",
       "      <td>2178-04-16 06:19:32</td>\n",
       "      <td>2178-04-17 20:21:05</td>\n",
       "      <td>2128-02-22</td>\n",
       "      <td>F</td>\n",
       "      <td>50.285250</td>\n",
       "      <td>0</td>\n",
       "      <td>1.0</td>\n",
       "      <td>1</td>\n",
       "      <td>0</td>\n",
       "    </tr>\n",
       "    <tr>\n",
       "      <th>12</th>\n",
       "      <td>13</td>\n",
       "      <td>143045</td>\n",
       "      <td>263738</td>\n",
       "      <td>1</td>\n",
       "      <td>2167-01-08 18:44:25</td>\n",
       "      <td>2167-01-12 10:43:31</td>\n",
       "      <td>2127-02-27</td>\n",
       "      <td>F</td>\n",
       "      <td>39.973424</td>\n",
       "      <td>0</td>\n",
       "      <td>3.0</td>\n",
       "      <td>0</td>\n",
       "      <td>0</td>\n",
       "    </tr>\n",
       "  </tbody>\n",
       "</table>\n",
       "</div>"
      ],
      "text/plain": [
       "    subject_id  hadm_id  icustay_id  icustay_id_order          icu_intime  \\\n",
       "1            3   145834      211552                 1 2101-10-20 19:10:11   \n",
       "2            4   185777      294638                 1 2191-03-16 00:29:31   \n",
       "4            6   107064      228232                 1 2175-05-30 21:30:54   \n",
       "10          11   194540      229441                 1 2178-04-16 06:19:32   \n",
       "12          13   143045      263738                 1 2167-01-08 18:44:25   \n",
       "\n",
       "           icu_outtime        dob gender  patient_age  mortality  \\\n",
       "1  2101-10-26 20:43:09 2025-04-11      M    76.734698          0   \n",
       "2  2191-03-17 16:46:31 2143-05-12      F    47.976345          0   \n",
       "4  2175-06-03 13:39:54 2109-06-21      F    66.120876          0   \n",
       "10 2178-04-17 20:21:05 2128-02-22      F    50.285250          0   \n",
       "12 2167-01-12 10:43:31 2127-02-27      F    39.973424          0   \n",
       "\n",
       "    icu_length_of_stay  exclusion_los  exclusion_age  \n",
       "1                  6.0              0              0  \n",
       "2                  1.0              1              0  \n",
       "4                  3.0              0              0  \n",
       "10                 1.0              1              0  \n",
       "12                 3.0              0              0  "
      ]
     },
     "execution_count": 15,
     "metadata": {},
     "output_type": "execute_result"
    }
   ],
   "source": [
    "# select the mix of icustay order (first admission stay) with the negative mortality \n",
    "# neg_filter = adults[adults['mortality']==0].groupby(['subject_id'])['icustay_id_order'].idxmin() \n",
    "\n",
    "neg_patient_set = set(patient_mortality[patient_mortality['mortality']==False]['subject_id'])\n",
    "\n",
    "neg_filter = adults[adults['subject_id'].isin(neg_patient_set)].groupby(['subject_id'])['icustay_id_order'].idxmin() \n",
    "neg_adults = adults.loc[neg_filter]\n",
    "\n",
    "neg_adults.head()"
   ]
  },
  {
   "cell_type": "code",
   "execution_count": 16,
   "metadata": {},
   "outputs": [
    {
     "data": {
      "text/plain": [
       "(28790, 13)"
      ]
     },
     "execution_count": 16,
     "metadata": {},
     "output_type": "execute_result"
    }
   ],
   "source": [
    "neg_adults.shape"
   ]
  },
  {
   "cell_type": "code",
   "execution_count": 17,
   "metadata": {},
   "outputs": [
    {
     "data": {
      "text/plain": [
       "141307    1\n",
       "190038    1\n",
       "167323    1\n",
       "173470    1\n",
       "190189    1\n",
       "         ..\n",
       "127659    1\n",
       "182956    1\n",
       "180909    1\n",
       "187054    1\n",
       "131072    1\n",
       "Name: hadm_id, Length: 28790, dtype: int64"
      ]
     },
     "execution_count": 17,
     "metadata": {},
     "output_type": "execute_result"
    }
   ],
   "source": [
    "pd.value_counts(neg_adults['hadm_id'])"
   ]
  },
  {
   "cell_type": "code",
   "execution_count": 18,
   "metadata": {},
   "outputs": [],
   "source": [
    "neg_adm_set = set(neg_adults['hadm_id'])"
   ]
  },
  {
   "cell_type": "markdown",
   "metadata": {},
   "source": [
    "#### Check if there is any patient appearing in both negative or positive sets"
   ]
  },
  {
   "cell_type": "code",
   "execution_count": 19,
   "metadata": {},
   "outputs": [],
   "source": [
    "set1 = set(pos_adults['subject_id'].reset_index(drop=True))\n",
    "set2 = set(neg_adults['subject_id'].reset_index(drop=True))"
   ]
  },
  {
   "cell_type": "code",
   "execution_count": 20,
   "metadata": {},
   "outputs": [
    {
     "data": {
      "text/plain": [
       "0"
      ]
     },
     "execution_count": 20,
     "metadata": {},
     "output_type": "execute_result"
    }
   ],
   "source": [
    "len(list(set1 & set2))"
   ]
  },
  {
   "cell_type": "markdown",
   "metadata": {},
   "source": [
    "## 2. Get clinical texts"
   ]
  },
  {
   "cell_type": "code",
   "execution_count": 21,
   "metadata": {},
   "outputs": [],
   "source": [
    "texts = pd.read_sql(\n",
    "    \"\"\"\n",
    "    SELECT hadm_id, subject_id, chartdate, category, description, text\n",
    "    FROM noteevents;\n",
    "    \"\"\", conn)"
   ]
  },
  {
   "cell_type": "code",
   "execution_count": 22,
   "metadata": {},
   "outputs": [
    {
     "data": {
      "text/html": [
       "<div>\n",
       "<style scoped>\n",
       "    .dataframe tbody tr th:only-of-type {\n",
       "        vertical-align: middle;\n",
       "    }\n",
       "\n",
       "    .dataframe tbody tr th {\n",
       "        vertical-align: top;\n",
       "    }\n",
       "\n",
       "    .dataframe thead th {\n",
       "        text-align: right;\n",
       "    }\n",
       "</style>\n",
       "<table border=\"1\" class=\"dataframe\">\n",
       "  <thead>\n",
       "    <tr style=\"text-align: right;\">\n",
       "      <th></th>\n",
       "      <th>hadm_id</th>\n",
       "      <th>subject_id</th>\n",
       "      <th>chartdate</th>\n",
       "      <th>category</th>\n",
       "      <th>description</th>\n",
       "      <th>text</th>\n",
       "    </tr>\n",
       "  </thead>\n",
       "  <tbody>\n",
       "    <tr>\n",
       "      <th>0</th>\n",
       "      <td>167853.0</td>\n",
       "      <td>22532</td>\n",
       "      <td>2151-08-04</td>\n",
       "      <td>Discharge summary</td>\n",
       "      <td>Report</td>\n",
       "      <td>Admission Date:  [**2151-7-16**]       Dischar...</td>\n",
       "    </tr>\n",
       "    <tr>\n",
       "      <th>1</th>\n",
       "      <td>107527.0</td>\n",
       "      <td>13702</td>\n",
       "      <td>2118-06-14</td>\n",
       "      <td>Discharge summary</td>\n",
       "      <td>Report</td>\n",
       "      <td>Admission Date:  [**2118-6-2**]       Discharg...</td>\n",
       "    </tr>\n",
       "    <tr>\n",
       "      <th>2</th>\n",
       "      <td>167118.0</td>\n",
       "      <td>13702</td>\n",
       "      <td>2119-05-25</td>\n",
       "      <td>Discharge summary</td>\n",
       "      <td>Report</td>\n",
       "      <td>Admission Date:  [**2119-5-4**]              D...</td>\n",
       "    </tr>\n",
       "    <tr>\n",
       "      <th>3</th>\n",
       "      <td>196489.0</td>\n",
       "      <td>13702</td>\n",
       "      <td>2124-08-18</td>\n",
       "      <td>Discharge summary</td>\n",
       "      <td>Report</td>\n",
       "      <td>Admission Date:  [**2124-7-21**]              ...</td>\n",
       "    </tr>\n",
       "    <tr>\n",
       "      <th>4</th>\n",
       "      <td>135453.0</td>\n",
       "      <td>26880</td>\n",
       "      <td>2162-03-25</td>\n",
       "      <td>Discharge summary</td>\n",
       "      <td>Report</td>\n",
       "      <td>Admission Date:  [**2162-3-3**]              D...</td>\n",
       "    </tr>\n",
       "  </tbody>\n",
       "</table>\n",
       "</div>"
      ],
      "text/plain": [
       "    hadm_id  subject_id  chartdate           category description  \\\n",
       "0  167853.0       22532 2151-08-04  Discharge summary      Report   \n",
       "1  107527.0       13702 2118-06-14  Discharge summary      Report   \n",
       "2  167118.0       13702 2119-05-25  Discharge summary      Report   \n",
       "3  196489.0       13702 2124-08-18  Discharge summary      Report   \n",
       "4  135453.0       26880 2162-03-25  Discharge summary      Report   \n",
       "\n",
       "                                                text  \n",
       "0  Admission Date:  [**2151-7-16**]       Dischar...  \n",
       "1  Admission Date:  [**2118-6-2**]       Discharg...  \n",
       "2  Admission Date:  [**2119-5-4**]              D...  \n",
       "3  Admission Date:  [**2124-7-21**]              ...  \n",
       "4  Admission Date:  [**2162-3-3**]              D...  "
      ]
     },
     "execution_count": 22,
     "metadata": {},
     "output_type": "execute_result"
    }
   ],
   "source": [
    "texts.head()"
   ]
  },
  {
   "cell_type": "code",
   "execution_count": 23,
   "metadata": {},
   "outputs": [
    {
     "data": {
      "text/plain": [
       "(2083180, 6)"
      ]
     },
     "execution_count": 23,
     "metadata": {},
     "output_type": "execute_result"
    }
   ],
   "source": [
    "texts.shape"
   ]
  },
  {
   "cell_type": "code",
   "execution_count": 24,
   "metadata": {},
   "outputs": [
    {
     "data": {
      "text/plain": [
       "Nursing/other        822497\n",
       "Radiology            522279\n",
       "Nursing              223556\n",
       "ECG                  209051\n",
       "Physician            141624\n",
       "Discharge summary     59652\n",
       "Echo                  45794\n",
       "Respiratory           31739\n",
       "Nutrition              9418\n",
       "General                8301\n",
       "Rehab Services         5431\n",
       "Social Work            2670\n",
       "Case Management         967\n",
       "Pharmacy                103\n",
       "Consult                  98\n",
       "Name: category, dtype: int64"
      ]
     },
     "execution_count": 24,
     "metadata": {},
     "output_type": "execute_result"
    }
   ],
   "source": [
    "pd.value_counts(texts['category'])"
   ]
  },
  {
   "cell_type": "code",
   "execution_count": 25,
   "metadata": {},
   "outputs": [],
   "source": [
    "category_set = {'Nursing/other', 'Radiology', 'Nursing', 'ECG', 'Physician '}\n",
    "\n",
    "filtered_texts = texts[texts['category'].isin(category_set)]\n"
   ]
  },
  {
   "cell_type": "code",
   "execution_count": 26,
   "metadata": {},
   "outputs": [
    {
     "data": {
      "text/html": [
       "<div>\n",
       "<style scoped>\n",
       "    .dataframe tbody tr th:only-of-type {\n",
       "        vertical-align: middle;\n",
       "    }\n",
       "\n",
       "    .dataframe tbody tr th {\n",
       "        vertical-align: top;\n",
       "    }\n",
       "\n",
       "    .dataframe thead th {\n",
       "        text-align: right;\n",
       "    }\n",
       "</style>\n",
       "<table border=\"1\" class=\"dataframe\">\n",
       "  <thead>\n",
       "    <tr style=\"text-align: right;\">\n",
       "      <th></th>\n",
       "      <th>hadm_id</th>\n",
       "      <th>subject_id</th>\n",
       "      <th>chartdate</th>\n",
       "      <th>category</th>\n",
       "      <th>description</th>\n",
       "      <th>text</th>\n",
       "    </tr>\n",
       "  </thead>\n",
       "  <tbody>\n",
       "    <tr>\n",
       "      <th>52134</th>\n",
       "      <td>119078.0</td>\n",
       "      <td>13289</td>\n",
       "      <td>2103-07-28</td>\n",
       "      <td>ECG</td>\n",
       "      <td>Report</td>\n",
       "      <td>Sinus tachycardia\\nShort PR interval\\nPossible...</td>\n",
       "    </tr>\n",
       "    <tr>\n",
       "      <th>93978</th>\n",
       "      <td>187620.0</td>\n",
       "      <td>6541</td>\n",
       "      <td>2133-03-13</td>\n",
       "      <td>ECG</td>\n",
       "      <td>Report</td>\n",
       "      <td>Sinus bradycardia\\n\\nNormal ECG except for rat...</td>\n",
       "    </tr>\n",
       "    <tr>\n",
       "      <th>93984</th>\n",
       "      <td>156154.0</td>\n",
       "      <td>26175</td>\n",
       "      <td>2112-05-03</td>\n",
       "      <td>ECG</td>\n",
       "      <td>Report</td>\n",
       "      <td>Compared to the previous tracing of [**2112-4-...</td>\n",
       "    </tr>\n",
       "    <tr>\n",
       "      <th>94000</th>\n",
       "      <td>NaN</td>\n",
       "      <td>5445</td>\n",
       "      <td>2128-08-27</td>\n",
       "      <td>ECG</td>\n",
       "      <td>Report</td>\n",
       "      <td>Sinus bradycardia, rate 57. Left atrial abnorm...</td>\n",
       "    </tr>\n",
       "    <tr>\n",
       "      <th>94001</th>\n",
       "      <td>170426.0</td>\n",
       "      <td>21892</td>\n",
       "      <td>2138-01-28</td>\n",
       "      <td>ECG</td>\n",
       "      <td>Report</td>\n",
       "      <td>Sinus tachycardia. Otherwise, normal tracing. ...</td>\n",
       "    </tr>\n",
       "  </tbody>\n",
       "</table>\n",
       "</div>"
      ],
      "text/plain": [
       "        hadm_id  subject_id  chartdate category description  \\\n",
       "52134  119078.0       13289 2103-07-28      ECG      Report   \n",
       "93978  187620.0        6541 2133-03-13      ECG      Report   \n",
       "93984  156154.0       26175 2112-05-03      ECG      Report   \n",
       "94000       NaN        5445 2128-08-27      ECG      Report   \n",
       "94001  170426.0       21892 2138-01-28      ECG      Report   \n",
       "\n",
       "                                                    text  \n",
       "52134  Sinus tachycardia\\nShort PR interval\\nPossible...  \n",
       "93978  Sinus bradycardia\\n\\nNormal ECG except for rat...  \n",
       "93984  Compared to the previous tracing of [**2112-4-...  \n",
       "94000  Sinus bradycardia, rate 57. Left atrial abnorm...  \n",
       "94001  Sinus tachycardia. Otherwise, normal tracing. ...  "
      ]
     },
     "execution_count": 26,
     "metadata": {},
     "output_type": "execute_result"
    }
   ],
   "source": [
    "filtered_texts.head()"
   ]
  },
  {
   "cell_type": "code",
   "execution_count": 27,
   "metadata": {},
   "outputs": [
    {
     "data": {
      "text/plain": [
       "Nursing/other    822497\n",
       "Radiology        522279\n",
       "Nursing          223556\n",
       "ECG              209051\n",
       "Physician        141624\n",
       "Name: category, dtype: int64"
      ]
     },
     "execution_count": 27,
     "metadata": {},
     "output_type": "execute_result"
    }
   ],
   "source": [
    "pd.value_counts(filtered_texts['category'])"
   ]
  },
  {
   "cell_type": "code",
   "execution_count": 28,
   "metadata": {},
   "outputs": [],
   "source": [
    "texts_by_adm = filtered_texts.groupby(['hadm_id']).apply(lambda x: x['text']).reset_index(level=[1], drop=True).reset_index()"
   ]
  },
  {
   "cell_type": "code",
   "execution_count": 29,
   "metadata": {},
   "outputs": [],
   "source": [
    "joined_texts = texts_by_adm.groupby(['hadm_id'])['text'].apply(lambda x: ','.join(x)).reset_index()"
   ]
  },
  {
   "cell_type": "code",
   "execution_count": 30,
   "metadata": {},
   "outputs": [
    {
     "data": {
      "text/html": [
       "<div>\n",
       "<style scoped>\n",
       "    .dataframe tbody tr th:only-of-type {\n",
       "        vertical-align: middle;\n",
       "    }\n",
       "\n",
       "    .dataframe tbody tr th {\n",
       "        vertical-align: top;\n",
       "    }\n",
       "\n",
       "    .dataframe thead th {\n",
       "        text-align: right;\n",
       "    }\n",
       "</style>\n",
       "<table border=\"1\" class=\"dataframe\">\n",
       "  <thead>\n",
       "    <tr style=\"text-align: right;\">\n",
       "      <th></th>\n",
       "      <th>hadm_id</th>\n",
       "      <th>text</th>\n",
       "    </tr>\n",
       "  </thead>\n",
       "  <tbody>\n",
       "    <tr>\n",
       "      <th>0</th>\n",
       "      <td>100001.0</td>\n",
       "      <td>[**2117-9-11**] 11:12 AM\\n CHEST (PA &amp; LAT)   ...</td>\n",
       "    </tr>\n",
       "    <tr>\n",
       "      <th>1</th>\n",
       "      <td>100003.0</td>\n",
       "      <td>Sinus rhythm\\nProlonged QT interval is nonspec...</td>\n",
       "    </tr>\n",
       "    <tr>\n",
       "      <th>2</th>\n",
       "      <td>100006.0</td>\n",
       "      <td>Sinus tachycardia\\nLeft axis deviation - anter...</td>\n",
       "    </tr>\n",
       "    <tr>\n",
       "      <th>3</th>\n",
       "      <td>100007.0</td>\n",
       "      <td>Sinus rhythm\\nAtrial premature complex\\nConsid...</td>\n",
       "    </tr>\n",
       "    <tr>\n",
       "      <th>4</th>\n",
       "      <td>100009.0</td>\n",
       "      <td>Sinus bradycardia.  Left atrial abnormality.  ...</td>\n",
       "    </tr>\n",
       "  </tbody>\n",
       "</table>\n",
       "</div>"
      ],
      "text/plain": [
       "    hadm_id                                               text\n",
       "0  100001.0  [**2117-9-11**] 11:12 AM\\n CHEST (PA & LAT)   ...\n",
       "1  100003.0  Sinus rhythm\\nProlonged QT interval is nonspec...\n",
       "2  100006.0  Sinus tachycardia\\nLeft axis deviation - anter...\n",
       "3  100007.0  Sinus rhythm\\nAtrial premature complex\\nConsid...\n",
       "4  100009.0  Sinus bradycardia.  Left atrial abnormality.  ..."
      ]
     },
     "execution_count": 30,
     "metadata": {},
     "output_type": "execute_result"
    }
   ],
   "source": [
    "joined_texts.head()"
   ]
  },
  {
   "cell_type": "code",
   "execution_count": 31,
   "metadata": {},
   "outputs": [
    {
     "data": {
      "text/plain": [
       "(58006, 2)"
      ]
     },
     "execution_count": 31,
     "metadata": {},
     "output_type": "execute_result"
    }
   ],
   "source": [
    "joined_texts.shape"
   ]
  },
  {
   "cell_type": "code",
   "execution_count": 32,
   "metadata": {},
   "outputs": [
    {
     "name": "stderr",
     "output_type": "stream",
     "text": [
      "/usr/local/lib/python3.7/site-packages/ipykernel_launcher.py:2: SettingWithCopyWarning: \n",
      "A value is trying to be set on a copy of a slice from a DataFrame.\n",
      "Try using .loc[row_indexer,col_indexer] = value instead\n",
      "\n",
      "See the caveats in the documentation: https://pandas.pydata.org/pandas-docs/stable/user_guide/indexing.html#returning-a-view-versus-a-copy\n",
      "  \n",
      "/usr/local/lib/python3.7/site-packages/ipykernel_launcher.py:5: SettingWithCopyWarning: \n",
      "A value is trying to be set on a copy of a slice from a DataFrame.\n",
      "Try using .loc[row_indexer,col_indexer] = value instead\n",
      "\n",
      "See the caveats in the documentation: https://pandas.pydata.org/pandas-docs/stable/user_guide/indexing.html#returning-a-view-versus-a-copy\n",
      "  \"\"\"\n"
     ]
    }
   ],
   "source": [
    "pos_texts = joined_texts[joined_texts['hadm_id'].isin(pos_adm_set)]\n",
    "pos_texts['label'] = [1 for i in range(pos_texts.shape[0])]\n",
    "\n",
    "neg_texts = joined_texts[joined_texts['hadm_id'].isin(neg_adm_set)]\n",
    "neg_texts['label'] = [0 for i in range(neg_texts.shape[0])]\n"
   ]
  },
  {
   "cell_type": "code",
   "execution_count": 33,
   "metadata": {},
   "outputs": [
    {
     "data": {
      "text/plain": [
       "(4602, 3)"
      ]
     },
     "execution_count": 33,
     "metadata": {},
     "output_type": "execute_result"
    }
   ],
   "source": [
    "pos_texts.shape"
   ]
  },
  {
   "cell_type": "code",
   "execution_count": 34,
   "metadata": {},
   "outputs": [
    {
     "data": {
      "text/plain": [
       "(28639, 3)"
      ]
     },
     "execution_count": 34,
     "metadata": {},
     "output_type": "execute_result"
    }
   ],
   "source": [
    "neg_texts.shape"
   ]
  },
  {
   "cell_type": "code",
   "execution_count": 35,
   "metadata": {},
   "outputs": [
    {
     "data": {
      "text/html": [
       "<div>\n",
       "<style scoped>\n",
       "    .dataframe tbody tr th:only-of-type {\n",
       "        vertical-align: middle;\n",
       "    }\n",
       "\n",
       "    .dataframe tbody tr th {\n",
       "        vertical-align: top;\n",
       "    }\n",
       "\n",
       "    .dataframe thead th {\n",
       "        text-align: right;\n",
       "    }\n",
       "</style>\n",
       "<table border=\"1\" class=\"dataframe\">\n",
       "  <thead>\n",
       "    <tr style=\"text-align: right;\">\n",
       "      <th></th>\n",
       "      <th>hadm_id</th>\n",
       "      <th>text</th>\n",
       "      <th>label</th>\n",
       "    </tr>\n",
       "  </thead>\n",
       "  <tbody>\n",
       "    <tr>\n",
       "      <th>0</th>\n",
       "      <td>178137.0</td>\n",
       "      <td>Sinus bradycardia. A-V conduction delay. Q-T i...</td>\n",
       "      <td>0</td>\n",
       "    </tr>\n",
       "    <tr>\n",
       "      <th>1</th>\n",
       "      <td>118804.0</td>\n",
       "      <td>Baseline artifact\\nSinus rhythm\\nRight bundle ...</td>\n",
       "      <td>1</td>\n",
       "    </tr>\n",
       "    <tr>\n",
       "      <th>2</th>\n",
       "      <td>182422.0</td>\n",
       "      <td>Atrial fibrillation with possible flutter with...</td>\n",
       "      <td>0</td>\n",
       "    </tr>\n",
       "    <tr>\n",
       "      <th>3</th>\n",
       "      <td>152109.0</td>\n",
       "      <td>Mobitz II second degree A-V block with non-con...</td>\n",
       "      <td>0</td>\n",
       "    </tr>\n",
       "    <tr>\n",
       "      <th>4</th>\n",
       "      <td>122660.0</td>\n",
       "      <td>Sinus rhythm.  Normal tracing.  No previous tr...</td>\n",
       "      <td>0</td>\n",
       "    </tr>\n",
       "    <tr>\n",
       "      <th>...</th>\n",
       "      <td>...</td>\n",
       "      <td>...</td>\n",
       "      <td>...</td>\n",
       "    </tr>\n",
       "    <tr>\n",
       "      <th>33236</th>\n",
       "      <td>112156.0</td>\n",
       "      <td>Atrial fibrillation.  Left anterior fascicular...</td>\n",
       "      <td>0</td>\n",
       "    </tr>\n",
       "    <tr>\n",
       "      <th>33237</th>\n",
       "      <td>171365.0</td>\n",
       "      <td>Sinus rhythm. Normal ECG. No previous tracing ...</td>\n",
       "      <td>0</td>\n",
       "    </tr>\n",
       "    <tr>\n",
       "      <th>33238</th>\n",
       "      <td>193197.0</td>\n",
       "      <td>Sinus rhythm\\nEarly precordial QRS transition ...</td>\n",
       "      <td>0</td>\n",
       "    </tr>\n",
       "    <tr>\n",
       "      <th>33239</th>\n",
       "      <td>109012.0</td>\n",
       "      <td>Sinus rhythm.\\nLeft axis deviation\\nIV conduct...</td>\n",
       "      <td>0</td>\n",
       "    </tr>\n",
       "    <tr>\n",
       "      <th>33240</th>\n",
       "      <td>170289.0</td>\n",
       "      <td>Atrial fibrillation with a rapid ventricular r...</td>\n",
       "      <td>0</td>\n",
       "    </tr>\n",
       "  </tbody>\n",
       "</table>\n",
       "<p>33241 rows × 3 columns</p>\n",
       "</div>"
      ],
      "text/plain": [
       "        hadm_id                                               text  label\n",
       "0      178137.0  Sinus bradycardia. A-V conduction delay. Q-T i...      0\n",
       "1      118804.0  Baseline artifact\\nSinus rhythm\\nRight bundle ...      1\n",
       "2      182422.0  Atrial fibrillation with possible flutter with...      0\n",
       "3      152109.0  Mobitz II second degree A-V block with non-con...      0\n",
       "4      122660.0  Sinus rhythm.  Normal tracing.  No previous tr...      0\n",
       "...         ...                                                ...    ...\n",
       "33236  112156.0  Atrial fibrillation.  Left anterior fascicular...      0\n",
       "33237  171365.0  Sinus rhythm. Normal ECG. No previous tracing ...      0\n",
       "33238  193197.0  Sinus rhythm\\nEarly precordial QRS transition ...      0\n",
       "33239  109012.0  Sinus rhythm.\\nLeft axis deviation\\nIV conduct...      0\n",
       "33240  170289.0  Atrial fibrillation with a rapid ventricular r...      0\n",
       "\n",
       "[33241 rows x 3 columns]"
      ]
     },
     "execution_count": 35,
     "metadata": {},
     "output_type": "execute_result"
    }
   ],
   "source": [
    "concat_texts = pd.concat([pos_texts, neg_texts])\n",
    "concat_texts = concat_texts.sample(frac=1, random_state=39).reset_index(drop=True)\n",
    "concat_texts"
   ]
  },
  {
   "cell_type": "code",
   "execution_count": null,
   "metadata": {},
   "outputs": [],
   "source": []
  }
 ],
 "metadata": {
  "kernelspec": {
   "name": "python374jvsc74a57bd042b9de2f957427633b692d7d33025984788b01438582e53909cb3eee2a14f164",
   "display_name": "Python 3.7.4 64-bit ('.EPIDLEARN': venv)"
  },
  "language_info": {
   "codemirror_mode": {
    "name": "ipython",
    "version": 3
   },
   "file_extension": ".py",
   "mimetype": "text/x-python",
   "name": "python",
   "nbconvert_exporter": "python",
   "pygments_lexer": "ipython3",
   "version": "3.7.4"
  }
 },
 "nbformat": 4,
 "nbformat_minor": 4
}