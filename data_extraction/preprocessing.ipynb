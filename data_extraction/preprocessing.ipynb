{
 "metadata": {
  "language_info": {
   "codemirror_mode": {
    "name": "ipython",
    "version": 3
   },
   "file_extension": ".py",
   "mimetype": "text/x-python",
   "name": "python",
   "nbconvert_exporter": "python",
   "pygments_lexer": "ipython3",
   "version": "3.7.4"
  },
  "orig_nbformat": 2,
  "kernelspec": {
   "name": "python374jvsc74a57bd04a3821e50dfd29f54393a38062d93a54d0c9d954cd67861638d013f261604981",
   "display_name": "Python 3.7.4 64-bit"
  },
  "metadata": {
   "interpreter": {
    "hash": "4a3821e50dfd29f54393a38062d93a54d0c9d954cd67861638d013f261604981"
   }
  }
 },
 "nbformat": 4,
 "nbformat_minor": 2,
 "cells": [
  {
   "cell_type": "code",
   "execution_count": 1,
   "metadata": {},
   "outputs": [],
   "source": [
    "import pandas as pd\n",
    "import numpy as np "
   ]
  },
  {
   "source": [
    "# Preprocessing\n",
    "\n",
    "1. static:\n",
    "    - age in age groups\n",
    "    - sex as binary\n",
    "    - prescription as dosage values. 24 hours of each hospital admission. Normalized using mix max norm. Impute using 0. \n",
    "    - diagnoses as binary. 24 hours of each hospital admission.\n",
    "    \n",
    "2. temporal:\n",
    "    - vital signs: 24 hours of each hospital admission. At each hour the avg is used to represent the signal. \n",
    "\n",
    "    \n",
    "    Then normalized using mix-max norm. To handle missing values, we simply use “0” to impute"
   ],
   "cell_type": "markdown",
   "metadata": {}
  },
  {
   "cell_type": "code",
   "execution_count": 2,
   "metadata": {},
   "outputs": [],
   "source": [
    "diagnoses = pd.read_csv(\"C:\\\\Users\\\\Maria\\\\Desktop\\\\data\\\\diagnoses.csv\")\n",
    "#drugs  = pd.read_csv(\"C:\\\\Users\\\\Maria\\\\Desktop\\\\data\\\\drugs.csv\")\n",
    "patients = pd.read_csv(\"C:\\\\Users\\\\Maria\\\\Desktop\\\\data\\\\patients_vitals.csv\")"
   ]
  },
  {
   "cell_type": "code",
   "execution_count": 3,
   "metadata": {},
   "outputs": [],
   "source": [
    "patients.drop(\"Unnamed: 0\", axis=1, inplace=True)\n",
    "#drugs.drop(\"Unnamed: 0\", axis=1, inplace=True)\n",
    "diagnoses.drop(\"Unnamed: 0\", axis=1, inplace=True)"
   ]
  },
  {
   "cell_type": "code",
   "execution_count": 4,
   "metadata": {},
   "outputs": [],
   "source": [
    "patients.drop([\"DOB\", \"icu_length_of_stay\"], axis=1, inplace=True)\n",
    "diagnoses.drop([\"icd9_title\"], axis=1, inplace=True)\n"
   ]
  },
  {
   "cell_type": "code",
   "execution_count": 5,
   "metadata": {},
   "outputs": [
    {
     "output_type": "execute_result",
     "data": {
      "text/plain": [
       "   subject_id  hadm_id  icustay_id gender            admittime       age  \\\n",
       "0          23   152223      227807      M  2153-09-03 07:15:00  71.32731   \n",
       "1          23   152223      227807      M  2153-09-03 07:15:00  71.32731   \n",
       "2          23   152223      227807      M  2153-09-03 07:15:00  71.32731   \n",
       "3          23   152223      227807      M  2153-09-03 07:15:00  71.32731   \n",
       "4          23   152223      227807      M  2153-09-03 07:15:00  71.32731   \n",
       "\n",
       "   mortality            charttime  HeartRate  SysBP  DiasBP  MeanBP  RespRate  \\\n",
       "0          0  2153-09-03 12:20:00        NaN    NaN     NaN     NaN      12.0   \n",
       "1          0  2153-09-03 12:30:00       90.0  106.0    62.0    77.0       7.0   \n",
       "2          0  2153-09-03 12:45:00       90.0  109.0    63.0    79.0       NaN   \n",
       "3          0  2153-09-03 13:00:00       90.0   92.0    57.0    69.0      13.0   \n",
       "4          0  2153-09-03 13:15:00       90.0   98.0    55.0    70.0      12.0   \n",
       "\n",
       "   TempC   SpO2  Glucose  \n",
       "0    NaN    NaN      NaN  \n",
       "1   35.0  100.0      NaN  \n",
       "2    NaN  100.0      NaN  \n",
       "3    NaN  100.0      NaN  \n",
       "4    NaN  100.0      NaN  "
      ],
      "text/html": "<div>\n<style scoped>\n    .dataframe tbody tr th:only-of-type {\n        vertical-align: middle;\n    }\n\n    .dataframe tbody tr th {\n        vertical-align: top;\n    }\n\n    .dataframe thead th {\n        text-align: right;\n    }\n</style>\n<table border=\"1\" class=\"dataframe\">\n  <thead>\n    <tr style=\"text-align: right;\">\n      <th></th>\n      <th>subject_id</th>\n      <th>hadm_id</th>\n      <th>icustay_id</th>\n      <th>gender</th>\n      <th>admittime</th>\n      <th>age</th>\n      <th>mortality</th>\n      <th>charttime</th>\n      <th>HeartRate</th>\n      <th>SysBP</th>\n      <th>DiasBP</th>\n      <th>MeanBP</th>\n      <th>RespRate</th>\n      <th>TempC</th>\n      <th>SpO2</th>\n      <th>Glucose</th>\n    </tr>\n  </thead>\n  <tbody>\n    <tr>\n      <th>0</th>\n      <td>23</td>\n      <td>152223</td>\n      <td>227807</td>\n      <td>M</td>\n      <td>2153-09-03 07:15:00</td>\n      <td>71.32731</td>\n      <td>0</td>\n      <td>2153-09-03 12:20:00</td>\n      <td>NaN</td>\n      <td>NaN</td>\n      <td>NaN</td>\n      <td>NaN</td>\n      <td>12.0</td>\n      <td>NaN</td>\n      <td>NaN</td>\n      <td>NaN</td>\n    </tr>\n    <tr>\n      <th>1</th>\n      <td>23</td>\n      <td>152223</td>\n      <td>227807</td>\n      <td>M</td>\n      <td>2153-09-03 07:15:00</td>\n      <td>71.32731</td>\n      <td>0</td>\n      <td>2153-09-03 12:30:00</td>\n      <td>90.0</td>\n      <td>106.0</td>\n      <td>62.0</td>\n      <td>77.0</td>\n      <td>7.0</td>\n      <td>35.0</td>\n      <td>100.0</td>\n      <td>NaN</td>\n    </tr>\n    <tr>\n      <th>2</th>\n      <td>23</td>\n      <td>152223</td>\n      <td>227807</td>\n      <td>M</td>\n      <td>2153-09-03 07:15:00</td>\n      <td>71.32731</td>\n      <td>0</td>\n      <td>2153-09-03 12:45:00</td>\n      <td>90.0</td>\n      <td>109.0</td>\n      <td>63.0</td>\n      <td>79.0</td>\n      <td>NaN</td>\n      <td>NaN</td>\n      <td>100.0</td>\n      <td>NaN</td>\n    </tr>\n    <tr>\n      <th>3</th>\n      <td>23</td>\n      <td>152223</td>\n      <td>227807</td>\n      <td>M</td>\n      <td>2153-09-03 07:15:00</td>\n      <td>71.32731</td>\n      <td>0</td>\n      <td>2153-09-03 13:00:00</td>\n      <td>90.0</td>\n      <td>92.0</td>\n      <td>57.0</td>\n      <td>69.0</td>\n      <td>13.0</td>\n      <td>NaN</td>\n      <td>100.0</td>\n      <td>NaN</td>\n    </tr>\n    <tr>\n      <th>4</th>\n      <td>23</td>\n      <td>152223</td>\n      <td>227807</td>\n      <td>M</td>\n      <td>2153-09-03 07:15:00</td>\n      <td>71.32731</td>\n      <td>0</td>\n      <td>2153-09-03 13:15:00</td>\n      <td>90.0</td>\n      <td>98.0</td>\n      <td>55.0</td>\n      <td>70.0</td>\n      <td>12.0</td>\n      <td>NaN</td>\n      <td>100.0</td>\n      <td>NaN</td>\n    </tr>\n  </tbody>\n</table>\n</div>"
     },
     "metadata": {},
     "execution_count": 5
    }
   ],
   "source": [
    "patients.head()"
   ]
  },
  {
   "cell_type": "code",
   "execution_count": 6,
   "metadata": {},
   "outputs": [],
   "source": [
    "adm_details = patients[[\"subject_id\", \"hadm_id\", \"gender\", \"age\", \"mortality\"]]"
   ]
  },
  {
   "cell_type": "code",
   "execution_count": 7,
   "metadata": {},
   "outputs": [],
   "source": [
    "vitals = patients[[\"subject_id\", \"hadm_id\", \"admittime\", \"charttime\",  \"HeartRate\", \"SysBP\", \"DiasBP\", \"MeanBP\", \"RespRate\", \"TempC\", \"SpO2\", \"Glucose\", \"mortality\"]]"
   ]
  },
  {
   "cell_type": "code",
   "execution_count": 8,
   "metadata": {},
   "outputs": [],
   "source": [
    "del patients"
   ]
  },
  {
   "source": [
    "## Preprocess admissions"
   ],
   "cell_type": "markdown",
   "metadata": {}
  },
  {
   "cell_type": "code",
   "execution_count": 9,
   "metadata": {},
   "outputs": [],
   "source": [
    "df_adm = adm_details.copy()"
   ]
  },
  {
   "cell_type": "code",
   "execution_count": 10,
   "metadata": {},
   "outputs": [],
   "source": [
    "del adm_details"
   ]
  },
  {
   "cell_type": "code",
   "execution_count": 11,
   "metadata": {},
   "outputs": [
    {
     "output_type": "stream",
     "name": "stdout",
     "text": [
      "Total admissions: 6163296\n"
     ]
    }
   ],
   "source": [
    "print('Total admissions:', len(df_adm))"
   ]
  },
  {
   "cell_type": "code",
   "execution_count": 12,
   "metadata": {},
   "outputs": [],
   "source": [
    "### bin age group "
   ]
  },
  {
   "cell_type": "code",
   "execution_count": 13,
   "metadata": {},
   "outputs": [],
   "source": [
    "def bin_age(age):\n",
    "    if age < 25:\n",
    "        return '18-25'\n",
    "    elif age < 45:\n",
    "        return '25-45'\n",
    "    elif age < 65:\n",
    "        return '45-65'\n",
    "    elif age < 89:\n",
    "        return '65-89'\n",
    "    else:\n",
    "        return '89+'"
   ]
  },
  {
   "cell_type": "code",
   "execution_count": 14,
   "metadata": {},
   "outputs": [],
   "source": [
    "df_adm['age'] = df_adm['age'].apply(bin_age)"
   ]
  },
  {
   "cell_type": "code",
   "execution_count": 15,
   "metadata": {},
   "outputs": [
    {
     "output_type": "execute_result",
     "data": {
      "text/plain": [
       "   subject_id  hadm_id gender    age  mortality\n",
       "0          23   152223      M  65-89          0\n",
       "1          23   152223      M  65-89          0\n",
       "2          23   152223      M  65-89          0\n",
       "3          23   152223      M  65-89          0\n",
       "4          23   152223      M  65-89          0"
      ],
      "text/html": "<div>\n<style scoped>\n    .dataframe tbody tr th:only-of-type {\n        vertical-align: middle;\n    }\n\n    .dataframe tbody tr th {\n        vertical-align: top;\n    }\n\n    .dataframe thead th {\n        text-align: right;\n    }\n</style>\n<table border=\"1\" class=\"dataframe\">\n  <thead>\n    <tr style=\"text-align: right;\">\n      <th></th>\n      <th>subject_id</th>\n      <th>hadm_id</th>\n      <th>gender</th>\n      <th>age</th>\n      <th>mortality</th>\n    </tr>\n  </thead>\n  <tbody>\n    <tr>\n      <th>0</th>\n      <td>23</td>\n      <td>152223</td>\n      <td>M</td>\n      <td>65-89</td>\n      <td>0</td>\n    </tr>\n    <tr>\n      <th>1</th>\n      <td>23</td>\n      <td>152223</td>\n      <td>M</td>\n      <td>65-89</td>\n      <td>0</td>\n    </tr>\n    <tr>\n      <th>2</th>\n      <td>23</td>\n      <td>152223</td>\n      <td>M</td>\n      <td>65-89</td>\n      <td>0</td>\n    </tr>\n    <tr>\n      <th>3</th>\n      <td>23</td>\n      <td>152223</td>\n      <td>M</td>\n      <td>65-89</td>\n      <td>0</td>\n    </tr>\n    <tr>\n      <th>4</th>\n      <td>23</td>\n      <td>152223</td>\n      <td>M</td>\n      <td>65-89</td>\n      <td>0</td>\n    </tr>\n  </tbody>\n</table>\n</div>"
     },
     "metadata": {},
     "execution_count": 15
    }
   ],
   "source": [
    "df_adm.head()"
   ]
  },
  {
   "cell_type": "code",
   "execution_count": 16,
   "metadata": {},
   "outputs": [],
   "source": [
    "df_adm = df_adm.sort_values(['hadm_id']).reset_index(drop=True)"
   ]
  },
  {
   "cell_type": "code",
   "execution_count": 17,
   "metadata": {},
   "outputs": [
    {
     "output_type": "execute_result",
     "data": {
      "text/plain": [
       "   subject_id  hadm_id gender    age  mortality\n",
       "0       58526   100001      F  25-45          0\n",
       "1       58526   100001      F  25-45          0\n",
       "2       58526   100001      F  25-45          0\n",
       "3       58526   100001      F  25-45          0\n",
       "4       58526   100001      F  25-45          0"
      ],
      "text/html": "<div>\n<style scoped>\n    .dataframe tbody tr th:only-of-type {\n        vertical-align: middle;\n    }\n\n    .dataframe tbody tr th {\n        vertical-align: top;\n    }\n\n    .dataframe thead th {\n        text-align: right;\n    }\n</style>\n<table border=\"1\" class=\"dataframe\">\n  <thead>\n    <tr style=\"text-align: right;\">\n      <th></th>\n      <th>subject_id</th>\n      <th>hadm_id</th>\n      <th>gender</th>\n      <th>age</th>\n      <th>mortality</th>\n    </tr>\n  </thead>\n  <tbody>\n    <tr>\n      <th>0</th>\n      <td>58526</td>\n      <td>100001</td>\n      <td>F</td>\n      <td>25-45</td>\n      <td>0</td>\n    </tr>\n    <tr>\n      <th>1</th>\n      <td>58526</td>\n      <td>100001</td>\n      <td>F</td>\n      <td>25-45</td>\n      <td>0</td>\n    </tr>\n    <tr>\n      <th>2</th>\n      <td>58526</td>\n      <td>100001</td>\n      <td>F</td>\n      <td>25-45</td>\n      <td>0</td>\n    </tr>\n    <tr>\n      <th>3</th>\n      <td>58526</td>\n      <td>100001</td>\n      <td>F</td>\n      <td>25-45</td>\n      <td>0</td>\n    </tr>\n    <tr>\n      <th>4</th>\n      <td>58526</td>\n      <td>100001</td>\n      <td>F</td>\n      <td>25-45</td>\n      <td>0</td>\n    </tr>\n  </tbody>\n</table>\n</div>"
     },
     "metadata": {},
     "execution_count": 17
    }
   ],
   "source": [
    "df_adm.head()"
   ]
  },
  {
   "cell_type": "code",
   "execution_count": 18,
   "metadata": {},
   "outputs": [
    {
     "output_type": "execute_result",
     "data": {
      "text/plain": [
       "                    F  M  18-25  25-45  45-65  65-89  89+\n",
       "hadm_id subject_id                                       \n",
       "100001  58526       1  0      0      1      0      0    0\n",
       "100006  9895        1  0      0      0      1      0    0\n",
       "100007  23018       1  0      0      0      0      1    0\n",
       "100009  533         0  1      0      0      1      0    0\n",
       "100010  55853       1  0      0      0      1      0    0\n",
       "...                .. ..    ...    ...    ...    ...  ...\n",
       "199988  25780       0  1      0      0      0      1    0\n",
       "199993  20785       0  1      0      0      1      0    0\n",
       "199995  19412       0  1      1      0      0      0    0\n",
       "199998  27200       0  1      0      0      0      1    0\n",
       "199999  40370       0  1      0      0      0      1    0\n",
       "\n",
       "[33564 rows x 7 columns]"
      ],
      "text/html": "<div>\n<style scoped>\n    .dataframe tbody tr th:only-of-type {\n        vertical-align: middle;\n    }\n\n    .dataframe tbody tr th {\n        vertical-align: top;\n    }\n\n    .dataframe thead th {\n        text-align: right;\n    }\n</style>\n<table border=\"1\" class=\"dataframe\">\n  <thead>\n    <tr style=\"text-align: right;\">\n      <th></th>\n      <th></th>\n      <th>F</th>\n      <th>M</th>\n      <th>18-25</th>\n      <th>25-45</th>\n      <th>45-65</th>\n      <th>65-89</th>\n      <th>89+</th>\n    </tr>\n    <tr>\n      <th>hadm_id</th>\n      <th>subject_id</th>\n      <th></th>\n      <th></th>\n      <th></th>\n      <th></th>\n      <th></th>\n      <th></th>\n      <th></th>\n    </tr>\n  </thead>\n  <tbody>\n    <tr>\n      <th>100001</th>\n      <th>58526</th>\n      <td>1</td>\n      <td>0</td>\n      <td>0</td>\n      <td>1</td>\n      <td>0</td>\n      <td>0</td>\n      <td>0</td>\n    </tr>\n    <tr>\n      <th>100006</th>\n      <th>9895</th>\n      <td>1</td>\n      <td>0</td>\n      <td>0</td>\n      <td>0</td>\n      <td>1</td>\n      <td>0</td>\n      <td>0</td>\n    </tr>\n    <tr>\n      <th>100007</th>\n      <th>23018</th>\n      <td>1</td>\n      <td>0</td>\n      <td>0</td>\n      <td>0</td>\n      <td>0</td>\n      <td>1</td>\n      <td>0</td>\n    </tr>\n    <tr>\n      <th>100009</th>\n      <th>533</th>\n      <td>0</td>\n      <td>1</td>\n      <td>0</td>\n      <td>0</td>\n      <td>1</td>\n      <td>0</td>\n      <td>0</td>\n    </tr>\n    <tr>\n      <th>100010</th>\n      <th>55853</th>\n      <td>1</td>\n      <td>0</td>\n      <td>0</td>\n      <td>0</td>\n      <td>1</td>\n      <td>0</td>\n      <td>0</td>\n    </tr>\n    <tr>\n      <th>...</th>\n      <th>...</th>\n      <td>...</td>\n      <td>...</td>\n      <td>...</td>\n      <td>...</td>\n      <td>...</td>\n      <td>...</td>\n      <td>...</td>\n    </tr>\n    <tr>\n      <th>199988</th>\n      <th>25780</th>\n      <td>0</td>\n      <td>1</td>\n      <td>0</td>\n      <td>0</td>\n      <td>0</td>\n      <td>1</td>\n      <td>0</td>\n    </tr>\n    <tr>\n      <th>199993</th>\n      <th>20785</th>\n      <td>0</td>\n      <td>1</td>\n      <td>0</td>\n      <td>0</td>\n      <td>1</td>\n      <td>0</td>\n      <td>0</td>\n    </tr>\n    <tr>\n      <th>199995</th>\n      <th>19412</th>\n      <td>0</td>\n      <td>1</td>\n      <td>1</td>\n      <td>0</td>\n      <td>0</td>\n      <td>0</td>\n      <td>0</td>\n    </tr>\n    <tr>\n      <th>199998</th>\n      <th>27200</th>\n      <td>0</td>\n      <td>1</td>\n      <td>0</td>\n      <td>0</td>\n      <td>0</td>\n      <td>1</td>\n      <td>0</td>\n    </tr>\n    <tr>\n      <th>199999</th>\n      <th>40370</th>\n      <td>0</td>\n      <td>1</td>\n      <td>0</td>\n      <td>0</td>\n      <td>0</td>\n      <td>1</td>\n      <td>0</td>\n    </tr>\n  </tbody>\n</table>\n<p>33564 rows × 7 columns</p>\n</div>"
     },
     "metadata": {},
     "execution_count": 18
    }
   ],
   "source": [
    "gender = df_adm.groupby([df_adm.hadm_id,  df_adm.subject_id, 'gender'])['gender'].first().unstack()\n",
    "age = df_adm.groupby([df_adm.hadm_id, df_adm.subject_id, 'age'])['age'].first().unstack()\n",
    "demographics = pd.concat([gender, age], axis=1)\n",
    "demographics = demographics.replace({np.NaN: 0, 'F': 1, \"M\": 1, '18-25': 1, '25-45': 1, '45-65': 1, '65-89': 1, '89+': 1})\n",
    "demographics"
   ]
  },
  {
   "cell_type": "code",
   "execution_count": null,
   "metadata": {},
   "outputs": [],
   "source": []
  },
  {
   "cell_type": "code",
   "execution_count": null,
   "metadata": {},
   "outputs": [],
   "source": []
  },
  {
   "cell_type": "code",
   "execution_count": null,
   "metadata": {},
   "outputs": [],
   "source": []
  },
  {
   "source": [
    "## Preprocessing ICD-10"
   ],
   "cell_type": "markdown",
   "metadata": {}
  },
  {
   "cell_type": "code",
   "execution_count": 19,
   "metadata": {},
   "outputs": [
    {
     "output_type": "execute_result",
     "data": {
      "text/plain": [
       "         subject_id  hadm_id            admittime icd9_code\n",
       "0                 3   145834  2101-10-20 19:08:00      0389\n",
       "1                 3   145834  2101-10-20 19:08:00     78559\n",
       "2                 3   145834  2101-10-20 19:08:00      5849\n",
       "3                 3   145834  2101-10-20 19:08:00      4275\n",
       "4                 3   145834  2101-10-20 19:08:00     41071\n",
       "...             ...      ...                  ...       ...\n",
       "1335358       99999   113369  2117-12-30 07:15:00     75612\n",
       "1335359       99999   113369  2117-12-30 07:15:00      7861\n",
       "1335360       99999   113369  2117-12-30 07:15:00      4019\n",
       "1335361       99999   113369  2117-12-30 07:15:00     25000\n",
       "1335362       99999   113369  2117-12-30 07:15:00      4139\n",
       "\n",
       "[1335363 rows x 4 columns]"
      ],
      "text/html": "<div>\n<style scoped>\n    .dataframe tbody tr th:only-of-type {\n        vertical-align: middle;\n    }\n\n    .dataframe tbody tr th {\n        vertical-align: top;\n    }\n\n    .dataframe thead th {\n        text-align: right;\n    }\n</style>\n<table border=\"1\" class=\"dataframe\">\n  <thead>\n    <tr style=\"text-align: right;\">\n      <th></th>\n      <th>subject_id</th>\n      <th>hadm_id</th>\n      <th>admittime</th>\n      <th>icd9_code</th>\n    </tr>\n  </thead>\n  <tbody>\n    <tr>\n      <th>0</th>\n      <td>3</td>\n      <td>145834</td>\n      <td>2101-10-20 19:08:00</td>\n      <td>0389</td>\n    </tr>\n    <tr>\n      <th>1</th>\n      <td>3</td>\n      <td>145834</td>\n      <td>2101-10-20 19:08:00</td>\n      <td>78559</td>\n    </tr>\n    <tr>\n      <th>2</th>\n      <td>3</td>\n      <td>145834</td>\n      <td>2101-10-20 19:08:00</td>\n      <td>5849</td>\n    </tr>\n    <tr>\n      <th>3</th>\n      <td>3</td>\n      <td>145834</td>\n      <td>2101-10-20 19:08:00</td>\n      <td>4275</td>\n    </tr>\n    <tr>\n      <th>4</th>\n      <td>3</td>\n      <td>145834</td>\n      <td>2101-10-20 19:08:00</td>\n      <td>41071</td>\n    </tr>\n    <tr>\n      <th>...</th>\n      <td>...</td>\n      <td>...</td>\n      <td>...</td>\n      <td>...</td>\n    </tr>\n    <tr>\n      <th>1335358</th>\n      <td>99999</td>\n      <td>113369</td>\n      <td>2117-12-30 07:15:00</td>\n      <td>75612</td>\n    </tr>\n    <tr>\n      <th>1335359</th>\n      <td>99999</td>\n      <td>113369</td>\n      <td>2117-12-30 07:15:00</td>\n      <td>7861</td>\n    </tr>\n    <tr>\n      <th>1335360</th>\n      <td>99999</td>\n      <td>113369</td>\n      <td>2117-12-30 07:15:00</td>\n      <td>4019</td>\n    </tr>\n    <tr>\n      <th>1335361</th>\n      <td>99999</td>\n      <td>113369</td>\n      <td>2117-12-30 07:15:00</td>\n      <td>25000</td>\n    </tr>\n    <tr>\n      <th>1335362</th>\n      <td>99999</td>\n      <td>113369</td>\n      <td>2117-12-30 07:15:00</td>\n      <td>4139</td>\n    </tr>\n  </tbody>\n</table>\n<p>1335363 rows × 4 columns</p>\n</div>"
     },
     "metadata": {},
     "execution_count": 19
    }
   ],
   "source": [
    "diagnoses"
   ]
  },
  {
   "cell_type": "code",
   "execution_count": 20,
   "metadata": {},
   "outputs": [],
   "source": [
    "\n",
    "def convert_icd_group(icd):\n",
    "    icd = str(icd)\n",
    "    if icd.startswith('V'):\n",
    "        return 19\n",
    "    if icd.startswith('E'):\n",
    "        return 20\n",
    "    icd = int(icd[:3])\n",
    "    if icd <= 139:\n",
    "        return 1\n",
    "    elif icd <= 239:\n",
    "        return 2\n",
    "    elif icd <= 279:\n",
    "        return 3\n",
    "    elif icd <= 289:\n",
    "        return 4\n",
    "    elif icd <= 319:\n",
    "        return 5\n",
    "    elif icd <= 389:\n",
    "        return 6\n",
    "    elif icd <= 459:\n",
    "        return 7\n",
    "    elif icd <= 519:\n",
    "        return 8\n",
    "    elif icd <= 579:\n",
    "        return 9\n",
    "    elif icd < 629:\n",
    "        return 10\n",
    "    elif icd <= 679:\n",
    "        return 11\n",
    "    elif icd <= 709:\n",
    "        return 12\n",
    "    elif icd <= 739:\n",
    "        return 13\n",
    "    elif icd <= 759:\n",
    "        return 14\n",
    "    elif icd <= 779:\n",
    "        return np.nan\n",
    "    elif icd <= 789:\n",
    "        return 15\n",
    "    elif icd <= 796:\n",
    "        return 16\n",
    "    elif icd <= 799:\n",
    "        return 17\n",
    "    else:\n",
    "        return 18"
   ]
  },
  {
   "cell_type": "code",
   "execution_count": 21,
   "metadata": {},
   "outputs": [],
   "source": [
    "df_icd = diagnoses.copy()"
   ]
  },
  {
   "cell_type": "code",
   "execution_count": 22,
   "metadata": {},
   "outputs": [],
   "source": [
    "del diagnoses"
   ]
  },
  {
   "cell_type": "code",
   "execution_count": 23,
   "metadata": {},
   "outputs": [
    {
     "output_type": "execute_result",
     "data": {
      "text/plain": [
       "         subject_id  hadm_id            admittime icd9_code\n",
       "0                 3   145834  2101-10-20 19:08:00      0389\n",
       "1                 3   145834  2101-10-20 19:08:00     78559\n",
       "2                 3   145834  2101-10-20 19:08:00      5849\n",
       "3                 3   145834  2101-10-20 19:08:00      4275\n",
       "4                 3   145834  2101-10-20 19:08:00     41071\n",
       "...             ...      ...                  ...       ...\n",
       "1335358       99999   113369  2117-12-30 07:15:00     75612\n",
       "1335359       99999   113369  2117-12-30 07:15:00      7861\n",
       "1335360       99999   113369  2117-12-30 07:15:00      4019\n",
       "1335361       99999   113369  2117-12-30 07:15:00     25000\n",
       "1335362       99999   113369  2117-12-30 07:15:00      4139\n",
       "\n",
       "[1335363 rows x 4 columns]"
      ],
      "text/html": "<div>\n<style scoped>\n    .dataframe tbody tr th:only-of-type {\n        vertical-align: middle;\n    }\n\n    .dataframe tbody tr th {\n        vertical-align: top;\n    }\n\n    .dataframe thead th {\n        text-align: right;\n    }\n</style>\n<table border=\"1\" class=\"dataframe\">\n  <thead>\n    <tr style=\"text-align: right;\">\n      <th></th>\n      <th>subject_id</th>\n      <th>hadm_id</th>\n      <th>admittime</th>\n      <th>icd9_code</th>\n    </tr>\n  </thead>\n  <tbody>\n    <tr>\n      <th>0</th>\n      <td>3</td>\n      <td>145834</td>\n      <td>2101-10-20 19:08:00</td>\n      <td>0389</td>\n    </tr>\n    <tr>\n      <th>1</th>\n      <td>3</td>\n      <td>145834</td>\n      <td>2101-10-20 19:08:00</td>\n      <td>78559</td>\n    </tr>\n    <tr>\n      <th>2</th>\n      <td>3</td>\n      <td>145834</td>\n      <td>2101-10-20 19:08:00</td>\n      <td>5849</td>\n    </tr>\n    <tr>\n      <th>3</th>\n      <td>3</td>\n      <td>145834</td>\n      <td>2101-10-20 19:08:00</td>\n      <td>4275</td>\n    </tr>\n    <tr>\n      <th>4</th>\n      <td>3</td>\n      <td>145834</td>\n      <td>2101-10-20 19:08:00</td>\n      <td>41071</td>\n    </tr>\n    <tr>\n      <th>...</th>\n      <td>...</td>\n      <td>...</td>\n      <td>...</td>\n      <td>...</td>\n    </tr>\n    <tr>\n      <th>1335358</th>\n      <td>99999</td>\n      <td>113369</td>\n      <td>2117-12-30 07:15:00</td>\n      <td>75612</td>\n    </tr>\n    <tr>\n      <th>1335359</th>\n      <td>99999</td>\n      <td>113369</td>\n      <td>2117-12-30 07:15:00</td>\n      <td>7861</td>\n    </tr>\n    <tr>\n      <th>1335360</th>\n      <td>99999</td>\n      <td>113369</td>\n      <td>2117-12-30 07:15:00</td>\n      <td>4019</td>\n    </tr>\n    <tr>\n      <th>1335361</th>\n      <td>99999</td>\n      <td>113369</td>\n      <td>2117-12-30 07:15:00</td>\n      <td>25000</td>\n    </tr>\n    <tr>\n      <th>1335362</th>\n      <td>99999</td>\n      <td>113369</td>\n      <td>2117-12-30 07:15:00</td>\n      <td>4139</td>\n    </tr>\n  </tbody>\n</table>\n<p>1335363 rows × 4 columns</p>\n</div>"
     },
     "metadata": {},
     "execution_count": 23
    }
   ],
   "source": [
    "df_icd"
   ]
  },
  {
   "cell_type": "code",
   "execution_count": 24,
   "metadata": {},
   "outputs": [],
   "source": [
    "df_icd.columns = map(str.lower, df_icd.columns)\n",
    "df_icd['icd9_code'] = df_icd['icd9_code'].apply(convert_icd_group)\n",
    "df_icd = df_icd.dropna().drop_duplicates().sort_values(['hadm_id', 'icd9_code'])\n",
    "for x in range(20):\n",
    "    x += 1\n",
    "    df_icd[f'{x}'] = (df_icd['icd9_code'] == x).astype(int)\n",
    "df_icd = df_icd.groupby(['hadm_id', 'subject_id']).sum()\n",
    "df_icd = df_icd[df_icd.columns[1:]].reset_index()\n",
    "df_icd = df_icd[df_icd.hadm_id.isin(df_adm.hadm_id)]"
   ]
  },
  {
   "cell_type": "code",
   "execution_count": 25,
   "metadata": {},
   "outputs": [
    {
     "output_type": "execute_result",
     "data": {
      "text/plain": [
       "   hadm_id  subject_id  1  2  3  4  5  6  7  8  ...  11  12  13  14  15  16  \\\n",
       "0   100001       58526  0  0  3  0  0  3  3  0  ...   0   3   0   0   0   0   \n",
       "2   100006        9895  0  2  2  0  2  0  0  2  ...   0   0   0   0   2   0   \n",
       "3   100007       23018  0  0  0  0  0  0  1  1  ...   0   0   0   0   0   0   \n",
       "4   100009         533  0  0  1  1  0  0  1  0  ...   0   0   0   0   0   0   \n",
       "5   100010       55853  0  1  1  0  0  0  0  0  ...   0   0   0   0   0   0   \n",
       "\n",
       "   17  18  19  20  \n",
       "0   0   0   3   0  \n",
       "2   0   0   2   0  \n",
       "3   0   0   0   0  \n",
       "4   0   1   1   0  \n",
       "5   0   0   0   0  \n",
       "\n",
       "[5 rows x 22 columns]"
      ],
      "text/html": "<div>\n<style scoped>\n    .dataframe tbody tr th:only-of-type {\n        vertical-align: middle;\n    }\n\n    .dataframe tbody tr th {\n        vertical-align: top;\n    }\n\n    .dataframe thead th {\n        text-align: right;\n    }\n</style>\n<table border=\"1\" class=\"dataframe\">\n  <thead>\n    <tr style=\"text-align: right;\">\n      <th></th>\n      <th>hadm_id</th>\n      <th>subject_id</th>\n      <th>1</th>\n      <th>2</th>\n      <th>3</th>\n      <th>4</th>\n      <th>5</th>\n      <th>6</th>\n      <th>7</th>\n      <th>8</th>\n      <th>...</th>\n      <th>11</th>\n      <th>12</th>\n      <th>13</th>\n      <th>14</th>\n      <th>15</th>\n      <th>16</th>\n      <th>17</th>\n      <th>18</th>\n      <th>19</th>\n      <th>20</th>\n    </tr>\n  </thead>\n  <tbody>\n    <tr>\n      <th>0</th>\n      <td>100001</td>\n      <td>58526</td>\n      <td>0</td>\n      <td>0</td>\n      <td>3</td>\n      <td>0</td>\n      <td>0</td>\n      <td>3</td>\n      <td>3</td>\n      <td>0</td>\n      <td>...</td>\n      <td>0</td>\n      <td>3</td>\n      <td>0</td>\n      <td>0</td>\n      <td>0</td>\n      <td>0</td>\n      <td>0</td>\n      <td>0</td>\n      <td>3</td>\n      <td>0</td>\n    </tr>\n    <tr>\n      <th>2</th>\n      <td>100006</td>\n      <td>9895</td>\n      <td>0</td>\n      <td>2</td>\n      <td>2</td>\n      <td>0</td>\n      <td>2</td>\n      <td>0</td>\n      <td>0</td>\n      <td>2</td>\n      <td>...</td>\n      <td>0</td>\n      <td>0</td>\n      <td>0</td>\n      <td>0</td>\n      <td>2</td>\n      <td>0</td>\n      <td>0</td>\n      <td>0</td>\n      <td>2</td>\n      <td>0</td>\n    </tr>\n    <tr>\n      <th>3</th>\n      <td>100007</td>\n      <td>23018</td>\n      <td>0</td>\n      <td>0</td>\n      <td>0</td>\n      <td>0</td>\n      <td>0</td>\n      <td>0</td>\n      <td>1</td>\n      <td>1</td>\n      <td>...</td>\n      <td>0</td>\n      <td>0</td>\n      <td>0</td>\n      <td>0</td>\n      <td>0</td>\n      <td>0</td>\n      <td>0</td>\n      <td>0</td>\n      <td>0</td>\n      <td>0</td>\n    </tr>\n    <tr>\n      <th>4</th>\n      <td>100009</td>\n      <td>533</td>\n      <td>0</td>\n      <td>0</td>\n      <td>1</td>\n      <td>1</td>\n      <td>0</td>\n      <td>0</td>\n      <td>1</td>\n      <td>0</td>\n      <td>...</td>\n      <td>0</td>\n      <td>0</td>\n      <td>0</td>\n      <td>0</td>\n      <td>0</td>\n      <td>0</td>\n      <td>0</td>\n      <td>1</td>\n      <td>1</td>\n      <td>0</td>\n    </tr>\n    <tr>\n      <th>5</th>\n      <td>100010</td>\n      <td>55853</td>\n      <td>0</td>\n      <td>1</td>\n      <td>1</td>\n      <td>0</td>\n      <td>0</td>\n      <td>0</td>\n      <td>0</td>\n      <td>0</td>\n      <td>...</td>\n      <td>0</td>\n      <td>0</td>\n      <td>0</td>\n      <td>0</td>\n      <td>0</td>\n      <td>0</td>\n      <td>0</td>\n      <td>0</td>\n      <td>0</td>\n      <td>0</td>\n    </tr>\n  </tbody>\n</table>\n<p>5 rows × 22 columns</p>\n</div>"
     },
     "metadata": {},
     "execution_count": 25
    }
   ],
   "source": [
    "df_icd.head()"
   ]
  },
  {
   "source": [
    "## Preprocess vitals"
   ],
   "cell_type": "markdown",
   "metadata": {}
  },
  {
   "cell_type": "code",
   "execution_count": 26,
   "metadata": {},
   "outputs": [
    {
     "output_type": "execute_result",
     "data": {
      "text/plain": [
       "         subject_id  hadm_id            admittime            charttime  \\\n",
       "0                23   152223  2153-09-03 07:15:00  2153-09-03 12:20:00   \n",
       "1                23   152223  2153-09-03 07:15:00  2153-09-03 12:30:00   \n",
       "2                23   152223  2153-09-03 07:15:00  2153-09-03 12:45:00   \n",
       "3                23   152223  2153-09-03 07:15:00  2153-09-03 13:00:00   \n",
       "4                23   152223  2153-09-03 07:15:00  2153-09-03 13:15:00   \n",
       "...             ...      ...                  ...                  ...   \n",
       "6163291       98797   105447  2132-12-24 20:06:00  2132-12-25 22:00:00   \n",
       "6163292       98797   105447  2132-12-24 20:06:00  2132-12-25 22:01:00   \n",
       "6163293       98797   105447  2132-12-24 20:06:00  2132-12-25 22:03:00   \n",
       "6163294       98797   105447  2132-12-24 20:06:00  2132-12-25 23:00:00   \n",
       "6163295       98797   105447  2132-12-24 20:06:00  2132-12-25 23:22:00   \n",
       "\n",
       "         HeartRate  SysBP  DiasBP  MeanBP  RespRate  TempC   SpO2  Glucose  \\\n",
       "0              NaN    NaN     NaN     NaN      12.0    NaN    NaN      NaN   \n",
       "1             90.0  106.0    62.0    77.0       7.0   35.0  100.0      NaN   \n",
       "2             90.0  109.0    63.0    79.0       NaN    NaN  100.0      NaN   \n",
       "3             90.0   92.0    57.0    69.0      13.0    NaN  100.0      NaN   \n",
       "4             90.0   98.0    55.0    70.0      12.0    NaN  100.0      NaN   \n",
       "...            ...    ...     ...     ...       ...    ...    ...      ...   \n",
       "6163291        NaN    NaN     NaN     NaN       NaN    NaN   61.0      NaN   \n",
       "6163292        NaN    NaN     NaN     NaN       NaN    NaN    NaN      NaN   \n",
       "6163293       48.0    NaN     NaN     NaN       NaN    NaN    NaN      NaN   \n",
       "6163294      107.0    NaN     NaN     NaN      34.0    NaN   79.0      NaN   \n",
       "6163295        NaN   85.0    47.0    57.0       NaN    NaN    NaN      NaN   \n",
       "\n",
       "         mortality  \n",
       "0                0  \n",
       "1                0  \n",
       "2                0  \n",
       "3                0  \n",
       "4                0  \n",
       "...            ...  \n",
       "6163291          1  \n",
       "6163292          1  \n",
       "6163293          1  \n",
       "6163294          1  \n",
       "6163295          1  \n",
       "\n",
       "[6163296 rows x 13 columns]"
      ],
      "text/html": "<div>\n<style scoped>\n    .dataframe tbody tr th:only-of-type {\n        vertical-align: middle;\n    }\n\n    .dataframe tbody tr th {\n        vertical-align: top;\n    }\n\n    .dataframe thead th {\n        text-align: right;\n    }\n</style>\n<table border=\"1\" class=\"dataframe\">\n  <thead>\n    <tr style=\"text-align: right;\">\n      <th></th>\n      <th>subject_id</th>\n      <th>hadm_id</th>\n      <th>admittime</th>\n      <th>charttime</th>\n      <th>HeartRate</th>\n      <th>SysBP</th>\n      <th>DiasBP</th>\n      <th>MeanBP</th>\n      <th>RespRate</th>\n      <th>TempC</th>\n      <th>SpO2</th>\n      <th>Glucose</th>\n      <th>mortality</th>\n    </tr>\n  </thead>\n  <tbody>\n    <tr>\n      <th>0</th>\n      <td>23</td>\n      <td>152223</td>\n      <td>2153-09-03 07:15:00</td>\n      <td>2153-09-03 12:20:00</td>\n      <td>NaN</td>\n      <td>NaN</td>\n      <td>NaN</td>\n      <td>NaN</td>\n      <td>12.0</td>\n      <td>NaN</td>\n      <td>NaN</td>\n      <td>NaN</td>\n      <td>0</td>\n    </tr>\n    <tr>\n      <th>1</th>\n      <td>23</td>\n      <td>152223</td>\n      <td>2153-09-03 07:15:00</td>\n      <td>2153-09-03 12:30:00</td>\n      <td>90.0</td>\n      <td>106.0</td>\n      <td>62.0</td>\n      <td>77.0</td>\n      <td>7.0</td>\n      <td>35.0</td>\n      <td>100.0</td>\n      <td>NaN</td>\n      <td>0</td>\n    </tr>\n    <tr>\n      <th>2</th>\n      <td>23</td>\n      <td>152223</td>\n      <td>2153-09-03 07:15:00</td>\n      <td>2153-09-03 12:45:00</td>\n      <td>90.0</td>\n      <td>109.0</td>\n      <td>63.0</td>\n      <td>79.0</td>\n      <td>NaN</td>\n      <td>NaN</td>\n      <td>100.0</td>\n      <td>NaN</td>\n      <td>0</td>\n    </tr>\n    <tr>\n      <th>3</th>\n      <td>23</td>\n      <td>152223</td>\n      <td>2153-09-03 07:15:00</td>\n      <td>2153-09-03 13:00:00</td>\n      <td>90.0</td>\n      <td>92.0</td>\n      <td>57.0</td>\n      <td>69.0</td>\n      <td>13.0</td>\n      <td>NaN</td>\n      <td>100.0</td>\n      <td>NaN</td>\n      <td>0</td>\n    </tr>\n    <tr>\n      <th>4</th>\n      <td>23</td>\n      <td>152223</td>\n      <td>2153-09-03 07:15:00</td>\n      <td>2153-09-03 13:15:00</td>\n      <td>90.0</td>\n      <td>98.0</td>\n      <td>55.0</td>\n      <td>70.0</td>\n      <td>12.0</td>\n      <td>NaN</td>\n      <td>100.0</td>\n      <td>NaN</td>\n      <td>0</td>\n    </tr>\n    <tr>\n      <th>...</th>\n      <td>...</td>\n      <td>...</td>\n      <td>...</td>\n      <td>...</td>\n      <td>...</td>\n      <td>...</td>\n      <td>...</td>\n      <td>...</td>\n      <td>...</td>\n      <td>...</td>\n      <td>...</td>\n      <td>...</td>\n      <td>...</td>\n    </tr>\n    <tr>\n      <th>6163291</th>\n      <td>98797</td>\n      <td>105447</td>\n      <td>2132-12-24 20:06:00</td>\n      <td>2132-12-25 22:00:00</td>\n      <td>NaN</td>\n      <td>NaN</td>\n      <td>NaN</td>\n      <td>NaN</td>\n      <td>NaN</td>\n      <td>NaN</td>\n      <td>61.0</td>\n      <td>NaN</td>\n      <td>1</td>\n    </tr>\n    <tr>\n      <th>6163292</th>\n      <td>98797</td>\n      <td>105447</td>\n      <td>2132-12-24 20:06:00</td>\n      <td>2132-12-25 22:01:00</td>\n      <td>NaN</td>\n      <td>NaN</td>\n      <td>NaN</td>\n      <td>NaN</td>\n      <td>NaN</td>\n      <td>NaN</td>\n      <td>NaN</td>\n      <td>NaN</td>\n      <td>1</td>\n    </tr>\n    <tr>\n      <th>6163293</th>\n      <td>98797</td>\n      <td>105447</td>\n      <td>2132-12-24 20:06:00</td>\n      <td>2132-12-25 22:03:00</td>\n      <td>48.0</td>\n      <td>NaN</td>\n      <td>NaN</td>\n      <td>NaN</td>\n      <td>NaN</td>\n      <td>NaN</td>\n      <td>NaN</td>\n      <td>NaN</td>\n      <td>1</td>\n    </tr>\n    <tr>\n      <th>6163294</th>\n      <td>98797</td>\n      <td>105447</td>\n      <td>2132-12-24 20:06:00</td>\n      <td>2132-12-25 23:00:00</td>\n      <td>107.0</td>\n      <td>NaN</td>\n      <td>NaN</td>\n      <td>NaN</td>\n      <td>34.0</td>\n      <td>NaN</td>\n      <td>79.0</td>\n      <td>NaN</td>\n      <td>1</td>\n    </tr>\n    <tr>\n      <th>6163295</th>\n      <td>98797</td>\n      <td>105447</td>\n      <td>2132-12-24 20:06:00</td>\n      <td>2132-12-25 23:22:00</td>\n      <td>NaN</td>\n      <td>85.0</td>\n      <td>47.0</td>\n      <td>57.0</td>\n      <td>NaN</td>\n      <td>NaN</td>\n      <td>NaN</td>\n      <td>NaN</td>\n      <td>1</td>\n    </tr>\n  </tbody>\n</table>\n<p>6163296 rows × 13 columns</p>\n</div>"
     },
     "metadata": {},
     "execution_count": 26
    }
   ],
   "source": [
    "vitals"
   ]
  },
  {
   "cell_type": "code",
   "execution_count": 27,
   "metadata": {},
   "outputs": [],
   "source": [
    "adm_ids = df_adm.hadm_id.tolist()"
   ]
  },
  {
   "cell_type": "code",
   "execution_count": 28,
   "metadata": {},
   "outputs": [],
   "source": [
    "df_vitals = vitals.copy()"
   ]
  },
  {
   "cell_type": "code",
   "execution_count": 29,
   "metadata": {},
   "outputs": [],
   "source": [
    "df_vitals['admittime'] = pd.to_datetime(df_vitals['admittime'])"
   ]
  },
  {
   "cell_type": "code",
   "execution_count": 30,
   "metadata": {},
   "outputs": [],
   "source": [
    "df_vitals['charttime'] = pd.to_datetime(df_vitals['charttime'])"
   ]
  },
  {
   "cell_type": "code",
   "execution_count": 31,
   "metadata": {},
   "outputs": [],
   "source": [
    "#getting vitals 24 hours \n",
    "df_vitals['hr'] = (df_vitals.charttime - df_vitals.admittime) / np.timedelta64(1, 'h')\n",
    "df_vitals = df_vitals[(df_vitals.hr <= 23) & (df_vitals.hr >= 0)]\n",
    "df_vitals = df_vitals.set_index('hadm_id').groupby('hadm_id').resample('H', on='charttime').mean().reset_index()"
   ]
  },
  {
   "cell_type": "code",
   "execution_count": 32,
   "metadata": {},
   "outputs": [
    {
     "output_type": "execute_result",
     "data": {
      "text/plain": [
       "   hadm_id           charttime  subject_id  HeartRate  SysBP  DiasBP  MeanBP  \\\n",
       "0   100001 2117-09-11 12:00:00     58526.0      122.0    NaN     NaN     NaN   \n",
       "1   100001 2117-09-11 13:00:00     58526.0      118.0  192.0   100.0   122.0   \n",
       "2   100001 2117-09-11 14:00:00     58526.0      118.0  165.0    85.0   103.0   \n",
       "3   100001 2117-09-11 15:00:00     58526.0      110.0  119.0    64.0    76.0   \n",
       "4   100001 2117-09-11 16:00:00     58526.0      104.0  169.0    84.0   105.0   \n",
       "\n",
       "   RespRate      TempC   SpO2  Glucose  mortality        hr  \n",
       "0      14.0        NaN    NaN      NaN        0.0  1.183333  \n",
       "1      22.0  36.666667    NaN      NaN        0.0  1.645833  \n",
       "2      15.0        NaN    NaN      NaN        0.0  2.233333  \n",
       "3      15.0        NaN    NaN      NaN        0.0  3.233333  \n",
       "4      16.0  36.611111  100.0      NaN        0.0  4.250000  "
      ],
      "text/html": "<div>\n<style scoped>\n    .dataframe tbody tr th:only-of-type {\n        vertical-align: middle;\n    }\n\n    .dataframe tbody tr th {\n        vertical-align: top;\n    }\n\n    .dataframe thead th {\n        text-align: right;\n    }\n</style>\n<table border=\"1\" class=\"dataframe\">\n  <thead>\n    <tr style=\"text-align: right;\">\n      <th></th>\n      <th>hadm_id</th>\n      <th>charttime</th>\n      <th>subject_id</th>\n      <th>HeartRate</th>\n      <th>SysBP</th>\n      <th>DiasBP</th>\n      <th>MeanBP</th>\n      <th>RespRate</th>\n      <th>TempC</th>\n      <th>SpO2</th>\n      <th>Glucose</th>\n      <th>mortality</th>\n      <th>hr</th>\n    </tr>\n  </thead>\n  <tbody>\n    <tr>\n      <th>0</th>\n      <td>100001</td>\n      <td>2117-09-11 12:00:00</td>\n      <td>58526.0</td>\n      <td>122.0</td>\n      <td>NaN</td>\n      <td>NaN</td>\n      <td>NaN</td>\n      <td>14.0</td>\n      <td>NaN</td>\n      <td>NaN</td>\n      <td>NaN</td>\n      <td>0.0</td>\n      <td>1.183333</td>\n    </tr>\n    <tr>\n      <th>1</th>\n      <td>100001</td>\n      <td>2117-09-11 13:00:00</td>\n      <td>58526.0</td>\n      <td>118.0</td>\n      <td>192.0</td>\n      <td>100.0</td>\n      <td>122.0</td>\n      <td>22.0</td>\n      <td>36.666667</td>\n      <td>NaN</td>\n      <td>NaN</td>\n      <td>0.0</td>\n      <td>1.645833</td>\n    </tr>\n    <tr>\n      <th>2</th>\n      <td>100001</td>\n      <td>2117-09-11 14:00:00</td>\n      <td>58526.0</td>\n      <td>118.0</td>\n      <td>165.0</td>\n      <td>85.0</td>\n      <td>103.0</td>\n      <td>15.0</td>\n      <td>NaN</td>\n      <td>NaN</td>\n      <td>NaN</td>\n      <td>0.0</td>\n      <td>2.233333</td>\n    </tr>\n    <tr>\n      <th>3</th>\n      <td>100001</td>\n      <td>2117-09-11 15:00:00</td>\n      <td>58526.0</td>\n      <td>110.0</td>\n      <td>119.0</td>\n      <td>64.0</td>\n      <td>76.0</td>\n      <td>15.0</td>\n      <td>NaN</td>\n      <td>NaN</td>\n      <td>NaN</td>\n      <td>0.0</td>\n      <td>3.233333</td>\n    </tr>\n    <tr>\n      <th>4</th>\n      <td>100001</td>\n      <td>2117-09-11 16:00:00</td>\n      <td>58526.0</td>\n      <td>104.0</td>\n      <td>169.0</td>\n      <td>84.0</td>\n      <td>105.0</td>\n      <td>16.0</td>\n      <td>36.611111</td>\n      <td>100.0</td>\n      <td>NaN</td>\n      <td>0.0</td>\n      <td>4.250000</td>\n    </tr>\n  </tbody>\n</table>\n</div>"
     },
     "metadata": {},
     "execution_count": 32
    }
   ],
   "source": [
    "df_vitals.head()"
   ]
  },
  {
   "cell_type": "code",
   "execution_count": 33,
   "metadata": {},
   "outputs": [
    {
     "output_type": "execute_result",
     "data": {
      "text/plain": [
       "   subject_id  hadm_id            admittime            charttime  HeartRate  \\\n",
       "0          23   152223  2153-09-03 07:15:00  2153-09-03 12:20:00        NaN   \n",
       "1          23   152223  2153-09-03 07:15:00  2153-09-03 12:30:00       90.0   \n",
       "2          23   152223  2153-09-03 07:15:00  2153-09-03 12:45:00       90.0   \n",
       "3          23   152223  2153-09-03 07:15:00  2153-09-03 13:00:00       90.0   \n",
       "4          23   152223  2153-09-03 07:15:00  2153-09-03 13:15:00       90.0   \n",
       "\n",
       "   SysBP  DiasBP  MeanBP  RespRate  TempC   SpO2  Glucose  mortality  \n",
       "0    NaN     NaN     NaN      12.0    NaN    NaN      NaN          0  \n",
       "1  106.0    62.0    77.0       7.0   35.0  100.0      NaN          0  \n",
       "2  109.0    63.0    79.0       NaN    NaN  100.0      NaN          0  \n",
       "3   92.0    57.0    69.0      13.0    NaN  100.0      NaN          0  \n",
       "4   98.0    55.0    70.0      12.0    NaN  100.0      NaN          0  "
      ],
      "text/html": "<div>\n<style scoped>\n    .dataframe tbody tr th:only-of-type {\n        vertical-align: middle;\n    }\n\n    .dataframe tbody tr th {\n        vertical-align: top;\n    }\n\n    .dataframe thead th {\n        text-align: right;\n    }\n</style>\n<table border=\"1\" class=\"dataframe\">\n  <thead>\n    <tr style=\"text-align: right;\">\n      <th></th>\n      <th>subject_id</th>\n      <th>hadm_id</th>\n      <th>admittime</th>\n      <th>charttime</th>\n      <th>HeartRate</th>\n      <th>SysBP</th>\n      <th>DiasBP</th>\n      <th>MeanBP</th>\n      <th>RespRate</th>\n      <th>TempC</th>\n      <th>SpO2</th>\n      <th>Glucose</th>\n      <th>mortality</th>\n    </tr>\n  </thead>\n  <tbody>\n    <tr>\n      <th>0</th>\n      <td>23</td>\n      <td>152223</td>\n      <td>2153-09-03 07:15:00</td>\n      <td>2153-09-03 12:20:00</td>\n      <td>NaN</td>\n      <td>NaN</td>\n      <td>NaN</td>\n      <td>NaN</td>\n      <td>12.0</td>\n      <td>NaN</td>\n      <td>NaN</td>\n      <td>NaN</td>\n      <td>0</td>\n    </tr>\n    <tr>\n      <th>1</th>\n      <td>23</td>\n      <td>152223</td>\n      <td>2153-09-03 07:15:00</td>\n      <td>2153-09-03 12:30:00</td>\n      <td>90.0</td>\n      <td>106.0</td>\n      <td>62.0</td>\n      <td>77.0</td>\n      <td>7.0</td>\n      <td>35.0</td>\n      <td>100.0</td>\n      <td>NaN</td>\n      <td>0</td>\n    </tr>\n    <tr>\n      <th>2</th>\n      <td>23</td>\n      <td>152223</td>\n      <td>2153-09-03 07:15:00</td>\n      <td>2153-09-03 12:45:00</td>\n      <td>90.0</td>\n      <td>109.0</td>\n      <td>63.0</td>\n      <td>79.0</td>\n      <td>NaN</td>\n      <td>NaN</td>\n      <td>100.0</td>\n      <td>NaN</td>\n      <td>0</td>\n    </tr>\n    <tr>\n      <th>3</th>\n      <td>23</td>\n      <td>152223</td>\n      <td>2153-09-03 07:15:00</td>\n      <td>2153-09-03 13:00:00</td>\n      <td>90.0</td>\n      <td>92.0</td>\n      <td>57.0</td>\n      <td>69.0</td>\n      <td>13.0</td>\n      <td>NaN</td>\n      <td>100.0</td>\n      <td>NaN</td>\n      <td>0</td>\n    </tr>\n    <tr>\n      <th>4</th>\n      <td>23</td>\n      <td>152223</td>\n      <td>2153-09-03 07:15:00</td>\n      <td>2153-09-03 13:15:00</td>\n      <td>90.0</td>\n      <td>98.0</td>\n      <td>55.0</td>\n      <td>70.0</td>\n      <td>12.0</td>\n      <td>NaN</td>\n      <td>100.0</td>\n      <td>NaN</td>\n      <td>0</td>\n    </tr>\n  </tbody>\n</table>\n</div>"
     },
     "metadata": {},
     "execution_count": 33
    }
   ],
   "source": [
    "vitals.head()"
   ]
  },
  {
   "cell_type": "code",
   "execution_count": 34,
   "metadata": {},
   "outputs": [],
   "source": [
    "## transform vitals to tabular format"
   ]
  },
  {
   "cell_type": "code",
   "execution_count": 35,
   "metadata": {},
   "outputs": [],
   "source": [
    "\n",
    "df_vitals.hadm_id.value_counts()\n",
    "df_vitals_sc = df_vitals[[\"hadm_id\", \"subject_id\", \"mortality\", \"HeartRate\", \"SysBP\", \"DiasBP\", \"MeanBP\", \"RespRate\", \"TempC\", \"SpO2\", \"Glucose\"]]"
   ]
  },
  {
   "cell_type": "code",
   "execution_count": 52,
   "metadata": {},
   "outputs": [
    {
     "output_type": "execute_result",
     "data": {
      "text/plain": [
       "        HeartRate  SysBP  DiasBP  MeanBP  RespRate      TempC   SpO2  Glucose\n",
       "0           122.0    NaN     NaN     NaN      14.0        NaN    NaN      NaN\n",
       "1           118.0  192.0   100.0   122.0      22.0  36.666667    NaN      NaN\n",
       "2           118.0  165.0    85.0   103.0      15.0        NaN    NaN      NaN\n",
       "3           110.0  119.0    64.0    76.0      15.0        NaN    NaN      NaN\n",
       "4           104.0  169.0    84.0   105.0      16.0  36.611111  100.0      NaN\n",
       "...           ...    ...     ...     ...       ...        ...    ...      ...\n",
       "550814       83.0   94.0    69.0    83.0      14.0        NaN    NaN      NaN\n",
       "550815        NaN    NaN     NaN     NaN       NaN        NaN    NaN      NaN\n",
       "550816       84.0   95.0    68.0    81.0      13.0  36.222221    NaN      NaN\n",
       "550817        NaN    NaN     NaN     NaN       NaN        NaN    NaN      NaN\n",
       "550818       84.0  101.0    77.0    89.0      15.0        NaN   96.0      NaN\n",
       "\n",
       "[550819 rows x 8 columns]"
      ],
      "text/html": "<div>\n<style scoped>\n    .dataframe tbody tr th:only-of-type {\n        vertical-align: middle;\n    }\n\n    .dataframe tbody tr th {\n        vertical-align: top;\n    }\n\n    .dataframe thead th {\n        text-align: right;\n    }\n</style>\n<table border=\"1\" class=\"dataframe\">\n  <thead>\n    <tr style=\"text-align: right;\">\n      <th></th>\n      <th>HeartRate</th>\n      <th>SysBP</th>\n      <th>DiasBP</th>\n      <th>MeanBP</th>\n      <th>RespRate</th>\n      <th>TempC</th>\n      <th>SpO2</th>\n      <th>Glucose</th>\n    </tr>\n  </thead>\n  <tbody>\n    <tr>\n      <th>0</th>\n      <td>122.0</td>\n      <td>NaN</td>\n      <td>NaN</td>\n      <td>NaN</td>\n      <td>14.0</td>\n      <td>NaN</td>\n      <td>NaN</td>\n      <td>NaN</td>\n    </tr>\n    <tr>\n      <th>1</th>\n      <td>118.0</td>\n      <td>192.0</td>\n      <td>100.0</td>\n      <td>122.0</td>\n      <td>22.0</td>\n      <td>36.666667</td>\n      <td>NaN</td>\n      <td>NaN</td>\n    </tr>\n    <tr>\n      <th>2</th>\n      <td>118.0</td>\n      <td>165.0</td>\n      <td>85.0</td>\n      <td>103.0</td>\n      <td>15.0</td>\n      <td>NaN</td>\n      <td>NaN</td>\n      <td>NaN</td>\n    </tr>\n    <tr>\n      <th>3</th>\n      <td>110.0</td>\n      <td>119.0</td>\n      <td>64.0</td>\n      <td>76.0</td>\n      <td>15.0</td>\n      <td>NaN</td>\n      <td>NaN</td>\n      <td>NaN</td>\n    </tr>\n    <tr>\n      <th>4</th>\n      <td>104.0</td>\n      <td>169.0</td>\n      <td>84.0</td>\n      <td>105.0</td>\n      <td>16.0</td>\n      <td>36.611111</td>\n      <td>100.0</td>\n      <td>NaN</td>\n    </tr>\n    <tr>\n      <th>...</th>\n      <td>...</td>\n      <td>...</td>\n      <td>...</td>\n      <td>...</td>\n      <td>...</td>\n      <td>...</td>\n      <td>...</td>\n      <td>...</td>\n    </tr>\n    <tr>\n      <th>550814</th>\n      <td>83.0</td>\n      <td>94.0</td>\n      <td>69.0</td>\n      <td>83.0</td>\n      <td>14.0</td>\n      <td>NaN</td>\n      <td>NaN</td>\n      <td>NaN</td>\n    </tr>\n    <tr>\n      <th>550815</th>\n      <td>NaN</td>\n      <td>NaN</td>\n      <td>NaN</td>\n      <td>NaN</td>\n      <td>NaN</td>\n      <td>NaN</td>\n      <td>NaN</td>\n      <td>NaN</td>\n    </tr>\n    <tr>\n      <th>550816</th>\n      <td>84.0</td>\n      <td>95.0</td>\n      <td>68.0</td>\n      <td>81.0</td>\n      <td>13.0</td>\n      <td>36.222221</td>\n      <td>NaN</td>\n      <td>NaN</td>\n    </tr>\n    <tr>\n      <th>550817</th>\n      <td>NaN</td>\n      <td>NaN</td>\n      <td>NaN</td>\n      <td>NaN</td>\n      <td>NaN</td>\n      <td>NaN</td>\n      <td>NaN</td>\n      <td>NaN</td>\n    </tr>\n    <tr>\n      <th>550818</th>\n      <td>84.0</td>\n      <td>101.0</td>\n      <td>77.0</td>\n      <td>89.0</td>\n      <td>15.0</td>\n      <td>NaN</td>\n      <td>96.0</td>\n      <td>NaN</td>\n    </tr>\n  </tbody>\n</table>\n<p>550819 rows × 8 columns</p>\n</div>"
     },
     "metadata": {},
     "execution_count": 52
    }
   ],
   "source": []
  },
  {
   "cell_type": "code",
   "execution_count": 36,
   "metadata": {},
   "outputs": [
    {
     "output_type": "execute_result",
     "data": {
      "text/plain": [
       "151542    24\n",
       "174080    24\n",
       "130026    24\n",
       "177027    24\n",
       "166724    24\n",
       "          ..\n",
       "115347    24\n",
       "191094    24\n",
       "195124    24\n",
       "119313    24\n",
       "145415    24\n",
       "Name: hadm_id, Length: 3623, dtype: int64"
      ]
     },
     "metadata": {},
     "execution_count": 36
    }
   ],
   "source": [
    "from sklearn.preprocessing import MinMaxScaler\n",
    "df_vitals.hadm_id.value_counts()\n",
    "df_vitals_sc = df_vitals[[\"hadm_id\", \"subject_id\", \"mortality\", \"HeartRate\", \"SysBP\", \"DiasBP\", \"MeanBP\", \"RespRate\", \"TempC\", \"SpO2\", \"Glucose\"]]\n",
    "\n",
    "## impute using 0\n",
    "df_vitals_sc = df_vitals_sc.replace(np.NaN, 0)\n",
    "\n",
    "#scaler = MinMaxScaler()\n",
    "\n",
    "#df_vitals_scaled = scaler.fit_transform(df_vitals_sc.iloc[:, 2:])\n",
    "\n",
    "#df_vitals_scaled = pd.DataFrame(df_vitals_scaled, columns=df_vitals_sc.columns[2:], index = df_vitals_sc.index)\n",
    "#df_vitals_scaled[\"hadm_id\"] = df_vitals_sc.hadm_id\n",
    "#df_vitals_scaled[\"subject_id\"] = df_vitals_sc.subject_id\n",
    "\n",
    "df_vitals_scaled = df_vitals_sc.copy()\n",
    "## For the patients that have more than 24 hour intervals, we keep the first 24.\n",
    "df_vitals_scaled['counts'] = df_vitals_scaled.groupby(['hadm_id'])['Glucose'].transform('count')\n",
    "vitals_slice = df_vitals_scaled[df_vitals_scaled.counts >=24]\n",
    "\n",
    "vitals_slice.hadm_id.value_counts()\n",
    "\n"
   ]
  },
  {
   "cell_type": "code",
   "execution_count": 37,
   "metadata": {},
   "outputs": [
    {
     "output_type": "execute_result",
     "data": {
      "text/plain": [
       "0.0    73175\n",
       "1.0    13777\n",
       "Name: mortality, dtype: int64"
      ]
     },
     "metadata": {},
     "execution_count": 37
    }
   ],
   "source": [
    "vitals_slice.mortality.value_counts()"
   ]
  },
  {
   "cell_type": "code",
   "execution_count": 38,
   "metadata": {},
   "outputs": [
    {
     "output_type": "execute_result",
     "data": {
      "text/plain": [
       "     hadm_id  subject_id  mortality  HeartRate  SysBP  DiasBP  MeanBP  \\\n",
       "419   100061     11728.0        1.0       72.0  103.0    66.0    75.0   \n",
       "420   100061     11728.0        1.0       75.0   93.0    64.0    72.0   \n",
       "421   100061     11728.0        1.0       73.0  108.0    61.0    71.0   \n",
       "422   100061     11728.0        1.0       75.0  107.0    59.0    71.0   \n",
       "423   100061     11728.0        1.0       79.0  118.0    86.0    91.0   \n",
       "\n",
       "     RespRate  TempC  SpO2  Glucose  counts  \n",
       "419      10.0    0.0  93.0      0.0      24  \n",
       "420       9.0    0.0  91.0      0.0      24  \n",
       "421      10.0    0.0  94.0      0.0      24  \n",
       "422      18.0    0.0  95.0      0.0      24  \n",
       "423      16.0    0.0  95.0      0.0      24  "
      ],
      "text/html": "<div>\n<style scoped>\n    .dataframe tbody tr th:only-of-type {\n        vertical-align: middle;\n    }\n\n    .dataframe tbody tr th {\n        vertical-align: top;\n    }\n\n    .dataframe thead th {\n        text-align: right;\n    }\n</style>\n<table border=\"1\" class=\"dataframe\">\n  <thead>\n    <tr style=\"text-align: right;\">\n      <th></th>\n      <th>hadm_id</th>\n      <th>subject_id</th>\n      <th>mortality</th>\n      <th>HeartRate</th>\n      <th>SysBP</th>\n      <th>DiasBP</th>\n      <th>MeanBP</th>\n      <th>RespRate</th>\n      <th>TempC</th>\n      <th>SpO2</th>\n      <th>Glucose</th>\n      <th>counts</th>\n    </tr>\n  </thead>\n  <tbody>\n    <tr>\n      <th>419</th>\n      <td>100061</td>\n      <td>11728.0</td>\n      <td>1.0</td>\n      <td>72.0</td>\n      <td>103.0</td>\n      <td>66.0</td>\n      <td>75.0</td>\n      <td>10.0</td>\n      <td>0.0</td>\n      <td>93.0</td>\n      <td>0.0</td>\n      <td>24</td>\n    </tr>\n    <tr>\n      <th>420</th>\n      <td>100061</td>\n      <td>11728.0</td>\n      <td>1.0</td>\n      <td>75.0</td>\n      <td>93.0</td>\n      <td>64.0</td>\n      <td>72.0</td>\n      <td>9.0</td>\n      <td>0.0</td>\n      <td>91.0</td>\n      <td>0.0</td>\n      <td>24</td>\n    </tr>\n    <tr>\n      <th>421</th>\n      <td>100061</td>\n      <td>11728.0</td>\n      <td>1.0</td>\n      <td>73.0</td>\n      <td>108.0</td>\n      <td>61.0</td>\n      <td>71.0</td>\n      <td>10.0</td>\n      <td>0.0</td>\n      <td>94.0</td>\n      <td>0.0</td>\n      <td>24</td>\n    </tr>\n    <tr>\n      <th>422</th>\n      <td>100061</td>\n      <td>11728.0</td>\n      <td>1.0</td>\n      <td>75.0</td>\n      <td>107.0</td>\n      <td>59.0</td>\n      <td>71.0</td>\n      <td>18.0</td>\n      <td>0.0</td>\n      <td>95.0</td>\n      <td>0.0</td>\n      <td>24</td>\n    </tr>\n    <tr>\n      <th>423</th>\n      <td>100061</td>\n      <td>11728.0</td>\n      <td>1.0</td>\n      <td>79.0</td>\n      <td>118.0</td>\n      <td>86.0</td>\n      <td>91.0</td>\n      <td>16.0</td>\n      <td>0.0</td>\n      <td>95.0</td>\n      <td>0.0</td>\n      <td>24</td>\n    </tr>\n  </tbody>\n</table>\n</div>"
     },
     "metadata": {},
     "execution_count": 38
    }
   ],
   "source": [
    "vitals_slice.head()"
   ]
  },
  {
   "cell_type": "code",
   "execution_count": 39,
   "metadata": {},
   "outputs": [],
   "source": [
    "## for all tables take the same ids"
   ]
  },
  {
   "source": [
    "len(vitals_slice.hadm_id.unique())"
   ],
   "cell_type": "code",
   "metadata": {},
   "execution_count": 40,
   "outputs": [
    {
     "output_type": "execute_result",
     "data": {
      "text/plain": [
       "3623"
      ]
     },
     "metadata": {},
     "execution_count": 40
    }
   ]
  },
  {
   "cell_type": "code",
   "execution_count": 41,
   "metadata": {},
   "outputs": [
    {
     "output_type": "execute_result",
     "data": {
      "text/plain": [
       "array([11728., 42255., 73946., ..., 26198., 28616., 55617.])"
      ]
     },
     "metadata": {},
     "execution_count": 41
    }
   ],
   "source": [
    "vitals_slice.subject_id.unique()"
   ]
  },
  {
   "cell_type": "code",
   "execution_count": 42,
   "metadata": {},
   "outputs": [
    {
     "output_type": "execute_result",
     "data": {
      "text/plain": [
       "Empty DataFrame\n",
       "Columns: [hadm_id, subject_id, mortality, HeartRate, SysBP, DiasBP, MeanBP, RespRate, TempC, SpO2, Glucose, counts]\n",
       "Index: []"
      ],
      "text/html": "<div>\n<style scoped>\n    .dataframe tbody tr th:only-of-type {\n        vertical-align: middle;\n    }\n\n    .dataframe tbody tr th {\n        vertical-align: top;\n    }\n\n    .dataframe thead th {\n        text-align: right;\n    }\n</style>\n<table border=\"1\" class=\"dataframe\">\n  <thead>\n    <tr style=\"text-align: right;\">\n      <th></th>\n      <th>hadm_id</th>\n      <th>subject_id</th>\n      <th>mortality</th>\n      <th>HeartRate</th>\n      <th>SysBP</th>\n      <th>DiasBP</th>\n      <th>MeanBP</th>\n      <th>RespRate</th>\n      <th>TempC</th>\n      <th>SpO2</th>\n      <th>Glucose</th>\n      <th>counts</th>\n    </tr>\n  </thead>\n  <tbody>\n  </tbody>\n</table>\n</div>"
     },
     "metadata": {},
     "execution_count": 42
    }
   ],
   "source": [
    "vitals_slice[vitals_slice.hadm_id==None]"
   ]
  },
  {
   "cell_type": "code",
   "execution_count": 43,
   "metadata": {},
   "outputs": [
    {
     "output_type": "execute_result",
     "data": {
      "text/plain": [
       "        subject_id  hadm_id\n",
       "419        11728.0   100061\n",
       "420        11728.0   100061\n",
       "421        11728.0   100061\n",
       "422        11728.0   100061\n",
       "423        11728.0   100061\n",
       "...            ...      ...\n",
       "525197     55617.0   199984\n",
       "525198     55617.0   199984\n",
       "525199     55617.0   199984\n",
       "525200     55617.0   199984\n",
       "525201     55617.0   199984\n",
       "\n",
       "[86952 rows x 2 columns]"
      ],
      "text/html": "<div>\n<style scoped>\n    .dataframe tbody tr th:only-of-type {\n        vertical-align: middle;\n    }\n\n    .dataframe tbody tr th {\n        vertical-align: top;\n    }\n\n    .dataframe thead th {\n        text-align: right;\n    }\n</style>\n<table border=\"1\" class=\"dataframe\">\n  <thead>\n    <tr style=\"text-align: right;\">\n      <th></th>\n      <th>subject_id</th>\n      <th>hadm_id</th>\n    </tr>\n  </thead>\n  <tbody>\n    <tr>\n      <th>419</th>\n      <td>11728.0</td>\n      <td>100061</td>\n    </tr>\n    <tr>\n      <th>420</th>\n      <td>11728.0</td>\n      <td>100061</td>\n    </tr>\n    <tr>\n      <th>421</th>\n      <td>11728.0</td>\n      <td>100061</td>\n    </tr>\n    <tr>\n      <th>422</th>\n      <td>11728.0</td>\n      <td>100061</td>\n    </tr>\n    <tr>\n      <th>423</th>\n      <td>11728.0</td>\n      <td>100061</td>\n    </tr>\n    <tr>\n      <th>...</th>\n      <td>...</td>\n      <td>...</td>\n    </tr>\n    <tr>\n      <th>525197</th>\n      <td>55617.0</td>\n      <td>199984</td>\n    </tr>\n    <tr>\n      <th>525198</th>\n      <td>55617.0</td>\n      <td>199984</td>\n    </tr>\n    <tr>\n      <th>525199</th>\n      <td>55617.0</td>\n      <td>199984</td>\n    </tr>\n    <tr>\n      <th>525200</th>\n      <td>55617.0</td>\n      <td>199984</td>\n    </tr>\n    <tr>\n      <th>525201</th>\n      <td>55617.0</td>\n      <td>199984</td>\n    </tr>\n  </tbody>\n</table>\n<p>86952 rows × 2 columns</p>\n</div>"
     },
     "metadata": {},
     "execution_count": 43
    }
   ],
   "source": [
    "vitals_slice[[\"subject_id\", \"hadm_id\"]]"
   ]
  },
  {
   "cell_type": "code",
   "execution_count": 44,
   "metadata": {},
   "outputs": [
    {
     "output_type": "execute_result",
     "data": {
      "text/plain": [
       "                    F  M  18-25  25-45  45-65  65-89  89+\n",
       "hadm_id subject_id                                       \n",
       "100001  58526       1  0      0      1      0      0    0\n",
       "100006  9895        1  0      0      0      1      0    0\n",
       "100007  23018       1  0      0      0      0      1    0\n",
       "100009  533         0  1      0      0      1      0    0\n",
       "100010  55853       1  0      0      0      1      0    0\n",
       "...                .. ..    ...    ...    ...    ...  ...\n",
       "199988  25780       0  1      0      0      0      1    0\n",
       "199993  20785       0  1      0      0      1      0    0\n",
       "199995  19412       0  1      1      0      0      0    0\n",
       "199998  27200       0  1      0      0      0      1    0\n",
       "199999  40370       0  1      0      0      0      1    0\n",
       "\n",
       "[33564 rows x 7 columns]"
      ],
      "text/html": "<div>\n<style scoped>\n    .dataframe tbody tr th:only-of-type {\n        vertical-align: middle;\n    }\n\n    .dataframe tbody tr th {\n        vertical-align: top;\n    }\n\n    .dataframe thead th {\n        text-align: right;\n    }\n</style>\n<table border=\"1\" class=\"dataframe\">\n  <thead>\n    <tr style=\"text-align: right;\">\n      <th></th>\n      <th></th>\n      <th>F</th>\n      <th>M</th>\n      <th>18-25</th>\n      <th>25-45</th>\n      <th>45-65</th>\n      <th>65-89</th>\n      <th>89+</th>\n    </tr>\n    <tr>\n      <th>hadm_id</th>\n      <th>subject_id</th>\n      <th></th>\n      <th></th>\n      <th></th>\n      <th></th>\n      <th></th>\n      <th></th>\n      <th></th>\n    </tr>\n  </thead>\n  <tbody>\n    <tr>\n      <th>100001</th>\n      <th>58526</th>\n      <td>1</td>\n      <td>0</td>\n      <td>0</td>\n      <td>1</td>\n      <td>0</td>\n      <td>0</td>\n      <td>0</td>\n    </tr>\n    <tr>\n      <th>100006</th>\n      <th>9895</th>\n      <td>1</td>\n      <td>0</td>\n      <td>0</td>\n      <td>0</td>\n      <td>1</td>\n      <td>0</td>\n      <td>0</td>\n    </tr>\n    <tr>\n      <th>100007</th>\n      <th>23018</th>\n      <td>1</td>\n      <td>0</td>\n      <td>0</td>\n      <td>0</td>\n      <td>0</td>\n      <td>1</td>\n      <td>0</td>\n    </tr>\n    <tr>\n      <th>100009</th>\n      <th>533</th>\n      <td>0</td>\n      <td>1</td>\n      <td>0</td>\n      <td>0</td>\n      <td>1</td>\n      <td>0</td>\n      <td>0</td>\n    </tr>\n    <tr>\n      <th>100010</th>\n      <th>55853</th>\n      <td>1</td>\n      <td>0</td>\n      <td>0</td>\n      <td>0</td>\n      <td>1</td>\n      <td>0</td>\n      <td>0</td>\n    </tr>\n    <tr>\n      <th>...</th>\n      <th>...</th>\n      <td>...</td>\n      <td>...</td>\n      <td>...</td>\n      <td>...</td>\n      <td>...</td>\n      <td>...</td>\n      <td>...</td>\n    </tr>\n    <tr>\n      <th>199988</th>\n      <th>25780</th>\n      <td>0</td>\n      <td>1</td>\n      <td>0</td>\n      <td>0</td>\n      <td>0</td>\n      <td>1</td>\n      <td>0</td>\n    </tr>\n    <tr>\n      <th>199993</th>\n      <th>20785</th>\n      <td>0</td>\n      <td>1</td>\n      <td>0</td>\n      <td>0</td>\n      <td>1</td>\n      <td>0</td>\n      <td>0</td>\n    </tr>\n    <tr>\n      <th>199995</th>\n      <th>19412</th>\n      <td>0</td>\n      <td>1</td>\n      <td>1</td>\n      <td>0</td>\n      <td>0</td>\n      <td>0</td>\n      <td>0</td>\n    </tr>\n    <tr>\n      <th>199998</th>\n      <th>27200</th>\n      <td>0</td>\n      <td>1</td>\n      <td>0</td>\n      <td>0</td>\n      <td>0</td>\n      <td>1</td>\n      <td>0</td>\n    </tr>\n    <tr>\n      <th>199999</th>\n      <th>40370</th>\n      <td>0</td>\n      <td>1</td>\n      <td>0</td>\n      <td>0</td>\n      <td>0</td>\n      <td>1</td>\n      <td>0</td>\n    </tr>\n  </tbody>\n</table>\n<p>33564 rows × 7 columns</p>\n</div>"
     },
     "metadata": {},
     "execution_count": 44
    }
   ],
   "source": [
    "demographics"
   ]
  },
  {
   "cell_type": "code",
   "execution_count": 45,
   "metadata": {},
   "outputs": [],
   "source": [
    "demographics = demographics.reset_index()\n",
    "demos = demographics[demographics.hadm_id.isin(list(vitals_slice.hadm_id.unique()))]"
   ]
  },
  {
   "cell_type": "code",
   "execution_count": 46,
   "metadata": {},
   "outputs": [
    {
     "output_type": "error",
     "ename": "KeyError",
     "evalue": "\"['level_0' 'index'] not found in axis\"",
     "traceback": [
      "\u001b[1;31m---------------------------------------------------------------------------\u001b[0m",
      "\u001b[1;31mKeyError\u001b[0m                                  Traceback (most recent call last)",
      "\u001b[1;32m<ipython-input-46-17565d069445>\u001b[0m in \u001b[0;36m<module>\u001b[1;34m\u001b[0m\n\u001b[1;32m----> 1\u001b[1;33m \u001b[0mdemos\u001b[0m\u001b[1;33m.\u001b[0m\u001b[0mdrop\u001b[0m\u001b[1;33m(\u001b[0m\u001b[1;33m[\u001b[0m\u001b[1;34m'level_0'\u001b[0m\u001b[1;33m,\u001b[0m \u001b[1;34m\"index\"\u001b[0m\u001b[1;33m]\u001b[0m\u001b[1;33m,\u001b[0m \u001b[0maxis\u001b[0m\u001b[1;33m=\u001b[0m\u001b[1;36m1\u001b[0m\u001b[1;33m,\u001b[0m \u001b[0minplace\u001b[0m\u001b[1;33m=\u001b[0m\u001b[1;32mTrue\u001b[0m\u001b[1;33m)\u001b[0m\u001b[1;33m\u001b[0m\u001b[1;33m\u001b[0m\u001b[0m\n\u001b[0m",
      "\u001b[1;32m~\\AppData\\Local\\Programs\\Python\\Python37\\lib\\site-packages\\pandas\\core\\frame.py\u001b[0m in \u001b[0;36mdrop\u001b[1;34m(self, labels, axis, index, columns, level, inplace, errors)\u001b[0m\n\u001b[0;32m   4172\u001b[0m             \u001b[0mlevel\u001b[0m\u001b[1;33m=\u001b[0m\u001b[0mlevel\u001b[0m\u001b[1;33m,\u001b[0m\u001b[1;33m\u001b[0m\u001b[1;33m\u001b[0m\u001b[0m\n\u001b[0;32m   4173\u001b[0m             \u001b[0minplace\u001b[0m\u001b[1;33m=\u001b[0m\u001b[0minplace\u001b[0m\u001b[1;33m,\u001b[0m\u001b[1;33m\u001b[0m\u001b[1;33m\u001b[0m\u001b[0m\n\u001b[1;32m-> 4174\u001b[1;33m             \u001b[0merrors\u001b[0m\u001b[1;33m=\u001b[0m\u001b[0merrors\u001b[0m\u001b[1;33m,\u001b[0m\u001b[1;33m\u001b[0m\u001b[1;33m\u001b[0m\u001b[0m\n\u001b[0m\u001b[0;32m   4175\u001b[0m         )\n\u001b[0;32m   4176\u001b[0m \u001b[1;33m\u001b[0m\u001b[0m\n",
      "\u001b[1;32m~\\AppData\\Local\\Programs\\Python\\Python37\\lib\\site-packages\\pandas\\core\\generic.py\u001b[0m in \u001b[0;36mdrop\u001b[1;34m(self, labels, axis, index, columns, level, inplace, errors)\u001b[0m\n\u001b[0;32m   3885\u001b[0m         \u001b[1;32mfor\u001b[0m \u001b[0maxis\u001b[0m\u001b[1;33m,\u001b[0m \u001b[0mlabels\u001b[0m \u001b[1;32min\u001b[0m \u001b[0maxes\u001b[0m\u001b[1;33m.\u001b[0m\u001b[0mitems\u001b[0m\u001b[1;33m(\u001b[0m\u001b[1;33m)\u001b[0m\u001b[1;33m:\u001b[0m\u001b[1;33m\u001b[0m\u001b[1;33m\u001b[0m\u001b[0m\n\u001b[0;32m   3886\u001b[0m             \u001b[1;32mif\u001b[0m \u001b[0mlabels\u001b[0m \u001b[1;32mis\u001b[0m \u001b[1;32mnot\u001b[0m \u001b[1;32mNone\u001b[0m\u001b[1;33m:\u001b[0m\u001b[1;33m\u001b[0m\u001b[1;33m\u001b[0m\u001b[0m\n\u001b[1;32m-> 3887\u001b[1;33m                 \u001b[0mobj\u001b[0m \u001b[1;33m=\u001b[0m \u001b[0mobj\u001b[0m\u001b[1;33m.\u001b[0m\u001b[0m_drop_axis\u001b[0m\u001b[1;33m(\u001b[0m\u001b[0mlabels\u001b[0m\u001b[1;33m,\u001b[0m \u001b[0maxis\u001b[0m\u001b[1;33m,\u001b[0m \u001b[0mlevel\u001b[0m\u001b[1;33m=\u001b[0m\u001b[0mlevel\u001b[0m\u001b[1;33m,\u001b[0m \u001b[0merrors\u001b[0m\u001b[1;33m=\u001b[0m\u001b[0merrors\u001b[0m\u001b[1;33m)\u001b[0m\u001b[1;33m\u001b[0m\u001b[1;33m\u001b[0m\u001b[0m\n\u001b[0m\u001b[0;32m   3888\u001b[0m \u001b[1;33m\u001b[0m\u001b[0m\n\u001b[0;32m   3889\u001b[0m         \u001b[1;32mif\u001b[0m \u001b[0minplace\u001b[0m\u001b[1;33m:\u001b[0m\u001b[1;33m\u001b[0m\u001b[1;33m\u001b[0m\u001b[0m\n",
      "\u001b[1;32m~\\AppData\\Local\\Programs\\Python\\Python37\\lib\\site-packages\\pandas\\core\\generic.py\u001b[0m in \u001b[0;36m_drop_axis\u001b[1;34m(self, labels, axis, level, errors)\u001b[0m\n\u001b[0;32m   3919\u001b[0m                 \u001b[0mnew_axis\u001b[0m \u001b[1;33m=\u001b[0m \u001b[0maxis\u001b[0m\u001b[1;33m.\u001b[0m\u001b[0mdrop\u001b[0m\u001b[1;33m(\u001b[0m\u001b[0mlabels\u001b[0m\u001b[1;33m,\u001b[0m \u001b[0mlevel\u001b[0m\u001b[1;33m=\u001b[0m\u001b[0mlevel\u001b[0m\u001b[1;33m,\u001b[0m \u001b[0merrors\u001b[0m\u001b[1;33m=\u001b[0m\u001b[0merrors\u001b[0m\u001b[1;33m)\u001b[0m\u001b[1;33m\u001b[0m\u001b[1;33m\u001b[0m\u001b[0m\n\u001b[0;32m   3920\u001b[0m             \u001b[1;32melse\u001b[0m\u001b[1;33m:\u001b[0m\u001b[1;33m\u001b[0m\u001b[1;33m\u001b[0m\u001b[0m\n\u001b[1;32m-> 3921\u001b[1;33m                 \u001b[0mnew_axis\u001b[0m \u001b[1;33m=\u001b[0m \u001b[0maxis\u001b[0m\u001b[1;33m.\u001b[0m\u001b[0mdrop\u001b[0m\u001b[1;33m(\u001b[0m\u001b[0mlabels\u001b[0m\u001b[1;33m,\u001b[0m \u001b[0merrors\u001b[0m\u001b[1;33m=\u001b[0m\u001b[0merrors\u001b[0m\u001b[1;33m)\u001b[0m\u001b[1;33m\u001b[0m\u001b[1;33m\u001b[0m\u001b[0m\n\u001b[0m\u001b[0;32m   3922\u001b[0m             \u001b[0mresult\u001b[0m \u001b[1;33m=\u001b[0m \u001b[0mself\u001b[0m\u001b[1;33m.\u001b[0m\u001b[0mreindex\u001b[0m\u001b[1;33m(\u001b[0m\u001b[1;33m**\u001b[0m\u001b[1;33m{\u001b[0m\u001b[0maxis_name\u001b[0m\u001b[1;33m:\u001b[0m \u001b[0mnew_axis\u001b[0m\u001b[1;33m}\u001b[0m\u001b[1;33m)\u001b[0m\u001b[1;33m\u001b[0m\u001b[1;33m\u001b[0m\u001b[0m\n\u001b[0;32m   3923\u001b[0m \u001b[1;33m\u001b[0m\u001b[0m\n",
      "\u001b[1;32m~\\AppData\\Local\\Programs\\Python\\Python37\\lib\\site-packages\\pandas\\core\\indexes\\base.py\u001b[0m in \u001b[0;36mdrop\u001b[1;34m(self, labels, errors)\u001b[0m\n\u001b[0;32m   5282\u001b[0m         \u001b[1;32mif\u001b[0m \u001b[0mmask\u001b[0m\u001b[1;33m.\u001b[0m\u001b[0many\u001b[0m\u001b[1;33m(\u001b[0m\u001b[1;33m)\u001b[0m\u001b[1;33m:\u001b[0m\u001b[1;33m\u001b[0m\u001b[1;33m\u001b[0m\u001b[0m\n\u001b[0;32m   5283\u001b[0m             \u001b[1;32mif\u001b[0m \u001b[0merrors\u001b[0m \u001b[1;33m!=\u001b[0m \u001b[1;34m\"ignore\"\u001b[0m\u001b[1;33m:\u001b[0m\u001b[1;33m\u001b[0m\u001b[1;33m\u001b[0m\u001b[0m\n\u001b[1;32m-> 5284\u001b[1;33m                 \u001b[1;32mraise\u001b[0m \u001b[0mKeyError\u001b[0m\u001b[1;33m(\u001b[0m\u001b[1;34mf\"{labels[mask]} not found in axis\"\u001b[0m\u001b[1;33m)\u001b[0m\u001b[1;33m\u001b[0m\u001b[1;33m\u001b[0m\u001b[0m\n\u001b[0m\u001b[0;32m   5285\u001b[0m             \u001b[0mindexer\u001b[0m \u001b[1;33m=\u001b[0m \u001b[0mindexer\u001b[0m\u001b[1;33m[\u001b[0m\u001b[1;33m~\u001b[0m\u001b[0mmask\u001b[0m\u001b[1;33m]\u001b[0m\u001b[1;33m\u001b[0m\u001b[1;33m\u001b[0m\u001b[0m\n\u001b[0;32m   5286\u001b[0m         \u001b[1;32mreturn\u001b[0m \u001b[0mself\u001b[0m\u001b[1;33m.\u001b[0m\u001b[0mdelete\u001b[0m\u001b[1;33m(\u001b[0m\u001b[0mindexer\u001b[0m\u001b[1;33m)\u001b[0m\u001b[1;33m\u001b[0m\u001b[1;33m\u001b[0m\u001b[0m\n",
      "\u001b[1;31mKeyError\u001b[0m: \"['level_0' 'index'] not found in axis\""
     ]
    }
   ],
   "source": [
    "demos.drop(['level_0', \"index\"], axis=1, inplace=True)"
   ]
  },
  {
   "cell_type": "code",
   "execution_count": 47,
   "metadata": {},
   "outputs": [
    {
     "output_type": "execute_result",
     "data": {
      "text/plain": [
       "       hadm_id  subject_id  F  M  18-25  25-45  45-65  65-89  89+\n",
       "26      100061       11728  1  0      0      0      1      0    0\n",
       "34      100087       42255  0  1      0      0      1      0    0\n",
       "39      100104       73946  0  1      0      1      0      0    0\n",
       "40      100108       20587  0  1      0      0      1      0    0\n",
       "59      100156       13544  0  1      0      0      0      1    0\n",
       "...        ...         ... .. ..    ...    ...    ...    ...  ...\n",
       "33538   199941       22219  1  0      0      0      0      0    1\n",
       "33543   199952       22711  0  1      0      0      0      1    0\n",
       "33554   199976       26198  0  1      0      0      0      1    0\n",
       "33556   199981       28616  0  1      0      0      0      0    1\n",
       "33557   199984       55617  1  0      0      0      0      0    1\n",
       "\n",
       "[3623 rows x 9 columns]"
      ],
      "text/html": "<div>\n<style scoped>\n    .dataframe tbody tr th:only-of-type {\n        vertical-align: middle;\n    }\n\n    .dataframe tbody tr th {\n        vertical-align: top;\n    }\n\n    .dataframe thead th {\n        text-align: right;\n    }\n</style>\n<table border=\"1\" class=\"dataframe\">\n  <thead>\n    <tr style=\"text-align: right;\">\n      <th></th>\n      <th>hadm_id</th>\n      <th>subject_id</th>\n      <th>F</th>\n      <th>M</th>\n      <th>18-25</th>\n      <th>25-45</th>\n      <th>45-65</th>\n      <th>65-89</th>\n      <th>89+</th>\n    </tr>\n  </thead>\n  <tbody>\n    <tr>\n      <th>26</th>\n      <td>100061</td>\n      <td>11728</td>\n      <td>1</td>\n      <td>0</td>\n      <td>0</td>\n      <td>0</td>\n      <td>1</td>\n      <td>0</td>\n      <td>0</td>\n    </tr>\n    <tr>\n      <th>34</th>\n      <td>100087</td>\n      <td>42255</td>\n      <td>0</td>\n      <td>1</td>\n      <td>0</td>\n      <td>0</td>\n      <td>1</td>\n      <td>0</td>\n      <td>0</td>\n    </tr>\n    <tr>\n      <th>39</th>\n      <td>100104</td>\n      <td>73946</td>\n      <td>0</td>\n      <td>1</td>\n      <td>0</td>\n      <td>1</td>\n      <td>0</td>\n      <td>0</td>\n      <td>0</td>\n    </tr>\n    <tr>\n      <th>40</th>\n      <td>100108</td>\n      <td>20587</td>\n      <td>0</td>\n      <td>1</td>\n      <td>0</td>\n      <td>0</td>\n      <td>1</td>\n      <td>0</td>\n      <td>0</td>\n    </tr>\n    <tr>\n      <th>59</th>\n      <td>100156</td>\n      <td>13544</td>\n      <td>0</td>\n      <td>1</td>\n      <td>0</td>\n      <td>0</td>\n      <td>0</td>\n      <td>1</td>\n      <td>0</td>\n    </tr>\n    <tr>\n      <th>...</th>\n      <td>...</td>\n      <td>...</td>\n      <td>...</td>\n      <td>...</td>\n      <td>...</td>\n      <td>...</td>\n      <td>...</td>\n      <td>...</td>\n      <td>...</td>\n    </tr>\n    <tr>\n      <th>33538</th>\n      <td>199941</td>\n      <td>22219</td>\n      <td>1</td>\n      <td>0</td>\n      <td>0</td>\n      <td>0</td>\n      <td>0</td>\n      <td>0</td>\n      <td>1</td>\n    </tr>\n    <tr>\n      <th>33543</th>\n      <td>199952</td>\n      <td>22711</td>\n      <td>0</td>\n      <td>1</td>\n      <td>0</td>\n      <td>0</td>\n      <td>0</td>\n      <td>1</td>\n      <td>0</td>\n    </tr>\n    <tr>\n      <th>33554</th>\n      <td>199976</td>\n      <td>26198</td>\n      <td>0</td>\n      <td>1</td>\n      <td>0</td>\n      <td>0</td>\n      <td>0</td>\n      <td>1</td>\n      <td>0</td>\n    </tr>\n    <tr>\n      <th>33556</th>\n      <td>199981</td>\n      <td>28616</td>\n      <td>0</td>\n      <td>1</td>\n      <td>0</td>\n      <td>0</td>\n      <td>0</td>\n      <td>0</td>\n      <td>1</td>\n    </tr>\n    <tr>\n      <th>33557</th>\n      <td>199984</td>\n      <td>55617</td>\n      <td>1</td>\n      <td>0</td>\n      <td>0</td>\n      <td>0</td>\n      <td>0</td>\n      <td>0</td>\n      <td>1</td>\n    </tr>\n  </tbody>\n</table>\n<p>3623 rows × 9 columns</p>\n</div>"
     },
     "metadata": {},
     "execution_count": 47
    }
   ],
   "source": [
    "demos"
   ]
  },
  {
   "cell_type": "code",
   "execution_count": 48,
   "metadata": {},
   "outputs": [],
   "source": [
    "df_icd = df_icd.reset_index()\n",
    "icd = df_icd[df_icd.hadm_id.isin(list(vitals_slice.hadm_id.unique()))]"
   ]
  },
  {
   "cell_type": "code",
   "execution_count": 49,
   "metadata": {},
   "outputs": [
    {
     "output_type": "stream",
     "name": "stderr",
     "text": [
      "C:\\Users\\Maria\\AppData\\Local\\Programs\\Python\\Python37\\lib\\site-packages\\pandas\\core\\frame.py:4174: SettingWithCopyWarning: \nA value is trying to be set on a copy of a slice from a DataFrame\n\nSee the caveats in the documentation: https://pandas.pydata.org/pandas-docs/stable/user_guide/indexing.html#returning-a-view-versus-a-copy\n  errors=errors,\n"
     ]
    }
   ],
   "source": [
    "icd.drop([\"index\"], axis=1, inplace=True)"
   ]
  },
  {
   "cell_type": "code",
   "execution_count": 50,
   "metadata": {},
   "outputs": [
    {
     "output_type": "execute_result",
     "data": {
      "text/plain": [
       "       hadm_id  subject_id  1  2  3  4  5  6  7  8  ...  11  12  13  14  15  \\\n",
       "26      100061       11728  0  0  3  0  0  3  3  3  ...   0   0   0   0   0   \n",
       "34      100087       42255  0  0  1  0  0  1  1  1  ...   0   0   0   0   0   \n",
       "39      100104       73946  2  0  0  0  2  0  0  0  ...   0   0   0   0   2   \n",
       "40      100108       20587  0  0  1  1  1  1  1  1  ...   0   0   0   0   0   \n",
       "59      100156       13544  0  0  1  0  0  1  1  1  ...   0   0   0   0   0   \n",
       "...        ...         ... .. .. .. .. .. .. .. ..  ...  ..  ..  ..  ..  ..   \n",
       "33538   199941       22219  0  0  0  0  0  0  1  1  ...   0   0   0   0   0   \n",
       "33543   199952       22711  0  0  1  0  0  0  1  1  ...   0   1   0   1   0   \n",
       "33554   199976       26198  1  0  0  0  0  0  0  1  ...   0   0   0   0   0   \n",
       "33556   199981       28616  0  0  1  1  0  0  1  1  ...   0   0   0   0   0   \n",
       "33557   199984       55617  0  0  1  0  0  1  1  1  ...   0   0   1   0   0   \n",
       "\n",
       "       16  17  18  19  20  \n",
       "26      0   0   0   3   0  \n",
       "34      0   0   1   1   1  \n",
       "39      0   0   2   0   2  \n",
       "40      0   0   1   1   0  \n",
       "59      0   0   0   0   0  \n",
       "...    ..  ..  ..  ..  ..  \n",
       "33538   0   0   0   1   0  \n",
       "33543   0   0   1   0   1  \n",
       "33554   0   0   1   0   1  \n",
       "33556   0   0   1   0   1  \n",
       "33557   0   0   0   1   0  \n",
       "\n",
       "[3623 rows x 22 columns]"
      ],
      "text/html": "<div>\n<style scoped>\n    .dataframe tbody tr th:only-of-type {\n        vertical-align: middle;\n    }\n\n    .dataframe tbody tr th {\n        vertical-align: top;\n    }\n\n    .dataframe thead th {\n        text-align: right;\n    }\n</style>\n<table border=\"1\" class=\"dataframe\">\n  <thead>\n    <tr style=\"text-align: right;\">\n      <th></th>\n      <th>hadm_id</th>\n      <th>subject_id</th>\n      <th>1</th>\n      <th>2</th>\n      <th>3</th>\n      <th>4</th>\n      <th>5</th>\n      <th>6</th>\n      <th>7</th>\n      <th>8</th>\n      <th>...</th>\n      <th>11</th>\n      <th>12</th>\n      <th>13</th>\n      <th>14</th>\n      <th>15</th>\n      <th>16</th>\n      <th>17</th>\n      <th>18</th>\n      <th>19</th>\n      <th>20</th>\n    </tr>\n  </thead>\n  <tbody>\n    <tr>\n      <th>26</th>\n      <td>100061</td>\n      <td>11728</td>\n      <td>0</td>\n      <td>0</td>\n      <td>3</td>\n      <td>0</td>\n      <td>0</td>\n      <td>3</td>\n      <td>3</td>\n      <td>3</td>\n      <td>...</td>\n      <td>0</td>\n      <td>0</td>\n      <td>0</td>\n      <td>0</td>\n      <td>0</td>\n      <td>0</td>\n      <td>0</td>\n      <td>0</td>\n      <td>3</td>\n      <td>0</td>\n    </tr>\n    <tr>\n      <th>34</th>\n      <td>100087</td>\n      <td>42255</td>\n      <td>0</td>\n      <td>0</td>\n      <td>1</td>\n      <td>0</td>\n      <td>0</td>\n      <td>1</td>\n      <td>1</td>\n      <td>1</td>\n      <td>...</td>\n      <td>0</td>\n      <td>0</td>\n      <td>0</td>\n      <td>0</td>\n      <td>0</td>\n      <td>0</td>\n      <td>0</td>\n      <td>1</td>\n      <td>1</td>\n      <td>1</td>\n    </tr>\n    <tr>\n      <th>39</th>\n      <td>100104</td>\n      <td>73946</td>\n      <td>2</td>\n      <td>0</td>\n      <td>0</td>\n      <td>0</td>\n      <td>2</td>\n      <td>0</td>\n      <td>0</td>\n      <td>0</td>\n      <td>...</td>\n      <td>0</td>\n      <td>0</td>\n      <td>0</td>\n      <td>0</td>\n      <td>2</td>\n      <td>0</td>\n      <td>0</td>\n      <td>2</td>\n      <td>0</td>\n      <td>2</td>\n    </tr>\n    <tr>\n      <th>40</th>\n      <td>100108</td>\n      <td>20587</td>\n      <td>0</td>\n      <td>0</td>\n      <td>1</td>\n      <td>1</td>\n      <td>1</td>\n      <td>1</td>\n      <td>1</td>\n      <td>1</td>\n      <td>...</td>\n      <td>0</td>\n      <td>0</td>\n      <td>0</td>\n      <td>0</td>\n      <td>0</td>\n      <td>0</td>\n      <td>0</td>\n      <td>1</td>\n      <td>1</td>\n      <td>0</td>\n    </tr>\n    <tr>\n      <th>59</th>\n      <td>100156</td>\n      <td>13544</td>\n      <td>0</td>\n      <td>0</td>\n      <td>1</td>\n      <td>0</td>\n      <td>0</td>\n      <td>1</td>\n      <td>1</td>\n      <td>1</td>\n      <td>...</td>\n      <td>0</td>\n      <td>0</td>\n      <td>0</td>\n      <td>0</td>\n      <td>0</td>\n      <td>0</td>\n      <td>0</td>\n      <td>0</td>\n      <td>0</td>\n      <td>0</td>\n    </tr>\n    <tr>\n      <th>...</th>\n      <td>...</td>\n      <td>...</td>\n      <td>...</td>\n      <td>...</td>\n      <td>...</td>\n      <td>...</td>\n      <td>...</td>\n      <td>...</td>\n      <td>...</td>\n      <td>...</td>\n      <td>...</td>\n      <td>...</td>\n      <td>...</td>\n      <td>...</td>\n      <td>...</td>\n      <td>...</td>\n      <td>...</td>\n      <td>...</td>\n      <td>...</td>\n      <td>...</td>\n      <td>...</td>\n    </tr>\n    <tr>\n      <th>33538</th>\n      <td>199941</td>\n      <td>22219</td>\n      <td>0</td>\n      <td>0</td>\n      <td>0</td>\n      <td>0</td>\n      <td>0</td>\n      <td>0</td>\n      <td>1</td>\n      <td>1</td>\n      <td>...</td>\n      <td>0</td>\n      <td>0</td>\n      <td>0</td>\n      <td>0</td>\n      <td>0</td>\n      <td>0</td>\n      <td>0</td>\n      <td>0</td>\n      <td>1</td>\n      <td>0</td>\n    </tr>\n    <tr>\n      <th>33543</th>\n      <td>199952</td>\n      <td>22711</td>\n      <td>0</td>\n      <td>0</td>\n      <td>1</td>\n      <td>0</td>\n      <td>0</td>\n      <td>0</td>\n      <td>1</td>\n      <td>1</td>\n      <td>...</td>\n      <td>0</td>\n      <td>1</td>\n      <td>0</td>\n      <td>1</td>\n      <td>0</td>\n      <td>0</td>\n      <td>0</td>\n      <td>1</td>\n      <td>0</td>\n      <td>1</td>\n    </tr>\n    <tr>\n      <th>33554</th>\n      <td>199976</td>\n      <td>26198</td>\n      <td>1</td>\n      <td>0</td>\n      <td>0</td>\n      <td>0</td>\n      <td>0</td>\n      <td>0</td>\n      <td>0</td>\n      <td>1</td>\n      <td>...</td>\n      <td>0</td>\n      <td>0</td>\n      <td>0</td>\n      <td>0</td>\n      <td>0</td>\n      <td>0</td>\n      <td>0</td>\n      <td>1</td>\n      <td>0</td>\n      <td>1</td>\n    </tr>\n    <tr>\n      <th>33556</th>\n      <td>199981</td>\n      <td>28616</td>\n      <td>0</td>\n      <td>0</td>\n      <td>1</td>\n      <td>1</td>\n      <td>0</td>\n      <td>0</td>\n      <td>1</td>\n      <td>1</td>\n      <td>...</td>\n      <td>0</td>\n      <td>0</td>\n      <td>0</td>\n      <td>0</td>\n      <td>0</td>\n      <td>0</td>\n      <td>0</td>\n      <td>1</td>\n      <td>0</td>\n      <td>1</td>\n    </tr>\n    <tr>\n      <th>33557</th>\n      <td>199984</td>\n      <td>55617</td>\n      <td>0</td>\n      <td>0</td>\n      <td>1</td>\n      <td>0</td>\n      <td>0</td>\n      <td>1</td>\n      <td>1</td>\n      <td>1</td>\n      <td>...</td>\n      <td>0</td>\n      <td>0</td>\n      <td>1</td>\n      <td>0</td>\n      <td>0</td>\n      <td>0</td>\n      <td>0</td>\n      <td>0</td>\n      <td>1</td>\n      <td>0</td>\n    </tr>\n  </tbody>\n</table>\n<p>3623 rows × 22 columns</p>\n</div>"
     },
     "metadata": {},
     "execution_count": 50
    }
   ],
   "source": [
    "icd"
   ]
  },
  {
   "cell_type": "code",
   "execution_count": 51,
   "metadata": {},
   "outputs": [],
   "source": [
    "icd_demos = pd.merge(icd, demos, how=\"inner\", on=[\"hadm_id\", \"subject_id\"])"
   ]
  },
  {
   "cell_type": "code",
   "execution_count": 52,
   "metadata": {},
   "outputs": [
    {
     "output_type": "execute_result",
     "data": {
      "text/plain": [
       "      hadm_id  subject_id  1  2  3  4  5  6  7  8  ...  18  19  20  F  M  \\\n",
       "0      100061       11728  0  0  3  0  0  3  3  3  ...   0   3   0  1  0   \n",
       "1      100087       42255  0  0  1  0  0  1  1  1  ...   1   1   1  0  1   \n",
       "2      100104       73946  2  0  0  0  2  0  0  0  ...   2   0   2  0  1   \n",
       "3      100108       20587  0  0  1  1  1  1  1  1  ...   1   1   0  0  1   \n",
       "4      100156       13544  0  0  1  0  0  1  1  1  ...   0   0   0  0  1   \n",
       "...       ...         ... .. .. .. .. .. .. .. ..  ...  ..  ..  .. .. ..   \n",
       "3618   199941       22219  0  0  0  0  0  0  1  1  ...   0   1   0  1  0   \n",
       "3619   199952       22711  0  0  1  0  0  0  1  1  ...   1   0   1  0  1   \n",
       "3620   199976       26198  1  0  0  0  0  0  0  1  ...   1   0   1  0  1   \n",
       "3621   199981       28616  0  0  1  1  0  0  1  1  ...   1   0   1  0  1   \n",
       "3622   199984       55617  0  0  1  0  0  1  1  1  ...   0   1   0  1  0   \n",
       "\n",
       "      18-25  25-45  45-65  65-89  89+  \n",
       "0         0      0      1      0    0  \n",
       "1         0      0      1      0    0  \n",
       "2         0      1      0      0    0  \n",
       "3         0      0      1      0    0  \n",
       "4         0      0      0      1    0  \n",
       "...     ...    ...    ...    ...  ...  \n",
       "3618      0      0      0      0    1  \n",
       "3619      0      0      0      1    0  \n",
       "3620      0      0      0      1    0  \n",
       "3621      0      0      0      0    1  \n",
       "3622      0      0      0      0    1  \n",
       "\n",
       "[3623 rows x 29 columns]"
      ],
      "text/html": "<div>\n<style scoped>\n    .dataframe tbody tr th:only-of-type {\n        vertical-align: middle;\n    }\n\n    .dataframe tbody tr th {\n        vertical-align: top;\n    }\n\n    .dataframe thead th {\n        text-align: right;\n    }\n</style>\n<table border=\"1\" class=\"dataframe\">\n  <thead>\n    <tr style=\"text-align: right;\">\n      <th></th>\n      <th>hadm_id</th>\n      <th>subject_id</th>\n      <th>1</th>\n      <th>2</th>\n      <th>3</th>\n      <th>4</th>\n      <th>5</th>\n      <th>6</th>\n      <th>7</th>\n      <th>8</th>\n      <th>...</th>\n      <th>18</th>\n      <th>19</th>\n      <th>20</th>\n      <th>F</th>\n      <th>M</th>\n      <th>18-25</th>\n      <th>25-45</th>\n      <th>45-65</th>\n      <th>65-89</th>\n      <th>89+</th>\n    </tr>\n  </thead>\n  <tbody>\n    <tr>\n      <th>0</th>\n      <td>100061</td>\n      <td>11728</td>\n      <td>0</td>\n      <td>0</td>\n      <td>3</td>\n      <td>0</td>\n      <td>0</td>\n      <td>3</td>\n      <td>3</td>\n      <td>3</td>\n      <td>...</td>\n      <td>0</td>\n      <td>3</td>\n      <td>0</td>\n      <td>1</td>\n      <td>0</td>\n      <td>0</td>\n      <td>0</td>\n      <td>1</td>\n      <td>0</td>\n      <td>0</td>\n    </tr>\n    <tr>\n      <th>1</th>\n      <td>100087</td>\n      <td>42255</td>\n      <td>0</td>\n      <td>0</td>\n      <td>1</td>\n      <td>0</td>\n      <td>0</td>\n      <td>1</td>\n      <td>1</td>\n      <td>1</td>\n      <td>...</td>\n      <td>1</td>\n      <td>1</td>\n      <td>1</td>\n      <td>0</td>\n      <td>1</td>\n      <td>0</td>\n      <td>0</td>\n      <td>1</td>\n      <td>0</td>\n      <td>0</td>\n    </tr>\n    <tr>\n      <th>2</th>\n      <td>100104</td>\n      <td>73946</td>\n      <td>2</td>\n      <td>0</td>\n      <td>0</td>\n      <td>0</td>\n      <td>2</td>\n      <td>0</td>\n      <td>0</td>\n      <td>0</td>\n      <td>...</td>\n      <td>2</td>\n      <td>0</td>\n      <td>2</td>\n      <td>0</td>\n      <td>1</td>\n      <td>0</td>\n      <td>1</td>\n      <td>0</td>\n      <td>0</td>\n      <td>0</td>\n    </tr>\n    <tr>\n      <th>3</th>\n      <td>100108</td>\n      <td>20587</td>\n      <td>0</td>\n      <td>0</td>\n      <td>1</td>\n      <td>1</td>\n      <td>1</td>\n      <td>1</td>\n      <td>1</td>\n      <td>1</td>\n      <td>...</td>\n      <td>1</td>\n      <td>1</td>\n      <td>0</td>\n      <td>0</td>\n      <td>1</td>\n      <td>0</td>\n      <td>0</td>\n      <td>1</td>\n      <td>0</td>\n      <td>0</td>\n    </tr>\n    <tr>\n      <th>4</th>\n      <td>100156</td>\n      <td>13544</td>\n      <td>0</td>\n      <td>0</td>\n      <td>1</td>\n      <td>0</td>\n      <td>0</td>\n      <td>1</td>\n      <td>1</td>\n      <td>1</td>\n      <td>...</td>\n      <td>0</td>\n      <td>0</td>\n      <td>0</td>\n      <td>0</td>\n      <td>1</td>\n      <td>0</td>\n      <td>0</td>\n      <td>0</td>\n      <td>1</td>\n      <td>0</td>\n    </tr>\n    <tr>\n      <th>...</th>\n      <td>...</td>\n      <td>...</td>\n      <td>...</td>\n      <td>...</td>\n      <td>...</td>\n      <td>...</td>\n      <td>...</td>\n      <td>...</td>\n      <td>...</td>\n      <td>...</td>\n      <td>...</td>\n      <td>...</td>\n      <td>...</td>\n      <td>...</td>\n      <td>...</td>\n      <td>...</td>\n      <td>...</td>\n      <td>...</td>\n      <td>...</td>\n      <td>...</td>\n      <td>...</td>\n    </tr>\n    <tr>\n      <th>3618</th>\n      <td>199941</td>\n      <td>22219</td>\n      <td>0</td>\n      <td>0</td>\n      <td>0</td>\n      <td>0</td>\n      <td>0</td>\n      <td>0</td>\n      <td>1</td>\n      <td>1</td>\n      <td>...</td>\n      <td>0</td>\n      <td>1</td>\n      <td>0</td>\n      <td>1</td>\n      <td>0</td>\n      <td>0</td>\n      <td>0</td>\n      <td>0</td>\n      <td>0</td>\n      <td>1</td>\n    </tr>\n    <tr>\n      <th>3619</th>\n      <td>199952</td>\n      <td>22711</td>\n      <td>0</td>\n      <td>0</td>\n      <td>1</td>\n      <td>0</td>\n      <td>0</td>\n      <td>0</td>\n      <td>1</td>\n      <td>1</td>\n      <td>...</td>\n      <td>1</td>\n      <td>0</td>\n      <td>1</td>\n      <td>0</td>\n      <td>1</td>\n      <td>0</td>\n      <td>0</td>\n      <td>0</td>\n      <td>1</td>\n      <td>0</td>\n    </tr>\n    <tr>\n      <th>3620</th>\n      <td>199976</td>\n      <td>26198</td>\n      <td>1</td>\n      <td>0</td>\n      <td>0</td>\n      <td>0</td>\n      <td>0</td>\n      <td>0</td>\n      <td>0</td>\n      <td>1</td>\n      <td>...</td>\n      <td>1</td>\n      <td>0</td>\n      <td>1</td>\n      <td>0</td>\n      <td>1</td>\n      <td>0</td>\n      <td>0</td>\n      <td>0</td>\n      <td>1</td>\n      <td>0</td>\n    </tr>\n    <tr>\n      <th>3621</th>\n      <td>199981</td>\n      <td>28616</td>\n      <td>0</td>\n      <td>0</td>\n      <td>1</td>\n      <td>1</td>\n      <td>0</td>\n      <td>0</td>\n      <td>1</td>\n      <td>1</td>\n      <td>...</td>\n      <td>1</td>\n      <td>0</td>\n      <td>1</td>\n      <td>0</td>\n      <td>1</td>\n      <td>0</td>\n      <td>0</td>\n      <td>0</td>\n      <td>0</td>\n      <td>1</td>\n    </tr>\n    <tr>\n      <th>3622</th>\n      <td>199984</td>\n      <td>55617</td>\n      <td>0</td>\n      <td>0</td>\n      <td>1</td>\n      <td>0</td>\n      <td>0</td>\n      <td>1</td>\n      <td>1</td>\n      <td>1</td>\n      <td>...</td>\n      <td>0</td>\n      <td>1</td>\n      <td>0</td>\n      <td>1</td>\n      <td>0</td>\n      <td>0</td>\n      <td>0</td>\n      <td>0</td>\n      <td>0</td>\n      <td>1</td>\n    </tr>\n  </tbody>\n</table>\n<p>3623 rows × 29 columns</p>\n</div>"
     },
     "metadata": {},
     "execution_count": 52
    }
   ],
   "source": [
    "icd_demos"
   ]
  },
  {
   "cell_type": "code",
   "execution_count": 53,
   "metadata": {},
   "outputs": [],
   "source": [
    "icd_demos_vitals = pd.merge(vitals_slice, icd_demos, how=\"inner\", on=[\"hadm_id\", \"subject_id\"])"
   ]
  },
  {
   "cell_type": "code",
   "execution_count": 54,
   "metadata": {},
   "outputs": [
    {
     "output_type": "execute_result",
     "data": {
      "text/plain": [
       "       hadm_id  subject_id  mortality  HeartRate  SysBP  DiasBP  MeanBP  \\\n",
       "0       100061     11728.0        1.0       72.0  103.0    66.0    75.0   \n",
       "1       100061     11728.0        1.0       75.0   93.0    64.0    72.0   \n",
       "2       100061     11728.0        1.0       73.0  108.0    61.0    71.0   \n",
       "3       100061     11728.0        1.0       75.0  107.0    59.0    71.0   \n",
       "4       100061     11728.0        1.0       79.0  118.0    86.0    91.0   \n",
       "...        ...         ...        ...        ...    ...     ...     ...   \n",
       "83655   199984     55617.0        0.0       81.0  103.0    54.0    67.0   \n",
       "83656   199984     55617.0        0.0       79.0  111.0    52.0    65.0   \n",
       "83657   199984     55617.0        0.0       74.0  119.0    62.0    75.0   \n",
       "83658   199984     55617.0        0.0       81.0  121.0    63.0    78.0   \n",
       "83659   199984     55617.0        0.0       82.0  105.0    75.0    82.0   \n",
       "\n",
       "       RespRate      TempC  SpO2  ...  18  19  20  F  M  18-25  25-45  45-65  \\\n",
       "0          10.0   0.000000  93.0  ...   0   3   0  1  0      0      0      1   \n",
       "1           9.0   0.000000  91.0  ...   0   3   0  1  0      0      0      1   \n",
       "2          10.0   0.000000  94.0  ...   0   3   0  1  0      0      0      1   \n",
       "3          18.0   0.000000  95.0  ...   0   3   0  1  0      0      0      1   \n",
       "4          16.0   0.000000  95.0  ...   0   3   0  1  0      0      0      1   \n",
       "...         ...        ...   ...  ...  ..  ..  .. .. ..    ...    ...    ...   \n",
       "83655      17.0  36.777778  94.0  ...   0   1   0  1  0      0      0      0   \n",
       "83656      19.0   0.000000   0.0  ...   0   1   0  1  0      0      0      0   \n",
       "83657      23.0   0.000000   0.0  ...   0   1   0  1  0      0      0      0   \n",
       "83658      16.0   0.000000   0.0  ...   0   1   0  1  0      0      0      0   \n",
       "83659      18.0  36.888889  96.0  ...   0   1   0  1  0      0      0      0   \n",
       "\n",
       "       65-89  89+  \n",
       "0          0    0  \n",
       "1          0    0  \n",
       "2          0    0  \n",
       "3          0    0  \n",
       "4          0    0  \n",
       "...      ...  ...  \n",
       "83655      0    1  \n",
       "83656      0    1  \n",
       "83657      0    1  \n",
       "83658      0    1  \n",
       "83659      0    1  \n",
       "\n",
       "[83660 rows x 39 columns]"
      ],
      "text/html": "<div>\n<style scoped>\n    .dataframe tbody tr th:only-of-type {\n        vertical-align: middle;\n    }\n\n    .dataframe tbody tr th {\n        vertical-align: top;\n    }\n\n    .dataframe thead th {\n        text-align: right;\n    }\n</style>\n<table border=\"1\" class=\"dataframe\">\n  <thead>\n    <tr style=\"text-align: right;\">\n      <th></th>\n      <th>hadm_id</th>\n      <th>subject_id</th>\n      <th>mortality</th>\n      <th>HeartRate</th>\n      <th>SysBP</th>\n      <th>DiasBP</th>\n      <th>MeanBP</th>\n      <th>RespRate</th>\n      <th>TempC</th>\n      <th>SpO2</th>\n      <th>...</th>\n      <th>18</th>\n      <th>19</th>\n      <th>20</th>\n      <th>F</th>\n      <th>M</th>\n      <th>18-25</th>\n      <th>25-45</th>\n      <th>45-65</th>\n      <th>65-89</th>\n      <th>89+</th>\n    </tr>\n  </thead>\n  <tbody>\n    <tr>\n      <th>0</th>\n      <td>100061</td>\n      <td>11728.0</td>\n      <td>1.0</td>\n      <td>72.0</td>\n      <td>103.0</td>\n      <td>66.0</td>\n      <td>75.0</td>\n      <td>10.0</td>\n      <td>0.000000</td>\n      <td>93.0</td>\n      <td>...</td>\n      <td>0</td>\n      <td>3</td>\n      <td>0</td>\n      <td>1</td>\n      <td>0</td>\n      <td>0</td>\n      <td>0</td>\n      <td>1</td>\n      <td>0</td>\n      <td>0</td>\n    </tr>\n    <tr>\n      <th>1</th>\n      <td>100061</td>\n      <td>11728.0</td>\n      <td>1.0</td>\n      <td>75.0</td>\n      <td>93.0</td>\n      <td>64.0</td>\n      <td>72.0</td>\n      <td>9.0</td>\n      <td>0.000000</td>\n      <td>91.0</td>\n      <td>...</td>\n      <td>0</td>\n      <td>3</td>\n      <td>0</td>\n      <td>1</td>\n      <td>0</td>\n      <td>0</td>\n      <td>0</td>\n      <td>1</td>\n      <td>0</td>\n      <td>0</td>\n    </tr>\n    <tr>\n      <th>2</th>\n      <td>100061</td>\n      <td>11728.0</td>\n      <td>1.0</td>\n      <td>73.0</td>\n      <td>108.0</td>\n      <td>61.0</td>\n      <td>71.0</td>\n      <td>10.0</td>\n      <td>0.000000</td>\n      <td>94.0</td>\n      <td>...</td>\n      <td>0</td>\n      <td>3</td>\n      <td>0</td>\n      <td>1</td>\n      <td>0</td>\n      <td>0</td>\n      <td>0</td>\n      <td>1</td>\n      <td>0</td>\n      <td>0</td>\n    </tr>\n    <tr>\n      <th>3</th>\n      <td>100061</td>\n      <td>11728.0</td>\n      <td>1.0</td>\n      <td>75.0</td>\n      <td>107.0</td>\n      <td>59.0</td>\n      <td>71.0</td>\n      <td>18.0</td>\n      <td>0.000000</td>\n      <td>95.0</td>\n      <td>...</td>\n      <td>0</td>\n      <td>3</td>\n      <td>0</td>\n      <td>1</td>\n      <td>0</td>\n      <td>0</td>\n      <td>0</td>\n      <td>1</td>\n      <td>0</td>\n      <td>0</td>\n    </tr>\n    <tr>\n      <th>4</th>\n      <td>100061</td>\n      <td>11728.0</td>\n      <td>1.0</td>\n      <td>79.0</td>\n      <td>118.0</td>\n      <td>86.0</td>\n      <td>91.0</td>\n      <td>16.0</td>\n      <td>0.000000</td>\n      <td>95.0</td>\n      <td>...</td>\n      <td>0</td>\n      <td>3</td>\n      <td>0</td>\n      <td>1</td>\n      <td>0</td>\n      <td>0</td>\n      <td>0</td>\n      <td>1</td>\n      <td>0</td>\n      <td>0</td>\n    </tr>\n    <tr>\n      <th>...</th>\n      <td>...</td>\n      <td>...</td>\n      <td>...</td>\n      <td>...</td>\n      <td>...</td>\n      <td>...</td>\n      <td>...</td>\n      <td>...</td>\n      <td>...</td>\n      <td>...</td>\n      <td>...</td>\n      <td>...</td>\n      <td>...</td>\n      <td>...</td>\n      <td>...</td>\n      <td>...</td>\n      <td>...</td>\n      <td>...</td>\n      <td>...</td>\n      <td>...</td>\n      <td>...</td>\n    </tr>\n    <tr>\n      <th>83655</th>\n      <td>199984</td>\n      <td>55617.0</td>\n      <td>0.0</td>\n      <td>81.0</td>\n      <td>103.0</td>\n      <td>54.0</td>\n      <td>67.0</td>\n      <td>17.0</td>\n      <td>36.777778</td>\n      <td>94.0</td>\n      <td>...</td>\n      <td>0</td>\n      <td>1</td>\n      <td>0</td>\n      <td>1</td>\n      <td>0</td>\n      <td>0</td>\n      <td>0</td>\n      <td>0</td>\n      <td>0</td>\n      <td>1</td>\n    </tr>\n    <tr>\n      <th>83656</th>\n      <td>199984</td>\n      <td>55617.0</td>\n      <td>0.0</td>\n      <td>79.0</td>\n      <td>111.0</td>\n      <td>52.0</td>\n      <td>65.0</td>\n      <td>19.0</td>\n      <td>0.000000</td>\n      <td>0.0</td>\n      <td>...</td>\n      <td>0</td>\n      <td>1</td>\n      <td>0</td>\n      <td>1</td>\n      <td>0</td>\n      <td>0</td>\n      <td>0</td>\n      <td>0</td>\n      <td>0</td>\n      <td>1</td>\n    </tr>\n    <tr>\n      <th>83657</th>\n      <td>199984</td>\n      <td>55617.0</td>\n      <td>0.0</td>\n      <td>74.0</td>\n      <td>119.0</td>\n      <td>62.0</td>\n      <td>75.0</td>\n      <td>23.0</td>\n      <td>0.000000</td>\n      <td>0.0</td>\n      <td>...</td>\n      <td>0</td>\n      <td>1</td>\n      <td>0</td>\n      <td>1</td>\n      <td>0</td>\n      <td>0</td>\n      <td>0</td>\n      <td>0</td>\n      <td>0</td>\n      <td>1</td>\n    </tr>\n    <tr>\n      <th>83658</th>\n      <td>199984</td>\n      <td>55617.0</td>\n      <td>0.0</td>\n      <td>81.0</td>\n      <td>121.0</td>\n      <td>63.0</td>\n      <td>78.0</td>\n      <td>16.0</td>\n      <td>0.000000</td>\n      <td>0.0</td>\n      <td>...</td>\n      <td>0</td>\n      <td>1</td>\n      <td>0</td>\n      <td>1</td>\n      <td>0</td>\n      <td>0</td>\n      <td>0</td>\n      <td>0</td>\n      <td>0</td>\n      <td>1</td>\n    </tr>\n    <tr>\n      <th>83659</th>\n      <td>199984</td>\n      <td>55617.0</td>\n      <td>0.0</td>\n      <td>82.0</td>\n      <td>105.0</td>\n      <td>75.0</td>\n      <td>82.0</td>\n      <td>18.0</td>\n      <td>36.888889</td>\n      <td>96.0</td>\n      <td>...</td>\n      <td>0</td>\n      <td>1</td>\n      <td>0</td>\n      <td>1</td>\n      <td>0</td>\n      <td>0</td>\n      <td>0</td>\n      <td>0</td>\n      <td>0</td>\n      <td>1</td>\n    </tr>\n  </tbody>\n</table>\n<p>83660 rows × 39 columns</p>\n</div>"
     },
     "metadata": {},
     "execution_count": 54
    }
   ],
   "source": [
    "icd_demos_vitals ##final table hopefully "
   ]
  },
  {
   "cell_type": "code",
   "execution_count": 55,
   "metadata": {},
   "outputs": [
    {
     "output_type": "execute_result",
     "data": {
      "text/plain": [
       "0.0    69883\n",
       "1.0    13777\n",
       "Name: mortality, dtype: int64"
      ]
     },
     "metadata": {},
     "execution_count": 55
    }
   ],
   "source": [
    "icd_demos_vitals.mortality.value_counts()"
   ]
  },
  {
   "cell_type": "code",
   "execution_count": 56,
   "metadata": {},
   "outputs": [
    {
     "output_type": "execute_result",
     "data": {
      "text/plain": [
       "    hadm_id  subject_id\n",
       "0    100061     11728.0\n",
       "1    100061     11728.0\n",
       "2    100061     11728.0\n",
       "3    100061     11728.0\n",
       "4    100061     11728.0\n",
       "5    100061     11728.0\n",
       "6    100061     11728.0\n",
       "7    100061     11728.0\n",
       "8    100061     11728.0\n",
       "9    100061     11728.0\n",
       "10   100061     11728.0\n",
       "11   100061     11728.0\n",
       "12   100061     11728.0\n",
       "13   100061     11728.0\n",
       "14   100061     11728.0\n",
       "15   100061     11728.0\n",
       "16   100061     11728.0\n",
       "17   100061     11728.0\n",
       "18   100061     11728.0\n",
       "19   100061     11728.0\n",
       "20   100061     11728.0\n",
       "21   100061     11728.0\n",
       "22   100061     11728.0\n",
       "23   100061     11728.0\n",
       "24   100087     42255.0\n",
       "25   100087     42255.0\n",
       "26   100087     42255.0\n",
       "27   100087     42255.0\n",
       "28   100087     42255.0\n",
       "29   100087     42255.0\n",
       "30   100087     42255.0\n",
       "31   100087     42255.0\n",
       "32   100087     42255.0\n",
       "33   100087     42255.0\n",
       "34   100087     42255.0\n",
       "35   100087     42255.0\n",
       "36   100087     42255.0\n",
       "37   100087     42255.0\n",
       "38   100087     42255.0\n",
       "39   100087     42255.0\n",
       "40   100087     42255.0\n",
       "41   100087     42255.0\n",
       "42   100087     42255.0\n",
       "43   100087     42255.0\n",
       "44   100087     42255.0\n",
       "45   100087     42255.0\n",
       "46   100087     42255.0\n",
       "47   100087     42255.0\n",
       "48   100104     73946.0\n",
       "49   100104     73946.0\n",
       "50   100104     73946.0\n",
       "51   100104     73946.0\n",
       "52   100104     73946.0\n",
       "53   100104     73946.0\n",
       "54   100104     73946.0\n",
       "55   100104     73946.0\n",
       "56   100104     73946.0\n",
       "57   100104     73946.0\n",
       "58   100104     73946.0\n",
       "59   100104     73946.0"
      ],
      "text/html": "<div>\n<style scoped>\n    .dataframe tbody tr th:only-of-type {\n        vertical-align: middle;\n    }\n\n    .dataframe tbody tr th {\n        vertical-align: top;\n    }\n\n    .dataframe thead th {\n        text-align: right;\n    }\n</style>\n<table border=\"1\" class=\"dataframe\">\n  <thead>\n    <tr style=\"text-align: right;\">\n      <th></th>\n      <th>hadm_id</th>\n      <th>subject_id</th>\n    </tr>\n  </thead>\n  <tbody>\n    <tr>\n      <th>0</th>\n      <td>100061</td>\n      <td>11728.0</td>\n    </tr>\n    <tr>\n      <th>1</th>\n      <td>100061</td>\n      <td>11728.0</td>\n    </tr>\n    <tr>\n      <th>2</th>\n      <td>100061</td>\n      <td>11728.0</td>\n    </tr>\n    <tr>\n      <th>3</th>\n      <td>100061</td>\n      <td>11728.0</td>\n    </tr>\n    <tr>\n      <th>4</th>\n      <td>100061</td>\n      <td>11728.0</td>\n    </tr>\n    <tr>\n      <th>5</th>\n      <td>100061</td>\n      <td>11728.0</td>\n    </tr>\n    <tr>\n      <th>6</th>\n      <td>100061</td>\n      <td>11728.0</td>\n    </tr>\n    <tr>\n      <th>7</th>\n      <td>100061</td>\n      <td>11728.0</td>\n    </tr>\n    <tr>\n      <th>8</th>\n      <td>100061</td>\n      <td>11728.0</td>\n    </tr>\n    <tr>\n      <th>9</th>\n      <td>100061</td>\n      <td>11728.0</td>\n    </tr>\n    <tr>\n      <th>10</th>\n      <td>100061</td>\n      <td>11728.0</td>\n    </tr>\n    <tr>\n      <th>11</th>\n      <td>100061</td>\n      <td>11728.0</td>\n    </tr>\n    <tr>\n      <th>12</th>\n      <td>100061</td>\n      <td>11728.0</td>\n    </tr>\n    <tr>\n      <th>13</th>\n      <td>100061</td>\n      <td>11728.0</td>\n    </tr>\n    <tr>\n      <th>14</th>\n      <td>100061</td>\n      <td>11728.0</td>\n    </tr>\n    <tr>\n      <th>15</th>\n      <td>100061</td>\n      <td>11728.0</td>\n    </tr>\n    <tr>\n      <th>16</th>\n      <td>100061</td>\n      <td>11728.0</td>\n    </tr>\n    <tr>\n      <th>17</th>\n      <td>100061</td>\n      <td>11728.0</td>\n    </tr>\n    <tr>\n      <th>18</th>\n      <td>100061</td>\n      <td>11728.0</td>\n    </tr>\n    <tr>\n      <th>19</th>\n      <td>100061</td>\n      <td>11728.0</td>\n    </tr>\n    <tr>\n      <th>20</th>\n      <td>100061</td>\n      <td>11728.0</td>\n    </tr>\n    <tr>\n      <th>21</th>\n      <td>100061</td>\n      <td>11728.0</td>\n    </tr>\n    <tr>\n      <th>22</th>\n      <td>100061</td>\n      <td>11728.0</td>\n    </tr>\n    <tr>\n      <th>23</th>\n      <td>100061</td>\n      <td>11728.0</td>\n    </tr>\n    <tr>\n      <th>24</th>\n      <td>100087</td>\n      <td>42255.0</td>\n    </tr>\n    <tr>\n      <th>25</th>\n      <td>100087</td>\n      <td>42255.0</td>\n    </tr>\n    <tr>\n      <th>26</th>\n      <td>100087</td>\n      <td>42255.0</td>\n    </tr>\n    <tr>\n      <th>27</th>\n      <td>100087</td>\n      <td>42255.0</td>\n    </tr>\n    <tr>\n      <th>28</th>\n      <td>100087</td>\n      <td>42255.0</td>\n    </tr>\n    <tr>\n      <th>29</th>\n      <td>100087</td>\n      <td>42255.0</td>\n    </tr>\n    <tr>\n      <th>30</th>\n      <td>100087</td>\n      <td>42255.0</td>\n    </tr>\n    <tr>\n      <th>31</th>\n      <td>100087</td>\n      <td>42255.0</td>\n    </tr>\n    <tr>\n      <th>32</th>\n      <td>100087</td>\n      <td>42255.0</td>\n    </tr>\n    <tr>\n      <th>33</th>\n      <td>100087</td>\n      <td>42255.0</td>\n    </tr>\n    <tr>\n      <th>34</th>\n      <td>100087</td>\n      <td>42255.0</td>\n    </tr>\n    <tr>\n      <th>35</th>\n      <td>100087</td>\n      <td>42255.0</td>\n    </tr>\n    <tr>\n      <th>36</th>\n      <td>100087</td>\n      <td>42255.0</td>\n    </tr>\n    <tr>\n      <th>37</th>\n      <td>100087</td>\n      <td>42255.0</td>\n    </tr>\n    <tr>\n      <th>38</th>\n      <td>100087</td>\n      <td>42255.0</td>\n    </tr>\n    <tr>\n      <th>39</th>\n      <td>100087</td>\n      <td>42255.0</td>\n    </tr>\n    <tr>\n      <th>40</th>\n      <td>100087</td>\n      <td>42255.0</td>\n    </tr>\n    <tr>\n      <th>41</th>\n      <td>100087</td>\n      <td>42255.0</td>\n    </tr>\n    <tr>\n      <th>42</th>\n      <td>100087</td>\n      <td>42255.0</td>\n    </tr>\n    <tr>\n      <th>43</th>\n      <td>100087</td>\n      <td>42255.0</td>\n    </tr>\n    <tr>\n      <th>44</th>\n      <td>100087</td>\n      <td>42255.0</td>\n    </tr>\n    <tr>\n      <th>45</th>\n      <td>100087</td>\n      <td>42255.0</td>\n    </tr>\n    <tr>\n      <th>46</th>\n      <td>100087</td>\n      <td>42255.0</td>\n    </tr>\n    <tr>\n      <th>47</th>\n      <td>100087</td>\n      <td>42255.0</td>\n    </tr>\n    <tr>\n      <th>48</th>\n      <td>100104</td>\n      <td>73946.0</td>\n    </tr>\n    <tr>\n      <th>49</th>\n      <td>100104</td>\n      <td>73946.0</td>\n    </tr>\n    <tr>\n      <th>50</th>\n      <td>100104</td>\n      <td>73946.0</td>\n    </tr>\n    <tr>\n      <th>51</th>\n      <td>100104</td>\n      <td>73946.0</td>\n    </tr>\n    <tr>\n      <th>52</th>\n      <td>100104</td>\n      <td>73946.0</td>\n    </tr>\n    <tr>\n      <th>53</th>\n      <td>100104</td>\n      <td>73946.0</td>\n    </tr>\n    <tr>\n      <th>54</th>\n      <td>100104</td>\n      <td>73946.0</td>\n    </tr>\n    <tr>\n      <th>55</th>\n      <td>100104</td>\n      <td>73946.0</td>\n    </tr>\n    <tr>\n      <th>56</th>\n      <td>100104</td>\n      <td>73946.0</td>\n    </tr>\n    <tr>\n      <th>57</th>\n      <td>100104</td>\n      <td>73946.0</td>\n    </tr>\n    <tr>\n      <th>58</th>\n      <td>100104</td>\n      <td>73946.0</td>\n    </tr>\n    <tr>\n      <th>59</th>\n      <td>100104</td>\n      <td>73946.0</td>\n    </tr>\n  </tbody>\n</table>\n</div>"
     },
     "metadata": {},
     "execution_count": 56
    }
   ],
   "source": [
    "icd_demos_vitals[[\"hadm_id\", \"subject_id\"]].head(60)"
   ]
  },
  {
   "cell_type": "code",
   "execution_count": 57,
   "metadata": {},
   "outputs": [
    {
     "output_type": "execute_result",
     "data": {
      "text/plain": [
       "3623"
      ]
     },
     "metadata": {},
     "execution_count": 57
    }
   ],
   "source": [
    "len(icd_demos_vitals.subject_id.unique())"
   ]
  },
  {
   "cell_type": "code",
   "execution_count": 58,
   "metadata": {},
   "outputs": [
    {
     "output_type": "execute_result",
     "data": {
      "text/plain": [
       "3623"
      ]
     },
     "metadata": {},
     "execution_count": 58
    }
   ],
   "source": [
    "len(icd_demos_vitals.hadm_id.unique())"
   ]
  },
  {
   "cell_type": "code",
   "execution_count": 59,
   "metadata": {},
   "outputs": [],
   "source": [
    "icd_demos_vitals.to_csv(\"C:\\\\Users\\\\Maria\\\\Desktop\\\\data\\\\icd_demos_vitals.csv\")"
   ]
  },
  {
   "cell_type": "code",
   "execution_count": null,
   "metadata": {},
   "outputs": [],
   "source": []
  }
 ]
}