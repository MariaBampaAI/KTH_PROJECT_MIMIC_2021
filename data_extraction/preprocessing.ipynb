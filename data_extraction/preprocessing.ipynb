{
 "metadata": {
  "language_info": {
   "codemirror_mode": {
    "name": "ipython",
    "version": 3
   },
   "file_extension": ".py",
   "mimetype": "text/x-python",
   "name": "python",
   "nbconvert_exporter": "python",
   "pygments_lexer": "ipython3",
   "version": "3.7.4"
  },
  "orig_nbformat": 2,
  "kernelspec": {
   "name": "python374jvsc74a57bd04a3821e50dfd29f54393a38062d93a54d0c9d954cd67861638d013f261604981",
   "display_name": "Python 3.7.4 64-bit"
  },
  "metadata": {
   "interpreter": {
    "hash": "4a3821e50dfd29f54393a38062d93a54d0c9d954cd67861638d013f261604981"
   }
  }
 },
 "nbformat": 4,
 "nbformat_minor": 2,
 "cells": [
  {
   "cell_type": "code",
   "execution_count": 1,
   "metadata": {},
   "outputs": [],
   "source": [
    "import pandas as pd\n",
    "import numpy as np "
   ]
  },
  {
   "source": [
    "# Preprocessing\n",
    "\n",
    "1. static:\n",
    "    - age in age groups\n",
    "    - sex as binary\n",
    "    - prescription as dosage values. 24 hours of each hospital admission. Normalized using mix max norm. Impute using 0. \n",
    "    - diagnoses as binary. 24 hours of each hospital admission.\n",
    "    \n",
    "2. temporal:\n",
    "    - vital signs: 24 hours of each hospital admission. At each hour the avg is used to represent the signal. \n",
    "\n",
    "    \n",
    "    Then normalized using mix-max norm. To handle missing values, we simply use “0” to impute"
   ],
   "cell_type": "markdown",
   "metadata": {}
  },
  {
   "cell_type": "code",
   "execution_count": 2,
   "metadata": {},
   "outputs": [],
   "source": [
    "diagnoses = pd.read_csv(\"C:\\\\Users\\\\Maria\\\\Desktop\\\\data\\\\diagnoses.csv\")\n",
    "#drugs  = pd.read_csv(\"C:\\\\Users\\\\Maria\\\\Desktop\\\\data\\\\drugs.csv\")\n",
    "patients = pd.read_csv(\"C:\\\\Users\\\\Maria\\\\Desktop\\\\data\\\\patients_vitals.csv\")"
   ]
  },
  {
   "cell_type": "code",
   "execution_count": 3,
   "metadata": {},
   "outputs": [],
   "source": [
    "patients.drop(\"Unnamed: 0\", axis=1, inplace=True)\n",
    "#drugs.drop(\"Unnamed: 0\", axis=1, inplace=True)\n",
    "diagnoses.drop(\"Unnamed: 0\", axis=1, inplace=True)"
   ]
  },
  {
   "cell_type": "code",
   "execution_count": 4,
   "metadata": {},
   "outputs": [],
   "source": [
    "patients.drop([\"DOB\", \"icu_length_of_stay\"], axis=1, inplace=True)\n",
    "diagnoses.drop([\"icd9_title\"], axis=1, inplace=True)\n"
   ]
  },
  {
   "cell_type": "code",
   "execution_count": 5,
   "metadata": {},
   "outputs": [
    {
     "output_type": "execute_result",
     "data": {
      "text/plain": [
       "   subject_id  hadm_id  icustay_id gender            admittime       age  \\\n",
       "0          23   152223      227807      M  2153-09-03 07:15:00  71.32731   \n",
       "1          23   152223      227807      M  2153-09-03 07:15:00  71.32731   \n",
       "2          23   152223      227807      M  2153-09-03 07:15:00  71.32731   \n",
       "3          23   152223      227807      M  2153-09-03 07:15:00  71.32731   \n",
       "4          23   152223      227807      M  2153-09-03 07:15:00  71.32731   \n",
       "\n",
       "   mortality            charttime  HeartRate  SysBP  DiasBP  MeanBP  RespRate  \\\n",
       "0          0  2153-09-03 12:20:00        NaN    NaN     NaN     NaN      12.0   \n",
       "1          0  2153-09-03 12:30:00       90.0  106.0    62.0    77.0       7.0   \n",
       "2          0  2153-09-03 12:45:00       90.0  109.0    63.0    79.0       NaN   \n",
       "3          0  2153-09-03 13:00:00       90.0   92.0    57.0    69.0      13.0   \n",
       "4          0  2153-09-03 13:15:00       90.0   98.0    55.0    70.0      12.0   \n",
       "\n",
       "   TempC   SpO2  Glucose  \n",
       "0    NaN    NaN      NaN  \n",
       "1   35.0  100.0      NaN  \n",
       "2    NaN  100.0      NaN  \n",
       "3    NaN  100.0      NaN  \n",
       "4    NaN  100.0      NaN  "
      ],
      "text/html": "<div>\n<style scoped>\n    .dataframe tbody tr th:only-of-type {\n        vertical-align: middle;\n    }\n\n    .dataframe tbody tr th {\n        vertical-align: top;\n    }\n\n    .dataframe thead th {\n        text-align: right;\n    }\n</style>\n<table border=\"1\" class=\"dataframe\">\n  <thead>\n    <tr style=\"text-align: right;\">\n      <th></th>\n      <th>subject_id</th>\n      <th>hadm_id</th>\n      <th>icustay_id</th>\n      <th>gender</th>\n      <th>admittime</th>\n      <th>age</th>\n      <th>mortality</th>\n      <th>charttime</th>\n      <th>HeartRate</th>\n      <th>SysBP</th>\n      <th>DiasBP</th>\n      <th>MeanBP</th>\n      <th>RespRate</th>\n      <th>TempC</th>\n      <th>SpO2</th>\n      <th>Glucose</th>\n    </tr>\n  </thead>\n  <tbody>\n    <tr>\n      <th>0</th>\n      <td>23</td>\n      <td>152223</td>\n      <td>227807</td>\n      <td>M</td>\n      <td>2153-09-03 07:15:00</td>\n      <td>71.32731</td>\n      <td>0</td>\n      <td>2153-09-03 12:20:00</td>\n      <td>NaN</td>\n      <td>NaN</td>\n      <td>NaN</td>\n      <td>NaN</td>\n      <td>12.0</td>\n      <td>NaN</td>\n      <td>NaN</td>\n      <td>NaN</td>\n    </tr>\n    <tr>\n      <th>1</th>\n      <td>23</td>\n      <td>152223</td>\n      <td>227807</td>\n      <td>M</td>\n      <td>2153-09-03 07:15:00</td>\n      <td>71.32731</td>\n      <td>0</td>\n      <td>2153-09-03 12:30:00</td>\n      <td>90.0</td>\n      <td>106.0</td>\n      <td>62.0</td>\n      <td>77.0</td>\n      <td>7.0</td>\n      <td>35.0</td>\n      <td>100.0</td>\n      <td>NaN</td>\n    </tr>\n    <tr>\n      <th>2</th>\n      <td>23</td>\n      <td>152223</td>\n      <td>227807</td>\n      <td>M</td>\n      <td>2153-09-03 07:15:00</td>\n      <td>71.32731</td>\n      <td>0</td>\n      <td>2153-09-03 12:45:00</td>\n      <td>90.0</td>\n      <td>109.0</td>\n      <td>63.0</td>\n      <td>79.0</td>\n      <td>NaN</td>\n      <td>NaN</td>\n      <td>100.0</td>\n      <td>NaN</td>\n    </tr>\n    <tr>\n      <th>3</th>\n      <td>23</td>\n      <td>152223</td>\n      <td>227807</td>\n      <td>M</td>\n      <td>2153-09-03 07:15:00</td>\n      <td>71.32731</td>\n      <td>0</td>\n      <td>2153-09-03 13:00:00</td>\n      <td>90.0</td>\n      <td>92.0</td>\n      <td>57.0</td>\n      <td>69.0</td>\n      <td>13.0</td>\n      <td>NaN</td>\n      <td>100.0</td>\n      <td>NaN</td>\n    </tr>\n    <tr>\n      <th>4</th>\n      <td>23</td>\n      <td>152223</td>\n      <td>227807</td>\n      <td>M</td>\n      <td>2153-09-03 07:15:00</td>\n      <td>71.32731</td>\n      <td>0</td>\n      <td>2153-09-03 13:15:00</td>\n      <td>90.0</td>\n      <td>98.0</td>\n      <td>55.0</td>\n      <td>70.0</td>\n      <td>12.0</td>\n      <td>NaN</td>\n      <td>100.0</td>\n      <td>NaN</td>\n    </tr>\n  </tbody>\n</table>\n</div>"
     },
     "metadata": {},
     "execution_count": 5
    }
   ],
   "source": [
    "patients.head()"
   ]
  },
  {
   "cell_type": "code",
   "execution_count": 7,
   "metadata": {},
   "outputs": [],
   "source": [
    "adm_details = patients[[\"subject_id\", \"hadm_id\", \"gender\", \"age\", \"mortality\"]]"
   ]
  },
  {
   "cell_type": "code",
   "execution_count": 8,
   "metadata": {},
   "outputs": [],
   "source": [
    "vitals = patients[[\"subject_id\", \"hadm_id\", \"admittime\", \"charttime\",  \"HeartRate\", \"SysBP\", \"DiasBP\", \"MeanBP\", \"RespRate\", \"TempC\", \"SpO2\", \"Glucose\", \"mortality\"]]"
   ]
  },
  {
   "cell_type": "code",
   "execution_count": 9,
   "metadata": {},
   "outputs": [],
   "source": [
    "del patients"
   ]
  },
  {
   "source": [
    "## Preprocess admissions"
   ],
   "cell_type": "markdown",
   "metadata": {}
  },
  {
   "cell_type": "code",
   "execution_count": 10,
   "metadata": {},
   "outputs": [],
   "source": [
    "df_adm = adm_details.copy()"
   ]
  },
  {
   "cell_type": "code",
   "execution_count": 11,
   "metadata": {},
   "outputs": [],
   "source": [
    "del adm_details"
   ]
  },
  {
   "cell_type": "code",
   "execution_count": 12,
   "metadata": {},
   "outputs": [
    {
     "output_type": "stream",
     "name": "stdout",
     "text": [
      "Total admissions: 6163296\n"
     ]
    }
   ],
   "source": [
    "print('Total admissions:', len(df_adm))"
   ]
  },
  {
   "cell_type": "code",
   "execution_count": 13,
   "metadata": {},
   "outputs": [],
   "source": [
    "### bin age group "
   ]
  },
  {
   "cell_type": "code",
   "execution_count": 14,
   "metadata": {},
   "outputs": [],
   "source": [
    "def bin_age(age):\n",
    "    if age < 25:\n",
    "        return '18-25'\n",
    "    elif age < 45:\n",
    "        return '25-45'\n",
    "    elif age < 65:\n",
    "        return '45-65'\n",
    "    elif age < 89:\n",
    "        return '65-89'\n",
    "    else:\n",
    "        return '89+'"
   ]
  },
  {
   "cell_type": "code",
   "execution_count": 15,
   "metadata": {},
   "outputs": [],
   "source": [
    "df_adm['age'] = df_adm['age'].apply(bin_age)"
   ]
  },
  {
   "cell_type": "code",
   "execution_count": 16,
   "metadata": {},
   "outputs": [
    {
     "output_type": "execute_result",
     "data": {
      "text/plain": [
       "   subject_id  hadm_id gender    age  mortality\n",
       "0          23   152223      M  65-89          0\n",
       "1          23   152223      M  65-89          0\n",
       "2          23   152223      M  65-89          0\n",
       "3          23   152223      M  65-89          0\n",
       "4          23   152223      M  65-89          0"
      ],
      "text/html": "<div>\n<style scoped>\n    .dataframe tbody tr th:only-of-type {\n        vertical-align: middle;\n    }\n\n    .dataframe tbody tr th {\n        vertical-align: top;\n    }\n\n    .dataframe thead th {\n        text-align: right;\n    }\n</style>\n<table border=\"1\" class=\"dataframe\">\n  <thead>\n    <tr style=\"text-align: right;\">\n      <th></th>\n      <th>subject_id</th>\n      <th>hadm_id</th>\n      <th>gender</th>\n      <th>age</th>\n      <th>mortality</th>\n    </tr>\n  </thead>\n  <tbody>\n    <tr>\n      <th>0</th>\n      <td>23</td>\n      <td>152223</td>\n      <td>M</td>\n      <td>65-89</td>\n      <td>0</td>\n    </tr>\n    <tr>\n      <th>1</th>\n      <td>23</td>\n      <td>152223</td>\n      <td>M</td>\n      <td>65-89</td>\n      <td>0</td>\n    </tr>\n    <tr>\n      <th>2</th>\n      <td>23</td>\n      <td>152223</td>\n      <td>M</td>\n      <td>65-89</td>\n      <td>0</td>\n    </tr>\n    <tr>\n      <th>3</th>\n      <td>23</td>\n      <td>152223</td>\n      <td>M</td>\n      <td>65-89</td>\n      <td>0</td>\n    </tr>\n    <tr>\n      <th>4</th>\n      <td>23</td>\n      <td>152223</td>\n      <td>M</td>\n      <td>65-89</td>\n      <td>0</td>\n    </tr>\n  </tbody>\n</table>\n</div>"
     },
     "metadata": {},
     "execution_count": 16
    }
   ],
   "source": [
    "df_adm.head()"
   ]
  },
  {
   "cell_type": "code",
   "execution_count": 17,
   "metadata": {},
   "outputs": [],
   "source": [
    "df_adm = df_adm.sort_values(['hadm_id']).reset_index(drop=True)"
   ]
  },
  {
   "cell_type": "code",
   "execution_count": 18,
   "metadata": {},
   "outputs": [
    {
     "output_type": "execute_result",
     "data": {
      "text/plain": [
       "   subject_id  hadm_id gender    age  mortality\n",
       "0       58526   100001      F  25-45          0\n",
       "1       58526   100001      F  25-45          0\n",
       "2       58526   100001      F  25-45          0\n",
       "3       58526   100001      F  25-45          0\n",
       "4       58526   100001      F  25-45          0"
      ],
      "text/html": "<div>\n<style scoped>\n    .dataframe tbody tr th:only-of-type {\n        vertical-align: middle;\n    }\n\n    .dataframe tbody tr th {\n        vertical-align: top;\n    }\n\n    .dataframe thead th {\n        text-align: right;\n    }\n</style>\n<table border=\"1\" class=\"dataframe\">\n  <thead>\n    <tr style=\"text-align: right;\">\n      <th></th>\n      <th>subject_id</th>\n      <th>hadm_id</th>\n      <th>gender</th>\n      <th>age</th>\n      <th>mortality</th>\n    </tr>\n  </thead>\n  <tbody>\n    <tr>\n      <th>0</th>\n      <td>58526</td>\n      <td>100001</td>\n      <td>F</td>\n      <td>25-45</td>\n      <td>0</td>\n    </tr>\n    <tr>\n      <th>1</th>\n      <td>58526</td>\n      <td>100001</td>\n      <td>F</td>\n      <td>25-45</td>\n      <td>0</td>\n    </tr>\n    <tr>\n      <th>2</th>\n      <td>58526</td>\n      <td>100001</td>\n      <td>F</td>\n      <td>25-45</td>\n      <td>0</td>\n    </tr>\n    <tr>\n      <th>3</th>\n      <td>58526</td>\n      <td>100001</td>\n      <td>F</td>\n      <td>25-45</td>\n      <td>0</td>\n    </tr>\n    <tr>\n      <th>4</th>\n      <td>58526</td>\n      <td>100001</td>\n      <td>F</td>\n      <td>25-45</td>\n      <td>0</td>\n    </tr>\n  </tbody>\n</table>\n</div>"
     },
     "metadata": {},
     "execution_count": 18
    }
   ],
   "source": [
    "df_adm.head()"
   ]
  },
  {
   "cell_type": "code",
   "execution_count": 25,
   "metadata": {},
   "outputs": [
    {
     "output_type": "execute_result",
     "data": {
      "text/plain": [
       "                    F  M  18-25  25-45  45-65  65-89  89+\n",
       "hadm_id subject_id                                       \n",
       "100001  58526       1  0      0      1      0      0    0\n",
       "100006  9895        1  0      0      0      1      0    0\n",
       "100007  23018       1  0      0      0      0      1    0\n",
       "100009  533         0  1      0      0      1      0    0\n",
       "100010  55853       1  0      0      0      1      0    0\n",
       "...                .. ..    ...    ...    ...    ...  ...\n",
       "199988  25780       0  1      0      0      0      1    0\n",
       "199993  20785       0  1      0      0      1      0    0\n",
       "199995  19412       0  1      1      0      0      0    0\n",
       "199998  27200       0  1      0      0      0      1    0\n",
       "199999  40370       0  1      0      0      0      1    0\n",
       "\n",
       "[33564 rows x 7 columns]"
      ],
      "text/html": "<div>\n<style scoped>\n    .dataframe tbody tr th:only-of-type {\n        vertical-align: middle;\n    }\n\n    .dataframe tbody tr th {\n        vertical-align: top;\n    }\n\n    .dataframe thead th {\n        text-align: right;\n    }\n</style>\n<table border=\"1\" class=\"dataframe\">\n  <thead>\n    <tr style=\"text-align: right;\">\n      <th></th>\n      <th></th>\n      <th>F</th>\n      <th>M</th>\n      <th>18-25</th>\n      <th>25-45</th>\n      <th>45-65</th>\n      <th>65-89</th>\n      <th>89+</th>\n    </tr>\n    <tr>\n      <th>hadm_id</th>\n      <th>subject_id</th>\n      <th></th>\n      <th></th>\n      <th></th>\n      <th></th>\n      <th></th>\n      <th></th>\n      <th></th>\n    </tr>\n  </thead>\n  <tbody>\n    <tr>\n      <th>100001</th>\n      <th>58526</th>\n      <td>1</td>\n      <td>0</td>\n      <td>0</td>\n      <td>1</td>\n      <td>0</td>\n      <td>0</td>\n      <td>0</td>\n    </tr>\n    <tr>\n      <th>100006</th>\n      <th>9895</th>\n      <td>1</td>\n      <td>0</td>\n      <td>0</td>\n      <td>0</td>\n      <td>1</td>\n      <td>0</td>\n      <td>0</td>\n    </tr>\n    <tr>\n      <th>100007</th>\n      <th>23018</th>\n      <td>1</td>\n      <td>0</td>\n      <td>0</td>\n      <td>0</td>\n      <td>0</td>\n      <td>1</td>\n      <td>0</td>\n    </tr>\n    <tr>\n      <th>100009</th>\n      <th>533</th>\n      <td>0</td>\n      <td>1</td>\n      <td>0</td>\n      <td>0</td>\n      <td>1</td>\n      <td>0</td>\n      <td>0</td>\n    </tr>\n    <tr>\n      <th>100010</th>\n      <th>55853</th>\n      <td>1</td>\n      <td>0</td>\n      <td>0</td>\n      <td>0</td>\n      <td>1</td>\n      <td>0</td>\n      <td>0</td>\n    </tr>\n    <tr>\n      <th>...</th>\n      <th>...</th>\n      <td>...</td>\n      <td>...</td>\n      <td>...</td>\n      <td>...</td>\n      <td>...</td>\n      <td>...</td>\n      <td>...</td>\n    </tr>\n    <tr>\n      <th>199988</th>\n      <th>25780</th>\n      <td>0</td>\n      <td>1</td>\n      <td>0</td>\n      <td>0</td>\n      <td>0</td>\n      <td>1</td>\n      <td>0</td>\n    </tr>\n    <tr>\n      <th>199993</th>\n      <th>20785</th>\n      <td>0</td>\n      <td>1</td>\n      <td>0</td>\n      <td>0</td>\n      <td>1</td>\n      <td>0</td>\n      <td>0</td>\n    </tr>\n    <tr>\n      <th>199995</th>\n      <th>19412</th>\n      <td>0</td>\n      <td>1</td>\n      <td>1</td>\n      <td>0</td>\n      <td>0</td>\n      <td>0</td>\n      <td>0</td>\n    </tr>\n    <tr>\n      <th>199998</th>\n      <th>27200</th>\n      <td>0</td>\n      <td>1</td>\n      <td>0</td>\n      <td>0</td>\n      <td>0</td>\n      <td>1</td>\n      <td>0</td>\n    </tr>\n    <tr>\n      <th>199999</th>\n      <th>40370</th>\n      <td>0</td>\n      <td>1</td>\n      <td>0</td>\n      <td>0</td>\n      <td>0</td>\n      <td>1</td>\n      <td>0</td>\n    </tr>\n  </tbody>\n</table>\n<p>33564 rows × 7 columns</p>\n</div>"
     },
     "metadata": {},
     "execution_count": 25
    }
   ],
   "source": [
    "gender = df_adm.groupby([df_adm.hadm_id,  df_adm.subject_id, 'gender'])['gender'].first().unstack()\n",
    "age = df_adm.groupby([df_adm.hadm_id, df_adm.subject_id, 'age'])['age'].first().unstack()\n",
    "demographics = pd.concat([gender, age], axis=1)\n",
    "demographics = demographics.replace({np.NaN: 0, 'F': 1, \"M\": 1, '18-25': 1, '25-45': 1, '45-65': 1, '65-89': 1, '89+': 1})\n",
    "demographics"
   ]
  },
  {
   "cell_type": "code",
   "execution_count": null,
   "metadata": {},
   "outputs": [],
   "source": []
  },
  {
   "cell_type": "code",
   "execution_count": null,
   "metadata": {},
   "outputs": [],
   "source": []
  },
  {
   "cell_type": "code",
   "execution_count": null,
   "metadata": {},
   "outputs": [],
   "source": []
  },
  {
   "source": [
    "## Preprocessing ICD-10"
   ],
   "cell_type": "markdown",
   "metadata": {}
  },
  {
   "cell_type": "code",
   "execution_count": null,
   "metadata": {},
   "outputs": [],
   "source": [
    "diagnoses"
   ]
  },
  {
   "cell_type": "code",
   "execution_count": 26,
   "metadata": {},
   "outputs": [],
   "source": [
    "\n",
    "def convert_icd_group(icd):\n",
    "    icd = str(icd)\n",
    "    if icd.startswith('V'):\n",
    "        return 19\n",
    "    if icd.startswith('E'):\n",
    "        return 20\n",
    "    icd = int(icd[:3])\n",
    "    if icd <= 139:\n",
    "        return 1\n",
    "    elif icd <= 239:\n",
    "        return 2\n",
    "    elif icd <= 279:\n",
    "        return 3\n",
    "    elif icd <= 289:\n",
    "        return 4\n",
    "    elif icd <= 319:\n",
    "        return 5\n",
    "    elif icd <= 389:\n",
    "        return 6\n",
    "    elif icd <= 459:\n",
    "        return 7\n",
    "    elif icd <= 519:\n",
    "        return 8\n",
    "    elif icd <= 579:\n",
    "        return 9\n",
    "    elif icd < 629:\n",
    "        return 10\n",
    "    elif icd <= 679:\n",
    "        return 11\n",
    "    elif icd <= 709:\n",
    "        return 12\n",
    "    elif icd <= 739:\n",
    "        return 13\n",
    "    elif icd <= 759:\n",
    "        return 14\n",
    "    elif icd <= 779:\n",
    "        return np.nan\n",
    "    elif icd <= 789:\n",
    "        return 15\n",
    "    elif icd <= 796:\n",
    "        return 16\n",
    "    elif icd <= 799:\n",
    "        return 17\n",
    "    else:\n",
    "        return 18"
   ]
  },
  {
   "cell_type": "code",
   "execution_count": 27,
   "metadata": {},
   "outputs": [],
   "source": [
    "df_icd = diagnoses.copy()"
   ]
  },
  {
   "cell_type": "code",
   "execution_count": 28,
   "metadata": {},
   "outputs": [],
   "source": [
    "del diagnoses"
   ]
  },
  {
   "cell_type": "code",
   "execution_count": null,
   "metadata": {},
   "outputs": [],
   "source": [
    "df_icd"
   ]
  },
  {
   "cell_type": "code",
   "execution_count": 29,
   "metadata": {},
   "outputs": [],
   "source": [
    "df_icd.columns = map(str.lower, df_icd.columns)\n",
    "df_icd['icd9_code'] = df_icd['icd9_code'].apply(convert_icd_group)\n",
    "df_icd = df_icd.dropna().drop_duplicates().sort_values(['hadm_id', 'icd9_code'])\n",
    "for x in range(20):\n",
    "    x += 1\n",
    "    df_icd[f'{x}'] = (df_icd['icd9_code'] == x).astype(int)\n",
    "df_icd = df_icd.groupby(['hadm_id', 'subject_id']).sum()\n",
    "df_icd = df_icd[df_icd.columns[1:]].reset_index()\n",
    "df_icd = df_icd[df_icd.hadm_id.isin(df_adm.hadm_id)]"
   ]
  },
  {
   "cell_type": "code",
   "execution_count": 30,
   "metadata": {},
   "outputs": [
    {
     "output_type": "execute_result",
     "data": {
      "text/plain": [
       "   hadm_id  subject_id  1  2  3  4  5  6  7  8  ...  11  12  13  14  15  16  \\\n",
       "0   100001       58526  0  0  3  0  0  3  3  0  ...   0   3   0   0   0   0   \n",
       "2   100006        9895  0  2  2  0  2  0  0  2  ...   0   0   0   0   2   0   \n",
       "3   100007       23018  0  0  0  0  0  0  1  1  ...   0   0   0   0   0   0   \n",
       "4   100009         533  0  0  1  1  0  0  1  0  ...   0   0   0   0   0   0   \n",
       "5   100010       55853  0  1  1  0  0  0  0  0  ...   0   0   0   0   0   0   \n",
       "\n",
       "   17  18  19  20  \n",
       "0   0   0   3   0  \n",
       "2   0   0   2   0  \n",
       "3   0   0   0   0  \n",
       "4   0   1   1   0  \n",
       "5   0   0   0   0  \n",
       "\n",
       "[5 rows x 22 columns]"
      ],
      "text/html": "<div>\n<style scoped>\n    .dataframe tbody tr th:only-of-type {\n        vertical-align: middle;\n    }\n\n    .dataframe tbody tr th {\n        vertical-align: top;\n    }\n\n    .dataframe thead th {\n        text-align: right;\n    }\n</style>\n<table border=\"1\" class=\"dataframe\">\n  <thead>\n    <tr style=\"text-align: right;\">\n      <th></th>\n      <th>hadm_id</th>\n      <th>subject_id</th>\n      <th>1</th>\n      <th>2</th>\n      <th>3</th>\n      <th>4</th>\n      <th>5</th>\n      <th>6</th>\n      <th>7</th>\n      <th>8</th>\n      <th>...</th>\n      <th>11</th>\n      <th>12</th>\n      <th>13</th>\n      <th>14</th>\n      <th>15</th>\n      <th>16</th>\n      <th>17</th>\n      <th>18</th>\n      <th>19</th>\n      <th>20</th>\n    </tr>\n  </thead>\n  <tbody>\n    <tr>\n      <th>0</th>\n      <td>100001</td>\n      <td>58526</td>\n      <td>0</td>\n      <td>0</td>\n      <td>3</td>\n      <td>0</td>\n      <td>0</td>\n      <td>3</td>\n      <td>3</td>\n      <td>0</td>\n      <td>...</td>\n      <td>0</td>\n      <td>3</td>\n      <td>0</td>\n      <td>0</td>\n      <td>0</td>\n      <td>0</td>\n      <td>0</td>\n      <td>0</td>\n      <td>3</td>\n      <td>0</td>\n    </tr>\n    <tr>\n      <th>2</th>\n      <td>100006</td>\n      <td>9895</td>\n      <td>0</td>\n      <td>2</td>\n      <td>2</td>\n      <td>0</td>\n      <td>2</td>\n      <td>0</td>\n      <td>0</td>\n      <td>2</td>\n      <td>...</td>\n      <td>0</td>\n      <td>0</td>\n      <td>0</td>\n      <td>0</td>\n      <td>2</td>\n      <td>0</td>\n      <td>0</td>\n      <td>0</td>\n      <td>2</td>\n      <td>0</td>\n    </tr>\n    <tr>\n      <th>3</th>\n      <td>100007</td>\n      <td>23018</td>\n      <td>0</td>\n      <td>0</td>\n      <td>0</td>\n      <td>0</td>\n      <td>0</td>\n      <td>0</td>\n      <td>1</td>\n      <td>1</td>\n      <td>...</td>\n      <td>0</td>\n      <td>0</td>\n      <td>0</td>\n      <td>0</td>\n      <td>0</td>\n      <td>0</td>\n      <td>0</td>\n      <td>0</td>\n      <td>0</td>\n      <td>0</td>\n    </tr>\n    <tr>\n      <th>4</th>\n      <td>100009</td>\n      <td>533</td>\n      <td>0</td>\n      <td>0</td>\n      <td>1</td>\n      <td>1</td>\n      <td>0</td>\n      <td>0</td>\n      <td>1</td>\n      <td>0</td>\n      <td>...</td>\n      <td>0</td>\n      <td>0</td>\n      <td>0</td>\n      <td>0</td>\n      <td>0</td>\n      <td>0</td>\n      <td>0</td>\n      <td>1</td>\n      <td>1</td>\n      <td>0</td>\n    </tr>\n    <tr>\n      <th>5</th>\n      <td>100010</td>\n      <td>55853</td>\n      <td>0</td>\n      <td>1</td>\n      <td>1</td>\n      <td>0</td>\n      <td>0</td>\n      <td>0</td>\n      <td>0</td>\n      <td>0</td>\n      <td>...</td>\n      <td>0</td>\n      <td>0</td>\n      <td>0</td>\n      <td>0</td>\n      <td>0</td>\n      <td>0</td>\n      <td>0</td>\n      <td>0</td>\n      <td>0</td>\n      <td>0</td>\n    </tr>\n  </tbody>\n</table>\n<p>5 rows × 22 columns</p>\n</div>"
     },
     "metadata": {},
     "execution_count": 30
    }
   ],
   "source": [
    "df_icd.head()"
   ]
  },
  {
   "source": [
    "## Preprocess vitals"
   ],
   "cell_type": "markdown",
   "metadata": {}
  },
  {
   "cell_type": "code",
   "execution_count": 31,
   "metadata": {},
   "outputs": [
    {
     "output_type": "execute_result",
     "data": {
      "text/plain": [
       "         subject_id  hadm_id            admittime            charttime  \\\n",
       "0                23   152223  2153-09-03 07:15:00  2153-09-03 12:20:00   \n",
       "1                23   152223  2153-09-03 07:15:00  2153-09-03 12:30:00   \n",
       "2                23   152223  2153-09-03 07:15:00  2153-09-03 12:45:00   \n",
       "3                23   152223  2153-09-03 07:15:00  2153-09-03 13:00:00   \n",
       "4                23   152223  2153-09-03 07:15:00  2153-09-03 13:15:00   \n",
       "...             ...      ...                  ...                  ...   \n",
       "6163291       98797   105447  2132-12-24 20:06:00  2132-12-25 22:00:00   \n",
       "6163292       98797   105447  2132-12-24 20:06:00  2132-12-25 22:01:00   \n",
       "6163293       98797   105447  2132-12-24 20:06:00  2132-12-25 22:03:00   \n",
       "6163294       98797   105447  2132-12-24 20:06:00  2132-12-25 23:00:00   \n",
       "6163295       98797   105447  2132-12-24 20:06:00  2132-12-25 23:22:00   \n",
       "\n",
       "         HeartRate  SysBP  DiasBP  MeanBP  RespRate  TempC   SpO2  Glucose  \\\n",
       "0              NaN    NaN     NaN     NaN      12.0    NaN    NaN      NaN   \n",
       "1             90.0  106.0    62.0    77.0       7.0   35.0  100.0      NaN   \n",
       "2             90.0  109.0    63.0    79.0       NaN    NaN  100.0      NaN   \n",
       "3             90.0   92.0    57.0    69.0      13.0    NaN  100.0      NaN   \n",
       "4             90.0   98.0    55.0    70.0      12.0    NaN  100.0      NaN   \n",
       "...            ...    ...     ...     ...       ...    ...    ...      ...   \n",
       "6163291        NaN    NaN     NaN     NaN       NaN    NaN   61.0      NaN   \n",
       "6163292        NaN    NaN     NaN     NaN       NaN    NaN    NaN      NaN   \n",
       "6163293       48.0    NaN     NaN     NaN       NaN    NaN    NaN      NaN   \n",
       "6163294      107.0    NaN     NaN     NaN      34.0    NaN   79.0      NaN   \n",
       "6163295        NaN   85.0    47.0    57.0       NaN    NaN    NaN      NaN   \n",
       "\n",
       "         mortality  \n",
       "0                0  \n",
       "1                0  \n",
       "2                0  \n",
       "3                0  \n",
       "4                0  \n",
       "...            ...  \n",
       "6163291          1  \n",
       "6163292          1  \n",
       "6163293          1  \n",
       "6163294          1  \n",
       "6163295          1  \n",
       "\n",
       "[6163296 rows x 13 columns]"
      ],
      "text/html": "<div>\n<style scoped>\n    .dataframe tbody tr th:only-of-type {\n        vertical-align: middle;\n    }\n\n    .dataframe tbody tr th {\n        vertical-align: top;\n    }\n\n    .dataframe thead th {\n        text-align: right;\n    }\n</style>\n<table border=\"1\" class=\"dataframe\">\n  <thead>\n    <tr style=\"text-align: right;\">\n      <th></th>\n      <th>subject_id</th>\n      <th>hadm_id</th>\n      <th>admittime</th>\n      <th>charttime</th>\n      <th>HeartRate</th>\n      <th>SysBP</th>\n      <th>DiasBP</th>\n      <th>MeanBP</th>\n      <th>RespRate</th>\n      <th>TempC</th>\n      <th>SpO2</th>\n      <th>Glucose</th>\n      <th>mortality</th>\n    </tr>\n  </thead>\n  <tbody>\n    <tr>\n      <th>0</th>\n      <td>23</td>\n      <td>152223</td>\n      <td>2153-09-03 07:15:00</td>\n      <td>2153-09-03 12:20:00</td>\n      <td>NaN</td>\n      <td>NaN</td>\n      <td>NaN</td>\n      <td>NaN</td>\n      <td>12.0</td>\n      <td>NaN</td>\n      <td>NaN</td>\n      <td>NaN</td>\n      <td>0</td>\n    </tr>\n    <tr>\n      <th>1</th>\n      <td>23</td>\n      <td>152223</td>\n      <td>2153-09-03 07:15:00</td>\n      <td>2153-09-03 12:30:00</td>\n      <td>90.0</td>\n      <td>106.0</td>\n      <td>62.0</td>\n      <td>77.0</td>\n      <td>7.0</td>\n      <td>35.0</td>\n      <td>100.0</td>\n      <td>NaN</td>\n      <td>0</td>\n    </tr>\n    <tr>\n      <th>2</th>\n      <td>23</td>\n      <td>152223</td>\n      <td>2153-09-03 07:15:00</td>\n      <td>2153-09-03 12:45:00</td>\n      <td>90.0</td>\n      <td>109.0</td>\n      <td>63.0</td>\n      <td>79.0</td>\n      <td>NaN</td>\n      <td>NaN</td>\n      <td>100.0</td>\n      <td>NaN</td>\n      <td>0</td>\n    </tr>\n    <tr>\n      <th>3</th>\n      <td>23</td>\n      <td>152223</td>\n      <td>2153-09-03 07:15:00</td>\n      <td>2153-09-03 13:00:00</td>\n      <td>90.0</td>\n      <td>92.0</td>\n      <td>57.0</td>\n      <td>69.0</td>\n      <td>13.0</td>\n      <td>NaN</td>\n      <td>100.0</td>\n      <td>NaN</td>\n      <td>0</td>\n    </tr>\n    <tr>\n      <th>4</th>\n      <td>23</td>\n      <td>152223</td>\n      <td>2153-09-03 07:15:00</td>\n      <td>2153-09-03 13:15:00</td>\n      <td>90.0</td>\n      <td>98.0</td>\n      <td>55.0</td>\n      <td>70.0</td>\n      <td>12.0</td>\n      <td>NaN</td>\n      <td>100.0</td>\n      <td>NaN</td>\n      <td>0</td>\n    </tr>\n    <tr>\n      <th>...</th>\n      <td>...</td>\n      <td>...</td>\n      <td>...</td>\n      <td>...</td>\n      <td>...</td>\n      <td>...</td>\n      <td>...</td>\n      <td>...</td>\n      <td>...</td>\n      <td>...</td>\n      <td>...</td>\n      <td>...</td>\n      <td>...</td>\n    </tr>\n    <tr>\n      <th>6163291</th>\n      <td>98797</td>\n      <td>105447</td>\n      <td>2132-12-24 20:06:00</td>\n      <td>2132-12-25 22:00:00</td>\n      <td>NaN</td>\n      <td>NaN</td>\n      <td>NaN</td>\n      <td>NaN</td>\n      <td>NaN</td>\n      <td>NaN</td>\n      <td>61.0</td>\n      <td>NaN</td>\n      <td>1</td>\n    </tr>\n    <tr>\n      <th>6163292</th>\n      <td>98797</td>\n      <td>105447</td>\n      <td>2132-12-24 20:06:00</td>\n      <td>2132-12-25 22:01:00</td>\n      <td>NaN</td>\n      <td>NaN</td>\n      <td>NaN</td>\n      <td>NaN</td>\n      <td>NaN</td>\n      <td>NaN</td>\n      <td>NaN</td>\n      <td>NaN</td>\n      <td>1</td>\n    </tr>\n    <tr>\n      <th>6163293</th>\n      <td>98797</td>\n      <td>105447</td>\n      <td>2132-12-24 20:06:00</td>\n      <td>2132-12-25 22:03:00</td>\n      <td>48.0</td>\n      <td>NaN</td>\n      <td>NaN</td>\n      <td>NaN</td>\n      <td>NaN</td>\n      <td>NaN</td>\n      <td>NaN</td>\n      <td>NaN</td>\n      <td>1</td>\n    </tr>\n    <tr>\n      <th>6163294</th>\n      <td>98797</td>\n      <td>105447</td>\n      <td>2132-12-24 20:06:00</td>\n      <td>2132-12-25 23:00:00</td>\n      <td>107.0</td>\n      <td>NaN</td>\n      <td>NaN</td>\n      <td>NaN</td>\n      <td>34.0</td>\n      <td>NaN</td>\n      <td>79.0</td>\n      <td>NaN</td>\n      <td>1</td>\n    </tr>\n    <tr>\n      <th>6163295</th>\n      <td>98797</td>\n      <td>105447</td>\n      <td>2132-12-24 20:06:00</td>\n      <td>2132-12-25 23:22:00</td>\n      <td>NaN</td>\n      <td>85.0</td>\n      <td>47.0</td>\n      <td>57.0</td>\n      <td>NaN</td>\n      <td>NaN</td>\n      <td>NaN</td>\n      <td>NaN</td>\n      <td>1</td>\n    </tr>\n  </tbody>\n</table>\n<p>6163296 rows × 13 columns</p>\n</div>"
     },
     "metadata": {},
     "execution_count": 31
    }
   ],
   "source": [
    "vitals"
   ]
  },
  {
   "cell_type": "code",
   "execution_count": 32,
   "metadata": {},
   "outputs": [],
   "source": [
    "adm_ids = df_adm.hadm_id.tolist()"
   ]
  },
  {
   "cell_type": "code",
   "execution_count": 33,
   "metadata": {},
   "outputs": [],
   "source": [
    "df_vitals = vitals.copy()"
   ]
  },
  {
   "cell_type": "code",
   "execution_count": 34,
   "metadata": {},
   "outputs": [],
   "source": [
    "df_vitals['admittime'] = pd.to_datetime(df_vitals['admittime'])"
   ]
  },
  {
   "cell_type": "code",
   "execution_count": 35,
   "metadata": {},
   "outputs": [],
   "source": [
    "df_vitals['charttime'] = pd.to_datetime(df_vitals['charttime'])"
   ]
  },
  {
   "cell_type": "code",
   "execution_count": 36,
   "metadata": {},
   "outputs": [],
   "source": [
    "#getting vitals 24 hours \n",
    "df_vitals['hr'] = (df_vitals.charttime - df_vitals.admittime) / np.timedelta64(1, 'h')\n",
    "df_vitals = df_vitals[(df_vitals.hr <= 24) & (df_vitals.hr >= 0)]\n",
    "df_vitals = df_vitals.set_index('hadm_id').groupby('hadm_id').resample('H', on='charttime').mean().reset_index()"
   ]
  },
  {
   "cell_type": "code",
   "execution_count": 37,
   "metadata": {},
   "outputs": [
    {
     "output_type": "execute_result",
     "data": {
      "text/plain": [
       "   hadm_id           charttime  subject_id  HeartRate  SysBP  DiasBP  MeanBP  \\\n",
       "0   100001 2117-09-11 12:00:00     58526.0      122.0    NaN     NaN     NaN   \n",
       "1   100001 2117-09-11 13:00:00     58526.0      118.0  192.0   100.0   122.0   \n",
       "2   100001 2117-09-11 14:00:00     58526.0      118.0  165.0    85.0   103.0   \n",
       "3   100001 2117-09-11 15:00:00     58526.0      110.0  119.0    64.0    76.0   \n",
       "4   100001 2117-09-11 16:00:00     58526.0      104.0  169.0    84.0   105.0   \n",
       "\n",
       "   RespRate      TempC   SpO2  Glucose  mortality        hr  \n",
       "0      14.0        NaN    NaN      NaN        0.0  1.183333  \n",
       "1      22.0  36.666667    NaN      NaN        0.0  1.645833  \n",
       "2      15.0        NaN    NaN      NaN        0.0  2.233333  \n",
       "3      15.0        NaN    NaN      NaN        0.0  3.233333  \n",
       "4      16.0  36.611111  100.0      NaN        0.0  4.250000  "
      ],
      "text/html": "<div>\n<style scoped>\n    .dataframe tbody tr th:only-of-type {\n        vertical-align: middle;\n    }\n\n    .dataframe tbody tr th {\n        vertical-align: top;\n    }\n\n    .dataframe thead th {\n        text-align: right;\n    }\n</style>\n<table border=\"1\" class=\"dataframe\">\n  <thead>\n    <tr style=\"text-align: right;\">\n      <th></th>\n      <th>hadm_id</th>\n      <th>charttime</th>\n      <th>subject_id</th>\n      <th>HeartRate</th>\n      <th>SysBP</th>\n      <th>DiasBP</th>\n      <th>MeanBP</th>\n      <th>RespRate</th>\n      <th>TempC</th>\n      <th>SpO2</th>\n      <th>Glucose</th>\n      <th>mortality</th>\n      <th>hr</th>\n    </tr>\n  </thead>\n  <tbody>\n    <tr>\n      <th>0</th>\n      <td>100001</td>\n      <td>2117-09-11 12:00:00</td>\n      <td>58526.0</td>\n      <td>122.0</td>\n      <td>NaN</td>\n      <td>NaN</td>\n      <td>NaN</td>\n      <td>14.0</td>\n      <td>NaN</td>\n      <td>NaN</td>\n      <td>NaN</td>\n      <td>0.0</td>\n      <td>1.183333</td>\n    </tr>\n    <tr>\n      <th>1</th>\n      <td>100001</td>\n      <td>2117-09-11 13:00:00</td>\n      <td>58526.0</td>\n      <td>118.0</td>\n      <td>192.0</td>\n      <td>100.0</td>\n      <td>122.0</td>\n      <td>22.0</td>\n      <td>36.666667</td>\n      <td>NaN</td>\n      <td>NaN</td>\n      <td>0.0</td>\n      <td>1.645833</td>\n    </tr>\n    <tr>\n      <th>2</th>\n      <td>100001</td>\n      <td>2117-09-11 14:00:00</td>\n      <td>58526.0</td>\n      <td>118.0</td>\n      <td>165.0</td>\n      <td>85.0</td>\n      <td>103.0</td>\n      <td>15.0</td>\n      <td>NaN</td>\n      <td>NaN</td>\n      <td>NaN</td>\n      <td>0.0</td>\n      <td>2.233333</td>\n    </tr>\n    <tr>\n      <th>3</th>\n      <td>100001</td>\n      <td>2117-09-11 15:00:00</td>\n      <td>58526.0</td>\n      <td>110.0</td>\n      <td>119.0</td>\n      <td>64.0</td>\n      <td>76.0</td>\n      <td>15.0</td>\n      <td>NaN</td>\n      <td>NaN</td>\n      <td>NaN</td>\n      <td>0.0</td>\n      <td>3.233333</td>\n    </tr>\n    <tr>\n      <th>4</th>\n      <td>100001</td>\n      <td>2117-09-11 16:00:00</td>\n      <td>58526.0</td>\n      <td>104.0</td>\n      <td>169.0</td>\n      <td>84.0</td>\n      <td>105.0</td>\n      <td>16.0</td>\n      <td>36.611111</td>\n      <td>100.0</td>\n      <td>NaN</td>\n      <td>0.0</td>\n      <td>4.250000</td>\n    </tr>\n  </tbody>\n</table>\n</div>"
     },
     "metadata": {},
     "execution_count": 37
    }
   ],
   "source": [
    "df_vitals.head()"
   ]
  },
  {
   "cell_type": "code",
   "execution_count": 38,
   "metadata": {},
   "outputs": [
    {
     "output_type": "execute_result",
     "data": {
      "text/plain": [
       "   subject_id  hadm_id            admittime            charttime  HeartRate  \\\n",
       "0          23   152223  2153-09-03 07:15:00  2153-09-03 12:20:00        NaN   \n",
       "1          23   152223  2153-09-03 07:15:00  2153-09-03 12:30:00       90.0   \n",
       "2          23   152223  2153-09-03 07:15:00  2153-09-03 12:45:00       90.0   \n",
       "3          23   152223  2153-09-03 07:15:00  2153-09-03 13:00:00       90.0   \n",
       "4          23   152223  2153-09-03 07:15:00  2153-09-03 13:15:00       90.0   \n",
       "\n",
       "   SysBP  DiasBP  MeanBP  RespRate  TempC   SpO2  Glucose  mortality  \n",
       "0    NaN     NaN     NaN      12.0    NaN    NaN      NaN          0  \n",
       "1  106.0    62.0    77.0       7.0   35.0  100.0      NaN          0  \n",
       "2  109.0    63.0    79.0       NaN    NaN  100.0      NaN          0  \n",
       "3   92.0    57.0    69.0      13.0    NaN  100.0      NaN          0  \n",
       "4   98.0    55.0    70.0      12.0    NaN  100.0      NaN          0  "
      ],
      "text/html": "<div>\n<style scoped>\n    .dataframe tbody tr th:only-of-type {\n        vertical-align: middle;\n    }\n\n    .dataframe tbody tr th {\n        vertical-align: top;\n    }\n\n    .dataframe thead th {\n        text-align: right;\n    }\n</style>\n<table border=\"1\" class=\"dataframe\">\n  <thead>\n    <tr style=\"text-align: right;\">\n      <th></th>\n      <th>subject_id</th>\n      <th>hadm_id</th>\n      <th>admittime</th>\n      <th>charttime</th>\n      <th>HeartRate</th>\n      <th>SysBP</th>\n      <th>DiasBP</th>\n      <th>MeanBP</th>\n      <th>RespRate</th>\n      <th>TempC</th>\n      <th>SpO2</th>\n      <th>Glucose</th>\n      <th>mortality</th>\n    </tr>\n  </thead>\n  <tbody>\n    <tr>\n      <th>0</th>\n      <td>23</td>\n      <td>152223</td>\n      <td>2153-09-03 07:15:00</td>\n      <td>2153-09-03 12:20:00</td>\n      <td>NaN</td>\n      <td>NaN</td>\n      <td>NaN</td>\n      <td>NaN</td>\n      <td>12.0</td>\n      <td>NaN</td>\n      <td>NaN</td>\n      <td>NaN</td>\n      <td>0</td>\n    </tr>\n    <tr>\n      <th>1</th>\n      <td>23</td>\n      <td>152223</td>\n      <td>2153-09-03 07:15:00</td>\n      <td>2153-09-03 12:30:00</td>\n      <td>90.0</td>\n      <td>106.0</td>\n      <td>62.0</td>\n      <td>77.0</td>\n      <td>7.0</td>\n      <td>35.0</td>\n      <td>100.0</td>\n      <td>NaN</td>\n      <td>0</td>\n    </tr>\n    <tr>\n      <th>2</th>\n      <td>23</td>\n      <td>152223</td>\n      <td>2153-09-03 07:15:00</td>\n      <td>2153-09-03 12:45:00</td>\n      <td>90.0</td>\n      <td>109.0</td>\n      <td>63.0</td>\n      <td>79.0</td>\n      <td>NaN</td>\n      <td>NaN</td>\n      <td>100.0</td>\n      <td>NaN</td>\n      <td>0</td>\n    </tr>\n    <tr>\n      <th>3</th>\n      <td>23</td>\n      <td>152223</td>\n      <td>2153-09-03 07:15:00</td>\n      <td>2153-09-03 13:00:00</td>\n      <td>90.0</td>\n      <td>92.0</td>\n      <td>57.0</td>\n      <td>69.0</td>\n      <td>13.0</td>\n      <td>NaN</td>\n      <td>100.0</td>\n      <td>NaN</td>\n      <td>0</td>\n    </tr>\n    <tr>\n      <th>4</th>\n      <td>23</td>\n      <td>152223</td>\n      <td>2153-09-03 07:15:00</td>\n      <td>2153-09-03 13:15:00</td>\n      <td>90.0</td>\n      <td>98.0</td>\n      <td>55.0</td>\n      <td>70.0</td>\n      <td>12.0</td>\n      <td>NaN</td>\n      <td>100.0</td>\n      <td>NaN</td>\n      <td>0</td>\n    </tr>\n  </tbody>\n</table>\n</div>"
     },
     "metadata": {},
     "execution_count": 38
    }
   ],
   "source": [
    "vitals.head()"
   ]
  },
  {
   "cell_type": "code",
   "execution_count": null,
   "metadata": {},
   "outputs": [],
   "source": [
    "## transform vitals to tabular format"
   ]
  },
  {
   "cell_type": "code",
   "execution_count": 56,
   "metadata": {},
   "outputs": [],
   "source": [
    "\n",
    "df_vitals.hadm_id.value_counts()\n",
    "df_vitals_sc = df_vitals[[\"hadm_id\", \"subject_id\", \"mortality\", \"HeartRate\", \"SysBP\", \"DiasBP\", \"MeanBP\", \"RespRate\", \"TempC\", \"SpO2\", \"Glucose\"]]"
   ]
  },
  {
   "cell_type": "code",
   "execution_count": 52,
   "metadata": {},
   "outputs": [
    {
     "output_type": "execute_result",
     "data": {
      "text/plain": [
       "        HeartRate  SysBP  DiasBP  MeanBP  RespRate      TempC   SpO2  Glucose\n",
       "0           122.0    NaN     NaN     NaN      14.0        NaN    NaN      NaN\n",
       "1           118.0  192.0   100.0   122.0      22.0  36.666667    NaN      NaN\n",
       "2           118.0  165.0    85.0   103.0      15.0        NaN    NaN      NaN\n",
       "3           110.0  119.0    64.0    76.0      15.0        NaN    NaN      NaN\n",
       "4           104.0  169.0    84.0   105.0      16.0  36.611111  100.0      NaN\n",
       "...           ...    ...     ...     ...       ...        ...    ...      ...\n",
       "550814       83.0   94.0    69.0    83.0      14.0        NaN    NaN      NaN\n",
       "550815        NaN    NaN     NaN     NaN       NaN        NaN    NaN      NaN\n",
       "550816       84.0   95.0    68.0    81.0      13.0  36.222221    NaN      NaN\n",
       "550817        NaN    NaN     NaN     NaN       NaN        NaN    NaN      NaN\n",
       "550818       84.0  101.0    77.0    89.0      15.0        NaN   96.0      NaN\n",
       "\n",
       "[550819 rows x 8 columns]"
      ],
      "text/html": "<div>\n<style scoped>\n    .dataframe tbody tr th:only-of-type {\n        vertical-align: middle;\n    }\n\n    .dataframe tbody tr th {\n        vertical-align: top;\n    }\n\n    .dataframe thead th {\n        text-align: right;\n    }\n</style>\n<table border=\"1\" class=\"dataframe\">\n  <thead>\n    <tr style=\"text-align: right;\">\n      <th></th>\n      <th>HeartRate</th>\n      <th>SysBP</th>\n      <th>DiasBP</th>\n      <th>MeanBP</th>\n      <th>RespRate</th>\n      <th>TempC</th>\n      <th>SpO2</th>\n      <th>Glucose</th>\n    </tr>\n  </thead>\n  <tbody>\n    <tr>\n      <th>0</th>\n      <td>122.0</td>\n      <td>NaN</td>\n      <td>NaN</td>\n      <td>NaN</td>\n      <td>14.0</td>\n      <td>NaN</td>\n      <td>NaN</td>\n      <td>NaN</td>\n    </tr>\n    <tr>\n      <th>1</th>\n      <td>118.0</td>\n      <td>192.0</td>\n      <td>100.0</td>\n      <td>122.0</td>\n      <td>22.0</td>\n      <td>36.666667</td>\n      <td>NaN</td>\n      <td>NaN</td>\n    </tr>\n    <tr>\n      <th>2</th>\n      <td>118.0</td>\n      <td>165.0</td>\n      <td>85.0</td>\n      <td>103.0</td>\n      <td>15.0</td>\n      <td>NaN</td>\n      <td>NaN</td>\n      <td>NaN</td>\n    </tr>\n    <tr>\n      <th>3</th>\n      <td>110.0</td>\n      <td>119.0</td>\n      <td>64.0</td>\n      <td>76.0</td>\n      <td>15.0</td>\n      <td>NaN</td>\n      <td>NaN</td>\n      <td>NaN</td>\n    </tr>\n    <tr>\n      <th>4</th>\n      <td>104.0</td>\n      <td>169.0</td>\n      <td>84.0</td>\n      <td>105.0</td>\n      <td>16.0</td>\n      <td>36.611111</td>\n      <td>100.0</td>\n      <td>NaN</td>\n    </tr>\n    <tr>\n      <th>...</th>\n      <td>...</td>\n      <td>...</td>\n      <td>...</td>\n      <td>...</td>\n      <td>...</td>\n      <td>...</td>\n      <td>...</td>\n      <td>...</td>\n    </tr>\n    <tr>\n      <th>550814</th>\n      <td>83.0</td>\n      <td>94.0</td>\n      <td>69.0</td>\n      <td>83.0</td>\n      <td>14.0</td>\n      <td>NaN</td>\n      <td>NaN</td>\n      <td>NaN</td>\n    </tr>\n    <tr>\n      <th>550815</th>\n      <td>NaN</td>\n      <td>NaN</td>\n      <td>NaN</td>\n      <td>NaN</td>\n      <td>NaN</td>\n      <td>NaN</td>\n      <td>NaN</td>\n      <td>NaN</td>\n    </tr>\n    <tr>\n      <th>550816</th>\n      <td>84.0</td>\n      <td>95.0</td>\n      <td>68.0</td>\n      <td>81.0</td>\n      <td>13.0</td>\n      <td>36.222221</td>\n      <td>NaN</td>\n      <td>NaN</td>\n    </tr>\n    <tr>\n      <th>550817</th>\n      <td>NaN</td>\n      <td>NaN</td>\n      <td>NaN</td>\n      <td>NaN</td>\n      <td>NaN</td>\n      <td>NaN</td>\n      <td>NaN</td>\n      <td>NaN</td>\n    </tr>\n    <tr>\n      <th>550818</th>\n      <td>84.0</td>\n      <td>101.0</td>\n      <td>77.0</td>\n      <td>89.0</td>\n      <td>15.0</td>\n      <td>NaN</td>\n      <td>96.0</td>\n      <td>NaN</td>\n    </tr>\n  </tbody>\n</table>\n<p>550819 rows × 8 columns</p>\n</div>"
     },
     "metadata": {},
     "execution_count": 52
    }
   ],
   "source": []
  },
  {
   "cell_type": "code",
   "execution_count": 58,
   "metadata": {},
   "outputs": [
    {
     "output_type": "execute_result",
     "data": {
      "text/plain": [
       "116679    25\n",
       "152694    25\n",
       "185590    25\n",
       "151926    25\n",
       "171263    25\n",
       "          ..\n",
       "198396    24\n",
       "116644    24\n",
       "155607    24\n",
       "102575    24\n",
       "118842    24\n",
       "Name: hadm_id, Length: 11075, dtype: int64"
      ]
     },
     "metadata": {},
     "execution_count": 58
    }
   ],
   "source": [
    "from sklearn.preprocessing import MinMaxScaler\n",
    "df_vitals.hadm_id.value_counts()\n",
    "df_vitals_sc = df_vitals[[\"hadm_id\", \"subject_id\", \"mortality\", \"HeartRate\", \"SysBP\", \"DiasBP\", \"MeanBP\", \"RespRate\", \"TempC\", \"SpO2\", \"Glucose\"]]\n",
    "\n",
    "## impute using 0\n",
    "df_vitals_sc = df_vitals_sc.replace(np.NaN, 0)\n",
    "\n",
    "scaler = MinMaxScaler()\n",
    "\n",
    "df_vitals_scaled = scaler.fit_transform(df_vitals_sc.iloc[:, 2:])\n",
    "\n",
    "df_vitals_scaled = pd.DataFrame(df_vitals_scaled, columns=df_vitals_sc.columns[2:], index = df_vitals_sc.index)\n",
    "df_vitals_scaled[\"hadm_id\"] = df_vitals_sc.hadm_id\n",
    "df_vitals_scaled[\"subject_id\"] = df_vitals_sc.subject_id\n",
    "\n",
    "## For the patients that have more than 24 hour intervals, we keep the first 24.\n",
    "df_vitals_scaled['counts'] = df_vitals_scaled.groupby(['hadm_id'])['Glucose'].transform('count')\n",
    "vitals_slice = df_vitals_scaled[df_vitals_scaled.counts >=24]\n",
    "\n",
    "vitals_slice.hadm_id.value_counts()\n",
    "\n"
   ]
  },
  {
   "cell_type": "code",
   "execution_count": 60,
   "metadata": {},
   "outputs": [
    {
     "output_type": "execute_result",
     "data": {
      "text/plain": [
       "0.0    227251\n",
       "1.0     42120\n",
       "Name: mortality, dtype: int64"
      ]
     },
     "metadata": {},
     "execution_count": 60
    }
   ],
   "source": [
    "vitals_slice.mortality.value_counts()"
   ]
  },
  {
   "cell_type": "code",
   "execution_count": 61,
   "metadata": {},
   "outputs": [
    {
     "output_type": "execute_result",
     "data": {
      "text/plain": [
       "   mortality  HeartRate     SysBP    DiasBP    MeanBP  RespRate     TempC  \\\n",
       "0        0.0   0.435714  0.000000  0.000000  0.000000  0.202899  0.000000   \n",
       "1        0.0   0.421429  0.617363  0.375940  0.409396  0.318841  0.869565   \n",
       "2        0.0   0.421429  0.530547  0.319549  0.345638  0.217391  0.000000   \n",
       "3        0.0   0.392857  0.382637  0.240602  0.255034  0.217391  0.000000   \n",
       "4        0.0   0.371429  0.543408  0.315789  0.352349  0.231884  0.868248   \n",
       "\n",
       "   SpO2  Glucose  hadm_id  subject_id  counts  \n",
       "0   0.0      0.0   100001     58526.0      24  \n",
       "1   0.0      0.0   100001     58526.0      24  \n",
       "2   0.0      0.0   100001     58526.0      24  \n",
       "3   0.0      0.0   100001     58526.0      24  \n",
       "4   1.0      0.0   100001     58526.0      24  "
      ],
      "text/html": "<div>\n<style scoped>\n    .dataframe tbody tr th:only-of-type {\n        vertical-align: middle;\n    }\n\n    .dataframe tbody tr th {\n        vertical-align: top;\n    }\n\n    .dataframe thead th {\n        text-align: right;\n    }\n</style>\n<table border=\"1\" class=\"dataframe\">\n  <thead>\n    <tr style=\"text-align: right;\">\n      <th></th>\n      <th>mortality</th>\n      <th>HeartRate</th>\n      <th>SysBP</th>\n      <th>DiasBP</th>\n      <th>MeanBP</th>\n      <th>RespRate</th>\n      <th>TempC</th>\n      <th>SpO2</th>\n      <th>Glucose</th>\n      <th>hadm_id</th>\n      <th>subject_id</th>\n      <th>counts</th>\n    </tr>\n  </thead>\n  <tbody>\n    <tr>\n      <th>0</th>\n      <td>0.0</td>\n      <td>0.435714</td>\n      <td>0.000000</td>\n      <td>0.000000</td>\n      <td>0.000000</td>\n      <td>0.202899</td>\n      <td>0.000000</td>\n      <td>0.0</td>\n      <td>0.0</td>\n      <td>100001</td>\n      <td>58526.0</td>\n      <td>24</td>\n    </tr>\n    <tr>\n      <th>1</th>\n      <td>0.0</td>\n      <td>0.421429</td>\n      <td>0.617363</td>\n      <td>0.375940</td>\n      <td>0.409396</td>\n      <td>0.318841</td>\n      <td>0.869565</td>\n      <td>0.0</td>\n      <td>0.0</td>\n      <td>100001</td>\n      <td>58526.0</td>\n      <td>24</td>\n    </tr>\n    <tr>\n      <th>2</th>\n      <td>0.0</td>\n      <td>0.421429</td>\n      <td>0.530547</td>\n      <td>0.319549</td>\n      <td>0.345638</td>\n      <td>0.217391</td>\n      <td>0.000000</td>\n      <td>0.0</td>\n      <td>0.0</td>\n      <td>100001</td>\n      <td>58526.0</td>\n      <td>24</td>\n    </tr>\n    <tr>\n      <th>3</th>\n      <td>0.0</td>\n      <td>0.392857</td>\n      <td>0.382637</td>\n      <td>0.240602</td>\n      <td>0.255034</td>\n      <td>0.217391</td>\n      <td>0.000000</td>\n      <td>0.0</td>\n      <td>0.0</td>\n      <td>100001</td>\n      <td>58526.0</td>\n      <td>24</td>\n    </tr>\n    <tr>\n      <th>4</th>\n      <td>0.0</td>\n      <td>0.371429</td>\n      <td>0.543408</td>\n      <td>0.315789</td>\n      <td>0.352349</td>\n      <td>0.231884</td>\n      <td>0.868248</td>\n      <td>1.0</td>\n      <td>0.0</td>\n      <td>100001</td>\n      <td>58526.0</td>\n      <td>24</td>\n    </tr>\n  </tbody>\n</table>\n</div>"
     },
     "metadata": {},
     "execution_count": 61
    }
   ],
   "source": [
    "vitals_slice.head()"
   ]
  },
  {
   "cell_type": "code",
   "execution_count": 64,
   "metadata": {},
   "outputs": [],
   "source": [
    "## for all tables take the same ids"
   ]
  },
  {
   "source": [
    "vitals_slice.hadm_id.unique()"
   ],
   "cell_type": "code",
   "metadata": {},
   "execution_count": 91,
   "outputs": [
    {
     "output_type": "execute_result",
     "data": {
      "text/plain": [
       "array([100001, 100006, 100011, ..., 199981, 199984, 199993], dtype=int64)"
      ]
     },
     "metadata": {},
     "execution_count": 91
    }
   ]
  },
  {
   "cell_type": "code",
   "execution_count": 92,
   "metadata": {},
   "outputs": [
    {
     "output_type": "execute_result",
     "data": {
      "text/plain": [
       "       level_0  index  hadm_id  subject_id  F  M  18-25  25-45  45-65  65-89  \\\n",
       "0            0      0   100001       58526  1  0      0      1      0      0   \n",
       "1            1      1   100006        9895  1  0      0      0      1      0   \n",
       "2            2      2   100007       23018  1  0      0      0      0      1   \n",
       "3            3      3   100009         533  0  1      0      0      1      0   \n",
       "4            4      4   100010       55853  1  0      0      0      1      0   \n",
       "...        ...    ...      ...         ... .. ..    ...    ...    ...    ...   \n",
       "33559    33559  33559   199988       25780  0  1      0      0      0      1   \n",
       "33560    33560  33560   199993       20785  0  1      0      0      1      0   \n",
       "33561    33561  33561   199995       19412  0  1      1      0      0      0   \n",
       "33562    33562  33562   199998       27200  0  1      0      0      0      1   \n",
       "33563    33563  33563   199999       40370  0  1      0      0      0      1   \n",
       "\n",
       "       89+  \n",
       "0        0  \n",
       "1        0  \n",
       "2        0  \n",
       "3        0  \n",
       "4        0  \n",
       "...    ...  \n",
       "33559    0  \n",
       "33560    0  \n",
       "33561    0  \n",
       "33562    0  \n",
       "33563    0  \n",
       "\n",
       "[33564 rows x 11 columns]"
      ],
      "text/html": "<div>\n<style scoped>\n    .dataframe tbody tr th:only-of-type {\n        vertical-align: middle;\n    }\n\n    .dataframe tbody tr th {\n        vertical-align: top;\n    }\n\n    .dataframe thead th {\n        text-align: right;\n    }\n</style>\n<table border=\"1\" class=\"dataframe\">\n  <thead>\n    <tr style=\"text-align: right;\">\n      <th></th>\n      <th>level_0</th>\n      <th>index</th>\n      <th>hadm_id</th>\n      <th>subject_id</th>\n      <th>F</th>\n      <th>M</th>\n      <th>18-25</th>\n      <th>25-45</th>\n      <th>45-65</th>\n      <th>65-89</th>\n      <th>89+</th>\n    </tr>\n  </thead>\n  <tbody>\n    <tr>\n      <th>0</th>\n      <td>0</td>\n      <td>0</td>\n      <td>100001</td>\n      <td>58526</td>\n      <td>1</td>\n      <td>0</td>\n      <td>0</td>\n      <td>1</td>\n      <td>0</td>\n      <td>0</td>\n      <td>0</td>\n    </tr>\n    <tr>\n      <th>1</th>\n      <td>1</td>\n      <td>1</td>\n      <td>100006</td>\n      <td>9895</td>\n      <td>1</td>\n      <td>0</td>\n      <td>0</td>\n      <td>0</td>\n      <td>1</td>\n      <td>0</td>\n      <td>0</td>\n    </tr>\n    <tr>\n      <th>2</th>\n      <td>2</td>\n      <td>2</td>\n      <td>100007</td>\n      <td>23018</td>\n      <td>1</td>\n      <td>0</td>\n      <td>0</td>\n      <td>0</td>\n      <td>0</td>\n      <td>1</td>\n      <td>0</td>\n    </tr>\n    <tr>\n      <th>3</th>\n      <td>3</td>\n      <td>3</td>\n      <td>100009</td>\n      <td>533</td>\n      <td>0</td>\n      <td>1</td>\n      <td>0</td>\n      <td>0</td>\n      <td>1</td>\n      <td>0</td>\n      <td>0</td>\n    </tr>\n    <tr>\n      <th>4</th>\n      <td>4</td>\n      <td>4</td>\n      <td>100010</td>\n      <td>55853</td>\n      <td>1</td>\n      <td>0</td>\n      <td>0</td>\n      <td>0</td>\n      <td>1</td>\n      <td>0</td>\n      <td>0</td>\n    </tr>\n    <tr>\n      <th>...</th>\n      <td>...</td>\n      <td>...</td>\n      <td>...</td>\n      <td>...</td>\n      <td>...</td>\n      <td>...</td>\n      <td>...</td>\n      <td>...</td>\n      <td>...</td>\n      <td>...</td>\n      <td>...</td>\n    </tr>\n    <tr>\n      <th>33559</th>\n      <td>33559</td>\n      <td>33559</td>\n      <td>199988</td>\n      <td>25780</td>\n      <td>0</td>\n      <td>1</td>\n      <td>0</td>\n      <td>0</td>\n      <td>0</td>\n      <td>1</td>\n      <td>0</td>\n    </tr>\n    <tr>\n      <th>33560</th>\n      <td>33560</td>\n      <td>33560</td>\n      <td>199993</td>\n      <td>20785</td>\n      <td>0</td>\n      <td>1</td>\n      <td>0</td>\n      <td>0</td>\n      <td>1</td>\n      <td>0</td>\n      <td>0</td>\n    </tr>\n    <tr>\n      <th>33561</th>\n      <td>33561</td>\n      <td>33561</td>\n      <td>199995</td>\n      <td>19412</td>\n      <td>0</td>\n      <td>1</td>\n      <td>1</td>\n      <td>0</td>\n      <td>0</td>\n      <td>0</td>\n      <td>0</td>\n    </tr>\n    <tr>\n      <th>33562</th>\n      <td>33562</td>\n      <td>33562</td>\n      <td>199998</td>\n      <td>27200</td>\n      <td>0</td>\n      <td>1</td>\n      <td>0</td>\n      <td>0</td>\n      <td>0</td>\n      <td>1</td>\n      <td>0</td>\n    </tr>\n    <tr>\n      <th>33563</th>\n      <td>33563</td>\n      <td>33563</td>\n      <td>199999</td>\n      <td>40370</td>\n      <td>0</td>\n      <td>1</td>\n      <td>0</td>\n      <td>0</td>\n      <td>0</td>\n      <td>1</td>\n      <td>0</td>\n    </tr>\n  </tbody>\n</table>\n<p>33564 rows × 11 columns</p>\n</div>"
     },
     "metadata": {},
     "execution_count": 92
    }
   ],
   "source": [
    "demographics"
   ]
  },
  {
   "cell_type": "code",
   "execution_count": 94,
   "metadata": {},
   "outputs": [],
   "source": [
    "#demographics = demographics.reset_index()\n",
    "demos = demographics[demographics.hadm_id.isin(list(vitals_slice.hadm_id.unique()))]"
   ]
  },
  {
   "cell_type": "code",
   "execution_count": 95,
   "metadata": {},
   "outputs": [
    {
     "output_type": "stream",
     "name": "stderr",
     "text": [
      "C:\\Users\\Maria\\AppData\\Local\\Programs\\Python\\Python37\\lib\\site-packages\\pandas\\core\\frame.py:4174: SettingWithCopyWarning: \nA value is trying to be set on a copy of a slice from a DataFrame\n\nSee the caveats in the documentation: https://pandas.pydata.org/pandas-docs/stable/user_guide/indexing.html#returning-a-view-versus-a-copy\n  errors=errors,\n"
     ]
    }
   ],
   "source": [
    "demos.drop(['level_0', \"index\"], axis=1, inplace=True)"
   ]
  },
  {
   "cell_type": "code",
   "execution_count": 96,
   "metadata": {},
   "outputs": [
    {
     "output_type": "execute_result",
     "data": {
      "text/plain": [
       "       hadm_id  subject_id  F  M  18-25  25-45  45-65  65-89  89+\n",
       "0       100001       58526  1  0      0      1      0      0    0\n",
       "1       100006        9895  1  0      0      0      1      0    0\n",
       "5       100011       87977  0  1      1      0      0      0    0\n",
       "11      100030       12803  0  1      0      1      0      0    0\n",
       "16      100037       58947  0  1      0      0      1      0    0\n",
       "...        ...         ... .. ..    ...    ...    ...    ...  ...\n",
       "33547   199961       20620  0  1      0      0      1      0    0\n",
       "33554   199976       26198  0  1      0      0      0      1    0\n",
       "33556   199981       28616  0  1      0      0      0      0    1\n",
       "33557   199984       55617  1  0      0      0      0      0    1\n",
       "33560   199993       20785  0  1      0      0      1      0    0\n",
       "\n",
       "[11075 rows x 9 columns]"
      ],
      "text/html": "<div>\n<style scoped>\n    .dataframe tbody tr th:only-of-type {\n        vertical-align: middle;\n    }\n\n    .dataframe tbody tr th {\n        vertical-align: top;\n    }\n\n    .dataframe thead th {\n        text-align: right;\n    }\n</style>\n<table border=\"1\" class=\"dataframe\">\n  <thead>\n    <tr style=\"text-align: right;\">\n      <th></th>\n      <th>hadm_id</th>\n      <th>subject_id</th>\n      <th>F</th>\n      <th>M</th>\n      <th>18-25</th>\n      <th>25-45</th>\n      <th>45-65</th>\n      <th>65-89</th>\n      <th>89+</th>\n    </tr>\n  </thead>\n  <tbody>\n    <tr>\n      <th>0</th>\n      <td>100001</td>\n      <td>58526</td>\n      <td>1</td>\n      <td>0</td>\n      <td>0</td>\n      <td>1</td>\n      <td>0</td>\n      <td>0</td>\n      <td>0</td>\n    </tr>\n    <tr>\n      <th>1</th>\n      <td>100006</td>\n      <td>9895</td>\n      <td>1</td>\n      <td>0</td>\n      <td>0</td>\n      <td>0</td>\n      <td>1</td>\n      <td>0</td>\n      <td>0</td>\n    </tr>\n    <tr>\n      <th>5</th>\n      <td>100011</td>\n      <td>87977</td>\n      <td>0</td>\n      <td>1</td>\n      <td>1</td>\n      <td>0</td>\n      <td>0</td>\n      <td>0</td>\n      <td>0</td>\n    </tr>\n    <tr>\n      <th>11</th>\n      <td>100030</td>\n      <td>12803</td>\n      <td>0</td>\n      <td>1</td>\n      <td>0</td>\n      <td>1</td>\n      <td>0</td>\n      <td>0</td>\n      <td>0</td>\n    </tr>\n    <tr>\n      <th>16</th>\n      <td>100037</td>\n      <td>58947</td>\n      <td>0</td>\n      <td>1</td>\n      <td>0</td>\n      <td>0</td>\n      <td>1</td>\n      <td>0</td>\n      <td>0</td>\n    </tr>\n    <tr>\n      <th>...</th>\n      <td>...</td>\n      <td>...</td>\n      <td>...</td>\n      <td>...</td>\n      <td>...</td>\n      <td>...</td>\n      <td>...</td>\n      <td>...</td>\n      <td>...</td>\n    </tr>\n    <tr>\n      <th>33547</th>\n      <td>199961</td>\n      <td>20620</td>\n      <td>0</td>\n      <td>1</td>\n      <td>0</td>\n      <td>0</td>\n      <td>1</td>\n      <td>0</td>\n      <td>0</td>\n    </tr>\n    <tr>\n      <th>33554</th>\n      <td>199976</td>\n      <td>26198</td>\n      <td>0</td>\n      <td>1</td>\n      <td>0</td>\n      <td>0</td>\n      <td>0</td>\n      <td>1</td>\n      <td>0</td>\n    </tr>\n    <tr>\n      <th>33556</th>\n      <td>199981</td>\n      <td>28616</td>\n      <td>0</td>\n      <td>1</td>\n      <td>0</td>\n      <td>0</td>\n      <td>0</td>\n      <td>0</td>\n      <td>1</td>\n    </tr>\n    <tr>\n      <th>33557</th>\n      <td>199984</td>\n      <td>55617</td>\n      <td>1</td>\n      <td>0</td>\n      <td>0</td>\n      <td>0</td>\n      <td>0</td>\n      <td>0</td>\n      <td>1</td>\n    </tr>\n    <tr>\n      <th>33560</th>\n      <td>199993</td>\n      <td>20785</td>\n      <td>0</td>\n      <td>1</td>\n      <td>0</td>\n      <td>0</td>\n      <td>1</td>\n      <td>0</td>\n      <td>0</td>\n    </tr>\n  </tbody>\n</table>\n<p>11075 rows × 9 columns</p>\n</div>"
     },
     "metadata": {},
     "execution_count": 96
    }
   ],
   "source": [
    "demos"
   ]
  },
  {
   "cell_type": "code",
   "execution_count": 97,
   "metadata": {},
   "outputs": [],
   "source": [
    "df_icd = df_icd.reset_index()\n",
    "icd = df_icd[df_icd.hadm_id.isin(list(vitals_slice.hadm_id.unique()))]"
   ]
  },
  {
   "cell_type": "code",
   "execution_count": 101,
   "metadata": {},
   "outputs": [
    {
     "output_type": "stream",
     "name": "stderr",
     "text": [
      "C:\\Users\\Maria\\AppData\\Local\\Programs\\Python\\Python37\\lib\\site-packages\\pandas\\core\\frame.py:4174: SettingWithCopyWarning: \nA value is trying to be set on a copy of a slice from a DataFrame\n\nSee the caveats in the documentation: https://pandas.pydata.org/pandas-docs/stable/user_guide/indexing.html#returning-a-view-versus-a-copy\n  errors=errors,\n"
     ]
    }
   ],
   "source": [
    "icd.drop([\"index\", \"level_0\"], axis=1, inplace=True)"
   ]
  },
  {
   "cell_type": "code",
   "execution_count": 102,
   "metadata": {},
   "outputs": [
    {
     "output_type": "error",
     "ename": "Error",
     "evalue": "KeyboardInterrupt",
     "traceback": [
      "Error: KeyboardInterrupt",
      "at _.parseConnectInfo (c:\\Users\\Maria\\.vscode\\extensions\\ms-toolsai.jupyter-2021.6.832593372\\out\\client\\extension.js:90:161384)",
      "at _.connectToLocal (c:\\Users\\Maria\\.vscode\\extensions\\ms-toolsai.jupyter-2021.6.832593372\\out\\client\\extension.js:90:161987)",
      "at async _.connect (c:\\Users\\Maria\\.vscode\\extensions\\ms-toolsai.jupyter-2021.6.832593372\\out\\client\\extension.js:90:159864)",
      "at async _.startDebugSession (c:\\Users\\Maria\\.vscode\\extensions\\ms-toolsai.jupyter-2021.6.832593372\\out\\client\\extension.js:90:159011)",
      "at async D.submitCode (c:\\Users\\Maria\\.vscode\\extensions\\ms-toolsai.jupyter-2021.6.832593372\\out\\client\\extension.js:37:622214)",
      "at async D.handleRunByLine (c:\\Users\\Maria\\.vscode\\extensions\\ms-toolsai.jupyter-2021.6.832593372\\out\\client\\extension.js:37:610158)"
     ]
    }
   ],
   "source": [
    "icd"
   ]
  },
  {
   "cell_type": "code",
   "execution_count": 107,
   "metadata": {},
   "outputs": [],
   "source": [
    "icd_demos = pd.merge(icd, demos, how=\"inner\", on=[\"hadm_id\", \"subject_id\"])"
   ]
  },
  {
   "cell_type": "code",
   "execution_count": 108,
   "metadata": {},
   "outputs": [
    {
     "output_type": "execute_result",
     "data": {
      "text/plain": [
       "       hadm_id  subject_id  1  2  3  4  5  6  7  8  ...  18  19  20  F  M  \\\n",
       "0       100001       58526  0  0  3  0  0  3  3  0  ...   0   3   0  1  0   \n",
       "1       100006        9895  0  2  2  0  2  0  0  2  ...   0   2   0  1  0   \n",
       "2       100011       87977  0  0  0  1  1  0  0  1  ...   1   0   1  0  1   \n",
       "3       100030       12803  0  0  1  1  0  0  1  1  ...   0   0   0  0  1   \n",
       "4       100037       58947  1  1  0  1  0  1  1  1  ...   0   1   0  0  1   \n",
       "...        ...         ... .. .. .. .. .. .. .. ..  ...  ..  ..  .. .. ..   \n",
       "11070   199961       20620  0  0  2  2  0  0  2  0  ...   2   0   2  0  1   \n",
       "11071   199976       26198  1  0  0  0  0  0  0  1  ...   1   0   1  0  1   \n",
       "11072   199981       28616  0  0  1  1  0  0  1  1  ...   1   0   1  0  1   \n",
       "11073   199984       55617  0  0  1  0  0  1  1  1  ...   0   1   0  1  0   \n",
       "11074   199993       20785  0  0  1  0  0  0  1  1  ...   0   0   0  0  1   \n",
       "\n",
       "       18-25  25-45  45-65  65-89  89+  \n",
       "0          0      1      0      0    0  \n",
       "1          0      0      1      0    0  \n",
       "2          1      0      0      0    0  \n",
       "3          0      1      0      0    0  \n",
       "4          0      0      1      0    0  \n",
       "...      ...    ...    ...    ...  ...  \n",
       "11070      0      0      1      0    0  \n",
       "11071      0      0      0      1    0  \n",
       "11072      0      0      0      0    1  \n",
       "11073      0      0      0      0    1  \n",
       "11074      0      0      1      0    0  \n",
       "\n",
       "[11075 rows x 29 columns]"
      ],
      "text/html": "<div>\n<style scoped>\n    .dataframe tbody tr th:only-of-type {\n        vertical-align: middle;\n    }\n\n    .dataframe tbody tr th {\n        vertical-align: top;\n    }\n\n    .dataframe thead th {\n        text-align: right;\n    }\n</style>\n<table border=\"1\" class=\"dataframe\">\n  <thead>\n    <tr style=\"text-align: right;\">\n      <th></th>\n      <th>hadm_id</th>\n      <th>subject_id</th>\n      <th>1</th>\n      <th>2</th>\n      <th>3</th>\n      <th>4</th>\n      <th>5</th>\n      <th>6</th>\n      <th>7</th>\n      <th>8</th>\n      <th>...</th>\n      <th>18</th>\n      <th>19</th>\n      <th>20</th>\n      <th>F</th>\n      <th>M</th>\n      <th>18-25</th>\n      <th>25-45</th>\n      <th>45-65</th>\n      <th>65-89</th>\n      <th>89+</th>\n    </tr>\n  </thead>\n  <tbody>\n    <tr>\n      <th>0</th>\n      <td>100001</td>\n      <td>58526</td>\n      <td>0</td>\n      <td>0</td>\n      <td>3</td>\n      <td>0</td>\n      <td>0</td>\n      <td>3</td>\n      <td>3</td>\n      <td>0</td>\n      <td>...</td>\n      <td>0</td>\n      <td>3</td>\n      <td>0</td>\n      <td>1</td>\n      <td>0</td>\n      <td>0</td>\n      <td>1</td>\n      <td>0</td>\n      <td>0</td>\n      <td>0</td>\n    </tr>\n    <tr>\n      <th>1</th>\n      <td>100006</td>\n      <td>9895</td>\n      <td>0</td>\n      <td>2</td>\n      <td>2</td>\n      <td>0</td>\n      <td>2</td>\n      <td>0</td>\n      <td>0</td>\n      <td>2</td>\n      <td>...</td>\n      <td>0</td>\n      <td>2</td>\n      <td>0</td>\n      <td>1</td>\n      <td>0</td>\n      <td>0</td>\n      <td>0</td>\n      <td>1</td>\n      <td>0</td>\n      <td>0</td>\n    </tr>\n    <tr>\n      <th>2</th>\n      <td>100011</td>\n      <td>87977</td>\n      <td>0</td>\n      <td>0</td>\n      <td>0</td>\n      <td>1</td>\n      <td>1</td>\n      <td>0</td>\n      <td>0</td>\n      <td>1</td>\n      <td>...</td>\n      <td>1</td>\n      <td>0</td>\n      <td>1</td>\n      <td>0</td>\n      <td>1</td>\n      <td>1</td>\n      <td>0</td>\n      <td>0</td>\n      <td>0</td>\n      <td>0</td>\n    </tr>\n    <tr>\n      <th>3</th>\n      <td>100030</td>\n      <td>12803</td>\n      <td>0</td>\n      <td>0</td>\n      <td>1</td>\n      <td>1</td>\n      <td>0</td>\n      <td>0</td>\n      <td>1</td>\n      <td>1</td>\n      <td>...</td>\n      <td>0</td>\n      <td>0</td>\n      <td>0</td>\n      <td>0</td>\n      <td>1</td>\n      <td>0</td>\n      <td>1</td>\n      <td>0</td>\n      <td>0</td>\n      <td>0</td>\n    </tr>\n    <tr>\n      <th>4</th>\n      <td>100037</td>\n      <td>58947</td>\n      <td>1</td>\n      <td>1</td>\n      <td>0</td>\n      <td>1</td>\n      <td>0</td>\n      <td>1</td>\n      <td>1</td>\n      <td>1</td>\n      <td>...</td>\n      <td>0</td>\n      <td>1</td>\n      <td>0</td>\n      <td>0</td>\n      <td>1</td>\n      <td>0</td>\n      <td>0</td>\n      <td>1</td>\n      <td>0</td>\n      <td>0</td>\n    </tr>\n    <tr>\n      <th>...</th>\n      <td>...</td>\n      <td>...</td>\n      <td>...</td>\n      <td>...</td>\n      <td>...</td>\n      <td>...</td>\n      <td>...</td>\n      <td>...</td>\n      <td>...</td>\n      <td>...</td>\n      <td>...</td>\n      <td>...</td>\n      <td>...</td>\n      <td>...</td>\n      <td>...</td>\n      <td>...</td>\n      <td>...</td>\n      <td>...</td>\n      <td>...</td>\n      <td>...</td>\n      <td>...</td>\n    </tr>\n    <tr>\n      <th>11070</th>\n      <td>199961</td>\n      <td>20620</td>\n      <td>0</td>\n      <td>0</td>\n      <td>2</td>\n      <td>2</td>\n      <td>0</td>\n      <td>0</td>\n      <td>2</td>\n      <td>0</td>\n      <td>...</td>\n      <td>2</td>\n      <td>0</td>\n      <td>2</td>\n      <td>0</td>\n      <td>1</td>\n      <td>0</td>\n      <td>0</td>\n      <td>1</td>\n      <td>0</td>\n      <td>0</td>\n    </tr>\n    <tr>\n      <th>11071</th>\n      <td>199976</td>\n      <td>26198</td>\n      <td>1</td>\n      <td>0</td>\n      <td>0</td>\n      <td>0</td>\n      <td>0</td>\n      <td>0</td>\n      <td>0</td>\n      <td>1</td>\n      <td>...</td>\n      <td>1</td>\n      <td>0</td>\n      <td>1</td>\n      <td>0</td>\n      <td>1</td>\n      <td>0</td>\n      <td>0</td>\n      <td>0</td>\n      <td>1</td>\n      <td>0</td>\n    </tr>\n    <tr>\n      <th>11072</th>\n      <td>199981</td>\n      <td>28616</td>\n      <td>0</td>\n      <td>0</td>\n      <td>1</td>\n      <td>1</td>\n      <td>0</td>\n      <td>0</td>\n      <td>1</td>\n      <td>1</td>\n      <td>...</td>\n      <td>1</td>\n      <td>0</td>\n      <td>1</td>\n      <td>0</td>\n      <td>1</td>\n      <td>0</td>\n      <td>0</td>\n      <td>0</td>\n      <td>0</td>\n      <td>1</td>\n    </tr>\n    <tr>\n      <th>11073</th>\n      <td>199984</td>\n      <td>55617</td>\n      <td>0</td>\n      <td>0</td>\n      <td>1</td>\n      <td>0</td>\n      <td>0</td>\n      <td>1</td>\n      <td>1</td>\n      <td>1</td>\n      <td>...</td>\n      <td>0</td>\n      <td>1</td>\n      <td>0</td>\n      <td>1</td>\n      <td>0</td>\n      <td>0</td>\n      <td>0</td>\n      <td>0</td>\n      <td>0</td>\n      <td>1</td>\n    </tr>\n    <tr>\n      <th>11074</th>\n      <td>199993</td>\n      <td>20785</td>\n      <td>0</td>\n      <td>0</td>\n      <td>1</td>\n      <td>0</td>\n      <td>0</td>\n      <td>0</td>\n      <td>1</td>\n      <td>1</td>\n      <td>...</td>\n      <td>0</td>\n      <td>0</td>\n      <td>0</td>\n      <td>0</td>\n      <td>1</td>\n      <td>0</td>\n      <td>0</td>\n      <td>1</td>\n      <td>0</td>\n      <td>0</td>\n    </tr>\n  </tbody>\n</table>\n<p>11075 rows × 29 columns</p>\n</div>"
     },
     "metadata": {},
     "execution_count": 108
    }
   ],
   "source": [
    "icd_demos"
   ]
  },
  {
   "cell_type": "code",
   "execution_count": 109,
   "metadata": {},
   "outputs": [],
   "source": [
    "icd_demos_vitals = pd.merge(vitals_slice, icd_demos, how=\"inner\", on=[\"hadm_id\", \"subject_id\"])"
   ]
  },
  {
   "cell_type": "code",
   "execution_count": 111,
   "metadata": {},
   "outputs": [
    {
     "output_type": "execute_result",
     "data": {
      "text/plain": [
       "        mortality  HeartRate     SysBP    DiasBP    MeanBP  RespRate  \\\n",
       "0             0.0   0.435714  0.000000  0.000000  0.000000  0.202899   \n",
       "1             0.0   0.421429  0.617363  0.375940  0.409396  0.318841   \n",
       "2             0.0   0.421429  0.530547  0.319549  0.345638  0.217391   \n",
       "3             0.0   0.392857  0.382637  0.240602  0.255034  0.217391   \n",
       "4             0.0   0.371429  0.543408  0.315789  0.352349  0.231884   \n",
       "...           ...        ...       ...       ...       ...       ...   \n",
       "258616        0.0   0.310714  0.302251  0.251880  0.275168  0.260870   \n",
       "258617        0.0   0.310714  0.334405  0.278195  0.302013  0.260870   \n",
       "258618        0.0   0.296429  0.302251  0.259398  0.278523  0.202899   \n",
       "258619        0.0   0.300000  0.305466  0.255639  0.271812  0.188406   \n",
       "258620        0.0   0.300000  0.324759  0.289474  0.298658  0.217391   \n",
       "\n",
       "           TempC  SpO2  Glucose  hadm_id  ...  18  19  20  F  M  18-25  25-45  \\\n",
       "0       0.000000  0.00      0.0   100001  ...   0   3   0  1  0      0      1   \n",
       "1       0.869565  0.00      0.0   100001  ...   0   3   0  1  0      0      1   \n",
       "2       0.000000  0.00      0.0   100001  ...   0   3   0  1  0      0      1   \n",
       "3       0.000000  0.00      0.0   100001  ...   0   3   0  1  0      0      1   \n",
       "4       0.868248  1.00      0.0   100001  ...   0   3   0  1  0      0      1   \n",
       "...          ...   ...      ...      ...  ...  ..  ..  .. .. ..    ...    ...   \n",
       "258616  0.866930  0.00      0.0   199993  ...   0   0   0  0  1      0      0   \n",
       "258617  0.000000  0.00      0.0   199993  ...   0   0   0  0  1      0      0   \n",
       "258618  0.000000  0.00      0.0   199993  ...   0   0   0  0  1      0      0   \n",
       "258619  0.859025  0.00      0.0   199993  ...   0   0   0  0  1      0      0   \n",
       "258620  0.000000  0.96      0.0   199993  ...   0   0   0  0  1      0      0   \n",
       "\n",
       "        45-65  65-89  89+  \n",
       "0           0      0    0  \n",
       "1           0      0    0  \n",
       "2           0      0    0  \n",
       "3           0      0    0  \n",
       "4           0      0    0  \n",
       "...       ...    ...  ...  \n",
       "258616      1      0    0  \n",
       "258617      1      0    0  \n",
       "258618      1      0    0  \n",
       "258619      1      0    0  \n",
       "258620      1      0    0  \n",
       "\n",
       "[258621 rows x 39 columns]"
      ],
      "text/html": "<div>\n<style scoped>\n    .dataframe tbody tr th:only-of-type {\n        vertical-align: middle;\n    }\n\n    .dataframe tbody tr th {\n        vertical-align: top;\n    }\n\n    .dataframe thead th {\n        text-align: right;\n    }\n</style>\n<table border=\"1\" class=\"dataframe\">\n  <thead>\n    <tr style=\"text-align: right;\">\n      <th></th>\n      <th>mortality</th>\n      <th>HeartRate</th>\n      <th>SysBP</th>\n      <th>DiasBP</th>\n      <th>MeanBP</th>\n      <th>RespRate</th>\n      <th>TempC</th>\n      <th>SpO2</th>\n      <th>Glucose</th>\n      <th>hadm_id</th>\n      <th>...</th>\n      <th>18</th>\n      <th>19</th>\n      <th>20</th>\n      <th>F</th>\n      <th>M</th>\n      <th>18-25</th>\n      <th>25-45</th>\n      <th>45-65</th>\n      <th>65-89</th>\n      <th>89+</th>\n    </tr>\n  </thead>\n  <tbody>\n    <tr>\n      <th>0</th>\n      <td>0.0</td>\n      <td>0.435714</td>\n      <td>0.000000</td>\n      <td>0.000000</td>\n      <td>0.000000</td>\n      <td>0.202899</td>\n      <td>0.000000</td>\n      <td>0.00</td>\n      <td>0.0</td>\n      <td>100001</td>\n      <td>...</td>\n      <td>0</td>\n      <td>3</td>\n      <td>0</td>\n      <td>1</td>\n      <td>0</td>\n      <td>0</td>\n      <td>1</td>\n      <td>0</td>\n      <td>0</td>\n      <td>0</td>\n    </tr>\n    <tr>\n      <th>1</th>\n      <td>0.0</td>\n      <td>0.421429</td>\n      <td>0.617363</td>\n      <td>0.375940</td>\n      <td>0.409396</td>\n      <td>0.318841</td>\n      <td>0.869565</td>\n      <td>0.00</td>\n      <td>0.0</td>\n      <td>100001</td>\n      <td>...</td>\n      <td>0</td>\n      <td>3</td>\n      <td>0</td>\n      <td>1</td>\n      <td>0</td>\n      <td>0</td>\n      <td>1</td>\n      <td>0</td>\n      <td>0</td>\n      <td>0</td>\n    </tr>\n    <tr>\n      <th>2</th>\n      <td>0.0</td>\n      <td>0.421429</td>\n      <td>0.530547</td>\n      <td>0.319549</td>\n      <td>0.345638</td>\n      <td>0.217391</td>\n      <td>0.000000</td>\n      <td>0.00</td>\n      <td>0.0</td>\n      <td>100001</td>\n      <td>...</td>\n      <td>0</td>\n      <td>3</td>\n      <td>0</td>\n      <td>1</td>\n      <td>0</td>\n      <td>0</td>\n      <td>1</td>\n      <td>0</td>\n      <td>0</td>\n      <td>0</td>\n    </tr>\n    <tr>\n      <th>3</th>\n      <td>0.0</td>\n      <td>0.392857</td>\n      <td>0.382637</td>\n      <td>0.240602</td>\n      <td>0.255034</td>\n      <td>0.217391</td>\n      <td>0.000000</td>\n      <td>0.00</td>\n      <td>0.0</td>\n      <td>100001</td>\n      <td>...</td>\n      <td>0</td>\n      <td>3</td>\n      <td>0</td>\n      <td>1</td>\n      <td>0</td>\n      <td>0</td>\n      <td>1</td>\n      <td>0</td>\n      <td>0</td>\n      <td>0</td>\n    </tr>\n    <tr>\n      <th>4</th>\n      <td>0.0</td>\n      <td>0.371429</td>\n      <td>0.543408</td>\n      <td>0.315789</td>\n      <td>0.352349</td>\n      <td>0.231884</td>\n      <td>0.868248</td>\n      <td>1.00</td>\n      <td>0.0</td>\n      <td>100001</td>\n      <td>...</td>\n      <td>0</td>\n      <td>3</td>\n      <td>0</td>\n      <td>1</td>\n      <td>0</td>\n      <td>0</td>\n      <td>1</td>\n      <td>0</td>\n      <td>0</td>\n      <td>0</td>\n    </tr>\n    <tr>\n      <th>...</th>\n      <td>...</td>\n      <td>...</td>\n      <td>...</td>\n      <td>...</td>\n      <td>...</td>\n      <td>...</td>\n      <td>...</td>\n      <td>...</td>\n      <td>...</td>\n      <td>...</td>\n      <td>...</td>\n      <td>...</td>\n      <td>...</td>\n      <td>...</td>\n      <td>...</td>\n      <td>...</td>\n      <td>...</td>\n      <td>...</td>\n      <td>...</td>\n      <td>...</td>\n      <td>...</td>\n    </tr>\n    <tr>\n      <th>258616</th>\n      <td>0.0</td>\n      <td>0.310714</td>\n      <td>0.302251</td>\n      <td>0.251880</td>\n      <td>0.275168</td>\n      <td>0.260870</td>\n      <td>0.866930</td>\n      <td>0.00</td>\n      <td>0.0</td>\n      <td>199993</td>\n      <td>...</td>\n      <td>0</td>\n      <td>0</td>\n      <td>0</td>\n      <td>0</td>\n      <td>1</td>\n      <td>0</td>\n      <td>0</td>\n      <td>1</td>\n      <td>0</td>\n      <td>0</td>\n    </tr>\n    <tr>\n      <th>258617</th>\n      <td>0.0</td>\n      <td>0.310714</td>\n      <td>0.334405</td>\n      <td>0.278195</td>\n      <td>0.302013</td>\n      <td>0.260870</td>\n      <td>0.000000</td>\n      <td>0.00</td>\n      <td>0.0</td>\n      <td>199993</td>\n      <td>...</td>\n      <td>0</td>\n      <td>0</td>\n      <td>0</td>\n      <td>0</td>\n      <td>1</td>\n      <td>0</td>\n      <td>0</td>\n      <td>1</td>\n      <td>0</td>\n      <td>0</td>\n    </tr>\n    <tr>\n      <th>258618</th>\n      <td>0.0</td>\n      <td>0.296429</td>\n      <td>0.302251</td>\n      <td>0.259398</td>\n      <td>0.278523</td>\n      <td>0.202899</td>\n      <td>0.000000</td>\n      <td>0.00</td>\n      <td>0.0</td>\n      <td>199993</td>\n      <td>...</td>\n      <td>0</td>\n      <td>0</td>\n      <td>0</td>\n      <td>0</td>\n      <td>1</td>\n      <td>0</td>\n      <td>0</td>\n      <td>1</td>\n      <td>0</td>\n      <td>0</td>\n    </tr>\n    <tr>\n      <th>258619</th>\n      <td>0.0</td>\n      <td>0.300000</td>\n      <td>0.305466</td>\n      <td>0.255639</td>\n      <td>0.271812</td>\n      <td>0.188406</td>\n      <td>0.859025</td>\n      <td>0.00</td>\n      <td>0.0</td>\n      <td>199993</td>\n      <td>...</td>\n      <td>0</td>\n      <td>0</td>\n      <td>0</td>\n      <td>0</td>\n      <td>1</td>\n      <td>0</td>\n      <td>0</td>\n      <td>1</td>\n      <td>0</td>\n      <td>0</td>\n    </tr>\n    <tr>\n      <th>258620</th>\n      <td>0.0</td>\n      <td>0.300000</td>\n      <td>0.324759</td>\n      <td>0.289474</td>\n      <td>0.298658</td>\n      <td>0.217391</td>\n      <td>0.000000</td>\n      <td>0.96</td>\n      <td>0.0</td>\n      <td>199993</td>\n      <td>...</td>\n      <td>0</td>\n      <td>0</td>\n      <td>0</td>\n      <td>0</td>\n      <td>1</td>\n      <td>0</td>\n      <td>0</td>\n      <td>1</td>\n      <td>0</td>\n      <td>0</td>\n    </tr>\n  </tbody>\n</table>\n<p>258621 rows × 39 columns</p>\n</div>"
     },
     "metadata": {},
     "execution_count": 111
    }
   ],
   "source": [
    "icd_demos_vitals ##final table hopefully "
   ]
  },
  {
   "cell_type": "code",
   "execution_count": 112,
   "metadata": {},
   "outputs": [
    {
     "output_type": "execute_result",
     "data": {
      "text/plain": [
       "0.0    216501\n",
       "1.0     42120\n",
       "Name: mortality, dtype: int64"
      ]
     },
     "metadata": {},
     "execution_count": 112
    }
   ],
   "source": [
    "icd_demos_vitals.mortality.value_counts()"
   ]
  },
  {
   "cell_type": "code",
   "execution_count": null,
   "metadata": {},
   "outputs": [],
   "source": []
  }
 ]
}