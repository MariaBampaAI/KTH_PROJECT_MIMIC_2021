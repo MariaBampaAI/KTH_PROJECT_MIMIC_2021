{
 "cells": [
  {
   "cell_type": "code",
   "execution_count": 1,
   "id": "af87af61",
   "metadata": {},
   "outputs": [],
   "source": [
    "import pandas as pd\n",
    "import numpy as np\n",
    "\n",
    "from tensorflow import keras\n",
    "from sklearn.model_selection import train_test_split\n",
    "from sklearn.preprocessing import MinMaxScaler\n",
    "from sklearn.metrics import accuracy_score, confusion_matrix, classification_report, roc_auc_score, balanced_accuracy_score\n",
    "\n",
    "from keras_preprocessing.text import Tokenizer\n",
    "\n",
    "import matplotlib.pyplot as plt"
   ]
  },
  {
   "cell_type": "code",
   "execution_count": 2,
   "id": "de5b7ba7",
   "metadata": {},
   "outputs": [],
   "source": [
    "import lstm_preprocess"
   ]
  },
  {
   "cell_type": "code",
   "execution_count": 3,
   "id": "917e20ca",
   "metadata": {},
   "outputs": [],
   "source": [
    "import os\n",
    "import tensorflow as tf\n",
    "import random\n",
    "# fix the random seed for tensorflow models\n",
    "os.environ['TF_DETERMINISTIC_OPS'] = '1' \n",
    "SEED = 39\n",
    "random.seed(SEED)\n",
    "np.random.seed(SEED)\n",
    "tf.random.set_seed(SEED)\n",
    "\n",
    "# set to use flexible GPU resources  \n",
    "config = tf.compat.v1.ConfigProto()\n",
    "config.gpu_options.allow_growth = True\n",
    "session = tf.compat.v1.Session(config=config)"
   ]
  },
  {
   "cell_type": "code",
   "execution_count": 4,
   "id": "c60bc8d7",
   "metadata": {
    "scrolled": true
   },
   "outputs": [
    {
     "name": "stdout",
     "output_type": "stream",
     "text": [
      "Num GPUs Available: 1.\n"
     ]
    }
   ],
   "source": [
    "print(f\"Num GPUs Available: {len(tf.config.list_physical_devices('GPU'))}.\")"
   ]
  },
  {
   "cell_type": "markdown",
   "id": "8213d6d1",
   "metadata": {},
   "source": [
    "## Read the data"
   ]
  },
  {
   "cell_type": "code",
   "execution_count": 5,
   "id": "ac61ea77",
   "metadata": {},
   "outputs": [],
   "source": [
    "data = pd.read_csv(\"./icd_demos_vitals.csv\")\n",
    "\n",
    "data.drop(\"Unnamed: 0\", axis=1, inplace=True)"
   ]
  },
  {
   "cell_type": "code",
   "execution_count": null,
   "id": "58ed49fd",
   "metadata": {},
   "outputs": [],
   "source": [
    "#either keep the patients with 24 hours of admission, or change 23 to sth smaller to include patients with less time steps\n",
    "df = lstm_preprocess.pad(data, 23, 24, 0)\n",
    "\n",
    "df"
   ]
  },
  {
   "cell_type": "code",
   "execution_count": null,
   "id": "3dd6265b",
   "metadata": {
    "scrolled": true
   },
   "outputs": [],
   "source": [
    "#remove unnecessary columns\n",
    "COLUMNS = lstm_preprocess.delete_columns(df)\n",
    "\n",
    "COLUMNS"
   ]
  },
  {
   "cell_type": "code",
   "execution_count": null,
   "id": "7456312a",
   "metadata": {
    "scrolled": true
   },
   "outputs": [],
   "source": [
    "hadm_idx = df['hadm_id'].values.reshape(-1, 24, 1)[:, 0, 0]\n",
    "hadm_idx"
   ]
  },
  {
   "cell_type": "code",
   "execution_count": 9,
   "id": "f5822043",
   "metadata": {},
   "outputs": [],
   "source": [
    "#reshape the matrix to the appropriate format\n",
    "MATRIX = df[COLUMNS+['mortality']].values\n",
    "MATRIX = MATRIX.reshape(int(MATRIX.shape[0]/24),24,MATRIX.shape[1])"
   ]
  },
  {
   "cell_type": "code",
   "execution_count": 10,
   "id": "2eb729ba",
   "metadata": {},
   "outputs": [],
   "source": [
    "bool_matrix = (~MATRIX.any(axis=2))\n",
    "MATRIX[bool_matrix] = np.nan\n",
    "# MATRIX = lstm_preprocess.ZScoreNormalize(MATRIX)\n",
    "\n",
    "## restore 3D shape to boolmatrix for consistency\n",
    "bool_matrix = np.isnan(MATRIX)\n",
    "MATRIX[bool_matrix] = 0 \n",
    "   \n",
    "#permutation = np.random.permutation(MATRIX.shape[0])\n",
    "#MATRIX = MATRIX[permutation]\n",
    "#bool_matrix = bool_matrix[permutation]\n",
    "\n",
    "# X_MATRIX = MATRIX[:,:,0:-1]\n",
    "X_MATRIX = MATRIX[:,:,0:-2] # only use the first 8 temporal features, ignoring demographic data for now\n",
    "Y_MATRIX = MATRIX[:,:,-1]\n",
    "sc = MinMaxScaler()\n",
    "#x_bool_matrix = bool_matrix[:,:,0:-1]\n",
    "#y_bool_matrix = bool_matrix[:,:,-1]"
   ]
  },
  {
   "cell_type": "code",
   "execution_count": 11,
   "id": "8a965c3d",
   "metadata": {},
   "outputs": [
    {
     "data": {
      "text/plain": [
       "(24, 34)"
      ]
     },
     "execution_count": 11,
     "metadata": {},
     "output_type": "execute_result"
    }
   ],
   "source": [
    "X_MATRIX[0].shape"
   ]
  },
  {
   "cell_type": "code",
   "execution_count": 12,
   "id": "cda1548a",
   "metadata": {},
   "outputs": [
    {
     "data": {
      "text/plain": [
       "0.0    1819\n",
       "1.0     395\n",
       "dtype: int64"
      ]
     },
     "execution_count": 12,
     "metadata": {},
     "output_type": "execute_result"
    }
   ],
   "source": [
    "pd.value_counts(Y_MATRIX[:, 0])"
   ]
  },
  {
   "cell_type": "code",
   "execution_count": 13,
   "id": "91b60380",
   "metadata": {},
   "outputs": [],
   "source": [
    "#train, validation, test split\n",
    "tt_split = 0.7 \n",
    "val_percentage = 0.8\n",
    "\n",
    "train_tail_idx = int(tt_split*X_MATRIX.shape[0])\n",
    "val_tail_idx = int(val_percentage*X_MATRIX.shape[0])"
   ]
  },
  {
   "cell_type": "code",
   "execution_count": 14,
   "id": "30a18f95",
   "metadata": {
    "scrolled": true
   },
   "outputs": [],
   "source": [
    "# extract the admission idx for train/validation/test, used to extract text patient data for prediction \n",
    "train_hadm_idx = hadm_idx[:train_tail_idx]\n",
    "val_hadm_idx = hadm_idx[train_tail_idx:val_tail_idx]\n",
    "test_hadm_idx = hadm_idx[val_tail_idx::]"
   ]
  },
  {
   "cell_type": "code",
   "execution_count": 15,
   "id": "ce6e05fc",
   "metadata": {},
   "outputs": [
    {
     "data": {
      "text/plain": [
       "'\\nx_test_boolmat = x_bool_matrix[int(val_percentage*x_bool_matrix.shape[0])::]\\ny_test_boolmat = y_bool_matrix[int(val_percentage*y_bool_matrix.shape[0])::]\\ny_test_boolmat = y_test_boolmat.reshape(y_test_boolmat.shape[0],y_test_boolmat.shape[1],1)\\n\\nX_TEST[x_test_boolmat] = 0\\nY_TEST[y_test_boolmat] = 0\\n'"
      ]
     },
     "execution_count": 15,
     "metadata": {},
     "output_type": "execute_result"
    }
   ],
   "source": [
    "X_TRAIN = X_MATRIX[0:train_tail_idx, :, :]\n",
    "Y_TRAIN = Y_MATRIX[0:train_tail_idx, 0]\n",
    "# Y_TRAIN = Y_TRAIN.reshape(Y_TRAIN.shape[0], Y_TRAIN.shape[1], 1)\n",
    "\n",
    "X_VAL = X_MATRIX[train_tail_idx:val_tail_idx]\n",
    "Y_VAL = Y_MATRIX[train_tail_idx:val_tail_idx, 0]\n",
    "# Y_VAL = Y_VAL.reshape(Y_VAL.shape[0], Y_VAL.shape[1], 1)\n",
    "\"\"\"\n",
    "x_val_boolmat = x_bool_matrix[int(tt_split*x_bool_matrix.shape[0]):int(val_percentage*x_bool_matrix.shape[0])]\n",
    "y_val_boolmat = y_bool_matrix[int(tt_split*y_bool_matrix.shape[0]):int(val_percentage*y_bool_matrix.shape[0])]\n",
    "y_val_boolmat = y_val_boolmat.reshape(y_val_boolmat.shape[0],y_val_boolmat.shape[1],1)\n",
    "\"\"\"\n",
    "X_TEST = X_MATRIX[val_tail_idx::]\n",
    "Y_TEST = Y_MATRIX[val_tail_idx::, 0]\n",
    "# Y_TEST = Y_TEST.reshape(Y_TEST.shape[0], Y_TEST.shape[1], 1)\n",
    "\"\"\"\n",
    "x_test_boolmat = x_bool_matrix[int(val_percentage*x_bool_matrix.shape[0])::]\n",
    "y_test_boolmat = y_bool_matrix[int(val_percentage*y_bool_matrix.shape[0])::]\n",
    "y_test_boolmat = y_test_boolmat.reshape(y_test_boolmat.shape[0],y_test_boolmat.shape[1],1)\n",
    "\n",
    "X_TEST[x_test_boolmat] = 0\n",
    "Y_TEST[y_test_boolmat] = 0\n",
    "\"\"\""
   ]
  },
  {
   "cell_type": "code",
   "execution_count": 16,
   "id": "9392d25a",
   "metadata": {},
   "outputs": [
    {
     "name": "stdout",
     "output_type": "stream",
     "text": [
      "Shape should be dx1:  (34,)\n"
     ]
    },
    {
     "name": "stderr",
     "output_type": "stream",
     "text": [
      "/data0/home/dsv/zhwa9764/Projects/KTH_PROJECT_MIMIC_2021/data_extraction/lstm_preprocess.py:76: RuntimeWarning: invalid value encountered in true_divide\n",
      "  train /= train_std\n",
      "/data0/home/dsv/zhwa9764/Projects/KTH_PROJECT_MIMIC_2021/data_extraction/lstm_preprocess.py:79: RuntimeWarning: invalid value encountered in true_divide\n",
      "  val /= train_std\n",
      "/data0/home/dsv/zhwa9764/Projects/KTH_PROJECT_MIMIC_2021/data_extraction/lstm_preprocess.py:82: RuntimeWarning: invalid value encountered in true_divide\n",
      "  test /= train_std\n"
     ]
    }
   ],
   "source": [
    "X_TRAIN, X_VAL, X_TEST = lstm_preprocess.normalize(X_TRAIN, X_TEST, X_VAL)\n"
   ]
  },
  {
   "cell_type": "code",
   "execution_count": 17,
   "id": "2f1f6b06",
   "metadata": {},
   "outputs": [
    {
     "data": {
      "text/plain": [
       "34"
      ]
     },
     "execution_count": 17,
     "metadata": {},
     "output_type": "execute_result"
    }
   ],
   "source": [
    "no_feature_cols = X_TRAIN.shape[2]\n",
    "no_feature_cols"
   ]
  },
  {
   "cell_type": "code",
   "execution_count": 18,
   "id": "f69e3314",
   "metadata": {},
   "outputs": [
    {
     "data": {
      "text/plain": [
       "False"
      ]
     },
     "execution_count": 18,
     "metadata": {},
     "output_type": "execute_result"
    }
   ],
   "source": [
    "bool_matrix = np.isnan(X_VAL)\n",
    "X_VAL[bool_matrix] = 0 \n",
    "np.isnan(X_VAL).any()\n",
    "\n",
    "bool_matrix = np.isnan(X_TRAIN)\n",
    "X_TRAIN[bool_matrix] = 0 \n",
    "np.isnan(X_TRAIN).any()\n",
    "\n",
    "bool_matrix = np.isnan(X_TEST)\n",
    "X_TEST[bool_matrix] = 0 \n",
    "np.isnan(X_TEST).any()"
   ]
  },
  {
   "cell_type": "markdown",
   "id": "4c023c9e",
   "metadata": {},
   "source": [
    "## Load text data"
   ]
  },
  {
   "cell_type": "code",
   "execution_count": null,
   "id": "8bf1fb3a",
   "metadata": {},
   "outputs": [],
   "source": [
    "text_data = pd.read_csv('./texts.csv')\n",
    "\n",
    "text_data.head()"
   ]
  },
  {
   "cell_type": "code",
   "execution_count": 20,
   "id": "d3a47169",
   "metadata": {},
   "outputs": [],
   "source": [
    "# X, y = text_data['text'], text_data['mortality']\n",
    "\n",
    "# X_train, X_test, y_train, y_test = train_test_split(X, y, test_size=0.2, random_state=39, stratify=y)"
   ]
  },
  {
   "cell_type": "code",
   "execution_count": 21,
   "id": "cdcbb739",
   "metadata": {},
   "outputs": [],
   "source": [
    "train_data = text_data[text_data['hadm_id'].isin(set(train_hadm_idx))]\n",
    "val_data = text_data[text_data['hadm_id'].isin(set(val_hadm_idx))]\n",
    "test_data = text_data[text_data['hadm_id'].isin(set(test_hadm_idx))]\n",
    "\n",
    "X_train, y_train = train_data['text'],  train_data['mortality']\n",
    "X_val, y_val = val_data['text'],  val_data['mortality']\n",
    "X_test, y_test = test_data['text'],  test_data['mortality']"
   ]
  },
  {
   "cell_type": "code",
   "execution_count": 22,
   "id": "61af9406",
   "metadata": {},
   "outputs": [],
   "source": [
    "# find the joint hadm ids for train/test/val\n",
    "join_train_hadm_idx = np.unique(train_data['hadm_id'])\n",
    "join_val_hadm_idx = np.unique(val_data['hadm_id'])\n",
    "join_test_hadm_idx = np.unique(test_data['hadm_id'])"
   ]
  },
  {
   "cell_type": "code",
   "execution_count": 23,
   "id": "4fa1c852",
   "metadata": {},
   "outputs": [],
   "source": [
    "with open('./ids.npy', 'wb') as f:\n",
    "    np.save(f, join_train_hadm_idx)\n",
    "    np.save(f, join_val_hadm_idx)\n",
    "    np.save(f, join_test_hadm_idx)"
   ]
  },
  {
   "cell_type": "code",
   "execution_count": 24,
   "id": "f2f691a6",
   "metadata": {},
   "outputs": [],
   "source": [
    "# modify the time series data to have same hadm id as text data\n",
    "X_TRAIN = X_TRAIN[np.in1d(train_hadm_idx, join_train_hadm_idx)]\n",
    "Y_TRAIN = Y_TRAIN[np.in1d(train_hadm_idx, join_train_hadm_idx)]\n",
    "\n",
    "X_VAL = X_VAL[np.in1d(val_hadm_idx, join_val_hadm_idx)]\n",
    "Y_VAL = Y_VAL[np.in1d(val_hadm_idx, join_val_hadm_idx)]\n",
    "\n",
    "X_TEST = X_TEST[np.in1d(test_hadm_idx, join_test_hadm_idx)]\n",
    "Y_TEST = Y_TEST[np.in1d(test_hadm_idx, join_test_hadm_idx)]\n"
   ]
  },
  {
   "cell_type": "code",
   "execution_count": 25,
   "id": "cdd07b71",
   "metadata": {},
   "outputs": [
    {
     "data": {
      "text/plain": [
       "(1529,)"
      ]
     },
     "execution_count": 25,
     "metadata": {},
     "output_type": "execute_result"
    }
   ],
   "source": [
    "X_train.shape"
   ]
  },
  {
   "cell_type": "code",
   "execution_count": 26,
   "id": "fe43112c",
   "metadata": {
    "scrolled": true
   },
   "outputs": [
    {
     "data": {
      "text/plain": [
       "(1529, 24, 34)"
      ]
     },
     "execution_count": 26,
     "metadata": {},
     "output_type": "execute_result"
    }
   ],
   "source": [
    "X_TRAIN.shape"
   ]
  },
  {
   "cell_type": "code",
   "execution_count": 27,
   "id": "0fe64692",
   "metadata": {},
   "outputs": [],
   "source": [
    "NUM_WORDS = 3000\n",
    "\n",
    "# Tokenize the train text\n",
    "train_text = X_train.to_numpy()\n",
    "\n",
    "tokenizer = Tokenizer(\n",
    "    num_words=NUM_WORDS, \n",
    "    filters='!\"#$%&()*+,-./:;<=>?@[\\\\]^_`{|}~\\t\\n', \n",
    "    lower=True,\n",
    "    split=\" \",\n",
    "    char_level=False,\n",
    "    oov_token='<unk>',\n",
    "    document_count=0\n",
    ")\n",
    "\n",
    "tokenizer.fit_on_texts(train_text)\n",
    "tokenizer.word_index['<pad>'] = 0\n",
    "tokenizer.index_word[0] = '<pad>'"
   ]
  },
  {
   "cell_type": "code",
   "execution_count": 28,
   "id": "7b637230",
   "metadata": {},
   "outputs": [],
   "source": [
    "MAX_LEN = 1000\n",
    "\n",
    "X_train_seqs = tokenizer.texts_to_sequences(train_text)\n",
    "X_train_seqs = keras.preprocessing.sequence.pad_sequences(X_train_seqs, maxlen=MAX_LEN, padding='post')\n",
    "y_train_labels = y_train.to_numpy().flatten()\n",
    "\n",
    "X_val_text = X_val.to_numpy()\n",
    "X_val_seqs = tokenizer.texts_to_sequences(X_val_text)\n",
    "X_val_seqs = keras.preprocessing.sequence.pad_sequences(X_val_seqs, maxlen=MAX_LEN, padding='post')\n",
    "y_val_labels = y_val.to_numpy().flatten()\n",
    "\n",
    "X_test_text = X_test.to_numpy()\n",
    "X_test_seqs = tokenizer.texts_to_sequences(X_test_text)\n",
    "X_test_seqs = keras.preprocessing.sequence.pad_sequences(X_test_seqs, maxlen=MAX_LEN, padding='post')\n",
    "y_test_labels = y_test.to_numpy().flatten()"
   ]
  },
  {
   "cell_type": "code",
   "execution_count": 29,
   "id": "9361b2da",
   "metadata": {},
   "outputs": [
    {
     "data": {
      "text/plain": [
       "(1529, 1000)"
      ]
     },
     "execution_count": 29,
     "metadata": {},
     "output_type": "execute_result"
    }
   ],
   "source": [
    "X_train_seqs.shape\n",
    "\n",
    "# (30455, 606752) without preprocessing/limiting and truncating"
   ]
  },
  {
   "cell_type": "markdown",
   "id": "db5271a3",
   "metadata": {},
   "source": [
    "## Compensate for imbalanced data"
   ]
  },
  {
   "cell_type": "code",
   "execution_count": 30,
   "id": "afd801dc",
   "metadata": {},
   "outputs": [
    {
     "name": "stdout",
     "output_type": "stream",
     "text": [
      "Examples:\n",
      "    Total: 1529\n",
      "    Positive: 273 (17.85% of total)\n",
      "\n"
     ]
    }
   ],
   "source": [
    "neg, pos = np.bincount(y_train_labels)\n",
    "total = neg + pos\n",
    "print('Examples:\\n    Total: {}\\n    Positive: {} ({:.2f}% of total)\\n'.format(total, pos, 100 * pos / total))"
   ]
  },
  {
   "cell_type": "code",
   "execution_count": 31,
   "id": "eb21c508",
   "metadata": {},
   "outputs": [
    {
     "name": "stdout",
     "output_type": "stream",
     "text": [
      "Weight for class 0: 0.61\n",
      "Weight for class 1: 2.80\n"
     ]
    }
   ],
   "source": [
    "# Scaling by total/2 helps keep the loss to a similar magnitude.\n",
    "# The sum of the weights of all examples stays the same.\n",
    "weight_for_0 = (1 / neg) * (total / 2.0)\n",
    "weight_for_1 = (1 / pos) * (total / 2.0)\n",
    "\n",
    "class_weight = {0: weight_for_0, 1: weight_for_1}\n",
    "\n",
    "print('Weight for class 0: {:.2f}'.format(weight_for_0))\n",
    "print('Weight for class 1: {:.2f}'.format(weight_for_1))"
   ]
  },
  {
   "cell_type": "code",
   "execution_count": 32,
   "id": "9263cbe1",
   "metadata": {},
   "outputs": [
    {
     "data": {
      "text/plain": [
       "array([-1.52621555])"
      ]
     },
     "execution_count": 32,
     "metadata": {},
     "output_type": "execute_result"
    }
   ],
   "source": [
    "initial_bias = np.log([pos/neg])\n",
    "initial_bias"
   ]
  },
  {
   "cell_type": "markdown",
   "id": "619b088e",
   "metadata": {},
   "source": [
    "## Use the composite model"
   ]
  },
  {
   "cell_type": "code",
   "execution_count": 46,
   "id": "95574175",
   "metadata": {},
   "outputs": [],
   "source": [
    "def CompositeModel(n_timesteps, n_features, text_input_size, initial_bias): # n_features2=1 for text data\n",
    "    # classifier 1 (for time series):\n",
    "    inputs1 = keras.Input(shape=(n_timesteps, n_features), name=\"temporal_input\")\n",
    "    x = keras.layers.LSTM(32, activation='tanh', \n",
    "                                kernel_regularizer=keras.regularizers.L2(0.01), \n",
    "                                recurrent_regularizer=keras.regularizers.L2(0.01), \n",
    "                                bias_regularizer=keras.regularizers.L2(0.01),\n",
    "                                name=\"temporal_lstm\")(inputs1)\n",
    "    output1 = keras.layers.Dropout(0.3, seed=SEED, name=\"temporal_dropout\")(x)\n",
    "#     output1 = keras.layers.BatchNormalization()(x)\n",
    "\n",
    "    classifier1 = keras.Model(inputs1, output1, name=\"classifier1\")\n",
    "\n",
    "    # classifier 2 (for text data)\n",
    "    inputs2 = keras.Input(shape=text_input_size, name=\"text_input\")\n",
    "    x = keras.layers.Embedding(input_dim=NUM_WORDS, output_dim=8, \n",
    "                               input_length=text_input_size, name=\"text_embedding\")(inputs2)\n",
    "    x = keras.layers.LSTM(32, activation='tanh', \n",
    "                                kernel_regularizer=keras.regularizers.L2(0.01), \n",
    "                                recurrent_regularizer=keras.regularizers.L2(0.01), \n",
    "                                bias_regularizer=keras.regularizers.L2(0.01),\n",
    "                                name=\"text_lstm\")(x)\n",
    "    output2 = keras.layers.Dropout(0.3, seed=SEED, name=\"text_dropout\")(x)\n",
    "#     output2 = keras.layers.BatchNormalization()(x)\n",
    "\n",
    "    classifier2 = keras.models.Model(inputs2, output2, name=\"classifier2\")\n",
    "\n",
    "    # final prediction\n",
    "    combined = keras.layers.concatenate([classifier1.output, classifier2.output])\n",
    "    # combined outputs\n",
    "    x = keras.layers.Dense(8, activation=\"relu\")(combined)\n",
    "    outputs3 = keras.layers.Dense(1, activation=\"sigmoid\",\n",
    "                                 bias_initializer=keras.initializers.Constant(initial_bias))(x)\n",
    "\n",
    "    composite_model = keras.models.Model([classifier1.input, classifier2.input], outputs3)\n",
    "    \n",
    "    optimizer = keras.optimizers.RMSprop(lr=0.001)\n",
    "    composite_model.compile(optimizer=optimizer, loss='binary_crossentropy', metrics=['accuracy'])\n",
    "    \n",
    "    return composite_model"
   ]
  },
  {
   "cell_type": "code",
   "execution_count": 47,
   "id": "ca85ce93",
   "metadata": {},
   "outputs": [
    {
     "name": "stdout",
     "output_type": "stream",
     "text": [
      "Model: \"model_3\"\n",
      "__________________________________________________________________________________________________\n",
      "Layer (type)                    Output Shape         Param #     Connected to                     \n",
      "==================================================================================================\n",
      "text_input (InputLayer)         [(None, 1000)]       0                                            \n",
      "__________________________________________________________________________________________________\n",
      "temporal_input (InputLayer)     [(None, 24, 34)]     0                                            \n",
      "__________________________________________________________________________________________________\n",
      "text_embedding (Embedding)      (None, 1000, 8)      24000       text_input[0][0]                 \n",
      "__________________________________________________________________________________________________\n",
      "temporal_lstm (LSTM)            (None, 32)           8576        temporal_input[0][0]             \n",
      "__________________________________________________________________________________________________\n",
      "text_lstm (LSTM)                (None, 32)           5248        text_embedding[0][0]             \n",
      "__________________________________________________________________________________________________\n",
      "temporal_dropout (Dropout)      (None, 32)           0           temporal_lstm[0][0]              \n",
      "__________________________________________________________________________________________________\n",
      "text_dropout (Dropout)          (None, 32)           0           text_lstm[0][0]                  \n",
      "__________________________________________________________________________________________________\n",
      "concatenate_3 (Concatenate)     (None, 64)           0           temporal_dropout[0][0]           \n",
      "                                                                 text_dropout[0][0]               \n",
      "__________________________________________________________________________________________________\n",
      "dense_6 (Dense)                 (None, 8)            520         concatenate_3[0][0]              \n",
      "__________________________________________________________________________________________________\n",
      "dense_7 (Dense)                 (None, 1)            9           dense_6[0][0]                    \n",
      "==================================================================================================\n",
      "Total params: 38,353\n",
      "Trainable params: 38,353\n",
      "Non-trainable params: 0\n",
      "__________________________________________________________________________________________________\n"
     ]
    }
   ],
   "source": [
    "# random.seed(SEED)\n",
    "# np.random.seed(SEED)\n",
    "# tf.random.set_seed(SEED)\n",
    "\n",
    "composite_model = CompositeModel(\n",
    "    n_timesteps=24, n_features=no_feature_cols, text_input_size=MAX_LEN, initial_bias=initial_bias)\n",
    "\n",
    "composite_model.summary()"
   ]
  },
  {
   "cell_type": "code",
   "execution_count": 48,
   "id": "9810a92e",
   "metadata": {
    "scrolled": true
   },
   "outputs": [
    {
     "name": "stdout",
     "output_type": "stream",
     "text": [
      "Epoch 1/200\n",
      "12/12 [==============================] - 3s 80ms/step - loss: 2.6992 - accuracy: 0.8342 - val_loss: 2.1251 - val_accuracy: 0.8082\n",
      "Epoch 2/200\n",
      "12/12 [==============================] - 0s 42ms/step - loss: 2.3643 - accuracy: 0.8302 - val_loss: 2.1121 - val_accuracy: 0.6027\n",
      "Epoch 3/200\n",
      "12/12 [==============================] - 0s 41ms/step - loss: 2.1075 - accuracy: 0.6298 - val_loss: 1.9322 - val_accuracy: 0.6941\n",
      "Epoch 4/200\n",
      "12/12 [==============================] - 0s 41ms/step - loss: 1.9827 - accuracy: 0.6415 - val_loss: 1.8241 - val_accuracy: 0.6621\n",
      "Epoch 5/200\n",
      "12/12 [==============================] - 0s 40ms/step - loss: 1.8375 - accuracy: 0.6302 - val_loss: 1.7086 - val_accuracy: 0.6758\n",
      "Epoch 6/200\n",
      "12/12 [==============================] - 0s 40ms/step - loss: 1.7081 - accuracy: 0.6545 - val_loss: 1.5985 - val_accuracy: 0.6986\n",
      "Epoch 7/200\n",
      "12/12 [==============================] - 0s 41ms/step - loss: 1.6060 - accuracy: 0.6931 - val_loss: 1.5434 - val_accuracy: 0.6164\n",
      "Epoch 8/200\n",
      "12/12 [==============================] - 0s 41ms/step - loss: 1.5086 - accuracy: 0.6973 - val_loss: 1.5749 - val_accuracy: 0.4977\n",
      "Epoch 9/200\n",
      "12/12 [==============================] - 0s 41ms/step - loss: 1.4113 - accuracy: 0.6887 - val_loss: 1.3940 - val_accuracy: 0.6621\n",
      "Epoch 10/200\n",
      "12/12 [==============================] - 0s 40ms/step - loss: 1.3334 - accuracy: 0.7590 - val_loss: 1.3733 - val_accuracy: 0.6484\n",
      "Epoch 11/200\n",
      "12/12 [==============================] - 0s 42ms/step - loss: 1.2460 - accuracy: 0.8046 - val_loss: 1.2392 - val_accuracy: 0.7534\n",
      "Epoch 12/200\n",
      "12/12 [==============================] - 0s 40ms/step - loss: 1.2121 - accuracy: 0.8269 - val_loss: 1.2328 - val_accuracy: 0.7489\n",
      "Epoch 13/200\n",
      "12/12 [==============================] - 0s 40ms/step - loss: 1.0840 - accuracy: 0.8713 - val_loss: 1.1189 - val_accuracy: 0.8311\n",
      "Epoch 14/200\n",
      "12/12 [==============================] - 0s 42ms/step - loss: 1.0872 - accuracy: 0.8774 - val_loss: 1.0876 - val_accuracy: 0.8402\n",
      "Epoch 15/200\n",
      "12/12 [==============================] - 1s 42ms/step - loss: 1.0159 - accuracy: 0.8957 - val_loss: 1.0615 - val_accuracy: 0.8265\n",
      "Epoch 16/200\n",
      "12/12 [==============================] - 0s 40ms/step - loss: 1.0051 - accuracy: 0.8815 - val_loss: 1.0560 - val_accuracy: 0.8219\n",
      "Epoch 17/200\n",
      "12/12 [==============================] - 0s 40ms/step - loss: 0.9520 - accuracy: 0.9151 - val_loss: 1.0801 - val_accuracy: 0.7945\n",
      "Epoch 18/200\n",
      "12/12 [==============================] - 0s 41ms/step - loss: 0.9171 - accuracy: 0.9169 - val_loss: 1.0132 - val_accuracy: 0.8219\n",
      "Epoch 19/200\n",
      "12/12 [==============================] - 0s 41ms/step - loss: 0.9279 - accuracy: 0.9078 - val_loss: 1.0148 - val_accuracy: 0.8219\n",
      "Epoch 20/200\n",
      "12/12 [==============================] - 0s 40ms/step - loss: 0.8559 - accuracy: 0.9339 - val_loss: 1.0661 - val_accuracy: 0.7900\n",
      "Epoch 21/200\n",
      "12/12 [==============================] - 0s 41ms/step - loss: 0.8196 - accuracy: 0.9283 - val_loss: 0.9434 - val_accuracy: 0.8493\n",
      "Epoch 22/200\n",
      "12/12 [==============================] - 0s 41ms/step - loss: 0.8734 - accuracy: 0.9270 - val_loss: 0.9371 - val_accuracy: 0.8630\n",
      "Epoch 23/200\n",
      "12/12 [==============================] - 0s 42ms/step - loss: 0.8970 - accuracy: 0.9414 - val_loss: 4.5372 - val_accuracy: 0.2648\n",
      "Epoch 24/200\n",
      "12/12 [==============================] - 0s 41ms/step - loss: 1.5088 - accuracy: 0.6872 - val_loss: 0.9173 - val_accuracy: 0.8539\n",
      "Epoch 25/200\n",
      "12/12 [==============================] - 0s 41ms/step - loss: 0.8049 - accuracy: 0.9301 - val_loss: 0.9582 - val_accuracy: 0.8311\n",
      "Epoch 26/200\n",
      "12/12 [==============================] - 0s 43ms/step - loss: 0.9050 - accuracy: 0.8820 - val_loss: 0.9578 - val_accuracy: 0.8311\n",
      "Epoch 27/200\n",
      "12/12 [==============================] - 0s 41ms/step - loss: 0.7274 - accuracy: 0.9521 - val_loss: 0.9017 - val_accuracy: 0.8493\n",
      "Epoch 28/200\n",
      "12/12 [==============================] - 0s 41ms/step - loss: 0.7001 - accuracy: 0.9580 - val_loss: 0.9396 - val_accuracy: 0.8082\n",
      "Epoch 29/200\n",
      "12/12 [==============================] - 0s 40ms/step - loss: 0.7164 - accuracy: 0.9521 - val_loss: 0.8863 - val_accuracy: 0.8402\n",
      "Epoch 30/200\n",
      "12/12 [==============================] - 0s 42ms/step - loss: 0.7286 - accuracy: 0.9607 - val_loss: 0.8812 - val_accuracy: 0.8219\n",
      "Epoch 31/200\n",
      "12/12 [==============================] - 0s 42ms/step - loss: 0.7290 - accuracy: 0.9479 - val_loss: 0.9724 - val_accuracy: 0.7991\n",
      "Epoch 32/200\n",
      "12/12 [==============================] - 0s 41ms/step - loss: 0.6045 - accuracy: 0.9677 - val_loss: 0.8639 - val_accuracy: 0.8584\n",
      "Epoch 33/200\n",
      "12/12 [==============================] - 0s 40ms/step - loss: 0.6609 - accuracy: 0.9703 - val_loss: 0.9290 - val_accuracy: 0.8265\n",
      "Epoch 34/200\n",
      "12/12 [==============================] - 0s 39ms/step - loss: 0.5897 - accuracy: 0.9803 - val_loss: 0.9406 - val_accuracy: 0.8037\n",
      "Epoch 35/200\n",
      "12/12 [==============================] - 0s 41ms/step - loss: 0.8935 - accuracy: 0.8850 - val_loss: 0.9689 - val_accuracy: 0.8265\n",
      "Epoch 36/200\n",
      "12/12 [==============================] - 0s 41ms/step - loss: 0.9736 - accuracy: 0.8381 - val_loss: 0.8232 - val_accuracy: 0.8630\n",
      "Epoch 37/200\n",
      "12/12 [==============================] - 0s 41ms/step - loss: 0.5803 - accuracy: 0.9669 - val_loss: 0.8430 - val_accuracy: 0.8539\n",
      "Epoch 38/200\n",
      "12/12 [==============================] - 0s 42ms/step - loss: 0.5577 - accuracy: 0.9795 - val_loss: 0.8753 - val_accuracy: 0.8402\n",
      "Epoch 39/200\n",
      "12/12 [==============================] - 0s 41ms/step - loss: 0.5356 - accuracy: 0.9761 - val_loss: 1.7314 - val_accuracy: 0.6301\n",
      "Epoch 40/200\n",
      "12/12 [==============================] - 0s 39ms/step - loss: 0.7365 - accuracy: 0.9118 - val_loss: 0.8455 - val_accuracy: 0.8356\n",
      "Epoch 41/200\n",
      "12/12 [==============================] - 0s 41ms/step - loss: 0.5347 - accuracy: 0.9761 - val_loss: 0.9125 - val_accuracy: 0.8311\n",
      "Epoch 42/200\n",
      "12/12 [==============================] - 0s 42ms/step - loss: 0.5110 - accuracy: 0.9789 - val_loss: 1.4425 - val_accuracy: 0.6575\n",
      "Epoch 43/200\n",
      "12/12 [==============================] - 0s 41ms/step - loss: 0.6582 - accuracy: 0.9209 - val_loss: 0.8440 - val_accuracy: 0.7991\n",
      "Epoch 44/200\n",
      "12/12 [==============================] - 0s 41ms/step - loss: 0.5200 - accuracy: 0.9693 - val_loss: 0.8430 - val_accuracy: 0.8356\n",
      "Epoch 45/200\n",
      "12/12 [==============================] - 0s 40ms/step - loss: 0.5323 - accuracy: 0.9574 - val_loss: 0.7809 - val_accuracy: 0.8447\n",
      "Epoch 46/200\n",
      "12/12 [==============================] - 0s 42ms/step - loss: 0.5185 - accuracy: 0.9742 - val_loss: 1.4378 - val_accuracy: 0.7489\n",
      "Epoch 47/200\n",
      "12/12 [==============================] - 0s 40ms/step - loss: 0.6171 - accuracy: 0.9133 - val_loss: 0.8740 - val_accuracy: 0.8265\n",
      "Epoch 48/200\n",
      "12/12 [==============================] - 0s 41ms/step - loss: 0.4650 - accuracy: 0.9759 - val_loss: 0.8038 - val_accuracy: 0.8311\n",
      "Epoch 49/200\n",
      "12/12 [==============================] - 0s 39ms/step - loss: 0.4699 - accuracy: 0.9707 - val_loss: 0.9693 - val_accuracy: 0.8356\n",
      "Epoch 50/200\n",
      "12/12 [==============================] - 0s 40ms/step - loss: 0.5222 - accuracy: 0.9570 - val_loss: 0.7923 - val_accuracy: 0.8493\n",
      "Epoch 51/200\n",
      "12/12 [==============================] - 0s 42ms/step - loss: 0.4623 - accuracy: 0.9774 - val_loss: 0.7940 - val_accuracy: 0.7717\n",
      "Epoch 52/200\n",
      "12/12 [==============================] - 0s 41ms/step - loss: 0.4748 - accuracy: 0.9734 - val_loss: 0.8304 - val_accuracy: 0.8219\n",
      "Epoch 53/200\n",
      "12/12 [==============================] - 0s 41ms/step - loss: 0.4179 - accuracy: 0.9822 - val_loss: 0.7512 - val_accuracy: 0.8493\n",
      "Epoch 54/200\n",
      "12/12 [==============================] - 0s 40ms/step - loss: 0.4671 - accuracy: 0.9684 - val_loss: 0.8252 - val_accuracy: 0.7763\n",
      "Epoch 55/200\n",
      "12/12 [==============================] - 0s 41ms/step - loss: 0.4936 - accuracy: 0.9454 - val_loss: 0.8312 - val_accuracy: 0.8265\n",
      "Epoch 56/200\n",
      "12/12 [==============================] - 0s 40ms/step - loss: 0.4477 - accuracy: 0.9624 - val_loss: 0.8349 - val_accuracy: 0.7671\n",
      "Epoch 57/200\n",
      "12/12 [==============================] - 0s 41ms/step - loss: 0.4831 - accuracy: 0.9358 - val_loss: 0.7574 - val_accuracy: 0.8128\n",
      "Epoch 58/200\n",
      "12/12 [==============================] - 0s 39ms/step - loss: 0.4471 - accuracy: 0.9734 - val_loss: 0.7319 - val_accuracy: 0.8219\n",
      "Epoch 59/200\n",
      "12/12 [==============================] - 0s 41ms/step - loss: 0.4745 - accuracy: 0.9664 - val_loss: 0.7771 - val_accuracy: 0.8402\n",
      "Epoch 60/200\n",
      "12/12 [==============================] - 0s 40ms/step - loss: 0.3973 - accuracy: 0.9782 - val_loss: 0.7624 - val_accuracy: 0.8402\n",
      "Epoch 61/200\n",
      "12/12 [==============================] - 0s 40ms/step - loss: 0.3949 - accuracy: 0.9730 - val_loss: 0.7572 - val_accuracy: 0.7945\n",
      "Epoch 62/200\n",
      "12/12 [==============================] - 0s 42ms/step - loss: 0.3776 - accuracy: 0.9762 - val_loss: 0.7862 - val_accuracy: 0.7671\n",
      "Epoch 63/200\n",
      "12/12 [==============================] - 0s 42ms/step - loss: 0.3555 - accuracy: 0.9775 - val_loss: 0.7998 - val_accuracy: 0.8356\n",
      "Epoch 64/200\n",
      "12/12 [==============================] - 0s 42ms/step - loss: 0.4416 - accuracy: 0.9499 - val_loss: 0.7562 - val_accuracy: 0.7900\n",
      "Epoch 65/200\n",
      "12/12 [==============================] - 0s 41ms/step - loss: 0.4119 - accuracy: 0.9596 - val_loss: 0.6820 - val_accuracy: 0.8493\n",
      "Epoch 66/200\n",
      "12/12 [==============================] - 0s 41ms/step - loss: 0.5447 - accuracy: 0.9381 - val_loss: 0.6720 - val_accuracy: 0.8721\n",
      "Epoch 67/200\n",
      "12/12 [==============================] - 0s 41ms/step - loss: 0.6037 - accuracy: 0.9094 - val_loss: 0.7941 - val_accuracy: 0.8630\n",
      "Epoch 68/200\n",
      "12/12 [==============================] - 0s 41ms/step - loss: 0.3579 - accuracy: 0.9780 - val_loss: 0.7591 - val_accuracy: 0.8219\n",
      "Epoch 69/200\n",
      "12/12 [==============================] - 0s 41ms/step - loss: 0.3448 - accuracy: 0.9712 - val_loss: 0.7663 - val_accuracy: 0.8311\n",
      "Epoch 70/200\n",
      "12/12 [==============================] - 0s 41ms/step - loss: 0.3132 - accuracy: 0.9867 - val_loss: 0.7620 - val_accuracy: 0.8174\n",
      "Epoch 71/200\n",
      "12/12 [==============================] - 0s 40ms/step - loss: 0.3251 - accuracy: 0.9867 - val_loss: 0.7980 - val_accuracy: 0.7808\n",
      "Epoch 72/200\n",
      "12/12 [==============================] - 0s 41ms/step - loss: 0.3671 - accuracy: 0.9582 - val_loss: 0.7453 - val_accuracy: 0.8037\n",
      "Epoch 73/200\n",
      "12/12 [==============================] - 0s 42ms/step - loss: 0.3825 - accuracy: 0.9640 - val_loss: 0.7204 - val_accuracy: 0.8082\n",
      "Epoch 74/200\n",
      "12/12 [==============================] - 0s 42ms/step - loss: 0.4086 - accuracy: 0.9759 - val_loss: 0.7837 - val_accuracy: 0.7580\n",
      "Epoch 75/200\n",
      "12/12 [==============================] - 0s 41ms/step - loss: 0.3893 - accuracy: 0.9700 - val_loss: 0.7754 - val_accuracy: 0.7489\n",
      "Epoch 76/200\n",
      "12/12 [==============================] - 0s 41ms/step - loss: 0.3780 - accuracy: 0.9668 - val_loss: 0.7712 - val_accuracy: 0.7763\n",
      "Epoch 77/200\n",
      "12/12 [==============================] - 0s 41ms/step - loss: 0.3983 - accuracy: 0.9441 - val_loss: 0.7428 - val_accuracy: 0.8219\n",
      "Epoch 78/200\n",
      "12/12 [==============================] - 0s 40ms/step - loss: 0.4490 - accuracy: 0.9487 - val_loss: 0.8067 - val_accuracy: 0.8128\n",
      "Epoch 79/200\n",
      "12/12 [==============================] - 0s 41ms/step - loss: 0.3322 - accuracy: 0.9773 - val_loss: 0.8018 - val_accuracy: 0.7945\n",
      "Epoch 80/200\n",
      "12/12 [==============================] - 0s 42ms/step - loss: 0.3144 - accuracy: 0.9748 - val_loss: 0.7520 - val_accuracy: 0.8219\n",
      "Epoch 81/200\n",
      "12/12 [==============================] - 0s 41ms/step - loss: 0.3579 - accuracy: 0.9696 - val_loss: 0.7205 - val_accuracy: 0.8493\n",
      "Epoch 82/200\n",
      "12/12 [==============================] - 0s 42ms/step - loss: 0.2981 - accuracy: 0.9866 - val_loss: 0.7480 - val_accuracy: 0.8128\n",
      "Epoch 83/200\n",
      "12/12 [==============================] - 0s 42ms/step - loss: 0.3048 - accuracy: 0.9829 - val_loss: 0.7809 - val_accuracy: 0.8174\n",
      "Epoch 84/200\n",
      "12/12 [==============================] - 0s 42ms/step - loss: 0.3102 - accuracy: 0.9768 - val_loss: 0.7223 - val_accuracy: 0.8265\n",
      "Epoch 85/200\n",
      "12/12 [==============================] - 0s 41ms/step - loss: 0.2996 - accuracy: 0.9856 - val_loss: 0.7083 - val_accuracy: 0.8402\n",
      "Epoch 86/200\n",
      "12/12 [==============================] - 0s 41ms/step - loss: 0.3384 - accuracy: 0.9722 - val_loss: 0.7786 - val_accuracy: 0.8493\n",
      "Epoch 87/200\n",
      "12/12 [==============================] - 0s 41ms/step - loss: 0.2864 - accuracy: 0.9883 - val_loss: 0.7545 - val_accuracy: 0.8082\n",
      "Epoch 88/200\n",
      "12/12 [==============================] - 0s 42ms/step - loss: 0.2845 - accuracy: 0.9859 - val_loss: 0.7691 - val_accuracy: 0.7991\n",
      "Epoch 89/200\n",
      "12/12 [==============================] - 0s 41ms/step - loss: 0.3053 - accuracy: 0.9785 - val_loss: 0.7629 - val_accuracy: 0.8128\n",
      "Epoch 90/200\n",
      "12/12 [==============================] - 0s 42ms/step - loss: 0.3063 - accuracy: 0.9713 - val_loss: 0.7047 - val_accuracy: 0.8447\n",
      "Epoch 91/200\n",
      "12/12 [==============================] - 0s 41ms/step - loss: 0.3076 - accuracy: 0.9781 - val_loss: 0.7223 - val_accuracy: 0.8219\n",
      "Epoch 92/200\n",
      "12/12 [==============================] - 0s 41ms/step - loss: 0.2876 - accuracy: 0.9801 - val_loss: 0.6946 - val_accuracy: 0.8311\n",
      "Epoch 93/200\n",
      "12/12 [==============================] - 0s 40ms/step - loss: 0.2945 - accuracy: 0.9749 - val_loss: 0.6892 - val_accuracy: 0.8219\n",
      "Epoch 94/200\n",
      "12/12 [==============================] - 0s 41ms/step - loss: 0.2682 - accuracy: 0.9864 - val_loss: 0.7213 - val_accuracy: 0.8174\n",
      "Epoch 95/200\n",
      "12/12 [==============================] - 0s 41ms/step - loss: 0.3598 - accuracy: 0.9611 - val_loss: 0.9973 - val_accuracy: 0.8219\n",
      "Epoch 96/200\n",
      "12/12 [==============================] - 0s 40ms/step - loss: 0.3840 - accuracy: 0.9515 - val_loss: 0.6844 - val_accuracy: 0.8493\n"
     ]
    }
   ],
   "source": [
    "# Define the early stopping criteria\n",
    "early_stopping_accuracy = keras.callbacks.EarlyStopping(monitor='val_loss', patience=30, restore_best_weights=True) # patient = 5 or 10 doesn't guarantee find an optimal\n",
    "\n",
    "# Train the model\n",
    "# reset_seeds()\n",
    "classifier_history = composite_model.fit([X_TRAIN, X_train_seqs], \n",
    "          y_train_labels, \n",
    "          epochs=200,\n",
    "          batch_size=128,\n",
    "          shuffle=True, \n",
    "          verbose=True, \n",
    "          validation_data=([X_VAL, X_val_seqs], y_val_labels),\n",
    "#           callbacks=[early_stopping_accuracy])\n",
    "          callbacks=[early_stopping_accuracy],\n",
    "          class_weight=class_weight)"
   ]
  },
  {
   "cell_type": "code",
   "execution_count": 50,
   "id": "5807a0b1",
   "metadata": {},
   "outputs": [
    {
     "name": "stdout",
     "output_type": "stream",
     "text": [
      "0.8489702517162472\n",
      "0.6826478558903236\n",
      "0.7628327753865773\n",
      "          Pred:pos  Pred:neg\n",
      "True:pos        30        38\n",
      "True:neg        28       341\n",
      "              precision    recall  f1-score   support\n",
      "\n",
      "           0       0.90      0.92      0.91       369\n",
      "           1       0.52      0.44      0.48        68\n",
      "\n",
      "    accuracy                           0.85       437\n",
      "   macro avg       0.71      0.68      0.69       437\n",
      "weighted avg       0.84      0.85      0.84       437\n",
      "\n"
     ]
    }
   ],
   "source": [
    "y_pred = composite_model.predict([X_TEST, X_test_seqs])\n",
    "y_pred_classes = np.array([1 if pred > 0.5 else 0 for pred in y_pred])\n",
    "\n",
    "# classification report\n",
    "acc = accuracy_score(y_true=y_test_labels, y_pred=y_pred_classes)\n",
    "print(acc)\n",
    "\n",
    "bal_acc = balanced_accuracy_score(y_true=y_test, y_pred=y_pred_classes)\n",
    "print(bal_acc)\n",
    "\n",
    "auc = roc_auc_score(y_true=y_test_labels, y_score=y_pred)\n",
    "print(auc)\n",
    "\n",
    "confusion_matrix_df = pd.DataFrame(\n",
    "        confusion_matrix(y_true=y_test_labels, y_pred=y_pred_classes, labels=[1, 0]),\n",
    "        index=['True:pos', 'True:neg'], \n",
    "        columns=['Pred:pos', 'Pred:neg']\n",
    "    )\n",
    "print(confusion_matrix_df)\n",
    "\n",
    "print(classification_report(y_true=y_test_labels, y_pred=y_pred_classes))"
   ]
  },
  {
   "cell_type": "code",
   "execution_count": 37,
   "id": "16098a16",
   "metadata": {},
   "outputs": [
    {
     "data": {
      "image/png": "[encoded data removed]",
      "text/plain": [
       "<IPython.core.display.Image object>"
      ]
     },
     "execution_count": 37,
     "metadata": {},
     "output_type": "execute_result"
    }
   ],
   "source": [
    "#plot the model structure\n",
    "keras.utils.plot_model(composite_model, show_shapes=True)\n"
   ]
  },
  {
   "cell_type": "code",
   "execution_count": 51,
   "id": "42eac62a",
   "metadata": {},
   "outputs": [],
   "source": [
    "# Method: For plotting the accuracy/loss of keras models\n",
    "def plot_graphs(history, string):\n",
    "    plt.plot(history.history[string])\n",
    "    plt.plot(history.history['val_'+string])\n",
    "    plt.xlabel(\"Epochs\")\n",
    "    plt.ylabel(string)\n",
    "    plt.legend([string, 'val_'+string])\n",
    "    plt.show()"
   ]
  },
  {
   "cell_type": "code",
   "execution_count": 52,
   "id": "51f9fd50",
   "metadata": {},
   "outputs": [
    {
     "data": {
      "image/png": "[encoded data removed]",
      "text/plain": [
       "<Figure size 432x288 with 1 Axes>"
      ]
     },
     "metadata": {
      "needs_background": "light"
     },
     "output_type": "display_data"
    },
    {
     "data": {
      "image/png": "[encoded data removed]",
      "text/plain": [
       "<Figure size 432x288 with 1 Axes>"
      ]
     },
     "metadata": {
      "needs_background": "light"
     },
     "output_type": "display_data"
    }
   ],
   "source": [
    "plot_graphs(classifier_history, \"loss\")\n",
    "plot_graphs(classifier_history, \"accuracy\")"
   ]
  }
 ],
 "metadata": {
  "kernelspec": {
   "display_name": "Python 3",
   "language": "python",
   "name": "python3"
  },
  "language_info": {
   "codemirror_mode": {
    "name": "ipython",
    "version": 3
   },
   "file_extension": ".py",
   "mimetype": "text/x-python",
   "name": "python",
   "nbconvert_exporter": "python",
   "pygments_lexer": "ipython3",
   "version": "3.7.10"
  }
 },
 "nbformat": 4,
 "nbformat_minor": 5
}
